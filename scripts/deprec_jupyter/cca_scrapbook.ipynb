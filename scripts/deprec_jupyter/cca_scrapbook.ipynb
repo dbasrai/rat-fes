{
 "cells": [
  {
   "cell_type": "code",
   "execution_count": 99,
   "id": "assisted-pantyhose",
   "metadata": {},
   "outputs": [
    {
     "name": "stdout",
     "output_type": "stream",
     "text": [
      "The autoreload extension is already loaded. To reload it, use:\n",
      "  %reload_ext autoreload\n"
     ]
    }
   ],
   "source": [
    "%matplotlib widget\n",
    "%load_ext autoreload\n",
    "%autoreload 2\n",
    "from src.folder_handler import *\n",
    "from src.cort_processor import *\n",
    "from src.cca_processor import *\n",
    "from src.tdt_support import *\n",
    "from src.plotter import *\n",
    "from src.decoders import *\n",
    "import pickle\n",
    "import scipy as spicy\n",
    "import numpy as np\n",
    "import matplotlib.pyplot as plt\n",
    "from  matplotlib.colors import LinearSegmentedColormap\n",
    "from src.wiener_filter import *\n",
    "from matplotlib.pyplot import cm"
   ]
  },
  {
   "cell_type": "code",
   "execution_count": 100,
   "id": "deluxe-jewelry",
   "metadata": {},
   "outputs": [],
   "source": [
    "import scipy.io as sio"
   ]
  },
  {
   "cell_type": "code",
   "execution_count": 101,
   "id": "right-division",
   "metadata": {},
   "outputs": [
    {
     "name": "stdout",
     "output_type": "stream",
     "text": [
      "this is filipe data i belive\n",
      "this is filipe data i belive\n"
     ]
    }
   ],
   "source": [
    "n6_1 = CortProcessor('/home/diya/Documents/rat-fes/data/filipe_data/mixed_n5_n9/N5_170929_No Obstacles_s.mat')\n",
    "n6_2 = CortProcessor('/home/diya/Documents/rat-fes/data/filipe_data/mixed_n5_n9/N6_171211_No Obstacles_s.mat')"
   ]
  },
  {
   "cell_type": "code",
   "execution_count": 102,
   "id": "natural-structure",
   "metadata": {},
   "outputs": [
    {
     "name": "stdout",
     "output_type": "stream",
     "text": [
      "should be good to align\n"
     ]
    }
   ],
   "source": [
    "sess = CCAProcessor(n6_1, n6_2)"
   ]
  },
  {
   "cell_type": "code",
   "execution_count": 30,
   "id": "cb1163a9-5ba3-434a-a8f5-8263ccd9fcf7",
   "metadata": {},
   "outputs": [
    {
     "name": "stdout",
     "output_type": "stream",
     "text": [
      "Singular matrix\n",
      "did you run process() first.\n"
     ]
    }
   ],
   "source": [
    "n6_2.decode_angles([sess.data['cp1']['proc_x']], [sess.data['cp1']['proc_y']])"
   ]
  },
  {
   "cell_type": "code",
   "execution_count": 64,
   "id": "016d2b74-8435-4917-b2ff-e99972ad5764",
   "metadata": {},
   "outputs": [],
   "source": [
    "full_temp = sess.data['cp1']['proc_x']"
   ]
  },
  {
   "cell_type": "code",
   "execution_count": 61,
   "id": "cf1feddb-02e8-4586-8b91-28caa2f534a6",
   "metadata": {},
   "outputs": [],
   "source": [
    "temp = sess.data['cp1']['proc_x'][:,4]"
   ]
  },
  {
   "cell_type": "code",
   "execution_count": 81,
   "id": "7c92869e-9e4b-4b86-bb8b-9e91f69f3ac2",
   "metadata": {},
   "outputs": [
    {
     "ename": "AxisError",
     "evalue": "axis 1 is out of bounds for array of dimension 1",
     "output_type": "error",
     "traceback": [
      "\u001b[0;31m---------------------------------------------------------------------------\u001b[0m",
      "\u001b[0;31mAxisError\u001b[0m                                 Traceback (most recent call last)",
      "\u001b[0;32m<ipython-input-81-2bb4ed46fe90>\u001b[0m in \u001b[0;36m<module>\u001b[0;34m\u001b[0m\n\u001b[1;32m      1\u001b[0m \u001b[0mtemp_rates\u001b[0m \u001b[0;34m=\u001b[0m \u001b[0mfull_temp\u001b[0m\u001b[0;34m.\u001b[0m\u001b[0mT\u001b[0m\u001b[0;34m\u001b[0m\u001b[0m\n\u001b[0;32m----> 2\u001b[0;31m \u001b[0mtemp_rates_remove\u001b[0m \u001b[0;34m=\u001b[0m \u001b[0mtemp_rates\u001b[0m\u001b[0;34m[\u001b[0m\u001b[0;34m~\u001b[0m\u001b[0mnp\u001b[0m\u001b[0;34m.\u001b[0m\u001b[0mall\u001b[0m\u001b[0;34m(\u001b[0m\u001b[0mnp\u001b[0m\u001b[0;34m.\u001b[0m\u001b[0maverage\u001b[0m\u001b[0;34m(\u001b[0m\u001b[0mtemp_rates\u001b[0m\u001b[0;34m,\u001b[0m \u001b[0;36m1\u001b[0m\u001b[0;34m)\u001b[0m \u001b[0;34m<\u001b[0m \u001b[0;36m.1\u001b[0m\u001b[0;34m,\u001b[0m \u001b[0maxis\u001b[0m\u001b[0;34m=\u001b[0m\u001b[0;36m1\u001b[0m\u001b[0;34m)\u001b[0m\u001b[0;34m]\u001b[0m\u001b[0;34m\u001b[0m\u001b[0m\n\u001b[0m",
      "\u001b[0;32m<__array_function__ internals>\u001b[0m in \u001b[0;36mall\u001b[0;34m(*args, **kwargs)\u001b[0m\n",
      "\u001b[0;32m~/anaconda3/envs/rat-fes/lib/python3.7/site-packages/numpy/core/fromnumeric.py\u001b[0m in \u001b[0;36mall\u001b[0;34m(a, axis, out, keepdims, where)\u001b[0m\n\u001b[1;32m   2437\u001b[0m     \"\"\"\n\u001b[1;32m   2438\u001b[0m     return _wrapreduction(a, np.logical_and, 'all', axis, None, out,\n\u001b[0;32m-> 2439\u001b[0;31m                           keepdims=keepdims, where=where)\n\u001b[0m\u001b[1;32m   2440\u001b[0m \u001b[0;34m\u001b[0m\u001b[0m\n\u001b[1;32m   2441\u001b[0m \u001b[0;34m\u001b[0m\u001b[0m\n",
      "\u001b[0;32m~/anaconda3/envs/rat-fes/lib/python3.7/site-packages/numpy/core/fromnumeric.py\u001b[0m in \u001b[0;36m_wrapreduction\u001b[0;34m(obj, ufunc, method, axis, dtype, out, **kwargs)\u001b[0m\n\u001b[1;32m     85\u001b[0m                 \u001b[0;32mreturn\u001b[0m \u001b[0mreduction\u001b[0m\u001b[0;34m(\u001b[0m\u001b[0maxis\u001b[0m\u001b[0;34m=\u001b[0m\u001b[0maxis\u001b[0m\u001b[0;34m,\u001b[0m \u001b[0mout\u001b[0m\u001b[0;34m=\u001b[0m\u001b[0mout\u001b[0m\u001b[0;34m,\u001b[0m \u001b[0;34m**\u001b[0m\u001b[0mpasskwargs\u001b[0m\u001b[0;34m)\u001b[0m\u001b[0;34m\u001b[0m\u001b[0m\n\u001b[1;32m     86\u001b[0m \u001b[0;34m\u001b[0m\u001b[0m\n\u001b[0;32m---> 87\u001b[0;31m     \u001b[0;32mreturn\u001b[0m \u001b[0mufunc\u001b[0m\u001b[0;34m.\u001b[0m\u001b[0mreduce\u001b[0m\u001b[0;34m(\u001b[0m\u001b[0mobj\u001b[0m\u001b[0;34m,\u001b[0m \u001b[0maxis\u001b[0m\u001b[0;34m,\u001b[0m \u001b[0mdtype\u001b[0m\u001b[0;34m,\u001b[0m \u001b[0mout\u001b[0m\u001b[0;34m,\u001b[0m \u001b[0;34m**\u001b[0m\u001b[0mpasskwargs\u001b[0m\u001b[0;34m)\u001b[0m\u001b[0;34m\u001b[0m\u001b[0m\n\u001b[0m\u001b[1;32m     88\u001b[0m \u001b[0;34m\u001b[0m\u001b[0m\n\u001b[1;32m     89\u001b[0m \u001b[0;34m\u001b[0m\u001b[0m\n",
      "\u001b[0;31mAxisError\u001b[0m: axis 1 is out of bounds for array of dimension 1"
     ]
    }
   ],
   "source": [
    "temp_rates = full_temp.T\n",
    "temp_rates_remove = temp_rates[~np.all(np.average(temp_rates, 1) < .1, axis=1)]"
   ]
  },
  {
   "cell_type": "code",
   "execution_count": 91,
   "id": "399f249a-ad38-41fe-b177-4ea8e4054020",
   "metadata": {},
   "outputs": [
    {
     "data": {
      "text/plain": [
       "array([False, False,  True, False,  True, False, False, False, False,\n",
       "       False, False, False, False])"
      ]
     },
     "execution_count": 91,
     "metadata": {},
     "output_type": "execute_result"
    }
   ],
   "source": [
    "np.average(full_temp, 0) < .1"
   ]
  },
  {
   "cell_type": "code",
   "execution_count": 98,
   "id": "7546ea94-1928-4c55-a0ff-f08fe869a635",
   "metadata": {},
   "outputs": [
    {
     "data": {
      "text/plain": [
       "(8749, 11)"
      ]
     },
     "execution_count": 98,
     "metadata": {},
     "output_type": "execute_result"
    }
   ],
   "source": [
    "full_temp[:, np.average(full_temp, 0) > .1].shape"
   ]
  },
  {
   "cell_type": "code",
   "execution_count": 77,
   "id": "531ab151-56d0-4d03-bf25-5d59dac71b26",
   "metadata": {},
   "outputs": [
    {
     "data": {
      "text/plain": [
       "array([1.42448610e+01, 2.81292633e+01, 2.47647350e-03, 4.37348530e+01,\n",
       "       4.40866711e-03, 5.73281830e+01, 6.33414753e+01, 2.79222210e+01,\n",
       "       9.01695079e+00, 3.94039356e-01, 1.23324492e+00, 4.75148300e+01,\n",
       "       5.49518230e+01])"
      ]
     },
     "execution_count": 77,
     "metadata": {},
     "output_type": "execute_result"
    }
   ],
   "source": [
    "np.average(full_temp, 0)"
   ]
  },
  {
   "cell_type": "code",
   "execution_count": 79,
   "id": "83bb371e-e7ec-45ff-9cc0-80f0578260f9",
   "metadata": {},
   "outputs": [
    {
     "data": {
      "text/plain": [
       "[<matplotlib.lines.Line2D at 0x7f8fbf6a64e0>]"
      ]
     },
     "execution_count": 79,
     "metadata": {},
     "output_type": "execute_result"
    },
    {
     "data": {
      "application/vnd.jupyter.widget-view+json": {
       "model_id": "0c7ec52f5321484592c3f72e740ec1d5",
       "version_major": 2,
       "version_minor": 0
      },
      "text/html": [
       "\n",
       "            <div style=\"display: inline-block;\">\n",
       "                <div class=\"jupyter-widgets widget-label\" style=\"text-align: center;\">\n",
       "                    Figure\n",
       "                </div>\n",
       "                <img src='data:image/png;base64,iVBORw0KGgoAAAANSUhEUgAAAoAAAAHgCAYAAAA10dzkAAAAOXRFWHRTb2Z0d2FyZQBNYXRwbG90bGliIHZlcnNpb24zLjQuMiwgaHR0cHM6Ly9tYXRwbG90bGliLm9yZy8rg+JYAAAACXBIWXMAAA9hAAAPYQGoP6dpAAAgNUlEQVR4nO3df3CV9Z3o8c+BmAMUEuRXAjVUqFZaUatSKdW2ujIi63Rra3url3bQ9dptF7Yiu7qyu1q1a0E7023tUNzdO+p2WmXr3lW3jkuHYsV1RBQsWvyBqHTAH0GLmwSoRiTf+8e9nnoKWBuTnDz5vl4zZybnnG9OPslDPG+f85wnpZRSCgAAsjGo1gMAANC3BCAAQGYEIABAZgQgAEBmBCAAQGYEIABAZgQgAEBmBCAAQGYEIABAZgQgAEBmBCAAQGYEIABAZgQgAEBmBCAAQGYEIABAZgQgAEBmBCAAQGYEIABAZgQgAEBmBCAAQGYEIABAZgQgAEBmBCAAQGYEIABAZgQgAEBmBCAAQGYEIABAZgQgAEBmBCAAQGYEIABAZgQgAEBmBCAAQGYEIABAZgQgAEBmBCAAQGYEIABAZgQgAEBmBCAAQGYEIABAZgQgAEBmBCAAQGYEIABAZgQgAEBmBCAAQGYEIABAZgQgAEBmBCAAQGYEIABAZgQgAEBmBCAAQGYEIABAZgQgAEBmBCAAQGYEIABAZgQgAEBmBCAAQGbqaj1AkXV1dcULL7wQI0aMiFKpVOtxAIB3IKUUO3fujAkTJsSgQXnuCxOA78ILL7wQLS0ttR4DAOiGbdu2xSGHHFLrMWpCAL4LI0aMiIj/9w+ooaGhxtMAAO9ER0dHtLS0VJ7HcyQA34U3X/ZtaGgQgABQMDkfvpXnC98AABkTgAAAmRGAAACZEYAAAJkRgAAAmRGAAACZEYAAAJkRgAAAmRGAAACZGbABuHjx4vjIRz4SI0aMiHHjxsWZZ54ZmzZtqlrz2muvxbx582L06NExfPjwOOuss2L79u01mhgAoG8M2ABcvXp1zJs3Lx544IFYuXJl7NmzJ0477bTYvXt3Zc1FF10UP/nJT+LWW2+N1atXxwsvvBCf/exnazg1AEDvK6WUUq2H6Asvv/xyjBs3LlavXh2f+MQnor29PcaOHRs333xzfO5zn4uIiCeffDI++MEPxpo1a+KjH/3o733Mjo6OaGxsjPb2dn8LGAAKwvP3AN4D+Lva29sjImLUqFEREbF+/frYs2dPzJw5s7JmypQpMXHixFizZs1+H6OzszM6OjqqLgDv1v1P/zq+vfKp2NuVxf+PA/1AFgHY1dUVCxYsiBNPPDGmTp0aERGtra1RX18fI0eOrFrb1NQUra2t+32cxYsXR2NjY+XS0tLS26MDGfif/3ttXLdqc/yfh5+r9ShAJrIIwHnz5sXGjRtj+fLl7+pxFi1aFO3t7ZXLtm3bemhCgIhtr/ym1iMAmair9QC9bf78+XHnnXfGvffeG4ccckjl9ubm5nj99dejra2tai/g9u3bo7m5eb+PVS6Xo1wu9/bIAAC9asDuAUwpxfz58+O2226Lu+++OyZNmlR1//HHHx8HHXRQrFq1qnLbpk2bYuvWrTFjxoy+HhcAoM8M2D2A8+bNi5tvvjnuuOOOGDFiROW4vsbGxhg6dGg0NjbG+eefHwsXLoxRo0ZFQ0ND/MVf/EXMmDHjHb0DGACgqAZsAC5btiwiIk4++eSq22+88cY499xzIyLiH/7hH2LQoEFx1llnRWdnZ8yaNSu+//3v9/GkAAB9a8AG4Ds5veGQIUNi6dKlsXTp0j6YCACgfxiwxwACALB/AhAAIDMCEAAgMwIQACAzAhAAIDMCEAAgMwIQACAzAhAAIDMCEAAgMwIQACAzAhAAIDMCEAAgMwIQACAzAhAAIDMCEAAgMwIQACAzAhAAIDMCEAAgMwIQACAzAhAAIDMCEAAgMwIQACAzAhAAIDMCEAAgMwIQACAzAhAAIDMCEAAgMwIQACAzAhAAIDMCEAAgMwIQACAzAhAAIDMCEAAgMwIQACAzAhAAIDMCEAAgMwIQACAzAhAAIDMCEAAgMwIQACAzAhAAIDMCEAAgMwIQACAzAhAAIDMCEAAgMwIQACAzAhAAIDMCEAAgMwIQACAzAhAAIDMCEAAgMwIQACAzAhAAIDMCEAAgMwIQACAzAhAAIDMCEAAgMwIQACAzAhAAIDMDNgDvvffe+NSnPhUTJkyIUqkUt99+e9X95557bpRKparL6aefXpthAQD60IANwN27d8cxxxwTS5cuPeCa008/PV588cXK5ZZbbunDCQEAaqOu1gP0ltmzZ8fs2bPfdk25XI7m5uY+mggAoH8YsHsA34l77rknxo0bF0cccUR89atfjR07drzt+s7Ozujo6Ki6AAAUTbYBePrpp8cPfvCDWLVqVVxzzTWxevXqmD17duzdu/eAn7N48eJobGysXFpaWvpwYgCAnjFgXwL+fc4+++zKx0cddVQcffTR8f73vz/uueeeOPXUU/f7OYsWLYqFCxdWrnd0dIhAAKBwst0D+LsmT54cY8aMiaeffvqAa8rlcjQ0NFRdAACKRgD+f88991zs2LEjxo8fX+tRAAB61YB9CXjXrl1Ve/O2bNkSGzZsiFGjRsWoUaPiyiuvjLPOOiuam5vjmWeeiUsuuSQOO+ywmDVrVg2nBgDofQM2ANetWxennHJK5fqbx+7NnTs3li1bFo8++mj8y7/8S7S1tcWECRPitNNOi2984xtRLpdrNTIAQJ8YsAF48sknR0rpgPf/9Kc/7cNpAAD6D8cAAgBkRgACAGRGAAIAZEYAAgBkRgACAGRGAAIAZEYAAgBkRgACAGRGAAL0E29z7nqAHiUAAQAyIwAB+olSqdYTALkQgAAAmRGAAACZEYAFs+yeZ+LH67bVegwAoMDqaj0A79wzL++Ka1Y8GRER/2NaS42nAQCKyh7AAul4dU+tRwAABgABCACQGQEIAJAZAVggJScJAwB6gAAEAMiMAAQAyIwABADIjAAsEEcAAgA9QQACAGRGAAIAZEYAAgBkRgAWiNMAAgA9QQACAGRGAAIAZEYAFkjJiWAAgB4gAAEAMiMAAQAyIwABADIjAAEAMiMAAQAyIwALKqVU6xEAgIISgAXiL4EAAD1BAAIAZEYAAgBkRgAWlEMAAYDuEoAAAJkRgAAAmRGAAACZEYAF5RBAAKC7BGCBOA8gANATBCAAQGYEYEH5U3AAQHcJwAIphdeAAYB3TwACAGRGAAIAZEYAFpQjAAGA7hKABeI0MDCweW8X0FcEYIF4cgAAeoIALCgxCAOPvfxAXxGABeLJAQDoCQIQACAzAhAAIDMCsKCSE8EAAN00YAPw3nvvjU996lMxYcKEKJVKcfvtt1fdn1KKyy+/PMaPHx9Dhw6NmTNnxubNm2sz7DvkGEAAoCcM2ADcvXt3HHPMMbF06dL93n/ttdfGddddF9dff32sXbs23vOe98SsWbPitdde6+NJAQD6Vl2tB+gts2fPjtmzZ+/3vpRSfOc734m/+7u/i09/+tMREfGDH/wgmpqa4vbbb4+zzz67L0cFAOhTA3YP4NvZsmVLtLa2xsyZMyu3NTY2xvTp02PNmjU1nOydcx5AAKC7BuwewLfT2toaERFNTU1Vtzc1NVXu25/Ozs7o7OysXO/o6OidAQ+gFA4CBADevSz3AHbX4sWLo7GxsXJpaWmp9UgAAH+wLAOwubk5IiK2b99edfv27dsr9+3PokWLor29vXLZtm1br84JANAbsgzASZMmRXNzc6xatapyW0dHR6xduzZmzJhxwM8rl8vR0NBQdQEAKJoBewzgrl274umnn65c37JlS2zYsCFGjRoVEydOjAULFsTf//3fx+GHHx6TJk2Kyy67LCZMmBBnnnlm7YYGAOgDAzYA161bF6ecckrl+sKFCyMiYu7cuXHTTTfFJZdcErt3744vf/nL0dbWFieddFKsWLEihgwZUquRAQD6xIANwJNPPjnS25wrpVQqxVVXXRVXXXVVH04FAFB7WR4DCACQMwFYICmc/RkAePcEIABAZgQgQD/hTzwCfUUAAgBkRgAC9BMlf+4b6CMCsEBK4dkBAHj3BCAAQGYEIABAZgQgAEBmBCAAQGYEIABAZgQgAEBmBCAAQGYEIABAZgQgAEBmBCAAQGYEIABAZgQgAEBmBCAAQGYEIABAZgRgQaVU6wkAgKISgAAAmRGAAACZEYAAAJkRgAAAmRGAAACZEYAAAJkRgAAAmRGAAACZEYAAAJkRgAAAmRGAAACZEYAAAJkRgAVSKtV6AgBgIBCAAACZEYAFlSLVegQAoKAEIABAZgQgAEBmBGCBJK/6AgA9QAACAGRGAAIAZEYAAgBkRgACAGRGAAIAZEYAAgBkRgAC9BNO9QT0FQEIAJAZAVggpVKtJwB6k99xoK8IQACAzAhAAIDMCMCCcrA4ANBdAhAAIDMCEAAgMwIQACAzAhAAIDMCEAAgMwIQACAzArBAnPoFAOgJWQfgFVdcEaVSqeoyZcqUWo8FANCr6mo9QK0deeSR8bOf/axyva4u+x8JADDAZV87dXV10dzcXOsxAAD6TNYvAUdEbN68OSZMmBCTJ0+OOXPmxNatWw+4trOzMzo6OqoufalU6tMvBwAMUFkH4PTp0+Omm26KFStWxLJly2LLli3x8Y9/PHbu3Lnf9YsXL47GxsbKpaWlpY8nBgB497IOwNmzZ8fnP//5OProo2PWrFlx1113RVtbW/z4xz/e7/pFixZFe3t75bJt27Y+nhgA4N3L/hjAtxo5cmR84AMfiKeffnq/95fL5SiXy308FQBAz8p6D+Dv2rVrVzzzzDMxfvz4Wo/yezklIADQXVkH4F/91V/F6tWr41e/+lXcf//98ZnPfCYGDx4c55xzTq1HAzLkZO9AX8n6JeDnnnsuzjnnnNixY0eMHTs2TjrppHjggQdi7NixtR4NAKDXZB2Ay5cvr/UIABVO9QT0laxfAgYAyJEABADIjAAEAMiMAAQAyIwABADIjAAsEG8QBAB6ggAEAMiMACwQfyQAAOgJAhAAIDMCEAAgMwIQACAzArCgUnJEIADQPQIQACAzAhAAIDMCEAAgMwIQACAzAhAAIDMCEAAgMwIQACAzArBASrUeAOhVTu8J9BUBCACQGQEI0E+U7OYH+ogABADIjAAEAMiMAAQAyIwABADIjAAskHSAjwEA/hACsEB2db5R6xEAgAFAABbIbQ8/X+sRAIABQAAWSPLCLwDQAwQgAEBmBCAAQGYEIABAZgQgAEBmBCAAQGYEIABAZgRggZSiVOsRAIABQAAWiPMAAgA9QQACAGRGAAIAZEYAFsgzL+2ufNzV5eVgGGiSX2ugjwjAAlnz7I7Kx7f94vkaTgIAFJkALKjWjtdqPQLQw0re6A/0EQEIAJAZAQgAkBkBCACQGQFYVN4tCAB0kwAsKP0HAHSXAAQAyIwABADIjAAsqORPBgAA3SQAAQAyIwABADIjAAEAMiMAAQAyIwALyntAAIDuEoAFpf8AgO4SgAVlDyAA0F0CEAAgM9kH4NKlS+PQQw+NIUOGxPTp0+PBBx+s9UgAAL0q6wD813/911i4cGF8/etfj4cffjiOOeaYmDVrVrz00ku1Hu33So4CBAC6KesA/Pa3vx0XXHBBnHfeefGhD30orr/++hg2bFjccMMNtR4NAKDXlFKmf1T29ddfj2HDhsW//du/xZlnnlm5fe7cudHW1hZ33HHHPp/T2dkZnZ2dlesdHR3R0tIS7e3t0dDQ0GOzffdnm+O6uzfvc/verupNNXhQqce+JlA7b/3d9nsN1b72R4fHhTMP79HH7OjoiMbGxh5//i6SuloPUCu//vWvY+/evdHU1FR1e1NTUzz55JP7/ZzFixfHlVde2euzpUj7xN7+vJM1QLH4vYZqDnnqHdkGYHcsWrQoFi5cWLn+5h7Anva/Pj45zjlh4j63T//mqsrH137u6PjkB8b2+NcGauONrhR19v7BPt5Tliq9Iduf6pgxY2Lw4MGxffv2qtu3b98ezc3N+/2ccrkc5XK512cbXq6L4b/nH3xzw5BoahjS67MAAANPtm8Cqa+vj+OPPz5WrfrtXrWurq5YtWpVzJgxo4aTAQD0rmz3AEZELFy4MObOnRvTpk2LE044Ib7zne/E7t2747zzzqv1aAAAvSbrAPzCF74QL7/8clx++eXR2toaH/7wh2PFihX7vDEEAGAgyToAIyLmz58f8+fPr/UYf7CSY8UBgG7K9hjAosvz7I0AQE8QgAAAmRGABeUlYACguwQgAEBmBCAAQGYEIABAZgRgQZXCQYAAQPcIQACAzAhAAIDMCMCCchoYAKC7BCAAQGYEIABAZgRgQXkFGADoLgEIAJAZAVggE0cNq/UIAMAAIAABADIjAAvEqV8AgJ4gAAEAMiMAC8QOQACgJwjAApl26KjfXlGDAEA3CcAC+eQHxlY+LilAAKCbBGCBvPVNIN4QAgB0lwAskLfu9dN/AEB3CcCCKtkFCAB0kwAsKP0HAHSXACwo/QcAdJcALCh7AAGA7hKAhaUAAYDuEYAFZQ8gANBdArCg9B8A0F0CsECqTwQtAQGA7hGAAACZEYAAAJkRgAXlBWAAoLsEYEE5BBAA6C4BWFAl+wABgG4SgAVlDyAA0F0CsEA0HwDQEwRgQdkDCAB0lwAsKMcAAgDdJQALyh5AAKC7BGBBCUAAoLsEYEF5CRgA6C4BWFD2AAIA3SUAC+St0af/AIDuEoAFNWZ4udYjAAAFJQAL5bf7/Q5+T30N5wAAikwAAgBkRgACAGRGAAIAZEYAFshh44bXegQAYACoq/UAvHOHjRsePzx/eoxr8A5gAKD7BGDBnHT4mFqPAAAUnJeAAQAyIwABADIjAAEAMiMAAQAyIwABADKTbQAeeuihUSqVqi5Lliyp9VgAAL0u69PAXHXVVXHBBRdUro8YMaKG0wAA9I2sA3DEiBHR3Nxc6zEAAPpUti8BR0QsWbIkRo8eHccee2x861vfijfeeKPWIwEA9Lps9wB+7Wtfi+OOOy5GjRoV999/fyxatChefPHF+Pa3v33Az+ns7IzOzs7K9Y6Ojr4YFQCgR5VSSqnWQ/SUSy+9NK655pq3XfPEE0/ElClT9rn9hhtuiD/7sz+LXbt2Rbm8/7+1e8UVV8SVV165z+3t7e3R0NDQvaEBgD7V0dERjY2NWT9/D6gAfPnll2PHjh1vu2by5MlRX1+/z+2PPfZYTJ06NZ588sk44ogj9vu5+9sD2NLSkvU/IAAoGgE4wF4CHjt2bIwdO7Zbn7thw4YYNGhQjBs37oBryuXyAfcOAgAUxYAKwHdqzZo1sXbt2jjllFNixIgRsWbNmrjooovii1/8Yhx88MHv+HHe3HnqWEAAKI43n7cH0Iugf7AsA7BcLsfy5cvjiiuuiM7Ozpg0aVJcdNFFsXDhwj/ocXbu3BkRES0tLb0xJgDQi3bu3BmNjY21HqMmBtQxgH2tq6srXnjhhRgxYkSUSqUefew3jy/ctm1btscn9Fe2Tf9l2/Rftk3/leO2SSnFzp07Y8KECTFoUJ5nxMtyD2BPGTRoUBxyyCG9+jUaGhqy+YUsGtum/7Jt+i/bpv/KbdvkuufvTXlmLwBAxgQgAEBmBGA/VS6X4+tf/7rTzvRDtk3/Zdv0X7ZN/2Xb5MmbQAAAMmMPIABAZgQgAEBmBCAAQGYEIABAZgRgP7R06dI49NBDY8iQITF9+vR48MEHaz3SgLJ48eL4yEc+EiNGjIhx48bFmWeeGZs2bapa89prr8W8efNi9OjRMXz48DjrrLNi+/btVWu2bt0aZ5xxRgwbNizGjRsXF198cbzxxhtVa+6555447rjjolwux2GHHRY33XRTb397A8qSJUuiVCrFggULKrfZNrXz/PPPxxe/+MUYPXp0DB06NI466qhYt25d5f6UUlx++eUxfvz4GDp0aMycOTM2b95c9RivvPJKzJkzJxoaGmLkyJFx/vnnx65du6rWPProo/Hxj388hgwZEi0tLXHttdf2yfdXVHv37o3LLrssJk2aFEOHDo33v//98Y1vfKPq79zaNuwj0a8sX7481dfXpxtuuCE99thj6YILLkgjR45M27dvr/VoA8asWbPSjTfemDZu3Jg2bNiQ/viP/zhNnDgx7dq1q7LmK1/5SmppaUmrVq1K69atSx/96EfTxz72scr9b7zxRpo6dWqaOXNm+sUvfpHuuuuuNGbMmLRo0aLKmmeffTYNGzYsLVy4MD3++OPpe9/7Xho8eHBasWJFn36/RfXggw+mQw89NB199NHpwgsvrNxu29TGK6+8kt73vvelc889N61duzY9++yz6ac//Wl6+umnK2uWLFmSGhsb0+23354eeeSR9Cd/8idp0qRJ6dVXX62sOf3009MxxxyTHnjggfRf//Vf6bDDDkvnnHNO5f729vbU1NSU5syZkzZu3JhuueWWNHTo0PSP//iPffr9FsnVV1+dRo8ene688860ZcuWdOutt6bhw4en7373u5U1tg2/SwD2MyeccEKaN29e5frevXvThAkT0uLFi2s41cD20ksvpYhIq1evTiml1NbWlg466KB06623VtY88cQTKSLSmjVrUkop3XXXXWnQoEGptbW1smbZsmWpoaEhdXZ2ppRSuuSSS9KRRx5Z9bW+8IUvpFmzZvX2t1R4O3fuTIcffnhauXJl+uQnP1kJQNumdv76r/86nXTSSQe8v6urKzU3N6dvfetbldva2tpSuVxOt9xyS0oppccffzxFRHrooYcqa/7zP/8zlUql9Pzzz6eUUvr+97+fDj744Mq2evNrH3HEET39LQ0YZ5xxRvrTP/3Tqts++9nPpjlz5qSUbBv2z0vA/cjrr78e69evj5kzZ1ZuGzRoUMycOTPWrFlTw8kGtvb29oiIGDVqVERErF+/Pvbs2VO1HaZMmRITJ06sbIc1a9bEUUcdFU1NTZU1s2bNio6Ojnjssccqa976GG+usS1/v3nz5sUZZ5yxz8/Ptqmd//iP/4hp06bF5z//+Rg3blwce+yx8c///M+V+7ds2RKtra1VP9fGxsaYPn161bYZOXJkTJs2rbJm5syZMWjQoFi7dm1lzSc+8Ymor6+vrJk1a1Zs2rQp/vu//7u3v81C+tjHPharVq2Kp556KiIiHnnkkbjvvvti9uzZEWHbsH91tR6A3/r1r38de/furXriiohoamqKJ598skZTDWxdXV2xYMGCOPHEE2Pq1KkREdHa2hr19fUxcuTIqrVNTU3R2tpaWbO/7fTmfW+3pqOjI1599dUYOnRob3xLhbd8+fJ4+OGH46GHHtrnPtumdp599tlYtmxZLFy4MP7mb/4mHnroofja174W9fX1MXfu3MrPdn8/17f+3MeNG1d1f11dXYwaNapqzaRJk/Z5jDfvO/jgg3vl+yuySy+9NDo6OmLKlCkxePDg2Lt3b1x99dUxZ86ciAjbhv0SgGRt3rx5sXHjxrjvvvtqPQoRsW3btrjwwgtj5cqVMWTIkFqPw1t0dXXFtGnT4pvf/GZERBx77LGxcePGuP7662Pu3Lk1ni5vP/7xj+NHP/pR3HzzzXHkkUfGhg0bYsGCBTFhwgTbhgPyEnA/MmbMmBg8ePA+72jcvn17NDc312iqgWv+/Plx5513xs9//vM45JBDKrc3NzfH66+/Hm1tbVXr37odmpub97ud3rzv7dY0NDTYw3QA69evj5deeimOO+64qKuri7q6uli9enVcd911UVdXF01NTbZNjYwfPz4+9KEPVd32wQ9+MLZu3RoRv/3Zvt1/v5qbm+Oll16quv+NN96IV1555Q/aflS7+OKL49JLL42zzz47jjrqqPjSl74UF110USxevDgibBv2TwD2I/X19XH88cfHqlWrKrd1dXXFqlWrYsaMGTWcbGBJKcX8+fPjtttui7vvvnuflzSOP/74OOigg6q2w6ZNm2Lr1q2V7TBjxoz45S9/WfUfzJUrV0ZDQ0PlSXLGjBlVj/HmGtvywE499dT45S9/GRs2bKhcpk2bFnPmzKl8bNvUxoknnrjP6ZKeeuqpeN/73hcREZMmTYrm5uaqn2tHR0esXbu2atu0tbXF+vXrK2vuvvvu6OrqiunTp1fW3HvvvbFnz57KmpUrV8YRRxzhJcYD+M1vfhODBlU/nQ8ePDi6uroiwrbhAGr9LhSqLV++PJXL5XTTTTelxx9/PH35y19OI0eOrHpHI+/OV7/61dTY2Jjuueee9OKLL1Yuv/nNbyprvvKVr6SJEyemu+++O61bty7NmDEjzZgxo3L/m6caOe2009KGDRvSihUr0tixY/d7qpGLL744PfHEE2np0qVONdINb30XcEq2Ta08+OCDqa6uLl199dVp8+bN6Uc/+lEaNmxY+uEPf1hZs2TJkjRy5Mh0xx13pEcffTR9+tOf3u+pRo499ti0du3adN9996XDDz+86lQjbW1tqampKX3pS19KGzduTMuXL0/Dhg1zqpG3MXfu3PTe9763chqYf//3f09jxoxJl1xySWWNbcPvEoD90Pe+9700ceLEVF9fn0444YT0wAMP1HqkASUi9nu58cYbK2teffXV9Od//ufp4IMPTsOGDUuf+cxn0osvvlj1OL/61a/S7Nmz09ChQ9OYMWPSX/7lX6Y9e/ZUrfn5z3+ePvzhD6f6+vo0efLkqq/BO/O7AWjb1M5PfvKTNHXq1FQul9OUKVPSP/3TP1Xd39XVlS677LLU1NSUyuVyOvXUU9OmTZuq1uzYsSOdc845afjw4amhoSGdd955aefOnVVrHnnkkXTSSSelcrmc3vve96YlS5b0+vdWZB0dHenCCy9MEydOTEOGDEmTJ09Of/u3f1t1uhbbht9VSuktpwoHAGDAcwwgAEBmBCAAQGYEIABAZgQgAEBmBCAAQGYEIABAZgQgAEBmBCAAQGYEIABAZgQgAEBmBCAAQGYEIABAZgQgAEBmBCAAQGYEIABAZgQgAEBmBCAAQGYEIABAZgQgAEBmBCAAQGYEIABAZgQgAEBmBCAAQGYEIABAZgQgAEBmBCAAQGYEIABAZgQgAEBmBCAAQGYEIABAZgQgAEBm/i+YhyYNMBSzAwAAAABJRU5ErkJggg==' width=640.0/>\n",
       "            </div>\n",
       "        "
      ],
      "text/plain": [
       "Canvas(toolbar=Toolbar(toolitems=[('Home', 'Reset original view', 'home', 'home'), ('Back', 'Back to previous …"
      ]
     },
     "metadata": {},
     "output_type": "display_data"
    }
   ],
   "source": [
    "fig, ax = plt.subplots()\n",
    "ax.plot(sess.data['cp1']['proc_x'][:,4])\n",
    "#ax.plot(sess.data['cp2']['proc_x'][:,0])"
   ]
  },
  {
   "cell_type": "code",
   "execution_count": 71,
   "id": "7c86c6b4-a296-4dab-a430-8047d01adb6b",
   "metadata": {},
   "outputs": [
    {
     "data": {
      "text/plain": [
       "0.3940393556467355"
      ]
     },
     "execution_count": 71,
     "metadata": {},
     "output_type": "execute_result"
    }
   ],
   "source": [
    "np.average(sess.data['cp1']['proc_x'][:,9])"
   ]
  },
  {
   "cell_type": "code",
   "execution_count": null,
   "id": "ongoing-failing",
   "metadata": {},
   "outputs": [
    {
     "name": "stdout",
     "output_type": "stream",
     "text": [
      "cp2 is better\n"
     ]
    }
   ],
   "source": [
    "sess.get_better_decoder()"
   ]
  },
  {
   "cell_type": "markdown",
   "id": "continent-ottawa",
   "metadata": {},
   "source": [
    "# how does each decoder work individually before PCA"
   ]
  },
  {
   "cell_type": "code",
   "execution_count": 78,
   "id": "concrete-guinea",
   "metadata": {},
   "outputs": [
    {
     "name": "stdout",
     "output_type": "stream",
     "text": [
      "[0.39021552 0.3651861  0.16678314 0.59662881 0.26422408]\n"
     ]
    }
   ],
   "source": [
    "print(np.average(sess.cp1.vaf,1))"
   ]
  },
  {
   "cell_type": "code",
   "execution_count": 79,
   "id": "creative-audience",
   "metadata": {},
   "outputs": [
    {
     "name": "stdout",
     "output_type": "stream",
     "text": [
      "[0.55482048 0.61057617 0.08470028 0.64644188 0.17887724]\n"
     ]
    }
   ],
   "source": [
    "print(np.average(sess.cp2.vaf,1))"
   ]
  },
  {
   "cell_type": "markdown",
   "id": "romantic-denver",
   "metadata": {},
   "source": [
    "# how does each decoder work after PCA"
   ]
  },
  {
   "cell_type": "code",
   "execution_count": 80,
   "id": "abroad-austin",
   "metadata": {},
   "outputs": [],
   "source": [
    "num_components, cp1_pca, cp2_pca = sess.PCA_to_same_dimensions(preset_num_components=13)"
   ]
  },
  {
   "cell_type": "code",
   "execution_count": 81,
   "id": "alternative-appreciation",
   "metadata": {},
   "outputs": [],
   "source": [
    "cp1_pca_h, vaf1, nada, nada = n6_1.decode_angles(X=[sess.cp1.pca_x], Y=[sess.cp1.proc_y])\n",
    "cp2_pca_h, vaf2, nada, nada = n6_2.decode_angles(X=[sess.cp2.pca_x], Y=[sess.cp2.proc_y])"
   ]
  },
  {
   "cell_type": "code",
   "execution_count": 82,
   "id": "bored-humor",
   "metadata": {},
   "outputs": [
    {
     "data": {
      "text/plain": [
       "array([0.3792569 , 0.37880738, 0.17440474, 0.57924145, 0.27144407])"
      ]
     },
     "execution_count": 82,
     "metadata": {},
     "output_type": "execute_result"
    }
   ],
   "source": [
    "np.average(vaf1, 1)"
   ]
  },
  {
   "cell_type": "code",
   "execution_count": 83,
   "id": "oriented-morrison",
   "metadata": {},
   "outputs": [
    {
     "data": {
      "text/plain": [
       "array([0.57011251, 0.621321  , 0.16511856, 0.65561998, 0.21160301])"
      ]
     },
     "execution_count": 83,
     "metadata": {},
     "output_type": "execute_result"
    }
   ],
   "source": [
    "np.average(vaf2, 1)"
   ]
  },
  {
   "cell_type": "markdown",
   "id": "disciplinary-commissioner",
   "metadata": {},
   "source": [
    "# x2 data on x1 decoder"
   ]
  },
  {
   "cell_type": "code",
   "execution_count": 84,
   "id": "premier-homeless",
   "metadata": {},
   "outputs": [],
   "source": [
    "format_x1, format_y1 = format_data(sess.cp1.pca_x, sess.cp1.proc_y)\n",
    "format_x2, format_y2 = format_data(sess.cp2.pca_x, sess.cp2.proc_y)"
   ]
  },
  {
   "cell_type": "code",
   "execution_count": 85,
   "id": "complete-recycling",
   "metadata": {},
   "outputs": [
    {
     "data": {
      "text/plain": [
       "0.3492706072727201"
      ]
     },
     "execution_count": 85,
     "metadata": {},
     "output_type": "execute_result"
    }
   ],
   "source": [
    "y1_hat = test_wiener_filter(format_x1, cp1_pca_h)\n",
    "vaf(format_y1[:,1], y1_hat[:,1])"
   ]
  },
  {
   "cell_type": "code",
   "execution_count": 86,
   "id": "precise-chapter",
   "metadata": {},
   "outputs": [
    {
     "data": {
      "text/plain": [
       "-0.4048303675777831"
      ]
     },
     "execution_count": 86,
     "metadata": {},
     "output_type": "execute_result"
    }
   ],
   "source": [
    "y2_hat = test_wiener_filter(format_x2, cp1_pca_h)\n",
    "vaf(format_y2[:,1], y2_hat[:,1])"
   ]
  },
  {
   "cell_type": "code",
   "execution_count": 87,
   "id": "regional-nurse",
   "metadata": {},
   "outputs": [
    {
     "data": {
      "text/plain": [
       "13"
      ]
     },
     "execution_count": 87,
     "metadata": {},
     "output_type": "execute_result"
    }
   ],
   "source": [
    "sess.num_components"
   ]
  },
  {
   "cell_type": "markdown",
   "id": "outdoor-zambia",
   "metadata": {},
   "source": [
    "# x2 cca data on x1 decoder"
   ]
  },
  {
   "cell_type": "code",
   "execution_count": 88,
   "id": "hearing-cherry",
   "metadata": {},
   "outputs": [],
   "source": [
    "from sklearn.cross_decomposition import CCA\n",
    "from sklearn.preprocessing import StandardScaler"
   ]
  },
  {
   "cell_type": "code",
   "execution_count": 89,
   "id": "encouraging-spanking",
   "metadata": {},
   "outputs": [],
   "source": [
    "cca_x1x2 = CCA(n_components=sess.num_components, scale=False)\n",
    "x1_cca, x2_cca=cca_x1x2.fit_transform(sess.cp1.pca_x, sess.cp2.pca_x)"
   ]
  },
  {
   "cell_type": "code",
   "execution_count": 90,
   "id": "operational-measurement",
   "metadata": {},
   "outputs": [],
   "source": [
    "x2_hat = cca_x1x2.inverse_transform(x2_cca) "
   ]
  },
  {
   "cell_type": "code",
   "execution_count": 91,
   "id": "wound-thunder",
   "metadata": {},
   "outputs": [],
   "source": [
    "format_x2_hat, format_y2 = format_data(x2_hat, sess.cp2.proc_y)"
   ]
  },
  {
   "cell_type": "code",
   "execution_count": 92,
   "id": "thermal-minnesota",
   "metadata": {},
   "outputs": [
    {
     "data": {
      "text/plain": [
       "((6780, 130), (6780, 5))"
      ]
     },
     "execution_count": 92,
     "metadata": {},
     "output_type": "execute_result"
    }
   ],
   "source": [
    "format_x2_hat.shape, format_y2.shape"
   ]
  },
  {
   "cell_type": "code",
   "execution_count": 93,
   "id": "gothic-senate",
   "metadata": {},
   "outputs": [
    {
     "data": {
      "text/plain": [
       "0.19369626547405838"
      ]
     },
     "execution_count": 93,
     "metadata": {},
     "output_type": "execute_result"
    }
   ],
   "source": [
    "y2_predic = test_wiener_filter(format_x2_hat, cp1_pca_h)\n",
    "vaf(format_y2[:,1], y2_predic[:,1])"
   ]
  },
  {
   "cell_type": "code",
   "execution_count": 94,
   "id": "different-china",
   "metadata": {},
   "outputs": [
    {
     "data": {
      "text/plain": [
       "[<matplotlib.lines.Line2D at 0x7f8bee9bd630>]"
      ]
     },
     "execution_count": 94,
     "metadata": {},
     "output_type": "execute_result"
    },
    {
     "data": {
      "application/vnd.jupyter.widget-view+json": {
       "model_id": "72694d2054764803bb216cc5a2d4fc44",
       "version_major": 2,
       "version_minor": 0
      },
      "text/html": [
       "\n",
       "            <div style=\"display: inline-block;\">\n",
       "                <div class=\"jupyter-widgets widget-label\" style=\"text-align: center;\">\n",
       "                    Figure\n",
       "                </div>\n",
       "                <img src='data:image/png;base64,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' width=640.0/>\n",
       "            </div>\n",
       "        "
      ],
      "text/plain": [
       "Canvas(toolbar=Toolbar(toolitems=[('Home', 'Reset original view', 'home', 'home'), ('Back', 'Back to previous …"
      ]
     },
     "metadata": {},
     "output_type": "display_data"
    }
   ],
   "source": [
    "fig, ax = plt.subplots()\n",
    "ax.plot(format_y2[:,1])\n",
    "ax.plot(y2_predic[:,1])\n"
   ]
  },
  {
   "cell_type": "code",
   "execution_count": 95,
   "id": "controlled-wallace",
   "metadata": {},
   "outputs": [],
   "source": [
    "format_x2, format_y2 = format_data(sess.cp2.pca_x, sess.cp2.proc_y)\n",
    "y2_old_predic = test_wiener_filter(format_x2, cp1_pca_h)"
   ]
  },
  {
   "cell_type": "code",
   "execution_count": 96,
   "id": "naughty-dispute",
   "metadata": {},
   "outputs": [
    {
     "data": {
      "text/plain": [
       "[<matplotlib.lines.Line2D at 0x7f8beeb74a90>]"
      ]
     },
     "execution_count": 96,
     "metadata": {},
     "output_type": "execute_result"
    },
    {
     "data": {
      "application/vnd.jupyter.widget-view+json": {
       "model_id": "a03e5ced87cb4b499a13e7fdf2a443fc",
       "version_major": 2,
       "version_minor": 0
      },
      "text/html": [
       "\n",
       "            <div style=\"display: inline-block;\">\n",
       "                <div class=\"jupyter-widgets widget-label\" style=\"text-align: center;\">\n",
       "                    Figure\n",
       "                </div>\n",
       "                <img src='data:image/png;base64,iVBORw0KGgoAAAANSUhEUgAAAoAAAAHgCAYAAAA10dzkAAAAOXRFWHRTb2Z0d2FyZQBNYXRwbG90bGliIHZlcnNpb24zLjQuMiwgaHR0cHM6Ly9tYXRwbG90bGliLm9yZy8rg+JYAAAACXBIWXMAAA9hAAAPYQGoP6dpAABs70lEQVR4nO3dd3wT9f8H8NcladMitKUCLcgUmQqIoFDFCcoS9ScuvjhQ1K98wa+KE78qbtwLGU7ABYoDFZU9VWZl7w0CLcsOVlc+vz+OphmX5JLc5S651/PxKKW5y90nl7vPve8zJSGEABERERFZhs3oBBARERFRbDEAJCIiIrIYBoBEREREFsMAkIiIiMhiGAASERERWQwDQCIiIiKLYQBIREREZDEMAImIiIgshgEgERERkcUwACQiIiKyGAaARERERBbDAJCIiIjIYhgAEhEREVkMA0AiIiIii2EASERERGQxDACJiIiILIYBIBEREZHFMAAkIiIishgGgEREREQWwwCQiIiIyGIYABIRERFZDANAIiIiIothAEhERERkMQwAiYiIiCyGASARERGRxTAAJCIiIrIYBoBEREREFsMAkIiIiMhiGAASERERWQwDQCIiIiKLYQBIREREZDEMAImIiIgshgEgERERkcUwACQiIiKyGAaARERERBbDAJCIiIjIYhgAEhEREVkMA0AiIiIii2EASERERGQxDACJiIiILIYBIBEREZHFMAAkIiIishgGgEREREQWwwCQiIiIyGIYABIRERFZDANAIiIiIothAEhERERkMQwAiYiIiCyGASARERGRxTAAJCIiIrIYBoBEREREFsMAkIiIiMhiGAASERERWQwDQCIiIiKLYQBIREREZDEMAImIiIgsxmF0AuKZy+XCvn37UKNGDUiSZHRyiIiISAUhBIqLi1GvXj3YbNYsC2MAGIV9+/ahQYMGRieDiIiIIrBnzx7Ur1/f6GQYggFgFGrUqAFAPoHS0tIMTg0RERGpUVRUhAYNGrjv41YUlwHgiBEj8P3332Pjxo1ITU3FhRdeiFdffRUtWrRwr3Py5Ek8/PDDmDRpEkpKStC9e3eMHj0aWVlZ7nV2796NQYMGYe7cuahevTruuOMOjBgxAg6HusNSWe2blpbGAJCIiCjOWLn5VlxWfM+fPx+DBw/G4sWLMXPmTJSVleGqq67CsWPH3Os89NBD+PnnnzF58mTMnz8f+/btw/XXX+9eXlFRgd69e6O0tBR//vknJkyYgPHjx+OZZ54x4iMRERERxYwkhBBGJyJaBw8eRJ06dTB//nxccsklKCwsRO3atfHVV1/hhhtuAABs3LgRrVq1wqJFi9C5c2f89ttvuPrqq7Fv3z53qeDYsWPx+OOP4+DBg0hOTg6536KiIqSnp6OwsJAlgERERHGC9+84LQH0VVhYCADIzMwEAOTm5qKsrAzdunVzr9OyZUs0bNgQixYtAgAsWrQIbdq08aoS7t69O4qKirBu3TrF/ZSUlKCoqMjrh4iIiCjexH0A6HK58OCDD+Kiiy7COeecAwDIy8tDcnIyMjIyvNbNyspCXl6eex3P4K9yeeUyJSNGjEB6err7hz2AiYiIKB7FfQA4ePBgrF27FpMmTdJ9X8OGDUNhYaH7Z8+ePbrvk4iIiEhrcdkLuNKQIUMwdepULFiwwGscn+zsbJSWlqKgoMCrFDA/Px/Z2dnudZYuXeq1vfz8fPcyJU6nE06nU+NPQURERBRbcVkCKITAkCFD8MMPP2DOnDlo0qSJ1/IOHTogKSkJs2fPdr+2adMm7N69Gzk5OQCAnJwcrFmzBgcOHHCvM3PmTKSlpaF169ax+SBEREREBojLEsDBgwfjq6++wo8//ogaNWq42+ylp6cjNTUV6enpGDhwIIYOHYrMzEykpaXh/vvvR05ODjp37gwAuOqqq9C6dWvcdttteO2115CXl4ennnoKgwcPZikfERERJbS4HAYm0MCN48aNw4ABAwBUDQQ9ceJEr4GgPat3d+3ahUGDBmHevHk47bTTcMcdd+CVV15RPRA0u5ETERHFH96/4zQANAueQERERPGH9+84bQNIRERERJFjAEhERERkMQwAiYiIPOTu+gevT9+Ik2UVRieFSDdx2QuYiIhIL33H/AkASE2yY8gVzQxODZE+WAJIRESkYNvBY0YngUg3DACJiIgUcJAMSmQMAImIiBQw/KNExgCQiIiIyGIYABIRESlgDTAlMgaARERERBbDAJCIiEgBCwApkTEAJCIiIrIYBoBEREREFsMAkIiIiMhiGAASEREp4EDQlMgYABIRESlg+EeJjAEgERERkcUwACQiIlLCIkBKYAwAiYiIiCyGASAREZECwSJASmAMAImIiIgshgEgERERkcUwACQiIlKwYX+x0Ukg0g0DQCIiIgU7Dh0zOglEumEASERERGQxDADj1LGSck5TRERERBFhABiH9hw5jrOHT8ftny41OilEREQUhxgAxqHJuX8DABZuOWRwSoiIiCgeMQCMR6z6JSIioigwAIxDDP+IiIgoGgwA4xALAImIiCgaDADjEOenJCIiomgwAIxDLAGkQHJ3HcH+whNGJ4OIiEzOYXQCKHyM/0jJqj0F6DtmEQBg5yu9DU4NERGZGUsAiRLEsp1HjE4CUUJpkJlqdBKIdMMAMA6xCpiISH/ZaSlGJ4FINwwA4xA7gRAREVE0GAASERERWQwDwHjEAkAiIiKKAgPAOHT4WKnRSSAiIqI4xgAwDn2b+7fRSSAiIqI4xgCQiIiIyGIYABIRERFZDANAIiIiIothAEhERERkMQwAiYiIiCyGASARERGRxTAAJCIiIrIYBoBEREREFsMAkChBSJJkdBKIiChOMAAkIiIishgGgEQJQghhdBKIiChOMAAkIiIishgGgEREREQWwwCQiIiIyGIYABIRERFZDANAIiIiIothAEiUIDgOIBERqcUAkIiIiMhiGAASJQiOA0hERGoxACQiIiKyGAaARERERBYTlwHgggUL0KdPH9SrVw+SJGHKlCleywcMGABJkrx+evTo4bXOkSNH0L9/f6SlpSEjIwMDBw7E0aNHY/gpiIiIiIwRlwHgsWPH0K5dO4waNSrgOj169MD+/fvdPxMnTvRa3r9/f6xbtw4zZ87E1KlTsWDBAtx77716J52IiIjIcA6jExCJnj17omfPnkHXcTqdyM7OVly2YcMGTJs2DcuWLUPHjh0BACNHjkSvXr3wxhtvoF69epqnmUhvHAaGiIjUissSQDXmzZuHOnXqoEWLFhg0aBAOHz7sXrZo0SJkZGS4gz8A6NatG2w2G5YsWRJwmyUlJSgqKvL6ISIiIoo3CRkA9ujRA5999hlmz56NV199FfPnz0fPnj1RUVEBAMjLy0OdOnW83uNwOJCZmYm8vLyA2x0xYgTS09PdPw0aNND1cxARERHpIS6rgEO55ZZb3P9v06YN2rZti6ZNm2LevHno2rVrxNsdNmwYhg4d6v67qKiIQSARERHFnYQsAfR15plnolatWti6dSsAIDs7GwcOHPBap7y8HEeOHAnYbhCQ2xWmpaV5/RCZBQeCJiIitSwRAP799984fPgw6tatCwDIyclBQUEBcnNz3evMmTMHLpcLnTp1MiqZCeXw0RIUHi8zOhlERESkIC6rgI8ePeouzQOAHTt2YOXKlcjMzERmZiaee+459O3bF9nZ2di2bRsee+wxnHXWWejevTsAoFWrVujRowfuuecejB07FmVlZRgyZAhuueUW9gDWwInSCnR4cRYAYPvLvWCzsXcqERGRmcRlCeDy5cvRvn17tG/fHgAwdOhQtG/fHs888wzsdjtWr16Na665Bs2bN8fAgQPRoUMHLFy4EE6n072NL7/8Ei1btkTXrl3Rq1cvdOnSBR9++KFRHymh7Cs84f5/BaslY4bDwBARkVpxWQJ42WWXBW3vNH369JDbyMzMxFdffaVlsoiIKIHw+ZUSWVyWAFpZSXmF0UkgIiKiOMcAMM6wYwURUWywVQUlMgaARERERBbDAJCIiIjIYhgAEiUIDgRNRERqMQAkzTEOISIiMjcGgHEm3mIrtqGOHY4DSEREajEAJCIiUsDaDEpkDADjDMt4iIiIKFoMAImIiIgshgEgERGRAjarpUTGAJB0xSY0RERE5sMAkDTHp2YiIiJzYwAYZ+KhRI0954iIiMyNASDpioWBRERE5sMAMM4woCIiig3WZlAiYwBIREREZDEMAImIiIgshgEgERERkcUwAIwzbJJCRBQbHNKKEhkDQNIBw1QiIiIzYwBIREREZDEMAImIiIgshgFgnGGTFCIiIooWA0AiIiIFHAiaEhkDwDgTb/lRvKWXiIjIChgAkg5YUU1ERGRmDACJiIgUcBxASmQMAEkHrPg1Au9VRESkFgNAIiIiIothABhnWMpDgbDclYiI1GIAGGd4kyciIqJoMQAkIiJSwHEAKZExACQiIiKyGAaARERERBbDAJCIiIjIYhgAkubYbsYY7CFOpC0OBE2JjAEgERERkcUwACQiIiKyGAaApCtWB8cODzUREanFAJA0x3YzRJQI+ABLiYwBIBEREZHFMAAkIiIishgGgEQJgjXvRESkFgNA0hzbzRAREZkbA0AiIiIF7NBGiYwBIBHF3vEjwIapQHmp0SkhIrIkBoBECSKuat4nXAN83R+Y/6rRKSEisiQGgEQUe/lr5N9rJhubDqIg4rI9c95aYN0PRqeC4oDD6AQQkYXF5R2WyMTGXiT/Pq0O0PgiY9NCpsYSQCIiokRzYL3RKSCTYwBImmOZjjHis8MizxYiXbB0nUJgAEhExhEuo1NARGRJDABJV4IlPBQMSymIiAzBAJA0F59VkWQMCwWAG38BVk40OhUUBg4ETYmMvYBJJwLVUGJ0IsjsrFQCOOlf8u/GXYCMBsamhYgsjyWAcSZe7pcfJL2N9Sl3QTq81eikWEacnBreYt0GUAjjZx85ccTY/ZNq8ZLfEkWCASDport9OQDA9tc4g1NC5hbjO+w3twMvZQPF+bHdrxfWKxKR8RgAxpm4a5PCR+iYibdTA0Dsz48NPwGiAlj1lf77EgIoPV71/0pxdxETUSJiAEia87qlc5gPCioGAWBlEBZrX94IvFwXKNzrcx0wACTyUlEGnCw0OhWWwwCQiBLXso/lIGy1AXMOb50p/141kSXhRMGMugB4pSFw9KDRKbEUBoCkK4k3PgpGj/Nj3Q/AgY3y/395WP79/d3a70c1Aa+STlYBE3k7sl3+vX2eocmwmrgMABcsWIA+ffqgXr16kCQJU6ZM8VouhMAzzzyDunXrIjU1Fd26dcOWLVu81jly5Aj69++PtLQ0ZGRkYODAgTh69GgMP0Vk4i+eirsEU0xpfH5snQ1MHgCM7qTtdqPldeEyAIwX8R2rM++l4OIyADx27BjatWuHUaNGKS5/7bXX8N5772Hs2LFYsmQJTjvtNHTv3h0nT550r9O/f3+sW7cOM2fOxNSpU7FgwQLce++9sfoI1hF/ESvFs/0rq/5ftN+wZHgR7n+IolN2ApjxFLDrT3XrV5QBrgp906QpXiexFJcDQffs2RM9e/ZUXCaEwDvvvIOnnnoK1157LQDgs88+Q1ZWFqZMmYJbbrkFGzZswLRp07Bs2TJ07NgRADBy5Ej06tULb7zxBurVqxezz5Lw2AmEjPL5dUan4BTBXsCkjT9HVv08G6LTREUZ8GZLICUNuP8vnnfkJy5LAIPZsWMH8vLy0K1bN/dr6enp6NSpExYtWgQAWLRoETIyMtzBHwB069YNNpsNS5YsiXmawxF/1zCf6CgIPUuID27Ub9vhEIK9gOOU6SowwhlY/8h24Pgh+Xe8PIib7oAntrgsAQwmLy8PAJCVleX1elZWlntZXl4e6tSp47Xc4XAgMzPTvY6SkpISlJRUTW9WVFSkVbITFy/oyAkBFOcBaXWVl6+eDCSlAq2ujm26NGXQ+RHT85KdQEgrYZw7nucZ82FSkHAlgHoaMWIE0tPT3T8NGnA+z1BEvDx5mtGsZ4G3WgJLP/JfdvSA3LP16/6Ai8fY9HgDJkP5nH9CyD3kl31sTHIC4nUSSwkXAGZnZwMA8vO9p3rKz893L8vOzsaBAwe8lpeXl+PIkSPudZQMGzYMhYWF7p89e/ZonPrQeB+xkD/ekX9Pe8J/mdegqXF8UhiV9FiWwgmfEkBWAVOkwjpvg6y7fZ4c/FUOk2QWvMHFVMIFgE2aNEF2djZmz57tfq2oqAhLlixBTk4OACAnJwcFBQXIzc11rzNnzhy4XC506hR4+Ain04m0tDSvHwqBFzQFZYXzQ/A6II1E+PDge/6VBGi+dKIA2PgLUF4a2X4orsRlG8CjR49i69aqxrA7duzAypUrkZmZiYYNG+LBBx/Eiy++iGbNmqFJkyZ4+umnUa9ePVx33XUAgFatWqFHjx645557MHbsWJSVlWHIkCG45ZZb2ANYc7zxRc/AEqPyUnnu3KRU49IQ73xLAKWEe+5W78gO4Pt7gJzBQFI1oP75QLVMo1OVmLxKC1Xmw59dKw+ldNGDwJXP6ZCoUHi/iKW4DACXL1+Oyy+/3P330KFDAQB33HEHxo8fj8ceewzHjh3Dvffei4KCAnTp0gXTpk1DSkqK+z1ffvklhgwZgq5du8Jms6Fv37547733Yv5ZiCISixIlIYA3WwAn/gH+lwckpYR+TyT7SHg+vYCt3Ankp/uBv5fJg3UDQK0WwJClhiYpGNN9VZFWAau9zirH0VwzWd8A0OUCDm0Garcw4UG2jrgMAC+77DKIICe0JEl4/vnn8fzzzwdcJzMzE1999ZUeydNVvF0rjlVfAteNir+ExxM9g6gTR+Tf/+wA6rTSbz+JzhKBrgonC7z/PrTJkGRYj+/5Z3B+PP1JYMkY4JJHgSueqnqd10lMWbgugmLmnx1GpyDxKATUmsfY8ZIZl5cAi0YDh7aEXrdSLD+b774OrI/dvs0mTk6pSua7BBJkGJglY+TfC143Nh0WxwCQNOeX15gt84k3ISM7+fjqeph127gG2/39bWD6MOD9jqHXNYRPJ5CvbzUuKfHKVQFs/BU4etDolMSRCNoAkqUwAIwzjKWsyKjqmjBOti0zgf2rI9iFBif0Hs/Ze0zY1MBvGBgK29KPgEn9gA8uMTol8SlebhwcNzam4rINIFmQywXY+LziFqtOIJWClUIe2Ah8eYP8/1Dzk+rOjDc6DgMTtfU/yr+L9xmbDqOF1QckSAkg22QTWAJI8SBvDfBKA+APk/bSPrQF2DzduP0bHVwcDtH27uBmoPR4gIUGpT3WN0CWbETHVW50CuJQsDaADACJAWBiOX4EKM4PvV68+eVhoPQoMPNpo1Oi7P2OwFc3AbuXhF43rqgNzjxuJsV5wP5VVX/vWACMOh/44OIAu9A6ADThjc3qVcCbp8vtHo8fiXwbWgeAOxYC718A7PxD2+3qzoTnN8UtBoBxJmjBxWtNgDeb+0wTlgjiJNPbOkuf7VZ+6eUlAVaIcXWwL8+T8s0WcjutAxvlv9d+L/8+vNX/ffKGNU5b4O0VnSzzf9/MZ2IwH6rFq4C/ugnY8DMwa3jodXcsBEbnALsXe7+udQnqhKvlIWjG99J2u6Zl4fOPAmIAmIjyE2yYiXhpr7LgNf1u9NOGAS/WAfat1Gf7SqL5LJUdMxxObdKigbbPzqj6Qwi5pPKPd/WfD1XvEsB4mbarOA8hj8OEq+Vhcj7tHpMkhSJJkL+/5Z8Ce/8yOjmR54VWfgChgBgAxhnF69jl83TM9kbGcVXos93Fo+Xf80YEXEX7OFllJxClEtrKc9AW635mYRyEQPOhhuGv3f/gijfnYd6mAz4LPvP4Q8cSwD/eA16sDWydHXpdCpsQADb9Ckx9CPjo8pDr6y/E+e153sVlJxAGqrHEADDezRwOvH4mUPi3x4uJdhGZNbOKlRADugqDxwFUupkIlYGwoSUT0Z9Xd3yyFNsPHsOAccu8F/x0v8+aOn3OynaxU/6jz/YJOLjR6BSo53fencISQFLAADDe/fGOPFfrgjf8l+1bEV3DawBHjpVi8fbDQafe04rLlQiZVCJ8hlNUf+cKgZRvqXQ09q0E5r0KlJ3UbpuAJqUgR0tVdE4QQv9S+aN58oDYWh53zUVxvI0ssZLsxu3bcqz+sB9bDAAThs/NeufvwIeXAe+0Ub+J/PWn2ulU6fbWfNzy4WJMX6dv7+Jvlu/Buc/PQO4uhYDVtNUVCnQPlJW27//aybIK7Cs4od2+wv0ORAWEENhXGCpoU3G8PrwUmPeyHOBoKvrzSvUWYlECM+tZYP0P+u9HD4tGA++ea3QqlEkhbpMV5UDJ0dikJRBXBbD6G2PToIkEeoCOAwwAE5EQwOZp8v9LVWZM/+wExuTIvTg9HDkmNzCfsS5P4U3qLFMK6nw89u1qFJ0sx6AvfBpal5cAJwoi3reehBD+pZY6l/SojSN6vbsQF74yB+v3Rd/OLeSOFYJDIVyYuT4fU1fvj3y7vvLXev35Xe7fmLh0t/r3eyh3CU0eLCSPbaz5O0Dv+1hWvx3eFnjZ8SPm7SA2fZh55wy3hSgBHNsFGHFG1LUtXirK5cGv1Q7rlTsO+P6ewMvDHQewaC9QuFfdviluMQBMFNHeZPatCLq4tCLywOaRyauxck+B4jLfquUDxSVwuQQ++X0HRvy2AXivPXBgnXv5bZ8swY8r9c2YjpeWo//Hi/Hp78o3pFFzt6Lrm/PQ9a35uOqdBT5LdbjZewQZR44FGgrG2/ZDxwAAv64JEYAF8NOqfZixruq9S3ccwcHiEpSWuzBv0wEcK6mq+iw86V8NKgQw17djhIZKyivw8ORVGPb9mojOzbIozudAbvlwUZCl3ufF18t242Cxuu8yLMHygdfPkh/y8tYGXseEyipccBlZNRiqCvjgBvn3jvnA/NfknuXRWjIW+OZ2+ftSY/t8/9eCdQJR47fH8OjkVXjiuwimeKS4wAAwYQQeC232hnx0fXNe4BIKAKGeCJVumIXHy3DlW/Px7qwQM0EAWPN3gd9rq/YUoP0LM/1Kcb5ZvgcvTF2PD+Zvl59EPSzccggPTFop/1FRBmyZBZQUh9x/OL5YvAt/bD2M56cql5a8Pn0Tth08hu0Hj2HrAe8S1l2HvP8uOF6KeZsOoCKK9o3lHu91BekEopUdh47hvxNX4L+VxxnAUz+uRdc35+G1aRsxYNwy3PdFbtWyH9b4bcMlgOOlajqCVKV91Z4C7DgVuFZausOjVOXU59ySX4zbPl5atS+P47P7SKAZR5T2qnDOH9gg96T8+QHgk6uAinLM3pCP3wIE0jaPTRwL+Hn9v5/Hv1uDq0cuVF5bCNz+6VLcPzH4Q5nafVUtOpW+HQrBgl7y/M8NtUrLXXC5BC7SsiQ7EqGqgCsV7gXmviSPLRlte9XKGpzjh/H69I1eD1yxUnb0ECbn/o1Jy/ag8ERZwPXKK1waNDchIzAAjENpOIoc2zpI8AjKjh70XskjKBg4YTm2HTyGuyYsQ9HJMuz0ucn6WTwGWDnRb0gTIQTen7MFL5wKjMb9uQNbDhzF27M2R/Q5bhj7JwqOl2HY9943ie//UlfCt+3rJ4Av++L4Zzf7LVu45SCW7zyCuZsO+AUVfv54F/iku7sdz7GSyIdy6fHuAnyX+zf2nApErh/9JwaMW4Z/f54bsJNLeYjSqJLyquWb84sx4tcN2HbQv2o/0hrN2Rvy0eGFmXh31hYs2X4Yl78xT96eTzBRdLIcXy6Rg/WFWw5h7qYDKK9woVjheB0qPokfV+7z2kKwIDiv8CSuHfWHe9/lFXIV8k0f+JeqXfn2AizdqVzdNnHpniCftIoQwJ49O/0XjO4s96TMHQ/sWYKKbXMxcMJyDPryL3dzCE+STxD565r9ft9neUWF4nefX1SCcX/4lzIv2n4YCzYfxM+r9oXdMWrOhjyMmhto0O0onSgAVn2t/oGr5KhcPeopjIeVcX/sQPHJchwoLkG5Rp1bwn0QW77rH8zeqLIattQjn6kIPDZjWYULx0vLgYVvAV/eiLLSEjwyeRW+y/1bcf1Rc7fhjRmbwkm2PyFQWu7CNe//jmHfr1aVWQjPYy6AwhNluO/zXExb6/EwdGQ7xox+Exe+MhsLNlfdg1buKcCuwwr5bukxYNZzQdNJscMAME7sPnzcfTP4MflpTEx+CbfY51atsPk3938Ljpfix5X+k6YfPVmOnJdn47I35nkFEKXlLvz8p8f0XdOeAKbcB6z43P3S9HX5uHvCcrwxYzM++X0HtuQXo7zCe4DbCpfA2r2FipmsAPDqtI0YM09uozR34wGUVShf7IFu7r5qbfoKAFBtr/d0TkeOleK2T5bihrGLcOe4Zbj8jXn4c+shxW0UHi+Tn9j3LIZY9gmEEAHzxrkbD2CQR8mXEgnAw5NX4eLX5O+msip21oZ8fLlkl9/6uw8fR5tnZ+ClX+SgOtSTflm5Cx8s2O5Vtfvl4p04UBy4xEEIgU15xThQVLVOSXkFpq3Nw7p9hRg4YTkOHyvF27M24+YPq2ZgUDoMnsfmznHL0O+jxRAKa360cLvfa+cMn+5XfS8APPvTOtzz2XKv1z9cuN3vtUPHShXPrY15EZQOlZ9Eg1n3uf9csv0w9hf6l2K4Kqq+j6ITZZi9IR9r9wYuSf/Pl3/hE5+mA58t2oX/BijNe+5n71Jml0vgXx9VTSkY7u1wzd4CvD59E46VlOOtGZuw5u9CzFqf7zULyrp9hbh/4gqcUFVC62HyHcAP9wI/DlG3/ol/wtu+jzV7CxVPwrdnbsZfu8Pc9o4FKBzVFdc88xG+WabuIaHS/M0HQ68EeLcVDDJ13RVvzkPrZ6YDs58DtszA8t/G49vcv/HwZI882CcTOrR7Ezb+/A427zusOt1FJ7zTsHDLQaz+u9DvIWlSgHa0kqhAT9sSnCnJ95KRs7dg2ro83OfZTvu99rj/8IvobVuCzxbtBAD8/c9xXDfqD1z6+jwAwMHiEjz+7WrMWJeH9ROHAb+/pfozkL4YAJrUybIKDBi3FOP+2IGvl+3GJa/PdWcQTWzyE+nVtsWK7/1m2R7kKbQvEhDuaqqFpzI1IQQuemoi+uz1vyg3LJ7u9ffsjVVtuo6XVsCGckxN/h/eSxoJAHj51w24euTveH7qOvjadfg4xszbhlenbYQQAp8qlHyESynwAJTbyf3rY/mmerC4BIO+yMW9ny3HP8dK0e75qtkhJv65GdeN/tMn3VVPsXeOX4bf1gbvDGPzKJX9aIF3EDT8p3V+bR5HztmCE2UV+GjhDsxYl4ezh0/H2zNDl6hWeGznxV834NYPfldc7/25W9Hm2Rno/s4CXPBy1WDBb83cjPu+yEXv95TfF4jvEV+28x/VQcqJsoqq6vtTKipcGP/nTvlm72HqKv8q19xd/+DKt/2rL4sV2iCGIh3zvqnf/OEi3Pqx/1zOx0qqAqcZ6/MwcMJyr8BUqf3hrA3eJUYSBFbtLQiYlvX7ijBy9hacLKtAmU9JlxACh46W4L7Pc3HzB4tCBruVpbavT9+E9+ZsRZ/3f8fdny3HnR7jFH731z78vGofWj0zLbwSse3zTiV4iqrV9xUqtHEMo5g6UMrenb0F14/+E2v3FuL60X9gmZoHxgl9kH5wOcbaXsNjGrVpO1B80jsQ9eylHmRA+D1HvB80Sk8oddTzPk4jD96JlrnD0Txvqur0TVzmGdgJBPqqn/heuZo+aX8uxiS/iznORyAgn4eBdLRtchfeeda47Dx0DOe/NAtfL9+Dez/PxaGt/rOpvDpNeZzFwuNleGrKmvCDfVKNAaBJTc79G/M2HcRzP6/H49/JF+gPK9RVjZ4oq1AMjTxjj8ob15/bDqODTTng2JgXuKRDAKhftBrn2HbiGrtcTVdZ8rF4u3+G7NkeTAjv3pNaeX36RjR+4hc89q1yBn+0pBx3T5CDuBnr89HvI+8AOq/wJFbtKUDB8aqb/qWvz8Pcjeo7M3h+qpd+3eC1zCWAji/OwuTle9zBod2jEdm9n8uli+/O9m5T6RnoVt7gPQPJ/zh+woyjfVGrIPDn9vXjCv8SYv/P4n/HUPreAgXiaijtQwiB9fuVA53tB0NU56vlE4hLENimsO2Hv1np/v/Lv8o3qv2FJ3H4aAnOHPaL4qaVgqpgR6jXewvx5szNGDNvm1+VcrlL4Mnv12Daujws2XEEPd451W7QVaE4NVnlu8f/udPr9dxdyjfR3wOUjGvhhg8UHlAVqvj+CJCGQwXFHvGi/xHs//ES/LW7ADeOrWom8P6cLeg75s+ApZu1pQK/18b/sQNDvvoLT09ZiwHjlqqudr/gpdm43vOB0XPEBVGBYyXlmLp6n+L1503h7Agnfyw5Ko/iEGSrq/ZUff9n4CDEzOHuv9tLW0JW69/7WfCaD09OR1VJqFITB1+VtUIAMGXlXncThhd/WY8vFu/2PsakKQaAJnVCzQCzgQTIOzyztbIKuU1If4VSD089bUswO/lhtJS8qwmEEF77WR7iKdwzP3OJaEIGjzR4bGX8Hzswaq6ckfy1u0Bx/S6vzsEqj44wG/O8Mz2lYMSOCvz2+WvAIXXtqpS24enwsVI8+u1qvPTrBmzJL1YVCCsFgJ7Dq9zvmAIAyNkYeJo4XzYN42/lb1MEXObZoF/pnb8E6HChdGyvty3AxXZ1vVpPQ1XJi29JbKDDYQvwfY74bWPAEhXf8y/UOVHJtxQUAM4ePh0z1vu3QTvw4zOKU5N5lkCrUVbuQlmFC/dPXIEvFvs3UYimTVaZy/+oKpWYBsqDrtj3ATbnBQ5MlDomvDFjM3J3/YNvlu9BSXkFbv14CUbODt5JbfTPf2Dq6v34fPEuzNt0ELlhlTgFOD5C4NFvV2HIVytwzvDpclOTAKZ6nO8XvzYHny/aibDGqHy7NZAXvFRz84Gj7i2+nvQBpENVbQp/cA6XOzwFsXTnEdg88qpnf/Ku5ZEg0PrEcmDnH/hgflVAF+7Zs2j7Ebw+XU6bUjtn0hYDQJMK1BFBeFxSgS6uQF+q503P5RIh27ZIEBiT/C6a2vZjVJL30AZP/7gW8zZXPbn/K0Qg+dWSqgBy5Z6CqIdg831Kf/bn0OObFQTJhAPpZ5+D15I+At7voPIdVemywYUetqWoA+Ubyj/HyzQNxMrKvc+Z7rZlGJ30DmrAv2esmsBTbeASbibf6z3l3q+Vwhm65q3ksarXXeasmi6t+KT3uRDoswZ6/UAYQ7ioPY5zNh5AfpF3W06l0sTik2Wos+p91fv35TtewK9r9uPnVfvw1BSfQHrlRODVxsBu5aYmofgO3fJ3wfGwhr65wb4g9DiSp3yX+7dXr+qTZRX4ZfV+/L71EN70aFKhdNZPSn7B6+8JPqWngVxuW4GVznsVlxWdLMOva6qaiwyZ+FfAz+75kLTnyAk8/eM6lIVTNX8y2OgOMkm43HnuhXaFvPJAqPxToP/eF/CwQx5s2reEeYBjBh7OfwIY3wtzN1Z97s8WKTxUBN2LR5rjaQKAOMUA0ISOHCv1qwZUErDUIsACz04X5S4Rcno3z82cJnnfmNbuLcKB4qqebqXloUseMlAMCS7cMHYR5m1S2bA6gLs/W675iHuS5L/Fjrbwet95lhjdZp+JscnvYJbzkYDr2wN8WYG+m0vsa9DfPktx2WGfXqofJL+NXvaleMDxXahkK1LsBBLFe5XYFI55qIz/AmkDhjsmIBXhDbVRTaq6Ac/xqdYPHAAqC/fWpDYIrOw8FEybZ2cEXBZu2boQwquK8mRZBd6auVnu6DLlPuBkAU58fjMufd07XSdOvedkmXIPZ8A/ANyYd9SrM0ooktfDbtW2MlEEJ7zP9Ycnr8LavUUe6wfKk/zTeqbNu11vsKBz5/JpOPpSU5T8NRHjkl9HhqTcJOEVn3ZtC7ccwvkvzcLdE5b7rSuE/3e2ToNhbzyP36vTNmGgwr7VOlfahg5Fs9y1DcHYg5RCqz0/v162O2CzBdIOA0ATWrRNfU8vJcGqTSpVuETIG63kVZql1LNX3cUsIKGFtBsrU/6NL5LUV1MG43sDN4tLbFVVMZfbVgIA0iTf3qVVvadtAb6Dt4OMrfhS0qeKrwcKMmpJVSUE/T5cjG+W74m8BDYGD+W/hCj1+cb5Au50TMdgx4+a7TPwxwoQGJ56w632mVjkHIKmUuD2uWYrx/C8bgUAh8dDyPtztuK92Vtw9ciqzkHHSyuw67B3KXLr4b+h8RO/oOXT03DDWLmN1t6CExj81V/uRvtaNPRQehD6K+U+/OH8b4j3Bb621EpBCXrbFqOGR9OBxlNvRvWyQ3D+dF+Qd1Z1svPl20EIUD7DCk9EP+6fZ36g5kjc9kngWpxMKbbjMFa2eyd9MQA0oWD5VmX7CAC4yO7f2xYADqmYLaLcJUJWP9q8MhD/pzrvDD54CUc/+xwAgdPsqYW0Gx2kTWggBR9/K5obzCW2Vfgg6S3UQlVwVLk1z+Mf7h7eSx6FdARuu2JHBaYm/w8fJ72hMOSMQI5tHWqiCO95lABrWdK5aPthPPbtavz9T+iBW5UCyvB73OoX/jSWIp+eUK1QJYAvJo1DXekIXkn6KMg2hOoSwFh7Z9YW2G1VtwG1Q+pkeTRrqGzz+NCklfhl9X5cP/pP3PbJEsXrM9yzYUKAKsRaIQISgapr69/2nz32r+576G+fhY0pd2JU8nt4NCn8OXZLytV/30rHSU3eNu6PHcpzpytQ87kXbgncIejT5DdU7UftvgIRkNBIysPnSS8jxxb6XkHRYQBoQsEufbWDJIfiCjLenZJQJYBa3uCmO5/Ad87nsND5UFjvu80+A7OTH0Y9hO7Z+Fnyq+huX45nk8Z7vCp/hnF/7FR8TyaKcLN9rldnAiXpp6qFlI7I2dJOnGPbiW72FRAA7B5fQi/bEkxMfglznQ+HTH9sxCZoyUAxkhD7mQ48hdsG8A+fUvrkIOlX2kZbaRtidXxbSLsDVpdv2F+E/V6zOKjLFBan3I9mUtXAxRe9MgcHdq3D/fbvUQPHsXDLIb/PXdujJDpc4R6psnKBR79djdr4B8OSJrpfV5vlBSplVyva/FDNu5/7eT36jgk2/aC+hnzl3wtdCyOTRuJi+1pMTH5Jl+1TFQaAJqRX29dm0t/oJMlDk1S4hN+QE/6qsqHKdh397bMwNultJKPMKwAM1FuykmeG6Huzl+BCG2k7khF+Jw1PLySNR1PbfjyZ9JXq92RLVSUZ50nB212OS34NryZ9hJeTPok4jb6+WLILLaXd+DzpZTzsmAwAAdsVhVL5baTAuwT4Ovuf+DV5mF+7Ka0ol/SovwGuTPk35iSHH/RGd5NV995A57Vv+zIHAo/7JsE/8PjJ+TQG2Kcrra6py2wrMd35BH5Ofspv2ROOr/C8YxxOlFWlPZy8p5etqspwb8EJzHM+jIeTvsWzSePhRKnXtQUA7Wzb0ShEqb4nCYATpfg46XWcZwtvdpPlp0rGUiXvc96oktjTcAK9bYtRTSEQ12ueY8nr/9p/brUddMKV5XPekH4YAJpSdBlCoHfPdD6Gr50voIGUj88X7XKvGLg3sX8bwJeSPkUP+zLcZJ+HRh5VcKECQE9bUm7HCEdVldmd9un42fkUPkgKb4T4QNUkkZYmhRpOpJ1NHruvjy34U7fazPbOcctwssyFz5NH4GL7WjS1BcpQ1Z8P/eyzsTHlTvS1LfB6vbVtF3rYlgZ4V+i9pkJ9781AJiW/gMaS8mdsYAu/U1B9Sbsx7AJ9Z2rP6mAN3wO5zT4z7PeE4ntN9LHL7fPOsu3zWqeZ9Dfuc0zF7Y6ZqF9UVZIzU2HIGcD/ocJ3X+09Hp7OlzZhtvMRTHM+4fce34AslBvt89HNviKs9wDAklNzSPt+f0YEgDa48FbSGIxKfg9vJo3xWx5pFbBZhX+Mhc9f8fvZ4w0DQBPSugSwBo7jUcck999NpX0orXBha14xetiWooEU/s33dvsMvJs82v13qIve96Lu56jqVXinXZ74/HL7qrDTEa1IbgdKPVcjUVnyEk3VmK8Rp0on31QYHsURMEgRaCjlI9jR+NH5TETp8dxiZ9sGvJs0KuC6Lzs+xk/J/0MSyhXbnPqqDMgj8S+P8y8Y77M28PEJNv5eF9sa9Awz+NZKhbArvl5XqqrC3rdqTtBtSBD4IOltv9c9j8atjlke62sTnAtAscSsUjqOYoTjI3SU/GeSKC13ob50ANV93h/r0KKdtBUbnAPQ3S73wO1pl2dksQcpMQa0D4LMElKpqS1gABg7DqMTQP6iPf19G50/7fgcNznmu/9OOpX51Nr9C8YmvxPRPprbvNsiRvJkPTv5YTxRdk9E+we0aUEVaWZztrQD60STsN9nxs4Ag+0/4tGkbzC2/GrMqjgPl9hX473y68MYB1D9MTw9SOP9fznkQOQRx9foZ5+LF8v7o7st8qErtFQdxzE1+X+Y6zoXz5XfEdZ7G9kO4DHb1zqlLLjyAM/44TTfAIBL7dpMnxYOCYArSBnFY46v0c8xF/0cc9H4pHezj4ZSPhYotCHW6uEtlMpr55Wkj+GUvGskHCjHQueDXmv70nyIqxjmO8H2pTi7kM/f5sshExdLAC2grU9JSWV7pQbF4VetBLLGORBdbOF13W9q24/Jzud9xt/T9/LvbluGr5Ofj3o7E5JfDbjMqCfYUJn8fwIMm1LZy/E+x1R863we/3VMwR32GQrbU//dRHPD+bfjF6RJx/Fa0kfoGmb1n15nz432+Whsy8edDv3b7XmqjX9QE5EPwVEB/xJArY5RLM7zYPuo71FzcToKcY5Ulc9daHAP0spUK6W/qbQPdaWq3rtK34cWx9aoh00nyvCi4xNcYVPXSeTtpNFef3sH/QwH9cQA0IS0GAHdd6wvr+2rvKjCyUCSpQp8kaw8xt+50jYMcAQevNZTOG0JIykr/SD5bXSyKU8+Hg6l2TXUiCRj1yoLlNsYqtua79R/QGTt3GIt8uENgx+XUOdlc9tefJP8XNAqy3BVw0ksSxmMFSn3QesbYbwEGME6SJR6VGDlpgzCVOdTaCNF1iygYRidU8KhJrhT/i60/X4q/99OCq8zTSTusM/ArY7ZqoeOudYeeK7fpxxfaJUsUsAA0ISivfTfShrtdfGr7ckYXOSZ/XvJ6qetivVTa6gbYbD0OFHqNRSGmm07FXo6uxRmAgi1nUhlQ924YUlSud9ew/luApWA6P39hjtzi6ezpZ1R7fsC2yYMsE9HlspjHIpnOz2tg2/PbyHS78QzX/EaEkrDatZgVcBKIi35W+B8CM85xil2dolEsGMa/HoW6CBtQnWPoaa0Op8cKI+4LW846nm0/xzumIBXHB+qfy8Oe7Ufvdvxm6ZpI28MAE0o2gLA2lIRUjyG/Ghh8w5SRie/h2wcxpYDwYcbMaIqM5wSwGDpayNtR1qQAZmj5ZTKsSllAGY6HwvrfZOdntXP8mfVbhiI0MfOd0q/wFvyT9PpKMJXSS/iGlvgJ/ZK1aSTeNLxJdpJ20Kuq6Vwq4wrSRD4xflk1PuvLx3EkpQhUW8HAMo8SriCDTPjSavQq74UeqYduT2dwEuOT3CDfUHI9cMlQYS4NvyXtbHtwKOOSRH1Wr/DMRMPOL4P+33BKF1HvqXrnutcb1uI75zPIcdjvl4tqrMlSZ9e54r78vj/nY7puMUxT9XYrADwUFJk01ZSZNgJxIQCBYBpOIY7NBo77PGkSSgS1YKnw4D2F2r32V7agjpSgeKyHNt6dHcuR4E4Dc+UDYBTKsPkistUbTcDxShADZWpVXaxbQ0WhFFgE0kAGOl3o/Q+l5CU5+T1WfexpK9xoX09LrSvx08nLwQA5NjWKQ7Y+oDjh4BpuOzUFHlmolUI3twWuETYf5/Bv8Nyjx68yShHCZJVbDM0caqbWDBvJH2gYl8utJJ2o79jtoq9RiZYOq+05/q9drV9MQCgQJwW0f5aSHsiep+vyu9W6Rse6VMj4rnONXb/IabCaxYTiMDwpM812I68rXCvGLtUAQj28DUbBoAmJEFyj2XnWQrwfNI4XBekvUQ4UlCKIgQPAGNFqa1KMNVxHD84hwdcnibJ7fMypGN4L1kedmR2xXk4grSQ216Z8m+vHoWRBFpqZxGQIFTdjPXmgqR4k/FNVV/7Qr91Ihmtf3zya2G/p5Ka4WEi8XGS+qmugtFyUF/PbQUbZiZaSlW2p3t0PMmUlEvSJSDqwdv1Eulg6nJVu3HNUEqQ5LfcJkX23ZtxxAEyF1YBm5ILfzrvx3Lnfe7xorrY1oQV/IWemSO8pzEJwAWnZhHRk5obXUaAG1Iw1QJUfcYy+PLtOGKDwLnSVr9hInxFejNTovRpjQ5A1brKnovFTm2qV31d6FHlFg1tjqXAEPsPuMRj6BW1N/MetmXu/ztRqvi+F5LG41wNquZtcIXdRs8MQo3Bp4XL7StxGk6oOh/6eJT6KT1AaBHIaRkMhtoWA8/4wRJAE3KUHXMPDlwbBcjD6QF72EYq3Iu0hnQC3zhf0DQNSpJUZM5n4HDIdcxocvJzXn/fYF+AV5M+CrB2+NSEHuF15DBfRp4VoNrfLFwi+oCom+0vPJI02eu1b5Kfx9CyQVgrzgz63ma2vbjEtgqrXE2xwvnvgOPePZakPC5hM+lvHBTpqr55W4A2elqdN3qdfw85vg26Ty32+2LSOPT2mCovmF72pXCWlXr1avakTRWwduTCA+BSm/LA/Z5jznq+R/5trs9idQwATUjYqtr+OCRXRDUSoarKzHohjkwaGXR5AykfX0cQiJrh87a0ebcvutHun1GqpVSycJa0V2FNb+EdB+OPWbyp0KAEsL7CzDzyMDMvoHXJuJDvbyttR21bYdiDHjeX9mCG83EAwCZX/ZDrSx7/er9u7vOmcuahQLQqD8+xr8cqV/CAvdKmlAHY4joDW0U9v2WR9gD3/B5+Sx4W0TaCbTfYWKi+UlCK5x3jDBlQnAKLv/J7C5Ckqq/FEeG8tqGqi6+y54bsWRirikHPjCpUBpFj06aqTg0JLvQ51ajcbJRuso4I2woFclMUAWqiO1Pah9PhP4WfnlWi1SRthijxVXmde/Y2VVN1KcGlaZtHs9AygA1nS81syg9wWqSnusre/2pEMlzSAPs03O6ITS9kUo8lgCbkecGrHf7Bl5qbxa069t7TS6AbUz97ZJ9FBBmDr49Nu+BPaeDoaDL2V5I+jiY5qlTOEKIkFScNm9/WaPVwCHOcjxidDM2F234xUBWwVtKlyAZbDyX4wDICbyWN0WW/kQp2D7jRPi9m6aj0k/Npv6n3QqknaTOWIWmLAaAJaTARiCbMWJET6CY1IumTiN4XTLMwhvQI5etk/2rraALAjrbNEb1Pq1PrOccExbY+ofdvxrMqMKX0trHtMCAlsrOlHbjUFryUXO5dHg6BW+0z8aTjS/crvs0VlNhO9WL3lYnisPZuNsFmpghf9FdcoE4r50pb8XpS4EGWTXIbIRNjFbAJeTbdMfIiNmMGEqzELqLtabq1wFrbdsVoT9oI1fD8apNWjceTM215+CrpxbCmFfzF+b+AHTgiZYcLLyaNC9kb3ZeA8uDCKZI5h4ZRo67GJVVa9Ap3BGgDeK39j6Dv0/NhKw3ajUxAxmEAaEKeJYDJKMfrjrHGJSYGwqkeiDRLC5QZBsugI53v18wkCNhRgecd49A9SBVuqFKQRGz7pVawc/AS+5qwtnWhfT3udUx1/30aTqB5kOkF1Qj3m4m0M1Jb23bc5pgV0XvVivUQRWfZ9mm6PS3GSQyUd93p0GZSgEisTrknrPXjq9zfOlgFbEKeF3xf+wLc6NB+miU1IhlvT2+R3hDSPObWVGuAY0ZE+zIzCQI32BfgdsdM3I6ZYbflqaRlo3Iz+z/77yiHPfSKUfCc93WO82FNhroJ5zqJdH+NpPyI3me0WDZDONvAkn8zNbeoLoWf/5L+WAJoQp4X7l2O4EMW6KmzTf+Bn2PlF+eTuDVGc2GqZUQZWhfbGq+xB5tLe5Ak6T8wbrzqal+BscnveF2TepZKaRH8xerGHy8DiJPxzo+wzTLpiwGgCUlxnrE21LFkIJqqxxeTQo+hBgBZOILfkh+PeD9qtbdt1X0fvp5Mmuj1d+W4bxScmUpTQlGa2k0P8RoApkqlRieByBQYAJpQrDJwvSxwPqTbtrW+6VxkX+f32gtJ49BKRS9IsqZIh2YKpLItV6bH/LvRikVwFt+5lDn1tC8LvRKRRhgAUpzR/8aWKcX3MBakrzHJ7+qy3ba27ZpsJz7L5Uhrp0vaPVBQYmIAaELMwAOzTqmDdT5pPDBy7D8ru1rDwdithqWJFAoDQBOSzDISNBlmbNI7RidBF6mIz/ZX19gX6br9xx0TEW9Bfyxmd8ixx27qR6sbl6R+bl9KDBwGxoxEfN0IPF1kC28ctHDFom2TGRr890jQp/eaJhxayAwGOX5GnYp/NNnWA47vMbuivSbbIuu43L7K6CQoesjxLYDeRicjIbEE0JSMD0Ai9WXyCF23H689D4lCaaxh7/mu9hWabUtvtgAzXZDsiaRJRifBUA84vsemPLbL1gMDQBMScVwCSESRsVs0EMqx+ffEJ/L029r9RichITEANCGJAWBAbW3bjE4CkS7Otei5nYzw5iAmIm0wADQhhn+B/dvxi9FJICINvZ002ugkkMnF++QIZsUA0IRYBWwsLQfkJaLgMqRjRieByJIYABL5aGKLz0nuiYgSEUdG0wcDQBMSFm0MTkRE5IuVYvpgAGhGPNmJiIgAAC5GgLpgAGhCZhiImIiIyAzYLl4fDABNiOc6ERGRjLdEfTAAJCIiItNiFbA+GACaEIu7iYiIZLwl6iNhA8Bnn30WkiR5/bRs2dK9/OTJkxg8eDBOP/10VK9eHX379kV+vjmG/xAs8CYiIgIAuHhL1EXCBoAAcPbZZ2P//v3un99//9297KGHHsLPP/+MyZMnY/78+di3bx+uv/56A1PriWc7ERERwEIRvTiMToCeHA4HsrOz/V4vLCzEJ598gq+++gpXXHEFAGDcuHFo1aoVFi9ejM6dO8c6qd54rhMREQFgFbBeEroEcMuWLahXrx7OPPNM9O/fH7t37wYA5ObmoqysDN26dXOv27JlSzRs2BCLFi0KuL2SkhIUFRV5/eiCZzsREREAtovXS8IGgJ06dcL48eMxbdo0jBkzBjt27MDFF1+M4uJi5OXlITk5GRkZGV7vycrKQl5eXsBtjhgxAunp6e6fBg0a6JJ2FncTERHJ2AZQHwlbBdyzZ0/3/9u2bYtOnTqhUaNG+Oabb5CamhrRNocNG4ahQ4e6/y4qKtIlCOTTDhERkYy3RH0kbAmgr4yMDDRv3hxbt25FdnY2SktLUVBQ4LVOfn6+YpvBSk6nE2lpaV4/euBMIERERDKOA6gPywSAR48exbZt21C3bl106NABSUlJmD17tnv5pk2bsHv3buTk5BiYShlPdSIiIlnWsU1GJyEhJWwV8COPPII+ffqgUaNG2LdvH4YPHw673Y5+/fohPT0dAwcOxNChQ5GZmYm0tDTcf//9yMnJMb4HMAC4jE4AERGROdQ7th6AWYZpSxwJGwD+/fff6NevHw4fPozatWujS5cuWLx4MWrXrg0AePvtt2Gz2dC3b1+UlJSge/fuGD16tMGpJiIiIk9CkoxOQkJK2ABw0qRJQZenpKRg1KhRGDVqVIxSpJ5gESAREREAwCUYAOrBMm0AiYiIKP6wD4g+GACaEc92IiKiU3hP1AMDQBPiOIBEREQywSpgXTAAJCIiItNysQRQFwwATYglgERERKQnBoAmVOOfdUYngYiIyBQ4F7A+GACaUINtwYewISIisgrGf/pgAGhCPNmJiIhkbBWlDwaAREREZFrJrpNGJyEhMQA0JT7uEBERAUDvQx8bnYSExADQhCSWdxMREQEAUl3HjU5CQmIASERERGQxDABNiSWAREREpB8GgCbE8I+IiIj0xACQiIiITGtWWl+jk5CQGACaEDuBEBERyU7YUo1OQkJiAGhKDACJiIhIPwwAiYiIiCyGAaAZsQqYiIgIAG+JemEASERERGQxDABNaF/hCaOTQEREZAoS28XrggGgCQmWdxMREQFgt0i9MAA0IX4pREREp7BQRBeMNUyIxd1ERESyE7ZqRichITEANCGbxACQiIiI9MMA0ITscBmdBCIiIpNgoYgeGACaEKuAiYiIZGwCqA8GgCbEL4WIiEh2afNaRichITHWMCEbq4CJiIgAAHXTUoxOQkJiAGhCEjuBEBERncJ7oh4YAJpQrZqZRieBiFTa6GpgdBKIEhsbAeqCAaAJVe90u9FJILK0qRWdVK/LTltEFI8YAJqRwwkAWFDRxuCEEFlTOexGJ4GI3PiQpQcGgCYmIBmdBCIKgdcpEcUjBoBmxPYORHGDVcBEOuMlpgsGgKYkTv3LkgUiI4Rz5TEAJKJ4xADQxHhbIaKEVau50SmguMG7oR4YAJoRq4CJKJENLwAGzjA6FRQveE/UBQNAEzNDFfBWVz2jk0ARKBLVjE5CXAunWtf4qzQOSRJUHbmk03RPCpFVMQA0JfM87Sx0cSia+GSec8jK4nYop4yG+u9DUhEASipuUR3vwolbp0aeDkdq5O8Nx6WPx2Y/CYn5mR4YAJqRME8nEDOkgcLHby12GtdKwNJWZ7q69RrmRLETNQGgujM5NSmKcRsdyZG/NxyCc7yTuTAANLHaNZxGJ8E7ADytdmxKBhJV1jlGp4B0kGRjNhoRVcGdykeZaNqIuWIUmLkqYrOfRCPZgA4DjE5FQmLOZUpyZta2fkboNVNr6poSl2cGfOdvQOtrdd2f27n9AWeadttLN0HgWj0rZrta7GoVs32ZWkqGobs/CGP3r1pSGKWYpzfz+COasmYV71UTXAuBqKoIRYwCM5YARqZuO6BGttGpSEgMAE0tdAZZdtVruqagRbZnEBYiPeE22O71RuBlVz4PNLsyvO0FZa02JF9XXG50Esyh56uRva1lOA9Wgc+tqAPx+34H6p0X3TYiEexSr9deo32oqQJWWbUbTZqiKZk7/+4wVrZWHqQdNmjRCwNAMwqjOqPi7L7Ao9t0KyK/pHmdqj9CZdgO9VXWi1xnAxfcE2QNlb0E1VJzTNv1025/BnMx0zwlsuOQtOVXjdMRoeTTEJPAwff6CNb5IinFYz29SwBVBoDJUfQWvvrtyN8bDpYAkskwADSlU5mxisxVkgCcVgu6PSX5pUGb/YS8pUlSlDcX3x0qZL71L/DdaXjbbHRRxMkJx7YLXojJfqKWMwSobsGqGr3HKNNj+/UvANrf6rEP31KwANeCPVm7phlqrm+bQ5t9BXLp40D7/sCF/43s/X55SBCxamtIpBIDQFPzzyDLRIAnYi2DpUBp0HAfIXsXa/15kk8DmnUP3rvxkkdCb6fjXVX/r3tueGmI8DMJNUNh+O5KTalR44sjSE0INRtF9r6zr6/6//ACTZLidstEbbfnK8j3GnUv+uQa0LwE8LTawN0zva+FilJ17/33Au/rJMIqdplGw8BEc3waXSj/vmwY0OZGr2PS+uSnod/f/Crgps/U7cvoEsDMM/XZ7iWPRb+NBp2i3waFjQGgGQV54t8u6gZYEosSwBClcpoGbTp8nv7fAMN2B15+etPQ24jVmGEeRLxcppIEXP+hNtuJRE+F9rBNLwcym0SXHiPcMA64bgxQvbZ+JYxBj3OAfdocQGpN4NlC4JkjQHYU4xwq7b+HR0DZ+GLo3v6r8tgmVwP6fgy07uNedBwpAd7kSQrdMa55TyCjEdBEhweucFzzvj7bbdhZg40E+Z7VNgOgsMXJncWiFDLIEeX/Ur2ul7T66sf28t6w+n2EkVk3zAzR61DtTAFaufjh0Ou0vg5oeoXuSfEl4qk5X83Gkb1Pi4eHTv/2f616Hf/XtKZHgHbO9cC5lde6AZ0HAn0mz9f1uDHX71j1/xvHa799I/SbCPx3BWA3eFiv1JpAzTh8GGJ7Zt0wADSlwBl+oTgNy1xVk6irvm9e/BDwf2PDT4pvCaBG6tdUCADP9WiTFKq0MWwhbqKnnxV8uSMFuGkCkF6/6jXdqt29CTURYIve2O4Ks/1dtczIEhR3NPyeYtVhQFcqj0e/r4Gr35E7mRlCIZ2ZTYEBPh10ognAw72GLxsW2T5sdhjeCzhG+VVEgtYsMUzRC4+sGa36Wv69MZzpjSK8uM+8LMRmPU4RDTMQxU3l/EeXfakTYn+VbYXqtASuHQXc+l10+0g7Q/W7ImkDqKizx/Ftcql3dZsSPdvlZKqobo/ElTp2mMk6x7sNaCgDZ6Fp7erR79eQuEEALXoAHe8E7ElGJECZswbQWMPOV426+LwQIh9ocmnk+9K7s5AaeuSrmmwzVk2LyBMDQDM6sl31qlKgC+feed5/C6F8IfV8PeQelP+vsRa9fXYb5ql5Rofgy5UyX8/jESqT8RzEuf2twFnd1KdNkfpjGUnTccWte1bZ3fETkBaoPWmkwjg/fI+3VjfHixR6c0ZyA6ndMoyVA6S9wfm4rXOEnWL0pKbq1usjSYEWRJmOEIGl3jf+nCGAPcxexlln65OWmNHhmOrRmcwLA0C9MAA0I8+Mz2d8v4C9Cn0zS7UDo4a6GfgFSVo9qSms69lLTrIH35ev7LYhVlC4cXnNEhFiX0rHqe1N8u/aKgf7jbj9oLrjELLHqZogq0FnoFUf4KqXVO0zcSkdy/BvRNWdWgxjonHJUbdnw9tnpIFYqAAvHqfQS0kDBi2K8M0hvsdwB9IPmwQ0CGPYGrWiLSFu0Tv4TB+sAtYNj6wpeWS4vd4E7p4TeM1w8uYzI5gdwqsKWMXpcunj4e+jkmcAaLOH97QdzoG46TM50On9ZlU1Z6hZR5TGI6vbDnhovTw0RihndAA6D5Krjh9YFX2wrBd7EnDzF8CFQ2K3T0AemkRrledrJKWLSiVDAb8GnQIkvbS7Jcw3eHy+cI7lzV8ov54SSWe0MIV8IETkga1u028qHFuHmp7IYejxCnDJo+G9p9rp2qbBV5935OGEmvdUXs4qYN0wADQjzxPe7pADjcpFPpmEpPC/gJJSgG7P+b8+4JcgafE8RVR0zLj8ydDpABS2I/xLADvdp25bQOgbk+fy1tcCA6cDGQ2AO6cB/8sL3SHCs/2cp/QzAEdy6PRd9aL8mc/qdqqnbDhVwBplgOFmpLq2WfJJy2VPyOM0htPzM2SPxgiPW5ubwhwzLcLjNOiPyN6nlWDDdwgNSgADHZeHN0e4PTMK47sPJ48C5GYId/ysbtvJNUI/4EsSkJoBXPFUeKVqQzeqXzfgvkPUNFWvA/xrUoD3MkzRC4+sKflkuFo+ASlVZTb2bQgdIC1apqOyU4UnrxJAmxxYtVVZWhHpZOE2G5AUYmy/hjlA7RbB1wl7Bgz1N45IBhNWHAha70bo0Zwf1TLlcRrP/j/17wk15mCk6en7kf7HqsOd3udU8x5Ay6uV19UrLS2vlgPu+/9S2qnH/zVuA5gUoFTLd8Bu1d9fiPa94dC1tCnUsfNY3ugiYPASucq23ySg3b/kNouB2GyRD8IeipoH3JCCffYQx/zc/hrsn5QwADSjMGYWkCrXVZ1xhZnBSb5/BHm/mimihiyX2yD5lqgJAZymNGabihvOfb8rV8tc/zFw/j1yVVskQ+BUSgoxZiEQugQxipu4qgAw7qpJNAgkQrVniqrkQCl9p46x743YDL07IyFJcsB9elPgps+9qxsDlgBqfJ5lnSP/vuUroGWvCDeiTXtNzfZ91pVARkP/1xvmBN9UoPOoRU/g/8YAyUF6lMfpKQggeN7V87WqttakOQaApuR7QcT45u7Vo1ZlCWDNxnLJSSi1mgFdHvKfvF2yyVWyN32uvtqjUqDZCNreCPR+A3hyX5Sj1eucu14zUv5deTOMcO/Cq0FAhGmOKpDU+TwNu+1VFOnx7PVdqbLt2lUvAo9srXo9Xf2QPm5mC9hbXyNfJ0o8S+YDld5F6u5ZcqeKlqdGARCBSh599Ds1VJZki6zdsT1ZVROTceXdQ6wRoPRRqZ1jagYwbK9c+htqW6FGLfB7q0vFg4jH+yOd+zgcWrQdrNfefNdKAmEAaEa+J3yQC0B1G8DKac7UlIrc/KXHDnzaAAbywKrQQ7EEU9novvU1QJNL1O0zIMm7lEaTKowQQma+QZafd7s8tVaUbcJeL78ZAPB5ebRD1EQpWJvSSPV6Q64KU6MykA7atCGEy//n/Xe984Br3pP/L0nyFG23ficPCRRuo3qg6nyp7K0ftJrL49x5YFWAKttTGkTxoOPVPMRjn0nV5CrJ+ucD6QolW4GoKRlNSgWyWivvV5ICX/4telRNR1cZgFemzZkePGi48gU52PUc1D2A58pv938xmoDEWV25Q5mfICXQiquHOVjUFU8Dd00P7z1Kgt1PPAcQD/qZgx1PBn960mKMAtJc4AAwYMlOsEzpzMuqGgirybw8x4cLZ6y8aKjKFFV66kBsgr5w1Ih8zL20FHVTbk13nY/2J8fiH9TAlbbcCPemQXsvVYFXBOdSg05yydzR/ODrXfs+sHiM3LEkUtUygacPA3+8DTS+BGioMCj2Wd3kn5OFke/nzmnAPzuAOq2AVSoC3Ein2guXbxVwZVAf09KYMJs+3PYDMP9V4OKhwJRBQd4kwhi6JIaf1/OYKw2UHmruZleF+n3ZHdrM4dvmRvl3z9eBnQuAvLXy+QzI6T2nL7D2O/khaW4EQ0ux9E9XLAGMc1XXR5ALpeNAjS4kHS9GteMWqmFE8Kd0fJtdJU9bdeP4qhLYCDQ5Xf34YP8gDYAUeRWwWbW+Vj7Gasawq9de7iASVk9eBXaHfONSCv48paT795QcODP4eyrPl6QUOfiLldbXRvY+ScUIAFqIpvdxrbPkZih1WgGXPBZkH8FKy1Ts07N6N1D74GDt/QLOZCLkUrnzbgeuUprRJlgJoADqnRt4OaDP99f7Lfl3p3vlYX/sPnnvdWOAgbOCz7XOIM8wLAE0ozA6gajiVbUTxcWmx03g3wuB7fPCG/Il5lR8ZsUSBUmbaas8b4r2ZKCiNPptRuuBVUB5CXDiH+DTUO2klKgMUHOGyMNWhOqpbTTPUvNGF0U24G6gayucTibBrs9qpwM3TlC5ITM8QESR17TsJQ83M+lfwN7l3sui7bSTlCq3W5QkwOFUXqfrcCCtHtCyj/+y1tfJY5F+41O9LIRcKhdRyZyQJw2QbMAvQyN4fwSadpWrtINxOIEG58cmPRQ2y5cAjho1Co0bN0ZKSgo6deqEpUuXGp0kua2NSqp6AXv2Hgs7gAuyvkODm3LdtvL0XQGrZMxwI1KRhuvG+L+mWbDssf9AQ4X47lrpRa2q2f+XL1dF1m7hfbPSI0iTJPMHfxEJ59wI4xqo7DFZp7X/MkeK+nPSsJ7NWow/eEoNhY48vvuIVFbrwCW3QsiBUZeH5FJJX5Ikl8T6DX4eIl3OGv6vpZ4afaD++XIeev7AGMwoEkssHdSTpQPAr7/+GkOHDsXw4cPx119/oV27dujevTsOHDhgbMJ6vwF0GQr8Z0l02+n2LNCun89cjdFeUB7vT1YxPIpVZJ2tUB2kUebleTPu/SZw9duRbee82+WgPdjYimpuur49Qa98Xq527Rys3ZXfjsJYN46FE8TU7xj9/s4bIDc7iLqBv0EBoFcVsE63J9MM2+NzboRKl1Jp292z5B69fT+pei1gr/Roan90DBU8rxHfqnOLZBNGsXQA+NZbb+Gee+7BnXfeidatW2Ps2LGoVq0aPv30U2MTlloT6DYcqBPOhPQKujwkj3/nOeemplW4vDq9+GbgmmWaHttNSQc63hXZFFGnNwUe2xbdmIhKLnoAuHeeuim+Kkuj+7yjbtumuVnHQOfBQI9XgcFR1ELYbHKzg5Q0+UHBszNBzI9lJPvzHQZG/YgI6tOgw3HwbPsW8WxIETi9qdxe0LO08+Yv5Y5/dc+NfvuVGii0g1UafivazzTgF+CJ3dFtg1SzbABYWlqK3NxcdOtWNWSGzWZDt27dsGhRpJN9G0ivhrRx00BXx3Se3iyy92l17LymyKu8ZINvu239AMFY8mkh0uWxTI+A4eq3gSf2yD2Frx0lv9ZxoPr365Gmf03WfpuRcCQDne/zn3Um0s/c8S7gv0GGjAnGqMBbkynoQu1Dh216NrM547zIthHy8/osDzQVYu3mwO0/+s+2pNXxvHe+3DkqmnnfvXiky2aPzVzRBMDCnUAOHTqEiooKZGV5txPJysrCxo3Kcx+WlJSgpKTE/XdRUZGuadRF2Bl7tE/gUfJsZN3mRrln7ff3xGbfd80A1n4rd0IwC5XH/+4ujYHv9U1KZCS5dAqQx9BrekVUQ+SoE+Kcb36VfrsO9PBQO8rS/YseAPb+BexcGN12AjJDyateeU2Qz2boA2+Y+/7X19rt+owOwF6VQ0fVOzd0j2PNxEsBRHyybAlgJEaMGIH09HT3T4MGDWKehkIEauAbowulToBBW/Vy+VPyPnu8CvT9OLbTAjXsBPR6vSpgCZfakrZQwp0VAIDToW7sQD9ZZ0f2vkil1YujUuYINDgfuP4j7+YAl/8P6HhndNu98vkwevRWCuN6TYROIIDy59Djs110amaNVgq9fvXi14kkGgrHOu0MeTrNaLcT8i0JfP2bnGUDwFq1asFutyM/33tQ2fz8fGRnZyu+Z9iwYSgsLHT/7NmzJxZJlfX9BOjxKnYIjUtLwr34zv4/eVaGe+dpm45AamQB/1kkV43FQmWvOk3az4QYuFW1GN2MuzwEXDYs9vuNRt9PAMkuTyEYicrq55u/kOeMvmFc9GlK82mE3/Ym4AyPDh6XPhbGQMSAqu/h4oflmUnMqrKKtOkVwdcL2QnEpG0ALzzVDrZvOO3HDa5dCbXvoevl6TQBnR8IgnxuNfOwU8QsWwWcnJyMDh06YPbs2bjuuusAAC6XC7Nnz8aQIUMU3+N0OuF0Bhj3SW9tbpB/TwkwzZbqzCPAhXzN+8BPQ7x7kwXazwUxqoI1wsAZwJIPgC4PGp2SKrEqjVEzyLLhfI5FmxvkcdXsEWZlvd+Uf7fqAzyV7zNmZphumwL89RnQY4TCQh2+Q89rvtN9QPU6Gm5c4/S26ycPUaI0w0XA/SrkaXqVCkbLZgt/MPtwP0u4Y0s27wEsHh3ee6KlVRB7xdPAsYPRd4SkoCxbAggAQ4cOxUcffYQJEyZgw4YNGDRoEI4dO4Y774yyekZnypdYlBfeebfJU6hVBpqVPIceiKTnabyp1UwehkfFPKEh6dEL2Opc5f6vRRr8Ad43rGiCPwBoejlw4zjgtFr+y+pF2DHAKFoESb4dOuq0Cj1LT0w6gYQ5b65Z1GoG3BpGw94zLwX+70OVK0tyIYARlL7nSx4Ber4a+7RYjGVLAAHg5ptvxsGDB/HMM88gLy8P5557LqZNm+bXMcRMHuvRApijsECLAV6VRrVPqibPsQlw3L+QfI5ti54abVbphhXq+/ZIS5sbI58CzGwqyoxOQWS6PiMP7xTJ9xDomvUc2FvLubTDldEIKNilvKzDACB3AtD5P+FvV7fSvmDBbSyrYX33pWLf4bbR9eyRrBhoPQoseB3o/rLcXrVoHzDvZYUNqXwguOBeYOqD8jA0ZHqWDgABYMiQIQGrfM0q5uVBodrtmIHZGhLf+h1wZpDjdm5/YP4r6mZ9UTnJe+0aThwsPtVL3bMEs2+4DblP0aOqLNrvKaORNumINWd14PJhodcLR0oacOkTgKgAqmVqu+1wcpl75wH7/gK+6Ou/rM+7QM/X1c/PHbJ0zqRVwFoI99rQIs+74ik5CKx8+I92mx0GyAOa12oRctUqJsu7LcTyAWC8CZx36XUR8eJUz+NYndUt8GqAXMXR4Hygvk+7ntt/BD7zKSVSuikqZNQts2tUBYBndJDH3KvZOHg6stoA+WuAFr2Dr6cV35H+w9XsSrm0om47bdIT77QOKiuFEyNVywxwvp/aiNrgD9ChejZGnUAiEZOHVinA/z141fxEmSZJUh4gOtR7yBAMABNR25uDLDRJ5qe1JpfKv42sCgvn2NqTlG+aSlUnSjfFPu8C33kPoCz5ZqQd7wqdjtu+B9b9EOKc0UBydeD+XKCGcg971SQJyBkc3nvitc2XmxHXrAkGgo7nfaji2ws4yjaoirvQYTpKrek5zRwFxSMfhxQvac+BZa8bE/jNfo3RtX/6Wtegn+bbDKl2c+D+v4DHtsd+33preap0zrP0rM0NflMmiUgy6ep1gE7/BlIzIk+fknP7e/+dlBpZ8Geam3UiiIOSFt9gPdoA5opn5N9es82YdCBopTbYvhLyeoiD8zJBMQBMFG1uBK58ARg4M3hvxoadgJs+02afAZ7cdtW+3P3/g12e12ZfapzeNDGnEapWC3hyPzDgV+/Xdf+sUdxsrn5Hs1RErU5r4Lzb47ekoUUv+XdalD3Tw/n8hk0F59PeNcenfXa4AVqzbsDju6qG+wGCf7ZLHgVOq4OR5deFt59ISD7VszeEOwe9AW0G9WDWdFlAnOaI1iWEUL4t22zyaPRqxoo660r1O2yoMAl4pVu+Aqqd7j/UgEcmXtj2rti1L0tUkiT3wLYFuVzNFvj6tfsyeJDba0YClzxmXBqicfn/gP/7ALhHqft/GMK60Wo8DIxavh2ezr8bGOQ5N3sE51Fqhs9nD5KutHrAI5vxZnkMZxwC5CG4zuqq/XbD7lgS4PW0elEnJfydkt7YBjAOxeRyeXwncOKf4J0IGlwAPLrNL5ORvDJ+XtxRC1Zyc91Y4K8J8iDOX++IWZIohpJSgHa3RL+dcIIBo0oAfeeYlSQgq7XiqhEL9dliViLlsR/VHWWinMs9Ur1elx/sO+gwRi5LAA3DADDOxCxfTq0p/4SiePH6JjIR263EULBpw87tJ/8AkKSd+qWhXntg3wqgQZAS4WBMkclb/DyMhyrw9PrAkOVASoaOOzHJeRDtJRH2NRXFDqvXkadL1IUZ8gZrioMcgTxpk3XpmwFKZslgY63TqfmKK9tsacG3M0UseT5t9PtaHjNMq/ajZIAYVwFHqlYzoHpt/bYfzx0pPOfGtasoNTTFg1cI8ZDGBMUSQNJcUTWfwXq1znB7vQH8+oi229TCFU8Dza6Sx+DTwkPrtJmSTgs1suQG8hGLNJOP45u12cRDJ5BQogkWatQDivcBLa/WLj1RibA94w2fykPGJKXqsA8jgjEGgEZhAEiaK0qtj36l/8NhkQZdpiK/4B5zBoB2B9D4oui38/hO4ESBeYI/im9XvgDMfFruCKOaSQPAaIKFIUuBwr1AnZYhV62R4kDxyXLUqp4MKEw/bahzFGZcCcQzYDZrSZtZ02UBDADjjFkfzH0tcslzVsrXtg6JtjkAl9lyZo2obX/pQ/tsVMPvjZm8cS76L9B5UPC2pLowWWblrKEq+AOAWUMvxUcLtuPWzo2A93VKD68JGY+DYdgGMM4EGATGegb8AtQ5G7hjqtEpMQ2eGRRQuMGfWZ80YxQsZKWl4KmrW6NxrdN03ItJpoKLlYfWAbf9YGwayAsDwDhzWrLGhbaxyFDVNFYOV8POwH/+BJpcrP22SXt9PzY6BRSWCALAUPNOR6PZVfLvzoP020ciMlPpWnp9oOkVRqeCPDAAjDO3dm4UeqVQkqoBtVsBGY2A9AbRby+Uq14EMs+UO29Q/Ljg3/LvMy8Pvl4o1WoBjbtE9t6GnaPbN8XO4KXA0I1Vf2vZhvWWicB/VwKtr9Vum0aLSXBmogCQTIdtAONMarIGE4ZLEjDoTwAi+LRxEXLYqjKduukpQHIj4L8rNN8P6ezcfwFnnAdkNo1uO7YIspkHVgH7VwGtrolu38G0+5d+2453kVQBO5xAWl3g9h+Bf3Zq1xsekDtYZTbRbntWZJbSwLumA8cOAotGy+cLGYYBYBx6t/x6fJ78CvY0vA4Rl98Fm1YsSpJHRlNN6yprCkjz7F2SgDqttN6qOjUb61ul+OQ+7zHVyEcUbQDPvEyzVCS2GARkYQd9MWj7WVmq36qP/vuioFgFHIcWutri3JMfYHWHEUYnRZEwawNyokrJp5mnRMSMeA3r78Ih8u/mPXXcCc9xCozFM3GqADV4AyMiilcd7gQadJZnPtGLZKJewGQ6LAEkIiIfLAF06/Ou/PuGT7XdriQBWa0NGJ+RSMYSQNKcxJJJ8sTzIf6wCrhKhwFAu35yJ5e4w2uPAmMJIBHpKy5vnFbHANBLvJ7D8TAVHBmGASAR6ePG8UDNJsBNnxmdElKr/vny77Y3G5sO0ki4QR+DRCthFXAca1pHz2mKiKJ09v/JPxQ/+k8GdiwAmnU3OiWkOTXBHUt+rYQBYBya9uDF2F94Ei2z04xOChElktSaiTXbhtV5VfsyuCNvDADjUMvsNAZ/5IdNfIjIGzMFCoxtAInIGjhDBVkNnwopCJYAEpE1NLoQuGsG55Qla+LQPuSDASARWUfDTkangIjIFFgFTERElIjYCYSCYABIRESUkNgGkAJjAEiaY7tjIiIic2MASERElIg8n8bZCYR8MAAkzTGfISIyA1bHUGAMAIkSBLN6IvLC9jgUBANAIiKihMeqGfLGAJA0x4dOIiIzYGZMgTEAJCIiSkTsBEJBMAAkShCt6qYZnQQiMhWWAFJgnAqOKEHcf0UzOOw2XNU6y+ikEFE8qtXc6BRQDDEAJEoQqcl2DL2SGTgRKVFRBdzqGqDHK8AZHfRPDhmOVcCkuV5t6gIALmx6usEpISIi1SQJ6DwIaHCB0SmhGGAJIGmuVnUnNr7QA04Hny+IiIjMiAEg6SIlyW50EoiIrI29gCkIFtEQERElJPYCpsAYABIRERFZDANAIiKihMcqYPLGAJCIiCgR2ZOq/p+aaVw6yJTYCYSIiCgR2ezAPXOBilIgNcPo1JDJMAAkIiJKVGecZ3QKyKRYBUxERERkMQwAiYiIiCyGASARERGRxTAAJCIiIrIYBoBEREREFsMAkIiIiMhiGAASERERWQwDQCIiIiKLYQBIREREZDEMAImIiIgshgEgERERkcUwACQiIiKyGAaARERERBbjMDoB8UwIAQAoKioyOCVERESkVuV9u/I+bkUMAKNQXFwMAGjQoIHBKSEiIqJwFRcXIz093ehkGEISVg5/o+RyubBv3z7UqFEDkiRpuu2ioiI0aNAAe/bsQVpamqbbjic8DlV4LGQ8DlV4LGQ8DlV4LGShjoMQAsXFxahXrx5sNmu2hmMJYBRsNhvq16+v6z7S0tIsfRFX4nGowmMh43GowmMh43GowmMhC3YcrFryV8maYS8RERGRhTEAJCIiIrIYBoAm5XQ6MXz4cDidTqOTYigehyo8FjIehyo8FjIehyo8FjIeh9DYCYSIiIjIYlgCSERERGQxDACJiIiILIYBIBEREZHFMAAkIiIishgGgCY0atQoNG7cGCkpKejUqROWLl1qdJKismDBAvTp0wf16tWDJEmYMmWK13IhBJ555hnUrVsXqamp6NatG7Zs2eK1zpEjR9C/f3+kpaUhIyMDAwcOxNGjR73WWb16NS6++GKkpKSgQYMGeO211/T+aGEZMWIEzj//fNSoUQN16tTBddddh02bNnmtc/LkSQwePBinn346qlevjr59+yI/P99rnd27d6N3796oVq0a6tSpg0cffRTl5eVe68ybNw/nnXcenE4nzjrrLIwfP17vjxeWMWPGoG3btu5BWnNycvDbb7+5l1vlOPh65ZVXIEkSHnzwQfdrVjkWzz77LCRJ8vpp2bKle7lVjgMA7N27F7feeitOP/10pKamok2bNli+fLl7uVXyzMaNG/udE5IkYfDgwQCsdU7oQpCpTJo0SSQnJ4tPP/1UrFu3Ttxzzz0iIyND5OfnG520iP3666/if//7n/j+++8FAPHDDz94LX/llVdEenq6mDJlili1apW45pprRJMmTcSJEyfc6/To0UO0a9dOLF68WCxcuFCcddZZol+/fu7lhYWFIisrS/Tv31+sXbtWTJw4UaSmpooPPvggVh8zpO7du4tx48aJtWvXipUrV4pevXqJhg0biqNHj7rXue+++0SDBg3E7NmzxfLly0Xnzp3FhRde6F5eXl4uzjnnHNGtWzexYsUK8euvv4patWqJYcOGudfZvn27qFatmhg6dKhYv369GDlypLDb7WLatGkx/bzB/PTTT+KXX34RmzdvFps2bRJPPvmkSEpKEmvXrhVCWOc4eFq6dKlo3LixaNu2rXjggQfcr1vlWAwfPlycffbZYv/+/e6fgwcPupdb5TgcOXJENGrUSAwYMEAsWbJEbN++XUyfPl1s3brVvY5V8swDBw54nQ8zZ84UAMTcuXOFENY5J/TCANBkLrjgAjF48GD33xUVFaJevXpixIgRBqZKO74BoMvlEtnZ2eL11193v1ZQUCCcTqeYOHGiEEKI9evXCwBi2bJl7nV+++03IUmS2Lt3rxBCiNGjR4uaNWuKkpIS9zqPP/64aNGihc6fKHIHDhwQAMT8+fOFEPLnTkpKEpMnT3avs2HDBgFALFq0SAghB9M2m03k5eW51xkzZoxIS0tzf/bHHntMnH322V77uvnmm0X37t31/khRqVmzpvj4448teRyKi4tFs2bNxMyZM8Wll17qDgCtdCyGDx8u2rVrp7jMSsfh8ccfF126dAm43Mp55gMPPCCaNm0qXC6Xpc4JvbAK2ERKS0uRm5uLbt26uV+z2Wzo1q0bFi1aZGDK9LNjxw7k5eV5feb09HR06tTJ/ZkXLVqEjIwMdOzY0b1Ot27dYLPZsGTJEvc6l1xyCZKTk93rdO/eHZs2bcI///wTo08TnsLCQgBAZmYmACA3NxdlZWVex6Jly5Zo2LCh17Fo06YNsrKy3Ot0794dRUVFWLdunXsdz21UrmPWc6iiogKTJk3CsWPHkJOTY8njMHjwYPTu3dsvvVY7Flu2bEG9evVw5plnon///ti9ezcAax2Hn376CR07dsSNN96IOnXqoH379vjoo4/cy62aZ5aWluKLL77AXXfdBUmSLHVO6IUBoIkcOnQIFRUVXicrAGRlZSEvL8+gVOmr8nMF+8x5eXmoU6eO13KHw4HMzEyvdZS24bkPM3G5XHjwwQdx0UUX4ZxzzgEgpzM5ORkZGRle6/oei1CfM9A6RUVFOHHihB4fJyJr1qxB9erV4XQ6cd999+GHH35A69atLXccJk2ahL/++gsjRozwW2alY9GpUyeMHz8e06ZNw5gxY7Bjxw5cfPHFKC4uttRx2L59O8aMGYNmzZph+vTpGDRoEP773/9iwoQJAKybZ06ZMgUFBQUYMGAAAGtdG3pxGJ0AIisaPHgw1q5di99//93opBimRYsWWLlyJQoLC/Htt9/ijjvuwPz5841OVkzt2bMHDzzwAGbOnImUlBSjk2Oonj17uv/ftm1bdOrUCY0aNcI333yD1NRUA1MWWy6XCx07dsTLL78MAGjfvj3Wrl2LsWPH4o477jA4dcb55JNP0LNnT9SrV8/opCQMlgCaSK1atWC32/16MeXn5yM7O9ugVOmr8nMF+8zZ2dk4cOCA1/Ly8nIcOXLEax2lbXjuwyyGDBmCqVOnYu7cuahfv7779ezsbJSWlqKgoMBrfd9jEepzBlonLS3NVDfS5ORknHXWWejQoQNGjBiBdu3a4d1337XUccjNzcWBAwdw3nnnweFwwOFwYP78+XjvvffgcDiQlZVlmWPhKyMjA82bN8fWrVstdU7UrVsXrVu39nqtVatW7upwK+aZu3btwqxZs3D33Xe7X7PSOaEXBoAmkpycjA4dOmD27Nnu11wuF2bPno2cnBwDU6afJk2aIDs72+szFxUVYcmSJe7PnJOTg4KCAuTm5rrXmTNnDlwuFzp16uReZ8GCBSgrK3OvM3PmTLRo0QI1a9aM0acJTgiBIUOG4IcffsCcOXPQpEkTr+UdOnRAUlKS17HYtGkTdu/e7XUs1qxZ45W5z5w5E2lpae6bRk5Ojtc2Ktcx+znkcrlQUlJiqePQtWtXrFmzBitXrnT/dOzYEf3793f/3yrHwtfRo0exbds21K1b11LnxEUXXeQ3PNTmzZvRqFEjANbKMyuNGzcOderUQe/evd2vWemc0I3RvVDI26RJk4TT6RTjx48X69evF/fee6/IyMjw6sUUb4qLi8WKFSvEihUrBADx1ltviRUrVohdu3YJIeQhDTIyMsSPP/4oVq9eLa699lrFIQ3at28vlixZIn7//XfRrFkzryENCgoKRFZWlrjtttvE2rVrxaRJk0S1atVMNaTBoEGDRHp6upg3b57X0AbHjx93r3PfffeJhg0bijlz5ojly5eLnJwckZOT415eOazBVVddJVauXCmmTZsmateurTiswaOPPio2bNggRo0aZbphDZ544gkxf/58sWPHDrF69WrxxBNPCEmSxIwZM4QQ1jkOSjx7AQthnWPx8MMPi3nz5okdO3aIP/74Q3Tr1k3UqlVLHDhwQAhhneOwdOlS4XA4xEsvvSS2bNkivvzyS1GtWjXxxRdfuNexSp4phDwSRsOGDcXjjz/ut8wq54ReGACa0MiRI0XDhg1FcnKyuOCCC8TixYuNTlJU5s6dKwD4/dxxxx1CCHlYg6efflpkZWUJp9MpunbtKjZt2uS1jcOHD4t+/fqJ6tWri7S0NHHnnXeK4uJir3VWrVolunTpIpxOpzjjjDPEK6+8EquPqIrSMQAgxo0b517nxIkT4j//+Y+oWbOmqFatmvi///s/sX//fq/t7Ny5U/Ts2VOkpqaKWrVqiYcffliUlZV5rTN37lxx7rnniuTkZHHmmWd67cMM7rrrLtGoUSORnJwsateuLbp27eoO/oSwznFQ4hsAWuVY3HzzzaJu3boiOTlZnHHGGeLmm2/2GvvOKsdBCCF+/vlncc455win0ylatmwpPvzwQ6/lVskzhRBi+vTpAoDf5xPCWueEHiQhhDCk6JGIiIiIDME2gEREREQWwwCQiIiIyGIYABIRERFZDANAIiIiIothAEhERERkMQwAiYiIiCyGASARERGRxTAAJCIiIrIYBoBEREREFsMAkIiIiMhiGAASERERWQwDQCIiIiKLYQBIREREZDEMAImIiIgshgEgERERkcUwACQiIiKyGAaARERERBbDAJCIiIjIYhgAEhEREVkMA0AiIiIii2EASERERGQxDACJiIiILIYBIBEREZHFMAAkIiIishgGgEREREQWwwCQiIiIyGIYABIRERFZDANAIiIiIothAEhERERkMQwAiYiIiCyGASARERGRxfw/gUf4Z8B50qUAAAAASUVORK5CYII=' width=640.0/>\n",
       "            </div>\n",
       "        "
      ],
      "text/plain": [
       "Canvas(toolbar=Toolbar(toolitems=[('Home', 'Reset original view', 'home', 'home'), ('Back', 'Back to previous …"
      ]
     },
     "metadata": {},
     "output_type": "display_data"
    }
   ],
   "source": [
    "fig, ax = plt.subplots()\n",
    "ax.plot(format_y2[:,1])\n",
    "ax.plot(y2_old_predic[:,1])"
   ]
  }
 ],
 "metadata": {
  "kernelspec": {
   "display_name": "Python 3",
   "language": "python",
   "name": "python3"
  },
  "language_info": {
   "codemirror_mode": {
    "name": "ipython",
    "version": 3
   },
   "file_extension": ".py",
   "mimetype": "text/x-python",
   "name": "python",
   "nbconvert_exporter": "python",
   "pygments_lexer": "ipython3",
   "version": "3.7.0"
  }
 },
 "nbformat": 4,
 "nbformat_minor": 5
}
