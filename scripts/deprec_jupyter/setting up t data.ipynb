{
 "cells": [
  {
   "cell_type": "code",
   "execution_count": 1,
   "id": "f1377aee-c248-4503-a5ae-81dcdc97e36b",
   "metadata": {},
   "outputs": [],
   "source": [
    "%matplotlib widget\n",
    "%load_ext autoreload\n",
    "%autoreload 2\n",
    "\n",
    "from src.folder_handler import *\n",
    "from src.cort_processor import *\n",
    "from src.tdt_support import *\n",
    "from src.plotter import *\n",
    "from sklearn.decomposition import PCA\n",
    "import pickle"
   ]
  },
  {
   "cell_type": "code",
   "execution_count": 3,
   "id": "55b95d11-5eb5-415e-af42-639ba3ec2153",
   "metadata": {},
   "outputs": [],
   "source": [
    "with open('/home/diya/Documents/rat-fes/data/pickles/rat-annie_5-19_session.pkl', 'rb') as inp:\n",
    "    session519 = pickle.load(inp)"
   ]
  },
  {
   "cell_type": "code",
   "execution_count": 6,
   "id": "1ad2b28a-b406-44a5-bfc0-60af264c4ed2",
   "metadata": {},
   "outputs": [
    {
     "data": {
      "text/plain": [
       "dict_keys(['bodyparts', 'angle_names', 'rates', 'coords', 'angles'])"
      ]
     },
     "execution_count": 6,
     "metadata": {},
     "output_type": "execute_result"
    }
   ],
   "source": [
    "session519.data.keys()"
   ]
  },
  {
   "cell_type": "code",
   "execution_count": 7,
   "id": "81286c03-23ca-4000-abdd-d433d39ed3b8",
   "metadata": {},
   "outputs": [],
   "source": [
    "with open('/home/diya/Documents/rat-fes/data/pickles/rat-t_session.pkl', 'rb') as inp:\n",
    "    t_data = pickle.load(inp)"
   ]
  },
  {
   "cell_type": "code",
   "execution_count": 15,
   "id": "8f3c66ef-8e7e-4f9e-8711-506f607426e0",
   "metadata": {},
   "outputs": [
    {
     "data": {
      "text/plain": [
       "(32, 3503)"
      ]
     },
     "execution_count": 15,
     "metadata": {},
     "output_type": "execute_result"
    }
   ],
   "source": [
    "t_data[0][0].shape"
   ]
  },
  {
   "cell_type": "code",
   "execution_count": 22,
   "id": "72110f68-078e-452a-abd8-9b35ad0b9720",
   "metadata": {},
   "outputs": [],
   "source": [
    "rates = t_data[0]\n",
    "angles = t_data[1]\n",
    "toe_height = t_data[2]\n"
   ]
  },
  {
   "cell_type": "code",
   "execution_count": 17,
   "id": "e785e1c4-2978-430e-88be-441c4e71df95",
   "metadata": {},
   "outputs": [
    {
     "data": {
      "text/plain": [
       "dict_keys(['bodyparts', 'angle_names', 'rates', 'coords', 'angles'])"
      ]
     },
     "execution_count": 17,
     "metadata": {},
     "output_type": "execute_result"
    }
   ],
   "source": [
    "session519.data.keys()\n"
   ]
  },
  {
   "cell_type": "code",
   "execution_count": 20,
   "id": "d0b5b056-515e-4f7c-b3f0-37c7b60a1232",
   "metadata": {},
   "outputs": [
    {
     "data": {
      "text/plain": [
       "dict_keys(['bodyparts', 'angle_names', 'rates', 'coords', 'angles'])"
      ]
     },
     "execution_count": 20,
     "metadata": {},
     "output_type": "execute_result"
    }
   ],
   "source": [
    "session_t.data.keys()"
   ]
  },
  {
   "cell_type": "code",
   "execution_count": 23,
   "id": "262c0635-946f-45c5-95c3-97f08b492a65",
   "metadata": {},
   "outputs": [],
   "source": [
    "session_t.data['rates'] = rates\n",
    "session_t.data['angles'] = angles\n",
    "session_t.data['toe_height'] = toe_height\n",
    "session_t.data['coords'] = None"
   ]
  },
  {
   "cell_type": "code",
   "execution_count": 30,
   "id": "ae36eb4f-5b9e-4e81-8d91-0b62f91185b1",
   "metadata": {},
   "outputs": [],
   "source": [
    "session_t.handler.folder_path = '/home/diya/Documents/rat-fes/data/rat-t/03-03-22'"
   ]
  },
  {
   "cell_type": "code",
   "execution_count": 32,
   "id": "572140a8-f00a-4aeb-9a40-17422f7ced07",
   "metadata": {},
   "outputs": [],
   "source": [
    "with open('/home/diya/Documents/rat-fes/data/pickles/rat-t_session.pkl', 'wb') as inp:\n",
    "    pickle.dump(session_t, inp)"
   ]
  },
  {
   "cell_type": "code",
   "execution_count": null,
   "id": "ff09916f-bc0e-46e4-b8d5-79ae254cc4e9",
   "metadata": {},
   "outputs": [],
   "source": []
  }
 ],
 "metadata": {
  "kernelspec": {
   "display_name": "Python 3",
   "language": "python",
   "name": "python3"
  },
  "language_info": {
   "codemirror_mode": {
    "name": "ipython",
    "version": 3
   },
   "file_extension": ".py",
   "mimetype": "text/x-python",
   "name": "python",
   "nbconvert_exporter": "python",
   "pygments_lexer": "ipython3",
   "version": "3.7.0"
  }
 },
 "nbformat": 4,
 "nbformat_minor": 5
}
