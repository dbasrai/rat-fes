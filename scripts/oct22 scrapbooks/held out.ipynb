{
 "cells": [
  {
   "cell_type": "markdown",
   "id": "f38d943b-3061-42d1-a699-5ab81a489e6e",
   "metadata": {},
   "source": [
    "# regression decoder test (~10/6/22) (FOR FILIPE DATA ONLY)\n",
    "this compares a fixed decoder, pca decoder, cca transformation (w/ day0 decoder), and a regression decoder on day-N data. the latter two use a day-0 data as a prior start. "
   ]
  },
  {
   "cell_type": "code",
   "execution_count": 26,
   "id": "80ff2fbb-e579-471f-b42c-e51c222d33fa",
   "metadata": {},
   "outputs": [
    {
     "name": "stdout",
     "output_type": "stream",
     "text": [
      "The autoreload extension is already loaded. To reload it, use:\n",
      "  %reload_ext autoreload\n"
     ]
    }
   ],
   "source": [
    "%matplotlib widget\n",
    "%load_ext autoreload\n",
    "%autoreload 2\n",
    "from src.folder_handler import *\n",
    "from src.cort_processor import *\n",
    "from src.cca_processor import *\n",
    "from src.tdt_support import *\n",
    "from src.plotter import *\n",
    "from src.decoders import *\n",
    "from src.utils import *\n",
    "import pickle\n",
    "import scipy as sio\n",
    "import numpy as np\n",
    "import matplotlib.pyplot as plt\n",
    "from  matplotlib.colors import LinearSegmentedColormap\n",
    "from src.wiener_filter import *\n",
    "from matplotlib.pyplot import cm\n",
    "from sklearn.cross_decomposition import CCA\n",
    "from sklearn.preprocessing import StandardScaler\n",
    "from sklearn.linear_model import Ridge, LinearRegression\n",
    "import os\n",
    "from itertools import cycle, islice\n",
    "import copy"
   ]
  },
  {
   "cell_type": "markdown",
   "id": "83f520d7-3e89-4813-b233-90fda2b595d3",
   "metadata": {
    "tags": []
   },
   "source": [
    "# set paths/create objects\n",
    "\n",
    "cp1 = day-0\n",
    "\n",
    "cp2 = day-n\n"
   ]
  },
  {
   "cell_type": "markdown",
   "id": "1acb9199-b678-441f-b55a-92e2a31c7447",
   "metadata": {
    "tags": []
   },
   "source": [
    "# pathdump:\n",
    "\n",
    "N5 \n",
    "cp1_path = '/home/diya/Documents/rat-fes/data/filipe_data/N5/N5_170929_No Obstacles_s.mat'\n",
    "cp2_path = '/home/diya/Documents/rat-fes/data/filipe_data/N5/N5_171001_No Obstacles_s.mat'\n",
    "'N5_171016_No Obstacles_s.mat'\n",
    "'N5_171130_No Obstacles_s.mat'\n",
    "\n",
    "n6\n",
    "\n",
    "cp1_path = '/home/diya/Documents/rat-fes/data/filipe_data/N6/N6_171026_No Obstacles_s.mat'\n",
    "cp2_path = '/home/diya/Documents/rat-fes/data/filipe_data/N6/N6_171204_No Obstacles_s.mat'\n",
    "\n",
    "'N6_171211_No Obstacles_s.mat'\n",
    "\n",
    "n9\n",
    "cp1_path = '/home/diya/Documents/rat-fes/data/filipe_data/N9/N9_171121_No Obstacles_s.mat'\n",
    "cp2_path = '/home/diya/Documents/rat-fes/data/filipe_data/N9/N9_171204_No Obstacles_s.mat'\n",
    "'N9_171211_No Obstacles_s.mat'  'N9_171214_No Obstacles_s.mat"
   ]
  },
  {
   "cell_type": "code",
   "execution_count": 22,
   "id": "b5c31a27-24a5-4deb-8614-d6e00505712e",
   "metadata": {},
   "outputs": [
    {
     "name": "stdout",
     "output_type": "stream",
     "text": [
      "this is filipe data i belive\n",
      "this is filipe data i belive\n"
     ]
    }
   ],
   "source": [
    "cp1_path = '/home/diya/Documents/rat-fes/data/filipe_data/N5/N5_170929_No Obstacles_s.mat'\n",
    "cp2_path = '/home/diya/Documents/rat-fes/data/filipe_data/N5/N5_171001_No Obstacles_s.mat'\n",
    "\n",
    "cp1 = CortProcessor(cp1_path)\n",
    "cp2 = CortProcessor(cp2_path)"
   ]
  },
  {
   "cell_type": "code",
   "execution_count": null,
   "id": "46d38c23-b53d-4187-91ad-7efbf9a6e8e4",
   "metadata": {},
   "outputs": [],
   "source": [
    "#subsampling list, percent of total data\n",
    "subsample_list = np.arange(.01, 1, .005)\n",
    "#subsample_list = [0.01, 0.02, 0.2, 0.5, 1.0]\n",
    "nummy = cp2.data['rates'][0].shape[0]\n",
    "#newlist = [int(sub * nummy) for sub in subsample_list]\n",
    "\n",
    "#print(f'num_samples:{newlist}')\n",
    "#print(subsample_list)"
   ]
  },
  {
   "cell_type": "code",
   "execution_count": null,
   "id": "19955fa1-7e62-47c4-a25e-f425605056eb",
   "metadata": {},
   "outputs": [],
   "source": [
    "pca_dims=8"
   ]
  },
  {
   "cell_type": "markdown",
   "id": "d57ed850-3711-4a76-b317-7c5d551645ba",
   "metadata": {},
   "source": [
    "# getting day0 decoder\n",
    "apply PCA (based on all data), and then train wiener filter.\n",
    "also get a day0-scaled-weights-decoder"
   ]
  },
  {
   "cell_type": "code",
   "execution_count": null,
   "id": "64f97f4b-6819-4355-bbbc-4305ad07ef59",
   "metadata": {},
   "outputs": [],
   "source": [
    "#get day0 decoder weights, scaled + unscaled versions\n",
    "\n",
    "day0_decoder, nada, naday, nadax = cp1.decode_angles(X=cp1.apply_PCA(dims=pca_dims))\n",
    "#lowest_num_dimensions = cp1.num_components\n",
    "print(np.average(nada, 1)[1])\n",
    "\n",
    "X_tempy =cp1.apply_PCA(pca_dims)\n",
    "scaler = StandardScaler()\n",
    "X_scale = scaler.fit_transform(np.squeeze(X_tempy))\n",
    "day0_decoder_scale, nada, naday, nadax = cp1.decode_angles(X=[X_scale])\n",
    "\n",
    "print(np.average(nada, 1)[1])"
   ]
  },
  {
   "cell_type": "markdown",
   "id": "1ac01f04-61bd-4eff-be09-f61b318681f7",
   "metadata": {},
   "source": [
    "# holding out test and train set"
   ]
  },
  {
   "cell_type": "code",
   "execution_count": null,
   "id": "53577397-a42f-447f-9e19-5db41a147d3b",
   "metadata": {},
   "outputs": [],
   "source": [
    "fifty_percent = int(.5 * nummy)\n",
    "cp2_test = copy.deepcopy(cp2)\n",
    "\n",
    "cp2.data['rates'] = [cp2.data['rates'][0][:fifty_percent,:]]\n",
    "cp2.data['angles'] = [cp2.data['angles'][0][:fifty_percent,:]]\n",
    "\n",
    "cp2_test.data['rates']= [cp2_test.data['rates'][0][fifty_percent:,:]]\n",
    "cp2_test.data['angles']= [cp2_test.data['angles'][0][fifty_percent:,:]]"
   ]
  },
  {
   "cell_type": "markdown",
   "id": "f0409b48-79f7-4e45-9c1f-513fa30e650a",
   "metadata": {},
   "source": [
    "# getting fixed decoder scores\n",
    "1) we subsample Day-N data, and fit PCA transformation. \n",
    "2) we transform entire Day-N data, and decode using Day0 decoder.\n",
    "\n",
    "# getting PCA decoder scores\n",
    "1) we subsample Day-N data, fit PCA transformation, and then transform it. \n",
    "2) We train new PCA decoder on only this low-D subsampled data\n",
    "3) We transform entire Day-N data, and decode using this new PCA decoder. \n"
   ]
  },
  {
   "cell_type": "code",
   "execution_count": null,
   "id": "7b00dfee-7532-4721-b656-2d911659e192",
   "metadata": {},
   "outputs": [],
   "source": [
    "fixed_decoder_scores = []\n",
    "pca_decoder_scores = []\n",
    "pca_predic=[]\n",
    "number_of_gaits=[]\n",
    "\n",
    "for i in range(len(subsample_list)):\n",
    "    sub_x, sub_y = cp2.subsample(percent = subsample_list[i])\n",
    "    gait_counter = sub_y\n",
    "    temp_gaits, nada = cp2.get_gait_indices(Y=sub_y)\n",
    "    number_of_gaits.append(temp_gaits[0].size - 1)\n",
    "    #apply PCA just using subsampled data\n",
    "    sub_x_pca = cp2.apply_PCA(dims=pca_dims, X=sub_x)\n",
    "    #save PCA transformation\n",
    "    pca_object = cp2.pca_object\n",
    "    #train PCA decoder \n",
    "    temp_h, nada, nadax, naday = cp2.decode_angles(X=sub_x_pca, Y=sub_y)\n",
    "    \n",
    "    test_x = np.squeeze(np.array(cp2_test.apply_PCA(dims=pca_dims, transformer = pca_object)))\n",
    "    test_y = np.squeeze(np.array(cp2_test.data['angles']))\n",
    "    \n",
    "    test_x_format, test_y_format = format_data(test_x, test_y)\n",
    "    \n",
    "    temp_y = test_wiener_filter(test_x_format, day0_decoder)\n",
    "    fixed_decoder_scores.append(vaf(test_y_format[:,1], temp_y[:,1]))\n",
    "    \n",
    "    temp_y = test_wiener_filter(test_x_format, temp_h)\n",
    "    pca_decoder_scores.append(vaf(test_y_format[:,1], temp_y[:,1]))\n",
    "    \n",
    "    pca_predic.append(temp_y)\n",
    "\n",
    "print(fixed_decoder_scores)\n",
    "print(pca_decoder_scores)"
   ]
  },
  {
   "cell_type": "markdown",
   "id": "b4288efb-3b3a-4193-aeed-091a173367b3",
   "metadata": {},
   "source": [
    "# cca decoder\n",
    "\n",
    "1) We subsample Day-N data\n",
    "2) We align Day-N subsampled data to Day-0 data\n",
    "3) We fit PCA transformation on subsampled Day-n data, and then transform it\n",
    "4) We fit a CCA transformation on subsampled, low-D day-N data\n",
    "5) We apply our PCA transformation to entire Day-N, and then apply our CCA transformation to entire low-D day-N data\n",
    "6) We decode this using Day-0 decoder."
   ]
  },
  {
   "cell_type": "code",
   "execution_count": null,
   "id": "7d5ec33a-9b31-49a4-b5b6-a23660474c3f",
   "metadata": {},
   "outputs": [],
   "source": [
    "cca_decoder_scores = []\n",
    "cca_transformers=[]\n",
    "for i in range(len(subsample_list)):\n",
    "    #make subsampled cp2\n",
    "    temp_cp2 = copy.deepcopy(cp2)\n",
    "    sub_x2, sub_y2 = temp_cp2.subsample(percent = subsample_list[i])\n",
    "    \n",
    "    temp_cp2.data['rates'] = sub_x2\n",
    "    temp_cp2.data['angles'] = sub_y2\n",
    "    \n",
    "    temp_cca = CCAProcessor(cp1, temp_cp2)\n",
    "    \n",
    "    pca_sub_x1, pca_sub_x2 = temp_cca.apply_PCA(preset_num_components=pca_dims)\n",
    "    temp_cca_transformer, nada = temp_cca.apply_CCA(preset_num_components = pca_dims, pca=True)\n",
    "    \n",
    "    cca_transformers.append(temp_cca_transformer)\n",
    "    \n",
    "    test_x = np.squeeze(np.array(cp2_test.apply_PCA(dims=pca_dims, transformer = temp_cca.data['cp2']['pca_transformer'])))\n",
    "    test_y = np.squeeze(np.array(cp2_test.data['angles']))\n",
    "    \n",
    "    nada, test_x_cca_space = temp_cca_transformer.transform(test_x, test_x)\n",
    "    \n",
    "    temp_x = temp_cca_transformer.inverse_transform(test_x_cca_space)\n",
    "    \n",
    "    temp_x_format, test_y_format = format_data(temp_x, test_y)\n",
    "    predic = test_wiener_filter(temp_x_format, day0_decoder)\n",
    "    \n",
    "    cca_decoder_scores.append(vaf(test_y_format[:,1], predic[:,1]))"
   ]
  },
  {
   "cell_type": "code",
   "execution_count": null,
   "id": "4fb28724-8f37-4ca3-8c07-77bf80fe72e7",
   "metadata": {},
   "outputs": [],
   "source": [
    "cca_decoder_scores"
   ]
  },
  {
   "cell_type": "markdown",
   "id": "8af66572-df24-4048-b460-00fbb083c696",
   "metadata": {},
   "source": [
    "# regression fit\n",
    "1) We subsample day-n data, fit PCA transformation, and then transform it\n",
    "2) We then transform it using CCA transformation corresponding to same subsample we got in the CCA part. \n",
    "3) We scale it. #TODO try using day0 scale to transform it\n",
    "4) We feed this subsampled, low-d, CCA-transformed day-n data into our regression decoder. It spits out a new decoder.\n",
    "5) We take entire Day-N data, transform it with both PCA/CCA corresponding to subsample, scale it, and then decode using our new decoder"
   ]
  },
  {
   "cell_type": "code",
   "execution_count": null,
   "id": "c8a8afdf-80c9-44d4-bbba-93b4664083c6",
   "metadata": {},
   "outputs": [],
   "source": [
    "r_scores = []\n",
    "r_predic=[]\n",
    "pinv_scores=[]\n",
    "pinv_predic_all = []\n",
    "day0_decoder_no_offset = day0_decoder[1:,:]\n",
    "offset = day0_decoder[0,:]\n",
    "\n",
    "for i in range(len(subsample_list)):\n",
    "    #subsample day-n unprocessed data\n",
    "    sub_x, sub_y = cp2.subsample(percent = subsample_list[i])\n",
    "    \n",
    "    #apply PCA to subsampled data\n",
    "    sub_x_pca = np.squeeze(cp2.apply_PCA(dims=pca_dims, X=sub_x))\n",
    "    #transform PCA subsample to day-0 shape\n",
    "    nada, sub_x_cca_space = cca_transformers[i].transform(sub_x_pca, sub_x_pca)\n",
    "    temp_x = cca_transformers[i].inverse_transform(sub_x_cca_space)\n",
    "    #scale transformed data \n",
    "    scaler = StandardScaler()\n",
    "    temp_x_scale = scaler.fit_transform(temp_x)\n",
    "    \n",
    "    temp_x_format, temp_y_format = format_data(temp_x_scale, sub_y[0])\n",
    "    wpost, nada = ridge_fit(b0=day0_decoder_scale, x_format = temp_x_format, y_format = temp_y_format, my_alpha=100.0)\n",
    "    \n",
    "    \n",
    "    #pinv fit\n",
    "    pinv_clf = temp_cca.apply_pinv_transform(x=sub_x[0], y=sub_y[0], decoder=day0_decoder) \n",
    "    \n",
    "    \n",
    "    ###now lets test on full dataset\n",
    "    test_x = np.squeeze(np.array(cp2_test.apply_PCA(dims=pca_dims, transformer = cp2.pca_object)))\n",
    "    test_y = np.squeeze(np.array(cp2_test.data['angles']))\n",
    "    \n",
    "    raw_test_x = cp2_test.data['rates'][0]\n",
    "    raw_test_y = cp2_test.data['angles'][0]\n",
    "    \n",
    "    raw_test_x_format, raw_test_y_format = format_data(raw_test_x, raw_test_y)\n",
    "    trans_test_x = pinv_clf.predict(raw_test_x_format)\n",
    "    pinv_predict = np.dot(trans_test_x, day0_decoder_no_offset) + offset\n",
    "    \n",
    "    pinv_predic_all.append(pinv_predict)\n",
    "    \n",
    "    nada, test_xx = temp_cca.apply_CCA(cp2_x = test_x, transformer = cca_transformers[i])\n",
    "    test_xx_scale = scaler.transform(test_xx)\n",
    "    test_xx_scale_format, nada = format_data(test_xx_scale, test_y)\n",
    "    temp_y = test_wiener_filter(test_xx_scale_format, wpost)\n",
    "    \n",
    "    r_predic.append(temp_y)  \n",
    "    r_scores.append(vaf(test_y_format[:,1], temp_y[:,1]))\n",
    "    pinv_scores.append(vaf(test_y_format[:,1], pinv_predict[:,1]))\n"
   ]
  },
  {
   "cell_type": "code",
   "execution_count": null,
   "id": "f2f36073-6a75-49f7-bec8-98828e83a8a9",
   "metadata": {},
   "outputs": [],
   "source": [
    "# %matplotlib widget\n",
    "# %matplotlib widget\n",
    "\n",
    "# plot_dict = {}\n",
    "# plot_dict['fixed_decoder_scores'] = fixed_decoder_scores\n",
    "# plot_dict['pca_decoder_scores'] = pca_decoder_scores\n",
    "# plot_dict['cca_decoder_scores'] = cca_decoder_scores\n",
    "# plot_dict['preloaded_decoder_scores'] = r_scores\n",
    "# plot_dict['pinv_scores'] = pinv_scores\n",
    "\n",
    "# index = number_of_gaits\n",
    "\n",
    "# df = pd.DataFrame(data=plot_dict, index=index)\n",
    "\n",
    "# my_colors = list(islice(cycle(['tab:red', 'tab:blue', 'tab:green', 'tab:orange', 'yellow', 'k']), None, len(df)))\n",
    "\n",
    "  \n",
    "# # plot grouped bar chart\n",
    "# ax = df.plot.bar(rot=15, color=my_colors)\n",
    "# ax.set_ylim(bottom=-1, top=1)\n",
    "# ax.set_title('Training various decoders, testing on last 50% of day-n data')\n",
    "# ax.set_ylabel('vaf')\n",
    "# ax.set_xlabel('number of gait cycles trained on (from first 50% of data)')\n",
    "# ax.legend(loc='lower right')\n",
    "# for container in ax.containers:\n",
    "#     diya = ax.bar_label(container)"
   ]
  },
  {
   "cell_type": "code",
   "execution_count": null,
   "id": "93e57165-3d3a-4c11-9ae2-5a61e65ea668",
   "metadata": {},
   "outputs": [],
   "source": [
    "# fig0 = plt.figure()\n",
    "# ax0 = fig0.add_subplot(311)\n",
    "# ts = np.arange(0, test_y_format.shape[0]/50, 1/50)\n",
    "\n",
    "# num = 1 \n",
    "\n",
    "# legend1=['actual', 'pca_predic']\n",
    "# legend2 = ['actual', 'preload_predic']\n",
    "# legend3=['actual','pinv_predic']\n",
    "\n",
    "\n",
    "# ax0.plot(ts, test_y_format[:,1])\n",
    "# ax0.plot(ts, pca_predic[num][:,1])\n",
    "# ax0.legend(legend1, loc='lower right')\n",
    "\n",
    "# ax01 = fig0.add_subplot(312, sharex=ax0)\n",
    "# ax01.plot(ts, test_y_format[:,1])\n",
    "# ax01.plot(ts, r_predic[num][:,1])\n",
    "# ax01.legend(legend2, loc='lower right')\n",
    "\n",
    "# ax02 = fig0.add_subplot(313, sharex=ax0)\n",
    "# ax02.plot(ts, test_y_format[:,1])\n",
    "# ax02.plot(ts, pinv_predic_all[num][:,1])\n",
    "# ax02.legend(legend3, loc='lower right')\n"
   ]
  },
  {
   "cell_type": "code",
   "execution_count": 19,
   "id": "6adc6f60-38d8-4acd-bc42-f992471d9709",
   "metadata": {},
   "outputs": [
    {
     "data": {
      "text/plain": [
       "<matplotlib.legend.Legend at 0x7f2c70e79588>"
      ]
     },
     "execution_count": 19,
     "metadata": {},
     "output_type": "execute_result"
    },
    {
     "data": {
      "application/vnd.jupyter.widget-view+json": {
       "model_id": "336cbeda2fa04257b5c75e4d764d9ab0",
       "version_major": 2,
       "version_minor": 0
      },
      "text/html": [
       "\n",
       "            <div style=\"display: inline-block;\">\n",
       "                <div class=\"jupyter-widgets widget-label\" style=\"text-align: center;\">\n",
       "                    Figure\n",
       "                </div>\n",
       "                <img src='data:image/png;base64,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' width=640.0/>\n",
       "            </div>\n",
       "        "
      ],
      "text/plain": [
       "Canvas(toolbar=Toolbar(toolitems=[('Home', 'Reset original view', 'home', 'home'), ('Back', 'Back to previous …"
      ]
     },
     "metadata": {},
     "output_type": "display_data"
    }
   ],
   "source": [
    "fig1 = plt.figure()\n",
    "ax1= fig1.add_subplot(111)\n",
    "x = subsample_list\n",
    "ax1.set_ylim(bottom=-1, top=1)\n",
    "ax1.scatter(number_of_gaits, pca_decoder_scores)\n",
    "ax1.plot(number_of_gaits, pca_decoder_scores)\n",
    "ax1.scatter(number_of_gaits, r_scores)\n",
    "ax1.plot(number_of_gaits, r_scores)\n",
    "ax1.scatter(number_of_gaits, pinv_scores, color='tab:olive')\n",
    "ax1.plot(number_of_gaits, pinv_scores, color='tab:olive')\n",
    "\n",
    "legend11 = ['PCA decoder', 'preloaded decoder', 'pinv decoder']\n",
    "\n",
    "ax1.set_xlim(0,100)\n",
    "ax1.set_xlabel('number of gait cycles')\n",
    "ax1.set_ylabel('vaf')\n",
    "ax1.legend(legend11, loc='lower right')"
   ]
  },
  {
   "cell_type": "code",
   "execution_count": null,
   "id": "980b47a3-7603-4c33-98b6-b7137b0e4328",
   "metadata": {},
   "outputs": [],
   "source": []
  },
  {
   "cell_type": "markdown",
   "id": "97f62db9-dc86-49f0-a902-54a4779c1f0f",
   "metadata": {},
   "source": [
    "# notes\n",
    "\n",
    "cp1_path = '/home/diya/Documents/rat-fes/data/filipe_data/N5/N5_171016_No Obstacles_s.mat'\n",
    "cp2_path = '/home/diya/Documents/rat-fes/data/filipe_data/N6/N6_171204_No Obstacles_s.mat'\n",
    "\n",
    "with these two, regression is good vaf score but in practicality something seems off!\n",
    "\n"
   ]
  },
  {
   "cell_type": "markdown",
   "id": "e09e1ae2-4e5e-4360-a6f8-bbc9ac656fa2",
   "metadata": {},
   "source": [
    "# paths\n",
    "\n",
    "N5 \n",
    "cp1_path = '/home/diya/Documents/rat-fes/data/filipe_data/N5/N5_170929_No Obstacles_s.mat'\n",
    "cp2_path = '/home/diya/Documents/rat-fes/data/filipe_data/N5/N5_171001_No Obstacles_s.mat'\n",
    "'N5_171016_No Obstacles_s.mat'\n",
    "'N5_171130_No Obstacles_s.mat'\n",
    "\n",
    "n6\n",
    "'N6_171026_No Obstacles_s.mat'\n",
    "'N6_171204_No Obstacles_s.mat'\n",
    "'N6_171211_No Obstacles_s.mat'\n",
    "\n",
    "n9\n",
    "'N9_171121_No Obstacles_s.mat'  'N9_171204_No Obstacles_s.mat'  'N9_171211_No Obstacles_s.mat'  'N9_171214_No Obstacles_s.mat"
   ]
  },
  {
   "cell_type": "code",
   "execution_count": null,
   "id": "363e9213-8c74-4409-be88-b021add720e7",
   "metadata": {},
   "outputs": [],
   "source": []
  }
 ],
 "metadata": {
  "kernelspec": {
   "display_name": "Python 3",
   "language": "python",
   "name": "python3"
  },
  "language_info": {
   "codemirror_mode": {
    "name": "ipython",
    "version": 3
   },
   "file_extension": ".py",
   "mimetype": "text/x-python",
   "name": "python",
   "nbconvert_exporter": "python",
   "pygments_lexer": "ipython3",
   "version": "3.7.0"
  }
 },
 "nbformat": 4,
 "nbformat_minor": 5
}
