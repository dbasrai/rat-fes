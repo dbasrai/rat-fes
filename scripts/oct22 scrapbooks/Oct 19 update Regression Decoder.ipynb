{
 "cells": [
  {
   "cell_type": "markdown",
   "id": "f38d943b-3061-42d1-a699-5ab81a489e6e",
   "metadata": {},
   "source": [
    "# notebook for (~10/19/22) update (FOR FILIPE DATA ONLY)\n",
    "this compares a fixed decoder, pca decoder, cca transformation (w/ day0 decoder), and a regression decoder on day-N data. the latter two use a day-0 data as a prior start. "
   ]
  },
  {
   "cell_type": "code",
   "execution_count": 2,
   "id": "80ff2fbb-e579-471f-b42c-e51c222d33fa",
   "metadata": {},
   "outputs": [
    {
     "name": "stdout",
     "output_type": "stream",
     "text": [
      "The autoreload extension is already loaded. To reload it, use:\n",
      "  %reload_ext autoreload\n"
     ]
    }
   ],
   "source": [
    "%matplotlib widget\n",
    "%load_ext autoreload\n",
    "%autoreload 2\n",
    "from src.folder_handler import *\n",
    "from src.cort_processor import *\n",
    "from src.cca_processor import *\n",
    "from src.tdt_support import *\n",
    "from src.plotter import *\n",
    "from src.decoders import *\n",
    "from src.utils import *\n",
    "import pickle\n",
    "import scipy as sio\n",
    "import numpy as np\n",
    "import matplotlib.pyplot as plt\n",
    "from  matplotlib.colors import LinearSegmentedColormap\n",
    "from src.wiener_filter import *\n",
    "from matplotlib.pyplot import cm\n",
    "from sklearn.cross_decomposition import CCA\n",
    "from sklearn.preprocessing import StandardScaler\n",
    "from sklearn.linear_model import Ridge\n",
    "import os\n",
    "import copy"
   ]
  },
  {
   "cell_type": "markdown",
   "id": "83f520d7-3e89-4813-b233-90fda2b595d3",
   "metadata": {
    "tags": []
   },
   "source": [
    "# set paths/create objects\n",
    "\n",
    "cp1 = day-0\n",
    "\n",
    "cp2 = day-n\n"
   ]
  },
  {
   "cell_type": "markdown",
   "id": "1acb9199-b678-441f-b55a-92e2a31c7447",
   "metadata": {
    "tags": []
   },
   "source": [
    "# pathdump:\n",
    "\n",
    "N5 \n",
    "cp1_path = '/home/diya/Documents/rat-fes/data/filipe_data/N5/N5_170929_No Obstacles_s.mat'\n",
    "cp2_path = '/home/diya/Documents/rat-fes/data/filipe_data/N5/N5_171001_No Obstacles_s.mat'\n",
    "'N5_171016_No Obstacles_s.mat'\n",
    "'N5_171130_No Obstacles_s.mat'\n",
    "\n",
    "n6\n",
    "'N6_171026_No Obstacles_s.mat' this day has pretty low %vaf max\n",
    "'N6_171204_No Obstacles_s.mat'\n",
    "'N6_171211_No Obstacles_s.mat'\n",
    "\n",
    "n9\n",
    "cp1_path = '/home/diya/Documents/rat-fes/data/filipe_data/N9/N9_171121_No Obstacles_s.mat'\n",
    "cp2_path = '/home/diya/Documents/rat-fes/data/filipe_data/N9/N9_171204_No Obstacles_s.mat'\n",
    "'N9_171211_No Obstacles_s.mat'  'N9_171214_No Obstacles_s.mat"
   ]
  },
  {
   "cell_type": "code",
   "execution_count": 3,
   "id": "b5c31a27-24a5-4deb-8614-d6e00505712e",
   "metadata": {},
   "outputs": [
    {
     "name": "stdout",
     "output_type": "stream",
     "text": [
      "this is filipe data i belive\n",
      "this is filipe data i belive\n"
     ]
    }
   ],
   "source": [
    "cp1_path = '/home/diya/Documents/rat-fes/data/filipe_data/N5/N5_170929_No Obstacles_s.mat'\n",
    "cp2_path = '/home/diya/Documents/rat-fes/data/filipe_data/N5/N5_171001_No Obstacles_s.mat'\n",
    "\n",
    "cp1 = CortProcessor(cp1_path)\n",
    "cp2 = CortProcessor(cp2_path)"
   ]
  },
  {
   "cell_type": "code",
   "execution_count": 4,
   "id": "46d38c23-b53d-4187-91ad-7efbf9a6e8e4",
   "metadata": {},
   "outputs": [],
   "source": [
    "#subsampling list, percent of total data\n",
    "#subsample_list = np.arange(.005, 1, .005)\n",
    "subsample_list = [0.005, 0.01, 0.1, 0.5, 1.0]\n",
    "nummy = cp2.data['rates'][0].shape[0]\n",
    "#newlist = [int(sub * nummy) for sub in subsample_list]\n",
    "\n",
    "#print(f'num_samples:{newlist}')\n",
    "#print(subsample_list)"
   ]
  },
  {
   "cell_type": "code",
   "execution_count": 5,
   "id": "19955fa1-7e62-47c4-a25e-f425605056eb",
   "metadata": {},
   "outputs": [],
   "source": [
    "lowest_num_dimensions=8"
   ]
  },
  {
   "cell_type": "markdown",
   "id": "d57ed850-3711-4a76-b317-7c5d551645ba",
   "metadata": {},
   "source": [
    "# getting day0 decoder\n",
    "apply PCA (based on all data), and then train wiener filter.\n",
    "also get a day0-scaled-weights-decoder"
   ]
  },
  {
   "cell_type": "code",
   "execution_count": 6,
   "id": "64f97f4b-6819-4355-bbbc-4305ad07ef59",
   "metadata": {},
   "outputs": [
    {
     "name": "stdout",
     "output_type": "stream",
     "text": [
      "0.563\n",
      "0.563\n"
     ]
    }
   ],
   "source": [
    "#get day0 decoder weights, scaled + unscaled versions\n",
    "\n",
    "day0_decoder, nada, naday, nadax = cp1.decode_angles(X=cp1.apply_PCA(dims=lowest_num_dimensions))\n",
    "#lowest_num_dimensions = cp1.num_components\n",
    "print(np.average(nada, 1)[1])\n",
    "\n",
    "X_tempy =cp1.apply_PCA(lowest_num_dimensions)\n",
    "scaler = StandardScaler()\n",
    "X_scale = scaler.fit_transform(np.squeeze(X_tempy))\n",
    "day0_decoder_scale, nada, naday, nadax = cp1.decode_angles(X=[X_scale])\n",
    "\n",
    "print(np.average(nada, 1)[1])"
   ]
  },
  {
   "cell_type": "markdown",
   "id": "f0409b48-79f7-4e45-9c1f-513fa30e650a",
   "metadata": {},
   "source": [
    "# getting fixed decoder scores\n",
    "1) we subsample Day-N data, and fit PCA transformation. \n",
    "2) we transform entire Day-N data, and decode using Day0 decoder.\n",
    "\n",
    "# getting PCA decoder scores\n",
    "1) we subsample Day-N data, fit PCA transformation, and then transform it. \n",
    "2) We train new PCA decoder on only this low-D subsampled data\n",
    "3) We transform entire Day-N data, and decode using this new PCA decoder. \n"
   ]
  },
  {
   "cell_type": "code",
   "execution_count": 7,
   "id": "7b00dfee-7532-4721-b656-2d911659e192",
   "metadata": {},
   "outputs": [
    {
     "name": "stdout",
     "output_type": "stream",
     "text": [
      "[-1.62, -1.25, -1.93, -1.52, -1.33]\n",
      "[-834.8, 0.11, 0.74, 0.78, 0.79]\n"
     ]
    }
   ],
   "source": [
    "fixed_decoder_scores = []\n",
    "pca_decoder_scores = []\n",
    "pca_predic=[]\n",
    "\n",
    "for i in range(len(subsample_list)):\n",
    "    sub_x, sub_y = cp2.subsample(percent = subsample_list[i])\n",
    "    #apply PCA just using subsampled data\n",
    "    sub_x_pca = cp2.apply_PCA(dims=lowest_num_dimensions, X=sub_x)\n",
    "    #save PCA transformation\n",
    "    pca_object = cp2.pca_object\n",
    "    #train PCA decoder \n",
    "    temp_h, nada, nadax, naday = cp2.decode_angles(X=sub_x_pca, Y=sub_y)\n",
    "    \n",
    "    test_x = np.squeeze(np.array(cp2.apply_PCA(dims=lowest_num_dimensions, transformer = pca_object)))\n",
    "    test_y = np.squeeze(np.array(cp2.data['angles']))\n",
    "    \n",
    "    test_x_format, test_y_format = format_data(test_x, test_y)\n",
    "    \n",
    "    temp_y = test_wiener_filter(test_x_format, day0_decoder)\n",
    "    fixed_decoder_scores.append(vaf(test_y_format[:,1], temp_y[:,1]))\n",
    "    \n",
    "    temp_y = test_wiener_filter(test_x_format, temp_h)\n",
    "    pca_decoder_scores.append(vaf(test_y_format[:,1], temp_y[:,1]))\n",
    "    \n",
    "    pca_predic.append(temp_y)\n",
    "\n",
    "print(fixed_decoder_scores)\n",
    "print(pca_decoder_scores)"
   ]
  },
  {
   "cell_type": "markdown",
   "id": "b4288efb-3b3a-4193-aeed-091a173367b3",
   "metadata": {},
   "source": [
    "# cca decoder\n",
    "\n",
    "1) We subsample Day-N data\n",
    "2) We align Day-N subsampled data to Day-0 data\n",
    "3) We fit PCA transformation on subsampled Day-n data, and then transform it\n",
    "4) We fit a CCA transformation on subsampled, low-D day-N data\n",
    "5) We apply our PCA transformation to entire Day-N, and then apply our CCA transformation to entire low-D day-N data\n",
    "6) We decode this using Day-0 decoder."
   ]
  },
  {
   "cell_type": "code",
   "execution_count": 25,
   "id": "7d5ec33a-9b31-49a4-b5b6-a23660474c3f",
   "metadata": {},
   "outputs": [
    {
     "name": "stdout",
     "output_type": "stream",
     "text": [
      "should be good to align\n",
      "(57, 11)\n",
      "(57, 5)\n",
      "(57, 23)\n",
      "(57, 5)\n",
      "should be good to align\n",
      "(117, 11)\n",
      "(117, 5)\n",
      "(117, 23)\n",
      "(117, 5)\n",
      "should be good to align\n",
      "(1143, 11)\n",
      "(1143, 5)\n",
      "(1143, 23)\n",
      "(1143, 5)\n",
      "should be good to align\n",
      "(5600, 11)\n",
      "(5600, 5)\n",
      "(5600, 23)\n",
      "(5600, 5)\n",
      "should be good to align\n",
      "(10267, 11)\n",
      "(10267, 5)\n",
      "(10267, 23)\n",
      "(10267, 5)\n"
     ]
    }
   ],
   "source": [
    "cca_decoder_scores = []\n",
    "cca_transformers=[]\n",
    "check_list=[]\n",
    "for i in range(len(subsample_list)):\n",
    "    #make subsampled cp2\n",
    "    temp_cp2 = copy.deepcopy(cp2)\n",
    "    sub_x2, sub_y2 = temp_cp2.subsample(percent = subsample_list[i])\n",
    "    \n",
    "    temp_cp2.data['rates'] = sub_x2\n",
    "    temp_cp2.data['angles'] = sub_y2\n",
    "    \n",
    "    temp_cca = CCAProcessor(cp1, temp_cp2)\n",
    "   \n",
    "    pca_sub_x1, pca_sub_x2 = temp_cca.apply_PCA(preset_num_components=lowest_num_dimensions)\n",
    "    temp_cca_transformer, nada = temp_cca.apply_CCA(preset_num_components = lowest_num_dimensions)\n",
    "    \n",
    "    cca_transformers.append(temp_cca_transformer)\n",
    "    \n",
    "    test_x = np.squeeze(np.array(cp2.apply_PCA(dims=lowest_num_dimensions, transformer = temp_cca.data['cp2']['pca_transformer'])))\n",
    "    test_y = np.squeeze(np.array(cp2.data['angles']))\n",
    "    \n",
    "    nada, test_x_cca_space = temp_cca_transformer.transform(test_x, test_x)\n",
    "    \n",
    "    temp_x = temp_cca_transformer.inverse_transform(test_x_cca_space)\n",
    "    \n",
    "    temp_x_format, test_y_format = format_data(temp_x, test_y)\n",
    "    predic = test_wiener_filter(temp_x_format, day0_decoder)\n",
    "    \n",
    "    cca_decoder_scores.append(vaf(test_y_format[:,1], predic[:,1]))\n",
    "    \n",
    "     \n",
    "    pca_check_x = temp_cca.data['cp2']['pca_x']\n",
    "    pca_check_y = temp_cca.data['cp2']['proc_y']\n",
    "    \n",
    "    pca_check_h, nada, nadax, naday = cp2.decode_angles(X=[pca_check_x], Y=[pca_check_y])\n",
    "    check = test_wiener_filter(test_x_format, pca_check_h)\n",
    "    check_list.append(vaf(test_y_format[:,1], check[:,1]))\n",
    "    "
   ]
  },
  {
   "cell_type": "code",
   "execution_count": 26,
   "id": "4fb28724-8f37-4ca3-8c07-77bf80fe72e7",
   "metadata": {},
   "outputs": [
    {
     "data": {
      "text/plain": [
       "[-3078.06, -0.89, 0.55, 0.73, 0.78]"
      ]
     },
     "execution_count": 26,
     "metadata": {},
     "output_type": "execute_result"
    }
   ],
   "source": [
    "check_list"
   ]
  },
  {
   "cell_type": "markdown",
   "id": "8af66572-df24-4048-b460-00fbb083c696",
   "metadata": {},
   "source": [
    "# regression fit\n",
    "1) We subsample day-n data, fit PCA transformation, and then transform it\n",
    "2) We then transform it using CCA transformation corresponding to same subsample we got in the CCA part. \n",
    "3) We scale it. #TODO try using day0 scale to transform it\n",
    "4) We feed this subsampled, low-d, CCA-transformed day-n data into our regression decoder. It spits out a new decoder.\n",
    "5) We take entire Day-N data, transform it with both PCA/CCA corresponding to subsample, scale it, and then decode using our new decoder"
   ]
  },
  {
   "cell_type": "code",
   "execution_count": 27,
   "id": "c8a8afdf-80c9-44d4-bbba-93b4664083c6",
   "metadata": {},
   "outputs": [
    {
     "name": "stdout",
     "output_type": "stream",
     "text": [
      "initial_scoring is : -0.03\n",
      "new_scoring is: 0.79\n",
      "initial_scoring is : 0.28\n",
      "new_scoring is: 0.83\n",
      "initial_scoring is : 0.53\n",
      "new_scoring is: 0.77\n",
      "initial_scoring is : 0.64\n",
      "new_scoring is: 0.77\n",
      "initial_scoring is : 0.68\n",
      "new_scoring is: 0.79\n"
     ]
    }
   ],
   "source": [
    "r_scores = []\n",
    "r_predic=[]\n",
    "\n",
    "for i in range(len(subsample_list)):\n",
    "    #subsample day-n unprocessed data\n",
    "    sub_x, sub_y = cp2.subsample(percent = subsample_list[i])\n",
    "    \n",
    "    #apply PCA to subsampled data\n",
    "    sub_x_pca = np.squeeze(cp2.apply_PCA(dims=lowest_num_dimensions, X=sub_x))\n",
    "    #transform PCA subsample to day-0 shape\n",
    "    nada, sub_x_cca_space = cca_transformers[i].transform(sub_x_pca, sub_x_pca)\n",
    "    temp_x = cca_transformers[i].inverse_transform(sub_x_cca_space)\n",
    "    #scale transformed data \n",
    "    scaler = StandardScaler()\n",
    "    temp_x_scale = scaler.fit_transform(temp_x)\n",
    "    \n",
    "    temp_x_format, temp_y_format = format_data(temp_x_scale, sub_y[0])\n",
    "    wpost, nada = ridge_fit(b0=day0_decoder_scale, x_format = temp_x_format, y_format = temp_y_format, my_alpha=100.0)\n",
    "    \n",
    "    \n",
    "    ###now lets test on full dataset\n",
    "    test_x = np.squeeze(np.array(cp2.apply_PCA(dims=lowest_num_dimensions, transformer = cp2.pca_object)))\n",
    "    test_y = np.squeeze(np.array(cp2.data['angles']))\n",
    "    \n",
    "    nada, test_xx = temp_cca.apply_CCA(cp2_x = test_x, transformer = cca_transformers[i])\n",
    "    test_xx_scale = scaler.transform(test_xx)\n",
    "    test_xx_scale_format, nada = format_data(test_xx_scale, test_y)\n",
    "    temp_y = test_wiener_filter(test_xx_scale_format, wpost)\n",
    "    \n",
    "    r_predic.append(temp_y)  \n",
    "    predic = vaf(test_y_format[:,1], temp_y[:,1])\n",
    "    \n",
    " \n",
    "    r_scores.append(predic)"
   ]
  },
  {
   "cell_type": "code",
   "execution_count": 28,
   "id": "f2f36073-6a75-49f7-bec8-98828e83a8a9",
   "metadata": {},
   "outputs": [
    {
     "data": {
      "application/vnd.jupyter.widget-view+json": {
       "model_id": "11154039ab824b649bceb753d03f9d1c",
       "version_major": 2,
       "version_minor": 0
      },
      "text/html": [
       "\n",
       "            <div style=\"display: inline-block;\">\n",
       "                <div class=\"jupyter-widgets widget-label\" style=\"text-align: center;\">\n",
       "                    Figure\n",
       "                </div>\n",
       "                <img src='data:image/png;base64,iVBORw0KGgoAAAANSUhEUgAAAoAAAAHgCAYAAAA10dzkAAAAOXRFWHRTb2Z0d2FyZQBNYXRwbG90bGliIHZlcnNpb24zLjQuMiwgaHR0cHM6Ly9tYXRwbG90bGliLm9yZy8rg+JYAAAACXBIWXMAAA9hAAAPYQGoP6dpAACXjUlEQVR4nOzdd1gUV9sG8HtpSweRrggoRkBREJVgA5UI9hZbTBQ0dmzYY+y+YpdYIsZu1NiiRqNBEcVCCFZiQ1QsRKWoBBCUPt8ffkxc6Urf+3ddeyV75szMc2Z22cczc85IBEEQQERERERyQ6GiAyAiIiKi8sUEkIiIiEjOMAEkIiIikjNMAImIiIjkDBNAIiIiIjnDBJCIiIhIzjABJCIiIpIzTACJiIiI5AwTQCIiIiI5wwSQiIiISM4wASQiIiKSM0wAiYiIiOQME0AiIiIiOcMEkIiIiEjOMAEkIiIikjNMAImIiIjkDBNAIiIiIjnDBJCIiIhIzjABJCIiIpIzTACJiIiI5AwTQCIiIiI5wwSQiIiISM4wASQiIiKSM0wAiYiIiOQME0AiIiIiOcMEkIiIiEjOMAEkIiIikjNMAImIiIjkDBNAIiIiIjnDBJCIiIhIzjABJCIiIpIzTACJiIiI5AwTQCIiIiI5wwSQiIiISM4wAaRy4+npCQsLi49ad968eZBIJKUbUCXk6uoKV1fXig6jRD7lvJaHyh5fWQsODoZEIkFwcHBFh0KlbPv27ZBIJHj8+HFFh0JVEBNAgkQiKdaLPyBEZePEiROYN29eRYdRZeX+AzH3pa6ujjp16qBbt27Ytm0b0tPTKyy23JhWrlyZZ1luAnflypVyj2vPnj3w8/Mr9/1S5aFU0QFQxfv5559l3u/cuROBgYF5ym1sbD5pP5s2bUJOTs5Hrfv9999jxowZn7T/quDUqVMVHQJVgBMnTmD9+vVlkgS2bdsWb9++hYqKSqlvu7LZsGEDNDU1kZ6ejmfPnuHkyZMYOnQo/Pz88Pvvv8PMzKzCYlu+fDlGjx4NdXX1CovhfXv27MGtW7cwceLEig6FKggTQMLXX38t8/6vv/5CYGBgnvIPvXnzpkR/zJSVlT8qPgBQUlKCklL1/bjmHkt5+JGuygRBQFpaGtTU1CoshqysLOTk5BT7s6KgoABVVdUyjqpy+PLLL6Gvry++nzNnDnbv3o3Bgwejb9+++OuvvyokLnt7e4SHh8Pf3x8+Pj4VEgPRh3gJmIrF1dUVjRo1wtWrV9G2bVuoq6vju+++AwD89ttv6NKlC0xNTSGVSlGvXj0sXLgQ2dnZMtv48F6sx48fQyKRYMWKFfjpp59Qr149SKVSNG/eHJcvX5ZZN797ACUSCby9vXHkyBE0atQIUqkUDRs2REBAQJ74g4OD0axZM6iqqqJevXrYuHFjse4r9Pb2hqamJt68eZNn2cCBA2FsbCy2s7jHobBjmd89gPHx8Rg2bBiMjIygqqqKJk2aYMeOHXnal99l+txjvH37drEsNjYWXl5eqF27NqRSKUxMTNCjR49i3UeUe6xVVVXRqFEjHD58ON96OTk58PPzQ8OGDaGqqgojIyOMHDkS//77b566f/zxB1xcXKClpQVtbW00b94ce/bskalz4MABODo6Qk1NDfr6+vj666/x7NmzMo/PwsICXbt2xcmTJ9GsWTOoqalh48aNAIDAwEC0bt0aurq60NTURIMGDcTzWBKenp5Yv349ANnbMQDZ74ifn5/4Hbl06RI0NDQwYcKEPNt7+vQpFBUV4evrCyD/z0buZ/DOnTto164d1NXVUatWLSxbtizP9p48eYLu3btDQ0MDhoaGmDRpEk6ePFns20KuX7+OTp06QVtbG5qamujQoUOeRCz3UmhISAh8fHxgYGAADQ0N9OrVCy9evCjuoczXoEGD8O233yIsLAyBgYFi+YULF9C3b1/UqVMHUqkUZmZmmDRpEt6+fSvW2bZtGyQSCa5fv55nu4sXL4aiomK+n8MPtWrVCu3bt8eyZctktl8St2/fRvv27aGmpobatWtj0aJF+V5RKc7fIVdXVxw/fhxPnjwRP2+5f5szMjIwZ84cODo6QkdHBxoaGmjTpg3Onj37UXFT5VV9u1So1L169QqdOnXCgAED8PXXX8PIyAjAuz/empqa8PHxgaamJs6cOYM5c+YgOTkZy5cvL3K7e/bswevXrzFy5EhIJBIsW7YMvXv3xsOHD4vsNbx48SIOHTqEMWPGQEtLC2vWrEGfPn0QHR2NmjVrAnj3A+Th4QETExPMnz8f2dnZWLBgAQwMDIqMrX///li/fj2OHz+Ovn37iuVv3rzBsWPH4OnpCUVFxRIfh4KO5Yfevn0LV1dXPHjwAN7e3rC0tMSBAwfg6emJxMTEfBOAovTp0we3b9/GuHHjYGFhgfj4eAQGBiI6OrrQwRKnTp1Cnz59YGtrC19fX7x69UpMJD80cuRIbN++HV5eXhg/fjwePXqEdevW4fr16wgJCRHP6/bt2zF06FA0bNgQM2fOhK6uLq5fv46AgAB89dVXYh0vLy80b94cvr6+iIuLww8//ICQkBBcv34durq6ZRYfAERGRmLgwIEYOXIkhg8fjgYNGuD27dvo2rUrGjdujAULFkAqleLBgwcICQkp8fkYOXIknj9/nu9tF7m2bduGtLQ0jBgxAlKpFHXq1EGvXr2wb98+rFq1SvwMAsAvv/wCQRAwaNCgQvf777//wsPDA71790a/fv1w8OBBTJ8+HXZ2dujUqRMAIDU1Fe3bt0dMTAwmTJgAY2Nj7Nmzp9jJwO3bt9GmTRtoa2tj2rRpUFZWxsaNG+Hq6opz587ByclJpv64ceNQo0YNzJ07F48fP4afnx+8vb2xb9++Yu2vIN988w1++uknnDp1Cl988QWAd/+oePPmDUaPHo2aNWvi0qVLWLt2LZ4+fYoDBw4AeNejOHbsWOzevRsODg4y29y9ezdcXV1Rq1atYsUwb948tG3bFhs2bChxL2BsbCzatWuHrKwszJgxAxoaGvjpp5/y7Ykuzt+hWbNmISkpCU+fPsXq1asBAJqamgCA5ORkbN68GQMHDsTw4cPx+vVrbNmyBe7u7rh06RLs7e1LFDtVYgLRB8aOHSt8+NFwcXERAAj+/v556r958yZP2ciRIwV1dXUhLS1NLBsyZIhgbm4uvn/06JEAQKhZs6aQkJAglv/2228CAOHYsWNi2dy5c/PEBEBQUVERHjx4IJb9/fffAgBh7dq1Ylm3bt0EdXV14dmzZ2LZ/fv3BSUlpTzb/FBOTo5Qq1YtoU+fPjLl+/fvFwAI58+fL/FxKOxYuri4CC4uLuJ7Pz8/AYCwa9cusSwjI0NwdnYWNDU1heTkZEEQBOHs2bMCAOHs2bMy28s9xtu2bRMEQRD+/fdfAYCwfPnyQtudH3t7e8HExERITEwUy06dOiUAkDmvFy5cEAAIu3fvllk/ICBApjwxMVHQ0tISnJychLdv38rUzcnJEdtqaGgoNGrUSKbO77//LgAQ5syZU2bxCYIgmJubCwCEgIAAmbqrV68WAAgvXrwo9JgVV37fOUH47/xpa2sL8fHxMstOnjwpABD++OMPmfLGjRvLfIby+2zkfgZ37twplqWnpwvGxsYyn/WVK1cKAIQjR46IZW/fvhWsra3z/bx9qGfPnoKKiooQFRUllj1//lzQ0tIS2rZtK5Zt27ZNACC4ubmJ514QBGHSpEmCoqKizDnNT+7fh4LOR+7nvlevXmJZft9XX19fQSKRCE+ePBHLBg4cKJiamgrZ2dli2bVr12S+V4UBIIwdO1YQBEFo166dYGxsLO47t92XL18udBsTJ04UAAhhYWFiWXx8vKCjoyMAEB49elRou/L7O9SlSxeZ70WurKwsIT09Xabs33//FYyMjIShQ4cW2V6qOngJmIpNKpXCy8srT/n7/wp9/fo1Xr58iTZt2uDNmze4e/dukdvt378/atSoIb5v06YNAODhw4dFruvm5oZ69eqJ7xs3bgxtbW1x3ezsbJw+fRo9e/aEqampWM/Kykrs5SiMRCJB3759ceLECaSkpIjl+/btQ61atdC6dWuxrCTHoaBj+aETJ07A2NgYAwcOFMuUlZUxfvx4pKSk4Ny5c0Vu431qampQUVFBcHBwvpdjCxITE4Pw8HAMGTIEOjo6YvkXX3wBW1tbmboHDhyAjo4OvvjiC7x8+VJ8OTo6QlNTU+w9CgwMxOvXrzFjxow896jlXgK9cuUK4uPjMWbMGJk6Xbp0gbW1NY4fP15m8eWytLSEu7u7TFlur+Nvv/320QObSqJPnz55eqzd3NxgamqK3bt3i2W3bt3CjRs3irx/F3jX4/N+PRUVFbRo0ULmexcQEIBatWqhe/fuYpmqqiqGDx9e5Pazs7Nx6tQp9OzZE3Xr1hXLTUxM8NVXX+HixYtITk6WWWfEiBEyt2W0adMG2dnZePLkSZH7K0xu79br16/Fsve/r6mpqXj58iVatmwJQRBkLvkOHjwYz58/l/lc7N69G2pqaujTp0+J4pg3bx5iY2Ph7+9fovVOnDiBzz//HC1atBDLDAwM8u3l/dS/x4qKiuL9pTk5OUhISEBWVhaaNWuGa9eulShuqtyYAFKx1apVK98bz2/fvo1evXpBR0cH2traMDAwEH9YkpKSitxunTp1ZN7nJoPFSVA+XDd3/dx14+Pj8fbtW1hZWeWpl19Zfvr374+3b9/i6NGjAICUlBScOHECffv2lfmxKslxKOhYfujJkyeoX78+FBRkv6q5I7JL+sMolUqxdOlS/PHHHzAyMkLbtm2xbNkyxMbGFhkHANSvXz/PsgYNGsi8v3//PpKSkmBoaAgDAwOZV0pKCuLj4wEAUVFRAIBGjRoVud8P9wEA1tbW4vKyiC+XpaVlnm32798frVq1wrfffgsjIyMMGDAA+/fvL7NkML8YFBQUMGjQIBw5ckS8R3X37t1QVVWVuV2hILVr185zD+z73x3g3XGtV69ennrF+e68ePECb968yffc2djYICcnB//8849M+af8LShM7j/etLS0xLLo6Gh4enpCT08PmpqaMDAwgIuLCwDZ7+sXX3wBExMTMdHOycnBL7/8gh49eojbS0hIQGxsrPgq6O9e27Zt0a5duxLfC5j7d+BD+R3bT/17DAA7duxA48aNoaqqipo1a8LAwADHjx8v9vpUNfAeQCq2/O43SUxMhIuLC7S1tbFgwQLUq1cPqqqquHbtGqZPn16sH8T37196nyAIZbpucX3++eewsLDA/v378dVXX+HYsWN4+/Yt+vfvL9Yp6XEo7VGkBQ1m+XAACgBMnDgR3bp1w5EjR3Dy5EnMnj0bvr6+OHPmTJ77nD5GTk4ODA0NZXqm3lecey/LUknjy+9cqamp4fz58zh79iyOHz+OgIAA7Nu3D+3bt8epU6cK/Fx+rII+L4MHD8by5ctx5MgRDBw4EHv27EHXrl1lekELUh7fnZIqq5hu3boF4L/ENTs7G1988QUSEhIwffp0WFtbQ0NDA8+ePYOnp6fM91VRURFfffUVNm3ahB9//BEhISF4/vy5TO9p7969ZXrjhwwZIjPw6n1z586Fq6srNm7cKPYkl5bS+Hu8a9cueHp6omfPnpg6dSoMDQ3FQUW5/2ij6oEJIH2S4OBgvHr1CocOHULbtm3F8kePHlVgVP8xNDSEqqoqHjx4kGdZfmUF6devH3744QckJydj3759sLCwwOeffy4uL6vjYG5ujhs3biAnJ0emFzD3Uo65uTmA/3pKEhMTZdYvqIewXr16mDx5MiZPnoz79+/D3t4eK1euxK5duwqMA3jXe/ahyMjIPNs+ffo0WrVqVWiim3vp/tatWwX2KOXuNzIyEu3bt8+z39zlZRFfURQUFNChQwd06NABq1atwuLFizFr1iycPXsWbm5uJdrWxz7lplGjRnBwcMDu3btRu3ZtREdHY+3atR+1rfyYm5vjzp07EARBJsbifHcMDAygrq6e5/gD7z6/CgoK5TYvX+7gmtxL+Tdv3sS9e/ewY8cODB48WKz3/ijh9w0ePBgrV67EsWPH8Mcff8DAwEDmtoCVK1fK9FK+f7vJh1xcXODq6oqlS5dizpw5xYrf3Ny8WJ/tkvwdKugzd/DgQdStWxeHDh2SqTN37txixUpVBy8B0yfJ/Rf7+/9Cz8jIwI8//lhRIclQVFSEm5sbjhw5gufPn4vlDx48wB9//FHs7fTv3x/p6enYsWMHAgIC0K9fvzz7AUr/OHTu3BmxsbEyoyCzsrKwdu1aaGpqipeszM3NoaioiPPnz8us/+H+37x5g7S0NJmyevXqQUtLq9CnJZiYmMDe3h47duyQuQwUGBiIO3fuyNTt168fsrOzsXDhwjzbycrKEpPUjh07QktLC76+vnliyj2OzZo1g6GhIfz9/WXi++OPPxAREYEuXbqUWXyFSUhIyFOWOzryY546oaGhASBvAl8c33zzDU6dOgU/Pz/UrFmzWPe2Fpe7uzuePXsm3v4AAGlpadi0aVOR6yoqKqJjx4747bffZKYYiouLw549e9C6dWtoa2uXWqwF2bNnDzZv3gxnZ2d06NBBjA2Q/b4KgoAffvgh3200btwYjRs3xubNm/Hrr79iwIABMvOSOjo6ws3NTXx9eN/ph3LvBfzpp5+K1YbOnTvjr7/+wqVLl8SyFy9e5OnFLsnfIQ0NjXwv6ea3jbCwMISGhhYrVqo62ANIn6Rly5aoUaMGhgwZgvHjx0MikeDnn3+u0MtIH5o3bx5OnTqFVq1aYfTo0cjOzsa6devQqFEjhIeHF2sbTZs2hZWVFWbNmoX09HSZy79A2R2HESNGYOPGjfD09MTVq1dhYWGBgwcPIiQkBH5+fuI9SDo6Oujbty/Wrl0LiUSCevXq4ffff89zP9u9e/fQoUMH9OvXD7a2tlBSUsLhw4cRFxeHAQMGFBqLr68vunTpgtatW2Po0KFISEjA2rVr0bBhQ5kBMi4uLhg5ciR8fX0RHh6Ojh07QllZGffv38eBAwfwww8/4Msvv4S2tjZWr16Nb7/9Fs2bN8dXX32FGjVq4O+//8abN2+wY8cOKCsrY+nSpfDy8oKLiwsGDhwoTgNjYWGBSZMmlVl8hVmwYAHOnz+PLl26wNzcHPHx8fjxxx9Ru3ZtmYFBudOdFPU5cHR0BACMHz8e7u7uUFRULPJ85Prqq68wbdo0HD58GKNHj/6kCdc/NHLkSKxbtw4DBw7EhAkTxHvhcgfkFNVzuWjRInG+xDFjxkBJSQkbN25Eenp6vnMOfqqDBw9CU1MTGRkZ4pNAQkJC0KRJE3FqF+Dd/aP16tXDlClT8OzZM2hra+PXX38t9F7DwYMHY8qUKQDyTp5fUi4uLnBxcSn2IK5p06bh559/hoeHByZMmCBOA5N7hSBXSf4OOTo6Yt++ffDx8UHz5s2hqamJbt26oWvXrjh06BB69eqFLl264NGjR/D394etra3M94iqgXIfd0yVXkHTwDRs2DDf+iEhIcLnn38uqKmpCaampsK0adPEKSrenyaioGlg8puSBIAwd+5c8X1B08DkTq/wPnNzc2HIkCEyZUFBQYKDg4OgoqIi1KtXT9i8ebMwefJkQVVVtYCjkNesWbMEAIKVlVW+y4t7HAo7lh9OAyMIghAXFyd4eXkJ+vr6goqKimBnZ5fv9BMvXrwQ+vTpI6irqws1atQQRo4cKdy6dUtmuoqXL18KY8eOFaytrQUNDQ1BR0dHcHJyEvbv31+sY/Drr78KNjY2glQqFWxtbYVDhw7lOa+5fvrpJ8HR0VFQU1MTtLS0BDs7O2HatGnC8+fPZeodPXpUaNmypaCmpiZoa2sLLVq0EH755ReZOvv27RMcHBwEqVQq6OnpCYMGDRKePn1a5vGZm5sLXbp0ybNuUFCQ0KNHD8HU1FRQUVERTE1NhYEDBwr37t2Tqefo6CgYGxsXdkgFQXg39ca4ceMEAwMDQSKRiJ/1wr4j7+vcubMAQPjzzz/zLCtoGpj8PoP5HauHDx8KXbp0EdTU1AQDAwNh8uTJwq+//ioAEP76668i23bt2jXB3d1d0NTUFNTV1YV27drlibOg6VAKmt7oQ7l/H3JfqqqqQu3atYWuXbsKW7dulZn+JNedO3cENzc3QVNTU9DX1xeGDx8uTiOV3/crJiZGUFRUFD777LMi2/y+gv5O5bYtv3bn58aNG4KLi4ugqqoq1KpVS1i4cKGwZcuWPNPAFPfvUEpKivDVV18Jurq6MlMl5eTkCIsXLxbMzc0FqVQqODg4CL///nuB3yOquiSCUIm6aojKUc+ePXH79u18760h+lSvX7+Gnp4e/Pz8MHbs2DLdV69evXDz5s0S3df6Kfz8/DBp0iQ8ffq02BMhV3UvX76EiYkJ5syZg9mzZ1d0OESfjPcAklz4cMqF+/fv48SJE3keu0ZUWs6fP49atWoVa868TxETE4Pjx4/jm2++KZPtf/jdSUtLw8aNG1G/fn25Sf6Ad0/YyM7OLrPjTFTe2ANIcsHExASenp6oW7cunjx5gg0bNiA9PR3Xr1/Pd34tosru0aNHCAkJwebNm3H58mVERUXB2Ni41PfTqVMn1KlTB/b29khKSsKuXbtw+/Zt7N69W3xcX3V25swZ3LlzB7Nnz0a7du1w6NChig6JqFRwEAjJBQ8PD/zyyy+IjY2FVCqFs7MzFi9ezOSPqqxz587By8sLderUwY4dO8ok+QPejQTevHkzdu/ejezsbNja2mLv3r15BkJVVwsWLMCff/6JVq1aleoUO0QVrUr0AJ4/fx7Lly/H1atXERMTg8OHD6Nnz56FrhMcHAwfHx/cvn0bZmZm+P777+Hp6SlTZ/369Vi+fDliY2PRpEkTrF27VuZRO0RERETVUZW4BzA1NRVNmjTB+vXri1X/0aNH6NKlC9q1a4fw8HBMnDgR3377LU6ePCnWyR3+PnfuXFy7dg1NmjSBu7t7nmkziIiIiKqbKtED+D6JRFJkD+D06dNx/Phx8fE/ADBgwAAkJiYiICAAAODk5ITmzZtj3bp1AN49HsrMzAzjxo3DjBkzyrQNRERERBWpSvQAllRoaGieRzG5u7uLM5lnZGTg6tWrMnUUFBTg5ubG2c6JiIio2quWg0BiY2NhZGQkU2ZkZITk5GS8ffsW//77L7Kzs/Otk/uM1fykp6fLPOYpJycHCQkJqFmz5kc/y5OIiIjKlyAIeP36NUxNTWWesy5PqmUCWFZ8fX0xf/78ig6DiIiISsE///yD2rVrV3QYFaJaJoDGxsaIi4uTKYuLi4O2tjbU1NSgqKgIRUXFfOsUNpXCzJkz4ePjI75PSkpCnTp18M8//5TLQ82JiIjo0yUnJ8PMzEx8nro8qpYJoLOzM06cOCFTFhgYCGdnZwCAiooKHB0dERQUJA4mycnJQVBQELy9vQvcrlQqhVQqzVOura3NBJCIiKiKkefbt6rEhe+UlBSEh4cjPDwcwLtpXsLDwxEdHQ3gXc/c4MGDxfqjRo3Cw4cPMW3aNNy9exc//vgj9u/fj0mTJol1fHx8sGnTJuzYsQMREREYPXo0UlNT4eXlVa5tIyIiIipvVaIH8MqVK2jXrp34Pvcy7JAhQ7B9+3bExMSIySAAWFpa4vjx45g0aRJ++OEH1K5dG5s3b4a7u7tYp3///njx4gXmzJmD2NhY2NvbIyAgIM/AECIiIqLqpsrNA1iZJCcnQ0dHB0lJSbwETEREVEXw97uKXAImIiIiotLDBJCIiIhIzjABJCIiIpIzTACJiIiI5AwTQCIiIiI5wwSQiIiISM4wASQiIiKSM0wAiYiIiOQME0AiIiIiOcMEkIiIiEjOMAEkIiIikjNMAImIiIjkDBNAIiIiIjnDBJCIiIhIzjABJCIiIpIzTACJiIiI5AwTQCIiIiI5wwSQiIiISM4wASQiIiKSM0wAiYiI5MD69ethYWEBVVVVODk54dKlSwXWdXV1hUQiyfPq0qWLWCcuLg6enp4wNTWFuro6bG1tUbt27TLbvoeHB+7fv186B4OYABIREVV3+/btg4+PD+bOnYtr166hSZMmcHd3R3x8fL71Dx06hJiYGPF169YtKCoqom/fvgAAQRDQs2dPPHz4EL/99hv+97//ITIyEm/fvsXFixdLffvXr1+Hubk53NzckJqaWjYHSd4I9NGSkpIEAEJSUlJFh0JEVOmsW7dOMDc3F6RSqdCiRQshLCyswLouLi4CgDyvzp07i3Vev34tjB07VqhVq5agqqoq2NjYCP379y/zfWzYsKF0DkgFatGihTB27FjxfXZ2tmBqair4+voWa/3Vq1cLWlpaQkpKiiAIghAZGSkAEG7duiVuf8yYMYKBgYGwadOmUt9+bsy52/9U/P0WBPYAEhFRqSvtHicA8PHxQUBAAHbt2oWIiAi0atUK+/btQ/fu3ctsHxMnToS3tzeOHj1augeoHGVkZODq1atwc3MTyxQUFODm5obQ0NBibWPLli0YMGAANDQ0AADp6ekAAFVVVXH7X3zxBaRSKS5evFiq238/5tzt06djAkhERKVu1apVGD58OLy8vGBrawt/f3+oq6tj69at+dbX09ODsbGx+AoMDIS6urpMcvbnn39iyJAhcHV1hYWFBW7cuAEDAwNoa2uX2T5GjBiBJk2aFHo/W2X38uVLZGdnw8jISKbcyMgIsbGxRa5/6dIl3Lp1C99++61YZm1tjTp16mDmzJl48OABsrOzcerUKTx9+hQxMTGluv1///0XGRkZWLp0qcz26dMwASQiolJVFj1OANCyZUscPXoUz549Q3p6Oq5cuYLXr1+jY8eOZbIPQRBw9uxZ3Lt3T9yHPNqyZQvs7OzQokULsUxZWRmHDh3CvXv30LBhQwDAtWvX0KlTJygolCy1KGr7enp6UFdXx9mzZz9q+5Q/HkUiIipVZdHjBABr164VR5pqaGggJycHU6dORdu2bctkHyoqKvDw8MD69etl9lHV6OvrQ1FREXFxcTLlcXFxMDY2LnTd1NRU7N27F8OGDcuzzNHREeHh4YiPj4eioiJmzJiBV69eoW7duqW6/cTERMTExCAgIEBm+/RpmAASEVGlkl+PEPAuOfvrr79w9OhRBAQEAABWrFiB06dPl8k+rl69ipUrV2Ls2LEftY/KQkVFBY6OjggKChLLcnJyEBQUBGdn50LXPXDgANLT0/H1118XWMfAwACOjo749ddfceXKFfTo0aNUt6+jowMDAwPcv39f3D6VgooehVKVcRQRkXwq7dGtQ4YMybPc3d29PJpSJtLT0wVFRUXh8OHDMuWDBw8WunfvXui6KSkpgra2tuDn5ydT/ubNG0FZWVn4/fffZfbRoUMHmWNVmvvINWzYsCp9PgRBEPbu3StIpVJh+/btwp07d4QRI0YIurq6QmxsrCAIgvDNN98IM2bMyLNe69athf79++e7zf379wtnz54VoqKihClTpggABEdHxzLZ/pEjRwRzc3Ohd+/eH3sIZPD3WxCUKibtJCKqmnJHt/r7+8PJyQl+fn5wd3dHZGQkDA0N89Q/dOgQMjIyxPevXr1CkyZNZAYeAICHhwe2bdsmvpdKpWXXiDL2fo9Tz549AfzX4+Tt7V3ougX1CGVmZiIzM1O8/yt3H7GxsTA1NS2TfeRSVFRETk5Oke2uzPr3748XL15gzpw5iI2Nhb29PQICAsTL9NHR0XnaHRkZiYsXL+LUqVP5bjMmJgY+Pj6Ii4uDiYkJ3N3dERERAXt7+zLZ/uDBgzF79uxPPRSUq6Iz0KqM/4IgqnxKu3fufSNHjhQACK1btxbLPnW+M0F41wPYo0eP4jWwiiiLHicXFxehYcOGwtmzZ4WHDx8Ko0aNEgAIgwcPLrN9bNu2TVBVVRV+/PHHjz0UVAnx95s9gERUjZRV7xwAHD58GH/++ScA4LPPPhPLS2PkKQAEBwfD0NAQNWrUQPv27bFo0SLUrFmzWNusjMqix2nv3r2YOXMmBg0ahISEBJibm6NXr14IDg7G3r17y2wf//vf/zBq1KhPPSRElYpEEAShooOoqpKTk6Gjo4OkpCRoa2tXdDhEcs/JyQnNmzfHunXrALy7JGhmZoZx48ZhxowZRa7v5+eHOXPmICYmRiZBe/bsGZycnPDzzz+jffv2mDBhAvz8/MTl06ZNw7lz5xAWFlbo9i9dugQnJyeEhYXJDD7Yu3cv1NXVYWlpiaioKHz33XfQ1NREaGgoFBUVS3gUiKgo/P0G2ANIRNVC7txzM2fOFMtKo3cuJycH33zzDaZOnYoGDRp8UowFjTwdMGCA+P92dnZo3Lgx6tWrh+DgYHTo0OGT9klUpHk6JayfVOJdRFjblKi+zd2IEu+DSobTwBBRtVBWc88tXboUSkpKGD9+PPT19QEAr1+/lqnzqfOdfahu3brQ19fHgwcPiqxLRPQx2ANIRIT8e+euXr2KH374AdeuXYNEIoGKigpUVFRw7949sc6njjzNz9OnT/Hq1SuYmJh8fIMqO/Y6EVWoKtUDuH79elhYWEBVVRVOTk6FPpvR1dUVEokkz6tLly5iHU9PzzzLPTw8yqMpRFTKyuJpBxcuXEB8fDzq1KkDJSUlKCkpISMjAxcvXoS+vj4iIiIwevRopKamwsvLCwAwePBgmcvQubZs2YKePXvmGdiRkpKCqVOn4q+//sLjx48RFBSEHj16wMrKCu7u7h9zKIiIilRlegA59xYRFaYs5p775ptvZJ5nCwDu7u6wtbXFnTt3SmW+M0VFRdy4cQM7duxAYmIiTE1N0bFjRyxcuJB/j4iozFSZBHDVqlUYPny4+K9sf39/HD9+HFu3bs13dJ+enp7M+9xRdh8mgFKptMjeASKqGnx8fDBkyBA0a9YMLVq0gJ+fX57euVq1asHX11dmvYJ652rWrJmnTFlZGV26dEFgYGC+MQQHB+cpa9CgAQqacEFNTQ0nT54sbhOJiEpFlUgAy2p0H1D95t4ikmdlMfccEVF1VCUSwMJG9929e7fI9XNH923ZskWm3MPDA71795aZe6tTp04Fzr2Vnp6O9PR08X1ycvJHtoiIyoq3t3eBl3xL2juXn8ePH39kZERElUeVSAA/VWnNveXr64v58+eXebxEVDWVdNQpwJGnRFQxqsQo4LIY3ZefoubemjlzJpKSksTXP//8U/xGEBEREVUSVaIHsCxG9+WnqLm3pFIpR+URVWXlMPccEVFVUCV6AIF3o/s2bdqEHTt2cO4tIiIiok9QJXoAgdIf3ce5t4iIiEheVZkEECjd0X2ce4uIqPJZfykDy/9MR2yKgCbGCljbSQ0tauWdlSFXYmIiZs2ahUOHDiEhIQHm5ubw8/ND586dAQDrXr7Aj69eyaxjqaKC45Z1y7QdRJVdlUoAiYio+tp3KxM+p9Lg30UVTrUV4fdXBtx3pSLSWxN5n/f0bo7YL774AoaGhjh48CBq1aqFJ0+eQFdXV6aelYoKtpjVEd/zh4+oCt0DSERE1duqv9IxvKkyvBxUYGugCP+uqlBXlmDr9cx862/duhUJCQk4cuQIWrVqBQsLC7i4uKBJkyYy9RQlEhgoKYmvGkpMAYtj/aUMWPi9huqiZDhtTsGlZ9mF1k9MTMTYsWNhYmICqVSKzz77DCdOnMi37qZXr2AbeRe+8XH5LqeyxwSQiIgqXEa2gKvPc+BW97/kTEEigVtdJYQ+zT/xOHr0KJydnTF27FgYGRmhUaNGWLx4MbKzZetHZ2TA5cEDdHwYhanPn+N5Zv4JJf0ntzd2rosU10ZqoImRItx3pSI+NSff+rm9sY8fP8bBgwcRGRmJTZs2oVatWnnq3nz7FvuTEtGA99tXKP4ziIiIKtzLNwKyBcBIQyJTbqQhwd2X+SeADx8+xJkzZzBo0CCcOHECDx48wJgxY5CZmYm5c+cCABqrquF/JiawVFbBi+ws/PjyFb6JfoKjlpbQUCj43kJ5935vLAD4d1XF8ftZ2Ho9EzPyqZ/bG/vnn39CWVkZAGBhYZGnXmpODqbFPMd8I2NsfPWyDFtARWEPIBERVUk5OTkwNDTETz/9BEdHR/Tv3x+zZs2Cv7+/WKetpiY8tLTRQFUVrTU04V+7Nl7n5CAg+XUFRl65lWVv7KK4WLhoaqKlhkaZtoGKxh5AIiKqcPrqEihKgLhU2Zkb4lIFGGvm31dhYmICZWVlmWe329jYIDY2FhkZGfmuo62oCAsVFTzJzH85lV1v7InkZNxJS8d+c/MybwMVjT2ARERU4VQUJXA0VUDQwyyxLEcQEPQwC861879U26pVKzx48AA5Of/dl3bv3j2YmJhARUUl33VSc3IQnZEBAw4EKVVF9cbGZGbCNz4Oy0xMIFVg6lEZ8CwQkdwr7dGOV968wZin/8DlwQPYRt7F6de83FgcPp9LselaJnaEZyDiRTZG/56G1EwBXvbv7in78IlPo0ePRkJCAiZMmIB79+7h+PHjWLx4McaOHSvWWRYfj8tv3uBZZgauv32D8c+eQlEiQRct7XJvX1Xxsb2xn332WYG9sbfT0vAqOxtfPnkMu8i7sIu8i8tv32LXv//CLvIusguYs5fKDv8JRERyrSzmnnuTk4MGUlX01tHF+OfPyq0tVV3/Rsp48UbAnOB3E0HbGysgYJA6jP4/6fjwiU9mZmY4efIkJk2ahMaNG6NWrVqYMGECpk+fLtaJy8rElOfPkZiTDT1FRTRVU8Mvdcyhxx7AAr3fG9vT+l3yndsb690i/57VVq1aYc+ePcjJyRHP0fu9sc4a6vjNwlJmnVmxMbBUUcG3ejWhKJHkt1kqQ/wGEJFcK83RjhH/X6etpibaamqWffDVkHcLlQKTjPye+OTs7Iy//vqrwO2tNM07DQkVzedzKYYceYtmpopoUevdP4w+7I2tVasWfH19AbzrjV23bh0mTJiAcePG4f79+1i8eDHGjx8PANBQUER9qeylfDWJBLqKiqjP6WAqBC8BE5HcKsvRjkRVWf9GyljRURVzgtNhvzEV4XHZeXpjY2JixPq5vbGXL19G48aNMX78eEyYMAEzZuT3zyiqDNgDSERyq7RHO/Yrj6CJyklp98Z+aEcdjgauSEwAiYhK4P3RjoqKinB0dMSzZ8+wfPly9NPRrejwqi27HXYlXmd/GcRBVF0wASQiuVXqc89p60CFN7MTURXABJCI5Fapj3Zk8kdygL2x1QMHgRCRXCuLuedSc3IQkZaGiLQ0AMCzzExEpKXheWZm+TaOiKgA7AEkIrlWmnPP3ft5FwDgdtpbeP7zj7jO0hfxAICe2tpYbGJajq0jIsofE0AiknulPdqxhboG7jSwLq3wiIhKHS8BExEREckZJoBEREREcoaXgImIClDS0Y4c6UhEVQV7AImIiIjkDBNAIiIiIjnDBJCIiIhIzjABJCIiIpIzTACJiIiI5AwTQCIiIiI5wwSQiIiISM4wASQiIiKSM0wAiYiIiOQME0AiIiIiOcMEkIiIiEjOMAEkIiIikjNMAImqiPXr18PCwgKqqqpwcnLCpUuXirXe3r17IZFI0LNnT5lyiUSS72v58uVlED0REVUmTACJqoB9+/bBx8cHc+fOxbVr19CkSRO4u7sjPj6+0PUeP36MKVOmoE2bNnmWxcTEyLy2bt0KiUSCPn36lFUziIiokmACSFQFrFq1CsOHD4eXlxdsbW3h7+8PdXV1bN26tcB1srOzMWjQIMyfPx9169bNs9zY2Fjm9dtvv6Fdu3b51iUiouqlSiWAJbkEtn379jyXtlRVVWXqCIKAOXPmwMTEBGpqanBzc8P9+/fLuhlEJZKRkYGrV6/Czc1NLFNQUICbmxtCQ0MLXG/BggUwNDTEsGHDitxHXFwcjh8/Xqy6RERU9VWZBPBjLoFpa2vLXOJ68uSJzPJly5ZhzZo18Pf3R1hYGDQ0NODu7o60tLSybg5Rsb18+RLZ2dkwMjKSKTcyMkJsbGy+61y8eBFbtmzBpk2birWPHTt2QEtLC7179/7keImIqPKrMgngx1wCk0gkMpe43v8BFQQBfn5++P7779GjRw80btwYO3fuxPPnz3HkyJFyaBFR2Xj9+jW++eYbbNq0Cfr6+sVaZ+vWrRg0aFCeXnIiIqqeqkQC+LGXwFJSUmBubg4zMzP06NEDt2/fFpc9evQIsbGxMtvU0dGBk5NTgdtMT09HcnKyzIuorOnr60NRURFxcXEy5XFxcTA2Ns5TPyoqCo8fP0a3bt2gpKQEJSUl7Ny5E0ePHoWSkhKioqJk6l+4cAGRkZH49ttvy7QdRERUeVSJBPBjLoE1aNAAW7duxW+//YZdu3YhJycHLVu2xNOnTwFAXK8k2/T19YWOjo74MjMz+9SmERVJRUUFjo6OCAoKEstycnIQFBQEZ2fnPPWtra1x8+ZNhIeHi6/u3bujXbt2CA8Pz/O53bJlCxwdHdGkSZMybwsREVUOShUdQFlxdnaW+XFs2bIlbGxssHHjRixcuPCjtjlz5kz4+PiI75OTk5kEUrnw8fHBkCFD0KxZM7Ro0QJ+fn5ITU2Fl5cXAGDw4MGoVasWfH19oaqqikaNGsmsr6urCwB5ypOTk3HgwAGsXLmyXNpBRESVQ5VIAEt6CSw/ysrKcHBwwIMHDwBAXC8uLg4mJiYy27S3t893G1KpFFKp9CNaQPRp+vfvjxcvXmDOnDmIjY2Fvb09AgICxB7s6OhoKCiUvEN/7969EAQBAwcOLO2QiYioEqsSl4BLegksP9nZ2bh586aY7FlaWsLY2Fhmm8nJyQgLCyv2NonKk7e3N548eYL09HSEhYXByclJXBYcHIzt27cXuO727dvzHdw0YsQIvHnzBjo6OmUQMRERVVZVogcQKNklMODdHGiff/45rKyskJiYiOXLl+PJkyfije4SiQQTJ07EokWLUL9+fVhaWmL27NkwNTXN88gsIiIiouqkyiSAJb0E9u+//2L48OGIjY1FjRo14OjoiD///BO2trZinWnTpiE1NRUjRoxAYmIiWrdujYCAAE6FQURERNWaRBAEoaKDqKqSk5Oho6ODpKQkaGtrV3Q4JKcirG1KvI7N3YgyiKQKmFeyS912lnVKVH+/b1aJ6gM8F8VV0nMBlPx88FwUT3U4F/z9riL3ABIRERFR6WECSERERCRnmAASERERyRkmgERERERyhgkgERERkZxhAkhEREQkZ5gAEhEREckZJoBEREREcoYJIBVq/fr1sLCwgKqqKpycnHDp0qUC6x46dAjNmjWDrq4uNDQ0YG9vj59//lmmjqenJyQSiczLw8OjrJtBRERE76kyj4Kj8rdv3z74+PjA398fTk5O8PPzg7u7OyIjI2FoaJinvp6eHmbNmgVra2uoqKjg999/h5eXFwwNDeHu7i7W8/DwwLZt28T3Uqm0XNpDRERE77AHkAq0atUqDB8+HF5eXrC1tYW/vz/U1dWxdevWfOu7urqiV69esLGxQb169TBhwgQ0btwYFy9elKknlUphbGwsvmrUqFEezSEiIqL/xwSQ8pWRkYGrV6/Czc1NLFNQUICbmxtCQ0OLXF8QBAQFBSEyMhJt27aVWRYcHAxDQ0M0aNAAo0ePxqtXr0o9fiIiIioYLwFTvl6+fIns7GwYGRnJlBsZGeHu3bsFrpeUlIRatWohPT0dioqK+PHHH/HFF1+Iyz08PNC7d29YWloiKioK3333HTp16oTQ0FAoKiqWWXuIiIjoP0wAqVRpaWkhPDwcKSkpCAoKgo+PD+rWrQtXV1cAwIABA8S6dnZ2aNy4MerVq4fg4GB06NChgqImIiKSL0wAKV/6+vpQVFREXFycTHlcXByMjY0LXE9BQQFWVlYAAHt7e0RERMDX11dMAD9Ut25d6Ovr48GDB0wAiYiIygnvAaR8qaiowNHREUFBQWJZTk4OgoKC4OzsXOzt5OTkID09vcDlT58+xatXr2BiYvJJ8RIREVHxsQeQCuTj44MhQ4agWbNmaNGiBfz8/JCamgovLy8AwODBg1GrVi34+voCAHx9fdGsWTPUq1cP6enpOHHiBH7++Wds2LABAJCSkoL58+ejT58+MDY2RlRUFKZNmwYrKyuZaWKIiIiobDEBpAL1798fL168wJw5cxAbGwt7e3sEBASIA0Oio6OhoPBfJ3JqairGjBmDp0+fQk1NDdbW1ti1axf69+8PAFBUVMSNGzewY8cOJCYmwtTUFB07dsTChQs5FyAREVE5YgJIhfL29oa3t3e+y4KDg2XeL1q0CIsWLSpwW2pqajh58mRphkdEREQfgfcAEhEREckZJoBEREREcoaXgOmjRFjblKi+zd2IMoqEiIiISoo9gERERERyhgkgERERkZxhAkhEREQkZ5gAEhEREckZJoBEREREcoYJIBEREZGcYQJIREREJGeYABIRERHJGSaARERERHKGCSARERGRnGECSERERCRnmAASERERyRkmgERERERypkolgOvXr4eFhQVUVVXh5OSES5cuFVh306ZNaNOmDWrUqIEaNWrAzc0tT31PT09IJBKZl4eHR1k3g4iIiKhCVZkEcN++ffDx8cHcuXNx7do1NGnSBO7u7oiPj8+3fnBwMAYOHIizZ88iNDQUZmZm6NixI549eyZTz8PDAzExMeLrl19+KY/mEBEREVWYKpMArlq1CsOHD4eXlxdsbW3h7+8PdXV1bN26Nd/6u3fvxpgxY2Bvbw9ra2ts3rwZOTk5CAoKkqknlUphbGwsvmrUqFEezSEiIiKqMFUiAczIyMDVq1fh5uYmlikoKMDNzQ2hoaHF2sabN2+QmZkJPT09mfLg4GAYGhqiQYMGGD16NF69elXgNtLT05GcnCzzIiIiIqpqqkQC+PLlS2RnZ8PIyEim3MjICLGxscXaxvTp02FqaiqTRHp4eGDnzp0ICgrC0qVLce7cOXTq1AnZ2dn5bsPX1xc6Ojriy8zM7OMbRURERFRBlCo6gPKwZMkS7N27F8HBwVBVVRXLBwwYIP6/nZ0dGjdujHr16iE4OBgdOnTIs52ZM2fCx8dHfJ+cnMwkkIiIiKqcKtEDqK+vD0VFRcTFxcmUx8XFwdjYuNB1V6xYgSVLluDUqVNo3LhxoXXr1q0LfX19PHjwIN/lUqkU2traMi8iIiKiqqZKJIAqKipwdHSUGcCRO6DD2dm5wPWWLVuGhQsXIiAgAM2aNStyP0+fPsWrV69gYmJSKnETERERVUZVIgEEAB8fH2zatAk7duxAREQERo8ejdTUVHh5eQEABg8ejJkzZ4r1ly5ditmzZ2Pr1q2wsLBAbGwsYmNjkZKSAgBISUnB1KlT8ddff+Hx48cICgpCjx49YGVlBXd39wppIxEREVF5qDL3APbv3x8vXrzAnDlzEBsbC3t7ewQEBIgDQ6Kjo6Gg8F8+u2HDBmRkZODLL7+U2c7cuXMxb948KCoq4saNG9ixYwcSExNhamqKjh07YuHChZBKpeXaNiIiIqLyVGUSQADw9vaGt7d3vsuCg4Nl3j9+/LjQbampqeHkyZOlFBkRERFR1VFlLgETERERUelgAkhEREQkZ5gAEhEREckZJoBEREREcoYJIBEREZGcYQJIREREJGeYABKVgvXr18PCwgKqqqpwcnLCpUuXCqx7+/Zt9OnTBxYWFpBIJPDz88tT5/z58+jWrRtMTU0hkUhw5MiRsgueiIjkDhNAok+0b98++Pj4YO7cubh27RqaNGkCd3d3xMfH51v/zZs3qFu3LpYsWVLgs6xTU1PRpEkTrF+/vixDJyIiOVWlJoImqoxWrVqF4cOHi48l9Pf3x/Hjx7F161bMmDEjT/3mzZujefPmAJDvcgDo1KkTOnXqVHZBExGRXGMPINEnyMjIwNWrV+Hm5iaWKSgowM3NDaGhoRUYGRERUcGYABJ9gpcvXyI7O1t8JnUuIyMjxMbGVlBUREREhWMCSERERCRnmAASfQJ9fX0oKioiLi5OpjwuLq7AAR5EREQVjQkg0SdQUVGBo6MjgoKCxLKcnBwEBQXB2dm5AiMjIiIqGEcBE30iHx8fDBkyBM2aNUOLFi3g5+eH1NRUcVTw4MGDUatWLfj6+gJ4N3Dkzp074v8/e/YM4eHh0NTUhJWVFQAgJSUFDx48EPfx6NEjhIeHQ09PD3Xq1CnnFhIRUXXDBJDoE/Xv3x8vXrzAnDlzEBsbC3t7ewQEBIgDQ6Kjo6Gg8F9n+/Pnz+Hg4CC+X7FiBVasWAEXFxcEBwcDAK5cuYJ27dqJdXx8fAAAQ4YMwfbt28u+UUREVK0xASQqBd7e3vD29s53WW5Sl8vCwgKCIBS6PVdX1yLrEBERfSzeA0hEREQkZ5gAEhEREckZXgImKkvzdD5inaTSj4OIiOg97AEkIiIikjNMAImIiIjkDBNAIiIiIjnDBJCIiIhIzjABJCIiIpIzTACJiIiI5AwTQCIiIiI5wwSQiIiISM4wASQiIiKSM0wAiYiIiORMiRLAEydO4Ntvv8W0adNw9+5dmWX//vsv2rdvX6rBEREREVHpK3YCuGfPHnTv3h2xsbEIDQ2Fg4MDdu/eLS7PyMjAuXPnyiRIIiIiIio9SsWtuHz5cqxatQrjx48HAOzfvx9Dhw5FWloahg0bVmYBEhEREVHpKnYCeP/+fXTr1k18369fPxgYGKB79+7IzMxEr169yiRAIiIiIipdxU4AtbW1ERcXB0tLS7GsXbt2+P3339G1a1c8ffq0TAIkIiIiotJV7HsAW7RogT/++CNPuYuLC44dOwY/P7/SjCtf69evh4WFBVRVVeHk5IRLly4VWv/AgQOwtraGqqoq7OzscOLECZnlgiBgzpw5MDExgZqaGtzc3HD//v2ybAIRERFRhSt2Ajhp0iSoqqrmu8zV1RXHjh3D4MGDSy2wD+3btw8+Pj6YO3curl27hiZNmsDd3R3x8fH51v/zzz8xcOBADBs2DNevX0fPnj3Rs2dP3Lp1S6yzbNkyrFmzBv7+/ggLC4OGhgbc3d2RlpZWZu0gIiIiqmjFTgBdXFwwc+bMApe3a9cO27ZtK5Wg8rNq1SoMHz4cXl5esLW1hb+/P9TV1bF169Z86//www/w8PDA1KlTYWNjg4ULF6Jp06ZYt24dgHe9f35+fvj+++/Ro0cPNG7cGDt37sTz589x5MiRMmsHERERUUWrEhNBZ2Rk4OrVq3BzcxPLFBQU4ObmhtDQ0HzXCQ0NlakPAO7u7mL9R48eITY2VqaOjo4OnJycCtxmeno6kpOTZV5EREREVU2xB4Hk8vPzw8SJE8sglIK9fPkS2dnZMDIykik3MjLKMyF1rtjY2Hzrx8bGistzywqq8yFfX1/Mnz//o9rwKSxmHC9R/ceqX5V4H3aWdUpU/+bdiBLvozoo8blYklTifdjtsCtRfZ6L4ivp+bhZ0h0MKekK1UOlPBcAz0cx8VzIpxL1AH733XfYsGFDWcVS6c2cORNJSUni659//qnokIiIiIhKrFg9gIIgYOTIkTh16hQuXLhQ1jHloa+vD0VFRcTFxcmUx8XFwdjYON91jI2NC62f+9+4uDiYmJjI1LG3t893m1KpFFKp9GObQURERFQpFKsH8Msvv8Tx48dx+vRpmJmZlXVMeaioqMDR0RFBQUFiWU5ODoKCguDs7JzvOs7OzjL1ASAwMFCsb2lpCWNjY5k6ycnJCAsLK3CbRERERNVBsXoADx8+jJ9++glWVlZlHU+BfHx8MGTIEDRr1gwtWrSAn58fUlNT4eXlBQAYPHgwatWqBV9fXwDAhAkT4OLigpUrV6JLly7Yu3cvrly5gp9++gkAIJFIMHHiRCxatAj169eHpaUlZs+eDVNTU/Ts2bOimklERERU5oqVAE6aNAmTJ0+Gvb09mjVrVtYx5at///548eIF5syZg9jYWNjb2yMgIEAcxBEdHQ0Fhf86NFu2bIk9e/bg+++/x3fffYf69evjyJEjaNSokVhn2rRpSE1NxYgRI5CYmIjWrVsjICCgwPkOiYiIiKqDYiWAK1euRM2aNeHh4YHg4GCZJKo8eXt7w9vbO99lwcHBecr69u2Lvn37Frg9iUSCBQsWYMGCBaUVIhEREVGlV+xpYL777jvo6+vD3d0dz549K8uYiIiIiKgMlWgewBEjRqBmzZplFQsRERERlYMSzQOYmZmJH3/8Effv3y+reIiIiIiojJUoAVRWVsaNGzfKKhYiIiIiKgclfhbw119/jS1btpRFLERERERUDkr8LOCsrCxs3boVp0+fhqOjIzQ0NGSWr1q1qtSCIyIiIqLSV+IE8NatW2jatCkA4N69ezLLJBJJ6URFRERERGWmxAng2bNnyyIOIiIiIionJb4HkIiIiIiqNiaARERERHKGCSARERGRnGECSERERCRnmAASERERyRkmgERERERyhgkgERERkZxhAkhEREQkZ5gAEhEREckZJoBEREREcoYJIBEREZGcYQJIREREJGeYABIRERHJGSaARERERHKGCSARERGRnGECSERERCRnmAASERERyRkmgERERERyhgkgERERkZxhAkhEREQkZ5gAEhEREckZJoBEREREcoYJIBEREZGcYQJIREREJGeYABIRERHJGSaARERERHJGqaIDICJZN4fcrOgQiIiomqv0PYAJCQkYNGgQtLW1oauri2HDhiElJaXQ+uPGjUODBg2gpqaGOnXqYPz48UhKSpKpJ5FI8rz27t1b1s0hEgmCgDlz5sDExARqampwc3PD/fv3C13H19cXzZs3h5aWFgwNDdGzZ09ERkaKy4v7+SciIvlW6RPAQYMG4fbt2wgMDMTvv/+O8+fPY8SIEQXWf/78OZ4/f44VK1bg1q1b2L59OwICAjBs2LA8dbdt24aYmBjx1bNnzzJsCZGsZcuWYc2aNfD390dYWBg0NDTg7u6OtLS0Atc5d+4cxo4di7/++guBgYHIzMxEx44dkZqaCqBkn38iIpJflfoScEREBAICAnD58mU0a9YMALB27Vp07twZK1asgKmpaZ51GjVqhF9//VV8X69ePfzvf//D119/jaysLCgp/ddkXV1dGBsbl31DiD4gCAL8/Pzw/fffo0ePHgCAnTt3wsjICEeOHMGAAQPyXS8gIEDm/fbt22FoaIirV6+ibdu2Jfr8ExGR/KrUPYChoaHQ1dUVkz8AcHNzg4KCAsLCwoq9naSkJGhra+f58Rs7diz09fXRokULbN26FYIglFrsRIV59OgRYmNj4ebmJpbp6OjAyckJoaGhxd5O7qVdPT29Quvk9/knIiL5Val/EWJjY2FoaChTpqSkBD09PcTGxhZrGy9fvsTChQvzXDZesGAB2rdvD3V1dZw6dQpjxoxBSkoKxo8fX+C20tPTkZ6eLr5PTk4uQWuI/pP7+TUyMpIpNzIyKvZnOycnBxMnTkSrVq3QqFGjfOsU9PknIiL5ViE9gDNmzMh3EMb7r7t3737yfpKTk9GlSxfY2tpi3rx5Mstmz56NVq1awcHBAdOnT8e0adOwfPnyQrfn6+sLHR0d8WVmZvbJMZJ82L17NzQ1NcVXZmbmJ29z7NixuHXrVoGDlwr7/BMRkXyrkB7AyZMnw9PTs9A6devWhbGxMeLj42XKs7KykJCQUOS9e69fv4aHhwe0tLRw+PBhKCsrF1rfyckJCxcuRHp6OqRSab51Zs6cCR8fH/F9cnJytUkCOfVI2erevTucnJzE97k9yXFxcTAxMRHL4+LiYG9vX+T2vL29xUFRtWvXzrO8pJ9/IiKSLxWSABoYGMDAwKDIes7OzkhMTMTVq1fh6OgIADhz5gxycnJkfkw/lJycDHd3d0ilUhw9ehSqqqpF7is8PBw1atQoMPkDAKlUWujyqkAQBMwNTsema5lITBPQykwRG7qoon4h6/j6+uLQoUO4e/cu1NTU0LJlSyxduhQNGjSQqRcaGopZs2YhLCwMioqKsLe3x8mTJ6Gmpla2jaoCtLS0oKWlJb4XBAHGxsYICgoSE77k5GSEhYVh9OjRBW5HEASMGzcOhw8fRnBwMCwtLfPU+ZjPPxERyZdKPQjExsYGHh4eGD58OC5duoSQkBB4e3tjwIAB4gjgZ8+ewdraGpcuXQLw7scvd1qMLVu2IDk5GbGxsYiNjUV2djYA4NixY9i8eTNu3bqFBw8eYMOGDVi8eDHGjRtXYW0tL8tCMrAmLAP+XVQR9q0GNFQkcN/15pOmHgHeJX8eHh7o2LEjLl26hMuXL8Pb2xsKCpX6I1ZhJBIJJk6ciEWLFuHo0aO4efMmBg8eDFNTU5npiDp06IB169aJ78eOHYtdu3Zhz5490NLSEj/bb9++BVC8zz8REVGlHgQCvLt3ytvbGx06dICCggL69OmDNWvWiMszMzMRGRmJN2/eAACuXbsmjhC2srKS2dajR49gYWEBZWVlrF+/HpMmTYIgCLCyssKqVaswfPjw8mtYBRAEAX5hGfi+rRQ9rN9dEtzZUw1GK15/0tQjADBp0iSMHz8eM2bMEOt92ENIsqZNm4bU1FSMGDECiYmJaN26NQICAmR67KKiovDy5Uvx/YYNGwAArq6uMtvatm0bPD09i/X5JyIiqvQJoJ6eHvbs2VPgcgsLC5npW1xdXYuczsXDwwMeHh6lFmNV8ShRQGyKALe6/512HVUJnGorIjQ0tMAE8EMfTj0SHx+PsLAwDBo0CC1btkRUVBSsra3xv//9D61bty79hlQTEokECxYswIIFCwqs8/jxY5n3RX22i/P5JyIi4vU5ORKbkgMAMNKQyJQbaUg+aeqRhw8fAgDmzZuH4cOHIyAgAE2bNkWHDh2KfLQZERERlb9K3wNIH2/3jUyM/P2t+P74V+qfvM3cqUcuXrwoluXkvEssR44cCS8vLwCAg4MDgoKCsHXrVvj6+n7yfomIiKj0MAGsxro3UIJTbU3xfXrWu0uDcakCTP4bkIq4VAH2xXgkXkFTj+ROY2JraytT38bGBtHR0Z/SBCIiIioDvARcjWlJJbDSUxBftgYKMNaUIOhhllgnOV1A2NNsODs7F7gdQRDg7e2Nw4cP48yZM3mmHrGwsICpqSkiIyNlyu/duwdzc/PSbRQRERF9MvYAyhGJRIKJTipYdCEd9WsqwFJXAbPPpsNUS5Jn6pFevXrB29sbwLvLvnv27MFvv/0mTj0CvHt2rZqaGiQSCaZOnYq5c+eiSZMmsLe3x44dO3D37l0cPHiwIppKREREhWACKGemtVJBaqaAEcfSkJgmoHUdRQR8rf5JU48AwMSJE5GWloZJkyYhISEBTZo0QWBgIOrVq1fmbSIiIqKSYQIoZyQSCRa0U8WCdgU/HaKkU4/kmjFjhsw8gERERFQ58R5AIiIiIjnDBJCIiIhIzjABJCIiIpIzTACJiIiI5AwTQCIiIiI5wwSQiIiISM4wASQiIiKSM0wAiYiIiOQME0AiIiIiOcMEkIiIiEjOMAEkIiIikjNMAImIiIjkDBNAIiIiIjnDBJCIiIhIzjABJCIiIpIzTACJiIiI5AwTQCIiIiI5wwSQiIiISM4wASQiIiKSM0wAiYiIiOQME0AiIiIiOcMEkIiIiEjOMAEkIiIikjNMAImIiIjkDBNAIiIiIjnDBJCIiIhIzjABJCIiIpIzTACJiIiI5EylTwATEhIwaNAgaGtrQ1dXF8OGDUNKSkqh67i6ukIikci8Ro0aJVMnOjoaXbp0gbq6OgwNDTF16lRkZWWVZVOIiIiIKgWlig6gKIMGDUJMTAwCAwORmZkJLy8vjBgxAnv27Cl0veHDh2PBggXie3V1dfH/s7Oz0aVLFxgbG+PPP/9ETEwMBg8eDGVlZSxevLjM2kJEVJays7ORmZlZ7vutpaVY4nXS0tLKIBICSn4+quO5UFZWhqJiyT+X8qRSJ4AREREICAjA5cuX0axZMwDA2rVr0blzZ6xYsQKmpqYFrquurg5jY+N8l506dQp37tzB6dOnYWRkBHt7eyxcuBDTp0/HvHnzoKKiUibtISIqC4IgIDY2FomJiRWy/3ntDEu8zqNHj8ogEgJKfj6q67nQ1dWFsbExJBJJRYdSKVXqBDA0NBS6urpi8gcAbm5uUFBQQFhYGHr16lXgurt378auXbtgbGyMbt26Yfbs2WIvYGhoKOzs7GBkZCTWd3d3x+jRo3H79m04ODiUXaOIiEpZbvJnaGgIdXX1cv/By1BLLvE6lsbaZRAJASU/H9XtXAiCgDdv3iA+Ph4AYGJiUsERVU6VOgGMjY2FoaHsv2SUlJSgp6eH2NjYAtf76quvYG5uDlNTU9y4cQPTp09HZGQkDh06JG73/eQPgPi+sO2mp6cjPT1dfJ+cXPI/ekREpSk7O1tM/mrWrFkhMUiUSn4JUVVVtQwiIaDk56M6ngs1NTUAQHx8PAwNDXk5OB8VkgDOmDEDS5cuLbRORETER29/xIgR4v/b2dnBxMQEHTp0QFRUFOrVq/fR2/X19cX8+fM/en0iotKWe8/f+/c5E9F/34nMzEwmgPmokARw8uTJ8PT0LLRO3bp1YWxsLHbh5srKykJCQkKB9/flx8nJCQDw4MED1KtXD8bGxrh06ZJMnbi4OAAodLszZ86Ej4+P+D45ORlmZmbFjoOIqKzwPiciWfxOFK5CpoExMDCAtbV1oS8VFRU4OzsjMTERV69eFdc9c+YMcnJyxKSuOMLDwwH8dx+As7Mzbt68KZNcBgYGQltbG7a2tgVuRyqVQltbW+ZFREQfRxAEjBgxAnp6epBIJNDV1cXEiRPLdJ/z5s2Dvb39R6/v6emJnj17llo8H+Px48eQSCTibxvRx6jU9wDa2NjAw8MDw4cPh7+/PzIzM+Ht7Y0BAwaII4CfPXuGDh06YOfOnWjRogWioqKwZ88edO7cGTVr1sSNGzcwadIktG3bFo0bNwYAdOzYEba2tvjmm2+wbNkyxMbG4vvvv8fYsWMhlUorsslERHIjICAA27dvR3BwMOrWrQsFBQXx3i0iKluVOgEE3o3m9fb2RocOHaCgoIA+ffpgzZo14vLMzExERkbizZs3AAAVFRWcPn0afn5+SE1NhZmZGfr06YPvv/9eXEdRURG///47Ro8eDWdnZ2hoaGDIkCEy8wYSEVVlFjOOl+v+jnq3KvE6UVFRMDExQcuWLcsgIipMZkYGlCvRlGcZGRmcgq2cVfongejp6WHPnj14/fo1kpKSsHXrVmhqaorLLSwsIAgCXF1dAQBmZmY4d+4cXr16hbS0NNy/fx/Lli3Lc7nW3NwcJ06cwJs3b/DixQusWLECSkqVPh8mIqoWPD09MW7cOERHR0MikcDCwgKurq7iJeC7d+9CXV1dZtL//fv3Q01NDXfu3AEAJCYm4ttvv4WBgQG0tbXRvn17/P333zL7WbJkCYyMjKClpYVhw4aVaNLj7Oxs+Pj4QFdXFzVr1sS0adMgCIJMnZycHPj6+sLS0hJqampo0qQJDh48KFPn9u3b6Nq1K7S1taGlpYU2bdogKipKXH/BggWoXbs2pFIp7O3tERAQILP+pUuX4ODgAFVVVTRr1gzXr1/PE+utW7fQqVMnaGpqop3DZ/huwkj8m/BKXD6sb1cs/n4qls2bCZfG9TDq6z6Ftl0QBMybNw916tSBVCqFqakpxo8fLy5PT0/H9OnTYWZmBqlUCisrK2zZskVcfu7cObRo0QJSqRQmJiaYMWOGzNO2XF1d4e3tjYkTJ0JfXx/u7u552mFkZIRvvvkGL1++FNc7ePAg7OzsoKamhpo1a8LNzQ2pqamFtoXyV+kTQCIiqn5++OEHMfGJiYnB5cuXZZZbW1tjxYoVGDNmDKKjo/H06VOMGjUKS5cuFe/V7tu3L+Lj4/HHH3/g6tWraNq0KTp06ICEhAQA7xLGefPmYfHixbhy5QpMTEzw448/FjvGlStXYvv27di6dSsuXryIhIQEHD58WKaOr68vdu7cCX9/f9y+fRuTJk3C119/jXPnzgF4d5tS27ZtIZVKcebMGVy9ehVDhw4Vk6EffvgBK1euxIoVK3Djxg24u7uje/fuuH//PgAgJSUFXbt2ha2tLa5evYp58+ZhypQpMjEkJiaiffv2cHBwwJUrV/Djzwfx6sULTB3tJVPv2MG9UFZWxo7DAZjtu6rQtv/6669YvXo1Nm7ciPv37+PIkSOws7MTlw8ePBi//PIL1qxZg4iICGzcuFHsnHn27Bk6d+6M5s2b4++//8aGDRuwZcsWLFq0SGYfO3bsgIqKCkJCQuDv75+nHQEBAYiLi0O/fv0AADExMRg4cCCGDh2KiIgIBAcHo3fv3nmScioednkREVG509HRgZaWFhQVFQucfWHMmDE4ceIEvv76a6ioqKB58+YYN24cAODixYu4dOkS4uPjxXu3V6xYgSNHjuDgwYMYMWIE/Pz8MGzYMAwbNgwAsGjRIpw+fbrYvYB+fn6YOXMmevfuDQDw9/fHyZMnxeXp6elYvHgxTp8+DWdnZwDvZrC4ePEiNm7cCBcXF6xfvx46OjrYu/dd8gUAn332mbiNFStWYPr06RgwYAAAYOnSpTh79iz8/Pywfv167NmzBzk5OdiyZQtUVVXRsGFDPH36FKNHjxa3sW7dOjg4OIiPMs3QNMaClWvRsUUjPH74ABZ1rQAAdSzrYtKs4t3qFB0dDWNjY7i5uUFZWRl16tRBixYtAAD37t3D/v37ERgYCDc3N7HduX788UeYmZlh3bp1kEgksLa2xvPnzzF9+nTMmTMHCgrv+p7q16+PZcuWiestWrRIph0AsHXrVpiZmeHevXtISUlBVlYWevfuDXNzcwCQSUqpZJgAEhFRpbV161Z89tlnUFBQwO3bt8WpPf7++2+kpKTkmfz67du34uXViIgIjBo1Sma5s7Mzzp49W+R+k5KSEBMTIzPjhJKSEpo1ayb2OD148ABv3rzBF198IbNuRkaG+ESp8PBwtGnTRkz+3pecnIznz5+jVSvZ+ydbtWolXsqOiIhA48aNZSZrzk02c/399984e/as2AOX816H2NMnj8QE0NbOvsh25+rbty/8/PxQt25deHh4oHPnzujWrRuUlJQQHh4ORUVFuLi45LtuREQEnJ2dZaZhadWqFVJSUvD06VPUqVMHAODo6FhoO94XFRWFjh07okOHDrCzs4O7uzs6duyIL7/8EjVq1Ch2u+g/TACJiKjS+vvvv5GamgoFBQXExMSI03mlpKTAxMQEwcHBedbR1dUtl9hSUlIAAMePH0etWrVkluX2SpbHqOaUlBR069ZNfMDC3Zj/nlKl/95Tr9RKMFm4mZkZIiMjcfr0aQQGBmLMmDFYvnw5zp07V2pt0tDQkHn/YTveZ2JiAkVFRQQGBuLPP//EqVOnsHbtWsyaNQthYWGwtLQslZjkCe8BJCKiSikhIQGenp6YNWsWPD09MWjQILx9+xYA0LRpU8TGxkJJSQlWVlYyL319fQDvphILCwuT2eZff/1VrH3r6OjAxMREZv2srCyZeWltbW0hlUoRHR2dJ4bchwQ0btwYFy5cEJ/Y8j5tbW2YmpoiJCREpjwkJES8z9HGxgY3btyQuWz9YRuaNm2K27dvw8LCAlZWVqhjWVd8qavLJlkloaamhm7dumHNmjUIDg5GaGgobt68CTs7O+Tk5Ij3OX7IxsYGoaGhMvfmhYSEQEtLC7Vr1y5wfx+24/1XbrIokUjQqlUrzJ8/H9evX4eKikqe+zKpeJgAEhFRpTRq1CiYmZnh+++/x6pVq5CdnS0OgHBzc4OzszN69uyJU6dO4fHjx/jzzz8xa9YsXLlyBQAwYcIEbN26Fdu2bcO9e/cwd+5c3L59u9j7nzBhApYsWYIjR47g7t27GDNmDBITE8XlWlpamDJlCiZNmoQdO3YgKioK165dw9q1a7Fjxw4AgLe3N5KTkzFgwABcuXIF9+/fx88//4zIyEgAwNSpU7F06VLs27cPkZGRmDFjBsLDwzFhwgQA755tL5FIMHz4cNy5cwcnTpzAihUrZOIcO3YsEhISMHDgQFy+fBn/PH6EkOAgzPYZi+zs7I869tu3b8eWLVtw69YtPHz4ELt27YKamhrMzc1hYWGBIUOGYOjQoThy5AgePXqE4OBg7N+/H8C7ezf/+ecfjBs3Dnfv3sVvv/2GuXPnwsfHR7z/Lz8ftiMqKgonT56El5cXsrOzERYWJg7oiY6OxqFDh/DixQvY2Nh8VBvlHS8BExFRpbNz506cOHEC169fh5KSEpSUlLBr1y60bt0aXbt2RadOnXDixAnMmjULXl5eePHiBYyNjdG2bVsY/f9lz/79+yMqKgrTpk1DWloa+vTpg9GjR8sM5CjM5MmTERMTgyFDhkBBQQFDhw5Fr169kJSUJNZZuHAhDAwM4Ovri4cPH0JXVxdNmzbFd999BwCoWbMmzpw5g6lTp8LFxQWKioqwt7cX7/sbP348kpKSMHnyZMTHx8PW1hZHjx5F/fr1AQCampo4duwYRo0aBQcHB9ja2mLp0qXo0+e/aVxyexGnT5+Ojh07Ii0tHSa1zdDKpUOhCVdhdHV1sWTJEvj4+CA7Oxt2dnY4duyYeM/lhg0b8N1332HMmDF49eoV6tSpI7a5Vq1aOHHiBKZOnYomTZpAT08Pw4YNk5mPNz8ftiM9PR3m5ubw8PCAgoICtLW1cf78efj5+SE5ORnm5uZYuXIlOnXq9FFtlHcSgeOnP1pycjJ0dHSQlJRUpo+FK+mEro9Vvyr5TuYlFV2HSn4ulnQpo0joYyY6ro7nIy0tDY8ePYKlpaXMQIHydONpYonXaVxbt9TjoHdKej6q67ko7LtRXr/flRkvARMRERHJGSaAREQklzQ1NQt8XbhwoaLDK1PHD+/H5w1q4/MGtfO0vWHDhhUdHpUD3gNIRERyKTw8vMBlH07rUt24ftEJdvbNAADWJrKXQPObs5CqHyaAREQkl6ysrCo6hAqjoakFDU0tAIBVNb0HkArHS8BEREREcoYJIBEREZGcYQJIREREJGeYABIRERHJGSaARERERHKGCSARERGRnGECSEREBMDT0xM9e/as0BgeP34MiURS6ByFRKWB8wASEVVH83TKbVeNAdz49km57Y+IPh17AImIiKqRzIyMig5BRkYli4feYQJIREQVwtXVFd7e3vD29oaOjg709fUxe/ZsCIIAAEhPT8f06dNhZmYGqVQKKysrbNmyBQCQnZ2NYcOGwdLSEmpqamjQoAF++OGHYu87OzsbPj4+0NXVRc2aNTFt2jRxv7lycnLg6+sr7qNJkyY4ePCgTJ3bt2+ja9eu0NbWhpaWFtq0aYOoqChx/QULFqB27dqQSqWwt7dHQECAzPqXLl2Cg4MDVFVV0axZM1y/fj1PrLdu3UKnTp2gqakJIyMjfPPNN3j58mWe4zhx4kTo6+tj1Nd9Cm27IAjYsGoJ3J0aoVk9I5iammL8+PHi8sKOOwCcO3cOLVq0gFQqhYmJCWbMmIGsrKwC43F3dy9WOw4ePAg7OzuoqamhZs2acHNzQ2pqaqFtoY/HBJCIiCrMjh07oKSkhEuXLuGHH37AqlWrsHnzZgDA4MGD8csvv2DNmjWIiIjAxo0boampCeBdclW7dm0cOHAAd+7cwZw5c/Ddd99h//79xdrvypUrsX37dmzduhUXL15EQkICDh8+LFPH19cXO3fuhL+/P27fvo1Jkybh66+/xrlz5wAAz549Q9u2bSGVSnHmzBlcvXoVQ4cOFZOhH374AStXrsSKFStw48YNuLu7o3v37rh//z4AICUlBV27doWtrS2uXr2KefPmYcqUKTIxJCYmon379nBwcMCVK1cQEBCAuLg49OvXL89xVFFRQUhICGb7riq07adPHMWuzT9i9pLVOHb+Co4cOQI7OztxeWHH/dmzZ+jcuTOaN2+Ov//+Gxs2bMCWLVuwaNGiAuPx9/cvsh0xMTEYOHAghg4dioiICAQHB6N37955knIqPbwHkIiIKoyZmRlWr14NiUSCBg0a4ObNm1i9ejVcXFywf/9+BAYGws3NDQBQt25dcT1lZWXMnz9ffG9paYnQ0FDs378/T3KUHz8/P8ycORO9e/cGAPj7++PkyZPi8vT0dCxevBinT5+Gs7OzuP+LFy9i48aNcHFxwfr166Gjo4O9e/dCWVkZAPDZZ5+J21ixYgWmT5+OAQMGAACWLl2Ks2fPws/PD+vXr8eePXuQk5ODLVu2QFVVFQ0bNsTTp08xevRocRvr1q2Dg4MDFi9eLJZt3boVZmZmuHfvnri/+vXrY9myZe9i10gstO0xz56ipoERnFq7QllZGY1r66JFixYAgHv37hV63H/88UeYmZlh3bp1kEgksLa2xvPnzzF9+nTMmTMHCgoKeeIBgEWLFhXajpSUFGRlZaF3794wNzcHAJmklEofewCJiKjCfP7555BIJOJ7Z2dn3L9/H9evX4eioiJcXFwKXHf9+vVwdHSEgYEBNDU18dNPPyE6OrrIfSYlJSEmJgZOTk5imZKSEpo1aya+f/DgAd68eYMvvvgCmpqa4mvnzp3iJd7w8HC0adNGTP7el5ycjOfPn6NVq1Yy5a1atUJERAQAICIiAo0bN4aqqqpM+9/3999/4+zZszIxWFtbA4AYBwA4OjoW2e5cHbv2QHraW3RpZY/50ybg8OHDYq9leHh4occ9IiICzs7OMuesVatWSElJwdOnTwuMp6h2NGnSBB06dICdnR369u2LTZs24d9//y12m6jk2ANIRESVzvtJUX727t2LKVOmYOXKlXB2doaWlhaWL1+OsLCwUtl/SkoKAOD48eOoVauWzDKpVAoAUFNTK5V9FRVHt27dsHTp0jzLTExMxP/X0NAo9jaNTWvjt+DL+OtiMP66EIwxY8Zg+fLlOHfuXKm16cN4imqHoqIiAgMD8eeff+LUqVNYu3YtZs2ahbCwMFhaWpZKTCSLPYBERFRhPkzY/vrrL9SvXx9NmjRBTk6OeL/dh0JCQtCyZUuMGTMGDg4OsLKykukRK4yOjg5MTExk9p2VlYWrV6+K721tbSGVShEdHQ0rKyuZl5mZGQCgcePGuHDhAjIzM/PsQ1tbG6ampggJCckTt62tLQDAxsYGN27cQFpamkz739e0aVPcvn0bFhYWeeIoSdL3IVU1Nbh+0QkzFixFcHAwQkNDcfPmTdjZ2RV63G1sbBAaGipzb15ISAi0tLRQu3btAvdXnHZIJBK0atUK8+fPx/Xr16GiopLnvkwqPUwAiYiowkRHR8PHxweRkZH45ZdfsHbtWkyYMAEWFhYYMmQIhg4diiNHjuDRo0cIDg4WB3nUr18fV65cwcmTJ3Hv3j3Mnj0bly9fLvZ+J0yYgCVLluDIkSO4e/cuxowZg8TERHG5lpYWpkyZgkmTJmHHjh2IiorCtWvXsHbtWuzYsQMA4O3tjeTkZAwYMABXrlzB/fv38fPPPyMyMhIAMHXqVCxduhT79u1DZGQkZsyYgfDwcEyYMAEA8NVXX0EikWD48OG4c+cOTpw4gRUrVsjEOXbsWCQkJGDgwIG4fPkyoqKicPLkSXh5eSE7O/ujjvlv+/fg0N6fcf/uHTx98hi7du2CmpoazM3NizzuY8aMwT///INx48bh7t27+O233zB37lz4+PiI9//lp6h2hIWFYfHixbhy5Qqio6Nx6NAhvHjxAjY2Nh/VRioaLwETEVVH85LKbVc3niZ+9LqDBw/G27dv0aJFCygqKmLChAkYMWIEAGDDhg347rvvMGbMGLx69Qp16tTBd999BwAYOXIkrl+/jv79+0MikWDgwIEYM2YM/vjjj2Ltd/LkyYiJicGQIUOgoKCAoUOHolevXkhK+u+4LVy4EAYGBvD19cXDhw+hq6uLpk2bijHUrFkTZ86cwdSpU+Hi4gJFRUXY29uL9/2NHz8eSUlJmDx5MuLj42Fra4ujR4+ifv36AABNTU0cO3YMo0aNgoODA2xtbbF06VL06fPfNC65vYjTp09Hx44dkZ6eDnNzc3h4eBSacBVGS1sHW3/0w8oFs5CdnYMmje1w7Ngx1KxZs8jjXqtWLZw4cQJTp05FkyZNoKenh2HDhuH7778vdJ9FtUNbWxvnz5+Hn58fkpOTYW5ujpUrV6JTp04f1UYqmkTgGOuPlpycDB0dHSQlJUFbW7vM9mMx43iJ6j9W/arkOynHH4uqrMTnYkmXMoqESnougOp5PtLS0vDo0SNYWloWed9cWfmYBLBxbV24urrC3t4efn5+pR6TPCvp+WhcW7dM4qhohX03yuv3uzLjJWAiIiIiOcNLwEREVO3kTlycnz/++ANt2rQpx2jK1/HD+7Fwhk++y0xqm+FwUGg5R0SVERNAIiKqEMHBwWW27fDw8AKXfTitS3Xj+kUn2Nk3y3eZkjJ/9ukdfhKIiKjasbKyqugQKoyGphY0NLUqOgyq5HgPIBEREZGcqfQJYEJCAgYNGgRtbW3o6upi2LBh4gzt+Xn8+DEkEkm+rwMHDoj18lu+d+/e8mgSERERUYWq9JeABw0ahJiYGAQGBiIzMxNeXl4YMWIE9uzZk299MzMzxMTEyJT99NNPWL58eZ75hLZt2wYPDw/xva6ubqnHT0RERFTZVOoEMCIiAgEBAbh8+bL4kO61a9eic+fOWLFiBUxNTfOso6ioCGNjY5myw4cPo1+/fnlGhenq6uapS0RERFTdVepLwKGhodDV1RWTPwBwc3ODgoJCsR/4ffXqVYSHh2PYsGF5lo0dOxb6+vpo0aIFtm7dCs6JTURERPKgUieAsbGxMDQ0lClTUlKCnp4eYmNji7WNLVu2wMbGBi1btpQpX7BgAfbv34/AwED06dMHY8aMwdq1awvdVnp6OpKTk2VeRERU9VlYWFT4E0m2b9/OW5Go3FTIJeAZM2Zg6dKlhdaJiIj45P28ffsWe/bswezZs/Mse7/MwcEBqampWL58OcaPH1/g9nx9fTF//vxPjouIqKzZ7bAr1/3t7nChXPdHRJ+mQhLAyZMnw9PTs9A6devWhbGxMeLj42XKs7KykJCQUKx79w4ePIg3b95g8ODBRdZ1cnLCwoULkZ6eDqlUmm+dmTNnwsfnv9nVk5OTYWZmVuS2iYiIykNmZmZFhyAjMzMTysrKFR0G5aNCLgEbGBjA2tq60JeKigqcnZ2RmJiIq1eviuueOXMGOTk5cHJyKnI/W7ZsQffu3WFgYFBk3fDwcNSoUaPA5A8ApFIptLW1ZV5ERPRxcnJysGzZMlhZWUEqlaJOnTr43//+BwB4+vQpBg4cCD09PWhoaKBZs2bivd9RUVHo0aMHjIyMoKmpiebNm+P06dPF3m98fDy6desGNTU1WFpaYvfu3XnqJCYm4ttvv4WBgQG0tbXRvn17/P333zJ1jh07hubNm0NVVRX6+vro1auXuOzff//F4MGDUaNGDairq6NTp064f/++zPrbt29HnTp1oK6ujl69euHVq1d54vjtt9/QtGlTqKqqom7dupg/fz6ysrLE5RKJBBs2bED37t2hoaEhHr+CJCcmYua44XBtYoUWVibo1sYR27ZtE5cXdtwBYMOGDahXrx5UVFTQoEED/PzzzzLbLyiewtohCALmzZuHOnXqQCqVwtTUtNCrcVQ6KvUoYBsbG3h4eGD48OHw9/dHZmYmvL29MWDAAHEE8LNnz9ChQwfs3LkTLVq0ENd98OABzp8/jxMnTuTZ7rFjxxAXF4fPP/8cqqqqCAwMxOLFizFlypRyaxsRkbybOXMmNm3ahNWrV6N169aIiYnB3bt3kZKSAhcXF9SqVQtHjx6FsbExrl27hpycHABASkoKOnfujP/973+QSqXYuXMnunXrhsjISNSpU6fI/Xp6euL58+c4e/YslJWVMX78+DxXm/r27Qs1NTX88ccf0NHRwcaNG9GhQwfcu3cPenp6OH78OHr16oVZs2Zh586dyMjIkPm98fT0xP3793H06FFoa2tj+vTp6Ny5M+7cuQNlZWWEhYVh2LBh8PX1Rc+ePREQEIC5c+fKxHDhwgUMHjwYa9asQZs2bRAVFYURI0YAgEzdefPmYcmSJfDz84OSkhISC2n7uhX/Q9T9SKzfeQC6ejXxz+OH0NdUFI9rYcf98OHDmDBhAvz8/ODm5obff/8dXl5eqF27Ntq1a1dgPEW149dff8Xq1auxd+9eNGzYELGxsXmSbSp9EqGSD31NSEiAt7c3jh07BgUFBfTp0wdr1qwRp3R5/PgxLC0tcfbsWbi6uorrfffdd9i1axceP34MBQXZjs6AgADMnDkTDx48gCAIsLKywujRozF8+PA8dQuTnJwMHR0dJCUllWlvoMWM4yWq/1j1q5LvZF5SydeRQyU+F0u6lFEkVNJzAVTP85GWloZHjx7B0tISqqqqYnllvwfQUkcRBgYGWLduHb799luZZT/99BOmTJmCx48fQ09Pr1jba9SoEUaNGgVvb+9C6927dw8NGjTApUuX0Lx5cwDA3bt3YWNjg9WrV2PixIm4ePEiunTpgvj4eJmrQlZWVpg2bRpGjBiBli1bom7duti1a1eefdy/fx+fffYZQkJCxAGIr169gpmZGXbs2IG+ffviq6++QlJSEo4f/+9zPGDAAAQEBCAxMRHAu1kvOnTogJkzZ4p1du3ahWnTpuH58+cA3vW4TZw4EatXrxbr3HiaWGD7x3sNhK5eTSxYuU4sa1xbF0DRx71Vq1Zo2LAhfvrpJ7GsX79+SE1NFduRXzxFtWPVqlXYuHEjbt26VaqXiwv6bgDl9/tdmVXqHkAA0NPTK3DSZ+DdyK38ctjFixdj8eLF+a7j4eEhMwE0ERGVr4iICKSnp6NDhw55loWHh8PBwaHA5C8lJQXz5s3D8ePHERMTg6ysLLx9+xbR0dHF2q+SkhIcHR3FMmtra5nRt3///TdSUlJQs2ZNmXXfvn2LqKgoMcbhw4cXuo/3b1WqWbMmGjRoIA5wjIiIkLlkDADOzs4ICAiQiSMkJETmsm52djbS0tLw5s0bqKurA4DMVGlF6Td4KCaPGIK7t/6Gc9t2aOfeBY1ru4ttKuy4R0REiD13uVq1aoUffvhBpuzDeIpqR9++feHn54e6devCw8MDnTt3Rrdu3aCkVOlTlCqNR5eIiMqdmpraRy0DgClTpiAwMBArVqyAlZUV1NTU8OWXXyIjI6NUYktJSYGJiQmCg4PzLMtNFIuKsbTimD9/Pnr37p1n2fs9WhoaGsXeZut2X+CPv27g4plAhF44ixEDeuKG91isWLGi1Nr0YTxFtcPMzAyRkZE4ffo0AgMDMWbMGCxfvhznzp3jAJIyVKnnASQiouqpfv36UFNTQ1BQUJ5ljRs3Rnh4OBISEvJdNyQkBJ6enujVqxfs7OxgbGyMx48fF2u/1tbWyMrKkhlcGBkZKV52BYCmTZsiNjYWSkpKsLKyknnp6+uLMeYXO/Du/vWsrCyZwROvXr1CZGQkbG1txTofPtDgr7/+knnftGlTREZG5onBysqqRLcrfUivpj669x0I3zU/Yeq8xeIl3aKOu42NDUJCQmTKQkJCxDYVpDjtUFNTQ7du3bBmzRoEBwcjNDQUN2/e/Og2UtHYA0hEROVOVVUV06dPx7Rp06CiooJWrVrhxYsXuH37Nr755hssXrwYPXv2hK+vL0xMTHD9+nWYmprC2dkZ9evXx6FDh9CtWzdIJBLMnj1bHKhQlAYNGsDDwwMjR47Ehg0boKSkhIkTJ8r0frm5ucHZ2Rk9e/bEsmXL8Nlnn+H58+fiwI9mzZph7ty56NChA+rVq4cBAwYgKysLJ06cwPTp01G/fn306NEDw4cPx8aNG6GlpYUZM2agVq1a6NGjBwBg/PjxaNWqFVasWIEePXrg5MmTMpd/AWDOnDno2rUr6tSpgy+//BIKCgr4+++/cevWLSxatOijjvv6FYtha2ePep9ZIyMjHeeDTsLGxgYAMHDgwEKP+9SpU9GvXz84ODjAzc0Nx44dw6FDh4ocgV1UO7Zv347s7Gw4OTlBXV0du3btgpqaGszNzT+qjVQ8TACJiKqhm0PKr/eksEEHhZk9ezaUlJQwZ84cPH/+HCYmJhg1ahRUVFRw6tQpTJ48GZ07d0ZWVhZsbW2xfv16AMCqVaswdOhQtGzZEvr6+pg+fXqJnsy0bds2fPvtt3BxcYGRkREWLVok83AAiUSCEydOYNasWfDy8sKLFy9gbGyMtm3bwsjICADg6uqKAwcOYOHChViyZAm0tbXRtm1bmX1MmDABXbt2RUZGBtq2bYsTJ06IlzQ///xzbNq0CXPnzsWcOXPg5uaG77//HgsXLhS34e7ujt9//x0LFizA0qVLoaysDGtr6zyDZkpCWVkFa5YuwPN/oiFVVUXTFs7Yu3cvABR53Hv27IkffvgBK1aswIQJE2BpaYlt27bJDMDMT1Ht0NXVxZIlS+Dj44Ps7GzY2dnh2LFjee7BpNJV6UcBV2YcBSx/OAq48uAo4HcKG+lYXj4mAcwdeUqlr6Tno7qeC44CLhzvASQiIiKSM7wETERE1caFCxfQqVOnApenpKSUYzTlb9SoUdj5c965CQGgS+++mO27Ot9lJH+YABIRUbXRrFkzhIeHV3QYFWbBggXoOmhEvss0tLTKORqqzJgAEhFRtaGmpgYrK6uKDqPCGBoaok6GSkWHQVUA7wEkIiIikjNMAImIiIjkDBNAIiIiIjnDBJCIiIhIzjABJCIiIpIzTACJiKjKkkgkOHLkSIXGMG/ePNjb21doDEQlxWlgiIiqoQhrm3LblzKAzNOh5bY/Ivp07AEkIqJKISMjo6JDqDCZmZkVHYKMyhYPlT4mgEREVCFcXV3h7e2NiRMnQl9fH+7u7oXWv3//Ptq2bQtVVVXY2toiMDAwT51//vkH/fr1g66uLvT09NCjRw88fvxYps7WrVvRsGFDSKVSmJiYwNvbW1wWHR2NHj16QFNTE9ra2ujXrx/i4uJk1l+yZAmMjIygpaWFYcOGIS0tLU8cmzdvho2NDVRVVWFtbY0ff/xRXPb48WNIJBLs27cPLi4uUFVVxe7duwtt+5MnT9CtWzfUqFEDGhoaaNiwIU6cOCEuv337Nrp27QptbW04W5vBs3cn/PP4EQAgJycH/n7L8EXzhmhWzwj93Nsg5OzpYsVTWDsyMjLg7e0NExMTqKqqwtzcHL6+voW2gyoPXgImIqIKs2PHDowePRohISGF1svJyUHv3r1hZGSEsLAwJCUlYeLEiTJ1MjMz4e7uDmdnZ1y4cAFKSkpYtGgRPDw8cOPGDaioqGDDhg3w8fHBkiVL0KlTJyQlJYn7zsnJEZO/c+fOISsrC2PHjkX//v0RHBwMANi/fz/mzZuH9evXo3Xr1vj555+xZs0a1K1bV4xj9+7dmDNnDtatWwcHBwdcv34dw4cPh4aGBoYMGSLWmzFjBlauXAkHBweoqqoW2v6xY8ciIyMD58+fh4aGBu7cuQNNTU0AwLNnz9C2bVu4urrizJkzeP4GCL8chuzsrHfxbPHHzz+tw/e+q2HTqDEO79uF8cO+wqGgUJhb1iswnqLasWbNGhw9ehT79+9HnTp18M8//+Cff/4p/IRTpcEEkIiIKkz9+vWxbNmyIuudPn0ad+/excmTJ2FqagoAWLx4MTp16iTW2bdvH3JycrB582ZIJBIAwLZt26Crq4vg4GB07NgRixYtwuTJkzFhwgRxvebNmwMAgoKCcPPmTTx69AhmZmYAgJ07d6Jhw4a4fPkymjdvDj8/PwwbNgzDhg0DACxatAinT5+W6QWcO3cuVq5cid69ewMALC0tcefOHWzcuFEmAZw4caJYpyjR0dHo06cP7OzsAEAm4Vy/fj10dHSwd+9eKCsr48bTRFjU/e9xeDs2roPX6Ano1KMPAGDSd/Nx+c+L2L15A77734oC4ymqHdHR0ahfvz5at24NiUQCc3PzYrWFKgdeAiYiogrj6OhYrHoREREwMzMTkz8AcHZ2lqnz999/48GDB9DS0oKmpiY0NTWhp6eHtLQ0REVFIT4+Hs+fP0eHDh0K3Udu8gcAtra20NXVRUREhFjHyclJZr3340hNTUVUVBSGDRsmxqCpqYlFixYhKipKZr1mzZoVq+0AMH78eCxatAitWrXC3LlzcePGDXFZeHg42rRpA2Vl5TzrpbxOxou4GNg3+1ym3KGZEx4+uFdgPMVph6enJ8LDw9GgQQOMHz8ep06dKnZ7qOKxB5CIiCqMhoZGqW0rJSUFjo6O+d5PZ2BgAAWFsu/zSElJAQBs2rQpT6KoqKgo874kbf/222/h7u6O48eP49SpU/D19cXKlSsxbtw4qKmpfXrgH8RTnHY0bdoUjx49wh9//IHTp0+jX79+cHNzw8GDB0slHipb7AEkIqJKz8bGBv/88w9iYmLEsr/++kumTtOmTXH//n0YGhrCyspK5qWjowMtLS1YWFggKCio0H28fx/bnTt3kJiYCFtbW7FOWFiYzHrvx2FkZARTU1M8fPgwTwyWlpafdAzMzMwwatQoHDp0CJMnT8amTZsAAI0bN8aFCxfyHbmrqaUNAyMThF+RPVbXr4Shbv0GBe6ruO3Q1tZG//79sWnTJuzbtw+//vorEhISPqmdVD7YA0hERJWem5sbPvvsMwwZMgTLly9HcnIyZs2aJVNn0KBBWL58OXr06IEFCxagdu3aePLkCQ4dOoRp06ahdu3amDdvHkaNGgVDQ0N06tQJr1+/RkhICMaNGwc3NzfY2dlh0KBB8PPzQ1ZWFsaMGQMXFxfx8uiECRPg6emJZs2aoVWrVti9ezdu374tc0/e/PnzMX78eOjo6MDDwwPp6em4cuUK/v33X/j4+HxU+ydOnIhOnTrhs88+w7///ouzZ8/CxubdXI/e3t5Yu3YtBgwYgJkzZyLmrQQ3rl2Gnb0jLOrVh+eocdiwyhe1zS1h3dAOR/bvRuSdm/Bd+1Oh+yyqHatWrYKJiQkcHBygoKCAAwcOwNjYGLq6uh/VRipfTACJiKjSU1BQwOHDhzFs2DC0aNECFhYWWLNmDTw8PMQ66urqOH/+PKZPn47evXvj9evXqFWrFjp06ABtbW0AwJAhQ5CWlobVq1djypQp0NfXx5dffgng3VNFfvvtN4wbNw5t27aFgoICPDw8sHbtWnEf/fv3R1RUFKZNm4a0tDT06dMHo0ePxsmTJ8U63377LdTV1bF8+XJMnToVGhoasLOzyzNquSSys7MxduxYPH36FNra2vDw8MDq1asBADVr1sSZM2cwdepUuLi4QKKgiAa2jeDw//f9fTV0JFJeJ2PlwtlIePUC9eo3wJote2RGAOenqHZoaWlh2bJluH//PhQVFdG8eXOcOHGiXC6106eTCIIgVHQQVVVycjJ0dHSQlJQk/nEpCxYzjpeo/mPVr0q+k3lJJV9HDpX4XCzpUkaRUEnPBVA9z0daWhoePXoES0vLIqcSKSs3niaWeJ3GtXVLPQ56p6Tno7qei8K+G+X1+12ZMU0nIiIikjNMAImIqMLt3r1bZrqR918NGzas6PDKXKdOnQps/+LFiys6PKqGeA8gERFVuO7du+eZbiRXfvPbVTebN2/G27dv812mp6dXztGQPGACSEREFU5LSwtaWloVHUaFqVWrVkWHQHKGl4CJiKoBjucjksXvROGYABIRVWG5l0ffvHlTwZEQVS653wl5uIXgY/ASMBFRFaaoqAhdXV3Ex8cDeDcXnkQiKdcYhKyMEq+TlpZWBpEQUPLzUd3OhSAIePPmDeLj46Grq5vnEXz0DhNAIqIqztjYGADEJLC8xf+b/+CFwqi8LZ3n11JeJT0f1fVc6Orqit8NyosJIBFRFSeRSGBiYgJDQ8N8nwdb1r49FFzidYImu5Z6HPROSc9HdTwXysrK7PkrAhNAIqJqQlFRsUJ+9J69zi7xOhX11BJ5UNLzwXMhnyr9IJD//e9/aNmyJdTV1Yv9gGlBEDBnzhyYmJhATU0Nbm5uuH//vkydhIQEDBo0CNra2tDV1cWwYcOQkpJSBi0gIiIiqlwqfQKYkZGBvn37YvTo0cVeZ9myZVizZg38/f0RFhYGDQ0NuLu7y9zoOmjQINy+fRuBgYH4/fffcf78eYwYMaIsmkBERERUqVT6S8Dz588HAGzfvr1Y9QVBgJ+fH77//nv06NEDALBz504YGRnhyJEjGDBgACIiIhAQEIDLly+jWbNmAIC1a9eic+fOWLFiBUxNTcukLURERESVQaVPAEvq0aNHiI2NhZubm1imo6MDJycnhIaGYsCAAQgNDYWurq6Y/AGAm5sbFBQUEBYWhl69euW77fT0dKSnp4vvk5KSAADJycll1Jp3ctJLNr9XsuQjJr8s4zZUFyU+FzyuZaak5wLg+SgrPBeVC/9OFS23zfI8WXS1SwBjY2MBAEZGRjLlRkZG4rLY2FgYGhrKLFdSUoKenp5YJz++vr5ij+T7zMzMPjXsUqXzMSst+ai1qAg6fhUdAb2P56Py4LmoPOT5XLx+/Ro6OvL5+1chCeCMGTOwdOnSQutERETA2tq6nCIqnpkzZ8LHx0d8n5OTg4SEBNSsWbPcJ14tTcnJyTAzM8M///wDbW3tig5HrvFcVB48F5UHz0XlUV3OhSAIeP36tVzf8lUhCeDkyZPh6elZaJ26det+1LZzJ32Mi4uDiYmJWB4XFwd7e3uxzocTpmZlZSEhIaHQSSOlUimkUqlMWXFHJlcF2traVfoLXZ3wXFQePBeVB89F5VEdzoW89vzlqpAE0MDAAAYGBmWybUtLSxgbGyMoKEhM+JKTkxEWFiaOJHZ2dkZiYiKuXr0KR0dHAMCZM2eQk5MDJyenMomLiIiIqLKo9NPAREdHIzw8HNHR0cjOzkZ4eDjCw8Nl5uyztrbG4cOHAbybEX/ixIlYtGgRjh49ips3b2Lw4MEwNTVFz549AQA2Njbw8PDA8OHDcenSJYSEhMDb2xsDBgyQ6+5gIiIikg+VfhDInDlzsGPHDvG9g4MDAODs2bNwdXUFAERGRoojcgFg2rRpSE1NxYgRI5CYmIjWrVsjICBAZrbz3bt3w9vbGx06dICCggL69OmDNWvWlE+jKhmpVIq5c+fmubxN5Y/novLguag8eC4qD56L6kMiyPMYaCIiIiI5VOkvARMRERFR6WICSERERCRnmAASERERyRkmgERERERyhgkgfZK0tLSKDoGo3AiCwM98JZKdnY1ff/0VR44cAfDu6UxUMTietOphAkglkp6ejl9//RUDBgyAvr4+li5diuzs7IoOS65ERUXhwYMHFR2G3EhOTsa2bdvQpk0bWFpaIjAwsKJDkmtPnz7FrFmzYGNjA1VVVXh5eSE8PBwAoKDAn7TylJycjCVLlsDe3h4dO3aEv78/MjMzKzosKiZ+W6jYRo8eDTU1NYwbNw7q6urYuHEjpk2bBkVFxYoOrdpLSUnBrl274OTkhPr162Pq1Kn8F3c5uXLlCrZv346GDRvi7du3ePLkSUWHJLcyMjKwefNm+Pr6YuLEiYiMjERycjLmzZtX0aHJHUEQsHnzZuzevRvffPMN2rdvj/Hjx2PhwoVMAquISj8RNJW/e/fu4erVq3B2doaFhYVYrqioCCcnJxw/fhx6enoy6wiCAIlEUs6RVk/Z2dmIiYlB7dq1xbLExERcv34dHTp0QPv27bFnzx4kJSVVq2dRV5S0tDSZSeI/VKdOHUyZMgXdunXDgwcPcO3aNSQkJOT5DlDpKOx8qKiowMnJCfr6+hg6dCiUlZXx6NEj6Ojo8HyUs9TUVMydOxdLly7FmDFjAAA1atTA0qVL4ezsjE6dOvF3oZJjDyCJnj17hu7du6Np06aYP38+unfvjqVLl4rLO3XqhBcvXuDAgQNYunQpxo4dKyYi/JJ/umvXrqFNmzbQ1tZG7969MXXqVGRlZQEAjIyMMHToUMycORPDhw/H06dPERkZWcERV13JyclYuHAhrKys4ODggPnz5yMuLi7fulZWVujWrRsAwNXVFbdv38azZ88A8L6n0lKS82FpaYkaNWrA1tYWdnZ2cHNzw8CBA7F27dpyjrp6CgkJwcyZM3HixIlCP99hYWGoXbs2mjRpIpb17NkTVlZW2L59OwB+Pyo7JoByKDs7G0+fPhXf5944/fPPPyMyMhKRkZEICQnBV199hfnz5+OPP/4AALRt2xavX7/GihUrEBQUhKysLEyYMAG9evVCbGxshbSlunj9+jXmzJkDS0tLXLx4EWPGjMG6deswZ84cpKWlQVlZGQ0bNoSWlhbq1q0Lc3NznDlzpqLDrrK2b9+OI0eOYObMmZg2bRr8/f3h7e2N58+fA8j7w5V7n2vHjh3x/PlzREVFAQD/4VNKSnI+DAwM0KdPHzRv3hwrV67Etm3bULduXXz33XfYsmVLRTWhyouNjcXo0aMxfPhwLF26FAcPHsTbt2/z1Mv9vcjJyYFUKsXLly/FZYaGhvDw8EBQUBAA3pNZ6QkkN65evSq0bt1aUFdXF5o3by5MmTJFyMzMFARBEFJSUoTPP/9cmDFjhsw67dq1E77++mvh1atXgiAIwurVq4Vz584J2dnZQk5OjhAaGipYWloK06ZNK/f2VCVv374tdPnly5cFLS0t4cKFC2LZmjVrhIYNGwp//PGHIAiCkJmZKeTk5AiCIAjDhg0TXFxcxPdUfC9evBBatGghjB49Wiy7cOGCYGtrKyxevFgQBEHIzs4ucH0rKyth0aJFQkZGRpnHKg9Kej6ys7OFu3fvCjExMTLbGTRokNC5c2fhxYsX5RN4NfPy5Uth0aJFQkhIiPD9998L1tbWwrNnzwqsHxsbK5ibmwvr16+XKT9z5oygrKwsREdHl3XI9ImYnsuJwnqY3rx5Aw0NDTx8+FC85y+3x6Nr16548OABbty4AQAYNWoU2rZtCwUFBUgkEnz++ecYNGgQjh49CoBd/u97/7JW7mX1Dy9r5R6vkJAQNGzYEAYGBuKyTp06wcTEBAcOHBDLcnucunTpgmvXrrHn9SO8ePEC8fHx6Ny5s1jm6OgIFxcXBAQEQBCEfHsucr8TjRs3Rnh4OF69elVuMVdnJT0fCgoKaNCgAYyNjQH81yPl4OCAuLg4fic+kp6eHiZPnoyWLVvi66+/xr179/D48eN86wqCACMjI5iZmeH69esy3wVVVVWYm5uLvxlUeTEBrCaKmpssMjIS58+fx4gRI+Dg4ABPT08sW7YMR48exfnz5wEAdevWxd9//w3gv8SkefPmAIBbt24BeHcT9oekUql4qYCXxP6Te1lr1qxZmDp1ar6XtXKPc61atfD8+XOZSy61a9dGs2bNcPHiRQCAktJ/Y7ZatWqFtLQ0/pH9CA0aNMCzZ89kRiqqqanBwcEBL168wPXr1wGgwJGMbm5uuH//Pp4+fYqMjAxER0eXS9zV1aeej1xXrlxBeno6rK2tyzTe6koikUBVVRWCIKBBgwbQ0NDAlStX8p1bMfcfQ926dcONGzdw7do1cdmDBw+Qk5MjM4CQKicmgFVYcW6c/rCHydDQUFyW28N08OBBAICzszPOnj0L4L97N6ytrZGTk4PXr1/LlOe6efMmtmzZgoEDB3I+wPe8fPkSu3fvhpOTE7y8vODl5YUDBw7gzp072LlzJwDI9Gy4uLjg6dOnMlOMqKqq4rP/a+/eg2rM/ziAv59zup06urhVkg6VOojYdc1PWtYiSTvN2txyawmb7OaeLcxuu1ixrLEZ5DZ2smLctt10M0JsW4Sj2rZiOYojQ7LKOZ/fH8YzzlYq09amz2vGTM/39nyf55szn/P9Pt+n7t2h1WqrbTro2LEj3N3d8euvv6KwsBCJiYkciNSTRCKBs7MzLl68qJfu6OgICwsL5OTkAAAMDQ318l++7kihUOD69euYOnUq7OzsEBwc3DQdf0u9yXhUVVUhKysLDx48QElJCaKjo3Hjxg1ERETofVFiDffyc3zo0KFISUlBRUVFtTIv77G/vz8UCgWCg4ORkZGB4uJiHD9+HH369IFSqWzSfrOG4wCwBXt1hqm2B6f/OcP06n/mf84w+fr6Ii8vD1euXBEDkw4dOuDOnTto06YNAODmzZvYtm0b1qxZg4CAAEyYMAHDhg3D4sWL+X2Ar3jdstbPP/+sF/zpdDp06NABjo6OSEtLw6NHj8Q6EokEFhYWKC0tFdPKysqQmJiIJ0+eIDo6Go6OjggNDdXb2MNeb9SoUUhISEBZWZmY1rVrV73jc+fO4eTJk+KxRqOBs7MzvL294ezsjJEjR2LPnj04fvx4k/b9bdTQ8ZBIJNi6dStGjBiBbt26ITY2FkFBQZgwYUJTd/2t83IVZ8KECbhw4QLu3bunl//48WPxxdvdunVDdHQ0evbsienTp8PV1RW3bt3C6tWreQNIS9AMzx2yRvC6B6ejoqKISP/B6dLSUpJIJHT06FG9dnbt2kXdunUTH9h1dXWlWbNmUVFRERERpaWlkaWlJcXHxxMRUVlZGUVFRZGHhwctWLCAUlJS/s3LbLG0Wi0ZGhqK9+2lmJgYUiqVlJmZSURElZWV4kacyMhIevfdd+n06dNi+UWLFpFSqRTLPH36lCIjI0kQBBo5ciTt2rWLCgsLm+ai3iJZWVlkampKhw4dEtOuXbtGgiBQTk4OERF98MEHNGDAACopKSGiF2N64sQJ3mTwL2jIeLzc/JGamkonT54UN6ixxqVWq0kQBEpMTNRLX7lyJbm4uNCdO3fEtKqqKsrMzOSxaGF4rryFet0M06lTp7B06dJaZ5i8vLxgbm4O4MU3aUtLS6jVatjb2+Prr79GeHg4Jk+ejGHDhiE+Ph4TJ04Uv1lbWlpiyZIlWLZsWZNfc0vy6rKWn5+fmP7qsla/fv30lrUCAwORn5+PSZMmYfv27Xjw4AHS0tIwf/58ccnFxMQEISEhiIiIaPJrepu4u7tj4sSJCAsLQ0VFBQYNGoTVq1djwoQJ4uaCmTNnwsDAABYWFgBejKm3t3dzdvut1ZDxsLKyAvDisQn277GxsYGdnR3i4uJw/vx53L59G19++SV69+6N+/fv6z2TaWBggH79+jVjb9kbae4IlL2Zxp5hevWVFnl5eRQWFkZjx46lLVu20IMHD5rgit4+oaGh5O7urnf//vzzT3JxcaHY2FgiIkpPT6cTJ06I+SUlJRQWFkY9evQghUJB4eHh9OjRoybve2tw//59+vzzz+mdd94hExMTGjx4MF28eLG5u9Vq8Xj8N+h0Ojpy5Aj5+/uTIAgklUrJ0dGRIiIi6OHDh83dPdaIBCJ+b0dL1bNnT4wfPx5RUVFiWnJyMlauXIm5c+ciMDBQr3xRURHCw8ORmJgozjBt27YNM2fOxPz585u6+2+97OxseHh4YM+ePfD39wcAXL9+Hb169cKVK1fQq1cvjB49GmVlZTh+/Li4QUen0+Hvv/+Gqalpc3a/VSAiFBcXo1OnTjXucGdNi8ej+Wm1Wnz11Ve4dOkS5syZg1GjRlXbEMXeDrwE3IK9fHB6yZIl4rJITQ9Ol5WVwdvbGwqFAhs3bsT69esRHh6OiooKTJkyBdOmTWuuS3irvckyI/BiqZGDv6YhCAK/ruI/hMej+UmlUqxataq5u8GaAM8AtmA8w/Tfp9FoEBUVhdTUVFy7dg19+/bF5s2bxfcrMsYYY82BA8AWbubMmUhOTsaaNWswaNAgrFq1ClVVVYiJiUH79u0RFxcHAwMDeHt7w9jYuLm72yrxshZjjLH/Gg4AWzieYWKMMcZYQ3EA+BbgGSbGGGOMNQQHgIwxxhhjrQz/rRbGGGOMsVaGA0DGGGOMsVaGA0DGGGOMsVaGA0DGGGOMsVaGA0DGGGOMsVaGA0DGGGOMsVaGA0DGGGOMsVaGA0DGWIsTGRkJa2trCIKAo0ePNnd3UFRUBEEQkJ2d3aB6CoUCmzZt+lf61NhiY2NhaWnZ3N1gjDUSDgAZY02isYI1lUqF1atX44cffoBarcaYMWOqlUlNTYUgCHj48GGD2n7TeqxmLSnAZay1MWjuDjDGmo9Wq4UgCJBIWs53wYKCAgCAr68vBEFo5t4wxljL1HI+9Rlr5YYPH44FCxZgwYIFsLCwQPv27bFq1Sq8+tccnz17hrCwMNjZ2cHMzAwDBw5EamqqmP9yGe/YsWPo0aMHjI2NcfPmTTx79gxLly6Fvb09jI2N4eTkhJ07d4r1rl69ijFjxkAul8Pa2hpTp07F/fv39foWEhKCJUuWoG3btrCxsUFkZKSYr1AoAAB+fn4QBEE8rklOTg7ee+89yGQytGvXDp988gnKy8sBvFj69fHxAQBIJJIaA8CioiJ4eXkBAKysrCAIAqZPny7en5CQEHTs2BEmJiYYOnQoLl26VGe9hIQEDB06FJaWlmjXrh3GjRsnBqL1VVpaCh8fH8hkMnTt2hUHDhyoVmbjxo1wc3ODmZkZ7O3tMW/ePPHanzx5AnNzc/z00096dY4ePQozMzM8fvy4xvNGRkbC3d0d+/btg0KhgIWFBT7++ONay78UGxuLLl26wNTUFH5+ftBoNHr5BQUF8PX1hbW1NeRyOfr374/Tp0+L+cOHD0dxcTEWLVoEQRDEsdJoNAgICICdnR1MTU3h5uaGgwcP1n0DGWONixhjLYKnpyfJ5XJauHAh3bhxg/bv30+mpqYUExMjlpk9ezYNGTKEzpw5Q3/88QetX7+ejI2NKS8vj4iIdu/eTYaGhjRkyBBKT0+nGzdu0JMnT+ijjz4ie3t7io+Pp4KCAjp9+jT9+OOPRERUVlZGHTp0oOXLl5NKpaLff/+d3n//ffLy8tLrm7m5OUVGRlJeXh7t2bOHBEGgX3/9lYiISktLCQDt3r2b1Go1lZaW1niN5eXlZGtrSx9++CHl5ORQUlISde3alQIDA4mI6PHjx7R7924CQGq1mtRqdbU2nj9/TocPHyYAlJubS2q1mh4+fEhERCEhIdSpUyc6deoUXbt2jQIDA8nKyoo0Gs1r6/300090+PBhys/Pp6ysLPLx8SE3NzfSarVERFRYWEgAKCsrq9bxGzNmDPXp04fOnz9Pv/32Gw0ZMoRkMhlFR0eLZaKjoyk5OZkKCwspKSmJXFxcKDg4WMwPCgqisWPH6rU7fvx4mjZtWq3njYiIILlcLt7TM2fOkI2NDa1YsaLWOhcuXCCJRELffPMN5ebm0ubNm8nS0pIsLCzEMtnZ2bR9+3bKycmhvLw8Cg8PJxMTEyouLiYiIo1GQ507d6Y1a9bojdVff/1F69evp6ysLCooKKDvvvuOpFIpZWRk1Nofxljj4wCQsRbC09OTlEol6XQ6MW3p0qWkVCqJiKi4uJikUindvn1br96IESNo+fLlRERi8JSdnS3m5+bmEgBKTEys8bxr166lUaNG6aXdunVLDJRe9m3o0KF6Zfr3709Lly4VjwHQkSNHXnuNMTExZGVlReXl5WLayZMnSSKR0N27d4mI6MiRI1TXd9eUlBQCQGVlZWJaeXk5GRoa0oEDB8S0yspK6tSpE61bt67WejW5d+8eAaCcnBwiqjsAfHmPL168KKapVCoCoBcA/tOhQ4eoXbt24nFGRgZJpVK6c+cOERGVlJSQgYEBpaam1tpGREQEmZqa0qNHj8S0xYsX08CBA2utExAQUC3QnDhxol4AWJOePXvSli1bxGMHB4fXXt9L3t7e9Pnnn9dZjjHWeHgJmLEWZNCgQXrLnoMHD0Z+fj60Wi1ycnKg1WrRvXt3yOVy8V9aWprecqWRkRF69+4tHmdnZ0MqlcLT07PGc16+fBkpKSl6bbq6ugKAXruvtgkAtra2KC0tbdD1qVQq9OnTB2ZmZmKah4cHdDodcnNzG9TWPxUUFKCqqgoeHh5imqGhIQYMGACVSvXauvn5+QgICEC3bt1gbm4uLmHfvHmzXudWqVQwMDDAO++8I6a5urpW21V7+vRpjBgxAnZ2dmjTpg2mTp0KjUaDiooKAMCAAQPQs2dP7NmzBwCwf/9+ODg4YNiwYQCgN0Zz584V21UoFGjTpo14XNfYqFQqDBw4UC9t8ODBesfl5eUICwuDUqmEpaUl5HI5VCpVnfdEq9Vi7dq1cHNzQ9u2bSGXy/HLL7/U+14yxhoHbwJh7C1RXl4OqVSKzMxMSKVSvTy5XC7+LJPJ9IJImUxWZ7s+Pj745ptvquXZ2tqKPxsaGurlCYIAnU7XoGv4r/Lx8YGDgwN27NiBTp06QafToVevXqisrGy0cxQVFWHcuHEIDg7Gl19+ibZt2+Ls2bOYNWsWKisrYWpqCgCYPXs2vv/+eyxbtgy7d+/GjBkzxPF89TU05ubm4s//xtiEhYUhMTERGzZsgJOTE2QyGfz9/eu8J+vXr8fmzZuxadMm8XnH0NDQRr2XjLG6cQDIWAuSkZGhd3zhwgU4OztDKpWib9++0Gq1KC0txf/+9796t+nm5gadToe0tDSMHDmyWn6/fv1w+PBhKBQKGBi8+UeGoaEhtFrta8solUrExsbiyZMn4ixgeno6JBIJXFxc6n0uIyMjANA7n6OjI4yMjJCeng4HBwcAQFVVFS5duoTQ0NBa62k0GuTm5mLHjh3ifT179my9+wK8mO17/vw5MjMz0b9/fwBAbm6u3utmMjMzodPp8O2334q7suPi4qq1NWXKFCxZsgTfffcdrl+/jsDAQDHPycmpQf2qjVKprPF37VXp6emYPn06/Pz8ALz4olBUVKRXxsjIqNqYp6enw9fXF1OmTAEA6HQ65OXloUePHo3Sd8ZY/fASMGMtyM2bN/HZZ58hNzcXBw8exJYtW7Bw4UIAQPfu3TF58mRMmzYN8fHxKCwsxMWLFxEVFYWTJ0/W2qZCoUBgYCBmzpyJo0ePorCwEKmpqWLwMX/+fDx48AABAQG4dOkSCgoK8Msvv2DGjBl1BnT/PE9SUhLu3r2LsrKyGstMnjwZJiYmCAwMxNWrV5GSkoJPP/0UU6dOhbW1db3P5eDgAEEQcOLECdy7dw/l5eUwMzNDcHAwFi9ejISEBFy/fh1BQUGoqKjArFmzaq1nZWWFdu3aISYmBn/88QeSk5Px2Wef1bsvAODi4oLRo0djzpw5yMjIQGZmJmbPnq03++rk5ISqqips2bIFf/75J/bt24ft27dXa8vKygoffvghFi9ejFGjRqFz584N6kt9hISEICEhARs2bEB+fj62bt2KhIQEvTLOzs6Ij49HdnY2Ll++jEmTJlWbVVQoFDhz5gxu374t7hp3dnZGYmIizp07B5VKhTlz5qCkpKTRr4ExVofmfgiRMVY/np6eNG/ePJo7dy6Zm5uTlZUVrVixQm9TSGVlJX3xxRekUCjI0NCQbG1tyc/Pj65cuUJELzaB1PQg/9OnT2nRokVka2tLRkZG5OTkRLt27RLz8/LyyM/PjywtLUkmk5GrqyuFhoaK5/b09KSFCxfqtenr6yvu3iUiOnbsGDk5OZGBgQE5ODjUep1XrlwhLy8vMjExobZt21JQUBA9fvxYzK/PJhAiojVr1pCNjQ0JgiD24+nTp/Tpp59S+/btydjYmDw8PPQ2ZtRWLzExkZRKJRkbG1Pv3r0pNTVVb1NLfXYBq9Vq8vb2JmNjY+rSpQvt3bu32iaJjRs3kq2tLclkMvrggw9o7969NW5KSUpKIgAUFxdX532IiIigPn366KVFR0e/dgyIiHbu3EmdO3cmmUxGPj4+tGHDBr3fncLCQvLy8iKZTEb29va0devWar8H58+fp969e5OxsbE4ZhqNhnx9fUkul1PHjh0pPDycpk2bRr6+vnVeC2Os8QhEr7xEjDH2nzV8+HC4u7vzX1Zg2LdvHxYtWoQ7d+6Iy9aMMdYQ/AwgY4y1EBUVFVCr1fj6668xZ84cDv4YY2+MnwFkjLEWYt26dXB1dYWNjQ2WL1/e3N1hjLVg/wdaQAgJowYwOAAAAABJRU5ErkJggg==' width=640.0/>\n",
       "            </div>\n",
       "        "
      ],
      "text/plain": [
       "Canvas(toolbar=Toolbar(toolitems=[('Home', 'Reset original view', 'home', 'home'), ('Back', 'Back to previous …"
      ]
     },
     "metadata": {},
     "output_type": "display_data"
    }
   ],
   "source": [
    "%matplotlib widget\n",
    "%matplotlib widget\n",
    "\n",
    "plot_dict = {}\n",
    "plot_dict['fixed_decoder_scores'] = fixed_decoder_scores\n",
    "plot_dict['pca_decoder_scores'] = pca_decoder_scores\n",
    "plot_dict['cca_decoder_scores'] = cca_decoder_scores\n",
    "plot_dict['r_decoder_scores'] = r_scores\n",
    "\n",
    "index = subsample_list\n",
    "\n",
    "df = pd.DataFrame(data=plot_dict, index=index)\n",
    "\n",
    "  \n",
    "# plot grouped bar chart\n",
    "ax = df.plot.bar(rot=15)\n",
    "ax.set_ylim(bottom=-1, top=1)\n",
    "ax.set_title('Training various decoders, trying on Day-N data')\n",
    "ax.set_ylabel('r^2')\n",
    "ax.set_xlabel('percent of total day-n data')\n",
    "ax.legend(loc='lower right')\n",
    "for container in ax.containers:\n",
    "    ax.bar_label(container)"
   ]
  },
  {
   "cell_type": "code",
   "execution_count": 12,
   "id": "93e57165-3d3a-4c11-9ae2-5a61e65ea668",
   "metadata": {},
   "outputs": [],
   "source": [
    "# fig0 = plt.figure()\n",
    "# ax0 = fig0.add_subplot(211)\n",
    "# ts = np.arange(0, test_y_format.shape[0]/50, 1/50)\n",
    "\n",
    "# num =0 \n",
    "\n",
    "# legend1=['actual', 'pca_predic']\n",
    "# legend2=['actual','r_predic']\n",
    "\n",
    "\n",
    "# ax0.plot(ts, test_y_format[:,1])\n",
    "# ax0.plot(ts, pca_predic[num][:,1])\n",
    "# ax0.legend(legend1, loc='lower right')\n",
    "\n",
    "# ax01 = fig0.add_subplot(212, sharex=ax0)\n",
    "# ax01.plot(ts, test_y_format[:,1])\n",
    "# ax01.plot(ts, r_predic[num][:,1])\n",
    "# ax01.legend(legend2, loc='lower right')"
   ]
  },
  {
   "cell_type": "code",
   "execution_count": 13,
   "id": "6adc6f60-38d8-4acd-bc42-f992471d9709",
   "metadata": {},
   "outputs": [
    {
     "data": {
      "text/plain": [
       "[<matplotlib.lines.Line2D at 0x7f9b1ac08a58>]"
      ]
     },
     "execution_count": 13,
     "metadata": {},
     "output_type": "execute_result"
    },
    {
     "data": {
      "application/vnd.jupyter.widget-view+json": {
       "model_id": "df8bd8facd2241feae775f126b8e9650",
       "version_major": 2,
       "version_minor": 0
      },
      "text/html": [
       "\n",
       "            <div style=\"display: inline-block;\">\n",
       "                <div class=\"jupyter-widgets widget-label\" style=\"text-align: center;\">\n",
       "                    Figure\n",
       "                </div>\n",
       "                <img src='data:image/png;base64,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' width=640.0/>\n",
       "            </div>\n",
       "        "
      ],
      "text/plain": [
       "Canvas(toolbar=Toolbar(toolitems=[('Home', 'Reset original view', 'home', 'home'), ('Back', 'Back to previous …"
      ]
     },
     "metadata": {},
     "output_type": "display_data"
    }
   ],
   "source": [
    "fig1 = plt.figure()\n",
    "ax1= fig1.add_subplot(111)\n",
    "x = subsample_list\n",
    "ax1.set_ylim(bottom=-1, top=1)\n",
    "ax1.scatter(x, pca_decoder_scores)\n",
    "ax1.plot(x, pca_decoder_scores)\n",
    "ax1.scatter(x, r_scores)\n",
    "ax1.plot(x, r_scores)"
   ]
  },
  {
   "cell_type": "markdown",
   "id": "97f62db9-dc86-49f0-a902-54a4779c1f0f",
   "metadata": {},
   "source": [
    "# notes\n",
    "\n",
    "cp1_path = '/home/diya/Documents/rat-fes/data/filipe_data/N5/N5_171016_No Obstacles_s.mat'\n",
    "cp2_path = '/home/diya/Documents/rat-fes/data/filipe_data/N6/N6_171204_No Obstacles_s.mat'\n",
    "\n",
    "with these two, regression is good vaf score but in practicality something seems off!\n",
    "\n"
   ]
  },
  {
   "cell_type": "markdown",
   "id": "e09e1ae2-4e5e-4360-a6f8-bbc9ac656fa2",
   "metadata": {},
   "source": [
    "# paths\n",
    "\n",
    "N5 \n",
    "cp1_path = '/home/diya/Documents/rat-fes/data/filipe_data/N5/N5_170929_No Obstacles_s.mat'\n",
    "cp2_path = '/home/diya/Documents/rat-fes/data/filipe_data/N5/N5_171001_No Obstacles_s.mat'\n",
    "'N5_171016_No Obstacles_s.mat'\n",
    "'N5_171130_No Obstacles_s.mat'\n",
    "\n",
    "n6\n",
    "'N6_171026_No Obstacles_s.mat'\n",
    "'N6_171204_No Obstacles_s.mat'\n",
    "'N6_171211_No Obstacles_s.mat'\n",
    "\n",
    "n9\n",
    "'N9_171121_No Obstacles_s.mat'  'N9_171204_No Obstacles_s.mat'  'N9_171211_No Obstacles_s.mat'  'N9_171214_No Obstacles_s.mat"
   ]
  },
  {
   "cell_type": "code",
   "execution_count": null,
   "id": "363e9213-8c74-4409-be88-b021add720e7",
   "metadata": {},
   "outputs": [],
   "source": []
  }
 ],
 "metadata": {
  "kernelspec": {
   "display_name": "Python 3",
   "language": "python",
   "name": "python3"
  },
  "language_info": {
   "codemirror_mode": {
    "name": "ipython",
    "version": 3
   },
   "file_extension": ".py",
   "mimetype": "text/x-python",
   "name": "python",
   "nbconvert_exporter": "python",
   "pygments_lexer": "ipython3",
   "version": "3.7.0"
  }
 },
 "nbformat": 4,
 "nbformat_minor": 5
}
