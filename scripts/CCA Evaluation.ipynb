{
 "cells": [
  {
   "cell_type": "markdown",
   "id": "7649c40a-a881-42cd-b4c4-dd8084012412",
   "metadata": {},
   "source": [
    "# sometime sept22\n",
    "need to probably fix easy stuff, but this checks how well CCA does for an entire folder of data"
   ]
  },
  {
   "cell_type": "code",
   "execution_count": 1,
   "id": "2136e5eb-4023-43c2-a37e-55624ef23bff",
   "metadata": {},
   "outputs": [],
   "source": [
    "%matplotlib widget\n",
    "%load_ext autoreload\n",
    "%autoreload 2\n",
    "from src.folder_handler import *\n",
    "from src.cort_processor import *\n",
    "from src.cca_processor import *\n",
    "from src.tdt_support import *\n",
    "from src.plotter import *\n",
    "from src.decoders import *\n",
    "import pickle\n",
    "import scipy as spicy\n",
    "import numpy as np\n",
    "import matplotlib.pyplot as plt\n",
    "from  matplotlib.colors import LinearSegmentedColormap\n",
    "from src.wiener_filter import *\n",
    "from matplotlib.pyplot import cm\n",
    "from sklearn.cross_decomposition import CCA\n",
    "from sklearn.preprocessing import StandardScaler\n",
    "import os"
   ]
  },
  {
   "cell_type": "code",
   "execution_count": 2,
   "id": "53af79f0-aa8e-4f7f-ac98-849e44195ba3",
   "metadata": {},
   "outputs": [],
   "source": [
    "path = '/home/diya/Documents/rat-fes/data/filipe_data/N5'"
   ]
  },
  {
   "cell_type": "code",
   "execution_count": 3,
   "id": "de2ce810-d8cd-4932-86e1-1564db3f896d",
   "metadata": {},
   "outputs": [
    {
     "name": "stdout",
     "output_type": "stream",
     "text": [
      "['N5_171130_No Obstacles_s.mat', 'N5_171016_No Obstacles_s.mat', 'N5_171001_No Obstacles_s.mat', 'N5_170929_No Obstacles_s.mat']\n"
     ]
    }
   ],
   "source": [
    "filenames = os.listdir(path)\n",
    "print(filenames)"
   ]
  },
  {
   "cell_type": "code",
   "execution_count": 4,
   "id": "b104d427-03e5-4b26-bdc2-011440271309",
   "metadata": {},
   "outputs": [],
   "source": [
    "temp_datasets = []\n",
    "temp_var_names = []\n",
    "\n",
    "for file in filenames:\n",
    "    temp_datasets.append(path+'/'+file)\n",
    "    temp_var_names.append(file.split('_')[0]+file.split('_')[1])\n",
    "\n",
    "datasets = sorted(temp_datasets)\n",
    "var_names = sorted(temp_var_names)"
   ]
  },
  {
   "cell_type": "code",
   "execution_count": 5,
   "id": "b8a3095f-79a4-48e3-8bb7-7d839260dc4f",
   "metadata": {},
   "outputs": [
    {
     "name": "stdout",
     "output_type": "stream",
     "text": [
      "this is filipe data i belive\n",
      "this is filipe data i belive\n",
      "this is filipe data i belive\n",
      "this is filipe data i belive\n"
     ]
    },
    {
     "name": "stderr",
     "output_type": "stream",
     "text": [
      "/home/diya/anaconda3/envs/rat-fes/lib/python3.7/site-packages/scipy/io/matlab/mio.py:226: MatReadWarning: Duplicate variable name \"None\" in stream - replacing previous with new\n",
      "Consider mio5.varmats_from_mat to split file into single variable files\n",
      "  matfile_dict = MR.get_variables(variable_names)\n"
     ]
    }
   ],
   "source": [
    "cort_dict = {}\n",
    "for i in range(len(datasets)):\n",
    "    cort_dict[var_names[i]] = CortProcessor(datasets[i])"
   ]
  },
  {
   "cell_type": "code",
   "execution_count": 6,
   "id": "81a8921a-1e09-4ee3-9b34-d26b493d4640",
   "metadata": {},
   "outputs": [
    {
     "name": "stdout",
     "output_type": "stream",
     "text": [
      "N5170929 N5171001\n",
      "should be good to align\n",
      "(10267, 11)\n",
      "(10267, 5)\n",
      "(10267, 23)\n",
      "(10267, 5)\n",
      "N5170929 N5171016\n",
      "should be good to align\n",
      "(8680, 11)\n",
      "(8680, 5)\n",
      "(8680, 22)\n",
      "(8680, 5)\n",
      "N5170929 N5171130\n",
      "should be good to align\n",
      "(9543, 11)\n",
      "(9543, 5)\n",
      "(9543, 23)\n",
      "(9543, 5)\n"
     ]
    }
   ],
   "source": [
    "cca_dict = {}\n",
    "for i in range(1, len(var_names)):\n",
    "    print(var_names[0], var_names[i])\n",
    "    cca_dict[var_names[i]] = CCAProcessor(cort_dict[var_names[0]], cort_dict[var_names[i]])\n"
   ]
  },
  {
   "cell_type": "code",
   "execution_count": 7,
   "id": "ec0deeae-30e8-467a-b411-378b2490c635",
   "metadata": {},
   "outputs": [
    {
     "ename": "KeyError",
     "evalue": "'proc_vaf'",
     "output_type": "error",
     "traceback": [
      "\u001b[0;31m---------------------------------------------------------------------------\u001b[0m",
      "\u001b[0;31mKeyError\u001b[0m                                  Traceback (most recent call last)",
      "\u001b[0;32m<ipython-input-7-e964ee0d71f2>\u001b[0m in \u001b[0;36m<module>\u001b[0;34m\u001b[0m\n\u001b[1;32m      2\u001b[0m \u001b[0mproc_y_list\u001b[0m \u001b[0;34m=\u001b[0m \u001b[0;34m[\u001b[0m\u001b[0;34m]\u001b[0m\u001b[0;34m\u001b[0m\u001b[0m\n\u001b[1;32m      3\u001b[0m \u001b[0;34m\u001b[0m\u001b[0m\n\u001b[0;32m----> 4\u001b[0;31m \u001b[0mtemp\u001b[0m \u001b[0;34m=\u001b[0m \u001b[0mnp\u001b[0m\u001b[0;34m.\u001b[0m\u001b[0maverage\u001b[0m\u001b[0;34m(\u001b[0m\u001b[0mcca_dict\u001b[0m\u001b[0;34m[\u001b[0m\u001b[0mvar_names\u001b[0m\u001b[0;34m[\u001b[0m\u001b[0;36m1\u001b[0m\u001b[0;34m]\u001b[0m\u001b[0;34m]\u001b[0m\u001b[0;34m.\u001b[0m\u001b[0mdata\u001b[0m\u001b[0;34m[\u001b[0m\u001b[0;34m'cp1'\u001b[0m\u001b[0;34m]\u001b[0m\u001b[0;34m[\u001b[0m\u001b[0;34m'proc_vaf'\u001b[0m\u001b[0;34m]\u001b[0m\u001b[0;34m,\u001b[0m \u001b[0;36m1\u001b[0m\u001b[0;34m)\u001b[0m\u001b[0;34m\u001b[0m\u001b[0m\n\u001b[0m\u001b[1;32m      5\u001b[0m \u001b[0mproc_vaf_scores\u001b[0m\u001b[0;34m.\u001b[0m\u001b[0mappend\u001b[0m\u001b[0;34m(\u001b[0m\u001b[0mtemp\u001b[0m\u001b[0;34m)\u001b[0m\u001b[0;34m\u001b[0m\u001b[0m\n\u001b[1;32m      6\u001b[0m \u001b[0;34m\u001b[0m\u001b[0m\n",
      "\u001b[0;31mKeyError\u001b[0m: 'proc_vaf'"
     ]
    }
   ],
   "source": [
    "proc_vaf_scores = []\n",
    "proc_y_list = []\n",
    "\n",
    "temp = np.average(cca_dict[var_names[1]].data['cp1']['proc_vaf'], 1)\n",
    "proc_vaf_scores.append(temp)\n",
    "\n",
    "temp = cca_dict[var_names[1]].data['cp1']['proc_y']\n",
    "proc_y_list.append(temp)\n",
    "\n",
    "for i in range(1, len(var_names)):\n",
    "    temp = np.average(cca_dict[var_names[i]].data['cp2']['proc_vaf'],1)\n",
    "    proc_vaf_scores.append(temp)\n",
    "    \n",
    "    temp = cca_dict[var_names[i]].data['cp2']['proc_y']\n",
    "    proc_y_list.append(temp)\n",
    "        \n",
    "    temp = cca_dict[var_names[1]].data['cp1']['proc_y'].shape[0]\n",
    "    if proc_y_list[0].shape[0] > temp:\n",
    "        proc_y_list[0] = temp\n",
    "#proc_vaf_scores.append(cca_dict[var_names[0]].cp1.vaf"
   ]
  },
  {
   "cell_type": "code",
   "execution_count": null,
   "id": "919d5a15-c54a-44fb-adc5-beac9e4c1e18",
   "metadata": {},
   "outputs": [],
   "source": [
    "limbfoot_proc_vaf_scores = []\n",
    "knee_proc_vaf_scores = []\n",
    "for score in proc_vaf_scores:\n",
    "    limbfoot_proc_vaf_scores.append(score[1])\n",
    "    knee_proc_vaf_scores.append(score[3])\n",
    "\n",
    "x = np.arange(len(var_names))  # the label locations\n",
    "width = 0.35  # the width of the bars\n",
    "\n",
    "fig, ax = plt.subplots()\n",
    "rects1 = ax.bar(x - width/2, limbfoot_proc_vaf_scores, width, label='limbfoot')\n",
    "rects2 = ax.bar(x + width/2, knee_proc_vaf_scores, width, label='knee')\n",
    "\n",
    "# Add some text for labels, title and custom x-axis tick labels, etc.\n",
    "ax.set_ylabel('vaf')\n",
    "ax.set_title('processed vafs')\n",
    "ax.set_xticks(x)\n",
    "ax.set_xticklabels(var_names)\n",
    "ax.legend()\n",
    "\n",
    "ax.bar_label(rects1, padding=3)\n",
    "ax.bar_label(rects2, padding=3)\n"
   ]
  },
  {
   "cell_type": "code",
   "execution_count": null,
   "id": "17ec252b-1df2-40d6-a562-52b3cf1f2fd6",
   "metadata": {},
   "outputs": [],
   "source": [
    "lowest_num_dimensions = 33\n",
    "\n",
    "\n",
    "for i in range(1, len(var_names)):\n",
    "    temp, nada, nada = cca_dict[var_names[i]].apply_PCA()\n",
    "    lowest_num_dimensions = min(lowest_num_dimensions, temp)\n",
    "    if temp==lowest_num_dimensions:\n",
    "        low_dim = var_names[i]\n",
    "    \n",
    "print(str(low_dim) + ': ' + str(lowest_num_dimensions))"
   ]
  },
  {
   "cell_type": "code",
   "execution_count": null,
   "id": "64c33202-ad42-4b16-b345-a59119b0f52e",
   "metadata": {},
   "outputs": [],
   "source": [
    "lowest_num_dimensions=33\n",
    "for i in range(0, len(var_names)):\n",
    "    temp = cort_dict[var_names[i]].data['rates'][0].shape[1]\n",
    "    lowest_num_dimensions = min(lowest_num_dimensions, temp)\n",
    "    if temp==lowest_num_dimensions:\n",
    "        low_dim = var_names[i]\n",
    "print(str(low_dim) + ': ' + str(lowest_num_dimensions))"
   ]
  },
  {
   "cell_type": "code",
   "execution_count": null,
   "id": "880c2cb7-1a3c-43e5-89a7-d002aed8a466",
   "metadata": {},
   "outputs": [],
   "source": [
    "pca_x_list = []\n",
    "\n",
    "for i in range(1, len(var_names)):\n",
    "    nada, nada, temp_x = cca_dict[var_names[i]].apply_PCA(preset_num_components = lowest_num_dimensions)\n",
    "    pca_x_list.append(temp_x)\n",
    "    \n",
    "nada, temp_x, nada = cca_dict[var_names[1]].apply_PCA(preset_num_components = lowest_num_dimensions)\n",
    "pca_x_list.insert(0, temp_x)"
   ]
  },
  {
   "cell_type": "code",
   "execution_count": null,
   "id": "1821cd2f-3ccc-40ad-8dd3-1669469f1d79",
   "metadata": {},
   "outputs": [],
   "source": [
    "pca_h_matrices = []\n",
    "pca_vaf_list = []\n",
    "proc_y_list_format = []\n",
    "pca_x_list_format = []\n",
    "for i in range(len(pca_x_list)):\n",
    "    print(pca_x_list[i].shape, proc_y_list[i].shape)\n",
    "    temp_x, temp_y = format_data(pca_x_list[i], proc_y_list[i])\n",
    "    pca_x_list_format.append(temp_x)\n",
    "    proc_y_list_format.append(temp_y)\n",
    "    \n",
    "    temp_h, temp_vaf, nada, nada = decode_kfolds(temp_x, temp_y)\n",
    "    pca_h_matrices.append(temp_h)\n",
    "    pca_vaf_list.append(np.round((np.average(temp_vaf,1)), 2))\n",
    "    \n",
    "    "
   ]
  },
  {
   "cell_type": "code",
   "execution_count": null,
   "id": "a60890f9-f6cf-43d0-bdd6-9250b57945c6",
   "metadata": {},
   "outputs": [],
   "source": [
    "limbfoot_pca_vaf_scores = []\n",
    "knee_pca_vaf_scores = []\n",
    "for score in pca_vaf_list:\n",
    "    limbfoot_pca_vaf_scores.append(score[1])\n",
    "    knee_pca_vaf_scores.append(score[3])\n",
    "\n",
    "x = np.arange(len(var_names))  # the label locations\n",
    "width = 0.35  # the width of the bars\n",
    "\n",
    "fig, ax = plt.subplots()\n",
    "rects1 = ax.bar(x - width/2, limbfoot_pca_vaf_scores, width, label='limbfoot')\n",
    "rects2 = ax.bar(x + width/2, knee_pca_vaf_scores, width, label='knee')\n",
    "\n",
    "# Add some text for labels, title and custom x-axis tick labels, etc.\n",
    "\n",
    "ax.set_ylabel('vaf')\n",
    "ax.set_title('pca, num dimensions: ' + str(lowest_num_dimensions))\n",
    "ax.set_xticks(x)\n",
    "ax.set_xticklabels(var_names)\n",
    "ax.legend()\n",
    "\n",
    "ax.bar_label(rects1, padding=3)\n",
    "ax.bar_label(rects2, padding=3)"
   ]
  },
  {
   "cell_type": "code",
   "execution_count": null,
   "id": "70341558-fd1a-42b8-b7c6-9b5425440f2f",
   "metadata": {},
   "outputs": [],
   "source": [
    "fixed_decoder = pca_h_matrices[0]\n",
    "fixed_decoder_vaf_list = []\n",
    "for i in range(len(pca_x_list_format)):\n",
    "    nada, temp_vaf, nada, nada, = decode_kfolds(pca_x_list_format[i], proc_y_list_format[i], preset_h = fixed_decoder)\n",
    "    fixed_decoder_vaf_list.append(np.round((np.average(temp_vaf, 1)), 2))"
   ]
  },
  {
   "cell_type": "code",
   "execution_count": null,
   "id": "ba165776-a77a-4462-ae8c-adefdaab2e59",
   "metadata": {},
   "outputs": [],
   "source": [
    "limbfoot_fixed_vaf_scores = []\n",
    "knee_fixed_vaf_scores = []\n",
    "for score in fixed_decoder_vaf_list:\n",
    "    limbfoot_fixed_vaf_scores.append(score[1])\n",
    "    knee_fixed_vaf_scores.append(score[3])\n",
    "\n",
    "x = np.arange(len(var_names))  # the label locations\n",
    "width = 0.35  # the width of the bars\n",
    "\n",
    "fig, ax = plt.subplots()\n",
    "rects1 = ax.bar(x - width/2, limbfoot_fixed_vaf_scores, width, label='limbfoot')\n",
    "rects2 = ax.bar(x + width/2, knee_fixed_vaf_scores, width, label='knee')\n",
    "\n",
    "# Add some text for labels, title and custom x-axis tick labels, etc.\n",
    "ax.set_ylabel('vaf')\n",
    "ax.set_title('pca, but only using decoder1')\n",
    "ax.set_xticks(x)\n",
    "ax.set_xticklabels(var_names)\n",
    "ax.legend()\n",
    "\n",
    "ax.bar_label(rects1, padding=3)\n",
    "ax.bar_label(rects2, padding=3)"
   ]
  },
  {
   "cell_type": "code",
   "execution_count": null,
   "id": "f462b81f-1f6e-4ef2-9e24-6cd2a1b1ff39",
   "metadata": {},
   "outputs": [],
   "source": [
    "cca_x_list = []\n",
    "cca_x_list_format = []\n",
    "\n",
    "cca_x_list.append(pca_x_list[0])\n",
    "cca_x_list_format.append(pca_x_list_format[0])\n",
    "\n",
    "for i in range(1, len(var_names)):\n",
    "    temp_cca = cca_dict[var_names[i]]\n",
    "    temp_x1 = temp_cca.data['cp1']['pca_x']\n",
    "    temp_x2 = temp_cca.data['cp2']['pca_x']\n",
    "    nada, temp_x_hat = temp_cca.apply_CCA(temp_x1, temp_x2)\n",
    "    cca_x_list.append(temp_x_hat)\n",
    "    \n",
    "    temp_x_format, nada = format_data(temp_x_hat, proc_y_list[i])\n",
    "    cca_x_list_format.append(temp_x_format)  "
   ]
  },
  {
   "cell_type": "code",
   "execution_count": null,
   "id": "e8542ecc-f76c-4536-8cb8-819c49e99033",
   "metadata": {},
   "outputs": [],
   "source": [
    "cca_fixed_decoder_vaf_list = []\n",
    "\n",
    "for i in range(len(cca_x_list_format)):\n",
    "    nada, temp_vaf, nada, nada, = decode_kfolds(cca_x_list_format[i], proc_y_list_format[i], preset_h = fixed_decoder)\n",
    "    cca_fixed_decoder_vaf_list.append(np.round((np.average(temp_vaf, 1)),2))"
   ]
  },
  {
   "cell_type": "code",
   "execution_count": null,
   "id": "9c583349-e5e1-45b7-bdf2-043d2c4be0ce",
   "metadata": {},
   "outputs": [],
   "source": [
    "cca_fixed_decoder_vaf_list"
   ]
  },
  {
   "cell_type": "code",
   "execution_count": null,
   "id": "8f558952-2eea-443a-9fad-83636c4510af",
   "metadata": {},
   "outputs": [],
   "source": [
    "limbfoot_cca_vaf_scores = []\n",
    "knee_cca_vaf_scores = []\n",
    "for score in cca_fixed_decoder_vaf_list:\n",
    "    limbfoot_cca_vaf_scores.append(score[1])\n",
    "    knee_cca_vaf_scores.append(score[3])\n",
    "\n",
    "x = np.arange(len(var_names))  # the label locations\n",
    "width = 0.35  # the width of the barswhat is an integer in python\n",
    "\n",
    "fig, ax = plt.subplots()\n",
    "rects1 = ax.bar(x - width/2, limbfoot_cca_vaf_scores, width, label='limbfoot')\n",
    "rects2 = ax.bar(x + width/2, knee_cca_vaf_scores, width, label='knee')\n",
    "\n",
    "# Add some text for labels, title and custom x-axis tick labels, etc.\n",
    "ax.set_ylabel('vaf')\n",
    "ax.set_title('cca, using decoder #1 only')\n",
    "ax.set_xticks(x)\n",
    "ax.set_xticklabels(var_names)\n",
    "ax.legend()\n",
    "\n",
    "ax.bar_label(rects1, padding=3)\n",
    "ax.bar_label(rects2, padding=3)"
   ]
  },
  {
   "cell_type": "code",
   "execution_count": null,
   "id": "8b90d545-d3a9-4762-a3f4-5a4924e5d756",
   "metadata": {},
   "outputs": [],
   "source": [
    "plot_dict = {}\n",
    "plot_dict['own_decoder'] = limbfoot_pca_vaf_scores\n",
    "plot_dict['fixed_decoder'] = limbfoot_fixed_vaf_scores\n",
    "plot_dict['cca_fixed_decoder'] = limbfoot_cca_vaf_scores\n",
    "\n",
    "index = var_names\n",
    "\n",
    "df = pd.DataFrame(data=plot_dict, index=index)\n",
    "\n",
    "  \n",
    "# plot grouped bar chart\n",
    "ax = df.plot.bar(rot=15)\n",
    "for container in ax.containers:\n",
    "    ax.bar_label(container)\n",
    "\n"
   ]
  },
  {
   "cell_type": "markdown",
   "id": "dc81cfe8-d304-4c8a-91da-fc72aef92254",
   "metadata": {},
   "source": [
    "# state space visualization"
   ]
  },
  {
   "cell_type": "code",
   "execution_count": null,
   "id": "79d86f70-1501-41c1-9a16-d68097179215",
   "metadata": {},
   "outputs": [],
   "source": [
    "x_pca_plot = []\n",
    "\n",
    "for i in range(len(var_names)):\n",
    "    x_pca_plot.append(cca_dict[var_names[1]].back_to_gait(pca_x_list[i]))"
   ]
  },
  {
   "cell_type": "code",
   "execution_count": null,
   "id": "a07f1c97-b49a-4cbd-9a30-e97e6df03aad",
   "metadata": {},
   "outputs": [],
   "source": [
    "plot_all(x_pca_plot, labels=var_names, subsample=1)"
   ]
  },
  {
   "cell_type": "code",
   "execution_count": null,
   "id": "937b5df3-775c-4773-b0d7-31ff4ba68074",
   "metadata": {},
   "outputs": [],
   "source": [
    "x_cca_plot = []\n",
    "\n",
    "for i in range(len(var_names)):\n",
    "    x_cca_plot.append(cca_dict[var_names[1]].back_to_gait(cca_x_list[i]))"
   ]
  },
  {
   "cell_type": "code",
   "execution_count": null,
   "id": "219ae94d-6deb-4d9e-af6e-ac59ea16108a",
   "metadata": {},
   "outputs": [],
   "source": [
    "plot_all(x_ca_plot, labels=var_names, subsample=1)"
   ]
  },
  {
   "cell_type": "code",
   "execution_count": null,
   "id": "012df54d-06f3-4e2b-ba0b-0d29c8af98ed",
   "metadata": {},
   "outputs": [],
   "source": [
    "plot_all([x_cca_plot[1]], labels = [var_names[1]])"
   ]
  },
  {
   "cell_type": "markdown",
   "id": "f253c1a8-fd3d-4848-ba64-706ef5ca795d",
   "metadata": {},
   "source": [
    "# scrapyard"
   ]
  },
  {
   "cell_type": "code",
   "execution_count": null,
   "id": "316ee94a-a930-44f9-80b0-d2d070862597",
   "metadata": {},
   "outputs": [],
   "source": [
    "x = pca_x_list[0]\n",
    "y = proc_y_list[0]"
   ]
  },
  {
   "cell_type": "code",
   "execution_count": null,
   "id": "88144a54-cae0-439f-b767-a8b94d4785d7",
   "metadata": {},
   "outputs": [],
   "source": [
    "x_ret, y_ret = cca_dict[var_names[1]].back_to_gait(x,y)"
   ]
  },
  {
   "cell_type": "code",
   "execution_count": null,
   "id": "1e58d694-0133-4972-819e-4255133a0350",
   "metadata": {},
   "outputs": [],
   "source": [
    "for thing in x_ret:\n",
    "    x_ret"
   ]
  },
  {
   "cell_type": "code",
   "execution_count": null,
   "id": "021bba7a-6cba-43be-9f5c-5d72d4095052",
   "metadata": {},
   "outputs": [],
   "source": [
    "avg_samples = cca_dict[var_names[1]].cp1.avg_gait_samples"
   ]
  },
  {
   "cell_type": "code",
   "execution_count": null,
   "id": "2d45ac27-96bb-4f88-8a0a-a72700ee7122",
   "metadata": {},
   "outputs": [],
   "source": [
    "test = np.reshape(x, (int(x.shape[0]/avg_samples), avg_samples, x.shape[1]), 'C')"
   ]
  },
  {
   "cell_type": "code",
   "execution_count": null,
   "id": "a2383143-a894-4315-b735-c3332dca6121",
   "metadata": {},
   "outputs": [],
   "source": [
    "x.shape[0] / avg_samples"
   ]
  },
  {
   "cell_type": "code",
   "execution_count": null,
   "id": "a35256d2-689f-466b-b14e-9176d68bf374",
   "metadata": {},
   "outputs": [],
   "source": [
    "x.shape[0]/avg_samples"
   ]
  },
  {
   "cell_type": "code",
   "execution_count": null,
   "id": "08a728c1-940a-428f-9d67-ac3b794787cb",
   "metadata": {},
   "outputs": [],
   "source": []
  }
 ],
 "metadata": {
  "kernelspec": {
   "display_name": "Python 3",
   "language": "python",
   "name": "python3"
  },
  "language_info": {
   "codemirror_mode": {
    "name": "ipython",
    "version": 3
   },
   "file_extension": ".py",
   "mimetype": "text/x-python",
   "name": "python",
   "nbconvert_exporter": "python",
   "pygments_lexer": "ipython3",
   "version": "3.7.0"
  }
 },
 "nbformat": 4,
 "nbformat_minor": 5
}
