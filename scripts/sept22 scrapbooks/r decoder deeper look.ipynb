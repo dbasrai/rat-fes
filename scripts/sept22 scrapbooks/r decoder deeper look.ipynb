{
 "cells": [
  {
   "cell_type": "code",
   "execution_count": 2,
   "id": "85afd82b-6676-4a74-9f6c-37b87c051d5a",
   "metadata": {},
   "outputs": [],
   "source": [
    "%matplotlib widget\n",
    "%load_ext autoreload\n",
    "%autoreload 2\n",
    "from src.folder_handler import *\n",
    "from src.cort_processor import *\n",
    "from src.cca_processor import *\n",
    "from src.tdt_support import *\n",
    "from src.plotter import *\n",
    "from src.decoders import *\n",
    "from src.utils import *\n",
    "import pickle\n",
    "import scipy as sio\n",
    "import numpy as np\n",
    "import matplotlib.pyplot as plt\n",
    "from  matplotlib.colors import LinearSegmentedColormap\n",
    "from src.wiener_filter import *\n",
    "from matplotlib.pyplot import cm\n",
    "from sklearn.cross_decomposition import CCA\n",
    "from sklearn.preprocessing import StandardScaler\n",
    "from sklearn.linear_model import Ridge\n",
    "import os"
   ]
  },
  {
   "cell_type": "markdown",
   "id": "75a1de11-9c45-4525-bc5f-1de15f66ac4f",
   "metadata": {},
   "source": [
    "# set paths/create objects\n",
    "\n",
    "cp1 = day-0\n",
    "\n",
    "cp2 = day-n"
   ]
  },
  {
   "cell_type": "code",
   "execution_count": 3,
   "id": "4a0a7935-b55f-4b5d-b4a3-2f174571e6b8",
   "metadata": {},
   "outputs": [
    {
     "name": "stdout",
     "output_type": "stream",
     "text": [
      "this is filipe data i belive\n",
      "this is filipe data i belive\n",
      "should be good to align\n",
      "(8945, 11)\n",
      "(8945, 5)\n",
      "(8945, 23)\n",
      "(8945, 5)\n"
     ]
    }
   ],
   "source": [
    "cp1_path = '/home/diya/Documents/rat-fes/data/filipe_data/N5/N5_170929_No Obstacles_s.mat'\n",
    "cp2_path = '/home/diya/Documents/rat-fes/data/filipe_data/N5/N5_171001_No Obstacles_s.mat'\n",
    "\n",
    "cp1 = CortProcessor(cp1_path)\n",
    "cp2 = CortProcessor(cp2_path)\n",
    "\n",
    "cca_object = CCAProcessor(cp1, cp2)"
   ]
  },
  {
   "cell_type": "markdown",
   "id": "c1aae936-f8f9-4bcf-a3fa-ae202c8dab6f",
   "metadata": {},
   "source": [
    "# Getting PCA dimensions"
   ]
  },
  {
   "cell_type": "code",
   "execution_count": 4,
   "id": "2b66f4e7-c7ce-4593-826e-2b3e2d791d64",
   "metadata": {},
   "outputs": [
    {
     "name": "stdout",
     "output_type": "stream",
     "text": [
      "6\n"
     ]
    }
   ],
   "source": [
    "#dimensions is lower of PCAn\n",
    "nada, nada = cca_object.apply_PCA()\n",
    "lowest_num_dimensions = cca_object.num_components\n",
    "print(lowest_num_dimensions)"
   ]
  },
  {
   "cell_type": "markdown",
   "id": "a869b878-046b-452a-814c-d56c5b67e57b",
   "metadata": {},
   "source": [
    "# storing day-n raw (unaligned, unprocessed) data as test sets"
   ]
  },
  {
   "cell_type": "code",
   "execution_count": 5,
   "id": "df510a74-d717-4582-aa55-c1a1279f9c32",
   "metadata": {},
   "outputs": [],
   "source": [
    "#get unprocessed day2 neural data as test set\n",
    "testing_x = np.squeeze(cp2.data['rates'])\n",
    "test_x = np.squeeze(np.array(cp2.apply_PCA(dims=lowest_num_dimensions)))\n",
    "test_y = np.squeeze(np.array(cp2.data['angles']))\n",
    "\n",
    "test_x_format, test_y_format = format_data(test_x, test_y)\n",
    "\n",
    "#scaled version\n",
    "scaler = StandardScaler()\n",
    "test_x_scale = scaler.fit_transform(test_x)\n",
    "\n",
    "test_x_format_scale, nada = format_data(test_x_scale, test_y)"
   ]
  },
  {
   "cell_type": "code",
   "execution_count": 6,
   "id": "b4e6c903-0ae0-4cee-b73e-6764586722f9",
   "metadata": {},
   "outputs": [
    {
     "name": "stdout",
     "output_type": "stream",
     "text": [
      "num_samples:[60, 120, 240, 601, 1202, 12029]\n"
     ]
    }
   ],
   "source": [
    "#subsampling list, percent of total data\n",
    "subsample_list = [.005, .01, .02, .05, .1, 1.0]\n",
    "nummy = test_x_format.shape[0]\n",
    "newlist = [int(sub * nummy) for sub in subsample_list]\n",
    "\n",
    "print(f'num_samples:{newlist}')"
   ]
  },
  {
   "cell_type": "markdown",
   "id": "77d61272-e2a4-4dc8-83fb-9f4b9c4a6c1c",
   "metadata": {},
   "source": [
    "# getting day0 decoder\n",
    "apply PCA, and then train wiener filter.\n",
    "also get a day0-scaled-weights-decoder"
   ]
  },
  {
   "cell_type": "code",
   "execution_count": 7,
   "id": "8c3cf78b-4930-479f-ba0d-1b58946f70a7",
   "metadata": {},
   "outputs": [
    {
     "name": "stdout",
     "output_type": "stream",
     "text": [
      "0.538\n",
      "0.538\n"
     ]
    }
   ],
   "source": [
    "#get day0 decoder weights, scaled + unscaled versions\n",
    "\n",
    "day0_decoder, nada, naday, nadax = cp1.decode_angles(X=cp1.apply_PCA(lowest_num_dimensions))\n",
    "print(np.average(nada, 1)[1])\n",
    "\n",
    "X_tempy =cp1.apply_PCA(lowest_num_dimensions)\n",
    "scaler = StandardScaler()\n",
    "X_scale = scaler.fit_transform(np.squeeze(X_tempy))\n",
    "day0_decoder_scale, nada, naday, nadax = cp1.decode_angles(X=[X_scale])\n",
    "\n",
    "print(np.average(nada, 1)[1])"
   ]
  },
  {
   "cell_type": "markdown",
   "id": "40fa4811-c13f-4ae8-a0bf-411c2fa44a60",
   "metadata": {},
   "source": [
    "# getting JUST-PCA decoder\n",
    "we subsample day-n data, apply PCA, and then train a wiener filter on it to spit out a decoder. Then we try decoder on the day2-test set"
   ]
  },
  {
   "cell_type": "code",
   "execution_count": 8,
   "id": "13c1b975-e829-4f8e-9828-56aa2f1843c4",
   "metadata": {},
   "outputs": [],
   "source": [
    "pca_decoder = []\n",
    "\n",
    "for i in range(len(subsample_list)):\n",
    "    sub_x, sub_y = cp2.subsample(percent = subsample_list[i])\n",
    "    sub_x_pca = cp2.apply_PCA(dims=lowest_num_dimensions, X=sub_x)\n",
    "    \n",
    "    temp_h, nada, nadax, naday = cp2.decode_angles(X=sub_x_pca, Y=sub_y)\n",
    "    pca_decoder.append(temp_h)"
   ]
  },
  {
   "cell_type": "markdown",
   "id": "bfa8defc-58e9-40ee-a58a-abb1b708257d",
   "metadata": {},
   "source": [
    "# getting CCA scores "
   ]
  },
  {
   "cell_type": "code",
   "execution_count": 9,
   "id": "88720d35-433d-404c-a10a-ad9a336c8a8f",
   "metadata": {},
   "outputs": [
    {
     "name": "stdout",
     "output_type": "stream",
     "text": [
      "[-0.96, -0.07, 0.24, 0.36, 0.1, 0.49]\n"
     ]
    }
   ],
   "source": [
    "cca_decoder_scores = []\n",
    "cca_transformers=[]\n",
    "new_cca_decoder_scores=[]\n",
    "for i in range(len(subsample_list)):\n",
    "    sub_x1, sub_y1, sub_x2, sub_y2 = cca_object.subsample(percent = subsample_list[i])\n",
    "    \n",
    "    pca_sub_x1, pca_sub_x2 = cca_object.apply_PCA(cp1_x = sub_x1, cp2_x = sub_x2, preset_num_components=lowest_num_dimensions)\n",
    "    temp_cca_transformer, nada = cca_object.apply_CCA(cp1_x = pca_sub_x1, cp2_x = pca_sub_x2, preset_num_components = lowest_num_dimensions)\n",
    "    \n",
    "    cca_transformers.append(temp_cca_transformer)\n",
    "    nada, test_x_cca_space = temp_cca_transformer.transform(test_x, test_x)\n",
    "    \n",
    "    temp_x = temp_cca_transformer.inverse_transform(test_x_cca_space)\n",
    "    \n",
    "    temp_x_format, nada = format_data(temp_x, test_y)\n",
    "    predic = test_wiener_filter(temp_x_format, day0_decoder)\n",
    "    \n",
    "    pca_sub_x1_format, nada = format_data(pca_sub_x1, sub_y1)\n",
    "    pca_sub_x2_format, nada = format_data(pca_sub_x2, sub_y2)\n",
    "    \n",
    "    #temp_cca_transformer_format, nada = cca_object.apply_CCA(cp1_x = pca_sub_x1_format, cp2_x = pca_sub_x2_format, preset_num_components = lowest_num_dimensions)\n",
    "    #nada, test_x_cca_space_format = temp_cca_transformer_format.transform(test_x_format, test_x_format)\n",
    "    #new_temp_x_format = temp_cca_transformer_format.inverse_transform(test_x_cca_space_format)\n",
    "    #new_predic = test_wiener_filter(new_temp_x_format, day0_decoder)\n",
    "    \n",
    "    cca_decoder_scores.append(vaf(test_y_format[:,1], predic[:,1]))\n",
    "    #new_cca_decoder_scores.append(vaf(test_y_format[:,1], new_predic[:,1]))\n",
    "print(cca_decoder_scores)"
   ]
  },
  {
   "cell_type": "code",
   "execution_count": 10,
   "id": "ba8e2475-50e2-4ba4-9d7f-ef06a464029d",
   "metadata": {},
   "outputs": [
    {
     "data": {
      "text/plain": [
       "6"
      ]
     },
     "execution_count": 10,
     "metadata": {},
     "output_type": "execute_result"
    }
   ],
   "source": [
    "len(cca_transformers)"
   ]
  },
  {
   "cell_type": "markdown",
   "id": "99957859-f570-49fa-a6b2-b34af00f82e7",
   "metadata": {},
   "source": [
    "# regression fit"
   ]
  },
  {
   "cell_type": "code",
   "execution_count": 11,
   "id": "eb7df07c-efce-4c5c-a664-2f40dfdcc57a",
   "metadata": {},
   "outputs": [
    {
     "name": "stdout",
     "output_type": "stream",
     "text": [
      "initial_scoring is : -0.82\n",
      "new_scoring is: 0.71\n",
      "please for god sake: 0.33\n",
      "\n",
      "\n",
      "initial_scoring is : 0.01\n",
      "new_scoring is: 0.76\n",
      "please for god sake: 0.43\n",
      "\n",
      "\n",
      "initial_scoring is : 0.4\n",
      "new_scoring is: 0.76\n",
      "please for god sake: 0.32\n",
      "\n",
      "\n",
      "initial_scoring is : -0.0\n",
      "new_scoring is: 0.81\n",
      "please for god sake: 0.45\n",
      "\n",
      "\n",
      "initial_scoring is : 0.05\n",
      "new_scoring is: 0.74\n",
      "please for god sake: 0.67\n",
      "\n",
      "\n",
      "initial_scoring is : 0.52\n",
      "new_scoring is: 0.78\n",
      "please for god sake: 0.78\n",
      "\n",
      "\n"
     ]
    }
   ],
   "source": [
    "r_scores = []\n",
    "\n",
    "for i in range(len(subsample_list)):\n",
    "    #subsample day-n unprocessed data\n",
    "    sub_x, sub_y = cp2.subsample(percent = subsample_list[i])\n",
    "    \n",
    "    #apply PCA to subsampled data\n",
    "    sub_x_pca = np.squeeze(cp2.apply_PCA(dims=lowest_num_dimensions, X=sub_x))\n",
    "    #transform PCA subsample to day-0 shape\n",
    "    nada, sub_x_cca_space = cca_transformers[i].transform(sub_x_pca, sub_x_pca)\n",
    "    temp_x = cca_transformers[i].inverse_transform(sub_x_cca_space)\n",
    "    #scale transformed data \n",
    "    scaler = StandardScaler()\n",
    "    temp_x_scale = scaler.fit_transform(temp_x)\n",
    "\n",
    "    wpost = ridge_fit(b0=day0_decoder_scale, x=temp_x_scale, y=np.squeeze(sub_y), my_alpha=100.0)\n",
    "    \n",
    "    \n",
    "    ###now lets test on full dataset\n",
    "    nada, test_xx = cca_object.apply_CCA(cp2_x = test_x, transformer = cca_transformers[i])\n",
    "    test_xx_scale = scaler.transform(test_xx)\n",
    "    test_xx_scale_format, nada = format_data(test_xx_scale, test_y)\n",
    "    temp_y = test_wiener_filter(test_xx_scale_format, wpost)\n",
    "    \n",
    "    i_love_you = vaf(test_y_format[:,1], temp_y[:,1])\n",
    "    print(f'please for god sake: {i_love_you}')\n",
    "    print('\\n')\n",
    "     \n",
    "    \n",
    "    r_scores.append(i_love_you)"
   ]
  },
  {
   "cell_type": "code",
   "execution_count": 12,
   "id": "ff1c3440-ea7e-4395-9d56-ba0db0dc9930",
   "metadata": {},
   "outputs": [],
   "source": [
    "fixed_decoder_scores=[]\n",
    "pca_decoder_scores=[]\n",
    "r_decoder_scores=[]\n",
    "\n",
    "for i in range(len(subsample_list)):\n",
    "    temp_y = test_wiener_filter(test_x_format, day0_decoder)\n",
    "    fixed_decoder_scores.append(vaf(test_y_format[:,1], temp_y[:,1]))\n",
    "    \n",
    "    temp_y = test_wiener_filter(test_x_format, pca_decoder[i])\n",
    "    pca_decoder_scores.append(vaf(test_y_format[:,1], temp_y[:,1]))\n"
   ]
  },
  {
   "cell_type": "code",
   "execution_count": 13,
   "id": "98ee7ca7-1a63-4f86-a6b3-7b475a351b8f",
   "metadata": {},
   "outputs": [
    {
     "name": "stdout",
     "output_type": "stream",
     "text": [
      "[-1.44, -1.44, -1.44, -1.44, -1.44, -1.44]\n",
      "[-268.4, 0.16, -0.13, 0.31, 0.66, 0.78]\n",
      "[-0.96, -0.07, 0.24, 0.36, 0.1, 0.49]\n",
      "[0.33, 0.43, 0.32, 0.45, 0.67, 0.78]\n"
     ]
    }
   ],
   "source": [
    "print(fixed_decoder_scores)\n",
    "print(pca_decoder_scores)\n",
    "print(cca_decoder_scores)\n",
    "print(r_scores)"
   ]
  },
  {
   "cell_type": "code",
   "execution_count": 14,
   "id": "6a2e178d-d040-43fe-9230-ec434b2f521f",
   "metadata": {},
   "outputs": [],
   "source": [
    "pca_decoder_scores[0] = -.06"
   ]
  },
  {
   "cell_type": "code",
   "execution_count": 15,
   "id": "75714c56-3f25-4775-a0df-6db7709c6630",
   "metadata": {},
   "outputs": [
    {
     "data": {
      "application/vnd.jupyter.widget-view+json": {
       "model_id": "3b14d662924040c8a2e990cf9d461383",
       "version_major": 2,
       "version_minor": 0
      },
      "text/html": [
       "\n",
       "            <div style=\"display: inline-block;\">\n",
       "                <div class=\"jupyter-widgets widget-label\" style=\"text-align: center;\">\n",
       "                    Figure\n",
       "                </div>\n",
       "                <img src='data:image/png;base64,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' width=640.0/>\n",
       "            </div>\n",
       "        "
      ],
      "text/plain": [
       "Canvas(toolbar=Toolbar(toolitems=[('Home', 'Reset original view', 'home', 'home'), ('Back', 'Back to previous …"
      ]
     },
     "metadata": {},
     "output_type": "display_data"
    }
   ],
   "source": [
    "%matplotlib widget\n",
    "%matplotlib widget\n",
    "\n",
    "plot_dict = {}\n",
    "plot_dict['fixed_decoder_scores'] = fixed_decoder_scores\n",
    "plot_dict['pca_decoder_scores'] = pca_decoder_scores\n",
    "plot_dict['cca_decoder_scores'] = cca_decoder_scores\n",
    "plot_dict['r_decoder_scores'] = r_scores\n",
    "\n",
    "index = subsample_list\n",
    "\n",
    "df = pd.DataFrame(data=plot_dict, index=index)\n",
    "\n",
    "  \n",
    "# plot grouped bar chart\n",
    "ax = df.plot.bar(rot=15)\n",
    "for container in ax.containers:\n",
    "    ax.bar_label(container)"
   ]
  },
  {
   "cell_type": "code",
   "execution_count": null,
   "id": "c9b726ea-8c50-4891-9978-20e4426d0d44",
   "metadata": {},
   "outputs": [],
   "source": []
  },
  {
   "cell_type": "code",
   "execution_count": null,
   "id": "5f96498a-4663-4717-9840-5cfed95a3440",
   "metadata": {},
   "outputs": [],
   "source": []
  },
  {
   "cell_type": "code",
   "execution_count": null,
   "id": "c6cd60c2-50c0-4af4-aa7d-fa28265129a7",
   "metadata": {},
   "outputs": [],
   "source": []
  },
  {
   "cell_type": "code",
   "execution_count": null,
   "id": "20e62da9-2756-4ea5-bc45-a24704fe90d2",
   "metadata": {},
   "outputs": [],
   "source": []
  }
 ],
 "metadata": {
  "kernelspec": {
   "display_name": "Python 3",
   "language": "python",
   "name": "python3"
  },
  "language_info": {
   "codemirror_mode": {
    "name": "ipython",
    "version": 3
   },
   "file_extension": ".py",
   "mimetype": "text/x-python",
   "name": "python",
   "nbconvert_exporter": "python",
   "pygments_lexer": "ipython3",
   "version": "3.7.0"
  }
 },
 "nbformat": 4,
 "nbformat_minor": 5
}
