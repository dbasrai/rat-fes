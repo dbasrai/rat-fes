{
 "cells": [
  {
   "cell_type": "code",
   "execution_count": 240,
   "id": "d0dd0e49-6561-4787-a576-4fdfd98e3084",
   "metadata": {},
   "outputs": [
    {
     "name": "stdout",
     "output_type": "stream",
     "text": [
      "The autoreload extension is already loaded. To reload it, use:\n",
      "  %reload_ext autoreload\n"
     ]
    }
   ],
   "source": [
    "%matplotlib widget\n",
    "%load_ext autoreload\n",
    "%autoreload 2"
   ]
  },
  {
   "cell_type": "code",
   "execution_count": 241,
   "id": "37a8459d-7be8-4512-8adc-16a23cfbda2d",
   "metadata": {},
   "outputs": [],
   "source": [
    "import matplotlib.pyplot as plt\n",
    "import numpy as np\n",
    "import pandas as pd\n",
    "import math\n",
    "import cv2\n",
    "from  matplotlib.colors import LinearSegmentedColormap\n",
    "from scipy.signal import butter, lfilter, iirnotch, filtfilt, resample, find_peaks\n",
    "from scipy.io import savemat\n",
    "from src.xray import *\n",
    "from src.tdt_support import *\n",
    "from src.filters import *\n",
    "from src.neural_analysis import *\n",
    "from src.cort_processing import *\n",
    "from src.wiener_filter import *"
   ]
  },
  {
   "cell_type": "code",
   "execution_count": 242,
   "id": "31d85d18-fade-4c50-8ddf-90fde2210ffc",
   "metadata": {},
   "outputs": [],
   "source": [
    "tdt1 = '/home/diya/Documents/rat-fes/data/rat-t/02-25-22/TDT/t0-022522-10-1-220225-155323'\n",
    "kin1 = '/home/diya/Documents/rat-fes/data/DLC_anipose_models/anipose_t/session/angles/_t0-022522-10-1_2022-02-25_200f-11e100g1.csv'\n",
    "np_ts1 = '/home/diya/Documents/rat-fes/data/rat-t/02-25-22/Vids/TIMESTAMPS_cam1_t0-022522-10-1_2022-02-25_200f-11e100g1.npy'\n",
    "crop1 = (15,160)"
   ]
  },
  {
   "cell_type": "code",
   "execution_count": 243,
   "id": "59b0c7d8-3e6f-4ed4-84c0-bb6490d87ac8",
   "metadata": {},
   "outputs": [
    {
     "name": "stdout",
     "output_type": "stream",
     "text": [
      "read from t=0s to t=179.72s\n"
     ]
    }
   ],
   "source": [
    "rates1, angles1 = process_neural_kinangles(tdt1, kin1, np_ts1, 3.0, crop1)"
   ]
  },
  {
   "cell_type": "code",
   "execution_count": 244,
   "id": "7a5409b2-41e4-4d87-b833-f4071fbb3f1e",
   "metadata": {},
   "outputs": [],
   "source": [
    "p_rates1, p_angles1 = remove_bad_gaits(rates1, angles1)"
   ]
  },
  {
   "cell_type": "code",
   "execution_count": 245,
   "id": "d66e633b-4088-494f-b1b0-5f20c078a82b",
   "metadata": {},
   "outputs": [],
   "source": [
    "tdt2 = '/home/diya/Documents/rat-fes/data/rat-t/02-25-22/TDT/t0-022522-15-1-220225-155834'\n",
    "kin2 = '/home/diya/Documents/rat-fes/data/DLC_anipose_models/anipose_t/session/angles/_t0-022522-15-1_2022-02-25_200f-11e100g1.csv'\n",
    "np_ts2 = '/home/diya/Documents/rat-fes/data/rat-t/02-25-22/Vids/TIMESTAMPS_cam1_t0-022522-15-1_2022-02-25_200f-11e100g1.npy'\n",
    "crop2 = (15,160)"
   ]
  },
  {
   "cell_type": "code",
   "execution_count": 246,
   "id": "3f072d50-ef43-47bc-9559-1532c8cbd1d0",
   "metadata": {},
   "outputs": [
    {
     "name": "stdout",
     "output_type": "stream",
     "text": [
      "read from t=0s to t=185.38s\n"
     ]
    }
   ],
   "source": [
    "rates2, angles2 = process_neural_kinangles(tdt2, kin2, np_ts2, 3.0, crop2)"
   ]
  },
  {
   "cell_type": "code",
   "execution_count": 247,
   "id": "26042550-840c-4e5d-a082-83330885860e",
   "metadata": {},
   "outputs": [],
   "source": [
    "p_rates2, p_angles2 = remove_bad_gaits(rates2, angles2)"
   ]
  },
  {
   "cell_type": "code",
   "execution_count": 248,
   "id": "62a62bbb-198e-4c34-b91b-b6b01e39d600",
   "metadata": {},
   "outputs": [],
   "source": [
    "rates, angles = stitch_data(p_rates1, p_rates2, p_angles1, p_angles2)"
   ]
  },
  {
   "cell_type": "code",
   "execution_count": 249,
   "id": "d582f83e-f53f-445b-aef5-781a170c5c58",
   "metadata": {},
   "outputs": [],
   "source": [
    "h = linear_decoder(rates, angles, n=10, l2=0)"
   ]
  },
  {
   "cell_type": "code",
   "execution_count": 250,
   "id": "9a84b2ba-4d8b-4496-a419-4d05885c4071",
   "metadata": {},
   "outputs": [],
   "source": [
    "test_crop=(160,170)"
   ]
  },
  {
   "cell_type": "code",
   "execution_count": 251,
   "id": "61eca698-3a69-408c-ab11-73354840cd4f",
   "metadata": {},
   "outputs": [
    {
     "name": "stdout",
     "output_type": "stream",
     "text": [
      "read from t=0s to t=185.38s\n",
      "0.26959198836314424\n"
     ]
    }
   ],
   "source": [
    "test_rates, test_angles = process_neural_kinangles(tdt2, kin2, np_ts2, 3.0, test_crop)\n",
    "test_rates_f, test_angles_f=format_data(test_rates.T, test_angles.T, 10)\n",
    "predic= test_wiener_filter(test_rates_f, h)\n",
    "error = vaf(test_angles_f[:,3], predic[:,3])\n",
    "print(error)"
   ]
  }
 ],
 "metadata": {
  "kernelspec": {
   "display_name": "Python 3",
   "language": "python",
   "name": "python3"
  },
  "language_info": {
   "codemirror_mode": {
    "name": "ipython",
    "version": 3
   },
   "file_extension": ".py",
   "mimetype": "text/x-python",
   "name": "python",
   "nbconvert_exporter": "python",
   "pygments_lexer": "ipython3",
   "version": "3.7.0"
  }
 },
 "nbformat": 4,
 "nbformat_minor": 5
}
