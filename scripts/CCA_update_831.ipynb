{
 "cells": [
  {
   "cell_type": "code",
   "execution_count": 1,
   "id": "2136e5eb-4023-43c2-a37e-55624ef23bff",
   "metadata": {},
   "outputs": [],
   "source": [
    "%matplotlib widget\n",
    "%load_ext autoreload\n",
    "%autoreload 2\n",
    "from src.folder_handler import *\n",
    "from src.cort_processor import *\n",
    "from src.cca_processor import *\n",
    "from src.tdt_support import *\n",
    "from src.plotter import *\n",
    "from src.decoders import *\n",
    "import pickle\n",
    "import scipy as spicy\n",
    "import numpy as np\n",
    "import matplotlib.pyplot as plt\n",
    "from  matplotlib.colors import LinearSegmentedColormap\n",
    "from src.wiener_filter import *\n",
    "from matplotlib.pyplot import cm\n",
    "from sklearn.cross_decomposition import CCA\n",
    "from sklearn.preprocessing import StandardScaler\n",
    "import os"
   ]
  },
  {
   "cell_type": "code",
   "execution_count": 2,
   "id": "53af79f0-aa8e-4f7f-ac98-849e44195ba3",
   "metadata": {},
   "outputs": [],
   "source": [
    "path = '/home/diya/Documents/rat-fes/data/filipe_data/N9'"
   ]
  },
  {
   "cell_type": "code",
   "execution_count": 3,
   "id": "de2ce810-d8cd-4932-86e1-1564db3f896d",
   "metadata": {},
   "outputs": [
    {
     "name": "stdout",
     "output_type": "stream",
     "text": [
      "['N9_171204_No Obstacles_s.mat', 'N9_171214_No Obstacles_s.mat', 'N9_171121_No Obstacles_s.mat', 'N9_171211_No Obstacles_s.mat']\n"
     ]
    }
   ],
   "source": [
    "filenames = os.listdir(path)\n",
    "print(filenames)"
   ]
  },
  {
   "cell_type": "code",
   "execution_count": 4,
   "id": "b104d427-03e5-4b26-bdc2-011440271309",
   "metadata": {},
   "outputs": [],
   "source": [
    "temp_datasets = []\n",
    "temp_var_names = []\n",
    "\n",
    "for file in filenames:\n",
    "    temp_datasets.append(path+'/'+file)\n",
    "    temp_var_names.append(file.split('_')[0]+file.split('_')[1])\n",
    "\n",
    "datasets = sorted(temp_datasets)\n",
    "var_names = sorted(temp_var_names)"
   ]
  },
  {
   "cell_type": "code",
   "execution_count": 5,
   "id": "b8a3095f-79a4-48e3-8bb7-7d839260dc4f",
   "metadata": {},
   "outputs": [
    {
     "name": "stdout",
     "output_type": "stream",
     "text": [
      "this is filipe data i belive\n",
      "this is filipe data i belive\n",
      "this is filipe data i belive\n",
      "this is filipe data i belive\n"
     ]
    }
   ],
   "source": [
    "cort_dict = {}\n",
    "for i in range(len(datasets)):\n",
    "    cort_dict[var_names[i]] = CortProcessor(datasets[i])"
   ]
  },
  {
   "cell_type": "code",
   "execution_count": 6,
   "id": "81a8921a-1e09-4ee3-9b34-d26b493d4640",
   "metadata": {},
   "outputs": [
    {
     "name": "stdout",
     "output_type": "stream",
     "text": [
      "N9171121 N9171204\n",
      "should be good to align\n",
      "(6945, 25)\n",
      "(6945, 5)\n",
      "(6945, 31)\n",
      "(6945, 5)\n",
      "N9171121 N9171211\n",
      "should be good to align\n",
      "(5250, 25)\n",
      "(5250, 5)\n",
      "(5250, 19)\n",
      "(5250, 5)\n",
      "N9171121 N9171214\n",
      "should be good to align\n",
      "(7305, 25)\n",
      "(7305, 5)\n",
      "(7305, 23)\n",
      "(7305, 5)\n"
     ]
    }
   ],
   "source": [
    "cca_dict = {}\n",
    "for i in range(1, len(var_names)):\n",
    "    print(var_names[0], var_names[i])\n",
    "    cca_dict[var_names[i]] = CCAProcessor(cort_dict[var_names[0]], cort_dict[var_names[i]])\n"
   ]
  },
  {
   "cell_type": "code",
   "execution_count": 7,
   "id": "ec0deeae-30e8-467a-b411-378b2490c635",
   "metadata": {},
   "outputs": [],
   "source": [
    "proc_vaf_scores = []\n",
    "proc_y_list = []\n",
    "\n",
    "temp = np.average(cca_dict[var_names[1]].data['cp1']['proc_vaf'], 1)\n",
    "proc_vaf_scores.append(temp)\n",
    "\n",
    "temp = cca_dict[var_names[1]].data['cp1']['proc_y']\n",
    "proc_y_list.append(temp)\n",
    "\n",
    "for i in range(1, len(var_names)):\n",
    "    temp = np.average(cca_dict[var_names[i]].data['cp2']['proc_vaf'],1)\n",
    "    proc_vaf_scores.append(temp)\n",
    "    \n",
    "    temp = cca_dict[var_names[i]].data['cp2']['proc_y']\n",
    "    proc_y_list.append(temp)\n",
    "        \n",
    "    temp = cca_dict[var_names[1]].data['cp1']['proc_y'].shape[0]\n",
    "    if proc_y_list[0].shape[0] > temp:\n",
    "        proc_y_list[0] = temp\n",
    "#proc_vaf_scores.append(cca_dict[var_names[0]].cp1.vaf"
   ]
  },
  {
   "cell_type": "code",
   "execution_count": 8,
   "id": "919d5a15-c54a-44fb-adc5-beac9e4c1e18",
   "metadata": {},
   "outputs": [
    {
     "data": {
      "text/plain": [
       "[Text(0, 3, '0.7'),\n",
       " Text(0, 3, '0.71'),\n",
       " Text(0, 3, '0.611'),\n",
       " Text(0, 3, '0.605')]"
      ]
     },
     "execution_count": 8,
     "metadata": {},
     "output_type": "execute_result"
    },
    {
     "data": {
      "application/vnd.jupyter.widget-view+json": {
       "model_id": "0223512cadad47b280eb05397f2911eb",
       "version_major": 2,
       "version_minor": 0
      },
      "text/html": [
       "\n",
       "            <div style=\"display: inline-block;\">\n",
       "                <div class=\"jupyter-widgets widget-label\" style=\"text-align: center;\">\n",
       "                    Figure\n",
       "                </div>\n",
       "                <img src='data:image/png;base64,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' width=640.0/>\n",
       "            </div>\n",
       "        "
      ],
      "text/plain": [
       "Canvas(toolbar=Toolbar(toolitems=[('Home', 'Reset original view', 'home', 'home'), ('Back', 'Back to previous …"
      ]
     },
     "metadata": {},
     "output_type": "display_data"
    }
   ],
   "source": [
    "limbfoot_proc_vaf_scores = []\n",
    "knee_proc_vaf_scores = []\n",
    "for score in proc_vaf_scores:\n",
    "    limbfoot_proc_vaf_scores.append(score[1])\n",
    "    knee_proc_vaf_scores.append(score[3])\n",
    "\n",
    "x = np.arange(len(var_names))  # the label locations\n",
    "width = 0.35  # the width of the bars\n",
    "\n",
    "fig, ax = plt.subplots()\n",
    "rects1 = ax.bar(x - width/2, limbfoot_proc_vaf_scores, width, label='limbfoot')\n",
    "rects2 = ax.bar(x + width/2, knee_proc_vaf_scores, width, label='knee')\n",
    "\n",
    "# Add some text for labels, title and custom x-axis tick labels, etc.\n",
    "ax.set_ylabel('vaf')\n",
    "ax.set_title('processed vafs')\n",
    "ax.set_xticks(x)\n",
    "ax.set_xticklabels(var_names)\n",
    "ax.legend()\n",
    "\n",
    "ax.bar_label(rects1, padding=3)\n",
    "ax.bar_label(rects2, padding=3)\n"
   ]
  },
  {
   "cell_type": "code",
   "execution_count": 9,
   "id": "17ec252b-1df2-40d6-a562-52b3cf1f2fd6",
   "metadata": {},
   "outputs": [
    {
     "name": "stdout",
     "output_type": "stream",
     "text": [
      "N9171214: 16\n"
     ]
    }
   ],
   "source": [
    "lowest_num_dimensions = 33\n",
    "\n",
    "\n",
    "for i in range(1, len(var_names)):\n",
    "    temp, nada, nada = cca_dict[var_names[i]].apply_PCA()\n",
    "    lowest_num_dimensions = min(lowest_num_dimensions, temp)\n",
    "    if temp==lowest_num_dimensions:\n",
    "        low_dim = var_names[i]\n",
    "    \n",
    "print(str(low_dim) + ': ' + str(lowest_num_dimensions))"
   ]
  },
  {
   "cell_type": "code",
   "execution_count": 10,
   "id": "64c33202-ad42-4b16-b345-a59119b0f52e",
   "metadata": {},
   "outputs": [
    {
     "name": "stdout",
     "output_type": "stream",
     "text": [
      "N9171211: 19\n"
     ]
    }
   ],
   "source": [
    "lowest_num_dimensions=33\n",
    "for i in range(0, len(var_names)):\n",
    "    temp = cort_dict[var_names[i]].data['rates'][0].shape[1]\n",
    "    lowest_num_dimensions = min(lowest_num_dimensions, temp)\n",
    "    if temp==lowest_num_dimensions:\n",
    "        low_dim = var_names[i]\n",
    "print(str(low_dim) + ': ' + str(lowest_num_dimensions))"
   ]
  },
  {
   "cell_type": "code",
   "execution_count": 11,
   "id": "880c2cb7-1a3c-43e5-89a7-d002aed8a466",
   "metadata": {},
   "outputs": [],
   "source": [
    "pca_x_list = []\n",
    "\n",
    "for i in range(1, len(var_names)):\n",
    "    nada, nada, temp_x = cca_dict[var_names[i]].apply_PCA(preset_num_components = lowest_num_dimensions)\n",
    "    pca_x_list.append(temp_x)\n",
    "    \n",
    "nada, temp_x, nada = cca_dict[var_names[1]].apply_PCA(preset_num_components = lowest_num_dimensions)\n",
    "pca_x_list.insert(0, temp_x)"
   ]
  },
  {
   "cell_type": "code",
   "execution_count": 12,
   "id": "1821cd2f-3ccc-40ad-8dd3-1669469f1d79",
   "metadata": {},
   "outputs": [
    {
     "name": "stdout",
     "output_type": "stream",
     "text": [
      "(6945, 19) (6945, 5)\n",
      "(6945, 19) (6945, 5)\n",
      "(5250, 19) (5250, 5)\n",
      "(7305, 19) (7305, 5)\n"
     ]
    }
   ],
   "source": [
    "pca_h_matrices = []\n",
    "pca_vaf_list = []\n",
    "proc_y_list_format = []\n",
    "pca_x_list_format = []\n",
    "for i in range(len(pca_x_list)):\n",
    "    print(pca_x_list[i].shape, proc_y_list[i].shape)\n",
    "    temp_x, temp_y = format_data(pca_x_list[i], proc_y_list[i])\n",
    "    pca_x_list_format.append(temp_x)\n",
    "    proc_y_list_format.append(temp_y)\n",
    "    \n",
    "    temp_h, temp_vaf, nada, nada = decode_kfolds(temp_x, temp_y)\n",
    "    pca_h_matrices.append(temp_h)\n",
    "    pca_vaf_list.append(np.round((np.average(temp_vaf,1)), 2))\n",
    "    \n",
    "    "
   ]
  },
  {
   "cell_type": "code",
   "execution_count": 13,
   "id": "a60890f9-f6cf-43d0-bdd6-9250b57945c6",
   "metadata": {},
   "outputs": [
    {
     "data": {
      "text/plain": [
       "[Text(0, 3, '0.7'), Text(0, 3, '0.7'), Text(0, 3, '0.61'), Text(0, 3, '0.6')]"
      ]
     },
     "execution_count": 13,
     "metadata": {},
     "output_type": "execute_result"
    },
    {
     "data": {
      "application/vnd.jupyter.widget-view+json": {
       "model_id": "7769dfa172f3457b99d5e2af81102790",
       "version_major": 2,
       "version_minor": 0
      },
      "text/html": [
       "\n",
       "            <div style=\"display: inline-block;\">\n",
       "                <div class=\"jupyter-widgets widget-label\" style=\"text-align: center;\">\n",
       "                    Figure\n",
       "                </div>\n",
       "                <img src='data:image/png;base64,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' width=640.0/>\n",
       "            </div>\n",
       "        "
      ],
      "text/plain": [
       "Canvas(toolbar=Toolbar(toolitems=[('Home', 'Reset original view', 'home', 'home'), ('Back', 'Back to previous …"
      ]
     },
     "metadata": {},
     "output_type": "display_data"
    }
   ],
   "source": [
    "limbfoot_pca_vaf_scores = []\n",
    "knee_pca_vaf_scores = []\n",
    "for score in pca_vaf_list:\n",
    "    limbfoot_pca_vaf_scores.append(score[1])\n",
    "    knee_pca_vaf_scores.append(score[3])\n",
    "\n",
    "x = np.arange(len(var_names))  # the label locations\n",
    "width = 0.35  # the width of the bars\n",
    "\n",
    "fig, ax = plt.subplots()\n",
    "rects1 = ax.bar(x - width/2, limbfoot_pca_vaf_scores, width, label='limbfoot')\n",
    "rects2 = ax.bar(x + width/2, knee_pca_vaf_scores, width, label='knee')\n",
    "\n",
    "# Add some text for labels, title and custom x-axis tick labels, etc.\n",
    "\n",
    "ax.set_ylabel('vaf')\n",
    "ax.set_title('pca, num dimensions: ' + str(lowest_num_dimensions))\n",
    "ax.set_xticks(x)\n",
    "ax.set_xticklabels(var_names)\n",
    "ax.legend()\n",
    "\n",
    "ax.bar_label(rects1, padding=3)\n",
    "ax.bar_label(rects2, padding=3)"
   ]
  },
  {
   "cell_type": "code",
   "execution_count": 14,
   "id": "70341558-fd1a-42b8-b7c6-9b5425440f2f",
   "metadata": {},
   "outputs": [],
   "source": [
    "fixed_decoder = pca_h_matrices[0]\n",
    "fixed_decoder_vaf_list = []\n",
    "for i in range(len(pca_x_list_format)):\n",
    "    nada, temp_vaf, nada, nada, = decode_kfolds(pca_x_list_format[i], proc_y_list_format[i], preset_h = fixed_decoder)\n",
    "    fixed_decoder_vaf_list.append(np.round((np.average(temp_vaf, 1)), 2))"
   ]
  },
  {
   "cell_type": "code",
   "execution_count": 15,
   "id": "ba165776-a77a-4462-ae8c-adefdaab2e59",
   "metadata": {},
   "outputs": [
    {
     "data": {
      "text/plain": [
       "[Text(0, 3, '0.72'),\n",
       " Text(0, -3, '-0.24'),\n",
       " Text(0, -3, '-0.65'),\n",
       " Text(0, -3, '-0.01')]"
      ]
     },
     "execution_count": 15,
     "metadata": {},
     "output_type": "execute_result"
    },
    {
     "data": {
      "application/vnd.jupyter.widget-view+json": {
       "model_id": "aa27f120fe334085b5edd03e38c2f2ae",
       "version_major": 2,
       "version_minor": 0
      },
      "text/html": [
       "\n",
       "            <div style=\"display: inline-block;\">\n",
       "                <div class=\"jupyter-widgets widget-label\" style=\"text-align: center;\">\n",
       "                    Figure\n",
       "                </div>\n",
       "                <img src='data:image/png;base64,iVBORw0KGgoAAAANSUhEUgAAAoAAAAHgCAYAAAA10dzkAAAAOXRFWHRTb2Z0d2FyZQBNYXRwbG90bGliIHZlcnNpb24zLjQuMiwgaHR0cHM6Ly9tYXRwbG90bGliLm9yZy8rg+JYAAAACXBIWXMAAA9hAAAPYQGoP6dpAABO4ElEQVR4nO3deVxV1f7/8fcBZVIGRwZDcVauJqWJmqYpCWqpTWpSDteha+JYlnbNISvUzMyyzH453fRqWppNlBe1kXC6lpaaGmRpgEZwEC6IsH9/+PB8OzGIMhxgv56Px3k8OmuvtfZns1XerbP3PhbDMAwBAADANJwcXQAAAAAqFgEQAADAZAiAAAAAJkMABAAAMBkCIAAAgMkQAAEAAEyGAAgAAGAyBEAAAACTIQACAACYDAEQAADAZAiAAAAAJkMABAAAMBkCIAAAgMkQAAEAAEyGAAgAAGAyBEAAAACTIQACAACYDAEQAADAZAiAAAAAJkMABAAAMBkCIAAAgMkQAAEAAEyGAAgAAGAyBEAAAACTIQACAACYDAEQAADAZAiAAAAAJkMABAAAMBkCIAAAgMkQAAEAAEyGAAgAAGAyBEAAAACTIQACAACYDAEQAADAZAiAQDWWmJgoi8WiJUuWOLqUMjVq1CgFBQU5uoxCVcbagoKCNGrUKEeXUaTKXh9QHREAAVyTrKwszZs3T3v27HF0KUCxXnvtNd1///1q3LixLBYLIRP4kxqOLgBA1ZKVlaX58+dLknr16uXYYiqhN954Q/n5+Y4uA5IWLVqkjIwMde7cWb/99pujywEqFQIgAJShmjVrOroEU7t06ZLy8/Pl4uKizz77zLb6V7t2bUeXBlQqfAQMlMK8efNksVh07NgxDRkyRF5eXqpXr56mTJmi7OzsAv3feustde7cWR4eHqpTp45uu+02ffrpp7bt7733ngYMGKCAgAC5urqqefPmWrBggfLy8kpd64svvqgmTZrI3d1dPXv21JEjR+y29+rVq9AVvT9f05aYmKgGDRpIkubPny+LxSKLxaJ58+YVu++ffvpJ999/v+rWrSsPDw916dJFH374oV2fPXv2yGKx6O2339azzz6rG264QW5uburTp49OnjxZ5NyGYSgoKEiDBg0qsC07O1ve3t56+OGHixx/5TrJtWvXFtj212PLyMjQ1KlTFRQUJFdXVzVs2FB33HGHDh48aOvz12sA/3wd5qpVq9S8eXO5urrqlltu0b59+wrsc8uWLQoODpabm5vatWunbdu2lfi6QsMw9Mwzz+iGG26Qh4eHbr/9dn3//feF9k1LS9PUqVMVGBgoV1dXtWjRQosWLSqwepmfn6+XXnpJ7du3l5ubmxo0aKCIiAjt37/f1ufSpUtasGCB7diCgoL05JNPKicnp1zr+/PPdtmyZbb9//DDD5KkJk2ayGKxXPXnBpgRK4BAGRgyZIiCgoIUHR2tb775RsuXL9cff/yh9evX2/rMnz9f8+bNU7du3fT000/LxcVF8fHx2rVrl/r27StJWrt2rWrXrq3p06erdu3a2rVrl+bMmSOr1arnn3/+uutbv369MjIyNHHiRGVnZ+ull15S7969dfjwYfn6+pZ4ngYNGui1117ThAkTdPfdd+uee+6RJN14441FjklOTla3bt2UlZWlyZMnq169elq3bp0GDhyorVu36u6777brv3DhQjk5Oemxxx5Tenq6Fi9erMjISMXHxxc6v8Vi0YMPPqjFixcrNTVVdevWtW17//33ZbVa9eCDD5b4GIvzj3/8Q1u3blVUVJSCg4P1+++/68svv9TRo0d18803Fzt248aNysjI0MMPPyyLxaLFixfrnnvu0U8//WRbNfzwww81dOhQtW/fXtHR0frjjz80ZswYNWrUqET1zZkzR88884z69++v/v376+DBg+rbt68uXrxo1y8rK0s9e/bUmTNn9PDDD6tx48b6+uuvNWvWLP32229atmyZre+YMWO0du1a9evXT2PHjtWlS5f0xRdf6JtvvlGnTp0kSWPHjtW6det033336dFHH1V8fLyio6N19OhRbdu2rVzrk6Q1a9YoOztb48ePl6urq92fAQBFMABct7lz5xqSjIEDB9q1P/LII4Yk49tvvzUMwzBOnDhhODk5GXfffbeRl5dn1zc/P9/231lZWQX28fDDDxseHh5Gdnb2NdeXkJBgSDLc3d2NX3/91dYeHx9vSDKmTZtma+vZs6fRs2fPAnOMHDnSaNKkie39uXPnDEnG3LlzS1TD1KlTDUnGF198YWvLyMgwmjZtagQFBdl+Hrt37zYkGW3btjVycnJsfV966SVDknH48OEiazp+/LghyXjttdfs9j1w4EAjKCjI7mf8V1d+RmvWrCmw7a/H6e3tbUycOLHY4/1rbVfmr1evnpGammprf++99wxJxvvvv29ra9++vXHDDTcYGRkZtrY9e/YYkuzmLExKSorh4uJiDBgwwO54n3zySUOSMXLkSFvbggULjFq1ahk//vij3RwzZ840nJ2djdOnTxuGYRi7du0yJBmTJ08usL8r+zh06JAhyRg7dqzd9scee8yQZOzatavc6rvys/Xy8jJSUlKK/fnUqlXLbh+A2fERMFAGJk6caPd+0qRJkqSPPvpIkrR9+3bl5+drzpw5cnKy/2v354+o3N3dbf+dkZGh8+fPq0ePHsrKytKxY8euu77BgwfbrSJ17txZoaGhtvrK00cffaTOnTure/futrbatWtr/PjxSkxMtH1cd8Xo0aPl4uJie9+jRw9Jlz9GLkqrVq0UGhqqDRs22NpSU1P18ccfKzIyssw+BvTx8VF8fLzOnj17zWOHDh2qOnXq2N7/9bjOnj2rw4cPa8SIEXbXq/Xs2VPt27e/6vz/+c9/dPHiRU2aNMnueKdOnVqg75YtW9SjRw/VqVNH58+ft73CwsKUl5enzz//XJL0zjvvyGKxaO7cuQXmuLKPK3+Gpk+fbrf90UcflSTbR/3lUd8V9957r+3SBAAlw0fAQBlo2bKl3fvmzZvLyclJiYmJkqRTp07JyclJwcHBxc7z/fffa/bs2dq1a5esVqvdtvT09DKrT7ocmt5+++3rnrOkfv75Z4WGhhZob9u2rW17u3btbO2NGze263clNP3xxx/F7mfEiBGKiorSzz//rCZNmmjLli3Kzc3VQw89VNpDsFm8eLFGjhypwMBAdezYUf3799eIESPUrFmzq4692nH9/PPPkqQWLVoUGNuiRQu76wwLc2X8X891gwYN7IKnJJ04cULfffddkaEpJSVF0uU/twEBAcV+pPrzzz/LycmpQN1+fn7y8fGx1VUe9V3RtGnTIusDUDgCIFAOrmfFKS0tTT179pSXl5eefvppNW/eXG5ubjp48KCeeOKJcn+0iMVikWEYBdrL4gaUa+Hs7Fxoe2G1/dmwYcM0bdo0bdiwQU8++aTeeustderUSa1bty52XFHnqrDjHjJkiHr06KFt27bp008/1fPPP69Fixbp3XffVb9+/Yrdz/UeV3nIz8/XHXfcoccff7zQ7a1atbrmOcvyZotrre/PK+cASoYACJSBEydO2K1CnDx5Uvn5+bY7N5s3b678/Hz98MMPCgkJKXSOPXv26Pfff9e7776r2267zdaekJBQJvX91Y8//mh3Z2mdOnUK/Zj1ysrNFdf6i75JkyY6fvx4gfYrH2k3adLkmuYrSt26dTVgwABt2LBBkZGR+uqrrwrcLFCYK6tPaWlpdu1/Pe4r/P399cgjj+iRRx5RSkqKbr75Zj377LNXDYBXc+XnUNgdz8XdBf3X8SdOnLBbkTx37lyB1dPmzZvrwoULCgsLK3bO5s2b65NPPilwc81f95ufn68TJ07YVnWlyzf/pKWl2eoqj/oAXD+uAQTKwIoVK+zev/zyy5JkCwWDBw+Wk5OTnn766QIreVdWgK6sEP15RejixYt69dVXS13f9u3bdebMGdv7vXv3Kj4+3i60NG/eXMeOHdO5c+dsbd9++62++uoru7k8PDwkFQxMRenfv7/27t2ruLg4W1tmZqZWrVqloKCgq34sfi0eeugh/fDDD5oxY4acnZ01bNiwq47x8vJS/fr1C1xX9tefe15eXoGP4Rs2bKiAgIACjzu5HgEBAWrXrp3Wr1+vCxcu2No/++wzHT58+Krjw8LCVLNmTb388st2f4YKC8FDhgxRXFycPvnkkwLb0tLSdOnSJUmXr60zDMP24O8/u7KP/v37F7qfpUuXSpIGDBhQbvUBuH6sAAJlICEhQQMHDlRERITi4uL01ltvafjw4erQoYOky9dw/fOf/9SCBQvUo0cP3XPPPXJ1ddW+ffsUEBCg6OhodevWTXXq1NHIkSM1efJkWSwW/etf/yr0I8I9e/bo9ttv19y5c6/6DL4r++/evbsmTJignJwcLVu2TPXq1bP7iO3vf/+7li5dqvDwcI0ZM0YpKSlauXKl/va3v9ldj+ju7q7g4GBt3rxZrVq1Ut26ddWuXTu76/j+bObMmfr3v/+tfv36afLkyapbt67WrVunhIQEvfPOOwVuiimNAQMGqF69etqyZYv69eunhg0blmjc2LFjtXDhQo0dO1adOnXS559/rh9//NGuT0ZGhm644Qbdd9996tChg2rXrq3//Oc/2rdvn1544YUyqf+5557ToEGDdOutt2r06NH6448/9Morr6hdu3Z2obAwDRo00GOPPabo6Gjdeeed6t+/v/773//q448/Vv369e36zpgxQzt27NCdd96pUaNGqWPHjsrMzNThw4e1detWJSYmqn79+rr99tv10EMPafny5Tpx4oQiIiKUn5+vL774QrfffruioqLUoUMHjRw5UqtWrbJdxrB3716tW7dOgwcP1u23315u9V3N+++/r2+//VaSlJubq++++07PPPOMJGngwIHFPr4IqPYcdfsxUB1ceQzMDz/8YNx3332Gp6enUadOHSMqKsr43//+V6D/6tWrjZtuuslwdXU16tSpY/Ts2dPYuXOnbftXX31ldOnSxXB3dzcCAgKMxx9/3Pjkk08MScbu3btt/d5//31DkrFy5cpi67vymIznn3/eeOGFF4zAwEDD1dXV6NGjh+0RNX/21ltvGc2aNTNcXFyMkJAQ45NPPinwWBPDMIyvv/7a6Nixo+Hi4lKiR8KcOnXKuO+++wwfHx/Dzc3N6Ny5s/HBBx/Y9bnyGJgtW7YUegx/fkxLYTVdceURPBs3biy2pj/LysoyxowZY3h7exuenp7GkCFDjJSUFLtjy8nJMWbMmGF06NDB8PT0NGrVqmV06NDBePXVV+3mKuoxMM8//3yB/Rb2s9u0aZPRpk0bw9XV1WjXrp2xY8cO49577zXatGlz1ePIy8sz5s+fb/j7+xvu7u5Gr169jCNHjhhNmjQp8AiUjIwMY9asWUaLFi0MFxcXo379+ka3bt2MJUuWGBcvXrT1u3TpkvH8888bbdq0MVxcXIwGDRoY/fr1Mw4cOGDrk5uba8yfP99o2rSpUbNmTSMwMNCYNWtWgUcXlXV9xf1sDePyuZBU6Kuwx/4AZmIxDAdcgQxUE/PmzdP8+fN17ty5Eq1IlJXHH39c//73v3Xy5Em5urpW2H6rgmnTpunNN99UUlKS7ePqqi4kJEQNGjTQzp07HV0KgGqCawCBKmj37t166qmnCH9/kZ2drbfeekv33ntvlQx/ubm5Ba5v27Nnj7799ttCv6YPAK4X1wACVVBh3yFrZikpKfrPf/6jrVu36vfff9eUKVMcXdJ1OXPmjMLCwvTggw8qICBAx44d08qVK+Xn56d//OMfji4PQDVCAARQ5f3www+KjIxUw4YNtXz58iIftVPZ1alTRx07dtT/+3//T+fOnVOtWrU0YMAALVy4UPXq1XN0eQCqEa4BBAAAMBmuAQQAADAZAiAAAIDJEAABAABMhptASiE/P19nz56Vp6dnmX4Rekm98cYbWr58uZKTk9WuXTs9//zz6tixY6F9BwwYoC+//LJAe9++fbVlyxbl5uZqwYIF2rlzpxITE+Xl5aVevXpp3rx58vf3N1WtAIDqzTAMZWRkKCAgoEy/jagq4SaQUvj1118VGBjo6DIAAMB1+OWXX3TDDTc4ugyHYAWwFDw9PSVd/gPk5eVVofvu3bu3br75Zi1ZskTS5dXI4OBgjR8/XtOnT7/q+FdffVXPPfecjh8/rlq1ahXa58CBA+rdu7eOHDlSqqBblWoFAFR/VqtVgYGBtt/jZkQALIUrH/t6eXlVaAC8ePGiDh06pNmzZ9vt94477tB///vfEtWyYcMGDRs2rNiPTPPy8mSxWBQYGHjdx1eVagUAmIsjLt+qLMz5wXcVd/78eeXl5cnX19eu3dfXV0lJSVcdv3fvXh05ckRjx44tsk92draeeOIJPfDAA6UKVFWpVgAAzIIAaEJvvvmm2rdvr86dOxe6PTc3V0OGDJFhGHrttdcquDp7ValWAACqCgJgFVS/fn05OzsrOTnZrj05OVl+fn7Fjs3MzNSmTZs0ZsyYQrdfCVQ///yzdu7cWeoVtapUKwAAZsE1gFWQi4uLOnbsqNjYWA0ePFjS5RsrYmNjFRUVVezYLVu2KCcnRw8++GCBbVcC1YkTJ7R79+4y+e7RqlQrAJSEYRi6dOmS8vLyHF0KiuDs7KwaNWqY+hq/qyEAVlHTp0/XyJEj1alTJ3Xu3FnLli1TZmamRo8eLUkaMWKEGjVqpOjoaLtxb775pgYPHlwgMOXm5uq+++7TwYMH9cEHHygvL892jV7dunXl4uJiiloBoDgXL17Ub7/9pqysLEeXgqvw8PCQv78/vxOKQACsooYOHapz585pzpw5SkpKUkhIiGJiYmw3W5w+fbrAwy2PHz+uL7/8Up9++mmB+c6cOaMdO3ZIkkJCQuy27d69W7169TJFrQBQlPz8fCUkJMjZ2VkBAQFycXFhhakSMgxDFy9e1Llz55SQkKCWLVua9mHPxeFB0KVgtVrl7e2t9PR0rj8DgGouOztbCQkJatKkiTw8PBxdDq4iKytLP//8s5o2bSo3Nze7bfz+5iYQAACuCatJVQPnqXj8dAAAAEyGAAgAQDXXq1cvTZ06VZIUFBSkZcuWlWq+efPmFbgGu6h+vr6+slgs2r59e6n2ibLFTSAAAJRS0MwPK3R/iQsHXPfYffv2Ffm96mXp6NGjmj9/vrZt26YuXbqoTp06ZTLvqFGjlJaWRqAsJQIgAAAm0qBBgwrZz6lTpyRJgwYN4m7pSoiPgAEAMJG/fgRssVj0+uuv684775SHh4fatm2ruLg4nTx5Ur169VKtWrXUrVs3W6D7s9dff12BgYHy8PDQkCFDlJ6eLunyR7933XWXpMs3Y1wJgPn5+Xr66ad1ww03yNXV1fZYsD87fPiwevfuLXd3d9WrV0/jx4/XhQsXbPOuW7dO7733niwWiywWi/bs2VMOP6XqjxXASqyiP1K4Xoluwx1dQsnNS3d0BQBQ6SxYsEBLly7V0qVL9cQTT2j48OFq1qyZZs2apcaNG+vvf/+7oqKi9PHHH9vGnDx5Um+//bbef/99Wa1WjRkzRo888og2bNigxx57TEFBQRo9erR+++0325iXXnpJL7zwgl5//XXddNNNWr16tQYOHKjvv/9eLVu2VGZmpsLDw9W1a1ft27dPKSkpGjt2rKKiorR27Vo99thjOnr0qKxWq9asWSPp8hcA4NqxAggAgMmNHj1aQ4YMUatWrfTEE08oMTFRkZGRCg8PV9u2bTVlypQCK23Z2dlav369QkJCdNttt+nll1/Wpk2blJSUpNq1a8vHx0eS5OfnZ/vu9yVLluiJJ57QsGHD1Lp1ay1atEghISG2FcmNGzfa5m3Xrp169+6tV155Rf/617+UnJys2rVry93dXa6urrZ5+aaP60MABADA5G688Ubbf1/5lqb27dvbtWVnZ8tqtdraGjdurEaNGtned+3aVfn5+Tp+/Hih+7BarTp79qxuvfVWu/Zbb71VR48elXT5xpEOHTrY3aRy6623Fjsvrg8BEAAAk6tZs6btv69cr1dYW35+fsUWhnJDAAQAANfs9OnTOnv2rO39N998IycnJ7Vu3brQ/l5eXgoICNBXX31l1/7VV18pODhYktS2bVt9++23yszMtNv+53ldXFyUl5dX1odjOgRAAABwzdzc3DRy5Eh9++23+uKLLzR58mQNGTLEdr1fYWbMmKFFixZp8+bNOn78uGbOnKlDhw5pypQpkqTIyEjbvEeOHNHu3bs1adIkPfTQQ7aPpoOCgvTdd9/p+PHjOn/+vHJzcyvkeKsb7gIGAADXrEWLFrrnnnvUv39/paam6s4779Srr75a7JjJkycrPT1djz76qFJSUhQcHKwdO3aoZcuWkiQPDw998sknmjJlim655RZ5eHjo3nvv1dKlS21zjBs3Tnv27FGnTp104cIF7d69W7169SrPQ62WLIZhGI4uoqqyWq3y9vZWenq6vLy8ynx+HgNTDngMDIDrlJ2drYSEBDVt2lRubm6OLgdXUdz5Ku/f31UBHwEDAACYDAEQAADAZAiAAAAAJkMABAAAMBkCIAAAgMkQAAEAAEyGAAgAAGAyBEAAAACTIQACAACYDAEQAIBqrlevXpo6daqjy0AlwncBAwBQWvO8K3h/fK0lSocVQAAAAJMhAAIAYDIffvihvL29tWHDBo0aNUqDBw/WkiVL5O/vr3r16mnixInKzc219c/JydFjjz2mRo0aqVatWgoNDdWePXvs5vzyyy/Vo0cPubu7KzAwUJMnT1ZmZmYFHxlKigAIAICJbNy4UQ888IA2bNigyMhISdLu3bt16tQp7d69W+vWrdPatWu1du1a25ioqCjFxcVp06ZN+u6773T//fcrIiJCJ06ckCSdOnVKERERuvfee/Xdd99p8+bN+vLLLxUVFeWIQ0QJEAABADCJFStW6JFHHtH777+vO++809Zep04dvfLKK2rTpo3uvPNODRgwQLGxsZKk06dPa82aNdqyZYt69Oih5s2b67HHHlP37t21Zs0aSVJ0dLQiIyM1depUtWzZUt26ddPy5cu1fv16ZWdnO+RYUTxuAgEAwAS2bt2qlJQUffXVV7rlllvstv3tb3+Ts7Oz7b2/v78OHz4sSTp8+LDy8vLUqlUruzE5OTmqV6+eJOnbb7/Vd999pw0bNti2G4ah/Px8JSQkqG3btuV1WLhOBEAAAEzgpptu0sGDB7V69Wp16tRJFovFtq1mzZp2fS0Wi/Lz8yVJFy5ckLOzsw4cOGAXEiWpdu3atj4PP/ywJk+eXGC/jRs3LutDQRmoVh8Br1ixQkFBQXJzc1NoaKj27t1bbP+0tDRNnDhR/v7+cnV1VatWrfTRRx9VULUAAFSc5s2ba/fu3Xrvvfc0adKkEo+76aablJeXp5SUFLVo0cLu5efnJ0m6+eab9cMPPxTY3qJFC7m4uJTXIaEUqk0A3Lx5s6ZPn665c+fq4MGD6tChg8LDw5WSklJo/4sXL+qOO+5QYmKitm7dquPHj+uNN95Qo0aNKrhyAAAqRqtWrbR792698847JX4wdKtWrRQZGakRI0bo3XffVUJCgvbu3avo6Gh9+OGHkqQnnnhCX3/9taKionTo0CGdOHFC7733HjeBVGLV5iPgpUuXaty4cRo9erQkaeXKlfrwww+1evVqzZw5s0D/1atXKzU1VV9//bVt6TsoKKgiSwYAoMK1bt1au3btUq9evQp8pFuUNWvW6JlnntGjjz6qM2fOqH79+urSpYvtRpIbb7xRn332mf75z3+qR48eMgxDzZs319ChQ8vzUFAKFsMwDEcXUVoXL16Uh4eHtm7dqsGDB9vaR44cqbS0NL333nsFxvTv319169aVh4eH3nvvPTVo0EDDhw/XE088UeK/EFarVd7e3kpPT5eXl1dZHY5N0MwPy3zO8pDoNtzRJZQcT88HcJ2ys7OVkJCgpk2bys3NzdHl4CqKO1/l/fu7KqgWK4Dnz59XXl6efH197dp9fX117NixQsf89NNP2rVrlyIjI/XRRx/p5MmTeuSRR5Sbm6u5c+cWOiYnJ0c5OTm291artewOAgAAoIJUm2sAr1V+fr4aNmyoVatWqWPHjho6dKj++c9/auXKlUWOiY6Olre3t+0VGBhYgRUDAACUjWoRAOvXry9nZ2clJyfbtScnJ9vuUPorf39/tWrVyu7j3rZt2yopKUkXL14sdMysWbOUnp5ue/3yyy9ldxAAAAAVpFoEQBcXF3Xs2NH21HLp8gpfbGysunbtWuiYW2+9VSdPnrQ950iSfvzxR/n7+xd5y7qrq6u8vLzsXgAAAFVNtQiAkjR9+nS98cYbWrdunY4ePaoJEyYoMzPTdlfwiBEjNGvWLFv/CRMmKDU1VVOmTNGPP/6oDz/8UM8995wmTpzoqEMAAACoENXiJhBJGjp0qM6dO6c5c+YoKSlJISEhiomJsd0Ycvr0aTk5/V/eDQwM1CeffKJp06bpxhtvVKNGjTRlyhQ98cQTjjoEAEAVUA0enmEKnKfiVZsAKElRUVFFPnRyz549Bdq6du2qb775ppyrAgBUB1eeGZuVlSV3d3cHV4OrycrKklTwa+5wWbUKgAAAlBdnZ2f5+PjYvmHKw8PD7vt0UTkYhqGsrCylpKTIx8enxM/2NRsCIAAAJXTlyRJFfc0oKg8fH58inwQCAiAAACVmsVjk7++vhg0bKjc319HloAg1a9Zk5e8qCIAAAFwjZ2dnAgaqtGrzGBgAAACUDAEQAADAZAiAAAAAJkMABAAAMBkCIAAAgMkQAAEAAEyGAAgAAGAyBEAAAACTIQACAACYDAEQAADAZAiAAAAAJkMABAAAMBkCIAAAgMkQAAEAAEyGAAgAAGAyBEAAAACTIQACAACYDAEQAADAZAiAAAAAJkMABAAAMBkCIAAAgMkQAAEAAEyGAAgAAGAyBEAAAACTIQACAACYDAEQAADAZAiAAAAAJkMABAAAMBkCIAAAgMkQAAEAAEyGAAgAAGAyBEAAAACTIQACAACYDAEQAADAZKpVAFyxYoWCgoLk5uam0NBQ7d27t0TjNm3aJIvFosGDB5dvgQAAAJVAtQmAmzdv1vTp0zV37lwdPHhQHTp0UHh4uFJSUoodl5iYqMcee0w9evSooEoBAAAcq9oEwKVLl2rcuHEaPXq0goODtXLlSnl4eGj16tVFjsnLy1NkZKTmz5+vZs2aVWC1AAAAjlMtAuDFixd14MABhYWF2dqcnJwUFhamuLi4Isc9/fTTatiwocaMGVMRZQIAAFQKNRxdQFk4f/688vLy5Ovra9fu6+urY8eOFTrmyy+/1JtvvqlDhw6VeD85OTnKycmxvbdarddVLwAAgCNVixXAa5WRkaGHHnpIb7zxhurXr1/icdHR0fL29ra9AgMDy7FKAACA8lEtVgDr168vZ2dnJScn27UnJyfLz8+vQP9Tp04pMTFRd911l60tPz9fklSjRg0dP35czZs3LzBu1qxZmj59uu291WolBAIAgCqnWgRAFxcXdezYUbGxsbZHueTn5ys2NlZRUVEF+rdp00aHDx+2a5s9e7YyMjL00ksvFRnqXF1d5erqWub1AwAAVKRqEQAlafr06Ro5cqQ6deqkzp07a9myZcrMzNTo0aMlSSNGjFCjRo0UHR0tNzc3tWvXzm68j4+PJBVoBwAAqG6qTQAcOnSozp07pzlz5igpKUkhISGKiYmx3Rhy+vRpOTmZ8pJHAAAAOxbDMAxHF1FVWa1WeXt7Kz09XV5eXmU+f9DMD8t8zvKQ6Dbc0SWU3Lx0R1cAAHCw8v79XRWwJAYAAGAyBEAAAACTIQACAACYDAEQAADAZAiAAAAAJkMABAAAMBkCIAAAgMkQAAEAAEyGAAgAAGAyBEAAAACTIQACAACYDAEQAADAZAiAAAAAJkMABAAAMBkCIAAAgMkQAAEAAEyGAAgAAGAyBEAAAACTIQACAACYDAEQAADAZAiAAAAAJkMABAAAMBkCIAAAgMkQAAEAAEyGAAgAAGAyBEAAAACTIQACAACYDAEQAADAZAiAAAAAJkMABAAAMBkCIAAAgMkQAAEAAEyGAAgAAGAyBEAAAACTIQACAACYDAEQAADAZAiAAAAAJkMABAAAMJlqFQBXrFihoKAgubm5KTQ0VHv37i2y7xtvvKEePXqoTp06qlOnjsLCwortDwAAUF1UmwC4efNmTZ8+XXPnztXBgwfVoUMHhYeHKyUlpdD+e/bs0QMPPKDdu3crLi5OgYGB6tu3r86cOVPBlQMAAFQsi2EYhqOLKAuhoaG65ZZb9Morr0iS8vPzFRgYqEmTJmnmzJlXHZ+Xl6c6derolVde0YgRI0q0T6vVKm9vb6Wnp8vLy6tU9RcmaOaHZT5neUh0G+7oEkpuXrqjKwAAOFh5//6uCqrFCuDFixd14MABhYWF2dqcnJwUFhamuLi4Es2RlZWl3Nxc1a1bt7zKBAAAqBRqOLqAsnD+/Hnl5eXJ19fXrt3X11fHjh0r0RxPPPGEAgIC7ELkX+Xk5CgnJ8f23mq1Xl/BAAAADlQtVgBLa+HChdq0aZO2bdsmNze3IvtFR0fL29vb9goMDKzAKgEAAMpGtQiA9evXl7Ozs5KTk+3ak5OT5efnV+zYJUuWaOHChfr000914403Ftt31qxZSk9Pt71++eWXUtcOAABQ0apFAHRxcVHHjh0VGxtra8vPz1dsbKy6du1a5LjFixdrwYIFiomJUadOna66H1dXV3l5edm9AAAAqppqcQ2gJE2fPl0jR45Up06d1LlzZy1btkyZmZkaPXq0JGnEiBFq1KiRoqOjJUmLFi3SnDlztHHjRgUFBSkpKUmSVLt2bdWuXdthxwEAAFDeqk0AHDp0qM6dO6c5c+YoKSlJISEhiomJsd0Ycvr0aTk5/d+C52uvvaaLFy/qvvvus5tn7ty5mjdvXkWWDgAAUKGqzXMAHYHnAF7GcwABAFUJzwGsJtcAAgAAoOQIgAAAACZDAAQAADAZAiAAAIDJEAABAABMhgAIAABgMgRAAAAAkyEAAgAAmAwBEAAAwGQIgAAAACZDAAQAADAZAiAAAIDJEAABAABMhgAIAABgMgRAAAAAkyEAAgAAmAwBEAAAwGQIgAAAACZDAAQAADAZAiAAAIDJEAABAABMhgAIAABgMgRAAAAAkyEAAgAAmEyZBECr1VoW0wAAAKAClEkArFOnjlJSUiRJvXv3VlpaWllMCwAAgHJQJgGwdu3a+v333yVJe/bsUW5ubllMCwAAgHJQoywmCQsL0+233662bdtKku6++265uLgU2nfXrl1lsUsAAABcpzIJgG+99ZbWrVunU6dO6bPPPtPf/vY3eXh4lMXUAAAAKGNlEgDd3d31j3/8Q5K0f/9+LVq0SD4+PmUxNQAAAMpYmQTAP9u9e3dZTwkAAIAyVOYBUJJ+/fVX7dixQ6dPn9bFixftti1durQ8dgkAAIASKvMAGBsbq4EDB6pZs2Y6duyY2rVrp8TERBmGoZtvvrmsdwcAAIBrVObfBDJr1iw99thjOnz4sNzc3PTOO+/ol19+Uc+ePXX//feX9e4AAABwjco8AB49elQjRoyQJNWoUUP/+9//VLt2bT399NNatGhRWe8OAAAA16jMA2CtWrVs1/35+/vr1KlTtm3nz58v690BAADgGpX5NYBdunTRl19+qbZt26p///569NFHdfjwYb377rvq0qVLWe8OAAAA16jMA+DSpUt14cIFSdL8+fN14cIFbd68WS1btuQOYAAAgEqgzD8Cfu6555Samirp8sfBK1eu1Hfffad33nlHTZo0Kevd2VmxYoWCgoLk5uam0NBQ7d27t9j+W7ZsUZs2beTm5qb27dvro48+Ktf6AAAAKoMyD4Dnzp1TRESEAgMDNWPGDH377bdlvYtCbd68WdOnT9fcuXN18OBBdejQQeHh4UpJSSm0/9dff60HHnhAY8aM0X//+18NHjxYgwcP1pEjRyqkXgAAAEexGIZhlPWkf/zxh7Zs2aKNGzfqiy++UJs2bRQZGanhw4crKCiorHcnSQoNDdUtt9yiV155RZKUn5+vwMBATZo0STNnzizQf+jQocrMzNQHH3xga+vSpYtCQkK0cuXKEu3TarXK29tb6enp8vLyKpsD+ZOgmR+W+ZzlIdFtuKNLKLl56Y6uAADgYOX9+7sqKPMVQEmqU6eOxo8frz179ujnn3/WqFGj9K9//UstWrQoj93p4sWLOnDggMLCwmxtTk5OCgsLU1xcXKFj4uLi7PpLUnh4eJH9AQAAqoty+Sq4K3Jzc7V//37Fx8crMTFRvr6+5bKf8+fPKy8vr8D8vr6+OnbsWKFjkpKSCu2flJRU5H5ycnKUk5Nje2+1WktRNQAAgGOUSwDcvXu3Nm7cqHfeeUf5+fm655579MEHH6h3797lsbsKEx0drfnz51fY/hIXDqiwfZUOH6ter6ryMb/ER/2lwXkuJ5zn61ZlznMlO8fVSZkHwEaNGik1NVURERFatWqV7rrrLrm6upb1buzUr19fzs7OSk5OtmtPTk6Wn59foWP8/Pyuqb90+Wvupk+fbntvtVoVGBhYisoBAAAqXpkHwHnz5un++++Xj49PWU9dJBcXF3Xs2FGxsbEaPHiwpMs3gcTGxioqKqrQMV27dlVsbKymTp1qa9u5c6e6du1a5H5cXV3LPcwCAFDuWFkzvTIPgOPGjSvrKUtk+vTpGjlypDp16qTOnTtr2bJlyszM1OjRoyVJI0aMUKNGjRQdHS1JmjJlinr27KkXXnhBAwYM0KZNm7R//36tWrXKIfUDAABUlHK9CaQiDR06VOfOndOcOXOUlJSkkJAQxcTE2G70OH36tJyc/u+m527dumnjxo2aPXu2nnzySbVs2VLbt29Xu3btHHUIAAAAFaJcngNoFjxHCKXFRePlpJJ9vMV5LieV7Dyj6uD3dzk9BxAAAACVFwEQAADAZAiAAACgAMMwNGfOHPn7+8vd3V1hYWE6ceLEVcetWLFCQUFBcnNzU2hoqPbu3Wu3fdWqVerVq5e8vLxksViUlpZWTkeA4hAAAQBAAYsXL9by5cu1cuVKxcfHq1atWgoPD1d2dnaRYzZv3qzp06dr7ty5OnjwoDp06KDw8HClpKTY+mRlZSkiIkJPPvlkRRwGikAABACggpTHqlpqaqomTZqk1q1by93dXY0bN9bkyZOVnn79N8kYhqFly5Zp9uzZGjRokG688UatX79eZ8+e1fbt24sct3TpUo0bN06jR49WcHCwVq5cKQ8PD61evdrWZ+rUqZo5c6a6dOly3fWh9AiAAABUkPJYVTt79qzOnj2rJUuW6MiRI1q7dq1iYmI0ZsyY664zISFBSUlJCgsLs7V5e3srNDRUcXFxhY65ePGiDhw4YDfGyclJYWFhRY6B4xAAAQCoAOW1qtauXTu98847uuuuu9S8eXP17t1bzz77rN5//31dunTpumpNSkqSJNuzdK/w9fW1bfur8+fPKy8v75rGwHEIgAAAVICKXFW78ny7GjVK9n0PGzZsUO3atW2v3NzcEh4Vqqpq800gAABUZmW9qnbs2LEixyxYsEDjx48vcW0DBw5UaGio7X1OTo4kKTk5Wf7+/rb25ORkhYSEFDpH/fr15ezsrOTkZLv25ORk+fn5lbgWVAxWAAEAKAeOWFWzWq0aMGCAgoODNW/evBKP8/T0VIsWLWyv4OBg+fn5KTY21m7u+Ph4de3atdA5XFxc1LFjR7sx+fn5io2NLXIMHIcVQAAAykFFr6plZGQoIiJCnp6e2rZtm2rWrHndtVssFk2dOlXPPPOMWrZsqaZNm+qpp55SQECABg8ebOvXp08f3X333YqKipIkTZ8+XSNHjlSnTp3UuXNnLVu2TJmZmRo9erRtTFJSkpKSknTy5ElJ0uHDh+Xp6anGjRurbt26110zrg0BEACAcuDp6SlPT0/be8MwbKtqVwLflVW1CRMmFDrHn1fVrgSvK6tqV0LXlXnCw8Pl6uqqHTt2yM3NrdT1P/7448rMzNT48eOVlpam7t27KyYmxm7uU6dO6fz587b3Q4cO1blz5zRnzhwlJSUpJCREMTExdh9hr1y5UvPnz7e9v+222yRJa9as0ahRo0pdN0rGYhiG4egiqiq+TBqlFTTzQ0eXUGKJbsMdXULJzbv+55+VB85zOalk57kkFi1apIULF2rdunW2VbXvvvtOP/zwgy1Y/XVVbfPmzRo5cqRef/1126ra22+/rWPHjsnX11dWq1V9+/ZVVlaWtm3bplq1atn216BBAzk7OzvkWCszfn+zAggAQIUpj1W1gwcPKj4+XpLUokULu/0lJCQoKCio/A8MVQ4rgKXA/0GgtFgZKieVbGWI81xOKtl5RtXB72/uAgYAADAdAiAAAIDJEAABAABMhgAIAABgMgRAAAAAkyEAAgAAmAzPAQQcKHHhAEeXUHLzHF0AAKCssAIIAABgMgRAAAAAkyEAAgAAmAwBEAAAwGQIgEAlZxiG5syZI39/f7m7uyssLEwnTpwodsznn3+uu+66SwEBAbJYLNq+fXuBPu+++6769u2revXqyWKx6NChQ+VzAACASocACFRyixcv1vLly7Vy5UrFx8erVq1aCg8PV3Z2dpFjMjMz1aFDB61YsaLYPt27d9eiRYvKo2wAQCXGY2CASswwDC1btkyzZ8/WoEGDJEnr16+Xr6+vtm/frmHDhhU6rl+/furXr1+xcz/00EOSpMTExDKtGQBQ+bECCFRiCQkJSkpKUlhYmK3N29tboaGhiouLc2BlAICqjAAIVGJJSUmSJF9fX7t2X19f2zYAAK4VARCoRDZs2KDatWvbXrm5uY4uCQBQDXENIFCJDBw4UKGhobb3OTk5kqTk5GT5+/vb2pOTkxUSElLR5QEAqgkCIFCJeHp6ytPT0/beMAz5+fkpNjbWFvisVqvi4+M1YcIEB1UJAKjqCIBAJWaxWDR16lQ988wzatmypZo2baqnnnpKAQEBGjx4sK1fnz59dPfddysqKkqSdOHCBZ08edK2PSEhQYcOHVLdunXVuHFjSVJqaqpOnz6ts2fPSpKOHz8uSfLz85Ofn18FHSEAwBEIgEAl9/jjjyszM1Pjx49XWlqaunfvrpiYGLm5udn6nDp1SufPn7e9379/v26//Xbb++nTp0uSRo4cqbVr10qSduzYodGjR9v6XHmkzNy5czVv3rxyPCIAgKNZDMMwHF1EVWW1WuXt7a309HR5eXk5uhygfM3zdnQFJTcv3dEV2Ama+aGjSyixRLfhji6h5CrZeUbVwe9v7gIGAAAwHQIgAACAyVSLAJiamqrIyEh5eXnJx8dHY8aM0YULF4rtP2nSJLVu3Vru7u5q3LixJk+erPR0Pk4AAADVX7UIgJGRkfr++++1c+dOffDBB/r88881fvz4IvufPXtWZ8+e1ZIlS3TkyBGtXbtWMTExGjNmTAVWDQAA4BhV/i7go0ePKiYmRvv27VOnTp0kSS+//LL69++vJUuWKCAgoMCYdu3a6Z133rG9b968uZ599lk9+OCDunTpkmrUqPI/FgAAgCJV+RXAuLg4+fj42MKfJIWFhcnJyUnx8fElnufKnUDFhb+cnBxZrVa7FwAAQFVT5QNgUlKSGjZsaNdWo0YN1a1bV0lJSSWa4/z581qwYEGxHxtLUnR0tLy9vW2vwMDA664bAADAUSptAJw5c6YsFkuxr2PHjpV6P1arVQMGDFBwcPBVH347a9Yspaen216//PJLqfcPAABQ0SrtxW6PPvqoRo0aVWyfZs2ayc/PTykpKXbtly5dUmpq6lW/ziojI0MRERHy9PTUtm3bVLNmzWL7u7q6ytXVtUT1AwAAVFaVNgA2aNBADRo0uGq/rl27Ki0tTQcOHFDHjh0lSbt27VJ+fr5CQ0OLHGe1WhUeHi5XV1ft2LHD7mu1AAAAqrNK+xFwSbVt21YREREaN26c9u7dq6+++kpRUVEaNmyY7Q7gM2fOqE2bNtq7d6+ky+Gvb9++yszM1Jtvvimr1aqkpCQlJSUpLy/PkYcDAABQ7irtCuC12LBhg6KiotSnTx85OTnp3nvv1fLly23bc3Nzdfz4cWVlZUmSDh48aLtDuEWLFnZzJSQkKCgoqMJqBwAAqGjVIgDWrVtXGzduLHJ7UFCQDMOwve/Vq5fdewAAADOp8h8BAwAA4NoQAAEAAEyGAAgAAGAy1eIaQAAVYF66oysAAJQRVgABAABMhgAIAABgMgRAAAAAkyEAAgAAmAwBEECZMQxDc+bMkb+/v9zd3RUWFqYTJ04UOyY6Olq33HKLPD091bBhQw0ePFjHjx8vcv5+/frJYrFo+/bt5XAEAGAOBEAAZWbx4sVavny5Vq5cqfj4eNWqVUvh4eHKzs4ucsxnn32miRMn6ptvvtHOnTuVm5tr+67uv1q2bJksFkt5HgIAmAKPgQFQJgzD0LJlyzR79mwNGjRIkrR+/Xr5+vpq+/btGjZsWKHjYmJi7N6vXbtWDRs21IEDB3TbbbfZ2g8dOqQXXnhB+/fvl7+/f/kdCACYACuAAMpEQkKCkpKSFBYWZmvz9vZWaGio4uLiSjxPevrl5w3WrVvX1paVlaXhw4drxYoV8vPzK7uiAcCkCIAAykRSUpIkydfX167d19fXtu1q8vPzNXXqVN16661q166drX3atGnq1q2bbWURAFA6BEAA12XDhg2qXbu27ZWbm1vqOSdOnKgjR45o06ZNtrYdO3Zo165dWrZsWannBwBcxjWAAK7LwIEDFRoaanufk5MjSUpOTra7Ri85OVkhISFXnS8qKkoffPCBPv/8c91www229l27dunUqVPy8fGx63/vvfeqR48e2rNnT6mOAwDMiAAI4Lp4enrK09PT9t4wDPn5+Sk2NtYW+KxWq+Lj4zVhwoQi5zEMQ5MmTdK2bdu0Z88eNW3a1G77zJkzNXbsWLu29u3b68UXX9Rdd91VdgcEACZCAARQJiwWi6ZOnapnnnlGLVu2VNOmTfXUU08pICBAgwcPtvXr06eP7r77bkVFRUm6/LHvxo0b9d5778nT09N2vaC3t7fc3d3l5+dX6I0fjRs3LhAWAQAlQwAEUGYef/xxZWZmavz48UpLS1P37t0VExMjNzc3W59Tp07p/PnztvevvfaaJKlXr152c61Zs0ajRo2qiLIBwHQshmEYji6iqrJarfL29lZ6erq8vLwcXQ6ASipo5oeOLqHEEt2GO7qEkpuX7ugKUEXx+5u7gAEAAEyHAAgAAGAyBEAAAACTIQACAACYDAEQAADAZAiAAAAAJkMABAAAMBkCIAAAgMkQAAEAAEyGAAgAAGAyBEAAAACTIQACAACYDAEQAADAZAiAAAAAJkMABAAAMBkCIAAAgMkQAAEAAEyGAAgAAGAyBEAAAACTqRYBMDU1VZGRkfLy8pKPj4/GjBmjCxculGisYRjq16+fLBaLtm/fXr6FAgAAVALVIgBGRkbq+++/186dO/XBBx/o888/1/jx40s0dtmyZbJYLOVcIQAAQOVRw9EFlNbRo0cVExOjffv2qVOnTpKkl19+Wf3799eSJUsUEBBQ5NhDhw7phRde0P79++Xv719RJQMAADhUlV8BjIuLk4+Pjy38SVJYWJicnJwUHx9f5LisrCwNHz5cK1askJ+fX4n2lZOTI6vVavcCAACoaqp8AExKSlLDhg3t2mrUqKG6desqKSmpyHHTpk1Tt27dNGjQoBLvKzo6Wt7e3rZXYGDgddcNAADgKJU2AM6cOVMWi6XY17Fjx65r7h07dmjXrl1atmzZNY2bNWuW0tPTba9ffvnluvYPAADgSJX2GsBHH31Uo0aNKrZPs2bN5Ofnp5SUFLv2S5cuKTU1tciPdnft2qVTp07Jx8fHrv3ee+9Vjx49tGfPnkLHubq6ytXVtaSHAAAAUClV2gDYoEEDNWjQ4Kr9unbtqrS0NB04cEAdO3aUdDng5efnKzQ0tNAxM2fO1NixY+3a2rdvrxdffFF33XVX6YsHAACoxCptACyptm3bKiIiQuPGjdPKlSuVm5urqKgoDRs2zHYH8JkzZ9SnTx+tX79enTt3lp+fX6Grg40bN1bTpk0r+hAAAAAqVKW9BvBabNiwQW3atFGfPn3Uv39/de/eXatWrbJtz83N1fHjx5WVleXAKgEAACqHKr8CKEl169bVxo0bi9weFBQkwzCKneNq2wEAAKqLarECCAAAgJIjAAIAAJgMARAAAMBkCIAAAAAmQwAEAAAwGQIgAACAyRAAAQAATIYACAAAYDLV4kHQAFCZJS4c4OgSSm6eowsAUBFYAQQAADAZAiAAAIDJEAABAABMhgAIAABgMgRAAKgEDMPQnDlz5O/vL3d3d4WFhenEiRMlHr9w4UJZLBZNnTq1wLa4uDj17t1btWrVkpeXl2677Tb973//K8PqAVQ1BEAAqAQWL16s5cuXa+XKlYqPj1etWrUUHh6u7Ozsq47dt2+fXn/9dd14440FtsXFxSkiIkJ9+/bV3r17tW/fPkVFRcnJiX/+ATPjXwAAcDDDMLRs2TLNnj1bgwYN0o033qj169fr7Nmz2r59e7FjL1y4oMjISL3xxhuqU6dOge3Tpk3T5MmTNXPmTP3tb39T69atNWTIELm6upbT0QCoCgiAAOBgCQkJSkpKUlhYmK3N29tboaGhiouLK3bsxIkTNWDAALuxV6SkpCg+Pl4NGzZUt27d5Ovrq549e+rLL78s82MAULUQAAHAwZKSkiRJvr6+du2+vr62bYXZtGmTDh48qOjo6EK3//TTT5KkefPmady4cYqJidHNN9+sPn36XNP1hQCqHwIgAFSwDRs2qHbt2rZXbm7uNc/xyy+/aMqUKdqwYYPc3NwK7ZOfny9JevjhhzV69GjddNNNevHFF9W6dWutXr26VMcAoGrjq+AAoIINHDhQoaGhtvc5OTmSpOTkZPn7+9vak5OTFRISUugcBw4cUEpKim6++WZbW15enj7//HO98sorysnJsc0VHBxsN7Zt27Y6ffp0WR0OgCqIAAgAFczT01Oenp6294ZhyM/PT7GxsbbAZ7VaFR8frwkTJhQ6R58+fXT48GG7ttGjR6tNmzZ64okn5OzsrKCgIAUEBOj48eN2/X788Uf169evbA8KQJVCAAQAB7vy/L5nnnlGLVu2VNOmTfXUU08pICBAgwcPtvXr06eP7r77bkVFRcnT01Pt2rWzm6dWrVqqV6+erd1isWjGjBmaO3euOnTooJCQEK1bt07Hjh3T1q1bK/IQAVQyBEAAqAQef/xxZWZmavz48UpLS1P37t0VExNjd33fqVOndP78+Wuad+rUqcrOzta0adOUmpqqDh06aOfOnWrevHlZHwKAKsRiGIbh6CKqKqvVKm9vb6Wnp8vLy8vR5QBA6c3zdnQFJTcv3dEVoIri9zd3AQMAAJgOARAAAMBkCIAAAAAmQwAEAAAwGQIgAACAyRAAAQAATIYACAAAYDIEQAAAAJMhAAIAAJgMARAAAMBkCIAAAAAmQwAEAAAwGQIgAACAyRAAAQAATKZaBMDU1FRFRkbKy8tLPj4+GjNmjC5cuHDVcXFxcerdu7dq1aolLy8v3Xbbbfrf//5XARUDAAA4TrUIgJGRkfr++++1c+dOffDBB/r88881fvz4YsfExcUpIiJCffv21d69e7Vv3z5FRUXJyala/EgAAACKZDEMw3B0EaVx9OhRBQcHa9++ferUqZMkKSYmRv3799evv/6qgICAQsd16dJFd9xxhxYsWHDd+7ZarfL29lZ6erq8vLyuex4AqDTmeTu6gpKbl+7oClBF8fu7GqwAxsXFycfHxxb+JCksLExOTk6Kj48vdExKSori4+PVsGFDdevWTb6+vurZs6e+/PLLYveVk5Mjq9Vq9wIAAKhqqnwATEpKUsOGDe3aatSoobp16yopKanQMT/99JMkad68eRo3bpxiYmJ08803q0+fPjpx4kSR+4qOjpa3t7ftFRgYWHYHAgAAUEEqbQCcOXOmLBZLsa9jx45d19z5+fmSpIcfflijR4/WTTfdpBdffFGtW7fW6tWrixw3a9Yspaen216//PLLde0fAADAkWo4uoCiPProoxo1alSxfZo1ayY/Pz+lpKTYtV+6dEmpqany8/MrdJy/v78kKTg42K69bdu2On36dJH7c3V1laurawmqBwAAqLwqbQBs0KCBGjRocNV+Xbt2VVpamg4cOKCOHTtKknbt2qX8/HyFhoYWOiYoKEgBAQE6fvy4XfuPP/6ofv36lb54AACASqzSfgRcUm3btlVERITGjRunvXv36quvvlJUVJSGDRtmuwP4zJkzatOmjfbu3StJslgsmjFjhpYvX66tW7fq5MmTeuqpp3Ts2DGNGTPGkYcDAABQ7irtCuC12LBhg6KiotSnTx85OTnp3nvv1fLly23bc3Nzdfz4cWVlZdnapk6dquzsbE2bNk2pqanq0KGDdu7cqebNmzviEAAAACpMlX8OoCPxHCEA1Q7PAYQJ8Pu7GnwEDAAAgGtDAAQAADAZAiAAAIDJEAABAABMhgAIAABgMtXiMTAAgDLCnbWAKbACCAAAYDIEQAAAAJMhAAIAAJgMARAAAMBkCIAAAAAmQwAEAFwTwzA0Z84c+fv7y93dXWFhYTpx4sRVx505c0YPPvig6tWrJ3d3d7Vv31779++3bR81apQsFovdKyIiojwPBTAtAiAA4JosXrxYy5cv18qVKxUfH69atWopPDxc2dnZRY75448/dOutt6pmzZr6+OOP9cMPP+iFF15QnTp17PpFRETot99+s73+/e9/l/fhAKbEcwABACVmGIaWLVum2bNna9CgQZKk9evXy9fXV9u3b9ewYcMKHbdo0SIFBgZqzZo1tramTZsW6Ofq6io/P7/yKR6ADSuAAIASS0hIUFJSksLCwmxt3t7eCg0NVVxcXJHjduzYoU6dOun+++9Xw4YNddNNN+mNN94o0G/Pnj1q2LChWrdurQkTJuj3338vl+MAzI4ACAAosaSkJEmSr6+vXbuvr69tW2F++uknvfbaa2rZsqU++eQTTZgwQZMnT9a6detsfSIiIrR+/XrFxsZq0aJF+uyzz9SvXz/l5eWVz8EAJsZHwACAIm3YsEEPP/yw7f2HH354XfPk5+erU6dOeu655yRJN910k44cOaKVK1dq5MiRkmT38XH79u114403qnnz5tqzZ4/69OlTiqMA8FesAAIAijRw4EAdOnTI9qpfv74kKTk52a5fcnJysdfu+fv7Kzg42K6tbdu2On36dJFjmjVrpvr16+vkyZOlOAIAhWEFEABQJE9PT3l6etreG4YhPz8/xcbGKiQkRJJktVoVHx+vCRMmFDnPrbfequPHj9u1/fjjj2rSpEmRY3799Vf9/vvv8vf3L91BACiAFUAAQIlZLBZNnTpVzzzzjHbs2KHDhw9rxIgRCggI0ODBg239+vTpo1deecX2ftq0afrmm2/03HPP6eTJk9q4caNWrVqliRMnSpIuXLigGTNm6JtvvlFiYqJiY2M1aNAgtWjRQuHh4RV9mEC1xwogAOCaPP7448rMzNT48eOVlpam7t27KyYmRm5ubrY+p06d0vnz523vb7nlFm3btk2zZs3S008/raZNm2rZsmWKjIyUJDk7O+u7777TunXrlJaWpoCAAPXt21cLFiyQq6trhR8jUN1ZDMMwHF1EVZWeni4fHx/98ssv8vLycnQ5AACgBKxWqwIDA5WWliZvb29Hl+MQrACWQkZGhiQpMDDQwZUAAIBrlZGRYdoAyApgKeTn5+vs2bPy9PSUxWJxdDkOceX/olgFrd44z+bAeTYHzvPlm5kyMjIUEBAgJydz3g7BCmApODk56YYbbnB0GZWCl5eXaf8hMRPOszlwns3B7OfZrCt/V5gz9gIAAJgYARAAAMBkCIAoFVdXV82dO5fHNFRznGdz4DybA+cZEjeBAAAAmA4rgAAAACZDAAQAADAZAiAAAIDJEAABAABMhgBYRY0aNUoWi0ULFy60a9++fbvdt5K8/fbbCgkJkYeHh5o0aaLnn3/erv9vv/2m4cOHq1WrVnJyctLUqVML7KtXr16yWCwFXgMGDLD1effdd9W3b1/Vq1dPFotFhw4dKjDPqlWr1KtXL3l5eclisSgtLc1ue2JiosaMGaOmTZvK3d1dzZs319y5c3Xx4kVbn+zsbI0aNUrt27dXjRo1NHjw4JL/0KqgqnaeU1NTNWnSJLVu3Vru7u5q3LixJk+erPT0dLt+p0+f1oABA+Th4aGGDRtqxowZunTpUqE/g6+++ko1atRQSEhICX5iVVN1Pc+TJ09Wx44d5erqWuj54+/zZdX9PP/ZyZMn5enpKR8fn2L7ofwRAKswNzc3LVq0SH/88Ueh2z/++GNFRkbqH//4h44cOaJXX31VL774ol555RVbn5ycHDVo0ECzZ89Whw4dCp3n3Xff1W+//WZ7HTlyRM7Ozrr//vttfTIzM9W9e3ctWrSoyHqzsrIUERGhJ598stDtx44dU35+vl5//XV9//33evHFF7Vy5Uq7/nl5eXJ3d9fkyZMVFhZW7M+nuqhK5/ns2bM6e/aslixZoiNHjmjt2rWKiYnRmDFjbH3y8vI0YMAAXbx4UV9//bXWrVuntWvXas6cOQXmS0tL04gRI9SnT58S/ayqsup2nq/4+9//rqFDhxY6D3+fC6qO5/mK3NxcPfDAA+rRo0ex/VBBDFRJI0eONO68806jTZs2xowZM2zt27ZtM66c1gceeMC477777MYtX77cuOGGG4z8/PwCc/bs2dOYMmXKVff94osvGp6ensaFCxcKbEtISDAkGf/973+LHL97925DkvHHH39cdV+LFy82mjZtWui2kSNHGoMGDbrqHFVZVT7PV7z99tuGi4uLkZubaxiGYXz00UeGk5OTkZSUZOvz2muvGV5eXkZOTo7d2KFDhxqzZ8825s6da3To0OGq+6qqquN5/rOSnD/+Plf/8/z4448bDz74oLFmzRrD29v7qvtC+WIFsApzdnbWc889p5dfflm//vprge05OTlyc3Oza3N3d9evv/6qn3/++br3++abb2rYsGGqVavWdc9RUunp6apbt26576cyq+rnOT09XV5eXqpR4/JXj8fFxal9+/by9fW19QkPD5fVatX3339va1uzZo1++uknzZ07t1T7ryqq23lG4cx6nnft2qUtW7ZoxYoVpdo/yg4BsIq7++67FRISUugvyfDwcL377ruKjY1Vfn6+fvzxR73wwguSLl9Dcj327t2rI0eOaOzYsaWquyROnjypl19+WQ8//HC576uyq6rn+fz581qwYIHGjx9va0tKSrILf5Js75OSkiRJJ06c0MyZM/XWW2+ZKlBUp/OMopntPP/+++8aNWqU1q5dKy8vr1LVgLJDAKwGFi1apHXr1uno0aN27ePGjVNUVJTuvPNOubi4qEuXLho2bJgkycnp+k79m2++qfbt26tz586lrrs4Z86cUUREhO6//36NGzeuXPdVVVS182y1WjVgwAAFBwdr3rx5JR6Xl5en4cOHa/78+WrVqtV177+qMst5Njsznedx48Zp+PDhuu222657/yh7BMBq4LbbblN4eLhmzZpl126xWLRo0SJduHBBP//8s5KSkmz/ADRr1uya95OZmalNmzYVegFwWTp79qxuv/12devWTatWrSrXfVUlVek8Z2RkKCIiQp6entq2bZtq1qxp2+bn56fk5GS7/lfe+/n5KSMjQ/v371dUVJRq1KihGjVq6Omnn9a3336rGjVqaNeuXdddV1VQXc4zimem87xr1y4tWbLE9vd5zJgxSk9PV40aNbR69errrgulY57PVqq5hQsXKiQkRK1bty6wzdnZWY0aNZIk/fvf/1bXrl3VoEGDa97Hli1blJOTowcffLDU9RblzJkzuv3229WxY0etWbPmuv+Pt7qqCufZarUqPDxcrq6u2rFjR4Hrmbp27apnn31WKSkpatiwoSRp586d8vLyUnBwsGrWrKnDhw/bjXn11Ve1a9cubd26VU2bNr2uuqqS6nCecXVmOc9xcXHKy8uzvX/vvfe0aNEiff3117ZjRMUjAFYT7du3V2RkpJYvX25rO3/+vLZu3apevXopOztba9as0ZYtW/TZZ5/Zjb3y7KcLFy7o3LlzOnTokFxcXBQcHGzX780339TgwYNVr169AvtPTU3V6dOndfbsWUnS8ePHJV1e0fHz85N0+fqupKQknTx5UpJ0+PBheXp6qnHjxqpbt67OnDmjXr16qUmTJlqyZInOnTtnm//KHJL0ww8/6OLFi0pNTVVGRoat/ur8nLgrKvt5tlqt6tu3r7KysvTWW2/JarXKarVKkho0aCBnZ2f17dtXwcHBeuihh7R48WIlJSVp9uzZmjhxolxdXSVJ7dq1s9tvw4YN5ebmVqC9uqoO51m6fB3vhQsXlJSUpP/973+22oKDg+Xi4iKJv89mOM9t27a12+/+/fvl5ORkmr/PlZajb0PG9SnskQkJCQmGi4uL7XEC586dM7p06WLUqlXL8PDwMPr06WN88803BeaSVODVpEkTuz7Hjh0zJBmffvppofWsWbOm0Hnmzp1r6zN37txC+6xZs6bYOf76x7RJkyZX7VNdVLXzfOURP4W9EhISbPMkJiYa/fr1M9zd3Y369esbjz76aKGPlbjCDI+BqY7nuWfPnlftw99nc5znv+6Xx8A4nsUwDOOqKREAAADVBhdYAQAAmAwBEAAAwGQIgAAAACZDAAQAADAZAiAAAIDJEAABAABMhgAIAABgMgRAAAAAkyEAAgAAmAwBEAAAwGQIgAAAACZDAAQAADAZAiAAAIDJEAABAABMhgAIAABgMgRAAAAAkyEAAgAAmAwBEAAAwGQIgAAAACZDAAQAADAZAiAAAIDJEAABAABMhgAIAABgMgRAAAAAkyEAAgAAmAwBEAAAwGQIgAAAACZDAAQAADAZAiAAAIDJEAABAABMhgAIAABgMv8f627hBUabmz4AAAAASUVORK5CYII=' width=640.0/>\n",
       "            </div>\n",
       "        "
      ],
      "text/plain": [
       "Canvas(toolbar=Toolbar(toolitems=[('Home', 'Reset original view', 'home', 'home'), ('Back', 'Back to previous …"
      ]
     },
     "metadata": {},
     "output_type": "display_data"
    }
   ],
   "source": [
    "limbfoot_fixed_vaf_scores = []\n",
    "knee_fixed_vaf_scores = []\n",
    "for score in fixed_decoder_vaf_list:\n",
    "    limbfoot_fixed_vaf_scores.append(score[1])\n",
    "    knee_fixed_vaf_scores.append(score[3])\n",
    "\n",
    "x = np.arange(len(var_names))  # the label locations\n",
    "width = 0.35  # the width of the bars\n",
    "\n",
    "fig, ax = plt.subplots()\n",
    "rects1 = ax.bar(x - width/2, limbfoot_fixed_vaf_scores, width, label='limbfoot')\n",
    "rects2 = ax.bar(x + width/2, knee_fixed_vaf_scores, width, label='knee')\n",
    "\n",
    "# Add some text for labels, title and custom x-axis tick labels, etc.\n",
    "ax.set_ylabel('vaf')\n",
    "ax.set_title('pca, but only using decoder1')\n",
    "ax.set_xticks(x)\n",
    "ax.set_xticklabels(var_names)\n",
    "ax.legend()\n",
    "\n",
    "ax.bar_label(rects1, padding=3)\n",
    "ax.bar_label(rects2, padding=3)"
   ]
  },
  {
   "cell_type": "code",
   "execution_count": 17,
   "id": "f462b81f-1f6e-4ef2-9e24-6cd2a1b1ff39",
   "metadata": {},
   "outputs": [],
   "source": [
    "cca_x_list = []\n",
    "cca_x_list_format = []\n",
    "\n",
    "cca_x_list.append(pca_x_list[0])\n",
    "cca_x_list_format.append(pca_x_list_format[0])\n",
    "\n",
    "for i in range(1, len(var_names)):\n",
    "    temp_cca = cca_dict[var_names[i]]\n",
    "    temp_x1 = temp_cca.data['cp1']['pca_x']\n",
    "    temp_x2 = temp_cca.data['cp2']['pca_x']\n",
    "    nada, temp_x_hat = temp_cca.apply_CCA(temp_x1, temp_x2)\n",
    "    cca_x_list.append(temp_x_hat)\n",
    "    \n",
    "    temp_x_format, nada = format_data(temp_x_hat, proc_y_list[i])\n",
    "    cca_x_list_format.append(temp_x_format)  "
   ]
  },
  {
   "cell_type": "code",
   "execution_count": 18,
   "id": "e8542ecc-f76c-4536-8cb8-819c49e99033",
   "metadata": {},
   "outputs": [],
   "source": [
    "cca_fixed_decoder_vaf_list = []\n",
    "\n",
    "for i in range(len(cca_x_list_format)):\n",
    "    nada, temp_vaf, nada, nada, = decode_kfolds(cca_x_list_format[i], proc_y_list_format[i], preset_h = fixed_decoder)\n",
    "    cca_fixed_decoder_vaf_list.append(np.round((np.average(temp_vaf, 1)),2))"
   ]
  },
  {
   "cell_type": "code",
   "execution_count": 19,
   "id": "9c583349-e5e1-45b7-bdf2-043d2c4be0ce",
   "metadata": {},
   "outputs": [
    {
     "data": {
      "text/plain": [
       "[array([0.62, 0.72, 0.29, 0.72, 0.42]),\n",
       " array([ 0.4 ,  0.7 , -0.09,  0.63,  0.26]),\n",
       " array([0.17, 0.56, 0.01, 0.45, 0.18]),\n",
       " array([0.22, 0.32, 0.07, 0.29, 0.11])]"
      ]
     },
     "execution_count": 19,
     "metadata": {},
     "output_type": "execute_result"
    }
   ],
   "source": [
    "cca_fixed_decoder_vaf_list"
   ]
  },
  {
   "cell_type": "code",
   "execution_count": 20,
   "id": "8f558952-2eea-443a-9fad-83636c4510af",
   "metadata": {},
   "outputs": [
    {
     "data": {
      "text/plain": [
       "[Text(0, 3, '0.72'),\n",
       " Text(0, 3, '0.63'),\n",
       " Text(0, 3, '0.45'),\n",
       " Text(0, 3, '0.29')]"
      ]
     },
     "execution_count": 20,
     "metadata": {},
     "output_type": "execute_result"
    },
    {
     "data": {
      "application/vnd.jupyter.widget-view+json": {
       "model_id": "374fafdd24e542cc9819b0cb2342be73",
       "version_major": 2,
       "version_minor": 0
      },
      "text/html": [
       "\n",
       "            <div style=\"display: inline-block;\">\n",
       "                <div class=\"jupyter-widgets widget-label\" style=\"text-align: center;\">\n",
       "                    Figure\n",
       "                </div>\n",
       "                <img src='data:image/png;base64,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' width=640.0/>\n",
       "            </div>\n",
       "        "
      ],
      "text/plain": [
       "Canvas(toolbar=Toolbar(toolitems=[('Home', 'Reset original view', 'home', 'home'), ('Back', 'Back to previous …"
      ]
     },
     "metadata": {},
     "output_type": "display_data"
    }
   ],
   "source": [
    "limbfoot_cca_vaf_scores = []\n",
    "knee_cca_vaf_scores = []\n",
    "for score in cca_fixed_decoder_vaf_list:\n",
    "    limbfoot_cca_vaf_scores.append(score[1])\n",
    "    knee_cca_vaf_scores.append(score[3])\n",
    "\n",
    "x = np.arange(len(var_names))  # the label locations\n",
    "width = 0.35  # the width of the barswhat is an integer in python\n",
    "\n",
    "fig, ax = plt.subplots()\n",
    "rects1 = ax.bar(x - width/2, limbfoot_cca_vaf_scores, width, label='limbfoot')\n",
    "rects2 = ax.bar(x + width/2, knee_cca_vaf_scores, width, label='knee')\n",
    "\n",
    "# Add some text for labels, title and custom x-axis tick labels, etc.\n",
    "ax.set_ylabel('vaf')\n",
    "ax.set_title('cca, using decoder #1 only')\n",
    "ax.set_xticks(x)\n",
    "ax.set_xticklabels(var_names)\n",
    "ax.legend()\n",
    "\n",
    "ax.bar_label(rects1, padding=3)\n",
    "ax.bar_label(rects2, padding=3)"
   ]
  },
  {
   "cell_type": "code",
   "execution_count": 21,
   "id": "8b90d545-d3a9-4762-a3f4-5a4924e5d756",
   "metadata": {},
   "outputs": [
    {
     "data": {
      "application/vnd.jupyter.widget-view+json": {
       "model_id": "ffff0a59002d491ca38dd262b173e9b2",
       "version_major": 2,
       "version_minor": 0
      },
      "text/html": [
       "\n",
       "            <div style=\"display: inline-block;\">\n",
       "                <div class=\"jupyter-widgets widget-label\" style=\"text-align: center;\">\n",
       "                    Figure\n",
       "                </div>\n",
       "                <img src='data:image/png;base64,iVBORw0KGgoAAAANSUhEUgAAAoAAAAHgCAYAAAA10dzkAAAAOXRFWHRTb2Z0d2FyZQBNYXRwbG90bGliIHZlcnNpb24zLjQuMiwgaHR0cHM6Ly9tYXRwbG90bGliLm9yZy8rg+JYAAAACXBIWXMAAA9hAAAPYQGoP6dpAABbtklEQVR4nO3deVwVVeM/8M9l30FE1lBMRCERUJRwpUTBHTNDMxdyyYVcyDXX0kTNjJ6ySJNHTH30qdR8vhpqKOaCiiCuiIogboCG7LHe+f3hj8kbi6gXLtz5vF+v+6o7c2bmzD3g/XDOzByZIAgCiIiIiEgyNFRdASIiIiJqWAyARERERBLDAEhEREQkMQyARERERBLDAEhEREQkMQyARERERBLDAEhEREQkMQyARERERBLDAEhEREQkMQyARERERBLDAEhEREQkMQyARERERBLDAEhEREQkMQyARERERBLDAEhEREQkMQyARERERBLDAEhEREQkMQyARERERBLDAEhEREQkMQyARERERBLDAEhEREQkMQyARERERBLDAEhEREQkMQyARERERBLDAEhEREQkMQyARERERBLDAEhEREQkMQyARERERBLDAEhEREQkMQyARERERBLDAEhEREQkMQyARERERBLDAEhEREQkMQyARERERBLDAEhEREQkMQyARERERBLDAEhEREQkMQyARERERBLDAEhEREQkMQyARERERBLDAEhEREQkMQyARERERBLDAEhEREQkMQyARERERBLDAEhEREQkMQyARERERBLDAEhEREQkMQyARERERBLDAEhEREQkMQyARERERBLDAEhEREQkMQyARERERBLDAEhEREQkMQyARERERBLDAEhEREQkMQyARERERBKjpeoKNGVyuRz379+HsbExZDKZqqtDREREdSAIAvLz82FrawsNDWn2hTEAvoT79+/D3t5e1dUgIiKiF3Dnzh288sorqq6GSqhVANywYQM+//xzZGRkwM3NDV9//TW6du1aY/mwsDB89913SE9Ph4WFBd5++22EhoZCT0+vTsczNjYG8OQHyMTERCnnQERERPUrLy8P9vb24ve4FKlNANy1axdCQkIQHh4OLy8vhIWFwc/PD8nJybC0tKxSfseOHViwYAEiIiLQrVs3XL9+HePHj4dMJsP69evrdMzKYV8TExMGQCIioiZGypdvqc3A9/r16zFp0iQEBQXBxcUF4eHhMDAwQERERLXlT506he7du+Pdd9+Fg4MD+vXrh1GjRuHs2bMNXHOi2m3YsAEODg7Q09ODl5dXrT+jPj4+kMlkVV4DBw5UKJeUlIQhQ4bA1NQUhoaG6NKlC9LT0+v7VIiIqJFQiwBYWlqK+Ph4+Pr6iss0NDTg6+uL2NjYarfp1q0b4uPjxS/TW7du4cCBAxgwYECNxykpKUFeXp7Ci6g+VfZsL1u2DAkJCXBzc4Ofnx+ysrKqLb979248ePBAfF2+fBmampoYMWKEWCYlJQU9evRA+/btERMTg4sXL2LJkiV1vvSBiIiaPrUYAn706BEqKipgZWWlsNzKygrXrl2rdpt3330Xjx49Qo8ePSAIAsrLyzFlyhR8/PHHNR4nNDQUn3zyiVLrTlSbp3u2ASA8PBz79+9HREQEFixYUKW8ubm5wvudO3fCwMBAIQAuWrQIAwYMwNq1a8Vlbdq0qaczICKixkgtegBfRExMDFatWoVvv/0WCQkJ2L17N/bv348VK1bUuM3ChQuRm5srvu7cudOANSapeZGe7X/avHkzRo4cCUNDQwBPHl20f/9+ODk5wc/PD5aWlvDy8sLevXvr4xSIiKiRUosAaGFhAU1NTWRmZiosz8zMhLW1dbXbLFmyBGPGjMHEiRPh6uqKYcOGYdWqVQgNDYVcLq92G11dXfGGD974QfWttp7tjIyMZ25/9uxZXL58GRMnThSXZWVloaCgAKtXr4a/vz8OHTqEYcOG4a233sKxY8eUfg5ERNQ4qUUA1NHRQefOnREdHS0uk8vliI6Ohre3d7XbFBUVVXn4o6amJoAnD4gkauo2b94MV1dXhUchVf5xM3ToUMyePRvu7u5YsGABBg0ahPDwcFVVlYiIGphaBEAACAkJwaZNmxAZGYmkpCRMnToVhYWF4rVTY8eOxcKFC8XygwcPxnfffYedO3ciNTUVhw8fxpIlSzB48GAxCBKp0ov0bFcqLCzEzp07MWHChCr71NLSgouLi8JyZ2dn3gVMRCQhanETCAAEBgbi4cOHWLp0KTIyMuDu7o6oqChx+Cw9PV2hx2/x4sWQyWRYvHgx7t27hxYtWmDw4MH47LPPVHUKRAqe7tkOCAgA8HfPdnBwcK3b/vTTTygpKcF7771XZZ9dunRBcnKywvLr16+jVatWSq0/ERE1XjKB450vLC8vD6ampsjNzeX1gFQvdu3ahXHjxuH7779H165dERYWhv/+97+4du0arKysMHbsWNjZ2SE0NFRhu549e8LOzg47d+6sss89e/YgMDAQGzZswBtvvIGoqCjMmjULMTEx6NGjR0OdGhGRyvD7W416AInU0fP2bANAcnIyTpw4gUOHDlW7z2HDhiE8PByhoaGYMWMG2rVrh19++YXhj4hIQtgD+BL4FwQREVHTw+9vNboJhF6OMqcbKysrQ9++faGjowOZTAYdHR0MGDAA9+/ff+H9zZ8/H66urjA0NIStrS3Gjh1b4/6IiIiodgyApPTpxrZt24bo6GhMmDAB//d//4cBAwbg0KFD6N+//wvtr6ioCAkJCViyZIn40O7k5GQMGTKkfj4QIiIiNcch4JegLl3IXl5e6NKlC7755hsAT+40tbe3x4cffljtdGP/FBYWhqVLl+LBgwcwNDSsdn/W1tZ4+PAhbt++jZYtWz7X/qoTFxeHrl271ml/6sJhwX6l7zNt9UCl75OIqLFTl+/vl8EeQIlT9nRjNe3P3d0dAGBmZvZc+6tJbm4uZDJZnfZHREREihgAJU7Z041Vt7/i4mJcuHABzZs3f+ZfWtVNX/ZPxcXFmD9/PkaNGiXZv9yIiIheBgMgvZTqpht7WllZGd555x0AgIODg9L2JwgCvvvuuxeuNxERkZQxAEqcsqcbe3p/lWHt9u3beOONN2BnZ/fc+3va0/s7fPgwe/8aOWXeWU5ERMrFAChxT083VqlyujFvb+9at61uurHK/R0+fBjvvPMObty4gUOHDuHEiRMvtL9KleHvxo0b+P3339G8efPnPFNqSMq+s5yIiJSLAZAQEhKCTZs2ITIyEklJSZg6dSoKCwsRFBQEABg7diwWLlxYZbvNmzcjICCgShibMWMGwsPDcezYMaxYsQJz5sxBQUEBBg4ciNLS0ufeX1lZGd5++22cO3cO27dvR0VFBTIyMpCRkYHS0lIlfhKkLOvXr8ekSZMQFBQEFxcXhIeHw8DAABEREdWWNzc3h7W1tfg6fPgwDAwMGACJiOoJA2AT9DxDawCQk5OD6dOnw8bGBrq6unBycsKBAwfE9QMGDIC3tzcmTJgAFxcX7NixA+vXr1eYbuzBgwcK+6ycbqy64dru3btDLpfj8ePHeOutt7Bt2zbk5uaiY8eOOHXq1HPv7969e9i3bx/u3r0Ld3d32NjYiK9Tp07V+XOjhqHsO8uJiEj5OBdwE1M5tBYeHg4vLy+EhYXBz88PycnJsLS0rFK+tLQUffv2haWlJX7++WfY2dnh9u3bCo9PmThxIrKysnDkyBHY2tpi27ZtmDVrFvr16wc7OzvExMRU2W+7du1Q0yMkHRwcalwHQOn7o8altjvLr1279sztK+8E37x5c31VkYhI8tgD2MQ879BaREQEsrOzsXfvXnTv3h0ODg7o3bs33NzcAAB//fUXfvnlF6xduxa9evWCo6Mjli9fDkdHR95lSyrxrDvBiYjo5TEANiEvMrS2b98+eHt7Y/r06bCyskKHDh2watUqVFRUAADKy8tRUVEBPT09he309fVx4sSJ+jsZUlvKvrOciIiUj0PATciLDK3dunULR44cwejRo3HgwAHcvHkT06ZNQ1lZGZYtWwZjY2N4e3tjxYoVcHZ2hlV4e/znchliTxXD0VwDWG76UnV2ba38adoujbuk9H2S8jx9Z3lAQACAv+8sDw4OrnXb2u4EJyIi5WEPoJqTy+WwtLTExo0b0blzZwQGBmLRokUIDw8Xy/z4448QBAF2dnbQXZmPf50pxagO2tCQqbDi1KQp+85yIiJSLvYANiEvMrRmY2MDbW1taGpqisucnZ3FR6jo6OigTZs2OHbsGAoLC5G31Bo2xhoI/LkIrzbj3wf0YgIDA/Hw4UMsXboUGRkZcHd3R1RUlMKd5Roaij9flXeCHzp0SBVVJiKSFH7DNyEv8tDm7t274+bNm5DL5eKy69evw8bGBjo6OgplDQ0NYWOsgcd/CTh4sxxD2/HvA3pxwcHBuH37NkpKSnDmzBl4eXmJ62JiYrBlyxaF8pV3gvft27eBa0pEJD0MgE3M8w6tTZ06FdnZ2Zg5cyauX7+O/fv3Y9WqVZg+fbpY5uDBg4iKikJqaioOp5TjjchCtLfQRJC7doOfHxEREdU/dvE0Mc87tGZvb4+DBw9i9uzZ6NixI+zs7DBz5kzMnz9fLJObm4uFCxfi7t27MNcpw3BnLXz2ph60NXkRIBERkTqSCXzC7gvLy8uDqakpcnNzYWJiourqKMdL3vX7T7wLWHkcFuxX+j7TVg9U6v5cI12Vuj9Auu1NRPVHLb+/nxOHgImIiIgkhgGQiIiISGJ4DWATVi9DgnrPLkNERERNG3sAiYiIiCSGAZCIiIhIYhgAiYiIiCSGAZCIiIhIYhgAiYiIiCSGAZCIiIhIYhgAiYiIiCSGAZCIiIhIYhgAiYgakQ0bNsDBwQF6enrw8vLC2bNnay2fk5OD6dOnw8bGBrq6unBycsKBAwfE9X/88QcGDx4MW1tbyGQy7N27t57PgIiaAgZAIqJGYteuXQgJCcGyZcuQkJAANzc3+Pn5ISsrq9rypaWl6Nu3L9LS0vDzzz8jOTkZmzZtgp2dnVimsLAQbm5u2LBhQ0OdBhE1AZwKjoiokVi/fj0mTZqEoKAgAEB4eDj279+PiIgILFiwoEr5iIgIZGdn49SpU9DW1gYAODg4KJTp378/+vfvX+91J6KmhT2ARESNQGlpKeLj4+Hr6ysu09DQgK+vL2JjY6vdZt++ffD29sb06dNhZWWFDh06YNWqVaioqGioahNRE8UeQCKiRuDRo0eoqKiAlZWVwnIrKytcu3at2m1u3bqFI0eOYPTo0Thw4ABu3ryJadOmoaysDMuWLWuIahNRE8UASETURMnlclhaWmLjxo3Q1NRE586dce/ePXz++ecMgERUKwZAIqJGwMLCApqamsjMzFRYnpmZCWtr62q3sbGxgba2NjQ1NcVlzs7OyMjIQGlpKXR0dOq1zkTUdPEaQCKiRkBHRwedO3dGdHS0uEwulyM6Ohre3t7VbtO9e3fcvHkTcrlcXHb9+nXY2Ngw/BFRrRgAiYgaiZCQEGzatAmRkZFISkrC1KlTUVhYKN4VPHbsWCxcuFAsP3XqVGRnZ2PmzJm4fv069u/fj1WrVmH69OlimYKCAiQmJiIxMREAkJqaisTERKSnpzfouRFR48IhYCKiRiIwMBAPHz7E0qVLkZGRAXd3d0RFRYk3hqSnp0ND4++/2+3t7XHw4EHMnj0bHTt2hJ2dHWbOnIn58+eLZc6dO4c33nhDfB8SEgIAGDduHLZs2dIwJ0ZEjQ4DIBFRIxIcHIzg4OBq18XExFRZ5u3tjdOnT9e4Px8fHwiCoKzqEZGaUKshYGVPoURERESkjtSmB7ByCqXw8HB4eXkhLCwMfn5+SE5OhqWlZZXylVMoWVpa4ueff4adnR1u374NMzOzhq88ERERUQNSmwBYH1MoERGpisOC/UrfZ9rqgUrZz4YNG/D5558jIyMDbm5u+Prrr9G1a9dqy27ZskX8d7mSrq4uiouLFZYlJSVh/vz5OHbsGMrLy+Hi4oJffvkFLVu2VEqdiUiRWgwBN9QUSiUlJcjLy1N4ERFJSeVoy7Jly5CQkAA3Nzf4+fkhKyurxm1MTEzw4MED8XX79m2F9SkpKejRowfat2+PmJgYXLx4EUuWLIGenl59nw6RZKlFD2BDTaEUGhqKTz75ROn1JyJqKp53tAUAZDJZjQ+zBoBFixZhwIABWLt2rbisTZs2yq04ESlQix7AF/H0FEqdO3dGYGAgFi1ahPDw8Bq3WbhwIXJzc8XXnTt3GrDGRESq9SKjLcCTZxG2atUK9vb2GDp0KK5cuSKuk8vl2L9/P5ycnODn5wdLS0t4eXlh79699Xkqjcbz3Ly4ZcsWyGQyhdc/e0nHjx9fpYy/v399nwY1QWoRAF90CiUnJ6cap1Cqjq6uLkxMTBReRERSUdtoS0ZGRrXbtGvXDhEREfj111+xbds2yOVydOvWDXfv3gUAZGVloaCgAKtXr4a/vz8OHTqEYcOG4a233sKxY8fq/ZxUqT6G0wHA399focx//vOf+jwNaqLUIgByCiUiosbJ29sbY8eOhbu7O3r37o3du3ejRYsW+P777wFA/Dd46NChmD17Ntzd3bFgwQIMGjSo1hEZdfD0cLqLiwvCw8NhYGCAiIiIGrepHE6vfP0zjANPOiueLtOsWbP6PA1qotQiAAL1M4USERH97UVGW/5JW1sbHh4euHnzprhPLS0tuLi4KJRzdnZW6+nq6mM4vVJMTAwsLS3Rrl07TJ06FX/++We9nAM1bWoTAAMDA7Fu3TosXboU7u7uSExMrDKF0oMHD8TylVMoxcXFoWPHjpgxYwZmzpxZ40XMRERS9yKjLf9UUVGBS5cuwcbGRtxnly5dkJycrFDu+vXraNWqlfIq38jUx3A68GT4d+vWrYiOjsaaNWtw7Ngx9O/fv9YnXJA0qcVdwJWUPYUSEREpCgkJwbhx4+Dp6YmuXbsiLCysymiLnZ0dQkNDAQCffvopXn/9dTg6OiInJweff/45bt++jYkTJ4r7nDt3LgIDA9GrVy+88cYbiIqKwv/+979q/92WMm9vb4Wg3a1bNzg7O+P777/HihUrAAAjR44U17u6uqJjx45o06YNYmJi0KdPnwavMzVeahUAiYiofgUGBuLhw4dYunQpMjIy4O7uXmW0RUPj78Glx48fY9KkScjIyECzZs3QuXNnnDp1SmHId9iwYQgPD0doaChmzJiBdu3a4ZdffkGPHj0a/PwaSn0Mp1fn1VdfhYWFBW7evMkASAoYAImI6Lk8z2jLl19+iS+//PKZ+3z//ffx/vvvK6N6TcLTw+kBAQEA/h5Or+mz/afK4fQBAwbUWObu3bv4888/xSF3okpqcw0gERFRU/K8Ny9++umnOHToEG7duoWEhAS89957CsPpBQUFmDt3Lk6fPo20tDRER0dj6NChcHR0hJ+fn0rOkRov9gASERGpgLKH0zU1NXHx4kVERkYiJycHtra26NevH1asWAFdXV2VnCM1XgyARET0QlwjXZW+z0vjLil9n42ZMofT9fX1cfDgQWVWj9QYh4CJiIiIJIYBkIiIiEhiOARMRESkYg4L9it9n2mrByp9n6Q+2ANIREREJDEMgEREREQSwwBIREREJDEMgEREREQSwwBIREREJDEMgEREREQSwwBIREREJDEMgEREREQSwwBIREREJDEMgEREREQSwwBIREREJDEMgEREREQSwwBIREREJDEMgEREREQSwwBIREREJDEMgEREREQSwwBIREREJDEMgEREREQSwwBIREREJDEMgEREREQSwwBIREREJDEMgEREREQSwwBIREREJDEMgEREREQSwwBIREREJDEMgEREREQSwwBIREREJDEMgEREREQSwwBIREREJDEMgEREREQSwwBIREREJDEMgEREREQSwwBIREREJDEMgEREREQSwwBIREREJDEMgEREREQSo1YBcMOGDXBwcICenh68vLxw9uzZOm23c+dOyGQyBAQE1G8FiYiIiBoBtQmAu3btQkhICJYtW4aEhAS4ubnBz88PWVlZtW6XlpaGOXPmoGfPng1UUyIiIiLVUpsAuH79ekyaNAlBQUFwcXFBeHg4DAwMEBERUeM2FRUVGD16ND755BO8+uqrDVhbIiIiItVRiwBYWlqK+Ph4+Pr6iss0NDTg6+uL2NjYGrf79NNPYWlpiQkTJjRENYmIiIgaBS1VV0AZHj16hIqKClhZWSkst7KywrVr16rd5sSJE9i8eTMSExPrfJySkhKUlJSI7/Py8l6ovkRERESqpBY9gM8rPz8fY8aMwaZNm2BhYVHn7UJDQ2Fqaiq+7O3t67GWRERERPVDLXoALSwsoKmpiczMTIXlmZmZsLa2rlI+JSUFaWlpGDx4sLhMLpcDALS0tJCcnIw2bdpU2W7hwoUICQkR3+fl5TEEEhERUZOjFgFQR0cHnTt3RnR0tPgoF7lcjujoaAQHB1cp3759e1y6dElh2eLFi5Gfn4+vvvqqxlCnq6sLXV1dpdefiIiIqCGpRQAEgJCQEIwbNw6enp7o2rUrwsLCUFhYiKCgIADA2LFjYWdnh9DQUOjp6aFDhw4K25uZmQFAleVERERE6kZtAmBgYCAePnyIpUuXIiMjA+7u7oiKihJvDElPT4eGhiQveSQiIiJSoDYBEACCg4OrHfIFgJiYmFq33bJli/IrRERERNQIsUuMiIiISGIYAImIiIgkhgGQiIiISGIYAImIiKhGGzZsgIODA/T09ODl5YWzZ8/WWHb37t3w9PSEmZkZDA0N4e7ujh9//FFcX1ZWhvnz58PV1RWGhoawtbXF2LFjcf/+/YY4FXoKAyARERFVa9euXQgJCcGyZcuQkJAANzc3+Pn5ISsrq9ry5ubmWLRoEWJjY3Hx4kUEBQUhKCgIBw8eBAAUFRUhISEBS5YsQUJCAnbv3o3k5GQMGTKkIU+LoGZ3ARMREZHyrF+/HpMmTRKfqRseHo79+/cjIiICCxYsqFLex8dH4f3MmTMRGRmJEydOwM/PD6ampjh8+LBCmW+++QZdu3ZFeno6WrZsWW/nQorYA0hERERVlJaWIj4+Hr6+vuIyDQ0N+Pr6IjY29pnbC4KA6OhoJCcno1evXjWWy83NhUwmEydkoIbBHkAiIiKq4tGjR6ioqBAnVKhkZWWFa9eu1bhdbm4u7OzsUFJSAk1NTXz77bfo27dvtWWLi4sxf/58jBo1CiYmJkqtP9WOAZCIiIiUxtjYGImJiSgoKEB0dDRCQkLw6quvVhkeLisrwzvvvANBEPDdd9+pprISxgBIREREVVhYWEBTUxOZmZkKyzMzM2FtbV3jdhoaGnB0dAQAuLu7IykpCaGhoQoBsDL83b59G0eOHGHvnwrwGkAiIiKqQkdHB507d0Z0dLS4TC6XIzo6Gt7e3nXej1wuR0lJifi+MvzduHEDv//+O5o3b67UelPdsAeQiIiIqhUSEoJx48bB09MTXbt2RVhYGAoLC8W7gseOHQs7OzuEhoYCAEJDQ+Hp6Yk2bdqgpKQEBw4cwI8//igO8ZaVleHtt99GQkIC/u///g8VFRXIyMgA8OQRMjo6Oqo5UQliACQiIqJqBQYG4uHDh1i6dCkyMjLg7u6OqKgo8caQ9PR0aGj8PZhYWFiIadOm4e7du9DX10f79u2xbds2BAYGAgDu3buHffv2AXgyPPy0o0ePVrlOkOoPAyARERHVKDg4GMHBwdWui4mJUXi/cuVKrFy5ssZ9OTg4QBAEZVaPXhCvASQiIiKSGAZAIiIiIonhEDARERE9k2ukq9L3eWncJaXvk+qGPYBEREREEsMASERERCQxDIBEREREEsMASERERCQxDIBEREREEsMASERERCQxDIBEREREEsMASERERCQxDIBEREREEsMASERERCQxDIBEREREEsMASERERCQxDIBEREREEsMASERERCQxDIBEREREEsMASERERCQxDIBEREREEsMASERERCQxDIBEREREEsMASERERCQxDIBEREREEsMASERERCQxDIBEREREEsMASERERCQxDIBEREREEsMASERERCQxDIBEREREEqNWAXDDhg1wcHCAnp4evLy8cPbs2RrLbtq0CT179kSzZs3QrFkz+Pr61lqeiIiISF2oTQDctWsXQkJCsGzZMiQkJMDNzQ1+fn7IysqqtnxMTAxGjRqFo0ePIjY2Fvb29ujXrx/u3bvXwDUnIiIialhqEwDXr1+PSZMmISgoCC4uLggPD4eBgQEiIiKqLb99+3ZMmzYN7u7uaN++PX744QfI5XJER0c3cM2JiIiIGpZaBMDS0lLEx8fD19dXXKahoQFfX1/ExsbWaR9FRUUoKyuDubl5fVWTiIiIqFHQUnUFlOHRo0eoqKiAlZWVwnIrKytcu3atTvuYP38+bG1tFULkP5WUlKCkpER8n5eX92IVJiIiIlIhtegBfFmrV6/Gzp07sWfPHujp6dVYLjQ0FKampuLL3t6+AWtJREREpBxqEQAtLCygqamJzMxMheWZmZmwtrauddt169Zh9erVOHToEDp27Fhr2YULFyI3N1d83blz56XrTkRERNTQ1CIA6ujooHPnzgo3cFTe0OHt7V3jdmvXrsWKFSsQFRUFT0/PZx5HV1cXJiYmCi8iIiKipkYtrgEEgJCQEIwbNw6enp7o2rUrwsLCUFhYiKCgIADA2LFjYWdnh9DQUADAmjVrsHTpUuzYsQMODg7IyMgAABgZGcHIyEhl50FERERU39QmAAYGBuLhw4dYunQpMjIy4O7ujqioKPHGkPT0dGho/N3h+d1336G0tBRvv/22wn6WLVuG5cuXN2TViYiIiBqU2gRAAAgODkZwcHC162JiYhTep6Wl1X+FiIiIiBohtbgGkIiIiIjqjgGQiIiISGIYAImIiIgkhgGQiIiISGIYAImIiIgkhgGQiIiISGIYAImIiIgkhgGQiIiISGIYAImIiIgkhgGQiIiISGIYAImIiIgkhgGQiIiISGIYAImIiIgkhgGQiIiISGIYAImIiIgkhgGQiIiISGIYAImIiIgkhgGQiIiISGIYAImIiIgkhgGQiIiISGIYAImIiIgkhgGQiIiISGIYAImIiIgkhgGQiIiISGIYAImIiIgkhgGQiIiISGIYAImIiIgkhgGQiIiISGIYAImIiIgkhgGQiIiISGIYAImIiIgkhgGQiIiISGIYAImIiIgkhgGQiIiISGIYAImIiIgkhgGQiIiISGIYAImIiIgkhgGQiIiISGIYAImIiIgkhgGQiIiISGIYAImIiIgkhgGQiIiISGIYAImIiIgkhgGQiIiISGLUKgBu2LABDg4O0NPTg5eXF86ePVtr+Z9++gnt27eHnp4eXF1dceDAgQaqKREREZHqqE0A3LVrF0JCQrBs2TIkJCTAzc0Nfn5+yMrKqrb8qVOnMGrUKEyYMAHnz59HQEAAAgICcPny5QauOREREVHDUpsAuH79ekyaNAlBQUFwcXFBeHg4DAwMEBERUW35r776Cv7+/pg7dy6cnZ2xYsUKdOrUCd98800D15yIiIioYalFACwtLUV8fDx8fX3FZRoaGvD19UVsbGy128TGxiqUBwA/P78ayxMRERGpCy1VV0AZHj16hIqKClhZWSkst7KywrVr16rdJiMjo9ryGRkZNR6npKQEJSUl4vu8vLyXqDURERGRaqhFAGwooaGh+OSTT1RdDVHa6oH1sNdcpe7tklL3Jm310t7LTZW6u0vLlfvzI2Vsb2lhe1NDU4shYAsLC2hqaiIzM1NheWZmJqytravdxtra+rnKA8DChQuRm5srvu7cufPylSciIiJqYGoRAHV0dNC5c2dER0eLy+RyOaKjo+Ht7V3tNt7e3grlAeDw4cM1lgcAXV1dmJiYKLyIiIiImhq1GQIOCQnBuHHj4Onpia5duyIsLAyFhYUICgoCAIwdOxZ2dnYIDQ0FAMycORO9e/fGF198gYEDB2Lnzp04d+4cNm7cqMrTICIiIqp3ahMAAwMD8fDhQyxduhQZGRlwd3dHVFSUeKNHeno6NDT+7vDs1q0bduzYgcWLF+Pjjz9G27ZtsXfvXnTo0EFVp0BERETUIGSCIAiqrkRTlZeXB1NTU+Tm5nI4mJomJV8kDl4k3rixvYkA8PsbUJNrAImIiOgJQRCwdOlS2NjYQF9fH76+vrhx48Yzt6ttOtXs7Gx8+OGHaNeuHfT19dGyZUvMmDEDubn8I6CpYgAkIiJSI2vXrsW//vUvhIeH48yZMzA0NISfnx+Ki4tr3OZZ06nev38f9+/fx7p163D58mVs2bIFUVFRmDBhQkOdFikZh4BfAruQqcnjkKC0sL3VniAIsLW1xUcffYQ5c+YAAHJzc2FlZYUtW7Zg5MiR1W7n5eWFLl26iNOhyuVy2Nvb48MPP8SCBQuq3eann37Ce++9h8LCQmhpNa1bCvj9zR5AIiIitZGamoqMjAyFqU5NTU3h5eVV41SnLzKdKgAxPDW18EdPMAASERGpicrpTJ9nqtPaplOtbZsVK1Zg8uTJSqg1qQIDIBERURO1fft2GBkZia+ysrJ6P2ZeXh4GDhwIFxcXLF++vN6PR/WD/bZERERN1JAhQ+Dl5SW+LykpAfBkalMbGxtxeWZmJtzd3avdx/NMp5qfnw9/f38YGxtjz5490NbWVtKZUENjDyAREVETZWxsDEdHR/Hl4uICa2trhalO8/LycObMmRqnOq3rdKp5eXno168fdHR0sG/fPujp6dXfiVG9YwAkIiJSEzKZDLNmzcLKlSuxb98+XLp0CWPHjoWtrS0CAgLEcn369BHv+AWeTKe6adMmREZGIikpCVOnTlWYTrUy/BUWFmLz5s3Iy8tDRkYGMjIyUFFR0dCnSUrAIWAiIiI1Mm/ePBQWFmLy5MnIyclBjx49EBUVpdBjl5KSgkePHonvnzWdakJCAs6cOQMAcHR0VDheamoqHBwc6v/ESKn4HMCXwOcIUZPH58JJC9ubCAC/vwEOARMRERFJDgMgERERkcQwABIRERFJDAMgERERkcQwABIRERFJDAMgERERkcQwABIRERFJDAMgERERkcQwABIRERFJDAMgERERkcQwABIRERFJDAMgERERkcQwABIRERFJjJaqK0BEKrQ8V9U1ICIiFWAPIJEECYKApUuXwsbGBvr6+vD19cWNGzdq3eaPP/7A4MGDYWtrC5lMhr1791Yps3v3bvTr1w/NmzeHTCZDYmJi/ZwAERG9FAZAIglau3Yt/vWvfyE8PBxnzpyBoaEh/Pz8UFxcXOM2hYWFcHNzw4YNG2ot06NHD6xZs6Y+qk1ERErCIWAiiREEAWFhYVi8eDGGDh0KANi6dSusrKywd+9ejBw5strt+vfvj/79+9e67zFjxgAA0tLSlFpnIiJSLvYAEklMamoqMjIy4OvrKy4zNTWFl5cXYmNjVVgzIiJqKAyARBKTkZEBALCyslJYbmVlJa4jIiL1xgBIpOa2b98OIyMj8VVWVqbqKhERkYrxGkAiNTdkyBB4eXmJ70tKSgAAmZmZsLGxEZdnZmbC3d29oatHREQqwABIpOaMjY1hbGwsvhcEAdbW1oiOjhYDX15eHs6cOYOpU6eqqJZERNSQGACJJEYmk2HWrFlYuXIl2rZti9atW2PJkiWwtbVFQECAWK5Pnz4YNmwYgoODAQAFBQW4efOmuD41NRWJiYkwNzdHy5YtAQDZ2dlIT0/H/fv3AQDJyckAAGtra1hbWzfQGRIR0bMwABJJ0Lx581BYWIjJkycjJycHPXr0QFRUFPT09MQyKSkpePTokfj+3LlzeOONN8T3ISEhAIBx48Zhy5YtAIB9+/YhKChILFP5SJlly5Zh+fLl9XhGRET0PGSCIAiqrkRTlZeXB1NTU+Tm5sLExETV1SEiqt1yUyXvj1MJUtPE72/eBUxEREQkOQyARERERBLDAEhEREQkMQyARERERBLDAEhEREQkMQyARERERBLDAEhEREQkMQyARERERBKjFgEwOzsbo0ePhomJCczMzDBhwgQUFBTUWv7DDz9Eu3btoK+vj5YtW2LGjBnIzeVDTYmIiEj9qUUAHD16NK5cuYLDhw/j//7v//DHH39g8uTJNZa/f/8+7t+/j3Xr1uHy5cvYsmULoqKiMGHChAasNREREZFqNPmp4JKSkuDi4oK4uDh4enoCAKKiojBgwADcvXsXtra2ddrPTz/9hPfeew+FhYXQ0qrbFMmcSoaImhROBUcEgN/fgBr0AMbGxsLMzEwMfwDg6+sLDQ0NnDlzps77qfwhqGv4IyIiImqqmnzaycjIgKWlpcIyLS0tmJubIyMjo077ePToEVasWFHrsDEAlJSUoKSkRHyfl5f3/BUmIiIiUrFG2wO4YMECyGSyWl/Xrl176ePk5eVh4MCBcHFxwfLly2stGxoaClNTU/Flb2//0scnIiIiamiNtgfwo48+wvjx42st8+qrr8La2hpZWVkKy8vLy5GdnQ1ra+tat8/Pz4e/vz+MjY2xZ88eaGtr11p+4cKFCAkJEd/n5eUxBBIREVGT02gDYIsWLdCiRYtnlvP29kZOTg7i4+PRuXNnAMCRI0cgl8vh5eVV43Z5eXnw8/ODrq4u9u3bBz09vWceS1dXF7q6unU/CSIiIqJGqNEOAdeVs7Mz/P39MWnSJJw9exYnT55EcHAwRo4cKd4BfO/ePbRv3x5nz54F8CT89evXD4WFhdi8eTPy8vKQkZGBjIwMVFRUqPJ0iIiIiOpdo+0BfB7bt29HcHAw+vTpAw0NDQwfPhz/+te/xPVlZWVITk5GUVERACAhIUG8Q9jR0VFhX6mpqXBwcGiwuhMRERE1NLUIgObm5tixY0eN6x0cHPD04w59fHzQxB9/SERERPTCmvwQMBERERE9HwZAIiIiIolhACQiIiKSGAZAIiIiIolhACQiIiKSGAZAIiIiIolhACQiIiKSGLV4DmBjV1FRgbKyMlVXg+i5aWtrQ1NTU9XVICIiJWMArEeCICAjIwM5OTmqrgrRCzMzM4O1tTVkMpmqq0JERErCAFiPKsOfpaUlDAwM+AVKTYogCCgqKkJWVhYAwMbGRsU1IiIiZWEArCcVFRVi+GvevLmqq0P0QvT19QEAWVlZsLS05HAwEZGa4E0g9aTymj8DAwMV14To5VT+DPM6ViIi9cEAWM847EtNHX+GiYjUDwMgERERkcQwAFKTkpaWBplMhsTERJXWY/z48QgICFBpHYiIiF4UbwJRAYcF+xvsWGmrBzbYsYiIiKhpYA8gkQoIgoDy8nJVV4OIiCSKAZCqKCkpwYwZM2BpaQk9PT306NEDcXFxAABPT0+sW7dOLBsQEABtbW0UFBQAAO7evQuZTIabN28CABwcHLBq1Sq8//77MDY2RsuWLbFx48Y61+Xs2bPw8PCAnp4ePD09cf78+SplLl++jP79+8PIyAhWVlYYM2YMHj16JK6Xy+VYu3YtHB0doauri5YtW+Kzzz4T11+6dAlvvvkm9PX10bx5c0yePFk8H+DJI31CQkJgZmaG5s2bY968eRAEQaEOcrkcoaGhaN26NfT19eHm5oaff/5ZXB8TEwOZTIbffvsNnTt3hq6uLk6cOFHnz4GIiEiZGACpinnz5uGXX35BZGQkEhIS4OjoCD8/P2RnZ6N3796IiYkB8KQX6/jx4zAzMxPDzLFjx2BnZwdHR0dxf1988YUY3qZNm4apU6ciOTn5mfUoKCjAoEGD4OLigvj4eCxfvhxz5sxRKJOTk4M333wTHh4eOHfuHKKiopCZmYl33nlHLLNw4UKsXr0aS5YswdWrV7Fjxw5YWVkBAAoLC+Hn54dmzZohLi4OP/30E37//XcEBwcr1H/Lli2IiIjAiRMnkJ2djT179ijUIzQ0FFu3bkV4eDiuXLmC2bNn47333sOxY8cUyi1YsACrV69GUlISOnbsWIfWICIiUj5eA0gKCgsL8d1332HLli3o378/AGDTpk04fPgwNm/eDB8fH2zevBkVFRW4fPkydHR0EBgYiJiYGPj7+yMmJga9e/dW2OeAAQMwbdo0AMD8+fPx5Zdf4ujRo2jXrl2tddmxYwfkcjk2b94MPT09vPbaa7h79y6mTp0qlvnmm2/g4eGBVatWicsiIiJgb2+P69evw8bGBl999RW++eYbjBs3DgDQpk0b9OjRQzxGcXExtm7dCkNDQ3GfgwcPxpo1a2BlZYWwsDAsXLgQb731FgAgPDwcBw8eFI9XUlKCVatW4ffff4e3tzcA4NVXX8WJEyfw/fffK3wen376Kfr27fscLUJERKR8DICkICUlBWVlZejevbu4TFtbG127dkVSUhImTZqE/Px8nD9/HqdOnULv3r3h4+OD1atXA3jSAzh37lyFfT7d0yWTyWBtbS1OL1abyl4yPT09cVllwKp04cIFHD16FEZGRtWeS05ODkpKStCnT58aj+Hm5iaGPwDo3r075HI5kpOToaenhwcPHsDLy0tcr6WlBU9PT3EY+ObNmygqKqoS7EpLS+Hh4aGwzNPT85nnTUREVN8YAOm5mJmZwc3NDTExMYiNjUXfvn3Rq1cvBAYG4vr167hx40aVHkBtbW2F9zKZDHK5XCn1KSgoEHvr/snGxga3bt1SynGeVQcA2L9/P+zs7BTW6erqKrx/OmgSERGpCq8BJAVt2rSBjo4OTp48KS4rKytDXFwcXFxcAAC9e/fG0aNH8ccff8DHxwfm5uZwdnbGZ599BhsbGzg5OSmlLs7Ozrh48SKKi4vFZadPn1Yo06lTJ1y5cgUODg5wdHRUeBkaGqJt27bQ19dHdHR0jce4cOECCgsLxWUnT56EhoYG2rVrB1NTU9jY2ODMmTPi+vLycsTHx4vvXVxcoKuri/T09Cp1sLe3V8pnQUREpEwMgKTA0NAQU6dOxdy5cxEVFYWrV69i0qRJKCoqwoQJEwAAPj4+OHjwILS0tNC+fXtx2fbt26v0/r2Md999FzKZDJMmTcLVq1dx4MABhTuQAWD69OnIzs7GqFGjEBcXh5SUFBw8eBBBQUGoqKiAnp4e5s+fj3nz5mHr1q1ISUnB6dOnsXnzZgDA6NGjoaenh3HjxuHy5cs4evQoPvzwQ4wZM0a8UWTmzJlYvXo19u7di2vXrmHatGnIyckR62BsbIw5c+Zg9uzZiIyMREpKChISEvD1118jMjJSaZ8HERGRsnAIWAUa+8OZV69eDblcjjFjxiA/Px+enp44ePAgmjVrBgDo2bMn5HK5Qtjz8fHBV199BR8fH6XVw8jICP/73/8wZcoUeHh4wMXFBWvWrMHw4cPFMra2tjh58iTmz5+Pfv36oaSkBK1atYK/vz80NJ78fbNkyRJoaWlh6dKluH//PmxsbDBlyhQAgIGBAQ4ePIiZM2eiS5cuMDAwwPDhw7F+/XrxGB999BEePHiAcePGQUNDA++//z6GDRuG3NxcscyKFSvQokULhIaG4tatWzAzM0OnTp3w8ccfK+3zICIiUhaZ8M8HmlGd5eXlwdTUFLm5uTAxMVFYV1xcjNTUVLRu3VrhJgaipoY/y2pkuamS95f77DJEjVBt399SwSFgIiIiIolhACSVWbVqFYyMjKp9VT6DkIiIiJSP1wCSykyZMkVhxo6n6evrN3BtiIiIpIMBkFTG3Nwc5ubmqq4GERGR5HAImIiIiEhiGACJiIiIJIYBkIiIiEhiGACJiIiIJIYBkIiIiEhiGACpCkEQMHnyZJibm0Mmk8HMzAyzZs2q12MuX74c7u7uL7z9+PHjERAQoLT6vIi0tDTIZDIkJiaqtB5ERETPwsfAqIKyp2Oq9VjPP1VTVFQUtmzZgpiYGLz66qvQ0NDgc/mIiIjUCAMgVZGSkgIbGxt069ZN1VWRnNLSUujo6Ki6GkREpOY4BEwKxo8fjw8//BDp6emQyWRwcHCAj4+POAR87do1GBgYYMeOHeI2//3vf6Gvr4+rV68CAHJycjBx4kS0aNECJiYmePPNN3HhwgWF46xevRpWVlYwNjbGhAkTUFxcXOc6VlRUICQkBGZmZmjevDnmzZsHQRAUysjlcoSGhqJ169bQ19eHm5sbfv75Z4UyV65cwaBBg2BiYgJjY2P07NkTKSkp4vaffvopXnnlFejq6sLd3R1RUVEK2589exYeHh7Q09ODp6cnzp8/X6Wuly9fRv/+/WFkZAQrKyuMGTMGjx49Etf7+PggODgYs2bNgoWFBfz8/Or8ORAREb0oBkBS8NVXX4nB58GDB4iLi1NY3759e6xbtw7Tpk1Deno67t69iylTpmDNmjVwcXEBAIwYMQJZWVn47bffEB8fj06dOqFPnz7Izs4G8CQwLl++HKtWrcK5c+dgY2ODb7/9ts51/OKLL7BlyxZERETgxIkTyM7Oxp49exTKhIaGYuvWrQgPD8eVK1cwe/ZsvPfeezh27BgA4N69e+jVqxd0dXVx5MgRxMfH4/3330d5ebn4OXzxxRdYt24dLl68CD8/PwwZMgQ3btwAABQUFGDQoEFwcXFBfHw8li9fjjlz5ijUIScnB2+++SY8PDxw7tw5REVFITMzs8r0d5GRkdDR0cHJkycRHh5e58+BiIjoRcmEf3adUJ3l5eXB1NQUubm5MDExUVhXXFyM1NRUtG7dGnp6eoobNvJrAMPCwhAWFoa0tDQAT3qp3N3dERYWJpYZNGgQ8vLyoKOjA01NTURFRUEmk+HEiRMYOHAgsrKyoKurK5Z3dHTEvHnzMHnyZHTr1g0eHh7YsGGDuP71119HcXFxnW6gsLW1xezZszF37lwAQHl5OVq3bo3OnTtj7969KCkpgbm5OX7//Xd4e3uL202cOBFFRUXYsWMHPv74Y+zcuRPJycnQ1taucgw7OztMnz4dH3/8sbisa9eu6NKlCzZs2ICNGzfi448/xt27d8X2DQ8Px9SpU3H+/Hm4u7tj5cqVOH78OA4ePCju4+7du7C3t0dycjKcnJzg4+ODvLw8JCQkPPO8VaXWn2VqWpT9b88L/PtC1BjU9v0tFbwGkF5IREQEnJycoKGhgStXrkAmkwEALly4gIKCAjRv3lyh/F9//SUOryYlJWHKlCkK6729vXH06NFnHjc3NxcPHjyAl5eXuExLSwuenp7iMPDNmzdRVFSEvn37KmxbWloKDw8PAEBiYiJ69uxZbfjLy8vD/fv30b17d4Xl3bt3F4eyk5KS0LFjR4VA9HTYrPwsjh49CiMjoyrHSElJgZOTEwCgc+fOzzxvIiIiZWIApBdy4cIFFBYWQkNDAw8ePICNjQ2AJ0OjNjY2iImJqbKNmZlZg9StoKAAALB//37Y2dkprKvslWyIu5oLCgowePBgrFmzpsq6ys8LAAwNDeu9LkRERE/jNYD03LKzszF+/HgsWrQI48ePx+jRo/HXX38BADp16oSMjAxoaWnB0dFR4WVhYQEAcHZ2xpkzZxT2efr06Tod29TUFDY2Ngrbl5eXIz4+Xnzv4uICXV1dpKenV6mDvb09AKBjx444fvw4ysrKqhzDxMQEtra2OHnypMLykydPitc5Ojs74+LFiwo3r/zzHDp16oQrV67AwcGhSj0Y+oiISJXUIgBmZ2dj9OjRMDExgZmZGSZMmCD2Aj2LIAjo378/ZDIZ9u7dW78VVRNTpkyBvb09Fi9ejPXr16OiokK8AcLX1xfe3t4ICAjAoUOHkJaWhlOnTmHRokU4d+4cAGDmzJmIiIjAv//9b1y/fh3Lli3DlStX6nz8mTNnYvXq1di7dy+uXbuGadOmIScnR1xvbGyMOXPmYPbs2YiMjERKSgoSEhLw9ddfIzIyEgAQHByMvLw8jBw5EufOncONGzfw448/Ijk5GQAwd+5crFmzBrt27UJycjIWLFiAxMREzJw5EwDw7rvvQiaTYdKkSbh69SoOHDiAdevWKdRz+vTpyM7OxqhRoxAXF4eUlBQcPHgQQUFBqKioeOHPn4iI6GWpxRDw6NGj8eDBAxw+fBhlZWUICgrC5MmTFR5VUpOwsDDx+rUG04QvnN66dSsOHDiA8+fPQ0tLC1paWti2bRt69OiBQYMGoX///jhw4AAWLVqEoKAgPHz4ENbW1ujVqxesrKwAAIGBgUhJScG8efNQXFyM4cOHY+rUqQo3S9Tmo48+woMHDzBu3DhoaGjg/fffx7Bhw5Cb+/fnumLFCrRo0QKhoaG4desWzMzM0KlTJ/GmjubNm+PIkSOYO3cuevfuDU1NTbi7u4vX/c2YMQO5ubn46KOPkJWVBRcXF+zbtw9t27YFABgZGeF///sfpkyZAg8PD7i4uGDNmjUYPny4WIfKXsT58+ejX79+KCkpQatWreDv7w8NDbX424uIiJqoJn8XcFJSElxcXBAXFwdPT08AT2ayGDBgAO7evQtbW9sat01MTMSgQYPER5Hs2bPnuaYTe+G7gImaEP4sqxHeBUwEgHcBA2owBBwbGwszMzMx/AFPhiE1NDSqXGf2tKKiIrz77rvYsGEDrK2tG6KqRERERI1Ckx8CzsjIgKWlpcIyLS0tmJubIyMjo8btZs+ejW7dumHo0KF1PlZJSQlKSkrE93l5ec9fYXqm6h6bUum3335Dz549G7A2RERE6qfRBsAFCxZU+/iMpyUlJb3Qvvft24cjR45UO3VXbUJDQ/HJJ5+80DGp7mp7GPQ/H+tCREREz6/RBsCPPvoI48ePr7XMq6++Cmtra2RlZSksLy8vR3Z2do1Du0eOHEFKSkqV59INHz4cPXv2rPYZdgCwcOFChISEiO/z8vLEx4qQ8jg6Oqq6CkRERGqt0QbAFi1aoEWLFs8s5+3tjZycHMTHx4szKhw5cgRyuVxhtoinLViwABMnTlRY5urqii+//BKDBw+u8Vi6uroK05sRERERNUWNNgDWlbOzM/z9/TFp0iSEh4ejrKwMwcHBGDlypHgH8L1799CnTx9s3boVXbt2hbW1dbW9gy1btkTr1q0b+hSIiIiIGlSTvwsYALZv34727dujT58+GDBgAHr06IGNGzeK68vKypCcnIyioiIV1pKIiIiocWjyPYAAYG5uXutDnx0cHPCsxx028cchEhEREdWZWvQAEhEREVHdMQBSo1FUVIThw4fDxMQEMpkMOTk5cHBwQFhYWL0ed/z48c81A8w/+fj4YNasWUqrz4uIiYkRPzMiIqJnUYsh4KbGNdK1wY51adylBjvWy4qMjMTx48dx6tQpWFhYwNTUFHFxcTA0NFR11YiIiNQKAyA1GikpKXB2dkaHDh3EZXV5FBApR2lpKXR0dFRdDSIiagAcAqYq5HI51q5dC0dHR+jq6qJly5b47LPPAAB3797FqFGjYG5uDkNDQ3h6eopzLqekpGDo0KGwsrKCkZERunTpgt9//71Ox/Tx8cEXX3yBP/74AzKZDD4+PgCgMAQcExMDHR0dHD9+XNxu7dq1sLS0RGZmJgDgzp07eOedd2BmZgZzc3MMHToUaWlpYvmKigqEhITAzMwMzZs3x7x5857rBqDCwkKMHTsWRkZGsLGxwRdffFGlTElJCebMmQM7OzsYGhrCy8urysPFT548CR8fHxgYGKBZs2bw8/PD48ePxe1nzJgBS0tL6OnpoUePHoiLi1PY/sCBA3BycoK+vj7eeOMNhXOsdOLECfTs2RP6+vqwt7fHjBkzUFhYKK53cHDAihUrMHbsWJiYmGDy5Ml1/hyIiKhpYwCkKhYuXIjVq1djyZIluHr1Knbs2AErKysUFBSgd+/euHfvHvbt24cLFy5g3rx5kMvlAICCggIMGDAA0dHROH/+PPz9/TF48GCkp6c/85i7d+/GpEmT4O3tjQcPHmD37t1VylReazdmzBjk5ubi/PnzWLJkCX744QdYWVmhrKwMfn5+MDY2xvHjx3Hy5EkYGRnB398fpaWlAIAvvvgCW7ZsQUREBE6cOIHs7Gzs2bOnzp/N3LlzcezYMfz66684dOgQYmJikJCQoFAmODgYsbGx2LlzJy5evIgRI0bA398fN27cAPBkqrs+ffrAxcUFsbGxOHHiBAYPHoyKigoAwLx58/DLL78gMjISCQkJcHR0hJ+fH7KzswE8CblvvfUWBg8ejMTEREycOBELFixQqENKSgr8/f0xfPhwXLx4Ebt27cKJEycQHBysUG7dunVwc3MTP0siIpIGmcDnn7ywvLw8mJqaIjc3FyYmJgrriouLkZqaitatW0NPT09hXWO+BjA/Px8tWrTAN998U2W2lI0bN2LOnDlIS0uDubl5nfbXoUMHTJkypUrwqM6sWbOQmJio0Fvm4OCAWbNmiTdZlJaWwsvLC05OTrh8+TK6d+8uPvNx27ZtWLlyJZKSkiCTycTyZmZm2Lt3L/r16wdbW1vMnj0bc+fOBfBk2sDWrVujc+fO2Lt3b631KygoQPPmzbFt2zaMGDECAJCdnY1XXnkFkydPRlhYGNLT0/Hqq68iPT1dfBA5APj6+qJr165YtWoV3n33XaSnp+PEiRNVjlFYWIhmzZphy5YtePfddwE8eY5l5ecwd+5cfPzxx/j1119x5coVcbvKubMfP34MMzMzTJw4EZqamvj+++/FMidOnEDv3r1RWFgIPT09ODg4wMPD45kBuLafZWpilpsqeX+5yt0fUQOp7ftbKngNIClISkpCSUkJ+vTpU2VdYmIiPDw8agx/BQUFWL58Ofbv348HDx6gvLwcf/31V516AOtKR0cH27dvR8eOHdGqVSt8+eWX4roLFy7g5s2bMDY2VtimuLgYKSkpyM3NxYMHDxSmCNTS0oKnp2edhoFTUlLEAFrJ3Nwc7dq1E99funQJFRUVcHJyUti2pKQEzZs3B/Dkc6wMkNUdo6ysDN27dxeXaWtro2vXrkhKSgLwpI3+Oc2ht7e3wvsLFy7g4sWL2L59u7hMEATI5XKkpqbC2dkZAODp6fnM8yYiIvXDAEgK9PX1X2gdAMyZMweHDx/GunXr4OjoCH19fbz99tvi8KuynDp1CsCT3rfs7GzxLuGCggJ07txZIfRUaqibSQoKCqCpqYn4+HhoamoqrDMyMgLw7M9RWfX44IMPMGPGjCrrWrZsKf4/77AmIpImXgNICtq2bQt9fX1ER0dXWdexY0ckJiaK16L908mTJzF+/HgMGzYMrq6usLa2rvbmhJeRkpKC2bNnY9OmTfDy8sK4cePEaxA7deqEGzduwNLSEo6OjgovU1NTmJqawsbGRrxpBXgyBBwfH1+nY7dp0wba2toK2z9+/BjXr18X33t4eKCiogJZWVlV6lA5/3THjh2r/Xwrj6Gjo4OTJ0+Ky8rKyhAXFwcXFxcAT+a/Pnv2rMJ2p0+fVnjfqVMnXL16tUodHB0deacvERGxB5AU6enpYf78+Zg3bx50dHTQvXt3PHz4EFeuXMGYMWOwatUqBAQEIDQ0FDY2Njh//jxsbW3h7e2Ntm3bYvfu3Rg8eDBkMhmWLFkihjNlqKiowHvvvQc/Pz8EBQXB398frq6u+OKLLzB37lyMHj0an3/+OYYOHYpPP/0Ur7zyCm7fvo3du3dj3rx5eOWVVzBz5kysXr0abdu2Rfv27bF+/fo6PzzZyMgIEyZMwNy5c9G8eXNYWlpi0aJF0ND4++8oJycnjB49GmPHjsUXX3wBDw8PPHz4ENHR0ejYsSMGDhyIhQsXwtXVFdOmTcOUKVOgo6ODo0ePYsSIEbCwsMDUqVMxd+5cmJubo2XLlli7di2KioowYcIEAMCUKVPEc544cSLi4+OxZcsWhbrOnz8fr7/+OoKDgzFx4kQYGhri6tWrOHz4ML755htlNQk1Nbxmj4j+P/YAUhVLlizBRx99hKVLl8LZ2RmBgYHIysqCjo4ODh06BEtLSwwYMACurq5YvXq1ONS5fv16NGvWDN26dcPgwYPh5+eHTp06Ka1en332GW7fvi3e2GBjY4ONGzdi8eLFuHDhAgwMDPDHH3+gZcuWeOutt+Ds7IwJEyaguLhYvMj3o48+wpgxYzBu3Dh4e3vD2NgYw4YNq3MdPv/8c/Ts2RODBw+Gr68vevTogc6dOyuU+fe//42xY8fio48+Qrt27RAQEIC4uDhx6NXJyQmHDh3ChQsX0LVrV3h7e+PXX3+FltaTv8dWr16N4cOHY8yYMejUqRNu3ryJgwcPolmzZgCeDOH+8ssv2Lt3L9zc3BAeHo5Vq1Yp1KFjx444duwYrl+/jp49e8LDwwNLly5VuDGFpEMQBCxduhQ2NjbQ19eHr6+veFd6XaxevRoymazaGW9iY2Px5ptvwtDQECYmJujVqxf++usvJdaeiOoD7wJ+CS96FzBRU8Kf5aZvzZo1CA0NRWRkJFq3bo0lS5bg0qVLuHr16jPbNC4uDu+88w5MTEzwxhtvKEzNGBsbC39/fyxcuBCDBw+GlpYWLly4gKFDh0JXV7eez4roxfEuYPYAEhGpNUEQEBYWhsWLF2Po0KHo2LEjtm7divv379fp0UejR4/Gpk2bxB7op82ePRszZszAggUL8Nprr6Fdu3Z45513GP6ImgAGQGoQx48fh5GRUY2vxiA9Pb3WOirzcTZEDSU1NRUZGRnw9fUVl5mamsLLywuxsbG1bjt9+nQMHDhQYdtKWVlZOHPmDCwtLdGtWzdYWVmhd+/e1T7fkogaH94EQg3C09MTiYmJqq5GrWxtbWutI6+fo6YoIyMDAGBlZaWw3MrKSlxXnZ07dyIhIaHKNISVbt26BQBYvnw51q1bB3d3d2zduhV9+vTB5cuX0bZtWyWdARHVBwZAahD6+vpwdHRUdTVqpaWl1ejrSPQs27dvxwcffCC+379//3Pv486dO5g5cyYOHz5c4zWClXf4f/DBBwgKCgLw5DFI0dHRiIiIQGho6AvUnogaCgNgPeM9NtTU8We4aRkyZIjCTDElJSUAgMzMTNjY2IjLMzMz4e7uXu0+4uPjkZWVpXAXf0VFBf744w988803KCkpEfdV+XzKSs7OzrxcgqgJYACsJ9ra2gCAoqKiBpn5gai+FBUVAfj7Z5oaN2NjY4XpEAVBgLW1NaKjo8XAl5eXhzNnzmDq1KnV7qNPnz64dElxHvGgoCC0b98e8+fPh6amJhwcHGBra4vk5GSFctevX0f//v2Ve1JEpHQMgPVEU1MTZmZmyMrKAgAYGBhAJpOpuFZEdScIAoqKipCVlQUzM7MqU9tR01D5/L6VK1eibdu24mNgbG1tERAQIJbr06cPhg0bhuDgYBgbG6NDhw4K+zE0NETz5s3F5TKZDHPnzsWyZcvg5uYGd3d3REZG4tq1a/j5558b8hSJ6AUwANajyqm/KkMgUVNkZmYm/ixT0zRv3jwUFhZi8uTJyMnJQY8ePRAVFaVwfV9KSgoePXr0XPudNWsWiouLMXv2bGRnZ8PNzQ2HDx9GmzZtlH0KRKRkfBD0S6jrgyQrKipQVlbWgDUjUg5tbW32/BGR2uGDoNkD2CA0NTX5JUpERESNBh8ETURERCQxDIBEREREEsMASERERCQxvAbwJVTeP5OXl6fimhAREVFdVX5vS/k+WAbAl5Cfnw8AsLe3V3FNiIiI6Hnl5+fD1NRU1dVQCT4G5iXI5XLcv38fxsbGknrIc15eHuzt7XHnzh3J3j4vJWxvaWF7S4tU21sQBOTn58PW1hYaGtK8Go49gC9BQ0MDr7zyiqqroTImJiaS+gdD6tje0sL2lhYptrdUe/4qSTP2EhEREUkYAyARERGRxDAA0nPT1dXFsmXLoKurq+qqUANge0sL21ta2N7SxZtAiIiIiCSGPYBEREREEsMASERERCQxDIBEREREEsMASERERCQxDIBE1Gg9fvwYgLTn6yRSV48ePQLA329VYQCkRq24uBi//fYbxo8fj6lTp6q6OtRAsrKyYGdnhy5duqCsrExSUy1KCX+/pam4uBht2rSBpaUlSktL+futIpwKjhq1efPm4eTJk3j48CEsLCxw/fp1ODk5QRAE/qOhxr777js0a9YMgiDg3Llz8Pb2hlwul+ycneqKv9/StHXrVrRo0QJ//vknjh07hr59+/L3WwUYAEnlEhMTcejQIRgaGuKtt96CjY2NuM7FxQW+vr7Iz8/Ht99+i7i4OH5BNHEXL17E3r17oa+vj9GjR8PW1lZcJwgCSktLkZycjEGDBiExMRGHDx+Gt7c3h4maqCtXruCPP/7A0KFDYWtrK7ajTCbj77caqq69K9uyMuSdPHkSb775JqysrLB7924GQBXhp00q8/vvv6NXr17w8/NDdHQ0tm/fDj8/P+zZswfAkzAwefJkDBkyBD179oShoSESEhIAgF8OTUzll/6GDRvg6+uL48eP46effsKAAQPw66+/AoA4FHT06FFkZmZi/vz5aN68Oc6cOQOAbd7UnDx5UvzdnT59utjOcrlcbEv+fquPkydPYujQoWJ779u3D8CT9gae/BugoaGBM2fOIDU1FbNnz0abNm3wxx9/AGCbqwIDINW7oqIipKWlAfj7H4OioiKcPXsWbdu2xfnz53Hw4EFs2rQJHTt2xLp168RtK/8itLOzg729PZKTk1FcXMx/LBqxyrbNzMwUl8lkMly9ehXr1q3DggULcPjwYWzbtg3u7u6YPXs2AEBHRwdyuRyHDh1Ct27d0KxZM7i6uuLOnTsAwN6BRuqf7V35O15aWopmzZrh66+/RkBAAGJjYwEoftHz97vpqWt7nzp1CsDf7V3539jYWLRu3RotWrSAl5cX7t69CwDQ1NRs6FMhgagelJSUCL/99pswZMgQQSaTCR07dhQEQRAqKioEQRCEsrIy4fr160J2drbCduvXrxe8vb2FwsJCcZlcLhcEQRA+//xz4fXXXxfi4uIU9kWqV1BQIERGRgpdunQRDAwMhA4dOgi9evUSNm3aJJY5fPiwoKOjo7Dd7du3BW1tbeGXX34R5HK5UFFRIXTo0EHIysoSBEEQ9u/fL7Rp00YYNGiQ8Pnnnyv8XJDq1KW9S0pKhNzcXEEQBGHx4sWCh4eHUF5eXmVf/P1u/JTR3pXt3KlTJyE5OVkQBEG4fPmyYGNjI/Tr109YsGCBcPfu3QY8K+Kf1FQviouLcejQIVhaWmLRokW4efMmCgsLxb/4tbS00LZtWzRr1gwAUFFRAQCIiopChw4doKenJ+5L+P/Dh25ubpDJZDh37lwDnw09y40bN/Ddd9/hrbfewuXLl7F79260bdsWc+bMQX5+PgDg4cOHsLGxEXuDy8rK0LJlS3Tu3Bl79+6FTCbDt99+C3Nzc2zevBn9+vXD22+/jbt37+LkyZNwcHBgL2AjUZf21tHRgYmJCQDAyckJRUVF4u9uZa8RwN/vpqAu7a2trV1je1dUVEAmk2HXrl3Q09PDv//9b/j7+6Nr167Izs5GbGws3NzcYGRkpLJzlCL+a0rPpfIf65KSEkRFRWHEiBFo27YtkpOTFcqZmJhgxIgR+PTTTzFu3DjIZDLExMQo7ONpmpqaiIuLw7Vr1zB8+HBoaGiI5Sq/9F1dXdG8eXMkJiYC+Ds0Uv2pa3s3a9YMU6ZMwbRp09C6dWu0bdsWn376KXR1dXH8+HEAT9rRwsICFy5cUNj3wIEDxeHBFi1a4Pjx4/jll1/QoUMHbN++He+++y48PDzw9ttvK/xhQMqnjPY+efKkuK/KoNe+fXuYm5vjyJEjCscB+PutStW1t5OTU53bW0dHR2xvAFXa++jRowCA8vJyAICZmRlOnz6No0ePwtnZGbt27cLs2bPRokULjBw5Eqampg1x2vT/MQBSnZSWliI+Pl68juO3337D559/DgBISUkRL95+mre3N2xsbGBrawt3d3fxouDqAqAgCFi/fj28vb3h5+eH8vLyKtcBWVtbw8bGBrGxsZg2bRocHR1x6dIlZZ8q4fnbu1WrVhg3bpzYAwAA165dg4mJCbS1tQEA7dq1g7GxMU6fPg3g7y9+Ly8v3LlzB6WlpQgICEBKSgpOnTqF9evXY9iwYXB3d8eVK1eQkpJS7+ctVcpsbx0dHQBPrvmqbGMHBwe8+uqr4nVh1fXk8ve74dTW3jdv3qxze5uamkJXVxdA7e1d+W9A3759kZqaiuPHj+PLL7/EoEGD0K1bN6SmpuLq1asA+FDohsQASDU6fvw4Zs6ciTZt2kBPTw+jRo0SL9i1sLDABx98gI0bN8LX1xf79++vcT/6+vrw9fXF4cOHAVR/t1dMTAyOHTuGxYsXA3gyRPy0PXv2wMfHBz/88ANSU1Nx/fp1jB07Fvb29so6Xcl72fYWBEF8AcDBgwdhbW2Nvn37AnjSK+Ds7Cz2AlW2cV5eHpo1a4bs7Gzo6uqidevW0NbWFvfToUMHBAYGKgwb0surr/Z+8803q3yJt2jRAq+99hpSU1ORm5tb5d8A/n7Xv/pq7zfeeKPG9r516xZyc3PFYKihoYGWLVuKgRB4Mlz8wQcfiD2+vAGoATXUxYbUdISFhQn6+vqCqampMGjQIOHnn38WBg0aJAwePLja8uvXrxdatmwp5Ofn17jP6OhoQSaTCffu3at2fY8ePYTPPvtMEARB+PPPP4X//Oc/wpEjR8T1//3vf4UZM2YIZ86ceYkzo+rUR3unpaUJdnZ2QlRUlCAIf18AfvToUcHY2Fj45ptvxBs6+vbtKwQGBvIGjwbSEO39tMq2//XXXwVXV1dh48aNwg8//CD85z//Ecvw97v+NMb2psaBAVDCsrOzhSNHjoihrLS0VBAEQUhOThauXr2qUPbdd98V+vfvLwjC33fnVf6iX7p0SdDQ0BASExNrPNbdu3eFFi1aCFu2bKmybv369YJMJhPefvttoUuXLoKOjo6gra0trFmz5uVPkkQN0d5lZWWCIAjCiBEjhICAAHGbp61cuVJwcHAQfHx8hA4dOgjOzs7CiRMnlHSWVKmxtHd+fr5w8OBBYfDgwYJMJhNkMpmgp6cnrFy5UklnSoLA9qbnxwAoQYmJiUJgYKBgYGAgGBgYCD/++KMgCEKVX+bK9yUlJYKbm5uwaNGiavdXXl4u2NjYCGFhYTUes6SkRAgICBBGjBghlJeXC7GxscL9+/eFiooK4cMPPxRMTEyE4cOHCxs2bBAyMzOVdKYkCA3f3r/++qvwyiuvCJcvXxaX3b59W9x/RUWFcOXKFWHx4sXCDz/8IPz555/V1odeTGNp70rXrl0TXF1dBX9/f2Hbtm3Co0ePXur8SBHbm14UrwFUc5XXYAB/X1z7559/oqKiAl9//TVcXV3Fi+v/ee2FTCaDIAjQ0dHBgwcP0KpVK4X9VNLU1ESvXr1w8ODBautQWlqKCxcuoKSkBD///DNMTEzg7++PpKQkaGhoYOXKlcjNzcXPP/+MadOmwdLSUqmfgZSour0fP36Mr7/+Gl5eXkhNTcWQIUNgYmICT09PsV4aGhpwcXHBihUrMGHCBJibm1dbH3q2xtzejx8/BvDk5p+LFy/it99+w+jRo9G8eXPlfggSwvYmpVJN7qT6UPkXXmpqqjBq1CjBxMREcHJyEgICAoTY2FixXG5urpCWliYIgiC8/fbbwsiRI2v9K+3KlStC+/bthY0bNwqCUP0DWrdu3SpYWFgIjx8/FkpLS4WcnByxTmvXrhU0NDQEJycnYfny5cLx48eVds5S1pja+/Hjx4IgCMK5c+fEYZ9WrVoJU6dOFWJiYpR1ypLG9pYWtjfVN/YAqoG0tDRMnz4dMpkM5eXlWLlyJcrLy3HgwAHs378fMpkMH3zwAa5cuQLgyTP6Kv/68/DwwL1793Djxg0Ain8NVv5/fn4+/vzzT7Rt2xZA1Uc4CIKAdu3a4c8//8To0aPRrl07fPzxx8jPz4dMJsPIkSNRWFiI5ORkLFu2DD169Kj3z0SdNdb2/uuvv9CyZUvExMSI0/99++236N27d71/JuqM7S0tbG9qMKrJnfQyHj58qPD++PHjgkwmE86dOyekp6cLFhYWwo4dO8T1WVlZgoeHh/DBBx+Iyyov5j127Jjg4eEhbN68WRCE6q/DOnPmjCCTycTpuZ6WkpIiDBw4UJDJZEKLFi2EoUOHCl9++aVYR17X9fKaUnvTy2N7Swvbm1SFPYBNyP79+6Gnp4dBgwbh2rVr4nJHR0e4uLggJiYGWVlZaNWqFSwsLMT1f/31F7KysnDixAncu3cPwN8Tb3fq1An6+vriQziruw4rMTER7du3R05OTpV12traGDFiBM6dO4esrCzs3bsXs2bNEo/P67peXFNsb3pxbG9pYXuTqjEANiEtW7bEK6+8grNnz+Ljjz8Wf8mNjY3h7e2NPXv2wNXVFSYmJli1ahXy8/PFGy86dOiAa9eu4fbt2wCe/MMgl8thZGSEtm3bIiUlRfzHpFLlgznPnTuHioqKam/OsLe3x7hx49CpU6d6PnvpYXtLC9tbWtjepGoMgE1ImzZt4OrqiqFDh0JDQwOjR49GeXk5DA0N8cYbb+D06dPQ1tbG8uXLkZ+fD0dHRxgaGuL777/HnDlzYGpqilu3bgFQnIy9W7duePjwIU6dOoWjR4/if//7H4C/rxkZOXIkwsLCOE9jA2N7SwvbW1rY3qRyqh2Bpuc1adIkYdCgQcKtW7eEtm3bCiNHjhSysrKE69evC3p6esKBAwcEQXhyLcepU6eE+/fvC4Lw5OGcrq6uwr/+9S9BEJ5cG1JSUiLExcUJU6dOFe/s0tLSEqZNm6ay8yNFbG9pYXtLC9ubVIkBsIn5z3/+I3Tp0kVITU0VkpKShHbt2gkTJ04UkpOThX79+gnvv/9+tdt9/fXXgoWFhZCeni4uy8vLE2QymfDaa68Jn332mXD+/PkGOguqK7a3tLC9pYXtTarEANjE3Lp1S3j99deFb7/9VhAEQfjtt9+E119/XRgwYICwePFiwcHBQRCEJ/8YnD59WsjKyhJ27twp9OrVS1i5cqV4V9jTszJQ48X2lha2t7SwvUmVtFQ9BE3P55VXXoG5uTkSExMBAP7+/rCxsUHv3r3x559/4vbt28jLy4O+vj7Wrl2L6Oho6OjoYOzYsQgODhbvCqv87z+fAUWNC9tbWtje0sL2JlXiT0sTo62tjddeew23b98Wp95xc3NDZGQk0tLSAADHjx+HtrY25s+fj/j4eGRlZWHdunW86LcJYntLC9tbWtjepErsAWyCfH19cfDgQZw9exZ+fn6oqKjA0KFDYWtri/Lycnh7e0MQBHTt2lXVVSUlYHtLC9tbWtjepCoMgE1Qx44d8dprr0FbWxvA3w8B7dKli1iGD2BWH2xvaWF7Swvbm1RFJghPTRZIRERERGqP1wASERERSQwDIBEREZHEMAASERERSQwDIBEREZHEMAASERERSQwDIBEREZHEMAASERERSQwDIBEREZHEMAASERERSQwDIBEREZHEMAASERERSQwDIBEREZHEMAASERERScz/A0/T1VNjXzCLAAAAAElFTkSuQmCC' width=640.0/>\n",
       "            </div>\n",
       "        "
      ],
      "text/plain": [
       "Canvas(toolbar=Toolbar(toolitems=[('Home', 'Reset original view', 'home', 'home'), ('Back', 'Back to previous …"
      ]
     },
     "metadata": {},
     "output_type": "display_data"
    }
   ],
   "source": [
    "plot_dict = {}\n",
    "plot_dict['own_decoder'] = limbfoot_pca_vaf_scores\n",
    "plot_dict['fixed_decoder'] = limbfoot_fixed_vaf_scores\n",
    "plot_dict['cca_fixed_decoder'] = limbfoot_cca_vaf_scores\n",
    "\n",
    "index = var_names\n",
    "\n",
    "df = pd.DataFrame(data=plot_dict, index=index)\n",
    "\n",
    "  \n",
    "# plot grouped bar chart\n",
    "ax = df.plot.bar(rot=15)\n",
    "for container in ax.containers:\n",
    "    ax.bar_label(container)\n",
    "\n"
   ]
  },
  {
   "cell_type": "markdown",
   "id": "dc81cfe8-d304-4c8a-91da-fc72aef92254",
   "metadata": {},
   "source": [
    "# state space visualization"
   ]
  },
  {
   "cell_type": "code",
   "execution_count": null,
   "id": "79d86f70-1501-41c1-9a16-d68097179215",
   "metadata": {},
   "outputs": [],
   "source": [
    "x_pca_plot = []\n",
    "\n",
    "for i in range(len(var_names)):\n",
    "    x_pca_plot.append(cca_dict[var_names[1]].back_to_gait(pca_x_list[i]))"
   ]
  },
  {
   "cell_type": "code",
   "execution_count": null,
   "id": "a07f1c97-b49a-4cbd-9a30-e97e6df03aad",
   "metadata": {},
   "outputs": [],
   "source": [
    "plot_all(x_pca_plot, labels=var_names, subsample=1)"
   ]
  },
  {
   "cell_type": "code",
   "execution_count": null,
   "id": "937b5df3-775c-4773-b0d7-31ff4ba68074",
   "metadata": {},
   "outputs": [],
   "source": [
    "x_cca_plot = []\n",
    "\n",
    "for i in range(len(var_names)):\n",
    "    x_cca_plot.append(cca_dict[var_names[1]].back_to_gait(cca_x_list[i]))"
   ]
  },
  {
   "cell_type": "code",
   "execution_count": null,
   "id": "219ae94d-6deb-4d9e-af6e-ac59ea16108a",
   "metadata": {},
   "outputs": [],
   "source": [
    "plot_all(x_ca_plot, labels=var_names, subsample=1)"
   ]
  },
  {
   "cell_type": "code",
   "execution_count": null,
   "id": "012df54d-06f3-4e2b-ba0b-0d29c8af98ed",
   "metadata": {},
   "outputs": [],
   "source": [
    "plot_all([x_cca_plot[1]], labels = [var_names[1]])"
   ]
  },
  {
   "cell_type": "markdown",
   "id": "f253c1a8-fd3d-4848-ba64-706ef5ca795d",
   "metadata": {},
   "source": [
    "# scrapyard"
   ]
  },
  {
   "cell_type": "code",
   "execution_count": null,
   "id": "316ee94a-a930-44f9-80b0-d2d070862597",
   "metadata": {},
   "outputs": [],
   "source": [
    "x = pca_x_list[0]\n",
    "y = proc_y_list[0]"
   ]
  },
  {
   "cell_type": "code",
   "execution_count": null,
   "id": "88144a54-cae0-439f-b767-a8b94d4785d7",
   "metadata": {},
   "outputs": [],
   "source": [
    "x_ret, y_ret = cca_dict[var_names[1]].back_to_gait(x,y)"
   ]
  },
  {
   "cell_type": "code",
   "execution_count": null,
   "id": "1e58d694-0133-4972-819e-4255133a0350",
   "metadata": {},
   "outputs": [],
   "source": [
    "for thing in x_ret:\n",
    "    x_ret"
   ]
  },
  {
   "cell_type": "code",
   "execution_count": null,
   "id": "021bba7a-6cba-43be-9f5c-5d72d4095052",
   "metadata": {},
   "outputs": [],
   "source": [
    "avg_samples = cca_dict[var_names[1]].cp1.avg_gait_samples"
   ]
  },
  {
   "cell_type": "code",
   "execution_count": null,
   "id": "2d45ac27-96bb-4f88-8a0a-a72700ee7122",
   "metadata": {},
   "outputs": [],
   "source": [
    "test = np.reshape(x, (int(x.shape[0]/avg_samples), avg_samples, x.shape[1]), 'C')"
   ]
  },
  {
   "cell_type": "code",
   "execution_count": null,
   "id": "a2383143-a894-4315-b735-c3332dca6121",
   "metadata": {},
   "outputs": [],
   "source": [
    "x.shape[0] / avg_samples"
   ]
  },
  {
   "cell_type": "code",
   "execution_count": null,
   "id": "a35256d2-689f-466b-b14e-9176d68bf374",
   "metadata": {},
   "outputs": [],
   "source": [
    "x.shape[0]/avg_samples"
   ]
  },
  {
   "cell_type": "code",
   "execution_count": null,
   "id": "08a728c1-940a-428f-9d67-ac3b794787cb",
   "metadata": {},
   "outputs": [],
   "source": []
  }
 ],
 "metadata": {
  "kernelspec": {
   "display_name": "Python 3",
   "language": "python",
   "name": "python3"
  },
  "language_info": {
   "codemirror_mode": {
    "name": "ipython",
    "version": 3
   },
   "file_extension": ".py",
   "mimetype": "text/x-python",
   "name": "python",
   "nbconvert_exporter": "python",
   "pygments_lexer": "ipython3",
   "version": "3.7.0"
  }
 },
 "nbformat": 4,
 "nbformat_minor": 5
}
