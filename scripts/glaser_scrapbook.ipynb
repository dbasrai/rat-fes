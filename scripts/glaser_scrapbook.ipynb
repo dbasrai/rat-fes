{
 "cells": [
  {
   "cell_type": "code",
   "execution_count": 71,
   "id": "1be7faca-2935-4144-830f-2627816a616b",
   "metadata": {},
   "outputs": [
    {
     "name": "stdout",
     "output_type": "stream",
     "text": [
      "The autoreload extension is already loaded. To reload it, use:\n",
      "  %reload_ext autoreload\n"
     ]
    }
   ],
   "source": [
    "%matplotlib widget\n",
    "%load_ext autoreload\n",
    "%autoreload 2\n",
    "from src.folder_handler import *\n",
    "from src.cort_processor import *\n",
    "from src.cca_processor import *\n",
    "from src.tdt_support import *\n",
    "from src.plotter import *\n",
    "from src.decoders import *\n",
    "import pickle\n",
    "import scipy as sio\n",
    "import numpy as np\n",
    "import matplotlib.pyplot as plt\n",
    "from  matplotlib.colors import LinearSegmentedColormap\n",
    "from src.wiener_filter import *\n",
    "from matplotlib.pyplot import cm\n",
    "from sklearn.cross_decomposition import CCA\n",
    "from sklearn.preprocessing import StandardScaler\n",
    "from sklearn.linear_model import Ridge\n",
    "import os"
   ]
  },
  {
   "cell_type": "markdown",
   "id": "492e1dd8-cb9e-4f94-9a21-ceb92ac079d5",
   "metadata": {},
   "source": [
    "# set paths/create objects\n",
    "\n",
    "cp1 = day-0\n",
    "\n",
    "cp2 = day-n"
   ]
  },
  {
   "cell_type": "code",
   "execution_count": 72,
   "id": "3082ac9c-c4a4-4fbe-b2d4-11c89a1518f8",
   "metadata": {},
   "outputs": [
    {
     "name": "stdout",
     "output_type": "stream",
     "text": [
      "this is filipe data i belive\n",
      "this is filipe data i belive\n",
      "should be good to align\n",
      "(8645, 28)\n",
      "(8645, 5)\n",
      "(8645, 27)\n",
      "(8645, 5)\n"
     ]
    }
   ],
   "source": [
    "cp1_path = '/home/diya/Documents/rat-fes/data/filipe_data/N6/N6_171026_No Obstacles_s.mat'\n",
    "cp2_path = '/home/diya/Documents/rat-fes/data/filipe_data/N6/N6_171211_No Obstacles_s.mat'\n",
    "\n",
    "cp1 = CortProcessor(cp1_path)\n",
    "cp2 = CortProcessor(cp2_path)\n",
    "\n",
    "cca_object = CCAProcessor(cp1, cp2)"
   ]
  },
  {
   "cell_type": "markdown",
   "id": "25dd57ff-278d-4872-b0dd-b8c3ea710dcf",
   "metadata": {},
   "source": [
    "# Getting PCA dimensions"
   ]
  },
  {
   "cell_type": "code",
   "execution_count": 73,
   "id": "b9e2ae37-1f91-46bc-b33b-ce431af12953",
   "metadata": {},
   "outputs": [
    {
     "name": "stdout",
     "output_type": "stream",
     "text": [
      "15\n"
     ]
    }
   ],
   "source": [
    "#dimensions is lower of PCA95%\n",
    "temp, nada, nada = cca_object.apply_PCA()\n",
    "lowest_num_dimensions = temp\n",
    "print(lowest_num_dimensions)"
   ]
  },
  {
   "cell_type": "markdown",
   "id": "ceefc657-8573-49f1-9acd-445fc82fd836",
   "metadata": {},
   "source": [
    "# storing day-n raw (unaligned, unprocessed) data as test sets"
   ]
  },
  {
   "cell_type": "code",
   "execution_count": 74,
   "id": "5995d830-e7f2-4442-964e-6b083c6d4a7d",
   "metadata": {},
   "outputs": [],
   "source": [
    "#get unprocessed day2 neural data as test set\n",
    "test_x = np.squeeze(np.array(cp2.apply_PCA(dims=lowest_num_dimensions)))\n",
    "test_y = np.squeeze(np.array(cp2.data['angles']))\n",
    "\n",
    "test_x_format, test_y_format = format_data(test_x, test_y)\n",
    "\n",
    "#scaled version\n",
    "scaler = StandardScaler()\n",
    "test_x_scale = scaler.fit_transform(test_x)\n",
    "\n",
    "test_x_format_scale, nada = format_data(test_x_scale, test_y)"
   ]
  },
  {
   "cell_type": "markdown",
   "id": "ff052f09-3a95-49fe-9572-0f4ecae59364",
   "metadata": {},
   "source": [
    "# choosing subsampling list"
   ]
  },
  {
   "cell_type": "code",
   "execution_count": 75,
   "id": "ef2e3a27-42f6-444b-9a6a-b0078e0cd02c",
   "metadata": {},
   "outputs": [],
   "source": [
    "#percent of total data\n",
    "subsample_list = [.05, .2, .5, 1.0]"
   ]
  },
  {
   "cell_type": "markdown",
   "id": "d6869f2f-5b25-439e-b370-13fbebab03eb",
   "metadata": {},
   "source": [
    "# getting day0 decoder\n",
    "apply PCA, and then train wiener filter.\n",
    "also get a day0-scaled-weights-decoder"
   ]
  },
  {
   "cell_type": "code",
   "execution_count": 76,
   "id": "288573e2-2a3f-4539-8848-7039ae7b7958",
   "metadata": {},
   "outputs": [
    {
     "name": "stdout",
     "output_type": "stream",
     "text": [
      "0.254\n",
      "0.255\n"
     ]
    }
   ],
   "source": [
    "#get day0 decoder weights, scaled + unscaled versions\n",
    "\n",
    "day0_decoder, nada, naday, nadax = cp1.decode_angles(X=cp1.apply_PCA(lowest_num_dimensions))\n",
    "print(np.average(nada, 1)[1])\n",
    "\n",
    "X_tempy =cp1.apply_PCA(lowest_num_dimensions)\n",
    "scaler = StandardScaler()\n",
    "X_scale = scaler.fit_transform(np.squeeze(X_tempy))\n",
    "day0_decoder_scale, nada, naday, nadax = cp1.decode_angles(X=[X_scale])\n",
    "\n",
    "print(np.average(nada, 1)[1])"
   ]
  },
  {
   "cell_type": "markdown",
   "id": "bb1ee243-8361-4832-958d-2cf3a21d6cdb",
   "metadata": {},
   "source": [
    "# getting JUST-PCA decoder\n",
    "we subsample day-n data, apply PCA, and then train a wiener filter on it to spit out a decoder. Then we try decoder on the day2-test set"
   ]
  },
  {
   "cell_type": "code",
   "execution_count": 77,
   "id": "06a8bf2b-a49f-4c04-8477-00b9cbbf2145",
   "metadata": {},
   "outputs": [],
   "source": [
    "pca_decoder = []\n",
    "\n",
    "for i in range(len(subsample_list)):\n",
    "    sub_x, sub_y = cp2.subsample(percent = subsample_list[i])\n",
    "    sub_x_pca = cp2.apply_PCA(dims=lowest_num_dimensions, X=sub_x)\n",
    "    \n",
    "    temp_h, nada, nadax, naday = cp2.decode_angles(X=sub_x_pca, Y=sub_y)\n",
    "    pca_decoder.append(temp_h)"
   ]
  },
  {
   "cell_type": "markdown",
   "id": "e6188a09-0bf2-4d1e-9a8c-b1e40a2e3b2d",
   "metadata": {},
   "source": [
    "# getting CCA scores"
   ]
  },
  {
   "cell_type": "code",
   "execution_count": 78,
   "id": "1aa4fec0-056f-48cd-b800-3b8a18bf64ad",
   "metadata": {},
   "outputs": [
    {
     "name": "stdout",
     "output_type": "stream",
     "text": [
      "0.24\n",
      "0.19\n",
      "0.34\n",
      "0.28\n"
     ]
    }
   ],
   "source": [
    "cca_decoder_scores = []\n",
    "cca_transformers=[]\n",
    "\n",
    "for i in range(len(subsample_list)):\n",
    "    sub_x1, sub_y1, sub_x2, sub_y2 = cca_object.subsample(percent = subsample_list[i])\n",
    "    nada, pca_sub_x1, pca_sub_x2 = cca_object.apply_PCA(cp1_x = sub_x1, cp2_x = sub_x2, preset_num_components=lowest_num_dimensions)\n",
    "    temp_cca_transformer, sanity_x = cca_object.apply_CCA(cp1_x = pca_sub_x1, cp2_x = pca_sub_x2, preset_num_components = lowest_num_dimensions)\n",
    "    nada, test_x_cca_space = temp_cca_transformer.transform(test_x, test_x)\n",
    "    temp_x = temp_cca_transformer.inverse_transform(test_x_cca_space)\n",
    "    \n",
    "    cca_transformers.append(temp_cca_transformer)\n",
    "    \n",
    "    temp_x_format, nada = format_data(temp_x, test_y)\n",
    "    \n",
    "    predic = test_wiener_filter(temp_x_format, day0_decoder)\n",
    "    \n",
    "    #sanity checks\n",
    "    sanity_x_format, sanity_y_format = format_data(sanity_x, cca_object.data['cp2']['proc_y'])\n",
    "    predic_sanity = test_wiener_filter(sanity_x_format, day0_decoder)\n",
    "    print(vaf(sanity_y_format[:,1], predic_sanity[:,1]))\n",
    "    \n",
    "\n",
    "    cca_decoder_scores.append(vaf(test_y_format[:,1], predic[:,1]))\n",
    "    \n"
   ]
  },
  {
   "cell_type": "code",
   "execution_count": 79,
   "id": "8b9ab3d0-a561-491e-a774-6cd3148ad38e",
   "metadata": {},
   "outputs": [
    {
     "data": {
      "text/plain": [
       "[0.2, -0.33, -0.39, 0.27]"
      ]
     },
     "execution_count": 79,
     "metadata": {},
     "output_type": "execute_result"
    }
   ],
   "source": [
    "cca_decoder_scores"
   ]
  },
  {
   "cell_type": "markdown",
   "id": "a19278d1-fced-4744-a974-b1f453b65a36",
   "metadata": {},
   "source": [
    "# getting regression decoder"
   ]
  },
  {
   "cell_type": "code",
   "execution_count": 88,
   "id": "573b6fd3-691f-403e-b5ae-213cff907b38",
   "metadata": {},
   "outputs": [],
   "source": [
    "r_decoder = []\n",
    "\n",
    "for i in range(len(subsample_list)):\n",
    "    sub_x, sub_y = cp2.subsample(percent = subsample_list[i])\n",
    "    sub_x_pca = np.squeeze(cp2.apply_PCA(dims=lowest_num_dimensions, X=sub_x))\n",
    "    \n",
    "    nada, sub_x_cca_space = cca_transformers[i].transform(sub_x_pca, sub_x_pca)\n",
    "    temp_x = cca_transformers[i].inverse_transform(sub_x_cca_space)\n",
    "    \n",
    "    scaler = StandardScaler()\n",
    "    sub_x_pca_scale = scaler.fit_transform(temp_x)\n",
    "\n",
    "    wpost = regression_fit(b0=day0_decoder_scale, x=sub_x_pca_scale, y=np.squeeze(sub_y), my_alpha=.001)\n",
    "    r_decoder.append(wpost)"
   ]
  },
  {
   "cell_type": "markdown",
   "id": "ead9b739-7df8-43db-8661-8cc088a0b0c0",
   "metadata": {},
   "source": [
    "# getting VAF scores for each decoder"
   ]
  },
  {
   "cell_type": "code",
   "execution_count": 89,
   "id": "91202ace-a889-478a-882c-3a682158a427",
   "metadata": {},
   "outputs": [],
   "source": [
    "fixed_decoder_scores=[]\n",
    "pca_decoder_scores=[]\n",
    "r_decoder_scores=[]\n",
    "\n",
    "for i in range(len(subsample_list)):\n",
    "    temp_y = test_wiener_filter(test_x_format, day0_decoder)\n",
    "    fixed_decoder_scores.append(vaf(test_y_format[:,1], temp_y[:,1]))\n",
    "    \n",
    "    temp_y = test_wiener_filter(test_x_format, pca_decoder[i])\n",
    "    pca_decoder_scores.append(vaf(test_y_format[:,1], temp_y[:,1]))\n",
    "    \n",
    "    temp_y = test_wiener_filter(test_x_format_scale, r_decoder[i])\n",
    "    r_decoder_scores.append(vaf(test_y_format[:,1], temp_y[:,1]))"
   ]
  },
  {
   "cell_type": "code",
   "execution_count": 90,
   "id": "839e2c66-ea94-4012-9274-82665ced1410",
   "metadata": {},
   "outputs": [
    {
     "name": "stdout",
     "output_type": "stream",
     "text": [
      "[0.22, 0.22, 0.22, 0.22]\n",
      "[0.17, -1.07, 0.36, 0.62]\n",
      "[0.2, -0.33, -0.39, 0.27]\n",
      "[0.06, 0.23, -0.96, 0.45]\n"
     ]
    }
   ],
   "source": [
    "print(fixed_decoder_scores)\n",
    "print(pca_decoder_scores)\n",
    "print(cca_decoder_scores)\n",
    "print(r_decoder_scores)"
   ]
  },
  {
   "cell_type": "code",
   "execution_count": 91,
   "id": "289df8e2-5237-41be-b6e6-5c11d2d89da8",
   "metadata": {},
   "outputs": [
    {
     "data": {
      "application/vnd.jupyter.widget-view+json": {
       "model_id": "02b88a8f044c451fa024d1480fbe8c97",
       "version_major": 2,
       "version_minor": 0
      },
      "text/html": [
       "\n",
       "            <div style=\"display: inline-block;\">\n",
       "                <div class=\"jupyter-widgets widget-label\" style=\"text-align: center;\">\n",
       "                    Figure\n",
       "                </div>\n",
       "                <img src='data:image/png;base64,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' width=640.0/>\n",
       "            </div>\n",
       "        "
      ],
      "text/plain": [
       "Canvas(toolbar=Toolbar(toolitems=[('Home', 'Reset original view', 'home', 'home'), ('Back', 'Back to previous …"
      ]
     },
     "metadata": {},
     "output_type": "display_data"
    }
   ],
   "source": [
    "%matplotlib widget\n",
    "%matplotlib widget\n",
    "\n",
    "plot_dict = {}\n",
    "plot_dict['fixed_decoder_scores'] = fixed_decoder_scores\n",
    "plot_dict['pca_decoder_scores'] = pca_decoder_scores\n",
    "plot_dict['cca_decoder_scores'] = cca_decoder_scores\n",
    "plot_dict['r_decoder_scores'] = r_decoder_scores\n",
    "\n",
    "index = subsample_list\n",
    "\n",
    "df = pd.DataFrame(data=plot_dict, index=index)\n",
    "\n",
    "  \n",
    "# plot grouped bar chart\n",
    "ax = df.plot.bar(rot=15)\n",
    "for container in ax.containers:\n",
    "    ax.bar_label(container)"
   ]
  },
  {
   "cell_type": "code",
   "execution_count": null,
   "id": "8f02db92-2e7a-4c85-bbbf-851d42c3b899",
   "metadata": {},
   "outputs": [],
   "source": []
  },
  {
   "cell_type": "code",
   "execution_count": null,
   "id": "4e113941-4ef0-4f55-b6e1-3410b1a98bf4",
   "metadata": {},
   "outputs": [],
   "source": []
  }
 ],
 "metadata": {
  "kernelspec": {
   "display_name": "Python 3",
   "language": "python",
   "name": "python3"
  },
  "language_info": {
   "codemirror_mode": {
    "name": "ipython",
    "version": 3
   },
   "file_extension": ".py",
   "mimetype": "text/x-python",
   "name": "python",
   "nbconvert_exporter": "python",
   "pygments_lexer": "ipython3",
   "version": "3.7.0"
  }
 },
 "nbformat": 4,
 "nbformat_minor": 5
}
