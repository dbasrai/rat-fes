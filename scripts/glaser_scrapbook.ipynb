{
 "cells": [
  {
   "cell_type": "code",
   "execution_count": 30,
   "id": "1be7faca-2935-4144-830f-2627816a616b",
   "metadata": {},
   "outputs": [
    {
     "name": "stdout",
     "output_type": "stream",
     "text": [
      "The autoreload extension is already loaded. To reload it, use:\n",
      "  %reload_ext autoreload\n"
     ]
    }
   ],
   "source": [
    "%matplotlib widget\n",
    "%load_ext autoreload\n",
    "%autoreload 2\n",
    "from src.folder_handler import *\n",
    "from src.cort_processor import *\n",
    "from src.cca_processor import *\n",
    "from src.tdt_support import *\n",
    "from src.plotter import *\n",
    "from src.decoders import *\n",
    "import pickle\n",
    "import scipy as spicy\n",
    "import numpy as np\n",
    "import matplotlib.pyplot as plt\n",
    "from  matplotlib.colors import LinearSegmentedColormap\n",
    "from src.wiener_filter import *\n",
    "from matplotlib.pyplot import cm\n",
    "from sklearn.cross_decomposition import CCA\n",
    "from sklearn.preprocessing import StandardScaler\n",
    "from sklearn.linear_model import Ridge\n",
    "import os"
   ]
  },
  {
   "cell_type": "markdown",
   "id": "492e1dd8-cb9e-4f94-9a21-ceb92ac079d5",
   "metadata": {},
   "source": [
    "# set paths, create objects"
   ]
  },
  {
   "cell_type": "code",
   "execution_count": 31,
   "id": "3082ac9c-c4a4-4fbe-b2d4-11c89a1518f8",
   "metadata": {},
   "outputs": [
    {
     "name": "stdout",
     "output_type": "stream",
     "text": [
      "this is filipe data i belive\n",
      "this is filipe data i belive\n",
      "should be good to align\n",
      "(6286, 25)\n",
      "(6286, 5)\n",
      "(6286, 31)\n",
      "(6286, 5)\n"
     ]
    }
   ],
   "source": [
    "cp1_path = '/home/diya/Documents/rat-fes/data/filipe_data/N9/N9_171121_No Obstacles_s.mat'\n",
    "cp2_path = '/home/diya/Documents/rat-fes/data/filipe_data/N9/N9_171204_No Obstacles_s.mat'\n",
    "\n",
    "cp1 = CortProcessor(cp1_path)\n",
    "cp2 = CortProcessor(cp2_path)\n",
    "\n",
    "cca_object = CCAProcessor(cp1, cp2)"
   ]
  },
  {
   "cell_type": "markdown",
   "id": "25dd57ff-278d-4872-b0dd-b8c3ea710dcf",
   "metadata": {},
   "source": [
    "# Getting PCA dimensions"
   ]
  },
  {
   "cell_type": "code",
   "execution_count": 32,
   "id": "b9e2ae37-1f91-46bc-b33b-ce431af12953",
   "metadata": {},
   "outputs": [
    {
     "name": "stdout",
     "output_type": "stream",
     "text": [
      "22\n"
     ]
    }
   ],
   "source": [
    "\n",
    "temp, nada, nada = cca_object.apply_PCA()\n",
    "lowest_num_dimensions = temp\n",
    "#lowest_num_dimensions = 8\n",
    "print(lowest_num_dimensions)\n"
   ]
  },
  {
   "cell_type": "markdown",
   "id": "ceefc657-8573-49f1-9acd-445fc82fd836",
   "metadata": {},
   "source": [
    "# storing raw (unaligned, unprocessed) data as test sets"
   ]
  },
  {
   "cell_type": "code",
   "execution_count": 33,
   "id": "5995d830-e7f2-4442-964e-6b083c6d4a7d",
   "metadata": {},
   "outputs": [],
   "source": [
    "test_x = np.squeeze(np.array(cp2.apply_PCA(dims=lowest_num_dimensions)))\n",
    "test_y = np.squeeze(np.array(cp2.data['angles']))\n",
    "\n",
    "test_x_format, test_y_format = format_data(test_x, test_y)"
   ]
  },
  {
   "cell_type": "markdown",
   "id": "ff052f09-3a95-49fe-9572-0f4ecae59364",
   "metadata": {},
   "source": [
    "# choosing subsampling list"
   ]
  },
  {
   "cell_type": "code",
   "execution_count": 34,
   "id": "ef2e3a27-42f6-444b-9a6a-b0078e0cd02c",
   "metadata": {},
   "outputs": [],
   "source": [
    "subsample_list = [.05, .2, .5, 1.0]"
   ]
  },
  {
   "cell_type": "markdown",
   "id": "d6869f2f-5b25-439e-b370-13fbebab03eb",
   "metadata": {},
   "source": [
    "# getting day0 decoder"
   ]
  },
  {
   "cell_type": "code",
   "execution_count": 35,
   "id": "288573e2-2a3f-4539-8848-7039ae7b7958",
   "metadata": {},
   "outputs": [
    {
     "name": "stdout",
     "output_type": "stream",
     "text": [
      "[ 0.40286863  0.43782177 -0.06775522  0.57289214 -0.09387403]\n"
     ]
    }
   ],
   "source": [
    "day0_decoder_temp, nada, naday, nadax = cp1.decode_angles(X=cp1.apply_PCA(lowest_num_dimensions))\n",
    "day0_decoder=[]\n",
    "for i in range(len(subsample_list)):\n",
    "    day0_decoder.append(day0_decoder_temp)\n",
    "    \n",
    "print(np.average(nada, 1))"
   ]
  },
  {
   "cell_type": "markdown",
   "id": "bb1ee243-8361-4832-958d-2cf3a21d6cdb",
   "metadata": {},
   "source": [
    "# getting JUST-PCA decoder"
   ]
  },
  {
   "cell_type": "code",
   "execution_count": 36,
   "id": "06a8bf2b-a49f-4c04-8477-00b9cbbf2145",
   "metadata": {},
   "outputs": [],
   "source": [
    "pca_decoder = []\n",
    "\n",
    "for i in range(len(subsample_list)):\n",
    "    sub_x, sub_y = cp2.subsample(percent = subsample_list[i])\n",
    "    sub_x_pca = cp2.apply_PCA(dims=lowest_num_dimensions, X=sub_x)\n",
    "    \n",
    "    temp_h, nada, nadax, naday = cp2.decode_angles(X=sub_x_pca, Y=sub_y)\n",
    "    pca_decoder.append(temp_h)"
   ]
  },
  {
   "cell_type": "markdown",
   "id": "e6188a09-0bf2-4d1e-9a8c-b1e40a2e3b2d",
   "metadata": {},
   "source": [
    "# getting CCA scores"
   ]
  },
  {
   "cell_type": "code",
   "execution_count": 52,
   "id": "1aa4fec0-056f-48cd-b800-3b8a18bf64ad",
   "metadata": {},
   "outputs": [],
   "source": [
    "cca_decoder_scores = []\n",
    "\n",
    "for i in range(len(subsample_list)):\n",
    "    sub_x1, sub_y1, sub_x2, sub_y2 = cca_object.subsample(percent = subsample_list[i])\n",
    "    nada, pca_sub_x1, pca_sub_x2 = cca_object.apply_PCA(cp1_x = sub_x1, cp2_x = sub_x2, preset_num_components=lowest_num_dimensions)\n",
    "    \n",
    "    temp_cca_transformer, cca_sub_x = cca_object.apply_CCA(cp1_x = pca_sub_x1, cp2_x = pca_sub_x2, preset_num_components = lowest_num_dimensions)\n",
    "    temp_x = temp_cca_transformer.transform(test_x)\n",
    "    temp_x = temp_cca_transformer.inverse_transform(test_x)\n",
    "    temp_x_format, nada = format_data(temp_x, test_y)\n",
    "    \n",
    "    predic = test_wiener_filter(temp_x_format, day0_decoder[0])\n",
    "    \n",
    "    #print(predic.shape)\n",
    "    #print(sub_y2_format.shape)\n",
    "    \n",
    "    cca_decoder_scores.append(vaf(test_y_format[:,1], predic[:,1]))\n"
   ]
  },
  {
   "cell_type": "markdown",
   "id": "a19278d1-fced-4744-a974-b1f453b65a36",
   "metadata": {},
   "source": [
    "# getting regression decoder"
   ]
  },
  {
   "cell_type": "code",
   "execution_count": 53,
   "id": "573b6fd3-691f-403e-b5ae-213cff907b38",
   "metadata": {},
   "outputs": [],
   "source": [
    "r_decoder = []\n",
    "\n",
    "for i in range(len(subsample_list)):\n",
    "    sub_x, sub_y = cp2.subsample(percent = subsample_list[i])\n",
    "    sub_x_pca = cp2.apply_PCA(dims=lowest_num_dimensions, X=sub_x)\n",
    "\n",
    "    b = regression_fit(b0=day0_decoder[0], x=np.squeeze(sub_x_pca), y=np.squeeze(sub_y))\n",
    "    r_decoder.append(b)"
   ]
  },
  {
   "cell_type": "markdown",
   "id": "ead9b739-7df8-43db-8661-8cc088a0b0c0",
   "metadata": {},
   "source": [
    "# getting VAF scores for each decoder"
   ]
  },
  {
   "cell_type": "code",
   "execution_count": 54,
   "id": "91202ace-a889-478a-882c-3a682158a427",
   "metadata": {},
   "outputs": [],
   "source": [
    "fixed_decoder_scores=[]\n",
    "pca_decoder_scores=[]\n",
    "r_decoder_scores=[]\n",
    "\n",
    "for i in range(len(subsample_list)):\n",
    "    temp_y = test_wiener_filter(test_x_format, day0_decoder[i])\n",
    "    fixed_decoder_scores.append(vaf(test_y_format[:,1], temp_y[:,1]))\n",
    "    \n",
    "    temp_y = test_wiener_filter(test_x_format, pca_decoder[i])\n",
    "    pca_decoder_scores.append(vaf(test_y_format[:,1], temp_y[:,1]))\n",
    "    \n",
    "    temp_y = test_wiener_filter(test_x_format, r_decoder[i])\n",
    "    r_decoder_scores.append(vaf(test_y_format[:,1], temp_y[:,1]))"
   ]
  },
  {
   "cell_type": "code",
   "execution_count": 55,
   "id": "839e2c66-ea94-4012-9274-82665ced1410",
   "metadata": {},
   "outputs": [
    {
     "name": "stdout",
     "output_type": "stream",
     "text": [
      "[-0.6814006966352955, -0.6814006966352955, -0.6814006966352955, -0.6814006966352955]\n",
      "[-0.776224094279852, 0.21401966118240978, 0.18573141995032627, 0.6425242140550411]\n",
      "[-0.9599730917567426, -1.6200664193165184, -0.46336049827066983, -1.1680059622089338]\n",
      "[-1.0798420578183903, 0.123243593829645, 0.17464208545916504, 0.6436601913885291]\n"
     ]
    }
   ],
   "source": [
    "print(fixed_decoder_scores)\n",
    "print(pca_decoder_scores)\n",
    "print(cca_decoder_scores)\n",
    "print(r_decoder_scores)"
   ]
  },
  {
   "cell_type": "markdown",
   "id": "ce1a710b-e491-4200-b62f-0a1d92515110",
   "metadata": {},
   "source": [
    "# storing aligned/processed data"
   ]
  },
  {
   "cell_type": "code",
   "execution_count": 125,
   "id": "5065a528-196a-4779-b798-e4e77c39e46b",
   "metadata": {},
   "outputs": [
    {
     "ename": "NameError",
     "evalue": "name 'cca_dict' is not defined",
     "output_type": "error",
     "traceback": [
      "\u001b[0;31m---------------------------------------------------------------------------\u001b[0m",
      "\u001b[0;31mNameError\u001b[0m                                 Traceback (most recent call last)",
      "\u001b[0;32m<ipython-input-125-e964ee0d71f2>\u001b[0m in \u001b[0;36m<module>\u001b[0;34m\u001b[0m\n\u001b[1;32m      2\u001b[0m \u001b[0mproc_y_list\u001b[0m \u001b[0;34m=\u001b[0m \u001b[0;34m[\u001b[0m\u001b[0;34m]\u001b[0m\u001b[0;34m\u001b[0m\u001b[0m\n\u001b[1;32m      3\u001b[0m \u001b[0;34m\u001b[0m\u001b[0m\n\u001b[0;32m----> 4\u001b[0;31m \u001b[0mtemp\u001b[0m \u001b[0;34m=\u001b[0m \u001b[0mnp\u001b[0m\u001b[0;34m.\u001b[0m\u001b[0maverage\u001b[0m\u001b[0;34m(\u001b[0m\u001b[0mcca_dict\u001b[0m\u001b[0;34m[\u001b[0m\u001b[0mvar_names\u001b[0m\u001b[0;34m[\u001b[0m\u001b[0;36m1\u001b[0m\u001b[0;34m]\u001b[0m\u001b[0;34m]\u001b[0m\u001b[0;34m.\u001b[0m\u001b[0mdata\u001b[0m\u001b[0;34m[\u001b[0m\u001b[0;34m'cp1'\u001b[0m\u001b[0;34m]\u001b[0m\u001b[0;34m[\u001b[0m\u001b[0;34m'proc_vaf'\u001b[0m\u001b[0;34m]\u001b[0m\u001b[0;34m,\u001b[0m \u001b[0;36m1\u001b[0m\u001b[0;34m)\u001b[0m\u001b[0;34m\u001b[0m\u001b[0m\n\u001b[0m\u001b[1;32m      5\u001b[0m \u001b[0mproc_vaf_scores\u001b[0m\u001b[0;34m.\u001b[0m\u001b[0mappend\u001b[0m\u001b[0;34m(\u001b[0m\u001b[0mtemp\u001b[0m\u001b[0;34m)\u001b[0m\u001b[0;34m\u001b[0m\u001b[0m\n\u001b[1;32m      6\u001b[0m \u001b[0;34m\u001b[0m\u001b[0m\n",
      "\u001b[0;31mNameError\u001b[0m: name 'cca_dict' is not defined"
     ]
    }
   ],
   "source": [
    "\n",
    "proc_vaf_scores = []\n",
    "proc_y_list = []\n",
    "\n",
    "temp = np.average(cca_dict[var_names[1]].data['cp1']['proc_vaf'], 1)\n",
    "proc_vaf_scores.append(temp)\n",
    "\n",
    "temp = cca_dict[var_names[1]].data['cp1']['proc_y']\n",
    "proc_y_list.append(temp)\n",
    "\n",
    "for i in range(1, len(var_names)):\n",
    "    temp = np.average(cca_dict[var_names[i]].data['cp2']['proc_vaf'],1)\n",
    "    proc_vaf_scores.append(temp)\n",
    "    \n",
    "    temp = cca_dict[var_names[i]].data['cp2']['proc_y']\n",
    "    proc_y_list.append(temp)\n",
    "        \n",
    "    temp = cca_dict[var_names[1]].data['cp1']['proc_y'].shape[0]\n",
    "    if proc_y_list[0].shape[0] > temp:\n",
    "        proc_y_list[0] = temp\n",
    "#proc_vaf_scores.append(cca_dict[var_names[0]].cp1.vaf"
   ]
  },
  {
   "cell_type": "code",
   "execution_count": null,
   "id": "26a176f4-1e59-4b14-b9e6-f24927012bf9",
   "metadata": {},
   "outputs": [],
   "source": []
  },
  {
   "cell_type": "markdown",
   "id": "c70f7996-0d3b-487c-8513-d40a7f45a637",
   "metadata": {},
   "source": [
    "# applying PCA to processed data"
   ]
  },
  {
   "cell_type": "code",
   "execution_count": 189,
   "id": "1d52631b-fa51-4b76-99bb-6a802a1ba3c1",
   "metadata": {},
   "outputs": [],
   "source": [
    "pca_x_list = []\n",
    "\n",
    "for i in range(1, len(var_names)):\n",
    "    nada, nada, temp_x = cca_dict[var_names[i]].PCA_to_same_dimensions(preset_num_components = lowest_num_dimensions)\n",
    "    pca_x_list.append(temp_x)\n",
    "    \n",
    "nada, temp_x, nada = cca_dict[var_names[1]].PCA_to_same_dimensions(preset_num_components = lowest_num_dimensions)\n",
    "pca_x_list.insert(0, temp_x)"
   ]
  },
  {
   "cell_type": "markdown",
   "id": "6b883db5-e229-4326-9e19-fa25bd3581a5",
   "metadata": {},
   "source": [
    "# storing PCA vaf scores and decoder"
   ]
  },
  {
   "cell_type": "code",
   "execution_count": 190,
   "id": "9da3e217-82fe-4db1-ab7b-c263b0140833",
   "metadata": {},
   "outputs": [
    {
     "name": "stdout",
     "output_type": "stream",
     "text": [
      "(6286, 16) (6286, 5)\n",
      "(6286, 16) (6286, 5)\n",
      "(4690, 16) (4690, 5)\n",
      "(6790, 16) (6790, 5)\n"
     ]
    }
   ],
   "source": [
    "pca_h_matrices = []\n",
    "pca_vaf_list = []\n",
    "proc_y_list_format = []\n",
    "pca_x_list_format = []\n",
    "for i in range(len(pca_x_list)):\n",
    "    print(pca_x_list[i].shape, proc_y_list[i].shape)\n",
    "    temp_x, temp_y = format_data(pca_x_list[i], proc_y_list[i])\n",
    "    pca_x_list_format.append(temp_x)\n",
    "    proc_y_list_format.append(temp_y)\n",
    "    \n",
    "    temp_h, temp_vaf, nada, nada = decode_kfolds(temp_x, temp_y)\n",
    "    pca_h_matrices.append(temp_h)\n",
    "    pca_vaf_list.append(np.round((np.average(temp_vaf,1)), 2))     "
   ]
  },
  {
   "cell_type": "code",
   "execution_count": 112,
   "id": "7ded916a-6826-47da-8f7b-97b54abaa6dc",
   "metadata": {},
   "outputs": [],
   "source": [
    "x = pca_x_list_format[2]\n",
    "y = proc_y_list_format[2]\n",
    "b0= pca_h_matrices[0]"
   ]
  },
  {
   "cell_type": "code",
   "execution_count": 113,
   "id": "581e261b-6ae2-4c71-bd7c-004df0fcdeb3",
   "metadata": {},
   "outputs": [
    {
     "name": "stdout",
     "output_type": "stream",
     "text": [
      "0.08971335522704182\n"
     ]
    }
   ],
   "source": [
    "predic = test_wiener_filter(x, b0)\n",
    "print(vaf(y[:,1], predic[:,1]))"
   ]
  },
  {
   "cell_type": "code",
   "execution_count": 114,
   "id": "44692eaa-eb4a-4dc5-acc5-96744c3fe17b",
   "metadata": {},
   "outputs": [],
   "source": [
    "y_star = y - predic\n",
    "x_plus_bias = np.c_[np.ones((np.size(x, 0), 1)), x]"
   ]
  },
  {
   "cell_type": "code",
   "execution_count": 115,
   "id": "46ffd755-4b1c-4113-825e-cf10c41f78ad",
   "metadata": {},
   "outputs": [
    {
     "data": {
      "text/plain": [
       "Ridge()"
      ]
     },
     "execution_count": 115,
     "metadata": {},
     "output_type": "execute_result"
    }
   ],
   "source": [
    "clf = Ridge(alpha=1.0)\n",
    "clf.fit(x_plus_bias, y_star)"
   ]
  },
  {
   "cell_type": "code",
   "execution_count": 116,
   "id": "ac717d8f-8d5a-47a1-b13d-5d0ea9ebd5f1",
   "metadata": {},
   "outputs": [
    {
     "name": "stdout",
     "output_type": "stream",
     "text": [
      "(161, 5)\n"
     ]
    }
   ],
   "source": [
    "Wpost = clf.coef_.T\n",
    "print(Wpost.shape)"
   ]
  },
  {
   "cell_type": "code",
   "execution_count": 117,
   "id": "5affe006-9589-4376-afe9-7a0aa9485608",
   "metadata": {},
   "outputs": [],
   "source": [
    "b = Wpost + b0"
   ]
  },
  {
   "cell_type": "code",
   "execution_count": 118,
   "id": "2634ad6e-82ef-4bd4-b40d-713942d2abcd",
   "metadata": {},
   "outputs": [],
   "source": [
    "test = test_wiener_filter(x, b)"
   ]
  },
  {
   "cell_type": "code",
   "execution_count": 119,
   "id": "cf2b176c-a566-4dd8-a17a-544eeec87140",
   "metadata": {},
   "outputs": [
    {
     "name": "stdout",
     "output_type": "stream",
     "text": [
      "0.5709934905778465\n"
     ]
    },
    {
     "data": {
      "application/vnd.jupyter.widget-view+json": {
       "model_id": "ff54996044c8427d98704cba6f25c62d",
       "version_major": 2,
       "version_minor": 0
      },
      "text/html": [
       "\n",
       "            <div style=\"display: inline-block;\">\n",
       "                <div class=\"jupyter-widgets widget-label\" style=\"text-align: center;\">\n",
       "                    Figure\n",
       "                </div>\n",
       "                <img src='data:image/png;base64,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' width=640.0/>\n",
       "            </div>\n",
       "        "
      ],
      "text/plain": [
       "Canvas(toolbar=Toolbar(toolitems=[('Home', 'Reset original view', 'home', 'home'), ('Back', 'Back to previous …"
      ]
     },
     "metadata": {},
     "output_type": "display_data"
    }
   ],
   "source": [
    "fig, ax = plt.subplots()\n",
    "ax.plot(y[:,1])\n",
    "ax.plot(test[:,1])\n",
    "\n",
    "\n",
    "print(vaf(y[:,1], test[:,1]))"
   ]
  },
  {
   "cell_type": "code",
   "execution_count": 165,
   "id": "6f5c1450-8701-4eb1-81ab-31b06dc46309",
   "metadata": {},
   "outputs": [],
   "source": [
    "array = cca_dict[var_names[1]].subsample(percent=.2)"
   ]
  },
  {
   "cell_type": "code",
   "execution_count": 169,
   "id": "be123ffd-eeaa-4c56-ab2f-1f923116e0b8",
   "metadata": {},
   "outputs": [
    {
     "data": {
      "text/plain": [
       "(1246, 5)"
      ]
     },
     "execution_count": 169,
     "metadata": {},
     "output_type": "execute_result"
    }
   ],
   "source": [
    "array[3].shape"
   ]
  },
  {
   "cell_type": "code",
   "execution_count": 151,
   "id": "5b3175a5-a932-4214-a255-39f98e361ad4",
   "metadata": {},
   "outputs": [
    {
     "data": {
      "text/plain": [
       "(449, 14, 25)"
      ]
     },
     "execution_count": 151,
     "metadata": {},
     "output_type": "execute_result"
    }
   ],
   "source": [
    "test.shape"
   ]
  },
  {
   "cell_type": "code",
   "execution_count": 152,
   "id": "b4c62273-319d-4538-922e-a08fc755adb6",
   "metadata": {},
   "outputs": [
    {
     "data": {
      "text/plain": [
       "(89,)"
      ]
     },
     "execution_count": 152,
     "metadata": {},
     "output_type": "execute_result"
    }
   ],
   "source": [
    "testy.shape"
   ]
  },
  {
   "cell_type": "code",
   "execution_count": 154,
   "id": "304389e8-6102-40c4-9e9e-273ade00e369",
   "metadata": {},
   "outputs": [
    {
     "data": {
      "text/plain": [
       "(89, 14, 25)"
      ]
     },
     "execution_count": 154,
     "metadata": {},
     "output_type": "execute_result"
    }
   ],
   "source": [
    "test[testy].shape"
   ]
  },
  {
   "cell_type": "code",
   "execution_count": null,
   "id": "a1bcdbca-6468-483a-8553-60055ebc2a7e",
   "metadata": {},
   "outputs": [],
   "source": []
  }
 ],
 "metadata": {
  "kernelspec": {
   "display_name": "Python 3",
   "language": "python",
   "name": "python3"
  },
  "language_info": {
   "codemirror_mode": {
    "name": "ipython",
    "version": 3
   },
   "file_extension": ".py",
   "mimetype": "text/x-python",
   "name": "python",
   "nbconvert_exporter": "python",
   "pygments_lexer": "ipython3",
   "version": "3.7.0"
  }
 },
 "nbformat": 4,
 "nbformat_minor": 5
}
