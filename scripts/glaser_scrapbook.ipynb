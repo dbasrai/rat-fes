{
 "cells": [
  {
   "cell_type": "code",
   "execution_count": 30,
   "id": "1be7faca-2935-4144-830f-2627816a616b",
   "metadata": {},
   "outputs": [
    {
     "name": "stdout",
     "output_type": "stream",
     "text": [
      "The autoreload extension is already loaded. To reload it, use:\n",
      "  %reload_ext autoreload\n"
     ]
    }
   ],
   "source": [
    "%matplotlib widget\n",
    "%load_ext autoreload\n",
    "%autoreload 2\n",
    "from src.folder_handler import *\n",
    "from src.cort_processor import *\n",
    "from src.cca_processor import *\n",
    "from src.tdt_support import *\n",
    "from src.plotter import *\n",
    "from src.decoders import *\n",
    "import pickle\n",
    "import scipy as spicy\n",
    "import numpy as np\n",
    "import matplotlib.pyplot as plt\n",
    "from  matplotlib.colors import LinearSegmentedColormap\n",
    "from src.wiener_filter import *\n",
    "from matplotlib.pyplot import cm\n",
    "from sklearn.cross_decomposition import CCA\n",
    "from sklearn.preprocessing import StandardScaler\n",
    "from sklearn.linear_model import Ridge\n",
    "import os"
   ]
  },
  {
   "cell_type": "code",
   "execution_count": 3,
   "id": "3082ac9c-c4a4-4fbe-b2d4-11c89a1518f8",
   "metadata": {},
   "outputs": [
    {
     "name": "stdout",
     "output_type": "stream",
     "text": [
      "['N5_171130_No Obstacles_s.mat', 'N5_171016_No Obstacles_s.mat', 'N5_171001_No Obstacles_s.mat', 'N5_170929_No Obstacles_s.mat']\n"
     ]
    }
   ],
   "source": [
    "path = '/home/diya/Documents/rat-fes/data/filipe_data/N5'\n",
    "filenames = os.listdir(path)\n",
    "\n",
    "temp_datasets = []\n",
    "temp_var_names = []\n",
    "\n",
    "for file in filenames:\n",
    "    temp_datasets.append(path+'/'+file)\n",
    "    temp_var_names.append(file.split('_')[0]+file.split('_')[1])\n",
    "\n",
    "datasets = sorted(temp_datasets)\n",
    "var_names = sorted(temp_var_names)\n",
    "\n",
    "print(filenames)"
   ]
  },
  {
   "cell_type": "code",
   "execution_count": 5,
   "id": "4282faba-7a24-4e4d-a61d-5ff850ea06a8",
   "metadata": {},
   "outputs": [
    {
     "name": "stdout",
     "output_type": "stream",
     "text": [
      "this is filipe data i belive\n",
      "this is filipe data i belive\n",
      "this is filipe data i belive\n",
      "this is filipe data i belive\n",
      "N5170929 N5171001\n",
      "should be good to align\n",
      "(9594, 11)\n",
      "(9594, 5)\n",
      "(9594, 23)\n",
      "(9594, 5)\n",
      "N5170929 N5171016\n",
      "should be good to align\n",
      "(9594, 11)\n",
      "(9594, 5)\n",
      "(9594, 22)\n",
      "(9594, 5)\n",
      "N5170929 N5171130\n",
      "should be good to align\n",
      "(9594, 11)\n",
      "(9594, 5)\n",
      "(9594, 23)\n",
      "(9594, 5)\n"
     ]
    }
   ],
   "source": [
    "cort_dict = {}\n",
    "for i in range(len(datasets)):\n",
    "    cort_dict[var_names[i]] = CortProcessor(datasets[i])\n",
    "    \n",
    "cca_dict = {}\n",
    "for i in range(1, len(var_names)):\n",
    "    print(var_names[0], var_names[i])\n",
    "    cca_dict[var_names[i]] = CCAProcessor(cort_dict[var_names[0]], cort_dict[var_names[i]])\n"
   ]
  },
  {
   "cell_type": "code",
   "execution_count": 17,
   "id": "5065a528-196a-4779-b798-e4e77c39e46b",
   "metadata": {},
   "outputs": [],
   "source": [
    "proc_vaf_scores = []\n",
    "proc_y_list = []\n",
    "\n",
    "temp = np.average(cca_dict[var_names[1]].data['cp1']['proc_vaf'], 1)\n",
    "proc_vaf_scores.append(temp)\n",
    "\n",
    "temp = cca_dict[var_names[1]].data['cp1']['proc_y']\n",
    "proc_y_list.append(temp)\n",
    "\n",
    "for i in range(1, len(var_names)):\n",
    "    temp = np.average(cca_dict[var_names[i]].data['cp2']['proc_vaf'],1)\n",
    "    proc_vaf_scores.append(temp)\n",
    "    \n",
    "    temp = cca_dict[var_names[i]].data['cp2']['proc_y']\n",
    "    proc_y_list.append(temp)\n",
    "        \n",
    "    temp = cca_dict[var_names[1]].data['cp1']['proc_y'].shape[0]\n",
    "    if proc_y_list[0].shape[0] > temp:\n",
    "        proc_y_list[0] = temp\n",
    "#proc_vaf_scores.append(cca_dict[var_names[0]].cp1.vaf"
   ]
  },
  {
   "cell_type": "code",
   "execution_count": 18,
   "id": "26a176f4-1e59-4b14-b9e6-f24927012bf9",
   "metadata": {},
   "outputs": [
    {
     "name": "stdout",
     "output_type": "stream",
     "text": [
      "N5171130: 6\n"
     ]
    }
   ],
   "source": [
    "lowest_num_dimensions = 33\n",
    "\n",
    "\n",
    "for i in range(1, len(var_names)):\n",
    "    temp, nada, nada = cca_dict[var_names[i]].PCA_to_same_dimensions()\n",
    "    lowest_num_dimensions = min(lowest_num_dimensions, temp)\n",
    "    if temp==lowest_num_dimensions:\n",
    "        low_dim = var_names[i]\n",
    "    \n",
    "print(str(low_dim) + ': ' + str(lowest_num_dimensions))"
   ]
  },
  {
   "cell_type": "code",
   "execution_count": 19,
   "id": "1d52631b-fa51-4b76-99bb-6a802a1ba3c1",
   "metadata": {},
   "outputs": [],
   "source": [
    "pca_x_list = []\n",
    "\n",
    "for i in range(1, len(var_names)):\n",
    "    nada, nada, temp_x = cca_dict[var_names[i]].PCA_to_same_dimensions(preset_num_components = lowest_num_dimensions)\n",
    "    pca_x_list.append(temp_x)\n",
    "    \n",
    "nada, temp_x, nada = cca_dict[var_names[1]].PCA_to_same_dimensions(preset_num_components = lowest_num_dimensions)\n",
    "pca_x_list.insert(0, temp_x)"
   ]
  },
  {
   "cell_type": "code",
   "execution_count": 20,
   "id": "9da3e217-82fe-4db1-ab7b-c263b0140833",
   "metadata": {},
   "outputs": [
    {
     "name": "stdout",
     "output_type": "stream",
     "text": [
      "(9594, 6) (9594, 5)\n",
      "(9594, 6) (9594, 5)\n",
      "(9594, 6) (9594, 5)\n",
      "(9594, 6) (9594, 5)\n"
     ]
    }
   ],
   "source": [
    "pca_h_matrices = []\n",
    "pca_vaf_list = []\n",
    "proc_y_list_format = []\n",
    "pca_x_list_format = []\n",
    "for i in range(len(pca_x_list)):\n",
    "    print(pca_x_list[i].shape, proc_y_list[i].shape)\n",
    "    temp_x, temp_y = format_data(pca_x_list[i], proc_y_list[i])\n",
    "    pca_x_list_format.append(temp_x)\n",
    "    proc_y_list_format.append(temp_y)\n",
    "    \n",
    "    temp_h, temp_vaf, nada, nada = decode_kfolds(temp_x, temp_y)\n",
    "    pca_h_matrices.append(temp_h)\n",
    "    pca_vaf_list.append(np.round((np.average(temp_vaf,1)), 2))\n",
    "    \n",
    "    "
   ]
  },
  {
   "cell_type": "code",
   "execution_count": 86,
   "id": "7ded916a-6826-47da-8f7b-97b54abaa6dc",
   "metadata": {},
   "outputs": [],
   "source": [
    "x = pca_x_list_format[3]\n",
    "y = proc_y_list_format[3]\n",
    "b0= pca_h_matrices[0]"
   ]
  },
  {
   "cell_type": "code",
   "execution_count": 87,
   "id": "581e261b-6ae2-4c71-bd7c-004df0fcdeb3",
   "metadata": {},
   "outputs": [],
   "source": [
    "predic = test_wiener_filter(x, b0)"
   ]
  },
  {
   "cell_type": "code",
   "execution_count": 88,
   "id": "44692eaa-eb4a-4dc5-acc5-96744c3fe17b",
   "metadata": {},
   "outputs": [],
   "source": [
    "y_star = y - predic\n",
    "x_plus_bias = np.c_[np.ones((np.size(x, 0), 1)), x]"
   ]
  },
  {
   "cell_type": "code",
   "execution_count": 89,
   "id": "46ffd755-4b1c-4113-825e-cf10c41f78ad",
   "metadata": {},
   "outputs": [
    {
     "data": {
      "text/plain": [
       "Ridge(alpha=5.0)"
      ]
     },
     "execution_count": 89,
     "metadata": {},
     "output_type": "execute_result"
    }
   ],
   "source": [
    "clf = Ridge(alpha=5.0)\n",
    "clf.fit(x_plus_bias, y_star)"
   ]
  },
  {
   "cell_type": "code",
   "execution_count": 90,
   "id": "ac717d8f-8d5a-47a1-b13d-5d0ea9ebd5f1",
   "metadata": {},
   "outputs": [
    {
     "name": "stdout",
     "output_type": "stream",
     "text": [
      "(61, 5)\n"
     ]
    }
   ],
   "source": [
    "Wpost = clf.coef_.T\n",
    "print(Wpost.shape)"
   ]
  },
  {
   "cell_type": "code",
   "execution_count": 91,
   "id": "5affe006-9589-4376-afe9-7a0aa9485608",
   "metadata": {},
   "outputs": [],
   "source": [
    "b = Wpost - b0"
   ]
  },
  {
   "cell_type": "code",
   "execution_count": 92,
   "id": "2634ad6e-82ef-4bd4-b40d-713942d2abcd",
   "metadata": {},
   "outputs": [],
   "source": [
    "test = test_wiener_filter(x, b)"
   ]
  },
  {
   "cell_type": "code",
   "execution_count": 93,
   "id": "cf2b176c-a566-4dd8-a17a-544eeec87140",
   "metadata": {},
   "outputs": [
    {
     "data": {
      "text/plain": [
       "[<matplotlib.lines.Line2D at 0x7ff37810be10>]"
      ]
     },
     "execution_count": 93,
     "metadata": {},
     "output_type": "execute_result"
    },
    {
     "data": {
      "application/vnd.jupyter.widget-view+json": {
       "model_id": "2e27ae633ce24f8893418fb21841f4a4",
       "version_major": 2,
       "version_minor": 0
      },
      "text/html": [
       "\n",
       "            <div style=\"display: inline-block;\">\n",
       "                <div class=\"jupyter-widgets widget-label\" style=\"text-align: center;\">\n",
       "                    Figure\n",
       "                </div>\n",
       "                <img src='data:image/png;base64,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' width=640.0/>\n",
       "            </div>\n",
       "        "
      ],
      "text/plain": [
       "Canvas(toolbar=Toolbar(toolitems=[('Home', 'Reset original view', 'home', 'home'), ('Back', 'Back to previous …"
      ]
     },
     "metadata": {},
     "output_type": "display_data"
    }
   ],
   "source": [
    "fig, ax = plt.subplots()\n",
    "ax.plot(test[:,1])\n",
    "ax.plot(y[:,1])"
   ]
  },
  {
   "cell_type": "code",
   "execution_count": null,
   "id": "6f5c1450-8701-4eb1-81ab-31b06dc46309",
   "metadata": {},
   "outputs": [],
   "source": []
  }
 ],
 "metadata": {
  "kernelspec": {
   "display_name": "Python 3",
   "language": "python",
   "name": "python3"
  },
  "language_info": {
   "codemirror_mode": {
    "name": "ipython",
    "version": 3
   },
   "file_extension": ".py",
   "mimetype": "text/x-python",
   "name": "python",
   "nbconvert_exporter": "python",
   "pygments_lexer": "ipython3",
   "version": "3.7.0"
  }
 },
 "nbformat": 4,
 "nbformat_minor": 5
}
