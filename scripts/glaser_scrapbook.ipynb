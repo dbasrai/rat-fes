{
 "cells": [
  {
   "cell_type": "code",
   "execution_count": 37,
   "id": "1be7faca-2935-4144-830f-2627816a616b",
   "metadata": {},
   "outputs": [
    {
     "name": "stdout",
     "output_type": "stream",
     "text": [
      "The autoreload extension is already loaded. To reload it, use:\n",
      "  %reload_ext autoreload\n"
     ]
    }
   ],
   "source": [
    "%matplotlib widget\n",
    "%load_ext autoreload\n",
    "%autoreload 2\n",
    "from src.folder_handler import *\n",
    "from src.cort_processor import *\n",
    "from src.cca_processor import *\n",
    "from src.tdt_support import *\n",
    "from src.plotter import *\n",
    "from src.decoders import *\n",
    "import pickle\n",
    "import scipy as sio\n",
    "import numpy as np\n",
    "import matplotlib.pyplot as plt\n",
    "from  matplotlib.colors import LinearSegmentedColormap\n",
    "from src.wiener_filter import *\n",
    "from matplotlib.pyplot import cm\n",
    "from sklearn.cross_decomposition import CCA\n",
    "from sklearn.preprocessing import StandardScaler\n",
    "from sklearn.linear_model import Ridge\n",
    "import os"
   ]
  },
  {
   "cell_type": "markdown",
   "id": "492e1dd8-cb9e-4f94-9a21-ceb92ac079d5",
   "metadata": {},
   "source": [
    "# set paths, create objects"
   ]
  },
  {
   "cell_type": "code",
   "execution_count": 38,
   "id": "3082ac9c-c4a4-4fbe-b2d4-11c89a1518f8",
   "metadata": {},
   "outputs": [
    {
     "name": "stdout",
     "output_type": "stream",
     "text": [
      "this is filipe data i belive\n",
      "this is filipe data i belive\n"
     ]
    },
    {
     "name": "stderr",
     "output_type": "stream",
     "text": [
      "/home/diya/anaconda3/envs/rat-fes/lib/python3.7/site-packages/scipy/io/matlab/mio.py:226: MatReadWarning: Duplicate variable name \"None\" in stream - replacing previous with new\n",
      "Consider mio5.varmats_from_mat to split file into single variable files\n",
      "  matfile_dict = MR.get_variables(variable_names)\n"
     ]
    },
    {
     "name": "stdout",
     "output_type": "stream",
     "text": [
      "should be good to align\n",
      "(9594, 11)\n",
      "(9594, 5)\n",
      "(9594, 22)\n",
      "(9594, 5)\n"
     ]
    }
   ],
   "source": [
    "cp1_path = '/home/diya/Documents/rat-fes/data/filipe_data/N5/N5_170929_No Obstacles_s.mat'\n",
    "cp2_path = '/home/diya/Documents/rat-fes/data/filipe_data/N5/N5_171016_No Obstacles_s.mat'\n",
    "\n",
    "cp1 = CortProcessor(cp1_path)\n",
    "cp2 = CortProcessor(cp2_path)\n",
    "\n",
    "cca_object = CCAProcessor(cp1, cp2)"
   ]
  },
  {
   "cell_type": "markdown",
   "id": "25dd57ff-278d-4872-b0dd-b8c3ea710dcf",
   "metadata": {},
   "source": [
    "# Getting PCA dimensions"
   ]
  },
  {
   "cell_type": "code",
   "execution_count": 39,
   "id": "b9e2ae37-1f91-46bc-b33b-ce431af12953",
   "metadata": {},
   "outputs": [
    {
     "name": "stdout",
     "output_type": "stream",
     "text": [
      "6\n"
     ]
    }
   ],
   "source": [
    "#dimensions is lower of PCA95%\n",
    "temp, nada, nada = cca_object.apply_PCA()\n",
    "lowest_num_dimensions = temp\n",
    "print(lowest_num_dimensions)"
   ]
  },
  {
   "cell_type": "markdown",
   "id": "ceefc657-8573-49f1-9acd-445fc82fd836",
   "metadata": {},
   "source": [
    "# storing raw (unaligned, unprocessed) data as test sets"
   ]
  },
  {
   "cell_type": "code",
   "execution_count": 40,
   "id": "5995d830-e7f2-4442-964e-6b083c6d4a7d",
   "metadata": {},
   "outputs": [],
   "source": [
    "#get unprocessed day2 neural data as test set\n",
    "test_x = np.squeeze(np.array(cp2.apply_PCA(dims=lowest_num_dimensions)))\n",
    "test_y = np.squeeze(np.array(cp2.data['angles']))\n",
    "\n",
    "test_x_format, test_y_format = format_data(test_x, test_y)\n",
    "\n",
    "#scaled version\n",
    "scaler = StandardScaler()\n",
    "test_x_scale = scaler.fit_transform(test_x)\n",
    "\n",
    "test_x_format_scale, nada = format_data(test_x_scale, test_y)"
   ]
  },
  {
   "cell_type": "markdown",
   "id": "ff052f09-3a95-49fe-9572-0f4ecae59364",
   "metadata": {},
   "source": [
    "# choosing subsampling list"
   ]
  },
  {
   "cell_type": "code",
   "execution_count": 41,
   "id": "ef2e3a27-42f6-444b-9a6a-b0078e0cd02c",
   "metadata": {},
   "outputs": [],
   "source": [
    "#percent of total data\n",
    "subsample_list = [.05, .2, .5, 1.0]"
   ]
  },
  {
   "cell_type": "markdown",
   "id": "d6869f2f-5b25-439e-b370-13fbebab03eb",
   "metadata": {},
   "source": [
    "# getting day0 decoder"
   ]
  },
  {
   "cell_type": "code",
   "execution_count": 42,
   "id": "288573e2-2a3f-4539-8848-7039ae7b7958",
   "metadata": {},
   "outputs": [
    {
     "name": "stdout",
     "output_type": "stream",
     "text": [
      "[0.213 0.538 0.326 0.496 0.149]\n",
      "[0.213 0.538 0.326 0.496 0.149]\n"
     ]
    }
   ],
   "source": [
    "#get day0 decoder weights, scaled + unscaled versions\n",
    "\n",
    "day0_decoder, nada, naday, nadax = cp1.decode_angles(X=cp1.apply_PCA(lowest_num_dimensions))\n",
    "print(np.average(nada, 1))\n",
    "\n",
    "X_tempy =cp1.apply_PCA(lowest_num_dimensions)\n",
    "scaler = StandardScaler()\n",
    "X_scale = scaler.fit_transform(np.squeeze(X_tempy))\n",
    "day0_decoder_scale, nada, naday, nadax = cp1.decode_angles(X=[X_scale])\n",
    "\n",
    "print(np.average(nada, 1))"
   ]
  },
  {
   "cell_type": "markdown",
   "id": "bb1ee243-8361-4832-958d-2cf3a21d6cdb",
   "metadata": {},
   "source": [
    "# getting JUST-PCA decoder"
   ]
  },
  {
   "cell_type": "code",
   "execution_count": 43,
   "id": "06a8bf2b-a49f-4c04-8477-00b9cbbf2145",
   "metadata": {},
   "outputs": [],
   "source": [
    "pca_decoder = []\n",
    "\n",
    "for i in range(len(subsample_list)):\n",
    "    sub_x, sub_y = cp2.subsample(percent = subsample_list[i])\n",
    "    sub_x_pca = cp2.apply_PCA(dims=lowest_num_dimensions, X=sub_x)\n",
    "    \n",
    "    temp_h, nada, nadax, naday = cp2.decode_angles(X=sub_x_pca, Y=sub_y)\n",
    "    pca_decoder.append(temp_h)"
   ]
  },
  {
   "cell_type": "markdown",
   "id": "e6188a09-0bf2-4d1e-9a8c-b1e40a2e3b2d",
   "metadata": {},
   "source": [
    "# getting CCA scores"
   ]
  },
  {
   "cell_type": "code",
   "execution_count": 44,
   "id": "1aa4fec0-056f-48cd-b800-3b8a18bf64ad",
   "metadata": {},
   "outputs": [
    {
     "name": "stdout",
     "output_type": "stream",
     "text": [
      "-2.46\n",
      "0.11\n",
      "0.27\n",
      "0.5\n"
     ]
    }
   ],
   "source": [
    "cca_decoder_scores = []\n",
    "\n",
    "for i in range(len(subsample_list)):\n",
    "    sub_x1, sub_y1, sub_x2, sub_y2 = cca_object.subsample(percent = subsample_list[i])\n",
    "    nada, pca_sub_x1, pca_sub_x2 = cca_object.apply_PCA(cp1_x = sub_x1, cp2_x = sub_x2, preset_num_components=lowest_num_dimensions)\n",
    "    temp_cca_transformer, sanity_x = cca_object.apply_CCA(cp1_x = pca_sub_x1, cp2_x = pca_sub_x2, preset_num_components = lowest_num_dimensions)\n",
    "    nada, test_x_cca_space = temp_cca_transformer.transform(test_x, test_x)\n",
    "    temp_x = temp_cca_transformer.inverse_transform(test_x_cca_space)\n",
    "    temp_x_format, nada = format_data(temp_x, test_y)\n",
    "    \n",
    "    predic = test_wiener_filter(temp_x_format, day0_decoder)\n",
    "    \n",
    "    #sanity checks\n",
    "    sanity_x_format, sanity_y_format = format_data(sanity_x, cca_object.data['cp2']['proc_y'])\n",
    "    predic_sanity = test_wiener_filter(sanity_x_format, day0_decoder)\n",
    "    print(vaf(sanity_y_format[:,1], predic_sanity[:,1]))\n",
    "    \n",
    "\n",
    "    cca_decoder_scores.append(vaf(test_y_format[:,1], predic[:,1]))\n",
    "    \n"
   ]
  },
  {
   "cell_type": "code",
   "execution_count": 45,
   "id": "8b9ab3d0-a561-491e-a774-6cd3148ad38e",
   "metadata": {},
   "outputs": [
    {
     "data": {
      "text/plain": [
       "[-1.34, 0.26, 0.42, 0.33]"
      ]
     },
     "execution_count": 45,
     "metadata": {},
     "output_type": "execute_result"
    }
   ],
   "source": [
    "cca_decoder_scores"
   ]
  },
  {
   "cell_type": "markdown",
   "id": "a19278d1-fced-4744-a974-b1f453b65a36",
   "metadata": {},
   "source": [
    "# getting regression decoder"
   ]
  },
  {
   "cell_type": "code",
   "execution_count": 46,
   "id": "573b6fd3-691f-403e-b5ae-213cff907b38",
   "metadata": {},
   "outputs": [],
   "source": [
    "r_decoder = []\n",
    "\n",
    "for i in range(len(subsample_list)):\n",
    "    sub_x, sub_y = cp2.subsample(percent = subsample_list[i])\n",
    "    sub_x_pca = cp2.apply_PCA(dims=lowest_num_dimensions, X=sub_x)\n",
    "    \n",
    "    scaler = StandardScaler()\n",
    "    sub_x_pca_scale = scaler.fit_transform(np.squeeze(sub_x_pca))\n",
    "\n",
    "    b = regression_fit(b0=day0_decoder_scale, x=sub_x_pca_scale, y=np.squeeze(sub_y), my_alpha=1.0)\n",
    "    r_decoder.append(b)"
   ]
  },
  {
   "cell_type": "markdown",
   "id": "ead9b739-7df8-43db-8661-8cc088a0b0c0",
   "metadata": {},
   "source": [
    "# getting VAF scores for each decoder"
   ]
  },
  {
   "cell_type": "code",
   "execution_count": 47,
   "id": "91202ace-a889-478a-882c-3a682158a427",
   "metadata": {},
   "outputs": [],
   "source": [
    "fixed_decoder_scores=[]\n",
    "pca_decoder_scores=[]\n",
    "r_decoder_scores=[]\n",
    "\n",
    "for i in range(len(subsample_list)):\n",
    "    temp_y = test_wiener_filter(test_x_format, day0_decoder)\n",
    "    fixed_decoder_scores.append(vaf(test_y_format[:,1], temp_y[:,1]))\n",
    "    \n",
    "    temp_y = test_wiener_filter(test_x_format, pca_decoder[i])\n",
    "    pca_decoder_scores.append(vaf(test_y_format[:,1], temp_y[:,1]))\n",
    "    \n",
    "    temp_y = test_wiener_filter(test_x_format_scale, r_decoder[i])\n",
    "    r_decoder_scores.append(vaf(test_y_format[:,1], temp_y[:,1]))"
   ]
  },
  {
   "cell_type": "code",
   "execution_count": 48,
   "id": "839e2c66-ea94-4012-9274-82665ced1410",
   "metadata": {},
   "outputs": [
    {
     "name": "stdout",
     "output_type": "stream",
     "text": [
      "[-2.45, -2.45, -2.45, -2.45]\n",
      "[-0.07, 0.12, 0.16, 0.68]\n",
      "[-1.34, 0.26, 0.42, 0.33]\n",
      "[0.1, -0.02, 0.38, 0.68]\n"
     ]
    }
   ],
   "source": [
    "print(fixed_decoder_scores)\n",
    "print(pca_decoder_scores)\n",
    "print(cca_decoder_scores)\n",
    "print(r_decoder_scores)"
   ]
  },
  {
   "cell_type": "code",
   "execution_count": 49,
   "id": "289df8e2-5237-41be-b6e6-5c11d2d89da8",
   "metadata": {},
   "outputs": [
    {
     "data": {
      "application/vnd.jupyter.widget-view+json": {
       "model_id": "d00c432b2870441f9b86f790b4dfb69c",
       "version_major": 2,
       "version_minor": 0
      },
      "text/html": [
       "\n",
       "            <div style=\"display: inline-block;\">\n",
       "                <div class=\"jupyter-widgets widget-label\" style=\"text-align: center;\">\n",
       "                    Figure\n",
       "                </div>\n",
       "                <img src='data:image/png;base64,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' width=640.0/>\n",
       "            </div>\n",
       "        "
      ],
      "text/plain": [
       "Canvas(toolbar=Toolbar(toolitems=[('Home', 'Reset original view', 'home', 'home'), ('Back', 'Back to previous …"
      ]
     },
     "metadata": {},
     "output_type": "display_data"
    }
   ],
   "source": [
    "plot_dict = {}\n",
    "plot_dict['fixed_decoder_scores'] = fixed_decoder_scores\n",
    "plot_dict['pca_decoder_scores'] = pca_decoder_scores\n",
    "plot_dict['cca_decoder_scores'] = cca_decoder_scores\n",
    "plot_dict['r_decoder_scores'] = r_decoder_scores\n",
    "\n",
    "index = subsample_list\n",
    "\n",
    "df = pd.DataFrame(data=plot_dict, index=index)\n",
    "\n",
    "  \n",
    "# plot grouped bar chart\n",
    "ax = df.plot.bar(rot=15)\n",
    "for container in ax.containers:\n",
    "    ax.bar_label(container)"
   ]
  },
  {
   "cell_type": "code",
   "execution_count": 23,
   "id": "4717461e-1bc4-45a9-bb8c-afc9e5fa6911",
   "metadata": {},
   "outputs": [
    {
     "data": {
      "text/plain": [
       "array([0.04424801, 0.17811022, 0.25946897, 0.67813015])"
      ]
     },
     "execution_count": 23,
     "metadata": {},
     "output_type": "execute_result"
    }
   ],
   "source": [
    "container.datavalues"
   ]
  },
  {
   "cell_type": "code",
   "execution_count": 27,
   "id": "51515cb6-96fa-4359-add5-4159e4600c81",
   "metadata": {},
   "outputs": [
    {
     "data": {
      "text/plain": [
       "array([0.04, 0.18, 0.26, 0.68])"
      ]
     },
     "execution_count": 27,
     "metadata": {},
     "output_type": "execute_result"
    }
   ],
   "source": [
    "np.round(container.datavalues, 2)"
   ]
  },
  {
   "cell_type": "code",
   "execution_count": null,
   "id": "cf5bbd99-a33e-4f46-ae33-584ad56ad12c",
   "metadata": {},
   "outputs": [],
   "source": []
  }
 ],
 "metadata": {
  "kernelspec": {
   "display_name": "Python 3",
   "language": "python",
   "name": "python3"
  },
  "language_info": {
   "codemirror_mode": {
    "name": "ipython",
    "version": 3
   },
   "file_extension": ".py",
   "mimetype": "text/x-python",
   "name": "python",
   "nbconvert_exporter": "python",
   "pygments_lexer": "ipython3",
   "version": "3.7.0"
  }
 },
 "nbformat": 4,
 "nbformat_minor": 5
}
