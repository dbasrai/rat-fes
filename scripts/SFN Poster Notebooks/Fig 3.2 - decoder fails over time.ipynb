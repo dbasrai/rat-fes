{
 "cells": [
  {
   "cell_type": "code",
   "execution_count": 1,
   "id": "7b863a4b-ffc7-4d91-9d1a-e38efbf9a413",
   "metadata": {},
   "outputs": [],
   "source": [
    "%matplotlib widget\n",
    "%load_ext autoreload\n",
    "%autoreload 2\n",
    "from src.folder_handler import *\n",
    "from src.cort_processor import *\n",
    "from src.cca_processor import *\n",
    "from src.tdt_support import *\n",
    "from src.plotter import *\n",
    "from src.decoders import *\n",
    "from src.utils import *\n",
    "import pickle\n",
    "import scipy as sio\n",
    "import numpy as np\n",
    "import matplotlib.pyplot as plt\n",
    "from  matplotlib.colors import LinearSegmentedColormap\n",
    "from src.wiener_filter import *\n",
    "from matplotlib.pyplot import cm\n",
    "from sklearn.cross_decomposition import CCA\n",
    "from sklearn.preprocessing import StandardScaler\n",
    "from sklearn.linear_model import Ridge, LinearRegression\n",
    "import os\n",
    "from itertools import cycle, islice\n",
    "import copy"
   ]
  },
  {
   "cell_type": "markdown",
   "id": "9ab2e392-e045-4e87-b425-f5d83aa9b0ac",
   "metadata": {},
   "source": [
    "with open('/home/diya/Documents/rat-fes/data/pickles/N5_171001_proc.pkl', 'rb') as inp: #YOUR PATH HERE\n",
    "    cp1=pickle.load(inp)\n",
    "    \n",
    "with open('/home/diya/Documents/rat-fes/data/pickles/N5_171016_proc.pkl', 'rb') as inp: #YOUR PATH HERE\n",
    "    cp2=pickle.load(inp)\n",
    "    \n",
    "with open('/home/diya/Documents/rat-fes/data/pickles/N5_171130_proc.pkl', 'rb') as inp: #YOUR PATH HERE\n",
    "    cp3=pickle.load(inp)\n",
    "    \n",
    "----\n",
    "\n",
    "with open('/home/diya/Documents/rat-fes/data/pickles/N6_171026_proc.pkl', 'rb') as inp: #YOUR PATH HERE\n",
    "    cp1=pickle.load(inp)\n",
    "    \n",
    "with open('/home/diya/Documents/rat-fes/data/pickles/N6_171204_proc.pkl', 'rb') as inp: #YOUR PATH HERE\n",
    "    cp2=pickle.load(inp)\n",
    "    \n",
    "with open('/home/diya/Documents/rat-fes/data/pickles/N6_171211_proc.pkl', 'rb') as inp: #YOUR PATH HERE\n",
    "    cp3=pickle.load(inp)\n",
    "    \n",
    "----\n",
    "\n",
    "with open('/home/diya/Documents/rat-fes/data/pickles/N5_mixed.pkl', 'rb') as inp: #YOUR PATH HERE\n",
    "    cp1 = pickle.load(inp)\n",
    "with open('/home/diya/Documents/rat-fes/data/pickles/N6_mixed.pkl', 'rb') as inp: #YOUR PATH HERE\n",
    "    cp2 = pickle.load(inp)\n",
    "with open('/home/diya/Documents/rat-fes/data/pickles/N9_mixed.pkl', 'rb') as inp: #YOUR PATH HERE\n",
    "    cp3 = pickle.load(inp)\n",
    "    \n",
    "----\n",
    "\n",
    "with open('/home/diya/Documents/rat-fes/data/pickles/N9_171121_proc.pkl', 'rb') as inp: #YOUR PATH HERE\n",
    "    cp1=pickle.load(inp)\n",
    "    \n",
    "with open('/home/diya/Documents/rat-fes/data/pickles/N9_171204_proc.pkl', 'rb') as inp: #YOUR PATH HERE\n",
    "    cp2=pickle.load(inp)\n",
    "    \n",
    "with open('/home/diya/Documents/rat-fes/data/pickles/N9_171211_proc.pkl', 'rb') as inp: #YOUR PATH HERE\n",
    "    cp3=pickle.load(inp)"
   ]
  },
  {
   "cell_type": "code",
   "execution_count": 2,
   "id": "0021b3de-cff6-4253-8fca-317e27d00507",
   "metadata": {},
   "outputs": [],
   "source": [
    "with open('/home/diya/Documents/rat-fes/data/pickles/N5_171001_proc.pkl', 'rb') as inp: #YOUR PATH HERE\n",
    "    cp1=pickle.load(inp)\n",
    "    \n",
    "with open('/home/diya/Documents/rat-fes/data/pickles/N5_171016_proc.pkl', 'rb') as inp: #YOUR PATH HERE\n",
    "    cp2=pickle.load(inp)\n",
    "    \n",
    "with open('/home/diya/Documents/rat-fes/data/pickles/N5_171130_proc.pkl', 'rb') as inp: #YOUR PATH HERE\n",
    "    cp3=pickle.load(inp)"
   ]
  },
  {
   "cell_type": "code",
   "execution_count": 3,
   "id": "f2519dae-8a9a-4484-ac1d-6209ae5f3977",
   "metadata": {},
   "outputs": [],
   "source": [
    "cp_list = [cp1, cp2, cp3]"
   ]
  },
  {
   "cell_type": "code",
   "execution_count": 4,
   "id": "0ba5289e-b459-405e-800b-7dea628a97e0",
   "metadata": {},
   "outputs": [
    {
     "name": "stdout",
     "output_type": "stream",
     "text": [
      "0.7889999999999999\n"
     ]
    }
   ],
   "source": [
    "day0_decoder, vaffy, nada, nadax = cp1.decode_angles(metric=1)\n",
    "print(np.average(vaffy, 1)[1])"
   ]
  },
  {
   "cell_type": "code",
   "execution_count": 5,
   "id": "5c8f60e0-2df8-4558-8a43-2a3a7973b80d",
   "metadata": {},
   "outputs": [],
   "source": [
    "fixed_vaf = []\n",
    "same_vaf = []\n",
    "for cp in cp_list:\n",
    "    nada, temp_vaf, nadas, nadax = cp.decode_angles(metric=1)\n",
    "    same_vaf.append(np.average(temp_vaf, 1)[1])\n",
    "    temp_x = cp.data['rates'][0]\n",
    "    temp_y = cp.data['angles'][0]\n",
    "    temp_x_format, temp_y_format = format_data(temp_x, temp_y)\n",
    "    nada, temp_vaf, nadas, nadax = decode_kfolds(temp_x_format, temp_y_format, metric=1, preset_h = day0_decoder)\n",
    "    fixed_vaf.append(np.average(temp_vaf, 1)[1])\n",
    "    "
   ]
  },
  {
   "cell_type": "code",
   "execution_count": 6,
   "id": "d83a3a32-768b-4216-8b28-d24a2c4eec87",
   "metadata": {},
   "outputs": [
    {
     "data": {
      "text/plain": [
       "[0.8029999999999999, 0.6599999999999999, 0.7230000000000001]"
      ]
     },
     "execution_count": 6,
     "metadata": {},
     "output_type": "execute_result"
    }
   ],
   "source": [
    "fixed_vaf"
   ]
  },
  {
   "cell_type": "markdown",
   "id": "fb8c426a-bc6d-4fd1-9953-d28738f4e593",
   "metadata": {},
   "source": [
    "# the 11/30 data gives quite a good VAF score haha. not sure why, but likely has to do with channel drop out."
   ]
  },
  {
   "cell_type": "code",
   "execution_count": 7,
   "id": "bb6e7ebf-9527-4f17-89f6-06d7020b8c39",
   "metadata": {},
   "outputs": [
    {
     "data": {
      "application/vnd.jupyter.widget-view+json": {
       "model_id": "e92742e45c2647a6b87aab7eb0655701",
       "version_major": 2,
       "version_minor": 0
      },
      "text/html": [
       "\n",
       "            <div style=\"display: inline-block;\">\n",
       "                <div class=\"jupyter-widgets widget-label\" style=\"text-align: center;\">\n",
       "                    Figure\n",
       "                </div>\n",
       "                <img src='data:image/png;base64,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' width=300.0/>\n",
       "            </div>\n",
       "        "
      ],
      "text/plain": [
       "Canvas(toolbar=Toolbar(toolitems=[('Home', 'Reset original view', 'home', 'home'), ('Back', 'Back to previous …"
      ]
     },
     "metadata": {},
     "output_type": "display_data"
    }
   ],
   "source": [
    "plt.rcParams['pdf.fonttype'] = 42\n",
    "plt.rcParams['ps.fonttype'] = 42\n",
    "\n",
    "fig = plt.figure()\n",
    "ax = fig.add_subplot(111)\n",
    "ts = np.arange(0,3)\n",
    "ax.plot(ts, same_vaf, color='gray')\n",
    "ax.scatter(ts, same_vaf, color='gray')\n",
    "ax.plot(ts, fixed_vaf, color='green')\n",
    "ax.scatter(ts, fixed_vaf, color='green')\n",
    "\n",
    "#ax.axis('off')\n",
    "fig.set_size_inches(3, 3)\n",
    "\n",
    "#fig.savefig('/home/diya/Documents/rat-fes/results/sfn_poster/fig3.pdf', dpi=600)"
   ]
  },
  {
   "cell_type": "code",
   "execution_count": null,
   "id": "e438bb95-4f55-47dc-9a6f-270ac5763a2f",
   "metadata": {},
   "outputs": [],
   "source": []
  }
 ],
 "metadata": {
  "kernelspec": {
   "display_name": "Python 3",
   "language": "python",
   "name": "python3"
  },
  "language_info": {
   "codemirror_mode": {
    "name": "ipython",
    "version": 3
   },
   "file_extension": ".py",
   "mimetype": "text/x-python",
   "name": "python",
   "nbconvert_exporter": "python",
   "pygments_lexer": "ipython3",
   "version": "3.7.0"
  }
 },
 "nbformat": 4,
 "nbformat_minor": 5
}
