{
 "cells": [
  {
   "cell_type": "code",
   "execution_count": 1,
   "id": "08b1020f-253b-4dc0-b9cc-af39f23d9ec3",
   "metadata": {},
   "outputs": [],
   "source": [
    "%matplotlib widget\n",
    "%load_ext autoreload\n",
    "%autoreload 2\n",
    "from src.folder_handler import *\n",
    "from src.cort_processor import *\n",
    "from src.cca_processor import *\n",
    "from src.tdt_support import *\n",
    "from src.plotter import *\n",
    "from src.decoders import *\n",
    "from src.utils import *\n",
    "import pickle\n",
    "import scipy as sio\n",
    "import numpy as np\n",
    "import matplotlib.pyplot as plt\n",
    "from  matplotlib.colors import LinearSegmentedColormap\n",
    "from src.wiener_filter import *\n",
    "from matplotlib.pyplot import cm\n",
    "from sklearn.cross_decomposition import CCA\n",
    "from sklearn.preprocessing import StandardScaler\n",
    "from sklearn.linear_model import Ridge\n",
    "import os\n",
    "from itertools import cycle, islice\n",
    "\n",
    "import copy"
   ]
  },
  {
   "cell_type": "markdown",
   "id": "67d44daa-e0bf-4e3a-9244-2b9610f7264c",
   "metadata": {},
   "source": [
    "with open('/home/diya/Documents/rat-fes/data/pickles/N5_171001_proc.pkl', 'rb') as inp: #YOUR PATH HERE\n",
    "    cp1=pickle.load(inp)\n",
    "    \n",
    "with open('/home/diya/Documents/rat-fes/data/pickles/N5_171016_proc.pkl', 'rb') as inp: #YOUR PATH HERE\n",
    "    cp2=pickle.load(inp)\n",
    "    \n",
    "with open('/home/diya/Documents/rat-fes/data/pickles/N5_171130_proc.pkl', 'rb') as inp: #YOUR PATH HERE\n",
    "    cp3=pickle.load(inp)\n",
    "    \n",
    "----\n",
    "\n",
    "with open('/home/diya/Documents/rat-fes/data/pickles/N6_171026_proc.pkl', 'rb') as inp: #YOUR PATH HERE\n",
    "    cp1=pickle.load(inp)\n",
    "    \n",
    "with open('/home/diya/Documents/rat-fes/data/pickles/N6_171204_proc.pkl', 'rb') as inp: #YOUR PATH HERE\n",
    "    cp2=pickle.load(inp)\n",
    "    \n",
    "with open('/home/diya/Documents/rat-fes/data/pickles/N6_171211_proc.pkl', 'rb') as inp: #YOUR PATH HERE\n",
    "    cp3=pickle.load(inp)\n",
    "    \n",
    "----\n",
    "\n",
    "with open('/home/diya/Documents/rat-fes/data/pickles/N5_mixed.pkl', 'rb') as inp: #YOUR PATH HERE\n",
    "    cp1 = pickle.load(inp)\n",
    "with open('/home/diya/Documents/rat-fes/data/pickles/N6_mixed.pkl', 'rb') as inp: #YOUR PATH HERE\n",
    "    cp2 = pickle.load(inp)\n",
    "with open('/home/diya/Documents/rat-fes/data/pickles/N9_mixed.pkl', 'rb') as inp: #YOUR PATH HERE\n",
    "    cp3 = pickle.load(inp)\n",
    "    \n",
    "----\n",
    "\n",
    "with open('/home/diya/Documents/rat-fes/data/pickles/N9_171121_proc.pkl', 'rb') as inp: #YOUR PATH HERE\n",
    "    cp1=pickle.load(inp)\n",
    "    \n",
    "with open('/home/diya/Documents/rat-fes/data/pickles/N9_171204_proc.pkl', 'rb') as inp: #YOUR PATH HERE\n",
    "    cp2=pickle.load(inp)\n",
    "    \n",
    "with open('/home/diya/Documents/rat-fes/data/pickles/N9_171211_proc.pkl', 'rb') as inp: #YOUR PATH HERE\n",
    "    cp3=pickle.load(inp)"
   ]
  },
  {
   "cell_type": "code",
   "execution_count": 2,
   "id": "65d19561-8d69-4b54-b557-d36a962c0f41",
   "metadata": {},
   "outputs": [],
   "source": [
    "with open('/home/diya/Documents/rat-fes/data/pickles/N5_mixed.pkl', 'rb') as inp: #YOUR PATH HERE\n",
    "    cp1 = pickle.load(inp)\n",
    "with open('/home/diya/Documents/rat-fes/data/pickles/N6_mixed.pkl', 'rb') as inp: #YOUR PATH HERE\n",
    "    cp2 = pickle.load(inp)\n",
    "with open('/home/diya/Documents/rat-fes/data/pickles/N9_mixed.pkl', 'rb') as inp: #YOUR PATH HERE\n",
    "    cp3 = pickle.load(inp)"
   ]
  },
  {
   "cell_type": "code",
   "execution_count": 3,
   "id": "022cde45-379c-4689-8894-218ee972cfbf",
   "metadata": {},
   "outputs": [],
   "source": [
    "dimensions=8"
   ]
  },
  {
   "cell_type": "code",
   "execution_count": 4,
   "id": "3f7c19b7-0d0c-4eaf-bbd4-492b59e23af8",
   "metadata": {},
   "outputs": [
    {
     "name": "stdout",
     "output_type": "stream",
     "text": [
      "0.728\n"
     ]
    }
   ],
   "source": [
    "day0_decoder, vaffy, test_x, test_y = cp1.decode_angles(X=cp1.apply_PCA(dims=dimensions), metric=1)\n",
    "day0_pca_transformer = cp1.pca_object\n",
    "print(np.average(vaffy,1)[1])"
   ]
  },
  {
   "cell_type": "code",
   "execution_count": 5,
   "id": "cda3163c-6f2d-4171-ae37-86c38834dff0",
   "metadata": {},
   "outputs": [
    {
     "name": "stdout",
     "output_type": "stream",
     "text": [
      "(12039,)\n",
      "(12023,)\n",
      "should be good to align\n",
      "(7708, 15)\n",
      "(7708, 5)\n",
      "(7708, 15)\n",
      "(7708, 5)\n",
      "(12039,)\n",
      "(7500,)\n",
      "should be good to align\n",
      "(6444, 15)\n",
      "(6444, 5)\n",
      "(6444, 15)\n",
      "(6444, 5)\n"
     ]
    }
   ],
   "source": [
    "cca_1 = CCAProcessor(cp1, cp2)\n",
    "cca_2 = CCAProcessor(cp1, cp3)"
   ]
  },
  {
   "cell_type": "code",
   "execution_count": 6,
   "id": "a81c63d2-8904-4fbf-becd-96906a34ca5f",
   "metadata": {},
   "outputs": [],
   "source": [
    "cp_list = [cp2, cp3]\n",
    "cca_list = [cca_1, cca_2]"
   ]
  },
  {
   "cell_type": "code",
   "execution_count": 7,
   "id": "896e9a4a-5ba1-4aac-a377-405cc6744a73",
   "metadata": {},
   "outputs": [],
   "source": [
    "fixed_vaf=[]\n",
    "same_vaf = []\n",
    "for cp in cp_list:\n",
    "    nada, temp_vaf, nadas, nadax = cp.decode_angles(cp.apply_PCA(dims=dimensions), metric=1)\n",
    "    same_vaf.append(np.average(temp_vaf, 1)[1])\n",
    "    temp_x = cp.apply_PCA(dims=dimensions, transformer=day0_pca_transformer)[0]\n",
    "    temp_y = cp.data['angles'][0]\n",
    "    temp_x_format, temp_y_format = format_data(temp_x, temp_y)\n",
    "    nada, temp_vaf, nadas, nadax = decode_kfolds(temp_x_format, temp_y_format, metric=1, preset_h = day0_decoder)\n",
    "    fixed_vaf.append(np.average(temp_vaf, 1)[1])\n"
   ]
  },
  {
   "cell_type": "code",
   "execution_count": 8,
   "id": "a782a649-25a9-4f18-ad58-d0ee0dc1b2d0",
   "metadata": {},
   "outputs": [],
   "source": [
    "cca_vaf = []\n",
    "for idx, cca_obj in enumerate(cca_list):\n",
    "    cp1_x_pca, cp2_x_pca = cca_obj.apply_PCA(preset_num_components=dimensions, day_0_transformer = day0_pca_transformer)\n",
    "    cca_transformer, nada = cca_obj.apply_CCA(cp1_x = cp1_x_pca, cp2_x = cp2_x_pca, preset_num_components=dimensions, pca=True)\n",
    "    test_x = cca_obj.cp2.apply_PCA(transformer=cca_obj.data['cp2']['pca_transformer'])[0]\n",
    "    test_y = cca_obj.cp2.data['angles'][0]\n",
    "    \n",
    "    trans_x = cca_obj.quick_cca(test_x, cca_transformer, scale=False)\n",
    "    \n",
    "    trans_x_format, test_y_format = format_data(trans_x, test_y)\n",
    "    nada, temp_vaf, nads, nadax = decode_kfolds(trans_x_format, test_y_format, metric=1, preset_h=day0_decoder)\n",
    "    cca_vaf.append(np.average(temp_vaf, 1)[1])"
   ]
  },
  {
   "cell_type": "code",
   "execution_count": 9,
   "id": "9b0f5b8c-5790-4062-85eb-7134e22b84bd",
   "metadata": {},
   "outputs": [
    {
     "data": {
      "text/plain": [
       "[0.33, 0.391]"
      ]
     },
     "execution_count": 9,
     "metadata": {},
     "output_type": "execute_result"
    }
   ],
   "source": [
    "cca_vaf"
   ]
  },
  {
   "cell_type": "code",
   "execution_count": 10,
   "id": "03217dea-3458-4726-8bf7-d4aa8837acb3",
   "metadata": {},
   "outputs": [
    {
     "data": {
      "text/plain": [
       "[0.605, 0.491]"
      ]
     },
     "execution_count": 10,
     "metadata": {},
     "output_type": "execute_result"
    }
   ],
   "source": [
    "same_vaf"
   ]
  },
  {
   "cell_type": "code",
   "execution_count": 11,
   "id": "05978cb7-f1e2-49e8-8cd6-ad014eeed718",
   "metadata": {},
   "outputs": [
    {
     "data": {
      "text/plain": [
       "[-0.184, -0.23000000000000004]"
      ]
     },
     "execution_count": 11,
     "metadata": {},
     "output_type": "execute_result"
    }
   ],
   "source": [
    "fixed_vaf"
   ]
  },
  {
   "cell_type": "code",
   "execution_count": 15,
   "id": "9047c612-773b-432a-9eba-5dae3e607291",
   "metadata": {},
   "outputs": [
    {
     "data": {
      "application/vnd.jupyter.widget-view+json": {
       "model_id": "f7cc8b0c6cd447cf9c79bf56ef54b0c2",
       "version_major": 2,
       "version_minor": 0
      },
      "text/html": [
       "\n",
       "            <div style=\"display: inline-block;\">\n",
       "                <div class=\"jupyter-widgets widget-label\" style=\"text-align: center;\">\n",
       "                    Figure\n",
       "                </div>\n",
       "                <img src='data:image/png;base64,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' width=1000.0/>\n",
       "            </div>\n",
       "        "
      ],
      "text/plain": [
       "Canvas(toolbar=Toolbar(toolitems=[('Home', 'Reset original view', 'home', 'home'), ('Back', 'Back to previous …"
      ]
     },
     "metadata": {},
     "output_type": "display_data"
    }
   ],
   "source": [
    "%matplotlib widget\n",
    "%matplotlib widget\n",
    "\n",
    "plt.rcParams[\"figure.figsize\"] = (10, 5)\n",
    "plt.rcParams['pdf.fonttype'] = 42\n",
    "plt.rcParams['ps.fonttype'] = 42\n",
    "\n",
    "\n",
    "plot_dict = {}\n",
    "plot_dict['old decoder'] = fixed_vaf\n",
    "plot_dict['retrained decoder'] = same_vaf\n",
    "plot_dict['old decoder on aligned data'] = cca_vaf\n",
    "\n",
    "index = ['30 days later', '34 days later']\n",
    "df = pd.DataFrame(data=plot_dict, index=index)\n",
    "\n",
    "#my_colors = list(islice(cycle(['tab:red', 'tab:blue', 'tab:green','k']), None, len(df)))\n",
    "\n",
    "  \n",
    "# plot grouped bar chart\n",
    "ax = df.plot.bar(rot=15, color=['tab:pink', 'tab:blue', 'tab:green'])\n",
    "#ax.set_ylim(bottom=-1, top=1)\n",
    "#ax.set_title('Training various decoders, trying on Day-N data')\n",
    "#ax.set_ylabel('vaf')\n",
    "#ax.set_xlabel('number of gait cycles')\n",
    "#ax.legend().remove()\n",
    "#ax.set_size_inches(8, 5)\n",
    "for container in ax.containers:\n",
    "    diya = ax.bar_label(container)\n",
    "#plt.savefig('/home/diya/Documents/rat-fes/results/sfn_poster/fig4b.pdf', dpi=600)"
   ]
  },
  {
   "cell_type": "code",
   "execution_count": null,
   "id": "7ae71f3e-98b9-46b9-8520-04a8076ff7ee",
   "metadata": {},
   "outputs": [],
   "source": []
  }
 ],
 "metadata": {
  "kernelspec": {
   "display_name": "Python 3",
   "language": "python",
   "name": "python3"
  },
  "language_info": {
   "codemirror_mode": {
    "name": "ipython",
    "version": 3
   },
   "file_extension": ".py",
   "mimetype": "text/x-python",
   "name": "python",
   "nbconvert_exporter": "python",
   "pygments_lexer": "ipython3",
   "version": "3.7.0"
  }
 },
 "nbformat": 4,
 "nbformat_minor": 5
}
