{
 "cells": [
  {
   "cell_type": "code",
   "execution_count": 85,
   "id": "7b863a4b-ffc7-4d91-9d1a-e38efbf9a413",
   "metadata": {},
   "outputs": [
    {
     "name": "stdout",
     "output_type": "stream",
     "text": [
      "The autoreload extension is already loaded. To reload it, use:\n",
      "  %reload_ext autoreload\n"
     ]
    }
   ],
   "source": [
    "%matplotlib widget\n",
    "%load_ext autoreload\n",
    "%autoreload 2\n",
    "from src.folder_handler import *\n",
    "from src.cort_processor import *\n",
    "from src.cca_processor import *\n",
    "from src.tdt_support import *\n",
    "from src.plotter import *\n",
    "from src.decoders import *\n",
    "from src.utils import *\n",
    "import pickle\n",
    "import scipy as sio\n",
    "import numpy as np\n",
    "import matplotlib.pyplot as plt\n",
    "from  matplotlib.colors import LinearSegmentedColormap\n",
    "from src.wiener_filter import *\n",
    "from matplotlib.pyplot import cm\n",
    "from sklearn.cross_decomposition import CCA\n",
    "from sklearn.preprocessing import StandardScaler\n",
    "from sklearn.linear_model import Ridge, LinearRegression\n",
    "import os\n",
    "from itertools import cycle, islice\n",
    "import copy"
   ]
  },
  {
   "cell_type": "code",
   "execution_count": 86,
   "id": "0021b3de-cff6-4253-8fca-317e27d00507",
   "metadata": {},
   "outputs": [
    {
     "name": "stdout",
     "output_type": "stream",
     "text": [
      "['N5_171130_No Obstacles_s.mat', 'N5_171016_No Obstacles_s.mat', 'N5_171001_No Obstacles_s.mat', 'N5_170929_No Obstacles_s.mat']\n"
     ]
    }
   ],
   "source": [
    "path = '/home/diya/Documents/rat-fes/data/filipe_data/N5'\n",
    "filenames = os.listdir(path)\n",
    "print(filenames)"
   ]
  },
  {
   "cell_type": "code",
   "execution_count": 87,
   "id": "8daaef9e-f0fa-4bb0-ab57-bab771452a84",
   "metadata": {},
   "outputs": [],
   "source": [
    "temp_datasets = []\n",
    "temp_var_names = []\n",
    "\n",
    "for file in filenames:\n",
    "    temp_datasets.append(path+'/'+file)\n",
    "    temp_var_names.append(file.split('_')[0]+file.split('_')[1])\n",
    "\n",
    "datasets = sorted(temp_datasets)\n",
    "var_names = sorted(temp_var_names)"
   ]
  },
  {
   "cell_type": "code",
   "execution_count": 88,
   "id": "129144cc-8001-4262-94c2-9ba21cd17f0a",
   "metadata": {},
   "outputs": [
    {
     "data": {
      "text/plain": [
       "['N5170929', 'N5171001', 'N5171016', 'N5171130']"
      ]
     },
     "execution_count": 88,
     "metadata": {},
     "output_type": "execute_result"
    }
   ],
   "source": [
    "var_names"
   ]
  },
  {
   "cell_type": "code",
   "execution_count": 89,
   "id": "713d7464-3423-4a1b-9d15-389c744a8b9e",
   "metadata": {},
   "outputs": [
    {
     "name": "stdout",
     "output_type": "stream",
     "text": [
      "this is filipe data i belive\n",
      "this is filipe data i belive\n",
      "this is filipe data i belive\n",
      "this is filipe data i belive\n"
     ]
    }
   ],
   "source": [
    "cort_dict = {}\n",
    "for i in range(len(datasets)):\n",
    "    cort_dict[var_names[i]] = CortProcessor(datasets[i])"
   ]
  },
  {
   "cell_type": "code",
   "execution_count": 90,
   "id": "5e26fe25-0718-48ba-abe0-bbd2b846f4a2",
   "metadata": {},
   "outputs": [],
   "source": [
    "day0_decoder, vaffy, test_x, test_y = cort_dict[var_names[0]].decode_angles()"
   ]
  },
  {
   "cell_type": "code",
   "execution_count": 91,
   "id": "9e59bbdd-2949-46d1-a2cf-f5ffbb35a2dd",
   "metadata": {},
   "outputs": [
    {
     "name": "stdout",
     "output_type": "stream",
     "text": [
      "N5170929 N5171001\n",
      "(12050,)\n",
      "(12039,)\n",
      "should be good to align\n",
      "(10267, 11)\n",
      "(10267, 5)\n",
      "(10267, 23)\n",
      "(10267, 5)\n",
      "N5170929 N5171016\n",
      "(12050,)\n",
      "(12127,)\n",
      "should be good to align\n",
      "(8680, 11)\n",
      "(8680, 5)\n",
      "(8680, 22)\n",
      "(8680, 5)\n",
      "N5170929 N5171130\n",
      "(12050,)\n",
      "(12051,)\n",
      "should be good to align\n",
      "(9543, 11)\n",
      "(9543, 5)\n",
      "(9543, 23)\n",
      "(9543, 5)\n"
     ]
    }
   ],
   "source": [
    "cca_dict = {}\n",
    "for i in range(1, len(var_names)):\n",
    "    print(var_names[0], var_names[i])\n",
    "    cca_dict[var_names[i]] = CCAProcessor(cort_dict[var_names[0]], cort_dict[var_names[i]])\n"
   ]
  },
  {
   "cell_type": "code",
   "execution_count": 92,
   "id": "a15bee89-1559-4c58-ad32-a08e5fc3822d",
   "metadata": {},
   "outputs": [],
   "source": [
    "dayn_x_list = []"
   ]
  },
  {
   "cell_type": "code",
   "execution_count": 93,
   "id": "741a353e-7517-4263-9385-cd8d3b968910",
   "metadata": {},
   "outputs": [],
   "source": [
    "for i in range(1, len(var_names)):\n",
    "    dayn_x_list.append(cca_dict[var_names[i]].remove_cp4_channels())\n",
    "    "
   ]
  },
  {
   "cell_type": "code",
   "execution_count": 113,
   "id": "b9ee8b76-8129-45e4-8978-33c7c49ca1f2",
   "metadata": {},
   "outputs": [],
   "source": [
    "fixed_vaf_list = []\n",
    "same_day_vaf = []\n",
    "for i in range(0, len(var_names)):\n",
    "    temp_cp = cort_dict[var_names[i]]\n",
    "    x = dayn_x_list[i-1]\n",
    "    y = temp_cp.data['angles'][0]\n",
    "    \n",
    "    x_format, y_format = format_data(x, y)\n",
    "    nada, temp_vaf, nadax, naday = decode_kfolds(x_format, y_format, metric=1, preset_h =day0_decoder)\n",
    "    fixed_vaf_list.append(np.average(temp_vaf,1)[1])\n",
    "    nada, temp_vaf, nadax, naday = temp_cp.decode_angles()\n",
    "    same_day_vaf.append(np.average(temp_vaf,1)[1])\n",
    "    \n",
    "fixed_vaf_list[0] = .563"
   ]
  },
  {
   "cell_type": "code",
   "execution_count": 116,
   "id": "f4809673-3b5c-48fe-9625-6b3e76c5d11d",
   "metadata": {},
   "outputs": [],
   "source": []
  },
  {
   "cell_type": "code",
   "execution_count": 117,
   "id": "d83a3a32-768b-4216-8b28-d24a2c4eec87",
   "metadata": {},
   "outputs": [
    {
     "data": {
      "text/plain": [
       "[0.563, 0.7889999999999999, 0.7539999999999999, 0.812]"
      ]
     },
     "execution_count": 117,
     "metadata": {},
     "output_type": "execute_result"
    }
   ],
   "source": [
    "same_day_vaf"
   ]
  },
  {
   "cell_type": "markdown",
   "id": "fb8c426a-bc6d-4fd1-9953-d28738f4e593",
   "metadata": {},
   "source": [
    "# the 11/30 data gives quite a good VAF score haha. not sure why, but likely has to do with channel drop out."
   ]
  },
  {
   "cell_type": "code",
   "execution_count": 135,
   "id": "bb6e7ebf-9527-4f17-89f6-06d7020b8c39",
   "metadata": {},
   "outputs": [
    {
     "data": {
      "application/vnd.jupyter.widget-view+json": {
       "model_id": "05cca17054c340f2b4572583ba1f07f7",
       "version_major": 2,
       "version_minor": 0
      },
      "text/html": [
       "\n",
       "            <div style=\"display: inline-block;\">\n",
       "                <div class=\"jupyter-widgets widget-label\" style=\"text-align: center;\">\n",
       "                    Figure\n",
       "                </div>\n",
       "                <img src='data:image/png;base64,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' width=300.0/>\n",
       "            </div>\n",
       "        "
      ],
      "text/plain": [
       "Canvas(toolbar=Toolbar(toolitems=[('Home', 'Reset original view', 'home', 'home'), ('Back', 'Back to previous …"
      ]
     },
     "metadata": {},
     "output_type": "display_data"
    }
   ],
   "source": [
    "plt.rcParams['pdf.fonttype'] = 42\n",
    "plt.rcParams['ps.fonttype'] = 42\n",
    "\n",
    "fig = plt.figure()\n",
    "ax = fig.add_subplot(111)\n",
    "ts = np.arange(0,3)\n",
    "ax.plot(ts, same_day_vaf[:-1], color='gray')\n",
    "ax.scatter(ts, same_day_vaf[:-1], color='gray')\n",
    "ax.plot(ts, fixed_vaf_list[:-1], color='green')\n",
    "ax.scatter(ts, fixed_vaf_list[:-1], color='green')\n",
    "\n",
    "#ax.axis('off')\n",
    "fig.set_size_inches(3, 3)\n",
    "\n",
    "fig.savefig('/home/diya/Documents/rat-fes/results/sfn_poster/fig3.pdf', dpi=600)"
   ]
  },
  {
   "cell_type": "code",
   "execution_count": null,
   "id": "e438bb95-4f55-47dc-9a6f-270ac5763a2f",
   "metadata": {},
   "outputs": [],
   "source": []
  }
 ],
 "metadata": {
  "kernelspec": {
   "display_name": "Python 3",
   "language": "python",
   "name": "python3"
  },
  "language_info": {
   "codemirror_mode": {
    "name": "ipython",
    "version": 3
   },
   "file_extension": ".py",
   "mimetype": "text/x-python",
   "name": "python",
   "nbconvert_exporter": "python",
   "pygments_lexer": "ipython3",
   "version": "3.7.0"
  }
 },
 "nbformat": 4,
 "nbformat_minor": 5
}
