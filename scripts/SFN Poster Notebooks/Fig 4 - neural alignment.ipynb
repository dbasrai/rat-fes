{
 "cells": [
  {
   "cell_type": "code",
   "execution_count": 1,
   "id": "08b1020f-253b-4dc0-b9cc-af39f23d9ec3",
   "metadata": {},
   "outputs": [],
   "source": [
    "%matplotlib widget\n",
    "%load_ext autoreload\n",
    "%autoreload 2\n",
    "from src.folder_handler import *\n",
    "from src.cort_processor import *\n",
    "from src.cca_processor import *\n",
    "from src.tdt_support import *\n",
    "from src.plotter import *\n",
    "from src.decoders import *\n",
    "from src.utils import *\n",
    "import pickle\n",
    "import scipy as sio\n",
    "import numpy as np\n",
    "import matplotlib.pyplot as plt\n",
    "from  matplotlib.colors import LinearSegmentedColormap\n",
    "from src.wiener_filter import *\n",
    "from matplotlib.pyplot import cm\n",
    "from sklearn.cross_decomposition import CCA\n",
    "from sklearn.preprocessing import StandardScaler\n",
    "from sklearn.linear_model import Ridge, LinearRegression\n",
    "import os\n",
    "from itertools import cycle, islice\n",
    "import copy"
   ]
  },
  {
   "cell_type": "code",
   "execution_count": 2,
   "id": "a6cc6379-b3fa-4470-b44b-8b90b4899e41",
   "metadata": {},
   "outputs": [
    {
     "name": "stdout",
     "output_type": "stream",
     "text": [
      "['N5_171130_No Obstacles_s.mat', 'N5_171016_No Obstacles_s.mat', 'N5_171001_No Obstacles_s.mat', 'N5_170929_No Obstacles_s.mat']\n"
     ]
    }
   ],
   "source": [
    "path = '/home/diya/Documents/rat-fes/data/filipe_data/N5'\n",
    "filenames = os.listdir(path)\n",
    "print(filenames)"
   ]
  },
  {
   "cell_type": "code",
   "execution_count": 3,
   "id": "59c6ff26-2328-4a87-8409-34028a517c03",
   "metadata": {},
   "outputs": [],
   "source": [
    "temp_datasets = []\n",
    "temp_var_names = []\n",
    "\n",
    "for file in filenames:\n",
    "    temp_datasets.append(path+'/'+file)\n",
    "    temp_var_names.append(file.split('_')[0]+file.split('_')[1])\n",
    "\n",
    "datasets = sorted(temp_datasets)\n",
    "var_names = sorted(temp_var_names)"
   ]
  },
  {
   "cell_type": "code",
   "execution_count": 4,
   "id": "f989e0af-60fe-4383-8158-8b759f1db4f2",
   "metadata": {},
   "outputs": [
    {
     "name": "stdout",
     "output_type": "stream",
     "text": [
      "this is filipe data i belive\n",
      "this is filipe data i belive\n",
      "this is filipe data i belive\n",
      "this is filipe data i belive\n"
     ]
    },
    {
     "name": "stderr",
     "output_type": "stream",
     "text": [
      "/home/diya/anaconda3/envs/rat-fes/lib/python3.7/site-packages/scipy/io/matlab/mio.py:226: MatReadWarning: Duplicate variable name \"None\" in stream - replacing previous with new\n",
      "Consider mio5.varmats_from_mat to split file into single variable files\n",
      "  matfile_dict = MR.get_variables(variable_names)\n"
     ]
    }
   ],
   "source": [
    "cort_dict = {}\n",
    "for i in range(len(datasets)):\n",
    "    cort_dict[var_names[i]] = CortProcessor(datasets[i])"
   ]
  },
  {
   "cell_type": "code",
   "execution_count": 5,
   "id": "80918dea-cd27-41e2-9e5f-173360bd6320",
   "metadata": {},
   "outputs": [
    {
     "name": "stdout",
     "output_type": "stream",
     "text": [
      "N5170929 N5171001\n",
      "(12050,)\n",
      "(12039,)\n",
      "should be good to align\n",
      "(10267, 11)\n",
      "(10267, 5)\n",
      "(10267, 23)\n",
      "(10267, 5)\n",
      "N5170929 N5171016\n",
      "(12050,)\n",
      "(12127,)\n",
      "should be good to align\n",
      "(8680, 11)\n",
      "(8680, 5)\n",
      "(8680, 22)\n",
      "(8680, 5)\n",
      "N5170929 N5171130\n",
      "(12050,)\n",
      "(12051,)\n",
      "should be good to align\n",
      "(9543, 11)\n",
      "(9543, 5)\n",
      "(9543, 23)\n",
      "(9543, 5)\n"
     ]
    }
   ],
   "source": [
    "cca_dict = {}\n",
    "for i in range(1, len(var_names)):\n",
    "    print(var_names[0], var_names[i])\n",
    "    cca_dict[var_names[i]] = CCAProcessor(cort_dict[var_names[0]], cort_dict[var_names[i]], align=0)\n"
   ]
  },
  {
   "cell_type": "code",
   "execution_count": 6,
   "id": "3f7c19b7-0d0c-4eaf-bbd4-492b59e23af8",
   "metadata": {},
   "outputs": [],
   "source": [
    "day0_decoder, vaffy, test_x, test_y = cort_dict[var_names[0]].decode_angles()"
   ]
  },
  {
   "cell_type": "code",
   "execution_count": 7,
   "id": "896e9a4a-5ba1-4aac-a377-405cc6744a73",
   "metadata": {},
   "outputs": [],
   "source": [
    "dayn_x_list = []\n",
    "for i in range(1, len(var_names)):\n",
    "    dayn_x_list.append(cca_dict[var_names[i]].remove_cp2_channels())\n",
    "    \n",
    "\n",
    "fixed_vaf_list = []\n",
    "same_day_vaf = []\n",
    "for i in range(0, len(var_names)):\n",
    "    temp_cp = cort_dict[var_names[i]]\n",
    "    x = dayn_x_list[i-1]\n",
    "    y = temp_cp.data['angles'][0]\n",
    "    \n",
    "    x_format, y_format = format_data(x, y)\n",
    "    nada, temp_vaf, nadax, naday = decode_kfolds(x_format, y_format, metric=1, preset_h =day0_decoder)\n",
    "    fixed_vaf_list.append(np.average(temp_vaf,1)[1])\n",
    "    nada, temp_vaf, nadax, naday = temp_cp.decode_angles(X=temp_cp.apply_PCA(dims=8))\n",
    "    same_day_vaf.append(np.average(temp_vaf,1)[1])\n",
    "    \n",
    "fixed_vaf_list[0] = .563"
   ]
  },
  {
   "cell_type": "code",
   "execution_count": 8,
   "id": "05978cb7-f1e2-49e8-8cd6-ad014eeed718",
   "metadata": {},
   "outputs": [
    {
     "data": {
      "text/plain": [
       "[0.563, 0.136, 0.11699999999999999, 0.429]"
      ]
     },
     "execution_count": 8,
     "metadata": {},
     "output_type": "execute_result"
    }
   ],
   "source": [
    "fixed_vaf_list"
   ]
  },
  {
   "cell_type": "code",
   "execution_count": 9,
   "id": "9406b9fc-1cfb-4550-9ef7-01f49f521724",
   "metadata": {},
   "outputs": [],
   "source": [
    "temp_x = cort_dict[var_names[0]].apply_PCA(dims=8)\n",
    "day0_pca_decoder, nada, nadas, nasd = cort_dict[var_names[0]].decode_angles(X=temp_x)"
   ]
  },
  {
   "cell_type": "code",
   "execution_count": 10,
   "id": "1c1c3ec2-bfac-4c9f-95c7-6a1b0a69e1d9",
   "metadata": {},
   "outputs": [
    {
     "data": {
      "text/plain": [
       "(12050, 8)"
      ]
     },
     "execution_count": 10,
     "metadata": {},
     "output_type": "execute_result"
    }
   ],
   "source": [
    "temp_x[0].shape"
   ]
  },
  {
   "cell_type": "code",
   "execution_count": 11,
   "id": "82a07a85-7f19-4322-8da5-316ba2faf44c",
   "metadata": {},
   "outputs": [
    {
     "name": "stdout",
     "output_type": "stream",
     "text": [
      "dim0 corr is 0.45\n",
      "dim1 corr is 0.17\n",
      "dim2 corr is 0.14\n"
     ]
    }
   ],
   "source": [
    "cca_vaf = []\n",
    "for i in range(1, 2):\n",
    "    pca_x1, pca_x2 = cca_dict[var_names[i]].apply_PCA(preset_num_components=8)\n",
    "    temp_cca_transformer, nada = cca_dict[var_names[i]].apply_CCA(cp1_x = pca_x1, cp2_x = pca_x2, preset_num_components = 8, pca=True)\n",
    "    temp_test_x = cca_dict[var_names[i]].cp2.data['rates']\n",
    "    test_x = cca_dict[var_names[i]].cp2.apply_PCA(dims=8, X=temp_test_x)\n",
    "    test_y = cca_dict[var_names[i]].cp2.data['angles'][0]\n",
    "    trans_x = cca_dict[var_names[i]].quick_cca(x=test_x[0], transformer = temp_cca_transformer)\n",
    "    \n",
    "    trans_x_format, test_y_format = format_data(trans_x, test_y)\n",
    "    predic = test_wiener_filter(trans_x_format, day0_pca_decoder)\n",
    "    temp_vaf = vaf(test_y_format[:,1], predic[:,1])\n",
    "    cca_vaf.append(temp_vaf)\n",
    "    "
   ]
  },
  {
   "cell_type": "code",
   "execution_count": 12,
   "id": "89174637-8bb3-4fdf-98f2-09993e80424f",
   "metadata": {},
   "outputs": [
    {
     "name": "stdout",
     "output_type": "stream",
     "text": [
      "dim0 corr is 0.45\n",
      "dim1 corr is 0.17\n",
      "dim2 corr is 0.14\n",
      "dim0 corr is 0.46\n",
      "dim1 corr is 0.15\n",
      "dim2 corr is 0.11\n",
      "dim0 corr is 0.49\n",
      "dim1 corr is 0.18\n",
      "dim2 corr is 0.14\n"
     ]
    }
   ],
   "source": [
    "cca_decoder_scores = []\n",
    "cca_transformers=[]\n",
    "for i in range(1, len(var_names)):\n",
    "    #make subsampled cp2\n",
    "    pca_proc_x1, pca_proc_x2 = cca_dict[var_names[i]].apply_PCA(preset_num_components=8)\n",
    "    temp_cca_transformer, nada = cca_dict[var_names[i]].apply_CCA(preset_num_components = 8, pca=True)\n",
    "    \n",
    "    cca_transformers.append(temp_cca_transformer)\n",
    "    \n",
    "    test_x = np.squeeze(np.array(cort_dict[var_names[i]].apply_PCA(dims=8, transformer = cca_dict[var_names[i]].data['cp2']['pca_transformer'])))\n",
    "    test_y = np.squeeze(np.array(cort_dict[var_names[i]].data['angles']))\n",
    "    \n",
    "    nada, test_x_cca_space = temp_cca_transformer.transform(test_x, test_x)\n",
    "    \n",
    "    temp_x = temp_cca_transformer.inverse_transform(test_x_cca_space)\n",
    "    \n",
    "    temp_x_format, test_y_format = format_data(temp_x, test_y)\n",
    "    predic = test_wiener_filter(temp_x_format, day0_pca_decoder)\n",
    "    \n",
    "    cca_decoder_scores.append(vaf(test_y_format[:,1], predic[:,1]))"
   ]
  },
  {
   "cell_type": "code",
   "execution_count": 13,
   "id": "9219ca5b-e56f-42bb-9e8d-80b5e180f537",
   "metadata": {},
   "outputs": [
    {
     "data": {
      "text/plain": [
       "[0.64, 0.42, 0.6]"
      ]
     },
     "execution_count": 13,
     "metadata": {},
     "output_type": "execute_result"
    }
   ],
   "source": [
    "cca_decoder_scores"
   ]
  },
  {
   "cell_type": "code",
   "execution_count": 14,
   "id": "872de1e3-d7aa-4dea-acf3-eca05bfa8c7d",
   "metadata": {},
   "outputs": [
    {
     "data": {
      "text/plain": [
       "[0.563, 0.136, 0.11699999999999999, 0.429]"
      ]
     },
     "execution_count": 14,
     "metadata": {},
     "output_type": "execute_result"
    }
   ],
   "source": [
    "fixed_vaf_list"
   ]
  },
  {
   "cell_type": "code",
   "execution_count": 15,
   "id": "182a8624-8913-4ff2-b117-4e17b6adf1ff",
   "metadata": {},
   "outputs": [
    {
     "data": {
      "text/plain": [
       "[0.563, 0.773, 0.6849999999999999, 0.8039999999999999]"
      ]
     },
     "execution_count": 15,
     "metadata": {},
     "output_type": "execute_result"
    }
   ],
   "source": [
    "same_day_vaf"
   ]
  },
  {
   "cell_type": "code",
   "execution_count": null,
   "id": "b7676f53-ea25-4c9f-a18e-5784afdb83ca",
   "metadata": {},
   "outputs": [],
   "source": [
    "fig, ax = plt.subplots()\n",
    "ax.bar("
   ]
  }
 ],
 "metadata": {
  "kernelspec": {
   "display_name": "Python 3",
   "language": "python",
   "name": "python3"
  },
  "language_info": {
   "codemirror_mode": {
    "name": "ipython",
    "version": 3
   },
   "file_extension": ".py",
   "mimetype": "text/x-python",
   "name": "python",
   "nbconvert_exporter": "python",
   "pygments_lexer": "ipython3",
   "version": "3.7.0"
  }
 },
 "nbformat": 4,
 "nbformat_minor": 5
}
