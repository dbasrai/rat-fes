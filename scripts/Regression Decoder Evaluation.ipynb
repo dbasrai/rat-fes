{
 "cells": [
  {
   "cell_type": "markdown",
   "id": "f38d943b-3061-42d1-a699-5ab81a489e6e",
   "metadata": {},
   "source": [
    "# regression decoder test (~10/6/22) (FOR FILIPE DATA ONLY)\n",
    "this compares a fixed decoder, pca decoder, cca transformation (w/ day0 decoder), and a regression decoder on day-N data. the latter two use a day-0 data as a prior start. "
   ]
  },
  {
   "cell_type": "code",
   "execution_count": 1,
   "id": "80ff2fbb-e579-471f-b42c-e51c222d33fa",
   "metadata": {},
   "outputs": [],
   "source": [
    "%matplotlib widget\n",
    "%load_ext autoreload\n",
    "%autoreload 2\n",
    "from src.folder_handler import *\n",
    "from src.cort_processor import *\n",
    "from src.cca_processor import *\n",
    "from src.tdt_support import *\n",
    "from src.plotter import *\n",
    "from src.decoders import *\n",
    "from src.utils import *\n",
    "import pickle\n",
    "import scipy as sio\n",
    "import numpy as np\n",
    "import matplotlib.pyplot as plt\n",
    "from  matplotlib.colors import LinearSegmentedColormap\n",
    "from src.wiener_filter import *\n",
    "from matplotlib.pyplot import cm\n",
    "from sklearn.cross_decomposition import CCA\n",
    "from sklearn.preprocessing import StandardScaler\n",
    "from sklearn.linear_model import Ridge\n",
    "import os\n",
    "import copy"
   ]
  },
  {
   "cell_type": "markdown",
   "id": "83f520d7-3e89-4813-b233-90fda2b595d3",
   "metadata": {
    "tags": []
   },
   "source": [
    "# set paths/create objects\n",
    "\n",
    "cp1 = day-0\n",
    "\n",
    "cp2 = day-n\n"
   ]
  },
  {
   "cell_type": "markdown",
   "id": "1acb9199-b678-441f-b55a-92e2a31c7447",
   "metadata": {
    "tags": []
   },
   "source": [
    "# pathdump:\n",
    "\n",
    "N5 \n",
    "cp1_path = '/home/diya/Documents/rat-fes/data/filipe_data/N5/N5_170929_No Obstacles_s.mat'\n",
    "cp2_path = '/home/diya/Documents/rat-fes/data/filipe_data/N5/N5_171001_No Obstacles_s.mat'\n",
    "'N5_171016_No Obstacles_s.mat'\n",
    "'N5_171130_No Obstacles_s.mat'\n",
    "\n",
    "n6\n",
    "'N6_171026_No Obstacles_s.mat' this day has pretty low %vaf max\n",
    "'N6_171204_No Obstacles_s.mat'\n",
    "'N6_171211_No Obstacles_s.mat'\n",
    "\n",
    "n9\n",
    "cp1_path = '/home/diya/Documents/rat-fes/data/filipe_data/N9/N9_171121_No Obstacles_s.mat'\n",
    "cp2_path = '/home/diya/Documents/rat-fes/data/filipe_data/N9/N9_171204_No Obstacles_s.mat'\n",
    "'N9_171211_No Obstacles_s.mat'  'N9_171214_No Obstacles_s.mat"
   ]
  },
  {
   "cell_type": "code",
   "execution_count": 2,
   "id": "b5c31a27-24a5-4deb-8614-d6e00505712e",
   "metadata": {},
   "outputs": [
    {
     "name": "stdout",
     "output_type": "stream",
     "text": [
      "this is filipe data i belive\n",
      "this is filipe data i belive\n"
     ]
    }
   ],
   "source": [
    "cp1_path = '/home/diya/Documents/rat-fes/data/filipe_data/N6/N6_171026_No Obstacles_s.mat'\n",
    "cp2_path = '/home/diya/Documents/rat-fes/data/filipe_data/N6/N6_171204_No Obstacles_s.mat'\n",
    "\n",
    "cp1 = CortProcessor(cp1_path)\n",
    "cp2 = CortProcessor(cp2_path)"
   ]
  },
  {
   "cell_type": "code",
   "execution_count": 3,
   "id": "46d38c23-b53d-4187-91ad-7efbf9a6e8e4",
   "metadata": {},
   "outputs": [
    {
     "name": "stdout",
     "output_type": "stream",
     "text": [
      "num_samples:[120, 601, 1202, 6011, 12023]\n"
     ]
    }
   ],
   "source": [
    "#subsampling list, percent of total data\n",
    "subsample_list = [.01, .05, .1, .5, 1.0]\n",
    "nummy = cp2.data['rates'][0].shape[0]\n",
    "newlist = [int(sub * nummy) for sub in subsample_list]\n",
    "\n",
    "print(f'num_samples:{newlist}')"
   ]
  },
  {
   "cell_type": "code",
   "execution_count": 4,
   "id": "19955fa1-7e62-47c4-a25e-f425605056eb",
   "metadata": {},
   "outputs": [],
   "source": [
    "lowest_num_dimensions=8"
   ]
  },
  {
   "cell_type": "markdown",
   "id": "d57ed850-3711-4a76-b317-7c5d551645ba",
   "metadata": {},
   "source": [
    "# getting day0 decoder\n",
    "apply PCA (based on all data), and then train wiener filter.\n",
    "also get a day0-scaled-weights-decoder"
   ]
  },
  {
   "cell_type": "code",
   "execution_count": 5,
   "id": "64f97f4b-6819-4355-bbbc-4305ad07ef59",
   "metadata": {},
   "outputs": [
    {
     "name": "stdout",
     "output_type": "stream",
     "text": [
      "0.262\n",
      "0.262\n"
     ]
    }
   ],
   "source": [
    "#get day0 decoder weights, scaled + unscaled versions\n",
    "\n",
    "day0_decoder, nada, naday, nadax = cp1.decode_angles(X=cp1.apply_PCA(dims=lowest_num_dimensions))\n",
    "#lowest_num_dimensions = cp1.num_components\n",
    "print(np.average(nada, 1)[1])\n",
    "\n",
    "X_tempy =cp1.apply_PCA(lowest_num_dimensions)\n",
    "scaler = StandardScaler()\n",
    "X_scale = scaler.fit_transform(np.squeeze(X_tempy))\n",
    "day0_decoder_scale, nada, naday, nadax = cp1.decode_angles(X=[X_scale])\n",
    "\n",
    "print(np.average(nada, 1)[1])"
   ]
  },
  {
   "cell_type": "markdown",
   "id": "f0409b48-79f7-4e45-9c1f-513fa30e650a",
   "metadata": {},
   "source": [
    "# getting fixed decoder scores\n",
    "1) we subsample Day-N data, and fit PCA transformation. \n",
    "2) we transform entire Day-N data, and decode using Day0 decoder.\n",
    "\n",
    "# getting PCA decoder scores\n",
    "1) we subsample Day-N data, fit PCA transformation, and then transform it. \n",
    "2) We train new PCA decoder on only this low-D subsampled data\n",
    "3) We transform entire Day-N data, and decode using this new PCA decoder. \n"
   ]
  },
  {
   "cell_type": "code",
   "execution_count": 6,
   "id": "7b00dfee-7532-4721-b656-2d911659e192",
   "metadata": {},
   "outputs": [
    {
     "name": "stdout",
     "output_type": "stream",
     "text": [
      "[0.22, 0.14, 0.16, 0.21, 0.21]\n",
      "[-0.08, 0.37, 0.52, 0.59, 0.6]\n"
     ]
    }
   ],
   "source": [
    "fixed_decoder_scores = []\n",
    "pca_decoder_scores = []\n",
    "pca_predic=[]\n",
    "\n",
    "for i in range(len(subsample_list)):\n",
    "    sub_x, sub_y = cp2.subsample(percent = subsample_list[i])\n",
    "    #apply PCA just using subsampled data\n",
    "    sub_x_pca = cp2.apply_PCA(dims=lowest_num_dimensions, X=sub_x)\n",
    "    #save PCA transformation\n",
    "    pca_object = cp2.pca_object\n",
    "    #train PCA decoder \n",
    "    temp_h, nada, nadax, naday = cp2.decode_angles(X=sub_x_pca, Y=sub_y)\n",
    "    \n",
    "    test_x = np.squeeze(np.array(cp2.apply_PCA(dims=lowest_num_dimensions, transformer = pca_object)))\n",
    "    test_y = np.squeeze(np.array(cp2.data['angles']))\n",
    "    \n",
    "    test_x_format, test_y_format = format_data(test_x, test_y)\n",
    "    \n",
    "    temp_y = test_wiener_filter(test_x_format, day0_decoder)\n",
    "    fixed_decoder_scores.append(vaf(test_y_format[:,1], temp_y[:,1]))\n",
    "    \n",
    "    temp_y = test_wiener_filter(test_x_format, temp_h)\n",
    "    pca_decoder_scores.append(vaf(test_y_format[:,1], temp_y[:,1]))\n",
    "    \n",
    "    pca_predic.append(temp_y)\n",
    "\n",
    "print(fixed_decoder_scores)\n",
    "print(pca_decoder_scores)"
   ]
  },
  {
   "cell_type": "markdown",
   "id": "b4288efb-3b3a-4193-aeed-091a173367b3",
   "metadata": {},
   "source": [
    "# cca decoder\n",
    "\n",
    "1) We subsample Day-N data\n",
    "2) We align Day-N subsampled data to Day-0 data\n",
    "3) We fit PCA transformation on subsampled Day-n data, and then transform it\n",
    "4) We fit a CCA transformation on subsampled, low-D day-N data\n",
    "5) We apply our PCA transformation to entire Day-N, and then apply our CCA transformation to entire low-D day-N data\n",
    "6) We decode this using Day-0 decoder."
   ]
  },
  {
   "cell_type": "code",
   "execution_count": 7,
   "id": "7d5ec33a-9b31-49a4-b5b6-a23660474c3f",
   "metadata": {},
   "outputs": [
    {
     "name": "stdout",
     "output_type": "stream",
     "text": [
      "should be good to align\n",
      "(101, 28)\n",
      "(101, 5)\n",
      "(101, 21)\n",
      "(101, 5)\n",
      "should be good to align\n",
      "(303, 28)\n",
      "(303, 5)\n",
      "(303, 21)\n",
      "(303, 5)\n",
      "should be good to align\n",
      "(638, 28)\n",
      "(638, 5)\n",
      "(638, 21)\n",
      "(638, 5)\n",
      "should be good to align\n",
      "(3120, 28)\n",
      "(3120, 5)\n",
      "(3120, 21)\n",
      "(3120, 5)\n",
      "should be good to align\n",
      "(5590, 28)\n",
      "(5590, 5)\n",
      "(5590, 21)\n",
      "(5590, 5)\n"
     ]
    }
   ],
   "source": [
    "cca_decoder_scores = []\n",
    "cca_transformers=[]\n",
    "for i in range(len(subsample_list)):\n",
    "    #make subsampled cp2\n",
    "    temp_cp2 = copy.deepcopy(cp2)\n",
    "    sub_x2, sub_y2 = temp_cp2.subsample(percent = subsample_list[i])\n",
    "    \n",
    "    temp_cp2.data['rates'] = sub_x2\n",
    "    temp_cp2.data['angles'] = sub_y2\n",
    "    \n",
    "    temp_cca = CCAProcessor(cp1, temp_cp2)\n",
    "    \n",
    "    pca_sub_x1, pca_sub_x2 = temp_cca.apply_PCA(preset_num_components=lowest_num_dimensions)\n",
    "    temp_cca_transformer, nada = temp_cca.apply_CCA(preset_num_components = lowest_num_dimensions)\n",
    "    \n",
    "    cca_transformers.append(temp_cca_transformer)\n",
    "    \n",
    "    test_x = np.squeeze(np.array(cp2.apply_PCA(dims=lowest_num_dimensions, transformer = temp_cca.data['cp2']['pca_transformer'])))\n",
    "    test_y = np.squeeze(np.array(cp2.data['angles']))\n",
    "    \n",
    "    nada, test_x_cca_space = temp_cca_transformer.transform(test_x, test_x)\n",
    "    \n",
    "    temp_x = temp_cca_transformer.inverse_transform(test_x_cca_space)\n",
    "    \n",
    "    temp_x_format, test_y_format = format_data(temp_x, test_y)\n",
    "    predic = test_wiener_filter(temp_x_format, day0_decoder)\n",
    "    \n",
    "    cca_decoder_scores.append(vaf(test_y_format[:,1], predic[:,1]))"
   ]
  },
  {
   "cell_type": "code",
   "execution_count": 8,
   "id": "4fb28724-8f37-4ca3-8c07-77bf80fe72e7",
   "metadata": {},
   "outputs": [
    {
     "data": {
      "text/plain": [
       "[-0.11, 0.19, 0.22, 0.24, 0.2]"
      ]
     },
     "execution_count": 8,
     "metadata": {},
     "output_type": "execute_result"
    }
   ],
   "source": [
    "cca_decoder_scores"
   ]
  },
  {
   "cell_type": "markdown",
   "id": "8af66572-df24-4048-b460-00fbb083c696",
   "metadata": {},
   "source": [
    "# regression fit\n",
    "1) We subsample day-n data, fit PCA transformation, and then transform it\n",
    "2) We then transform it using CCA transformation corresponding to same subsample we got in the CCA part. \n",
    "3) We scale it. #TODO try using day0 scale to transform it\n",
    "4) We feed this subsampled, low-d, CCA-transformed day-n data into our regression decoder. It spits out a new decoder.\n",
    "5) We take entire Day-N data, transform it with both PCA/CCA corresponding to subsample, scale it, and then decode using our new decoder"
   ]
  },
  {
   "cell_type": "code",
   "execution_count": 13,
   "id": "c8a8afdf-80c9-44d4-bbba-93b4664083c6",
   "metadata": {},
   "outputs": [
    {
     "name": "stdout",
     "output_type": "stream",
     "text": [
      "initial_scoring is : -0.19\n",
      "new_scoring is: 0.76\n",
      "initial_scoring is : 0.17\n",
      "new_scoring is: 0.51\n",
      "initial_scoring is : 0.24\n",
      "new_scoring is: 0.52\n",
      "initial_scoring is : 0.32\n",
      "new_scoring is: 0.57\n",
      "initial_scoring is : 0.24\n",
      "new_scoring is: 0.6\n"
     ]
    }
   ],
   "source": [
    "r_scores = []\n",
    "r_predic=[]\n",
    "\n",
    "for i in range(len(subsample_list)):\n",
    "    #subsample day-n unprocessed data\n",
    "    sub_x, sub_y = cp2.subsample(percent = subsample_list[i])\n",
    "    \n",
    "    #apply PCA to subsampled data\n",
    "    sub_x_pca = np.squeeze(cp2.apply_PCA(dims=lowest_num_dimensions, X=sub_x))\n",
    "    #transform PCA subsample to day-0 shape\n",
    "    nada, sub_x_cca_space = cca_transformers[i].transform(sub_x_pca, sub_x_pca)\n",
    "    temp_x = cca_transformers[i].inverse_transform(sub_x_cca_space)\n",
    "    #scale transformed data \n",
    "    scaler = StandardScaler()\n",
    "    temp_x_scale = scaler.fit_transform(temp_x)\n",
    "    \n",
    "    temp_x_format, temp_y_format = format_data(temp_x_scale, sub_y[0])\n",
    "    wpost = ridge_fit(b0=day0_decoder_scale, x_format = temp_x_format, y_format = temp_y_format, my_alpha=100.0)\n",
    "    \n",
    "    \n",
    "    ###now lets test on full dataset\n",
    "    test_x = np.squeeze(np.array(cp2.apply_PCA(dims=lowest_num_dimensions, transformer = cp2.pca_object)))\n",
    "    test_y = np.squeeze(np.array(cp2.data['angles']))\n",
    "    \n",
    "    nada, test_xx = temp_cca.apply_CCA(cp2_x = test_x, transformer = cca_transformers[i])\n",
    "    test_xx_scale = scaler.transform(test_xx)\n",
    "    test_xx_scale_format, nada = format_data(test_xx_scale, test_y)\n",
    "    temp_y = test_wiener_filter(test_xx_scale_format, wpost)\n",
    "    \n",
    "    r_predic.append(temp_y)  \n",
    "    predic = vaf(test_y_format[:,1], temp_y[:,1])\n",
    "    \n",
    " \n",
    "    r_scores.append(predic)"
   ]
  },
  {
   "cell_type": "code",
   "execution_count": 14,
   "id": "f2f36073-6a75-49f7-bec8-98828e83a8a9",
   "metadata": {},
   "outputs": [
    {
     "data": {
      "application/vnd.jupyter.widget-view+json": {
       "model_id": "9e39bdb212f44e3b858df9ccb74330eb",
       "version_major": 2,
       "version_minor": 0
      },
      "text/html": [
       "\n",
       "            <div style=\"display: inline-block;\">\n",
       "                <div class=\"jupyter-widgets widget-label\" style=\"text-align: center;\">\n",
       "                    Figure\n",
       "                </div>\n",
       "                <img src='data:image/png;base64,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' width=640.0/>\n",
       "            </div>\n",
       "        "
      ],
      "text/plain": [
       "Canvas(toolbar=Toolbar(toolitems=[('Home', 'Reset original view', 'home', 'home'), ('Back', 'Back to previous …"
      ]
     },
     "metadata": {},
     "output_type": "display_data"
    }
   ],
   "source": [
    "%matplotlib widget\n",
    "%matplotlib widget\n",
    "\n",
    "plot_dict = {}\n",
    "plot_dict['fixed_decoder_scores'] = fixed_decoder_scores\n",
    "plot_dict['pca_decoder_scores'] = pca_decoder_scores\n",
    "plot_dict['cca_decoder_scores'] = cca_decoder_scores\n",
    "plot_dict['r_decoder_scores'] = r_scores\n",
    "\n",
    "index = subsample_list\n",
    "\n",
    "df = pd.DataFrame(data=plot_dict, index=index)\n",
    "\n",
    "  \n",
    "# plot grouped bar chart\n",
    "ax = df.plot.bar(rot=15)\n",
    "ax.set_ylim(bottom=-1, top=1)\n",
    "ax.set_title('Training various decoders, trying on Day-N data')\n",
    "ax.set_ylabel('r^2')\n",
    "ax.set_xlabel('percent of total day-n data')\n",
    "ax.legend(loc='lower right')\n",
    "for container in ax.containers:\n",
    "    ax.bar_label(container)"
   ]
  },
  {
   "cell_type": "code",
   "execution_count": null,
   "id": "93e57165-3d3a-4c11-9ae2-5a61e65ea668",
   "metadata": {},
   "outputs": [],
   "source": [
    "fig0 = plt.figure()\n",
    "ax0 = fig0.add_subplot(211)\n",
    "ts = np.arange(0, test_y_format.shape[0]/50, 1/50)\n",
    "\n",
    "num =0 \n",
    "\n",
    "legend1=['actual', 'pca_predic']\n",
    "legend2=['actual','r_predic']\n",
    "\n",
    "\n",
    "ax0.plot(ts, test_y_format[:,1])\n",
    "ax0.plot(ts, pca_predic[num][:,1])\n",
    "ax0.legend(legend1, loc='lower right')\n",
    "\n",
    "ax01 = fig0.add_subplot(212, sharex=ax0)\n",
    "ax01.plot(ts, test_y_format[:,1])\n",
    "ax01.plot(ts, r_predic[num][:,1])\n",
    "ax01.legend(legend2, loc='lower right')"
   ]
  },
  {
   "cell_type": "markdown",
   "id": "97f62db9-dc86-49f0-a902-54a4779c1f0f",
   "metadata": {},
   "source": [
    "# notes\n",
    "\n",
    "cp1_path = '/home/diya/Documents/rat-fes/data/filipe_data/N5/N5_171016_No Obstacles_s.mat'\n",
    "cp2_path = '/home/diya/Documents/rat-fes/data/filipe_data/N6/N6_171204_No Obstacles_s.mat'\n",
    "\n",
    "with these two, regression is good vaf score but in practicality something seems off!\n",
    "\n"
   ]
  },
  {
   "cell_type": "markdown",
   "id": "e09e1ae2-4e5e-4360-a6f8-bbc9ac656fa2",
   "metadata": {},
   "source": [
    "# paths\n",
    "\n",
    "N5 \n",
    "cp1_path = '/home/diya/Documents/rat-fes/data/filipe_data/N5/N5_170929_No Obstacles_s.mat'\n",
    "cp2_path = '/home/diya/Documents/rat-fes/data/filipe_data/N5/N5_171001_No Obstacles_s.mat'\n",
    "'N5_171016_No Obstacles_s.mat'\n",
    "'N5_171130_No Obstacles_s.mat'\n",
    "\n",
    "n6\n",
    "'N6_171026_No Obstacles_s.mat'\n",
    "'N6_171204_No Obstacles_s.mat'\n",
    "'N6_171211_No Obstacles_s.mat'\n",
    "\n",
    "n9\n",
    "'N9_171121_No Obstacles_s.mat'  'N9_171204_No Obstacles_s.mat'  'N9_171211_No Obstacles_s.mat'  'N9_171214_No Obstacles_s.mat"
   ]
  },
  {
   "cell_type": "code",
   "execution_count": null,
   "id": "363e9213-8c74-4409-be88-b021add720e7",
   "metadata": {},
   "outputs": [],
   "source": []
  }
 ],
 "metadata": {
  "kernelspec": {
   "display_name": "Python 3",
   "language": "python",
   "name": "python3"
  },
  "language_info": {
   "codemirror_mode": {
    "name": "ipython",
    "version": 3
   },
   "file_extension": ".py",
   "mimetype": "text/x-python",
   "name": "python",
   "nbconvert_exporter": "python",
   "pygments_lexer": "ipython3",
   "version": "3.7.0"
  }
 },
 "nbformat": 4,
 "nbformat_minor": 5
}
