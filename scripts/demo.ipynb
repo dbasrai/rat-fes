{
 "cells": [
  {
   "cell_type": "code",
   "execution_count": 1,
   "id": "968d2441-b412-47f4-a012-cbc51aed54e8",
   "metadata": {},
   "outputs": [],
   "source": [
    "%matplotlib widget\n",
    "%load_ext autoreload\n",
    "%autoreload 2\n",
    "\n",
    "from src.folder_handler import *\n",
    "from src.cort_processor import *\n",
    "from src.tdt_support import *\n",
    "from src.plotter import *\n",
    "from src.decoders import *\n",
    "import pickle"
   ]
  },
  {
   "cell_type": "markdown",
   "id": "1fa1dfb3-a137-49ba-914f-c445b9efbfa0",
   "metadata": {},
   "source": [
    "# load data\n",
    "data should be a single folder. Inside there should be a 'angles' (with angles), 'pose-3d', and 'tdt' folders named exactly that"
   ]
  },
  {
   "cell_type": "code",
   "execution_count": 2,
   "id": "e54e7f11-36a0-4687-b500-eacd2f676537",
   "metadata": {},
   "outputs": [
    {
     "name": "stdout",
     "output_type": "stream",
     "text": [
      "read from t=0s to t=186.82s\n",
      "read from t=0s to t=164.93s\n",
      "read from t=0s to t=222.7s\n",
      "read from t=0s to t=241.72s\n"
     ]
    }
   ],
   "source": [
    "session512 = CortProcessor('/home/diya/Documents/rat-fes/data/rat-annie/5-12') #insert name of your folder here"
   ]
  },
  {
   "cell_type": "markdown",
   "id": "c5753cd3-4962-45b0-904a-fae907625a8d",
   "metadata": {},
   "source": [
    "# process data\n",
    "here, we crop our data, turn our raw data into rates, and we resample our angles to be same times as binned spikes"
   ]
  },
  {
   "cell_type": "code",
   "execution_count": 3,
   "id": "229d20e0-6092-4a47-b8eb-896df2e4cc02",
   "metadata": {},
   "outputs": [],
   "source": [
    "rates, kins = session512.process()"
   ]
  },
  {
   "cell_type": "markdown",
   "id": "d9368657-2ea9-4f17-88c4-1f464dd6b79a",
   "metadata": {},
   "source": [
    "# alternative way to load data: using pickles (and process_cort.py in scripts)"
   ]
  },
  {
   "cell_type": "markdown",
   "id": "c753df94-6af2-431b-ab95-3819665931e5",
   "metadata": {},
   "source": [
    "in order to process data using command line, navigate to /scripts, and run 'python3 process_cort.py *path_to_folder'"
   ]
  },
  {
   "cell_type": "code",
   "execution_count": null,
   "id": "fee7cdc3-65dc-46e3-a710-0816184e995e",
   "metadata": {},
   "outputs": [],
   "source": [
    "with open('/home/diya/Documents/rat-fes/data/pickles/rat-annie_5-12_session.pkl', 'rb') as inp:\n",
    "    session512 = pickle.load(inp)"
   ]
  },
  {
   "cell_type": "markdown",
   "id": "e77f64ad-b3ba-4afd-be8c-df4428748126",
   "metadata": {},
   "source": [
    "# other pipeline processing, like getting toe height"
   ]
  },
  {
   "cell_type": "code",
   "execution_count": null,
   "id": "542e8754-cde7-4ed7-ace7-abd5e467265a",
   "metadata": {},
   "outputs": [],
   "source": [
    "toe_height = session512.process_toe_height()"
   ]
  },
  {
   "cell_type": "code",
   "execution_count": null,
   "id": "e35f2440-6628-4054-89eb-2334eb519fe3",
   "metadata": {},
   "outputs": [],
   "source": [
    "session512.data['toe_height']"
   ]
  },
  {
   "cell_type": "markdown",
   "id": "7feaed9d-9fdd-4771-8eb7-6688ec821012",
   "metadata": {},
   "source": [
    "# and now some decoding"
   ]
  },
  {
   "cell_type": "markdown",
   "id": "5ffd0ead-8e40-4762-be38-691f80182d5a",
   "metadata": {},
   "source": [
    "## angles"
   ]
  },
  {
   "cell_type": "code",
   "execution_count": null,
   "id": "f8822237-ddcb-4620-957b-74778aa49d44",
   "metadata": {},
   "outputs": [],
   "source": [
    "h_angles, vaf_angles, best_x_angles, best_y_angles = session512.decode_angles()"
   ]
  },
  {
   "cell_type": "code",
   "execution_count": null,
   "id": "d1be69f0-5db4-4cec-9228-41c6d7805c8b",
   "metadata": {},
   "outputs": [],
   "source": [
    "average_vaf_angle = np.average(vaf_angles, 1)\n",
    "print(average_vaf_angle)"
   ]
  },
  {
   "cell_type": "code",
   "execution_count": null,
   "id": "f18d7220-a210-472d-b049-3d153cd9d6c0",
   "metadata": {},
   "outputs": [],
   "source": [
    "session512.data['angle_names']"
   ]
  },
  {
   "cell_type": "code",
   "execution_count": null,
   "id": "0417b84e-d0e1-4988-ab62-3b7fc61b8adf",
   "metadata": {},
   "outputs": [],
   "source": [
    "plot_wiener_filter_predic(best_x_angles, best_y_angles[:,3], h_angles[:,3])"
   ]
  },
  {
   "cell_type": "markdown",
   "id": "1de32768-dc1c-47f9-9524-400696a678af",
   "metadata": {},
   "source": [
    "## toe_height"
   ]
  },
  {
   "cell_type": "code",
   "execution_count": null,
   "id": "d19d65a8-9afd-4f25-b80e-43b7cfa62b2f",
   "metadata": {},
   "outputs": [],
   "source": [
    "h_toe, vaf_toe, best_x_toe, best_y_toe = session512.decode_toe_height()"
   ]
  },
  {
   "cell_type": "code",
   "execution_count": null,
   "id": "878de88c-e748-4a77-9cd8-36143d3ae049",
   "metadata": {},
   "outputs": [],
   "source": [
    "average_toe_vaf = np.average(vaf_toe)\n",
    "print(average_toe_vaf)"
   ]
  },
  {
   "cell_type": "code",
   "execution_count": null,
   "id": "b77a7657-2069-49ce-8c2e-6b0f81163997",
   "metadata": {},
   "outputs": [],
   "source": [
    "plot_wiener_filter_predic(best_x_toe, best_y_toe, h_toe)"
   ]
  },
  {
   "cell_type": "markdown",
   "id": "e9e67427-1ef2-4aa6-a23f-62f46086d368",
   "metadata": {},
   "source": [
    "# or dividing into gaits, then plotting sorted raster."
   ]
  },
  {
   "cell_type": "code",
   "execution_count": null,
   "id": "962114f6-58ed-496f-b361-afba6c342817",
   "metadata": {
    "tags": []
   },
   "outputs": [],
   "source": [
    "gait_indices, avg_gait_samples = session512.get_gait_indices()"
   ]
  },
  {
   "cell_type": "code",
   "execution_count": null,
   "id": "10b62fc5-2a8c-4ca7-9514-786e6c2ec16d",
   "metadata": {
    "tags": []
   },
   "outputs": [],
   "source": [
    "X_gait, Y_gait = session512.divide_into_gaits()"
   ]
  },
  {
   "cell_type": "code",
   "execution_count": null,
   "id": "3454c4b2-e202-439c-9933-d856b66240b1",
   "metadata": {},
   "outputs": [],
   "source": [
    "#proc_rates, proc_angles = session512.remove_bad_gaits()"
   ]
  },
  {
   "cell_type": "code",
   "execution_count": null,
   "id": "b9d2bccd-269b-4669-b0fa-5eeb524b8a71",
   "metadata": {},
   "outputs": [],
   "source": [
    "df = session512.neuron_tuning()"
   ]
  },
  {
   "cell_type": "code",
   "execution_count": null,
   "id": "a69c9f88-29e4-4bff-8c0a-c332fd9398da",
   "metadata": {
    "tags": []
   },
   "outputs": [],
   "source": [
    "plot_raster(df)"
   ]
  }
 ],
 "metadata": {
  "kernelspec": {
   "display_name": "Python 3",
   "language": "python",
   "name": "python3"
  },
  "language_info": {
   "codemirror_mode": {
    "name": "ipython",
    "version": 3
   },
   "file_extension": ".py",
   "mimetype": "text/x-python",
   "name": "python",
   "nbconvert_exporter": "python",
   "pygments_lexer": "ipython3",
   "version": "3.7.0"
  }
 },
 "nbformat": 4,
 "nbformat_minor": 5
}
