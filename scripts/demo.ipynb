{
 "cells": [
  {
   "cell_type": "markdown",
   "id": "7467f21f-a444-47b4-a3fc-7bbf9cedd301",
   "metadata": {},
   "source": [
    "# FIRST DOWNLOAD DATA FOLDER\n",
    "\n",
    "lets use 5/12 as a demo\n",
    "\n",
    "go to https://nuwildcat.sharepoint.com/:f:/r/sites/FSM-TreschLab/Shared%20Documents/General/Cortical/Data_Folders/rat-annie/5-12?csf=1&web=1&e=KLIIX5 and download\n",
    "\n",
    "place into rat-fes/data/here"
   ]
  },
  {
   "cell_type": "code",
   "execution_count": 1,
   "id": "968d2441-b412-47f4-a012-cbc51aed54e8",
   "metadata": {},
   "outputs": [],
   "source": [
    "%matplotlib widget\n",
    "%load_ext autoreload\n",
    "%autoreload 2\n",
    "\n",
    "from src.folder_handler import *\n",
    "from src.cort_processor import *\n",
    "from src.tdt_support import *\n",
    "from src.plotter import *\n",
    "from src.decoders import *\n",
    "from src.dummy import *\n",
    "import pickle"
   ]
  },
  {
   "cell_type": "markdown",
   "id": "dd28ce37-c19c-4df5-87f5-f526961aa6ee",
   "metadata": {
    "jp-MarkdownHeadingCollapsed": true,
    "tags": []
   },
   "source": [
    "# the next section is loading data through Jupyter. I don't recommend this method. Skip to loading data into pickle if you want to do that way"
   ]
  },
  {
   "cell_type": "markdown",
   "id": "1fa1dfb3-a137-49ba-914f-c445b9efbfa0",
   "metadata": {
    "tags": []
   },
   "source": [
    "## LOADING DATA THROUGH JUPYTER\n",
    "data should be a single folder. Inside there should be a 'angles' (with angles), 'pose-3d', and 'tdt', and config.yaml folders named exactly that"
   ]
  },
  {
   "cell_type": "code",
   "execution_count": null,
   "id": "e54e7f11-36a0-4687-b500-eacd2f676537",
   "metadata": {},
   "outputs": [],
   "source": [
    "session512 = CortProcessor('/rat-fes/data/5-12') #insert name of your folder here"
   ]
  },
  {
   "cell_type": "markdown",
   "id": "c5753cd3-4962-45b0-904a-fae907625a8d",
   "metadata": {},
   "source": [
    "## process data\n",
    "here, we crop our data, turn our raw data into rates, and we resample our angles to be same times as binned spikes"
   ]
  },
  {
   "cell_type": "code",
   "execution_count": null,
   "id": "229d20e0-6092-4a47-b8eb-896df2e4cc02",
   "metadata": {},
   "outputs": [],
   "source": [
    "rates, kins = session512.process()"
   ]
  },
  {
   "cell_type": "markdown",
   "id": "27b4ddca-dfba-49c0-9a2a-f62e12e77dc7",
   "metadata": {},
   "source": [
    "### now our rates are stored under session512.data['rates'], our angles are stored under session512.data['angles'], and our coords are stored under session512.data['coords']"
   ]
  },
  {
   "cell_type": "code",
   "execution_count": null,
   "id": "c2d6a6cb",
   "metadata": {},
   "outputs": [],
   "source": [
    "print(session512.data['rates'][0].shape)\n",
    "print(session512.data['angles'][0].shape)\n",
    "print(session512.data['coords'][0].shape)"
   ]
  },
  {
   "cell_type": "markdown",
   "id": "d9368657-2ea9-4f17-88c4-1f464dd6b79a",
   "metadata": {},
   "source": [
    "# recommended way to load data: using pickles (and process_cort.py in scripts)"
   ]
  },
  {
   "cell_type": "markdown",
   "id": "c753df94-6af2-431b-ab95-3819665931e5",
   "metadata": {},
   "source": [
    "in order to process data using command line, navigate to /scripts, and run ``` python3 process_cort.py 'path_to_data_folder' ```\n",
    "\n",
    "this will generate a file in data/pickles/______ \n",
    "\n",
    "then you can load the pickled CortProcessor object in the following line of code"
   ]
  },
  {
   "cell_type": "code",
   "execution_count": 3,
   "id": "fee7cdc3-65dc-46e3-a710-0816184e995e",
   "metadata": {},
   "outputs": [],
   "source": [
    "with open('/home/diya/Documents/rat-fes/data/pickles/rat-annie_5-12_session.pkl', 'rb') as inp: #YOUR PATH HERE\n",
    "    session512 = pickle.load(inp)"
   ]
  },
  {
   "cell_type": "code",
   "execution_count": 4,
   "id": "481c15b4-d74a-4eb2-8a07-fa74e3a6317b",
   "metadata": {},
   "outputs": [
    {
     "name": "stdout",
     "output_type": "stream",
     "text": [
      "(2962, 32)\n",
      "(2962, 7)\n",
      "(2962, 17, 3)\n"
     ]
    }
   ],
   "source": [
    "print(session512.data['rates'][0].shape)\n",
    "print(session512.data['angles'][0].shape)\n",
    "print(session512.data['coords'][0].shape)"
   ]
  },
  {
   "cell_type": "markdown",
   "id": "e77f64ad-b3ba-4afd-be8c-df4428748126",
   "metadata": {},
   "source": [
    "# pipeline processing, like getting toe height"
   ]
  },
  {
   "cell_type": "code",
   "execution_count": null,
   "id": "542e8754-cde7-4ed7-ace7-abd5e467265a",
   "metadata": {},
   "outputs": [],
   "source": [
    "toe_height = session512.process_toe_height()"
   ]
  },
  {
   "cell_type": "code",
   "execution_count": null,
   "id": "297d90df-df25-498c-81b5-7d1517b1177f",
   "metadata": {},
   "outputs": [],
   "source": [
    "print(session512.data['toe_height'][0].shape)"
   ]
  },
  {
   "cell_type": "markdown",
   "id": "7feaed9d-9fdd-4771-8eb7-6688ec821012",
   "metadata": {},
   "source": [
    "# and now some decoding"
   ]
  },
  {
   "cell_type": "markdown",
   "id": "5ffd0ead-8e40-4762-be38-691f80182d5a",
   "metadata": {},
   "source": [
    "## angles"
   ]
  },
  {
   "cell_type": "code",
   "execution_count": 5,
   "id": "2d3614a4-fe48-47ce-8726-3c60115fe11b",
   "metadata": {},
   "outputs": [
    {
     "data": {
      "text/plain": [
       "\u001b[0;31mSignature:\u001b[0m \u001b[0msession512\u001b[0m\u001b[0;34m.\u001b[0m\u001b[0mdecode_angles\u001b[0m\u001b[0;34m(\u001b[0m\u001b[0mX\u001b[0m\u001b[0;34m=\u001b[0m\u001b[0;32mNone\u001b[0m\u001b[0;34m,\u001b[0m \u001b[0mY\u001b[0m\u001b[0;34m=\u001b[0m\u001b[0;32mNone\u001b[0m\u001b[0;34m)\u001b[0m\u001b[0;34m\u001b[0m\u001b[0m\n",
       "\u001b[0;31mDocstring:\u001b[0m\n",
       "takes list of rates, angles, then using a wiener filter to decode. \n",
       "if no parameters are passed, uses data['rates'] and data['angles']\n",
       "\n",
       "returns best_h, vaf (array of all angles and all folds), test_x (the\n",
       "x test set that had best performance, and test_y (the y test set that\n",
       "had best formance)\n",
       "\u001b[0;31mFile:\u001b[0m      ~/Documents/rat-fes/src/cort_processor.py\n",
       "\u001b[0;31mType:\u001b[0m      method\n"
      ]
     },
     "metadata": {},
     "output_type": "display_data"
    }
   ],
   "source": [
    "session512.decode_angles?"
   ]
  },
  {
   "cell_type": "code",
   "execution_count": 10,
   "id": "15ee6940-bcb6-44af-9883-9078cc318320",
   "metadata": {},
   "outputs": [],
   "source": [
    "h_angles, vaf_angles, test_x_angles, test_y_angles = session512.decode_angles()"
   ]
  },
  {
   "cell_type": "code",
   "execution_count": 12,
   "id": "40a00975-3fc5-4870-a783-0a0607daaed6",
   "metadata": {},
   "outputs": [
    {
     "data": {
      "text/plain": [
       "array([0.09069322, 0.27032082, 0.15030921, 0.23722803, 0.16953658,\n",
       "       0.18049855, 0.19855415])"
      ]
     },
     "execution_count": 12,
     "metadata": {},
     "output_type": "execute_result"
    }
   ],
   "source": [
    "np.average(vaf_angles, 1)"
   ]
  },
  {
   "cell_type": "markdown",
   "id": "1de32768-dc1c-47f9-9524-400696a678af",
   "metadata": {},
   "source": [
    "## toe_height"
   ]
  },
  {
   "cell_type": "code",
   "execution_count": null,
   "id": "d19d65a8-9afd-4f25-b80e-43b7cfa62b2f",
   "metadata": {},
   "outputs": [],
   "source": [
    "h_toe, vaf_toe, best_x_toe, best_y_toe = session512.decode_toe_height()"
   ]
  },
  {
   "cell_type": "code",
   "execution_count": null,
   "id": "878de88c-e748-4a77-9cd8-36143d3ae049",
   "metadata": {},
   "outputs": [],
   "source": [
    "average_toe_vaf = np.average(vaf_toe)\n",
    "print(average_toe_vaf)"
   ]
  },
  {
   "cell_type": "code",
   "execution_count": null,
   "id": "b77a7657-2069-49ce-8c2e-6b0f81163997",
   "metadata": {},
   "outputs": [],
   "source": [
    "plot_wiener_filter_predic(best_x_toe, best_y_toe, h_toe)"
   ]
  },
  {
   "cell_type": "markdown",
   "id": "e9e67427-1ef2-4aa6-a23f-62f46086d368",
   "metadata": {},
   "source": [
    "# or dividing into gaits, then plotting sorted raster."
   ]
  },
  {
   "cell_type": "code",
   "execution_count": null,
   "id": "c617088a-bb6f-4341-9c59-58a3ae1d7e00",
   "metadata": {},
   "outputs": [],
   "source": [
    "session512.get_gait_indices?"
   ]
  },
  {
   "cell_type": "code",
   "execution_count": null,
   "id": "962114f6-58ed-496f-b361-afba6c342817",
   "metadata": {
    "tags": []
   },
   "outputs": [],
   "source": [
    "gait_indices, avg_gait_samples = session512.get_gait_indices()"
   ]
  },
  {
   "cell_type": "code",
   "execution_count": null,
   "id": "10b62fc5-2a8c-4ca7-9514-786e6c2ec16d",
   "metadata": {
    "tags": []
   },
   "outputs": [],
   "source": [
    "X_gait, Y_gait = session512.divide_into_gaits()"
   ]
  },
  {
   "cell_type": "code",
   "execution_count": null,
   "id": "b9d2bccd-269b-4669-b0fa-5eeb524b8a71",
   "metadata": {},
   "outputs": [],
   "source": [
    "df = session512.neuron_tuning()"
   ]
  },
  {
   "cell_type": "code",
   "execution_count": null,
   "id": "a69c9f88-29e4-4bff-8c0a-c332fd9398da",
   "metadata": {
    "tags": []
   },
   "outputs": [],
   "source": [
    "plot_raster(df)"
   ]
  }
 ],
 "metadata": {
  "kernelspec": {
   "display_name": "Python 3",
   "language": "python",
   "name": "python3"
  },
  "language_info": {
   "codemirror_mode": {
    "name": "ipython",
    "version": 3
   },
   "file_extension": ".py",
   "mimetype": "text/x-python",
   "name": "python",
   "nbconvert_exporter": "python",
   "pygments_lexer": "ipython3",
   "version": "3.7.0"
  }
 },
 "nbformat": 4,
 "nbformat_minor": 5
}
