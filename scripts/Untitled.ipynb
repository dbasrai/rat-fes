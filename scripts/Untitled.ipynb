{
 "cells": [
  {
   "cell_type": "code",
   "execution_count": 1,
   "id": "8612e157-d15d-4473-8065-a2349b0d99af",
   "metadata": {},
   "outputs": [],
   "source": [
    "%matplotlib widget\n",
    "%load_ext autoreload\n",
    "%autoreload 2\n",
    "from src.folder_handler import *\n",
    "from src.cort_processor import *\n",
    "from src.cca_processor import *\n",
    "from src.tdt_support import *\n",
    "from src.plotter import *\n",
    "from src.decoders import *\n",
    "import pickle\n",
    "import scipy as spicy\n",
    "import numpy as np\n",
    "import matplotlib.pyplot as plt\n",
    "from  matplotlib.colors import LinearSegmentedColormap\n",
    "from src.wiener_filter import *\n",
    "from matplotlib.pyplot import cm"
   ]
  },
  {
   "cell_type": "code",
   "execution_count": 2,
   "id": "a5362b59-42f0-4d52-b825-aceeda512d83",
   "metadata": {},
   "outputs": [
    {
     "name": "stdout",
     "output_type": "stream",
     "text": [
      "read from t=0s to t=174.56s\n",
      "read from t=0s to t=154.21s\n",
      "read from t=0s to t=183.1s\n",
      "read from t=0s to t=233.63s\n"
     ]
    }
   ],
   "source": [
    "test_session = CortProcessor('/home/diya/Documents/rat-fes/data/rat-annie/5-10')"
   ]
  },
  {
   "cell_type": "code",
   "execution_count": 8,
   "id": "cd2ac88c-4bf5-4e7f-9e83-056ec440a878",
   "metadata": {},
   "outputs": [
    {
     "data": {
      "text/plain": [
       "{'neural': array([[-207.1679919 , -158.65598107, -208.63999089, ..., -106.62399291,\n",
       "          -81.02399443, -104.38399477],\n",
       "        [-198.01598683, -165.18398479, -211.7119875 , ..., -110.78399257,\n",
       "          -78.07999646, -103.29599172],\n",
       "        [-211.90398547, -155.13598919, -204.99198581, ..., -102.46399324,\n",
       "          -86.14399121,  -88.76799257],\n",
       "        ...,\n",
       "        [  17.59999941,   29.31199742,   51.07199831, ...,   31.93599696,\n",
       "           53.05599552,   28.67199873],\n",
       "        [  27.51999818,   22.27199911,   55.87199485, ...,   37.31199831,\n",
       "           49.40799772,   32.0639956 ],\n",
       "        [  33.02399637,   19.58399844,   49.53599637, ...,   38.46399704,\n",
       "           47.35999755,   33.98399713]]),\n",
       " 'fs': 24414.0625,\n",
       " 'ts': array([0.00000000e+00, 4.09600000e-05, 8.19200000e-05, ...,\n",
       "        1.74399037e+02, 1.74399078e+02, 1.74399119e+02]),\n",
       " 'pulse_time': 8.08456192,\n",
       " 'cam_timestamps': array([1.65222076e+09, 1.65222076e+09, 1.65222076e+09, ...,\n",
       "        1.65222092e+09, 1.65222092e+09, 1.65222092e+09])}"
      ]
     },
     "execution_count": 8,
     "metadata": {},
     "output_type": "execute_result"
    }
   ],
   "source": [
    "test_session.tdt_data[0]"
   ]
  },
  {
   "cell_type": "code",
   "execution_count": null,
   "id": "7814bc13-23f4-42a4-b646-bd2d37fe6644",
   "metadata": {},
   "outputs": [],
   "source": []
  }
 ],
 "metadata": {
  "kernelspec": {
   "display_name": "Python 3",
   "language": "python",
   "name": "python3"
  },
  "language_info": {
   "codemirror_mode": {
    "name": "ipython",
    "version": 3
   },
   "file_extension": ".py",
   "mimetype": "text/x-python",
   "name": "python",
   "nbconvert_exporter": "python",
   "pygments_lexer": "ipython3",
   "version": "3.7.0"
  }
 },
 "nbformat": 4,
 "nbformat_minor": 5
}
