{
 "cells": [
  {
   "cell_type": "code",
   "execution_count": null,
   "id": "de8b7cc1-d14a-4a62-83f0-9189b45c89a2",
   "metadata": {},
   "outputs": [],
   "source": []
  }
 ],
 "metadata": {
  "kernelspec": {
   "display_name": "",
   "name": ""
  },
  "language_info": {
   "name": ""
  }
 },
 "nbformat": 4,
 "nbformat_minor": 5
}
