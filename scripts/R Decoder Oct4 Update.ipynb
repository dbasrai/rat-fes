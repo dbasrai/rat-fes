{
 "cells": [
  {
   "cell_type": "code",
   "execution_count": 1,
   "id": "80ff2fbb-e579-471f-b42c-e51c222d33fa",
   "metadata": {},
   "outputs": [],
   "source": [
    "%matplotlib widget\n",
    "%load_ext autoreload\n",
    "%autoreload 2\n",
    "from src.folder_handler import *\n",
    "from src.cort_processor import *\n",
    "from src.cca_processor import *\n",
    "from src.tdt_support import *\n",
    "from src.plotter import *\n",
    "from src.decoders import *\n",
    "from src.utils import *\n",
    "import pickle\n",
    "import scipy as sio\n",
    "import numpy as np\n",
    "import matplotlib.pyplot as plt\n",
    "from  matplotlib.colors import LinearSegmentedColormap\n",
    "from src.wiener_filter import *\n",
    "from matplotlib.pyplot import cm\n",
    "from sklearn.cross_decomposition import CCA\n",
    "from sklearn.preprocessing import StandardScaler\n",
    "from sklearn.linear_model import Ridge\n",
    "import os\n",
    "import copy"
   ]
  },
  {
   "cell_type": "markdown",
   "id": "83f520d7-3e89-4813-b233-90fda2b595d3",
   "metadata": {},
   "source": [
    "# set paths/create objects\n",
    "\n",
    "cp1 = day-0\n",
    "\n",
    "cp2 = day-n"
   ]
  },
  {
   "cell_type": "code",
   "execution_count": 3,
   "id": "e1a85342-dfe0-4b91-b225-a52437e1c5a3",
   "metadata": {},
   "outputs": [
    {
     "name": "stdout",
     "output_type": "stream",
     "text": [
      "this is filipe data i belive\n",
      "this is filipe data i belive\n",
      "should be good to align\n",
      "(8945, 11)\n",
      "(8945, 5)\n",
      "(8945, 23)\n",
      "(8945, 5)\n"
     ]
    }
   ],
   "source": [
    "cp1_path = '/home/diya/Documents/rat-fes/data/filipe_data/N5/N5_170929_No Obstacles_s.mat'\n",
    "cp2_path = '/home/diya/Documents/rat-fes/data/filipe_data/N5/N5_171001_No Obstacles_s.mat'\n",
    "\n",
    "cp1 = CortProcessor(cp1_path)\n",
    "cp2 = CortProcessor(cp2_path)\n",
    "\n",
    "cca_object = CCAProcessor(cp1, cp2)"
   ]
  },
  {
   "cell_type": "code",
   "execution_count": 11,
   "id": "46d38c23-b53d-4187-91ad-7efbf9a6e8e4",
   "metadata": {},
   "outputs": [
    {
     "name": "stdout",
     "output_type": "stream",
     "text": [
      "num_samples:[60, 120, 240, 601, 1203, 12039]\n"
     ]
    }
   ],
   "source": [
    "#subsampling list, percent of total data\n",
    "subsample_list = [.005, .01, .02, .05, .1, 1.0]\n",
    "nummy = cp2.data['rates'][0].shape[0]\n",
    "newlist = [int(sub * nummy) for sub in subsample_list]\n",
    "\n",
    "print(f'num_samples:{newlist}')"
   ]
  },
  {
   "cell_type": "markdown",
   "id": "d57ed850-3711-4a76-b317-7c5d551645ba",
   "metadata": {},
   "source": [
    "# getting day0 decoder\n",
    "apply PCA, and then train wiener filter.\n",
    "also get a day0-scaled-weights-decoder"
   ]
  },
  {
   "cell_type": "code",
   "execution_count": 9,
   "id": "64f97f4b-6819-4355-bbbc-4305ad07ef59",
   "metadata": {},
   "outputs": [
    {
     "name": "stdout",
     "output_type": "stream",
     "text": [
      "0.538\n",
      "0.538\n"
     ]
    }
   ],
   "source": [
    "#get day0 decoder weights, scaled + unscaled versions\n",
    "\n",
    "day0_decoder, nada, naday, nadax = cp1.decode_angles(X=cp1.apply_PCA())\n",
    "lowest_num_dimensions = cp1.num_components\n",
    "print(np.average(nada, 1)[1])\n",
    "\n",
    "X_tempy =cp1.apply_PCA(lowest_num_dimensions)\n",
    "scaler = StandardScaler()\n",
    "X_scale = scaler.fit_transform(np.squeeze(X_tempy))\n",
    "day0_decoder_scale, nada, naday, nadax = cp1.decode_angles(X=[X_scale])\n",
    "\n",
    "print(np.average(nada, 1)[1])"
   ]
  },
  {
   "cell_type": "markdown",
   "id": "f0409b48-79f7-4e45-9c1f-513fa30e650a",
   "metadata": {},
   "source": [
    "# getting JUST-PCA decoder\n",
    "we subsample day-n data, apply PCA, and then train a wiener filter on it to spit out a decoder. Then we try decoder on the day2-test set"
   ]
  },
  {
   "cell_type": "code",
   "execution_count": 15,
   "id": "7b00dfee-7532-4721-b656-2d911659e192",
   "metadata": {},
   "outputs": [
    {
     "name": "stdout",
     "output_type": "stream",
     "text": [
      "[-1.55, -1.38, -1.47, -1.75, -1.73, -1.44]\n",
      "[-186.44, 0.32, 0.58, 0.7, 0.72, 0.78]\n"
     ]
    }
   ],
   "source": [
    "fixed_decoder_scores = []\n",
    "pca_decoder_scores = []\n",
    "\n",
    "for i in range(len(subsample_list)):\n",
    "    sub_x, sub_y = cp2.subsample(percent = subsample_list[i])\n",
    "    sub_x_pca = cp2.apply_PCA(dims=lowest_num_dimensions, X=sub_x)\n",
    "    pca_object = cp2.pca_object\n",
    "    \n",
    "    temp_h, nada, nadax, naday = cp2.decode_angles(X=sub_x_pca, Y=sub_y)\n",
    "    \n",
    "    testing_x = np.squeeze(cp2.data['rates'])\n",
    "    test_x = np.squeeze(np.array(cp2.apply_PCA(dims=lowest_num_dimensions, transformer = pca_object)))\n",
    "    test_y = np.squeeze(np.array(cp2.data['angles']))\n",
    "    \n",
    "    test_x_format, test_y_format = format_data(test_x, test_y)\n",
    "    \n",
    "    temp_y = test_wiener_filter(test_x_format, day0_decoder)\n",
    "    fixed_decoder_scores.append(vaf(test_y_format[:,1], temp_y[:,1]))\n",
    "    \n",
    "    temp_y = test_wiener_filter(test_x_format, temp_h)\n",
    "    pca_decoder_scores.append(vaf(test_y_format[:,1], temp_y[:,1]))\n",
    "\n",
    "print(fixed_decoder_scores)\n",
    "print(pca_decoder_scores)"
   ]
  },
  {
   "cell_type": "markdown",
   "id": "b4288efb-3b3a-4193-aeed-091a173367b3",
   "metadata": {},
   "source": [
    "# cca decoder"
   ]
  },
  {
   "cell_type": "code",
   "execution_count": 44,
   "id": "7d5ec33a-9b31-49a4-b5b6-a23660474c3f",
   "metadata": {},
   "outputs": [
    {
     "name": "stdout",
     "output_type": "stream",
     "text": [
      "should be good to align\n",
      "(48, 11)\n",
      "(48, 5)\n",
      "(48, 23)\n",
      "(48, 5)\n",
      "should be good to align\n",
      "(117, 11)\n",
      "(117, 5)\n",
      "(117, 23)\n",
      "(117, 5)\n",
      "should be good to align\n",
      "(219, 11)\n",
      "(219, 5)\n",
      "(219, 23)\n",
      "(219, 5)\n",
      "should be good to align\n",
      "(547, 11)\n",
      "(547, 5)\n",
      "(547, 23)\n",
      "(547, 5)\n",
      "should be good to align\n",
      "(1005, 11)\n",
      "(1005, 5)\n",
      "(1005, 23)\n",
      "(1005, 5)\n",
      "should be good to align\n",
      "(8945, 11)\n",
      "(8945, 5)\n",
      "(8945, 23)\n",
      "(8945, 5)\n"
     ]
    }
   ],
   "source": [
    "cca_decoder_scores = []\n",
    "cca_transformers=[]\n",
    "new_cca_decoder_scores=[]\n",
    "for i in range(len(subsample_list)):\n",
    "    temp_cp2 = copy.deepcopy(cp2)\n",
    "    sub_x2, sub_y2 = temp_cp2.subsample(percent = subsample_list[i])\n",
    "    \n",
    "    temp_cp2.data['rates'] = sub_x2\n",
    "    temp_cp2.data['angles'] = sub_y2\n",
    "    \n",
    "    temp_cca = CCAProcessor(cp1, temp_cp2)\n",
    "    \n",
    "    pca_sub_x1, pca_sub_x2 = temp_cca.apply_PCA(preset_num_components=lowest_num_dimensions)\n",
    "    temp_cca_transformer, nada = temp_cca.apply_CCA(preset_num_components = lowest_num_dimensions)\n",
    "    \n",
    "    cca_transformers.append(temp_cca_transformer)\n",
    "    \n",
    "    testing_x = np.squeeze(cp2.data['rates'])\n",
    "    test_x = np.squeeze(np.array(cp2.apply_PCA(dims=lowest_num_dimensions, transformer = temp_cca.data['cp2']['pca_transformer'])))\n",
    "    test_y = np.squeeze(np.array(cp2.data['angles']))\n",
    "    \n",
    "    test_x_format, test_y_format = format_data(test_x, test_y)\n",
    "    nada, test_x_cca_space = temp_cca_transformer.transform(test_x, test_x)\n",
    "    \n",
    "    temp_x = temp_cca_transformer.inverse_transform(test_x_cca_space)\n",
    "    \n",
    "    temp_x_format, nada = format_data(temp_x, test_y)\n",
    "    predic = test_wiener_filter(temp_x_format, day0_decoder)\n",
    "    \n",
    "    cca_decoder_scores.append(vaf(test_y_format[:,1], predic[:,1]))"
   ]
  },
  {
   "cell_type": "code",
   "execution_count": 46,
   "id": "4fb28724-8f37-4ca3-8c07-77bf80fe72e7",
   "metadata": {},
   "outputs": [
    {
     "data": {
      "text/plain": [
       "[-1.1, -0.08, -0.12, -0.24, -0.74, 0.48]"
      ]
     },
     "execution_count": 46,
     "metadata": {},
     "output_type": "execute_result"
    }
   ],
   "source": [
    "cca_decoder_scores"
   ]
  },
  {
   "cell_type": "markdown",
   "id": "8af66572-df24-4048-b460-00fbb083c696",
   "metadata": {},
   "source": [
    "# regression fit"
   ]
  },
  {
   "cell_type": "code",
   "execution_count": 50,
   "id": "c8a8afdf-80c9-44d4-bbba-93b4664083c6",
   "metadata": {},
   "outputs": [
    {
     "name": "stdout",
     "output_type": "stream",
     "text": [
      "initial_scoring is : -0.17\n",
      "new_scoring is: 0.75\n",
      "set num copmoentns\n",
      "please for god sake: 0.4\n",
      "\n",
      "\n",
      "initial_scoring is : 0.08\n",
      "new_scoring is: 0.82\n",
      "set num copmoentns\n",
      "please for god sake: 0.55\n",
      "\n",
      "\n",
      "initial_scoring is : 0.38\n",
      "new_scoring is: 0.8\n",
      "set num copmoentns\n",
      "please for god sake: 0.65\n",
      "\n",
      "\n",
      "initial_scoring is : -0.11\n",
      "new_scoring is: 0.81\n",
      "set num copmoentns\n",
      "please for god sake: 0.72\n",
      "\n",
      "\n",
      "initial_scoring is : -0.7\n",
      "new_scoring is: 0.74\n",
      "set num copmoentns\n",
      "please for god sake: 0.71\n",
      "\n",
      "\n",
      "initial_scoring is : 0.52\n",
      "new_scoring is: 0.78\n",
      "set num copmoentns\n",
      "please for god sake: 0.78\n",
      "\n",
      "\n"
     ]
    }
   ],
   "source": [
    "r_scores = []\n",
    "\n",
    "for i in range(len(subsample_list)):\n",
    "    #subsample day-n unprocessed data\n",
    "    sub_x, sub_y = cp2.subsample(percent = subsample_list[i])\n",
    "    \n",
    "    #apply PCA to subsampled data\n",
    "    sub_x_pca = np.squeeze(cp2.apply_PCA(dims=lowest_num_dimensions, X=sub_x))\n",
    "    #transform PCA subsample to day-0 shape\n",
    "    nada, sub_x_cca_space = cca_transformers[i].transform(sub_x_pca, sub_x_pca)\n",
    "    temp_x = cca_transformers[i].inverse_transform(sub_x_cca_space)\n",
    "    #scale transformed data \n",
    "    scaler = StandardScaler()\n",
    "    temp_x_scale = scaler.fit_transform(temp_x)\n",
    "\n",
    "    wpost = ridge_fit(b0=day0_decoder_scale, x=temp_x_scale, y=np.squeeze(sub_y), my_alpha=100.0)\n",
    "    \n",
    "    \n",
    "    ###now lets test on full dataset\n",
    "    testing_x = np.squeeze(cp2.data['rates'])\n",
    "    test_x = np.squeeze(np.array(cp2.apply_PCA(dims=lowest_num_dimensions, transformer = cp2.pca_object)))\n",
    "    test_y = np.squeeze(np.array(cp2.data['angles']))\n",
    "    \n",
    "    nada, test_xx = cca_object.apply_CCA(cp2_x = test_x, transformer = cca_transformers[i])\n",
    "    test_xx_scale = scaler.transform(test_xx)\n",
    "    test_xx_scale_format, nada = format_data(test_xx_scale, test_y)\n",
    "    temp_y = test_wiener_filter(test_xx_scale_format, wpost)\n",
    "    \n",
    "    i_love_you = vaf(test_y_format[:,1], temp_y[:,1])\n",
    "    print(f'please for god sake: {i_love_you}')\n",
    "    print('\\n')\n",
    "     \n",
    "    \n",
    "    r_scores.append(i_love_you)"
   ]
  },
  {
   "cell_type": "code",
   "execution_count": 53,
   "id": "0cf5e22c-6326-42cb-8c1b-7261d286ba09",
   "metadata": {},
   "outputs": [
    {
     "data": {
      "application/vnd.jupyter.widget-view+json": {
       "model_id": "ddffd0bdc22446b08c62498d27a777a8",
       "version_major": 2,
       "version_minor": 0
      },
      "text/html": [
       "\n",
       "            <div style=\"display: inline-block;\">\n",
       "                <div class=\"jupyter-widgets widget-label\" style=\"text-align: center;\">\n",
       "                    Figure\n",
       "                </div>\n",
       "                <img src='data:image/png;base64,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' width=640.0/>\n",
       "            </div>\n",
       "        "
      ],
      "text/plain": [
       "Canvas(toolbar=Toolbar(toolitems=[('Home', 'Reset original view', 'home', 'home'), ('Back', 'Back to previous …"
      ]
     },
     "metadata": {},
     "output_type": "display_data"
    }
   ],
   "source": [
    "%matplotlib widget\n",
    "%matplotlib widget\n",
    "\n",
    "plot_dict = {}\n",
    "plot_dict['fixed_decoder_scores'] = fixed_decoder_scores\n",
    "plot_dict['pca_decoder_scores'] = pca_decoder_scores\n",
    "plot_dict['cca_decoder_scores'] = cca_decoder_scores\n",
    "plot_dict['r_decoder_scores'] = r_scores\n",
    "\n",
    "index = subsample_list\n",
    "\n",
    "df = pd.DataFrame(data=plot_dict, index=index)\n",
    "\n",
    "  \n",
    "# plot grouped bar chart\n",
    "ax = df.plot.bar(rot=15)\n",
    "ax.set_ylim(bottom=-1, top=1)\n",
    "for container in ax.containers:\n",
    "    ax.bar_label(container)"
   ]
  },
  {
   "cell_type": "code",
   "execution_count": 31,
   "id": "713dca81-4e4b-400b-8b04-3508906cb7f1",
   "metadata": {},
   "outputs": [
    {
     "name": "stdout",
     "output_type": "stream",
     "text": [
      "should be good to align\n",
      "Singular matrix\n",
      "did you run process() first.\n"
     ]
    },
    {
     "ename": "TypeError",
     "evalue": "cannot unpack non-iterable NoneType object",
     "output_type": "error",
     "traceback": [
      "\u001b[0;31m---------------------------------------------------------------------------\u001b[0m",
      "\u001b[0;31mTypeError\u001b[0m                                 Traceback (most recent call last)",
      "\u001b[0;32m<ipython-input-31-98d89c70ba16>\u001b[0m in \u001b[0;36m<module>\u001b[0;34m\u001b[0m\n\u001b[0;32m----> 1\u001b[0;31m \u001b[0mtemp_cca\u001b[0m \u001b[0;34m=\u001b[0m \u001b[0mCCAProcessor\u001b[0m\u001b[0;34m(\u001b[0m\u001b[0mcp1\u001b[0m\u001b[0;34m,\u001b[0m \u001b[0mtemp_cp2\u001b[0m\u001b[0;34m)\u001b[0m\u001b[0;34m\u001b[0m\u001b[0m\n\u001b[0m",
      "\u001b[0;32m~/Documents/rat-fes/src/cca_processor.py\u001b[0m in \u001b[0;36m__init__\u001b[0;34m(self, cp1, cp2, limbfoot_angle)\u001b[0m\n\u001b[1;32m     29\u001b[0m         \u001b[0mself\u001b[0m\u001b[0;34m.\u001b[0m\u001b[0mdata\u001b[0m\u001b[0;34m[\u001b[0m\u001b[0;34m'cp1'\u001b[0m\u001b[0;34m]\u001b[0m\u001b[0;34m[\u001b[0m\u001b[0;34m'h'\u001b[0m\u001b[0;34m]\u001b[0m\u001b[0;34m,\u001b[0m \u001b[0mself\u001b[0m\u001b[0;34m.\u001b[0m\u001b[0mdata\u001b[0m\u001b[0;34m[\u001b[0m\u001b[0;34m'cp1'\u001b[0m\u001b[0;34m]\u001b[0m\u001b[0;34m[\u001b[0m\u001b[0;34m'proc_vaf'\u001b[0m\u001b[0;34m]\u001b[0m\u001b[0;34m,\u001b[0m \u001b[0mnada\u001b[0m\u001b[0;34m,\u001b[0m \u001b[0mnada\u001b[0m \u001b[0;34m=\u001b[0m\u001b[0;31m\\\u001b[0m\u001b[0;34m\u001b[0m\u001b[0m\n\u001b[1;32m     30\u001b[0m         self.cp1.decode_angles(X=[self.data['cp1']['proc_x']],\\\n\u001b[0;32m---> 31\u001b[0;31m         Y=[self.data['cp1']['proc_y']])\n\u001b[0m\u001b[1;32m     32\u001b[0m \u001b[0;34m\u001b[0m\u001b[0m\n\u001b[1;32m     33\u001b[0m         \u001b[0mself\u001b[0m\u001b[0;34m.\u001b[0m\u001b[0mdata\u001b[0m\u001b[0;34m[\u001b[0m\u001b[0;34m'cp2'\u001b[0m\u001b[0;34m]\u001b[0m\u001b[0;34m[\u001b[0m\u001b[0;34m'h'\u001b[0m\u001b[0;34m]\u001b[0m\u001b[0;34m,\u001b[0m \u001b[0mself\u001b[0m\u001b[0;34m.\u001b[0m\u001b[0mdata\u001b[0m\u001b[0;34m[\u001b[0m\u001b[0;34m'cp2'\u001b[0m\u001b[0;34m]\u001b[0m\u001b[0;34m[\u001b[0m\u001b[0;34m'proc_vaf'\u001b[0m\u001b[0;34m]\u001b[0m\u001b[0;34m,\u001b[0m \u001b[0mnada\u001b[0m\u001b[0;34m,\u001b[0m \u001b[0mnada\u001b[0m \u001b[0;34m=\u001b[0m\u001b[0;31m\\\u001b[0m\u001b[0;34m\u001b[0m\u001b[0m\n",
      "\u001b[0;31mTypeError\u001b[0m: cannot unpack non-iterable NoneType object"
     ]
    }
   ],
   "source": [
    "temp_cca = CCAProcessor(cp1, temp_cp2)\n"
   ]
  },
  {
   "cell_type": "code",
   "execution_count": 34,
   "id": "60618b5c-0528-4321-a150-735c33e3e3d1",
   "metadata": {},
   "outputs": [],
   "source": [
    "x, y=temp_cp2.divide_into_gaits(bool_resample=False)"
   ]
  },
  {
   "cell_type": "code",
   "execution_count": 38,
   "id": "6a09f286-3793-474c-981d-bdacdad47e59",
   "metadata": {},
   "outputs": [
    {
     "data": {
      "text/plain": [
       "6"
      ]
     },
     "execution_count": 38,
     "metadata": {},
     "output_type": "execute_result"
    }
   ],
   "source": [
    "len(x[0])"
   ]
  },
  {
   "cell_type": "code",
   "execution_count": 37,
   "id": "4d2b7097-766e-4a37-970e-f06c0313a3df",
   "metadata": {},
   "outputs": [
    {
     "data": {
      "text/plain": [
       "6"
      ]
     },
     "execution_count": 37,
     "metadata": {},
     "output_type": "execute_result"
    }
   ],
   "source": [
    "len(y[0])\n"
   ]
  },
  {
   "cell_type": "code",
   "execution_count": null,
   "id": "749e2274-1ad8-41b5-af57-ae76dd564098",
   "metadata": {},
   "outputs": [],
   "source": []
  }
 ],
 "metadata": {
  "kernelspec": {
   "display_name": "Python 3",
   "language": "python",
   "name": "python3"
  },
  "language_info": {
   "codemirror_mode": {
    "name": "ipython",
    "version": 3
   },
   "file_extension": ".py",
   "mimetype": "text/x-python",
   "name": "python",
   "nbconvert_exporter": "python",
   "pygments_lexer": "ipython3",
   "version": "3.7.0"
  }
 },
 "nbformat": 4,
 "nbformat_minor": 5
}
