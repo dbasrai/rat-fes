{
 "cells": [
  {
   "cell_type": "code",
   "execution_count": 276,
   "id": "1be7faca-2935-4144-830f-2627816a616b",
   "metadata": {},
   "outputs": [
    {
     "name": "stdout",
     "output_type": "stream",
     "text": [
      "The autoreload extension is already loaded. To reload it, use:\n",
      "  %reload_ext autoreload\n"
     ]
    }
   ],
   "source": [
    "%matplotlib widget\n",
    "%load_ext autoreload\n",
    "%autoreload 2\n",
    "from src.folder_handler import *\n",
    "from src.cort_processor import *\n",
    "from src.cca_processor import *\n",
    "from src.tdt_support import *\n",
    "from src.plotter import *\n",
    "from src.decoders import *\n",
    "import pickle\n",
    "import scipy as sio\n",
    "import numpy as np\n",
    "import matplotlib.pyplot as plt\n",
    "from matplotlib.colors import LinearSegmentedColormap\n",
    "from src.wiener_filter import *\n",
    "from matplotlib.pyplot import cm\n",
    "from sklearn.cross_decomposition import CCA\n",
    "from sklearn.preprocessing import StandardScaler\n",
    "from sklearn.linear_model import Ridge\n",
    "import os"
   ]
  },
  {
   "cell_type": "markdown",
   "id": "492e1dd8-cb9e-4f94-9a21-ceb92ac079d5",
   "metadata": {},
   "source": [
    "# set paths/create objects\n",
    "\n",
    "cp1 = day-0\n",
    "\n",
    "cp2 = day-n"
   ]
  },
  {
   "cell_type": "code",
   "execution_count": 277,
   "id": "3082ac9c-c4a4-4fbe-b2d4-11c89a1518f8",
   "metadata": {},
   "outputs": [
    {
     "name": "stdout",
     "output_type": "stream",
     "text": [
      "this is filipe data i belive\n",
      "this is filipe data i belive\n",
      "should be good to align\n",
      "(7305, 25)\n",
      "(7305, 5)\n",
      "(7305, 23)\n",
      "(7305, 5)\n"
     ]
    }
   ],
   "source": [
    "cp1_path = '/home/diya/Documents/rat-fes/data/filipe_data/N9/N9_171121_No Obstacles_s.mat'\n",
    "cp2_path = '/home/diya/Documents/rat-fes/data/filipe_data/N9/N9_171214_No Obstacles_s.mat'\n",
    "\n",
    "\n",
    "cp1 = CortProcessor(cp1_path)\n",
    "cp2 = CortProcessor(cp2_path)\n",
    "\n",
    "cca_object = CCAProcessor(cp1, cp2)"
   ]
  },
  {
   "cell_type": "markdown",
   "id": "25dd57ff-278d-4872-b0dd-b8c3ea710dcf",
   "metadata": {},
   "source": [
    "# Getting PCA dimensions"
   ]
  },
  {
   "cell_type": "code",
   "execution_count": 278,
   "id": "b9e2ae37-1f91-46bc-b33b-ce431af12953",
   "metadata": {},
   "outputs": [
    {
     "name": "stdout",
     "output_type": "stream",
     "text": [
      "8\n"
     ]
    }
   ],
   "source": [
    "#dimensions is lower of PCA95%\n",
    "temp, nada, nada = cca_object.apply_PCA()\n",
    "lowest_num_dimensions = 8\n",
    "print(lowest_num_dimensions)"
   ]
  },
  {
   "cell_type": "markdown",
   "id": "ceefc657-8573-49f1-9acd-445fc82fd836",
   "metadata": {},
   "source": [
    "# storing day-n raw (unaligned, unprocessed) data as test sets"
   ]
  },
  {
   "cell_type": "code",
   "execution_count": 279,
   "id": "5995d830-e7f2-4442-964e-6b083c6d4a7d",
   "metadata": {},
   "outputs": [],
   "source": [
    "#get unprocessed day2 neural data as test set\n",
    "test_x = np.squeeze(np.array(cp2.apply_PCA(dims=lowest_num_dimensions)))\n",
    "test_y = np.squeeze(np.array(cp2.data['angles']))\n",
    "\n",
    "test_x_format, test_y_format = format_data(test_x, test_y)\n",
    "\n",
    "#scaled version\n",
    "scaler = StandardScaler()\n",
    "test_x_scale = scaler.fit_transform(test_x)\n",
    "\n",
    "test_x_format_scale, nada = format_data(test_x_scale, test_y)"
   ]
  },
  {
   "cell_type": "markdown",
   "id": "ff052f09-3a95-49fe-9572-0f4ecae59364",
   "metadata": {},
   "source": [
    "# choosing subsampling list"
   ]
  },
  {
   "cell_type": "code",
   "execution_count": 280,
   "id": "ef2e3a27-42f6-444b-9a6a-b0078e0cd02c",
   "metadata": {},
   "outputs": [],
   "source": [
    "#percent of total data\n",
    "subsample_list = [.05, .1, .2, .5, 1.0]"
   ]
  },
  {
   "cell_type": "markdown",
   "id": "d6869f2f-5b25-439e-b370-13fbebab03eb",
   "metadata": {},
   "source": [
    "# getting day0 decoder\n",
    "apply PCA, and then train wiener filter.\n",
    "also get a day0-scaled-weights-decoder"
   ]
  },
  {
   "cell_type": "code",
   "execution_count": 281,
   "id": "288573e2-2a3f-4539-8848-7039ae7b7958",
   "metadata": {},
   "outputs": [
    {
     "name": "stdout",
     "output_type": "stream",
     "text": [
      "0.43200000000000005\n",
      "0.43200000000000005\n"
     ]
    }
   ],
   "source": [
    "#get day0 decoder weights, scaled + unscaled versions\n",
    "\n",
    "day0_decoder, nada, naday, nadax = cp1.decode_angles(X=cp1.apply_PCA(lowest_num_dimensions))\n",
    "print(np.average(nada, 1)[1])\n",
    "\n",
    "X_tempy =cp1.apply_PCA(lowest_num_dimensions)\n",
    "scaler = StandardScaler()\n",
    "X_scale = scaler.fit_transform(np.squeeze(X_tempy))\n",
    "day0_decoder_scale, nada, naday, nadax = cp1.decode_angles(X=[X_scale])\n",
    "\n",
    "print(np.average(nada, 1)[1])"
   ]
  },
  {
   "cell_type": "markdown",
   "id": "bb1ee243-8361-4832-958d-2cf3a21d6cdb",
   "metadata": {},
   "source": [
    "# getting JUST-PCA decoder\n",
    "we subsample day-n data, apply PCA, and then train a wiener filter on it to spit out a decoder. Then we try decoder on the day2-test set"
   ]
  },
  {
   "cell_type": "code",
   "execution_count": 282,
   "id": "06a8bf2b-a49f-4c04-8477-00b9cbbf2145",
   "metadata": {},
   "outputs": [],
   "source": [
    "pca_decoder = []\n",
    "\n",
    "for i in range(len(subsample_list)):\n",
    "    sub_x, sub_y = cp2.subsample(percent = subsample_list[i])\n",
    "    sub_x_pca = cp2.apply_PCA(dims=lowest_num_dimensions, X=sub_x)\n",
    "    \n",
    "    temp_h, nada, nadax, naday = cp2.decode_angles(X=sub_x_pca, Y=sub_y)\n",
    "    pca_decoder.append(temp_h)"
   ]
  },
  {
   "cell_type": "markdown",
   "id": "e6188a09-0bf2-4d1e-9a8c-b1e40a2e3b2d",
   "metadata": {},
   "source": [
    "# getting CCA scores"
   ]
  },
  {
   "cell_type": "code",
   "execution_count": 283,
   "id": "1aa4fec0-056f-48cd-b800-3b8a18bf64ad",
   "metadata": {},
   "outputs": [
    {
     "name": "stdout",
     "output_type": "stream",
     "text": [
      "0.13\n",
      "-0.2\n",
      "0.14\n",
      "0.29\n",
      "0.28\n"
     ]
    }
   ],
   "source": [
    "cca_decoder_scores = []\n",
    "cca_transformers=[]\n",
    "love_y1=[]\n",
    "love_y2=[]\n",
    "for i in range(len(subsample_list)):\n",
    "    sub_x1, sub_y1, sub_x2, sub_y2 = cca_object.subsample(percent = subsample_list[i])\n",
    "    love_y1.append(sub_y1)\n",
    "    love_y2.append(sub_y2)\n",
    "    nada, pca_sub_x1, pca_sub_x2 = cca_object.apply_PCA(cp1_x = sub_x1, cp2_x = sub_x2, preset_num_components=lowest_num_dimensions)\n",
    "    temp_cca_transformer, sanity_x = cca_object.apply_CCA(cp1_x = pca_sub_x1, cp2_x = pca_sub_x2, preset_num_components = lowest_num_dimensions)\n",
    "    nada, test_x_cca_space = temp_cca_transformer.transform(test_x, test_x)\n",
    "    temp_x = temp_cca_transformer.inverse_transform(test_x_cca_space)\n",
    "    \n",
    "    cca_transformers.append(temp_cca_transformer)\n",
    "    \n",
    "    temp_x_format, nada = format_data(temp_x, test_y)\n",
    "    \n",
    "    predic = test_wiener_filter(temp_x_format, day0_decoder)\n",
    "    \n",
    "    #sanity checks\n",
    "    sanity_x_format, sanity_y_format = format_data(sanity_x, cca_object.data['cp2']['proc_y'])\n",
    "    predic_sanity = test_wiener_filter(sanity_x_format, day0_decoder)\n",
    "    print(vaf(sanity_y_format[:,1], predic_sanity[:,1]))\n",
    "    \n",
    "\n",
    "    cca_decoder_scores.append(vaf(test_y_format[:,1], predic[:,1]))\n",
    "    \n"
   ]
  },
  {
   "cell_type": "markdown",
   "id": "a19278d1-fced-4744-a974-b1f453b65a36",
   "metadata": {},
   "source": [
    "# getting regression decoder"
   ]
  },
  {
   "cell_type": "code",
   "execution_count": 284,
   "id": "573b6fd3-691f-403e-b5ae-213cff907b38",
   "metadata": {},
   "outputs": [],
   "source": [
    "r_decoder = []\n",
    "\n",
    "for i in range(len(subsample_list)):\n",
    "    sub_x, sub_y = cp2.subsample(percent = subsample_list[i])\n",
    "    sub_x_pca = np.squeeze(cp2.apply_PCA(dims=lowest_num_dimensions, X=sub_x))\n",
    "    \n",
    "    nada, sub_x_cca_space = cca_transformers[i].transform(sub_x_pca, sub_x_pca)\n",
    "    temp_x = cca_transformers[i].inverse_transform(sub_x_cca_space)\n",
    "    \n",
    "    scaler = StandardScaler()\n",
    "    sub_x_pca_scale = scaler.fit_transform(temp_x)\n",
    "\n",
    "    wpost = regression_fit(b0=day0_decoder_scale, x=sub_x_pca_scale, y=np.squeeze(sub_y), my_alpha=1.0)\n",
    "    r_decoder.append(wpost)"
   ]
  },
  {
   "cell_type": "markdown",
   "id": "ead9b739-7df8-43db-8661-8cc088a0b0c0",
   "metadata": {},
   "source": [
    "# getting VAF scores for each decoder"
   ]
  },
  {
   "cell_type": "code",
   "execution_count": 285,
   "id": "91202ace-a889-478a-882c-3a682158a427",
   "metadata": {},
   "outputs": [],
   "source": [
    "fixed_decoder_scores=[]\n",
    "pca_decoder_scores=[]\n",
    "r_decoder_scores=[]\n",
    "\n",
    "for i in range(len(subsample_list)):\n",
    "    temp_y = test_wiener_filter(test_x_format, day0_decoder)\n",
    "    fixed_decoder_scores.append(vaf(test_y_format[:,1], temp_y[:,1]))\n",
    "    \n",
    "    temp_y = test_wiener_filter(test_x_format, pca_decoder[i])\n",
    "    pca_decoder_scores.append(vaf(test_y_format[:,1], temp_y[:,1]))\n",
    "    \n",
    "    temp_y = test_wiener_filter(test_x_format_scale, r_decoder[i])\n",
    "    r_decoder_scores.append(vaf(test_y_format[:,1], temp_y[:,1]))"
   ]
  },
  {
   "cell_type": "code",
   "execution_count": 286,
   "id": "839e2c66-ea94-4012-9274-82665ced1410",
   "metadata": {},
   "outputs": [
    {
     "name": "stdout",
     "output_type": "stream",
     "text": [
      "[0.0, 0.0, 0.0, 0.0, 0.0]\n",
      "[0.02, 0.15, 0.17, 0.26, 0.28]\n",
      "[0.01, -0.13, 0.08, 0.12, 0.12]\n",
      "[-0.22, -0.28, -0.13, -0.01, -0.19]\n"
     ]
    }
   ],
   "source": [
    "print(fixed_decoder_scores)\n",
    "print(pca_decoder_scores)\n",
    "print(cca_decoder_scores)\n",
    "print(r_decoder_scores)"
   ]
  },
  {
   "cell_type": "code",
   "execution_count": 287,
   "id": "289df8e2-5237-41be-b6e6-5c11d2d89da8",
   "metadata": {},
   "outputs": [
    {
     "data": {
      "application/vnd.jupyter.widget-view+json": {
       "model_id": "3a8e2b6895924facb12cc49c99097e96",
       "version_major": 2,
       "version_minor": 0
      },
      "text/html": [
       "\n",
       "            <div style=\"display: inline-block;\">\n",
       "                <div class=\"jupyter-widgets widget-label\" style=\"text-align: center;\">\n",
       "                    Figure\n",
       "                </div>\n",
       "                <img src='data:image/png;base64,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' width=640.0/>\n",
       "            </div>\n",
       "        "
      ],
      "text/plain": [
       "Canvas(toolbar=Toolbar(toolitems=[('Home', 'Reset original view', 'home', 'home'), ('Back', 'Back to previous …"
      ]
     },
     "metadata": {},
     "output_type": "display_data"
    }
   ],
   "source": [
    "%matplotlib widget\n",
    "%matplotlib widget\n",
    "\n",
    "plot_dict = {}\n",
    "plot_dict['fixed_decoder_scores'] = fixed_decoder_scores\n",
    "plot_dict['pca_decoder_scores'] = pca_decoder_scores\n",
    "plot_dict['cca_decoder_scores'] = cca_decoder_scores\n",
    "plot_dict['r_decoder_scores'] = r_decoder_scores\n",
    "\n",
    "index = subsample_list\n",
    "\n",
    "df = pd.DataFrame(data=plot_dict, index=index)\n",
    "\n",
    "  \n",
    "# plot grouped bar chart\n",
    "ax = df.plot.bar(rot=15)\n",
    "for container in ax.containers:\n",
    "    ax.bar_label(container)"
   ]
  }
 ],
 "metadata": {
  "kernelspec": {
   "display_name": "Python 3",
   "language": "python",
   "name": "python3"
  },
  "language_info": {
   "codemirror_mode": {
    "name": "ipython",
    "version": 3
   },
   "file_extension": ".py",
   "mimetype": "text/x-python",
   "name": "python",
   "nbconvert_exporter": "python",
   "pygments_lexer": "ipython3",
   "version": "3.7.0"
  }
 },
 "nbformat": 4,
 "nbformat_minor": 5
}
