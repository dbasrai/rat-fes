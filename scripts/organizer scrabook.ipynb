{
 "cells": [
  {
   "cell_type": "code",
   "execution_count": 1,
   "id": "d724d71d-cd20-4a7a-9fa1-bb96023581b9",
   "metadata": {},
   "outputs": [],
   "source": [
    "%matplotlib widget\n",
    "%load_ext autoreload\n",
    "%autoreload 2"
   ]
  },
  {
   "cell_type": "code",
   "execution_count": 2,
   "id": "6c8fc094-6d89-41ff-9c3b-88fcc6644583",
   "metadata": {},
   "outputs": [],
   "source": [
    "from src.folder_handler import *\n",
    "from src.cort_processor import *"
   ]
  },
  {
   "cell_type": "code",
   "execution_count": 3,
   "id": "20877e8d-3e36-422a-a7d2-7b866c5724a3",
   "metadata": {},
   "outputs": [],
   "source": [
    "sess1 = CortProcessor('/home/diya/Documents/rat-fes/data/rat-t/session1')"
   ]
  },
  {
   "cell_type": "code",
   "execution_count": 4,
   "id": "d5fe8d07-ec0c-4314-b7e3-cea14b26a45c",
   "metadata": {},
   "outputs": [
    {
     "data": {
      "text/plain": [
       "<src.folder_handler.FolderHandler at 0x7f2d9e8295c0>"
      ]
     },
     "execution_count": 4,
     "metadata": {},
     "output_type": "execute_result"
    }
   ],
   "source": [
    "sess1.session"
   ]
  },
  {
   "cell_type": "code",
   "execution_count": null,
   "id": "2f9693ba-bf0e-4dbb-b3e5-eff15501cf52",
   "metadata": {},
   "outputs": [],
   "source": []
  }
 ],
 "metadata": {
  "kernelspec": {
   "display_name": "Python 3",
   "language": "python",
   "name": "python3"
  },
  "language_info": {
   "codemirror_mode": {
    "name": "ipython",
    "version": 3
   },
   "file_extension": ".py",
   "mimetype": "text/x-python",
   "name": "python",
   "nbconvert_exporter": "python",
   "pygments_lexer": "ipython3",
   "version": "3.7.0"
  }
 },
 "nbformat": 4,
 "nbformat_minor": 5
}
