{
 "cells": [
  {
   "cell_type": "code",
   "execution_count": 1,
   "id": "identical-response",
   "metadata": {},
   "outputs": [],
   "source": [
    "%matplotlib widget\n",
    "%load_ext autoreload\n",
    "%autoreload 2"
   ]
  },
  {
   "cell_type": "code",
   "execution_count": 2,
   "id": "inside-combination",
   "metadata": {},
   "outputs": [],
   "source": [
    "from src.folder_handler import *\n",
    "from src.cort_processor import *\n",
    "from src.tdt_support import *\n",
    "from src.plotter import *\n",
    "from sklearn.decomposition import PCA\n",
    "import pickle"
   ]
  },
  {
   "cell_type": "code",
   "execution_count": 3,
   "id": "9c945a4e-f128-4691-9fc1-c1d95a68cf96",
   "metadata": {},
   "outputs": [
    {
     "name": "stdout",
     "output_type": "stream",
     "text": [
      "read from t=0s to t=151.37s\n",
      "read from t=0s to t=202.23s\n",
      "read from t=0s to t=192.28s\n",
      "read from t=0s to t=201.04s\n",
      "read from t=0s to t=181.47s\n"
     ]
    }
   ],
   "source": [
    "session519 = CortProcessor('/home/diya/Documents/rat-fes/data/rat-annie/5-19')"
   ]
  },
  {
   "cell_type": "code",
   "execution_count": 5,
   "id": "af963bcb-7a57-499e-8dcd-09e6b15f412f",
   "metadata": {},
   "outputs": [],
   "source": [
    "crop519 = [(60, 140), (14,185), (20, 175), (15,  180), (10, 165)]\n",
    "rate, kin = session519.process(crop519, threshold_multiplier=3.0)"
   ]
  },
  {
   "cell_type": "code",
   "execution_count": 8,
   "id": "c9a45c73-41b5-4816-a32e-b0628c716261",
   "metadata": {},
   "outputs": [],
   "source": [
    "h_angle, vaf_angle, x_angle, y_angle = session519.decode_angles()"
   ]
  },
  {
   "cell_type": "code",
   "execution_count": 10,
   "id": "0681c741-4941-4f22-a4f4-327ef4240d62",
   "metadata": {},
   "outputs": [
    {
     "data": {
      "text/plain": [
       "array([0.12765898, 0.26542302, 0.15700302, 0.25442188, 0.19374881,\n",
       "       0.05012257, 0.17620847])"
      ]
     },
     "execution_count": 10,
     "metadata": {},
     "output_type": "execute_result"
    }
   ],
   "source": [
    "np.average(vaf_angle, 1)"
   ]
  },
  {
   "cell_type": "code",
   "execution_count": 3,
   "id": "positive-farmer",
   "metadata": {},
   "outputs": [],
   "source": [
    "#session = CortProcessor('/home/diya/Documents/rat-fes/data/rat-annie/5-10')\n",
    "with open('/home/diya/Documents/rat-fes/data/pickles/annie519session.pkl', 'rb') as inp:\n",
    "    session519 = pickle.load(inp)"
   ]
  },
  {
   "cell_type": "code",
   "execution_count": 4,
   "id": "113201c2-cd5f-4178-9a7c-04ed5119a7d6",
   "metadata": {},
   "outputs": [],
   "source": [
    "h_angle, vaf_angle, x_angle, y_angle = session519.decode_angles()"
   ]
  },
  {
   "cell_type": "code",
   "execution_count": 81,
   "id": "002afbd8-f30f-4502-9eff-7639025397e6",
   "metadata": {},
   "outputs": [],
   "source": [
    "rates, angles = session519.data['rates'], session519.data['angles']"
   ]
  },
  {
   "cell_type": "code",
   "execution_count": 84,
   "id": "f816191c-cf60-45d0-968e-9a84d86e4912",
   "metadata": {},
   "outputs": [
    {
     "name": "stdout",
     "output_type": "stream",
     "text": [
      "[   -1  1601  5024  8127 11430 14533]\n"
     ]
    }
   ],
   "source": [
    "h_angle, vaf_angle, x_angle, y_angle = session519.decode_angles()"
   ]
  },
  {
   "cell_type": "code",
   "execution_count": 126,
   "id": "3786ba92-2db0-4da8-9ccb-b9651137cec6",
   "metadata": {},
   "outputs": [],
   "source": [
    "check = np.ones((1,rates.shape[1])) * -1"
   ]
  },
  {
   "cell_type": "code",
   "execution_count": 127,
   "id": "f7af73f6-2c08-42dd-b2aa-2717dddeb91b",
   "metadata": {},
   "outputs": [
    {
     "data": {
      "text/plain": [
       "array([[False, False, False, ..., False, False, False],\n",
       "       [False, False, False, ..., False, False, False],\n",
       "       [False, False, False, ..., False, False, False],\n",
       "       ...,\n",
       "       [False, False, False, ..., False, False, False],\n",
       "       [False, False, False, ..., False, False, False],\n",
       "       [ True,  True,  True, ...,  True,  True,  True]])"
      ]
     },
     "execution_count": 130,
     "metadata": {},
     "output_type": "execute_result"
    }
   ],
   "source": [
    "import numpy.ma as ma\n",
    "\n",
    "mx = ma.masked_array(rates, rates==check)"
   ]
  },
  {
   "cell_type": "code",
   "execution_count": 138,
   "id": "f9b0137a-ff86-4ec2-82e5-8b993eaade2d",
   "metadata": {},
   "outputs": [
    {
     "data": {
      "text/plain": [
       "array([[False, False, False, ..., False, False, False],\n",
       "       [False, False, False, ..., False, False, False],\n",
       "       [False, False, False, ..., False, False, False],\n",
       "       ...,\n",
       "       [False, False, False, ..., False, False, False],\n",
       "       [False, False, False, ..., False, False, False],\n",
       "       [ True,  True,  True, ...,  True,  True,  True]])"
      ]
     },
     "execution_count": 138,
     "metadata": {},
     "output_type": "execute_result"
    }
   ],
   "source": [
    "rates==check"
   ]
  },
  {
   "cell_type": "code",
   "execution_count": 140,
   "id": "6e2c2abe-44b0-4d49-b511-9813e6269151",
   "metadata": {},
   "outputs": [
    {
     "ename": "SyntaxError",
     "evalue": "invalid syntax (<ipython-input-140-f72f5e943467>, line 1)",
     "output_type": "error",
     "traceback": [
      "\u001b[0;36m  File \u001b[0;32m\"<ipython-input-140-f72f5e943467>\"\u001b[0;36m, line \u001b[0;32m1\u001b[0m\n\u001b[0;31m    rates[rates~=check]\u001b[0m\n\u001b[0m               ^\u001b[0m\n\u001b[0;31mSyntaxError\u001b[0m\u001b[0;31m:\u001b[0m invalid syntax\n"
     ]
    }
   ],
   "source": [
    "rates[rates~=check]"
   ]
  },
  {
   "cell_type": "code",
   "execution_count": null,
   "id": "60ecfa48-440e-444c-b186-153b2e02bc0e",
   "metadata": {},
   "outputs": [
    {
     "data": {
      "text/plain": [
       "array([0.12765898, 0.26542302, 0.15700302, 0.25442188, 0.19374881,\n",
       "       0.05012257, 0.17620847])"
      ]
     },
     "execution_count": 87,
     "metadata": {},
     "output_type": "execute_result"
    }
   ],
   "source": [
    "np.average(vaf_angle, 1)"
   ]
  },
  {
   "cell_type": "code",
   "execution_count": 1,
   "id": "344feede-9590-42d1-a500-dee73270372a",
   "metadata": {},
   "outputs": [],
   "source": [
    "import numpy as np\n",
    "\n",
    "import numpy.ma as ma\n",
    "\n",
    "x = np.array([1, 2, 3, -1, 5])"
   ]
  },
  {
   "cell_type": "code",
   "execution_count": 3,
   "id": "060eec3f-3537-4f77-b13e-142dcf08edf2",
   "metadata": {},
   "outputs": [],
   "source": [
    "mx = ma.masked_array(x, mask=[0, 0, 0, 1, 0])"
   ]
  },
  {
   "cell_type": "code",
   "execution_count": 7,
   "id": "739dd646-4291-4108-ac91-d91a035d4af5",
   "metadata": {},
   "outputs": [
    {
     "data": {
      "text/plain": [
       "4"
      ]
     },
     "execution_count": 7,
     "metadata": {},
     "output_type": "execute_result"
    }
   ],
   "source": [
    "np.argmax(mx)"
   ]
  },
  {
   "cell_type": "code",
   "execution_count": 2,
   "id": "f9d4f0c4-0460-4ff2-847b-3c848017e5fd",
   "metadata": {},
   "outputs": [],
   "source": [
    "#crop for annie-5-6\n",
    "#crop=[(33, 120), (10, 115), (15, 208), (10, 165)]"
   ]
  },
  {
   "cell_type": "code",
   "execution_count": null,
   "id": "b146958e-94e3-4ba3-a0c8-bf56951c2fa5",
   "metadata": {},
   "outputs": [],
   "source": [
    "#crop for annie-5-10\n",
    "#crop = [(90,155), (0,120), (0, 167), (7, 220)]"
   ]
  },
  {
   "cell_type": "code",
   "execution_count": 5,
   "id": "5394ca3c-de24-4930-928b-53b1a36d1e92",
   "metadata": {},
   "outputs": [],
   "source": [
    "#crop for annie-5-12\n",
    "crop512 = [(12,160),(10,155), (9, 210), (12, 230)]\n"
   ]
  },
  {
   "cell_type": "code",
   "execution_count": 6,
   "id": "605fc365-e0ca-4bd0-81ca-d1d372aa089c",
   "metadata": {},
   "outputs": [],
   "source": [
    "#crop for annie 5-19\n",
    "#crop519 = [(60, 140), (14,185), (20, 175), (15,  180), (10, 165)]"
   ]
  },
  {
   "cell_type": "code",
   "execution_count": null,
   "id": "41a4cf88-e6ba-496d-af53-b451e1d9d1a8",
   "metadata": {},
   "outputs": [],
   "source": [
    "rate, kin = session512.process(crop512, threshold_multiplier=3.0)"
   ]
  },
  {
   "cell_type": "code",
   "execution_count": 4,
   "id": "61b60b23-b7cc-4a1b-925a-e08e47507ba7",
   "metadata": {},
   "outputs": [],
   "source": [
    "rates = session519.data['rates']\n",
    "kins = session519.data['angles']"
   ]
  },
  {
   "cell_type": "code",
   "execution_count": 5,
   "id": "b6ad72f0-d152-4b42-8203-a01ba80cf5b5",
   "metadata": {},
   "outputs": [],
   "source": [
    "def format_data(x, y, N=10):\n",
    "    stitch_x = np.ones((1, x.shape[1]))*-1\n",
    "    stitch_y = np.ones((1, y.shape[1]))*-1\n",
    "\n",
    "    #this is borderline incomprehensible code, but this just returns an array\n",
    "    #that contains the indexes for splitting the data\n",
    "    stitch_idx = np.insert(np.unique(np.where(x==stitch_x)[0]), 0,-1)\n",
    "\n",
    "    x_list = []\n",
    "    y_list = []\n",
    "\n",
    "    x_output_list = []\n",
    "    y_output_list = []\n",
    "    for i in range(np.size(stitch_idx)-1):\n",
    "        x_list.append(x[stitch_idx[i]+1:stitch_idx[i+1], :])\n",
    "        y_list.append(y[stitch_idx[i]+1:stitch_idx[i+1], :])\n",
    "        \n",
    "    for j in range(len(x_list)):\n",
    "        x_ = x_list[j]\n",
    "        y_ = y_list[j]\n",
    "\n",
    "        print(x_.shape, y_.shape)\n",
    "\n",
    "        temp_x_list = []\n",
    "        temp_y_list = []\n",
    "        for i in range(np.size(x_, 0) -N):\n",
    "            temp = x_[i:i+N, :]\n",
    "            temp = temp.reshape((np.size(temp)))\n",
    "            temp_x_list.append(temp)\n",
    "            if y_.ndim == 2:\n",
    "                temp_y_list.append(y[i+N-1, :])\n",
    "            elif y_.ndim == 1:\n",
    "                temp_y_list.append(y[i+N-1])\n",
    "\n",
    "            x_output_list.append(np.asarray(temp_x_list))\n",
    "            y_output_list.append(np.asarray(temp_y_list))\n",
    "\n",
    "    return np.vstack(x_output_list), np.vstack(y_output_list)\n",
    "        \n",
    "        \n",
    "\n",
    "\n"
   ]
  },
  {
   "cell_type": "code",
   "execution_count": 16,
   "id": "a5dddbe0-a2e0-47f2-a7f0-6576edc6f202",
   "metadata": {},
   "outputs": [],
   "source": [
    "f_rates, f_kins = format_data(rates, kins)"
   ]
  },
  {
   "cell_type": "code",
   "execution_count": 14,
   "id": "591593b1-bef6-43fc-bf08-75c7c9be9dda",
   "metadata": {},
   "outputs": [
    {
     "ename": "AttributeError",
     "evalue": "'list' object has no attribute 'shape'",
     "output_type": "error",
     "traceback": [
      "\u001b[0;31m---------------------------------------------------------------------------\u001b[0m",
      "\u001b[0;31mAttributeError\u001b[0m                            Traceback (most recent call last)",
      "\u001b[0;32m<ipython-input-14-67bda9749c8e>\u001b[0m in \u001b[0;36m<module>\u001b[0;34m\u001b[0m\n\u001b[0;32m----> 1\u001b[0;31m \u001b[0mf_rates\u001b[0m\u001b[0;34m.\u001b[0m\u001b[0mshape\u001b[0m\u001b[0;34m\u001b[0m\u001b[0m\n\u001b[0m",
      "\u001b[0;31mAttributeError\u001b[0m: 'list' object has no attribute 'shape'"
     ]
    }
   ],
   "source": [
    "f_rates.shape"
   ]
  },
  {
   "cell_type": "code",
   "execution_count": 8,
   "id": "8e249b6e-d050-429d-a9a1-c51722d4d8a9",
   "metadata": {},
   "outputs": [],
   "source": [
    "stitch_x = np.ones((1, rates.shape[1]))*-1  "
   ]
  },
  {
   "cell_type": "code",
   "execution_count": 6,
   "id": "7c12e221-27eb-4d08-ba3b-9dad30811525",
   "metadata": {},
   "outputs": [],
   "source": [
    "rates_cut = rates[1000:,:]\n",
    "kins_cut = kins[1000:,:]"
   ]
  },
  {
   "cell_type": "code",
   "execution_count": 22,
   "id": "aa0b82bd-ca84-45bd-82b8-9a2a629f1f1c",
   "metadata": {},
   "outputs": [],
   "source": [
    "stitch_idx = np.insert(np.unique(np.where(rates_cut==stitch_x)[0]),0,-1)"
   ]
  },
  {
   "cell_type": "code",
   "execution_count": 18,
   "id": "9b96c7e0-47ca-4ef3-aec5-38364a425b3c",
   "metadata": {},
   "outputs": [
    {
     "data": {
      "text/plain": [
       "6"
      ]
     },
     "execution_count": 18,
     "metadata": {},
     "output_type": "execute_result"
    }
   ],
   "source": [
    "np.size(stitch_idx)"
   ]
  },
  {
   "cell_type": "code",
   "execution_count": 23,
   "id": "d1806fef-3337-4e88-afeb-0eff2f306568",
   "metadata": {},
   "outputs": [],
   "source": [
    "x_list = []\n",
    "y_list = []\n",
    "\n",
    "for i in range(np.size(stitch_idx)-1):\n",
    "    x_list.append(rates_cut[stitch_idx[i]+1:stitch_idx[i+1], :])\n",
    "    y_list.append(kins_cut[stitch_idx[i]+1:stitch_idx[i+1],:])\n",
    "    "
   ]
  },
  {
   "cell_type": "code",
   "execution_count": null,
   "id": "fb04490d-10bd-4377-8a45-021b29d477a6",
   "metadata": {},
   "outputs": [],
   "source": [
    "for j in range(len(x_list)):\n",
    "    x_ = x_list[j]\n",
    "    y_ = y_list[j]\n",
    "    \n",
    "    temp_x_list=[]\n",
    "    temp_y_list=[]\n",
    "    \n",
    "    for i in range(np.size(x_, 0) - 10):\n",
    "        print(x_.shape)"
   ]
  },
  {
   "cell_type": "code",
   "execution_count": null,
   "id": "83d87394-ba61-4b5b-b263-65cd9f4eb41e",
   "metadata": {},
   "outputs": [
    {
     "name": "stdout",
     "output_type": "stream",
     "text": [
      "(1601, 32) (1601, 7)\n",
      "(3422, 32) (3422, 7)\n"
     ]
    }
   ],
   "source": [
    "fx, fy = format_data(rates, kins)"
   ]
  },
  {
   "cell_type": "code",
   "execution_count": 57,
   "id": "23cbb3fa-9c10-4a38-9de1-053a34ed5d00",
   "metadata": {},
   "outputs": [
    {
     "data": {
      "text/plain": [
       "array([[200., 180., 160., ..., 120.,  80.,  80.],\n",
       "       [200., 180., 160., ..., 120.,  80.,  80.],\n",
       "       [120., 100., 140., ..., 140., 100., 140.],\n",
       "       ...,\n",
       "       [240., 220., 240., ...,   0.,  20.,   0.],\n",
       "       [240., 260., 260., ...,  60.,  60.,  60.],\n",
       "       [100., 160., 140., ..., 100.,  80., 100.]])"
      ]
     },
     "execution_count": 57,
     "metadata": {},
     "output_type": "execute_result"
    }
   ],
   "source": [
    "fx[0:100,:]"
   ]
  },
  {
   "cell_type": "code",
   "execution_count": 12,
   "id": "6f8167dc-a64d-41f5-96cb-4a4c907b66bc",
   "metadata": {},
   "outputs": [
    {
     "data": {
      "text/plain": [
       "24414.0625"
      ]
     },
     "execution_count": 12,
     "metadata": {},
     "output_type": "execute_result"
    }
   ],
   "source": [
    "session519.data['rates_fs']"
   ]
  },
  {
   "cell_type": "code",
   "execution_count": null,
   "id": "f8b90359-f6b4-4385-ab09-891b10271e0d",
   "metadata": {},
   "outputs": [],
   "source": [
    "testone = session519.kin_data[0]['coords']\n",
    "testtwo = session519.kin_data[1]['coords']"
   ]
  },
  {
   "cell_type": "code",
   "execution_count": null,
   "id": "06dc71e4-5e2e-445f-86b8-84e794dc2d5e",
   "metadata": {},
   "outputs": [],
   "source": [
    "testone.shape"
   ]
  },
  {
   "cell_type": "code",
   "execution_count": null,
   "id": "0633eca2-3697-4441-819f-80d3e0d7260c",
   "metadata": {},
   "outputs": [],
   "source": [
    "love = np.ones((1, testone.shape[1], testone.shape[2])) * -1"
   ]
  },
  {
   "cell_type": "code",
   "execution_count": null,
   "id": "dd844ba7-5500-4160-b061-57b997631ee6",
   "metadata": {},
   "outputs": [],
   "source": [
    "np.vstack((testone, love))"
   ]
  },
  {
   "cell_type": "code",
   "execution_count": null,
   "id": "4156abdb-f755-43d0-94e3-8ff47c5dcb82",
   "metadata": {},
   "outputs": [],
   "source": [
    "rate.shape"
   ]
  },
  {
   "cell_type": "code",
   "execution_count": null,
   "id": "84a18433-34e6-49bb-8911-30c55fad056f",
   "metadata": {},
   "outputs": [],
   "source": [
    "stitch_break = np.ones((1, rate.shape[1])) * -1"
   ]
  },
  {
   "cell_type": "code",
   "execution_count": null,
   "id": "9d30f87e-0d79-4272-9852-85315928d49d",
   "metadata": {},
   "outputs": [],
   "source": [
    "np.vstack((rate, stitch_break))"
   ]
  },
  {
   "cell_type": "code",
   "execution_count": null,
   "id": "028f10ac-b2bd-4334-8829-7f07aa3a1f87",
   "metadata": {},
   "outputs": [],
   "source": []
  },
  {
   "cell_type": "code",
   "execution_count": null,
   "id": "e1418589-bee7-445c-8208-ab075c228ebe",
   "metadata": {},
   "outputs": [],
   "source": [
    "h, vaf, xtest, ytest = session519.decode_angles()"
   ]
  },
  {
   "cell_type": "code",
   "execution_count": null,
   "id": "52ce25f5-811d-472c-93cb-6a1cfcb328d6",
   "metadata": {},
   "outputs": [],
   "source": [
    "np.average(vaf,axis=1)"
   ]
  },
  {
   "cell_type": "code",
   "execution_count": null,
   "id": "061ce7c0-5799-426a-a9f1-821786c01ea3",
   "metadata": {},
   "outputs": [],
   "source": [
    "plot_wiener_filter_predic(xtest, ytest[:,1], h[:,1])"
   ]
  },
  {
   "cell_type": "code",
   "execution_count": null,
   "id": "21ce430f-a404-47d0-9dcb-e35a028de8f6",
   "metadata": {},
   "outputs": [],
   "source": [
    "temp = session519.get_gait_indices()"
   ]
  },
  {
   "cell_type": "code",
   "execution_count": null,
   "id": "676a8d13-0518-4001-92ec-2bf1fc5c6c72",
   "metadata": {},
   "outputs": [],
   "source": [
    "session519.avg_gait_samples"
   ]
  },
  {
   "cell_type": "code",
   "execution_count": null,
   "id": "f7165716-634b-4f3b-b8d6-56604cdeb97c",
   "metadata": {},
   "outputs": [],
   "source": [
    "rate_gait, kin_gait = session519.divide_into_gaits(rate, kin)"
   ]
  },
  {
   "cell_type": "code",
   "execution_count": null,
   "id": "390fcf1d-d693-497e-ba42-2b162586cec1",
   "metadata": {},
   "outputs": [],
   "source": [
    "df = session519.neuron_tuning(rate_gait)"
   ]
  },
  {
   "cell_type": "code",
   "execution_count": null,
   "id": "aae5cfb9-e66e-4e2d-bf27-2cda6bb8343a",
   "metadata": {},
   "outputs": [],
   "source": [
    "plot_raster(df)"
   ]
  },
  {
   "cell_type": "code",
   "execution_count": null,
   "id": "1943ce00-0fec-4c64-8bec-912aefe979cb",
   "metadata": {},
   "outputs": [],
   "source": [
    "rates, kins = session510.stitch_data(session510.rate_list, session510.angle_list)"
   ]
  },
  {
   "cell_type": "code",
   "execution_count": null,
   "id": "5f382174-62a6-44f8-acf3-e9049aabe013",
   "metadata": {},
   "outputs": [],
   "source": [
    "session510.get_gait_indices()"
   ]
  },
  {
   "cell_type": "code",
   "execution_count": null,
   "id": "ae80aada-8ba0-46e4-a4f5-894a2cf16f14",
   "metadata": {},
   "outputs": [],
   "source": [
    "X_gait, Y_gait = session510.divide_into_gaits(rates, kins)"
   ]
  },
  {
   "cell_type": "code",
   "execution_count": null,
   "id": "f1dd593b-8647-4b61-9448-cd1ff3b5d6ab",
   "metadata": {},
   "outputs": [],
   "source": [
    "np.array(X_gait).shape, np.array(Y_gait).shape"
   ]
  },
  {
   "cell_type": "code",
   "execution_count": null,
   "id": "e55ac475-9315-4d15-a53a-7cc79e1b3d94",
   "metadata": {},
   "outputs": [],
   "source": [
    "session510.neuron_tuning(X_gait)"
   ]
  },
  {
   "cell_type": "code",
   "execution_count": null,
   "id": "b624fa5a-6c5f-4660-8ed2-667696525315",
   "metadata": {},
   "outputs": [],
   "source": [
    "df = session510.norm_sorted_neurons"
   ]
  },
  {
   "cell_type": "code",
   "execution_count": null,
   "id": "36da57f8-d6b3-47e7-a64c-6f0f69671399",
   "metadata": {},
   "outputs": [],
   "source": [
    "df.columns"
   ]
  },
  {
   "cell_type": "code",
   "execution_count": null,
   "id": "e18d4ba3-eb47-4d5b-86b5-f6c5d6fa5f1c",
   "metadata": {},
   "outputs": [],
   "source": [
    "plot_raster(session510.norm_sorted_neurons)"
   ]
  },
  {
   "cell_type": "code",
   "execution_count": null,
   "id": "2e10e27e-1141-4d70-b02b-6723d91fe55f",
   "metadata": {},
   "outputs": [],
   "source": [
    "rates_pca_3, pca_output = apply_PCA(rates.T, 3)"
   ]
  },
  {
   "cell_type": "code",
   "execution_count": null,
   "id": "8b99aeed-1ab8-4075-badc-007f49b63d74",
   "metadata": {},
   "outputs": [],
   "source": [
    "rates_pca_3 = rates_pca_3.T\n",
    "print(rates_pca_3.shape)"
   ]
  },
  {
   "cell_type": "code",
   "execution_count": null,
   "id": "a61a11f6-f7f9-4dc1-8bd8-1b1a70a32b92",
   "metadata": {},
   "outputs": [],
   "source": [
    "gait_rates_3, nada = session.divide_into_gaits(rates_pca_3, angles)"
   ]
  },
  {
   "cell_type": "code",
   "execution_count": null,
   "id": "e167527b-bc24-46a7-bae3-dd910cdceb48",
   "metadata": {},
   "outputs": [],
   "source": [
    "gait_rates_3 = np.array(gait_rates_3)"
   ]
  },
  {
   "cell_type": "code",
   "execution_count": null,
   "id": "a56c25f0-b4aa-4ae4-8c79-f73ae77850f7",
   "metadata": {},
   "outputs": [],
   "source": [
    "avg_gait_rates_3 = np.average(gait_rates_3, axis=0)"
   ]
  },
  {
   "cell_type": "code",
   "execution_count": null,
   "id": "62b5f891-c715-483a-a276-4e958349b061",
   "metadata": {},
   "outputs": [],
   "source": [
    "np.vstack((avg_gait_rates_3.T, avg_gait_rates_3[:,0].T)).T.shape"
   ]
  },
  {
   "cell_type": "code",
   "execution_count": null,
   "id": "9a8697d2-4217-4aa3-860c-3b17376188cc",
   "metadata": {},
   "outputs": [],
   "source": [
    "gait_state_space(gait_rates_3)"
   ]
  },
  {
   "cell_type": "code",
   "execution_count": null,
   "id": "fd3520af-3334-4b03-a689-b1b72ef4a22a",
   "metadata": {},
   "outputs": [],
   "source": [
    "rates_PCA.shape"
   ]
  },
  {
   "cell_type": "code",
   "execution_count": null,
   "id": "9af5e840-139b-4a31-8eb1-19a652499153",
   "metadata": {},
   "outputs": [],
   "source": [
    "fig, ax = plt.subplots()\n",
    "ax.plot(pca_output.explained_variance_ratio_)"
   ]
  },
  {
   "cell_type": "code",
   "execution_count": null,
   "id": "21640ec9-15d1-42db-9a92-4a269b64d4aa",
   "metadata": {},
   "outputs": [],
   "source": [
    "ret = session.process_toe_height()"
   ]
  },
  {
   "cell_type": "code",
   "execution_count": null,
   "id": "fd06c100-a2dd-4c58-bb46-f89db9a0a5a8",
   "metadata": {},
   "outputs": [],
   "source": [
    "h_toe, vaf_toe, x_toe, y_toe = session.decode_toe_height()"
   ]
  },
  {
   "cell_type": "code",
   "execution_count": null,
   "id": "bdcc5286-3b8d-446d-b039-a33fe18f25f1",
   "metadata": {},
   "outputs": [],
   "source": [
    "predic_y_toe = test_wiener_filter(x_toe, h_toe)\n",
    "print(vaf(y_toe, predic_y_toe))\n",
    "fig1 = plt.figure()\n",
    "ax1=fig1.add_subplot(111)\n",
    "ax1.plot(y_toe)\n",
    "ax1.plot(predic_y_toe)"
   ]
  },
  {
   "cell_type": "code",
   "execution_count": null,
   "id": "ea7c8de3-9124-468d-ac1a-975bc340ae9b",
   "metadata": {},
   "outputs": [],
   "source": [
    "session.divide_into_gaits()"
   ]
  },
  {
   "cell_type": "code",
   "execution_count": null,
   "id": "204b0cb8-81cf-4222-a38c-24e9145dc06a",
   "metadata": {},
   "outputs": [],
   "source": [
    "ret = session.neuron_tuning()"
   ]
  },
  {
   "cell_type": "code",
   "execution_count": null,
   "id": "3416aac5-a814-4259-a3fb-db1c11444a51",
   "metadata": {},
   "outputs": [],
   "source": [
    "raster(ret)"
   ]
  },
  {
   "cell_type": "code",
   "execution_count": null,
   "id": "fdd9ea71-323c-482e-b513-900289663953",
   "metadata": {},
   "outputs": [],
   "source": [
    "avg_gait_array.shape"
   ]
  },
  {
   "cell_type": "code",
   "execution_count": null,
   "id": "34a46fd6-c29e-48ca-8f92-713958ee8f51",
   "metadata": {},
   "outputs": [],
   "source": [
    "np.sort(np.argmax(avg_gait_array, axis=1))"
   ]
  },
  {
   "cell_type": "code",
   "execution_count": null,
   "id": "2bb2ed8c-1dc1-4503-8a74-b2118f9c5a9a",
   "metadata": {},
   "outputs": [],
   "source": [
    "h, vaffy, test_x, test_y = session.decode_angles()"
   ]
  },
  {
   "cell_type": "code",
   "execution_count": null,
   "id": "50a08ecc-3008-4cc4-b252-479bd5219f69",
   "metadata": {},
   "outputs": [],
   "source": [
    "avg_vaf = np.average(vaffy, axis=1)\n",
    "predic_y = test_wiener_filter(test_x, h)\n",
    "print(avg_vaf)"
   ]
  },
  {
   "cell_type": "code",
   "execution_count": null,
   "id": "b0e08009-adf7-46e1-ae10-6c0a802f2db7",
   "metadata": {},
   "outputs": [],
   "source": [
    "fig0 = plt.figure()\n",
    "ax0=fig0.add_subplot(111)\n",
    "ax0.plot(test_y[:,3])\n",
    "ax0.plot(predic_y[:,3])\n",
    "\n",
    "print(vaf(test_y[:,3], predic_y[:,3]))"
   ]
  },
  {
   "cell_type": "code",
   "execution_count": null,
   "id": "b02428bc-e977-4885-a05a-e85f897369d0",
   "metadata": {},
   "outputs": [],
   "source": [
    "session.divide_into_gaits()"
   ]
  },
  {
   "cell_type": "code",
   "execution_count": null,
   "id": "859eaa35-64a7-46db-9d51-5b2d6d4668b0",
   "metadata": {},
   "outputs": [],
   "source": [
    "np.array(session.rate_gait).shape"
   ]
  },
  {
   "cell_type": "code",
   "execution_count": null,
   "id": "bcde9ada-56ca-4cee-ab6b-44a4ee62af84",
   "metadata": {},
   "outputs": [],
   "source": [
    "len(session.angle_gait)"
   ]
  },
  {
   "cell_type": "code",
   "execution_count": null,
   "id": "neutral-individual",
   "metadata": {},
   "outputs": [],
   "source": [
    "crop1 = (5,180)\n",
    "crop2 = (31,227)\n",
    "crop3 = (5,200)\n",
    "crop4 = (5,150)\n",
    "\n",
    "crop_list = []\n",
    "crop_list.extend((crop1, crop2, crop3, crop4))"
   ]
  },
  {
   "cell_type": "code",
   "execution_count": null,
   "id": "breathing-jason",
   "metadata": {},
   "outputs": [],
   "source": [
    "sess1 = CortProcessor('/home/diya/Documents/rat-fes/data/rat-t/session1')"
   ]
  },
  {
   "cell_type": "code",
   "execution_count": null,
   "id": "sticky-newspaper",
   "metadata": {},
   "outputs": [],
   "source": [
    "rates, kins = sess1.process(crop_list)"
   ]
  },
  {
   "cell_type": "code",
   "execution_count": null,
   "id": "classified-radical",
   "metadata": {},
   "outputs": [],
   "source": [
    "a, b, c, d = sess1.linear_decoder(rates,kins)"
   ]
  },
  {
   "cell_type": "code",
   "execution_count": null,
   "id": "subsequent-jenny",
   "metadata": {},
   "outputs": [],
   "source": [
    "np.average(b, axis=1)"
   ]
  },
  {
   "cell_type": "code",
   "execution_count": null,
   "id": "separated-delay",
   "metadata": {},
   "outputs": [],
   "source": [
    "path = '/home/diya/Documents/rat-fes/data/rat-annie/5-6-22/annie2-220506-133311/live_videos'"
   ]
  },
  {
   "cell_type": "code",
   "execution_count": null,
   "id": "handmade-initial",
   "metadata": {},
   "outputs": [],
   "source": [
    "for file_name in os.listdir(path):\n",
    "    if file_name.endswith('.npy'):\n",
    "        print(file_name)\n",
    "    \n"
   ]
  },
  {
   "cell_type": "code",
   "execution_count": null,
   "id": "opening-forth",
   "metadata": {},
   "outputs": [],
   "source": [
    "file_name.split('-')"
   ]
  },
  {
   "cell_type": "code",
   "execution_count": null,
   "id": "faced-nickname",
   "metadata": {},
   "outputs": [],
   "source": []
  }
 ],
 "metadata": {
  "kernelspec": {
   "display_name": "Python 3",
   "language": "python",
   "name": "python3"
  },
  "language_info": {
   "codemirror_mode": {
    "name": "ipython",
    "version": 3
   },
   "file_extension": ".py",
   "mimetype": "text/x-python",
   "name": "python",
   "nbconvert_exporter": "python",
   "pygments_lexer": "ipython3",
   "version": "3.7.0"
  },
  "toc-autonumbering": true
 },
 "nbformat": 4,
 "nbformat_minor": 5
}
