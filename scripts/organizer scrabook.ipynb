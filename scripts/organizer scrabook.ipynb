{
 "cells": [
  {
   "cell_type": "code",
   "execution_count": 1,
   "id": "d724d71d-cd20-4a7a-9fa1-bb96023581b9",
   "metadata": {},
   "outputs": [],
   "source": [
    "%matplotlib widget\n",
    "%load_ext autoreload\n",
    "%autoreload 2"
   ]
  },
  {
   "cell_type": "code",
   "execution_count": 2,
   "id": "6c8fc094-6d89-41ff-9c3b-88fcc6644583",
   "metadata": {},
   "outputs": [],
   "source": [
    "from src.folder_handler import *\n",
    "from src.cort_processor import *\n",
    "from src.tdt_support import *"
   ]
  },
  {
   "cell_type": "code",
   "execution_count": 3,
   "id": "d3fcac99",
   "metadata": {},
   "outputs": [],
   "source": [
    "crop1 = (5,180)\n",
    "crop2 = (31,227)\n",
    "crop3 = (5,200)\n",
    "crop4 = (5,150)\n",
    "\n",
    "crop_list = []\n",
    "crop_list.extend((crop1, crop2, crop3, crop4))"
   ]
  },
  {
   "cell_type": "code",
   "execution_count": 4,
   "id": "20877e8d-3e36-422a-a7d2-7b866c5724a3",
   "metadata": {},
   "outputs": [
    {
     "name": "stdout",
     "output_type": "stream",
     "text": [
      "read from t=0s to t=209.21s\n",
      "read from t=0s to t=242.15s\n",
      "read from t=0s to t=206.37s\n",
      "read from t=0s to t=157.26s\n"
     ]
    }
   ],
   "source": [
    "sess1 = CortProcessor('/home/diya/Documents/rat-fes/data/rat-t/session1')"
   ]
  },
  {
   "cell_type": "code",
   "execution_count": 5,
   "id": "d5fe8d07-ec0c-4314-b7e3-cea14b26a45c",
   "metadata": {},
   "outputs": [],
   "source": [
    "rates, kins = sess1.process(crop_list)"
   ]
  },
  {
   "cell_type": "code",
   "execution_count": 7,
   "id": "c2f5dff0",
   "metadata": {},
   "outputs": [],
   "source": [
    "a, b, c, d = sess1.linear_decoder(rates,kins)"
   ]
  },
  {
   "cell_type": "code",
   "execution_count": 13,
   "id": "91c78587-07b9-4f90-a030-e0b98131411f",
   "metadata": {},
   "outputs": [
    {
     "data": {
      "text/plain": [
       "array([0.11477234, 0.44101014, 0.22976198, 0.4498272 , 0.34468772,\n",
       "       0.27520053, 0.31955682])"
      ]
     },
     "execution_count": 13,
     "metadata": {},
     "output_type": "execute_result"
    }
   ],
   "source": [
    "np.average(b, axis=1)"
   ]
  },
  {
   "cell_type": "code",
   "execution_count": null,
   "id": "167d71e7-35ff-41ae-95fe-a31654d7feed",
   "metadata": {},
   "outputs": [],
   "source": []
  }
 ],
 "metadata": {
  "kernelspec": {
   "display_name": "Python 3",
   "language": "python",
   "name": "python3"
  },
  "language_info": {
   "codemirror_mode": {
    "name": "ipython",
    "version": 3
   },
   "file_extension": ".py",
   "mimetype": "text/x-python",
   "name": "python",
   "nbconvert_exporter": "python",
   "pygments_lexer": "ipython3",
   "version": "3.7.0"
  }
 },
 "nbformat": 4,
 "nbformat_minor": 5
}
