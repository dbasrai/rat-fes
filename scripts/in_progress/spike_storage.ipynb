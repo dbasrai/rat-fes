{
 "cells": [
  {
   "cell_type": "code",
   "execution_count": 1,
   "id": "1ec0cd13-c63a-47bb-b275-5911df4cb309",
   "metadata": {},
   "outputs": [],
   "source": [
    "import matplotlib.pyplot as plt\n",
    "import numpy as np\n",
    "import scipy.io as sio\n",
    "import math"
   ]
  },
  {
   "cell_type": "code",
   "execution_count": null,
   "id": "5a426daa-8bec-432c-9ffc-02e5d673af5d",
   "metadata": {},
   "outputs": [],
   "source": [
    "%matplotlib \n",
    "\n",
    "\n",
    "\n",
    "# these values will be read from Binner\n",
    "bits_per_bin = 8\n",
    "sort_codes = 1\n",
    "brightness = 1\n",
    "###\n",
    "numNeurons = 16\n",
    "numNeuronsSlice = (numNeurons * 10) + 1\n",
    "mat = sio.loadmat(r'C:\\Users\\Diya\\Documents\\MATLAB\\H_matrix.mat')\n",
    "H_matrix = mat['H_matrix']\n",
    "H_matrix = H_matrix[0:numNeuronsSlice, :]\n",
    "###\n",
    "input_data = np.empty((1, numNeurons))\n",
    "predicSignal = np.empty((1,5))\n",
    "\n",
    "\n",
    "def count_mapper(values):\n",
    "\n",
    "    byte_packet = np.array(values, dtype='<u4').view(np.uint8)\n",
    "    \n",
    "    # convert to bits\n",
    "    bits_packet = np.unpackbits(byte_packet, bitorder='little')\n",
    " \n",
    "    # organize by bits_per_bin\n",
    "    shaped_bits = np.reshape(bits_packet, (-1, bits_per_bin))\n",
    "\n",
    "    # make our own padding due to packbits not handling endian padding\n",
    "    if shaped_bits.shape[1] < 8:\n",
    "        padding = np.zeros((shaped_bits.shape[0], 8 - bits_per_bin), dtype=np.uint8)    \n",
    "        shaped_bits = np.hstack((shaped_bits, padding))\n",
    "    \n",
    "    # compress back into sort codes\n",
    "    counts = np.packbits(shaped_bits, bitorder='little').astype(np.uint32)\n",
    "    result = np.reshape(counts, (numNeurons, 1))\n",
    "    return result.T\n",
    "\n",
    "def DuplicateAndShift(spikes,numlags):\n",
    "    numpts, Nin = np.shape(spikes);\n",
    "    DS_spikes = np.zeros((numpts,Nin*numlags));\n",
    "    \n",
    "\n",
    "    for i in range(Nin*numlags):\n",
    "        n = math.ceil((i+1)/numlags);\n",
    "        lag = i%numlags;\n",
    "        prepend = np.zeros((lag+1));\n",
    "        spike_slice = spikes[0:(-1-lag), n-1]\n",
    "        DS_spikes[:,i] = np.hstack((prepend, spike_slice));\n",
    "\n",
    "    return DS_spikes\n",
    "\n",
    "class Always:   #StateID = 0\n",
    "\n",
    "    def s_Mode_recprev():\n",
    "        p_State.setTimeout(2, GetGlobals)\n",
    "\n",
    "    def s_Mode_idle():\n",
    "        global predicSignal\n",
    "        print(predicSignal)\n",
    "        plt.close('all')\n",
    "\n",
    "    def s_Brightness_change(value):\n",
    "        global brightness\n",
    "        brightness = value\n",
    "\n",
    "\n",
    "class GetGlobals:   #StateID = 1\n",
    "\n",
    "    def s_State_enter():\n",
    "        \n",
    "        # get bits per bin and number of sort codes from Binner\n",
    "        global bits_per_bin\n",
    "        bits_per_bin = int(syn.getParameterValue('Binner1','NumBits'))\n",
    "        global sort_codes\n",
    "        sort_codes = int(syn.getParameterValue('Binner1','NumSorts'))\n",
    "        #print('bits per bin', bits_per_bin, 'sort codes', sort_codes)\n",
    "        \n",
    "        p_State.setTimeout(.1, StartCounting)\n",
    "\n",
    "\n",
    "class StartCounting:   #StateID = 2\n",
    "\n",
    "    def s_Input1_rise():    # when Binner1 strobes\n",
    "        global input_data\n",
    "        global predicSignal\n",
    "        # read binned sort code counts\n",
    "        values = syn.getParameterValues('Binner1','out_Main')\n",
    "\n",
    "        # expand sort code counts\n",
    "        counts = count_mapper(values)\n",
    "        input_data = np.concatenate((input_data, counts))\n",
    "        if np.size(input_data, 0) > 10:\n",
    "            duplicated = DuplicateAndShift(input_data, 10)\n",
    "            size_array = np.size(duplicated, 0)\n",
    "            bias = np.ones((size_array, 1))\n",
    "            concat = np.hstack((bias, duplicated))\n",
    "            output = np.dot(concat, H_matrix)\n",
    "            predicSignal = np.vstack((predicSignal, output[-1, :]))\n",
    "            print(predicSignal[-1,:])\n",
    "\n",
    "        # do something with the sorts/channels\n",
    "        #ChanTotal = sum(counts)\n",
    "        #GrandTotal = sum(ChanTotal)\n",
    "        #print(GrandTotal)\n",
    "        \n",
    "        #p_Param.AmpA_write(GrandTotal)\n",
    "        #p_Output.StimTrig.fire()\n",
    "        #print('1 count')\n",
    "        #print(input_data)\n",
    "\n",
    "\n",
    "        # plot heat map\n",
    "        #plt.cla()\n",
    "        #plt.imshow(\n",
    "                    #brightness * counts.T,\n",
    "                    #cmap='gray',\n",
    "                    #vmin=0,\n",
    "                    #vmax=2**(bits_per_bin-1),\n",
    "                    #extent=[1,sort_codes,counts.shape[1],1],\n",
    "                    #aspect='auto'\n",
    "                    #)\n",
    "        #plt.xticks(np.arange(1, sort_codes+1))\n",
    "        #plt.yticks(np.arange(1, counts.shape[1]+1))\n",
    "        #plt.ylabel('channel')\n",
    "        #plt.xlabel('sort code')\n",
    "        #plt.show()\n",
    "\n"
   ]
  },
  {
   "cell_type": "code",
   "execution_count": 2,
   "id": "2d8d1124-9852-4da0-a0cf-7452aa5b0fd8",
   "metadata": {},
   "outputs": [
    {
     "name": "stdout",
     "output_type": "stream",
     "text": [
      "[[0 0 0 0 0]]\n",
      "(1, 5)\n"
     ]
    }
   ],
   "source": [
    "array = np.array([[0,0,0,0,0]])\n",
    "print(array)\n",
    "print(array.shape)"
   ]
  },
  {
   "cell_type": "code",
   "execution_count": 3,
   "id": "2ef45142-9c17-480b-bf22-4888a4f2335f",
   "metadata": {},
   "outputs": [
    {
     "name": "stdout",
     "output_type": "stream",
     "text": [
      "[[0 0 0 0 0 0]\n",
      " [1 2 3 4 5 6]]\n"
     ]
    }
   ],
   "source": [
    "array1 = np.array([[0,0,0,0,0,0]])\n",
    "array2 = np.array([[1,2,3,4,5,6]])\n",
    "array3 = np.concatenate((array1,array2))\n",
    "print(array3)"
   ]
  },
  {
   "cell_type": "code",
   "execution_count": 4,
   "id": "83b90396-fb0c-4d79-8cbb-0d20185fb55e",
   "metadata": {},
   "outputs": [
    {
     "name": "stdout",
     "output_type": "stream",
     "text": [
      "[[0. 0. 0. 0. 0. 0. 0. 0. 0. 0. 0. 0. 0. 0. 0. 0. 0. 0. 0. 0. 0. 0. 0. 0.\n",
      "  0. 0. 0. 0. 0. 0. 0. 0.]\n",
      " [0. 0. 0. 0. 0. 0. 0. 0. 0. 0. 0. 0. 0. 0. 0. 0. 0. 0. 0. 0. 0. 0. 0. 0.\n",
      "  0. 0. 0. 0. 0. 0. 0. 0.]\n",
      " [0. 0. 0. 0. 0. 0. 0. 0. 0. 0. 0. 0. 0. 0. 0. 0. 0. 0. 0. 0. 0. 0. 0. 0.\n",
      "  0. 0. 0. 0. 0. 0. 0. 0.]\n",
      " [0. 0. 0. 0. 0. 0. 0. 0. 0. 0. 0. 0. 0. 0. 0. 0. 0. 0. 0. 0. 0. 0. 0. 0.\n",
      "  0. 0. 0. 0. 0. 0. 0. 0.]\n",
      " [0. 0. 0. 0. 0. 0. 0. 0. 0. 0. 0. 0. 0. 0. 0. 0. 0. 0. 0. 0. 0. 0. 0. 0.\n",
      "  0. 0. 0. 0. 0. 0. 0. 0.]\n",
      " [0. 0. 0. 0. 0. 0. 0. 0. 0. 0. 0. 0. 0. 0. 0. 0. 0. 0. 0. 0. 0. 0. 0. 0.\n",
      "  0. 0. 0. 0. 0. 0. 0. 0.]\n",
      " [0. 0. 0. 0. 0. 0. 0. 0. 0. 0. 0. 0. 0. 0. 0. 0. 0. 0. 0. 0. 0. 0. 0. 0.\n",
      "  0. 0. 0. 0. 0. 0. 0. 0.]\n",
      " [0. 0. 0. 0. 0. 0. 0. 0. 0. 0. 0. 0. 0. 0. 0. 0. 0. 0. 0. 0. 0. 0. 0. 0.\n",
      "  0. 0. 0. 0. 0. 0. 0. 0.]\n",
      " [0. 0. 0. 0. 0. 0. 0. 0. 0. 0. 0. 0. 0. 0. 0. 0. 0. 0. 0. 0. 0. 0. 0. 0.\n",
      "  0. 0. 0. 0. 0. 0. 0. 0.]\n",
      " [0. 0. 0. 0. 0. 0. 0. 0. 0. 0. 0. 0. 0. 0. 0. 0. 0. 0. 0. 0. 0. 0. 0. 0.\n",
      "  0. 0. 0. 0. 0. 0. 0. 0.]]\n"
     ]
    }
   ],
   "source": [
    "dummyarray = np.zeros((10,32))\n",
    "print(dummyarray)"
   ]
  },
  {
   "cell_type": "code",
   "execution_count": 8,
   "id": "eb66bb8a-8300-4406-be90-e388fc5d822d",
   "metadata": {},
   "outputs": [
    {
     "name": "stdout",
     "output_type": "stream",
     "text": [
      "(1, 32)\n"
     ]
    }
   ],
   "source": [
    "insertion1 = np.array([[1,0,0,0,0,1,0,0,0,0,0,0,1,0,0,0,0,0,0,0,0,0,0,1,0,0,0,0,1,0,1,0]])\n",
    "insertion2 = np.array([[0,0,0,2,0,0,0,2,0,0,0,0,0,0,0,0,0,0,2,0,0,0,0,0,0,2,0,0,0,0,2,2]])\n",
    "insertion3 = np.array([[0,0,0,3,0,0,0,0,0,0,0,3,0,0,0,0,0,0,0,0,0,3,0,0,0,0,0,0,0,3,0,0]])\n",
    "insertion4 = np.array([[0,4,0,0,0,4,0,0,0,0,0,0,0,4,0,0,0,4,0,0,0,0,0,4,0,0,0,0,0,0,4,0]])\n",
    "insertion5 = np.array([[5,0,0,0,5,0,0,0,0,0,0,0,0,0,0,0,0,5,0,0,5,0,0,0,0,0,5,5,5,0,0,0]])\n",
    "print(insertion1.shape)"
   ]
  },
  {
   "cell_type": "code",
   "execution_count": 6,
   "id": "e9794cf4-ea0b-48b8-a548-30a86c322f23",
   "metadata": {},
   "outputs": [
    {
     "name": "stdout",
     "output_type": "stream",
     "text": [
      "[[0. 0. 0. 0. 0. 0. 0. 0. 0. 0. 0. 0. 0. 0. 0. 0. 0. 0. 0. 0. 0. 0. 0. 0.\n",
      "  0. 0. 0. 0. 0. 0. 0. 0.]\n",
      " [0. 0. 0. 0. 0. 0. 0. 0. 0. 0. 0. 0. 0. 0. 0. 0. 0. 0. 0. 0. 0. 0. 0. 0.\n",
      "  0. 0. 0. 0. 0. 0. 0. 0.]\n",
      " [0. 0. 0. 0. 0. 0. 0. 0. 0. 0. 0. 0. 0. 0. 0. 0. 0. 0. 0. 0. 0. 0. 0. 0.\n",
      "  0. 0. 0. 0. 0. 0. 0. 0.]\n",
      " [0. 0. 0. 0. 0. 0. 0. 0. 0. 0. 0. 0. 0. 0. 0. 0. 0. 0. 0. 0. 0. 0. 0. 0.\n",
      "  0. 0. 0. 0. 0. 0. 0. 0.]\n",
      " [0. 0. 0. 0. 0. 0. 0. 0. 0. 0. 0. 0. 0. 0. 0. 0. 0. 0. 0. 0. 0. 0. 0. 0.\n",
      "  0. 0. 0. 0. 0. 0. 0. 0.]\n",
      " [0. 0. 0. 0. 0. 0. 0. 0. 0. 0. 0. 0. 0. 0. 0. 0. 0. 0. 0. 0. 0. 0. 0. 0.\n",
      "  0. 0. 0. 0. 0. 0. 0. 0.]\n",
      " [0. 0. 0. 0. 0. 0. 0. 0. 0. 0. 0. 0. 0. 0. 0. 0. 0. 0. 0. 0. 0. 0. 0. 0.\n",
      "  0. 0. 0. 0. 0. 0. 0. 0.]\n",
      " [0. 0. 0. 0. 0. 0. 0. 0. 0. 0. 0. 0. 0. 0. 0. 0. 0. 0. 0. 0. 0. 0. 0. 0.\n",
      "  0. 0. 0. 0. 0. 0. 0. 0.]\n",
      " [0. 0. 0. 0. 0. 0. 0. 0. 0. 0. 0. 0. 0. 0. 0. 0. 0. 0. 0. 0. 0. 0. 0. 0.\n",
      "  0. 0. 0. 0. 0. 0. 0. 0.]\n",
      " [1. 0. 0. 0. 0. 1. 0. 0. 0. 0. 0. 0. 1. 0. 0. 0. 0. 0. 0. 0. 0. 0. 0. 1.\n",
      "  0. 0. 0. 0. 1. 0. 1. 0.]]\n",
      "[[0. 0. 0. 0. 0. 0. 0. 0. 0. 0. 0. 0. 0. 0. 0. 0. 0. 0. 0. 0. 0. 0. 0. 0.\n",
      "  0. 0. 0. 0. 0. 0. 0. 0.]\n",
      " [0. 0. 0. 0. 0. 0. 0. 0. 0. 0. 0. 0. 0. 0. 0. 0. 0. 0. 0. 0. 0. 0. 0. 0.\n",
      "  0. 0. 0. 0. 0. 0. 0. 0.]\n",
      " [0. 0. 0. 0. 0. 0. 0. 0. 0. 0. 0. 0. 0. 0. 0. 0. 0. 0. 0. 0. 0. 0. 0. 0.\n",
      "  0. 0. 0. 0. 0. 0. 0. 0.]\n",
      " [0. 0. 0. 0. 0. 0. 0. 0. 0. 0. 0. 0. 0. 0. 0. 0. 0. 0. 0. 0. 0. 0. 0. 0.\n",
      "  0. 0. 0. 0. 0. 0. 0. 0.]\n",
      " [0. 0. 0. 0. 0. 0. 0. 0. 0. 0. 0. 0. 0. 0. 0. 0. 0. 0. 0. 0. 0. 0. 0. 0.\n",
      "  0. 0. 0. 0. 0. 0. 0. 0.]\n",
      " [0. 0. 0. 0. 0. 0. 0. 0. 0. 0. 0. 0. 0. 0. 0. 0. 0. 0. 0. 0. 0. 0. 0. 0.\n",
      "  0. 0. 0. 0. 0. 0. 0. 0.]\n",
      " [0. 0. 0. 0. 0. 0. 0. 0. 0. 0. 0. 0. 0. 0. 0. 0. 0. 0. 0. 0. 0. 0. 0. 0.\n",
      "  0. 0. 0. 0. 0. 0. 0. 0.]\n",
      " [0. 0. 0. 0. 0. 0. 0. 0. 0. 0. 0. 0. 0. 0. 0. 0. 0. 0. 0. 0. 0. 0. 0. 0.\n",
      "  0. 0. 0. 0. 0. 0. 0. 0.]\n",
      " [1. 0. 0. 0. 0. 1. 0. 0. 0. 0. 0. 0. 1. 0. 0. 0. 0. 0. 0. 0. 0. 0. 0. 1.\n",
      "  0. 0. 0. 0. 1. 0. 1. 0.]\n",
      " [0. 0. 0. 2. 0. 0. 0. 2. 0. 0. 0. 0. 0. 0. 0. 0. 0. 0. 2. 0. 0. 0. 0. 0.\n",
      "  0. 2. 0. 0. 0. 0. 2. 2.]]\n",
      "[[0. 0. 0. 0. 0. 0. 0. 0. 0. 0. 0. 0. 0. 0. 0. 0. 0. 0. 0. 0. 0. 0. 0. 0.\n",
      "  0. 0. 0. 0. 0. 0. 0. 0.]\n",
      " [0. 0. 0. 0. 0. 0. 0. 0. 0. 0. 0. 0. 0. 0. 0. 0. 0. 0. 0. 0. 0. 0. 0. 0.\n",
      "  0. 0. 0. 0. 0. 0. 0. 0.]\n",
      " [0. 0. 0. 0. 0. 0. 0. 0. 0. 0. 0. 0. 0. 0. 0. 0. 0. 0. 0. 0. 0. 0. 0. 0.\n",
      "  0. 0. 0. 0. 0. 0. 0. 0.]\n",
      " [0. 0. 0. 0. 0. 0. 0. 0. 0. 0. 0. 0. 0. 0. 0. 0. 0. 0. 0. 0. 0. 0. 0. 0.\n",
      "  0. 0. 0. 0. 0. 0. 0. 0.]\n",
      " [0. 0. 0. 0. 0. 0. 0. 0. 0. 0. 0. 0. 0. 0. 0. 0. 0. 0. 0. 0. 0. 0. 0. 0.\n",
      "  0. 0. 0. 0. 0. 0. 0. 0.]\n",
      " [0. 0. 0. 0. 0. 0. 0. 0. 0. 0. 0. 0. 0. 0. 0. 0. 0. 0. 0. 0. 0. 0. 0. 0.\n",
      "  0. 0. 0. 0. 0. 0. 0. 0.]\n",
      " [0. 0. 0. 0. 0. 0. 0. 0. 0. 0. 0. 0. 0. 0. 0. 0. 0. 0. 0. 0. 0. 0. 0. 0.\n",
      "  0. 0. 0. 0. 0. 0. 0. 0.]\n",
      " [1. 0. 0. 0. 0. 1. 0. 0. 0. 0. 0. 0. 1. 0. 0. 0. 0. 0. 0. 0. 0. 0. 0. 1.\n",
      "  0. 0. 0. 0. 1. 0. 1. 0.]\n",
      " [0. 0. 0. 2. 0. 0. 0. 2. 0. 0. 0. 0. 0. 0. 0. 0. 0. 0. 2. 0. 0. 0. 0. 0.\n",
      "  0. 2. 0. 0. 0. 0. 2. 2.]\n",
      " [0. 0. 0. 3. 0. 0. 0. 0. 0. 0. 0. 3. 0. 0. 0. 0. 0. 0. 0. 0. 0. 3. 0. 0.\n",
      "  0. 0. 0. 0. 0. 3. 0. 0.]]\n",
      "[[0. 0. 0. 0. 0. 0. 0. 0. 0. 0. 0. 0. 0. 0. 0. 0. 0. 0. 0. 0. 0. 0. 0. 0.\n",
      "  0. 0. 0. 0. 0. 0. 0. 0.]\n",
      " [0. 0. 0. 0. 0. 0. 0. 0. 0. 0. 0. 0. 0. 0. 0. 0. 0. 0. 0. 0. 0. 0. 0. 0.\n",
      "  0. 0. 0. 0. 0. 0. 0. 0.]\n",
      " [0. 0. 0. 0. 0. 0. 0. 0. 0. 0. 0. 0. 0. 0. 0. 0. 0. 0. 0. 0. 0. 0. 0. 0.\n",
      "  0. 0. 0. 0. 0. 0. 0. 0.]\n",
      " [0. 0. 0. 0. 0. 0. 0. 0. 0. 0. 0. 0. 0. 0. 0. 0. 0. 0. 0. 0. 0. 0. 0. 0.\n",
      "  0. 0. 0. 0. 0. 0. 0. 0.]\n",
      " [0. 0. 0. 0. 0. 0. 0. 0. 0. 0. 0. 0. 0. 0. 0. 0. 0. 0. 0. 0. 0. 0. 0. 0.\n",
      "  0. 0. 0. 0. 0. 0. 0. 0.]\n",
      " [0. 0. 0. 0. 0. 0. 0. 0. 0. 0. 0. 0. 0. 0. 0. 0. 0. 0. 0. 0. 0. 0. 0. 0.\n",
      "  0. 0. 0. 0. 0. 0. 0. 0.]\n",
      " [1. 0. 0. 0. 0. 1. 0. 0. 0. 0. 0. 0. 1. 0. 0. 0. 0. 0. 0. 0. 0. 0. 0. 1.\n",
      "  0. 0. 0. 0. 1. 0. 1. 0.]\n",
      " [0. 0. 0. 2. 0. 0. 0. 2. 0. 0. 0. 0. 0. 0. 0. 0. 0. 0. 2. 0. 0. 0. 0. 0.\n",
      "  0. 2. 0. 0. 0. 0. 2. 2.]\n",
      " [0. 0. 0. 3. 0. 0. 0. 0. 0. 0. 0. 3. 0. 0. 0. 0. 0. 0. 0. 0. 0. 3. 0. 0.\n",
      "  0. 0. 0. 0. 0. 3. 0. 0.]\n",
      " [0. 4. 0. 0. 0. 4. 0. 0. 0. 0. 0. 0. 0. 4. 0. 0. 0. 4. 0. 0. 0. 0. 0. 4.\n",
      "  0. 0. 0. 0. 0. 0. 4. 0.]]\n",
      "[[0. 0. 0. 0. 0. 0. 0. 0. 0. 0. 0. 0. 0. 0. 0. 0. 0. 0. 0. 0. 0. 0. 0. 0.\n",
      "  0. 0. 0. 0. 0. 0. 0. 0.]\n",
      " [0. 0. 0. 0. 0. 0. 0. 0. 0. 0. 0. 0. 0. 0. 0. 0. 0. 0. 0. 0. 0. 0. 0. 0.\n",
      "  0. 0. 0. 0. 0. 0. 0. 0.]\n",
      " [0. 0. 0. 0. 0. 0. 0. 0. 0. 0. 0. 0. 0. 0. 0. 0. 0. 0. 0. 0. 0. 0. 0. 0.\n",
      "  0. 0. 0. 0. 0. 0. 0. 0.]\n",
      " [0. 0. 0. 0. 0. 0. 0. 0. 0. 0. 0. 0. 0. 0. 0. 0. 0. 0. 0. 0. 0. 0. 0. 0.\n",
      "  0. 0. 0. 0. 0. 0. 0. 0.]\n",
      " [0. 0. 0. 0. 0. 0. 0. 0. 0. 0. 0. 0. 0. 0. 0. 0. 0. 0. 0. 0. 0. 0. 0. 0.\n",
      "  0. 0. 0. 0. 0. 0. 0. 0.]\n",
      " [1. 0. 0. 0. 0. 1. 0. 0. 0. 0. 0. 0. 1. 0. 0. 0. 0. 0. 0. 0. 0. 0. 0. 1.\n",
      "  0. 0. 0. 0. 1. 0. 1. 0.]\n",
      " [0. 0. 0. 2. 0. 0. 0. 2. 0. 0. 0. 0. 0. 0. 0. 0. 0. 0. 2. 0. 0. 0. 0. 0.\n",
      "  0. 2. 0. 0. 0. 0. 2. 2.]\n",
      " [0. 0. 0. 3. 0. 0. 0. 0. 0. 0. 0. 3. 0. 0. 0. 0. 0. 0. 0. 0. 0. 3. 0. 0.\n",
      "  0. 0. 0. 0. 0. 3. 0. 0.]\n",
      " [0. 4. 0. 0. 0. 4. 0. 0. 0. 0. 0. 0. 0. 4. 0. 0. 0. 4. 0. 0. 0. 0. 0. 4.\n",
      "  0. 0. 0. 0. 0. 0. 4. 0.]\n",
      " [5. 0. 0. 0. 5. 0. 0. 0. 0. 0. 0. 0. 0. 0. 0. 0. 0. 5. 0. 0. 5. 0. 0. 0.\n",
      "  0. 0. 5. 5. 5. 0. 0. 0.]]\n"
     ]
    }
   ],
   "source": [
    "dummyarray = np.roll(dummyarray,-1,axis = 0)\n",
    "dummyarray[-1,:] = insertion1\n",
    "print(dummyarray)\n",
    "dummyarray = np.roll(dummyarray,-1,axis = 0)\n",
    "dummyarray[-1,:] = insertion2\n",
    "print(dummyarray)\n",
    "dummyarray = np.roll(dummyarray,-1,axis = 0)\n",
    "dummyarray[-1,:] = insertion3\n",
    "print(dummyarray)\n",
    "dummyarray = np.roll(dummyarray,-1,axis = 0)\n",
    "dummyarray[-1,:] = insertion4\n",
    "print(dummyarray)\n",
    "dummyarray = np.roll(dummyarray,-1,axis = 0)\n",
    "dummyarray[-1,:] = insertion5\n",
    "print(dummyarray)\n"
   ]
  },
  {
   "cell_type": "code",
   "execution_count": 8,
   "id": "73ba0001-a875-4be1-945c-2d326a9c39f0",
   "metadata": {},
   "outputs": [
    {
     "ename": "NameError",
     "evalue": "name 'a' is not defined",
     "output_type": "error",
     "traceback": [
      "\u001b[0;31m---------------------------------------------------------------------------\u001b[0m",
      "\u001b[0;31mNameError\u001b[0m                                 Traceback (most recent call last)",
      "\u001b[0;32m<ipython-input-8-5334f1e473c5>\u001b[0m in \u001b[0;36m<module>\u001b[0;34m\u001b[0m\n\u001b[0;32m----> 1\u001b[0;31m \u001b[0ma\u001b[0m \u001b[0;34m=\u001b[0m \u001b[0mnp\u001b[0m\u001b[0;34m.\u001b[0m\u001b[0mroll\u001b[0m\u001b[0;34m(\u001b[0m\u001b[0ma\u001b[0m\u001b[0;34m,\u001b[0m\u001b[0;34m-\u001b[0m\u001b[0;36m1\u001b[0m\u001b[0;34m,\u001b[0m\u001b[0maxis\u001b[0m \u001b[0;34m=\u001b[0m \u001b[0;36m0\u001b[0m\u001b[0;34m)\u001b[0m\u001b[0;34m\u001b[0m\u001b[0m\n\u001b[0m\u001b[1;32m      2\u001b[0m \u001b[0ma\u001b[0m\u001b[0;34m[\u001b[0m\u001b[0;34m-\u001b[0m\u001b[0;36m1\u001b[0m\u001b[0;34m,\u001b[0m\u001b[0;34m:\u001b[0m\u001b[0;34m]\u001b[0m \u001b[0;34m=\u001b[0m \u001b[0;36m0\u001b[0m\u001b[0;34m\u001b[0m\u001b[0m\n",
      "\u001b[0;31mNameError\u001b[0m: name 'a' is not defined"
     ]
    }
   ],
   "source": [
    "a = np.roll(a,-1,axis = 0)\n",
    "a[-1,:] = 0"
   ]
  },
  {
   "cell_type": "code",
   "execution_count": 9,
   "id": "6c4ba0cb-b8f2-4e88-920f-8bc71d8232a2",
   "metadata": {},
   "outputs": [
    {
     "ename": "NameError",
     "evalue": "name 'input_data' is not defined",
     "output_type": "error",
     "traceback": [
      "\u001b[0;31m---------------------------------------------------------------------------\u001b[0m",
      "\u001b[0;31mNameError\u001b[0m                                 Traceback (most recent call last)",
      "\u001b[0;32m<ipython-input-9-0635e5880aa1>\u001b[0m in \u001b[0;36m<module>\u001b[0;34m\u001b[0m\n\u001b[0;32m----> 1\u001b[0;31m \u001b[0;32mif\u001b[0m \u001b[0mnp\u001b[0m\u001b[0;34m.\u001b[0m\u001b[0msize\u001b[0m\u001b[0;34m(\u001b[0m\u001b[0minput_data\u001b[0m\u001b[0;34m,\u001b[0m \u001b[0;36m0\u001b[0m\u001b[0;34m)\u001b[0m \u001b[0;34m>\u001b[0m \u001b[0;36m10\u001b[0m\u001b[0;34m:\u001b[0m\u001b[0;34m\u001b[0m\u001b[0m\n\u001b[0m\u001b[1;32m      2\u001b[0m             \u001b[0mduplicated\u001b[0m \u001b[0;34m=\u001b[0m \u001b[0mDuplicateAndShift\u001b[0m\u001b[0;34m(\u001b[0m\u001b[0minput_data\u001b[0m\u001b[0;34m,\u001b[0m \u001b[0;36m10\u001b[0m\u001b[0;34m)\u001b[0m\u001b[0;34m\u001b[0m\u001b[0m\n\u001b[1;32m      3\u001b[0m             \u001b[0msize_array\u001b[0m \u001b[0;34m=\u001b[0m \u001b[0mnp\u001b[0m\u001b[0;34m.\u001b[0m\u001b[0msize\u001b[0m\u001b[0;34m(\u001b[0m\u001b[0mduplicated\u001b[0m\u001b[0;34m,\u001b[0m \u001b[0;36m0\u001b[0m\u001b[0;34m)\u001b[0m\u001b[0;34m\u001b[0m\u001b[0m\n\u001b[1;32m      4\u001b[0m             \u001b[0mbias\u001b[0m \u001b[0;34m=\u001b[0m \u001b[0mnp\u001b[0m\u001b[0;34m.\u001b[0m\u001b[0mones\u001b[0m\u001b[0;34m(\u001b[0m\u001b[0;34m(\u001b[0m\u001b[0msize_array\u001b[0m\u001b[0;34m,\u001b[0m \u001b[0;36m1\u001b[0m\u001b[0;34m)\u001b[0m\u001b[0;34m)\u001b[0m\u001b[0;34m\u001b[0m\u001b[0m\n\u001b[1;32m      5\u001b[0m             \u001b[0mconcat\u001b[0m \u001b[0;34m=\u001b[0m \u001b[0mnp\u001b[0m\u001b[0;34m.\u001b[0m\u001b[0mhstack\u001b[0m\u001b[0;34m(\u001b[0m\u001b[0;34m(\u001b[0m\u001b[0mbias\u001b[0m\u001b[0;34m,\u001b[0m \u001b[0mduplicated\u001b[0m\u001b[0;34m)\u001b[0m\u001b[0;34m)\u001b[0m\u001b[0;34m\u001b[0m\u001b[0m\n",
      "\u001b[0;31mNameError\u001b[0m: name 'input_data' is not defined"
     ]
    }
   ],
   "source": [
    "if np.size(input_data, 0) > 10:\n",
    "            duplicated = DuplicateAndShift(input_data, 10)\n",
    "            size_array = np.size(duplicated, 0)\n",
    "            bias = np.ones((size_array, 1))\n",
    "            concat = np.hstack((bias, duplicated))\n",
    "            output = np.dot(concat, H_matrix)\n",
    "            predicSignal = np.vstack((predicSignal, output[-1, :]))\n",
    "            print(predicSignal[-1,:])"
   ]
  },
  {
   "cell_type": "code",
   "execution_count": 10,
   "id": "5ce71d59-7f40-4369-87bf-cdcc07b3d6e8",
   "metadata": {},
   "outputs": [],
   "source": [
    "def DuplicateAndShift(spikes,numlags):\n",
    "    numpts, Nin = np.shape(spikes);\n",
    "    DS_spikes = np.zeros((numpts,Nin*numlags));\n",
    "    \n",
    "\n",
    "    for i in range(Nin*numlags):\n",
    "        n = math.ceil((i+1)/numlags);\n",
    "        lag = i%numlags;\n",
    "        prepend = np.zeros((lag+1));\n",
    "        spike_slice = spikes[0:(-1-lag), n-1]\n",
    "        DS_spikes[:,i] = np.hstack((prepend, spike_slice));\n",
    "\n",
    "    return DS_spikes"
   ]
  },
  {
   "cell_type": "code",
   "execution_count": 11,
   "id": "232377d6-dc7c-4e0c-84a9-0a36644b07d3",
   "metadata": {},
   "outputs": [],
   "source": [
    "duplicated = DuplicateAndShift(dummyarray, 10)"
   ]
  },
  {
   "cell_type": "code",
   "execution_count": 12,
   "id": "bde1f7db-a5e9-4d1d-969c-528581350869",
   "metadata": {},
   "outputs": [
    {
     "name": "stdout",
     "output_type": "stream",
     "text": [
      "(10, 32)\n",
      "(10, 320)\n"
     ]
    }
   ],
   "source": [
    "print(dummyarray.shape)\n",
    "print(duplicated.shape)"
   ]
  },
  {
   "cell_type": "code",
   "execution_count": 13,
   "id": "cc900195-84d6-4d71-9270-b8a995160db1",
   "metadata": {},
   "outputs": [
    {
     "name": "stdout",
     "output_type": "stream",
     "text": [
      "(10, 321)\n"
     ]
    }
   ],
   "source": [
    "size_array = np.size(duplicated, 0)\n",
    "bias = np.ones((size_array, 1))\n",
    "concat = np.hstack((bias, duplicated))\n",
    "\n",
    "print(concat.shape)"
   ]
  },
  {
   "cell_type": "code",
   "execution_count": null,
   "id": "02b13a94-d445-467a-9ea4-0bc03df89d87",
   "metadata": {},
   "outputs": [],
   "source": []
  },
  {
   "cell_type": "code",
   "execution_count": null,
   "id": "3b5a21a2-687a-4b3a-8d5c-4311751aa6ab",
   "metadata": {},
   "outputs": [],
   "source": []
  },
  {
   "cell_type": "code",
   "execution_count": null,
   "id": "9ee30798-e00f-4360-814c-39d2ebe4cf05",
   "metadata": {},
   "outputs": [],
   "source": []
  }
 ],
 "metadata": {
  "kernelspec": {
   "display_name": "Python 3",
   "language": "python",
   "name": "python3"
  },
  "language_info": {
   "codemirror_mode": {
    "name": "ipython",
    "version": 3
   },
   "file_extension": ".py",
   "mimetype": "text/x-python",
   "name": "python",
   "nbconvert_exporter": "python",
   "pygments_lexer": "ipython3",
   "version": "3.7.0"
  }
 },
 "nbformat": 4,
 "nbformat_minor": 5
}
