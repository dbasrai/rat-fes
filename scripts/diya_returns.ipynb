{
 "cells": [
  {
   "cell_type": "markdown",
   "id": "d12ccd42-c0af-4f93-988d-da6dca0b6b73",
   "metadata": {},
   "source": [
    "Notes to self:\n",
    "\n",
    "how to retrieve crop times\n",
    "should I incorporate first and last points?"
   ]
  },
  {
   "cell_type": "code",
   "execution_count": 2,
   "id": "a786e924-7900-4c59-9a15-3bb55d3c1c04",
   "metadata": {},
   "outputs": [],
   "source": [
    "%matplotlib widget\n",
    "%load_ext autoreload\n",
    "%autoreload 2\n",
    "from src.folder_handler import *\n",
    "from src.cort_processor import *\n",
    "from src.tdt_support import *\n",
    "from src.plotter import *\n",
    "from src.decoders import *\n",
    "import pickle\n",
    "import scipy as spicy\n",
    "import numpy as np\n",
    "import matplotlib.pyplot as plt\n",
    "from  matplotlib.colors import LinearSegmentedColormap\n",
    "from src.wiener_filter import *\n",
    "from matplotlib.pyplot import cm"
   ]
  },
  {
   "cell_type": "code",
   "execution_count": 3,
   "id": "d1f916d5-2adf-472d-9a4b-719b8a13b104",
   "metadata": {},
   "outputs": [
    {
     "name": "stdout",
     "output_type": "stream",
     "text": [
      "read from t=0s to t=186.82s\n",
      "read from t=0s to t=164.93s\n"
     ]
    }
   ],
   "source": [
    "session512 = CortProcessor('/home/grant/oobootoo/rat-fes/data/annie5-12')"
   ]
  },
  {
   "cell_type": "code",
   "execution_count": 4,
   "id": "880240e5-0494-48d8-9ac2-6d30a270d9fe",
   "metadata": {},
   "outputs": [
    {
     "data": {
      "text/plain": [
       "(array([[ 0.,  0.,  0., ...,  0.,  0.,  0.],\n",
       "        [ 0.,  0.,  0., ..., 20., 20.,  0.],\n",
       "        [ 0., 20., 20., ..., 20., 20., 20.],\n",
       "        ...,\n",
       "        [ 0.,  0.,  0., ..., 20., 40., 40.],\n",
       "        [40.,  0.,  0., ...,  0.,  0.,  0.],\n",
       "        [40.,  0., 20., ..., 20.,  0., 20.]]),\n",
       " array([[ 40.51699572,  42.20588215,  92.11393015, ..., 103.26517599,\n",
       "          83.11518502, 134.56248046],\n",
       "        [ 66.65535071,  80.9848782 ,  85.76827785, ..., 128.31902597,\n",
       "          76.23651019, 162.90207555],\n",
       "        [ 70.70562606,  96.67307096,  85.98258164, ..., 126.19378951,\n",
       "          77.09433774, 158.66407895],\n",
       "        ...,\n",
       "        [ 41.99036523,  47.99714   ,  90.34380609, ...,  76.85358056,\n",
       "          94.47954229, 113.40009338],\n",
       "        [ 45.12710738,  52.09725454,  89.38768704, ...,  81.9092561 ,\n",
       "          92.6822898 , 119.97226002],\n",
       "        [ 40.79986548,  45.5802486 ,  91.30910479, ...,  71.35645255,\n",
       "          93.51400329, 109.05486824]]))"
      ]
     },
     "execution_count": 4,
     "metadata": {},
     "output_type": "execute_result"
    }
   ],
   "source": [
    "session512.process()"
   ]
  },
  {
   "cell_type": "code",
   "execution_count": 5,
   "id": "43de5211-a548-4888-b585-536d04944ba6",
   "metadata": {},
   "outputs": [
    {
     "data": {
      "text/plain": [
       "[array([[ 40.51699572,  42.20588215,  92.11393015, ..., 103.26517599,\n",
       "          83.11518502, 134.56248046],\n",
       "        [ 66.65535071,  80.9848782 ,  85.76827785, ..., 128.31902597,\n",
       "          76.23651019, 162.90207555],\n",
       "        [ 70.70562606,  96.67307096,  85.98258164, ..., 126.19378951,\n",
       "          77.09433774, 158.66407895],\n",
       "        ...,\n",
       "        [ 49.06484473,  51.76534126, 100.88736032, ...,  49.784722  ,\n",
       "          76.99608756, 102.25328454],\n",
       "        [ 38.42596656,  42.58741962,  99.69128634, ...,  57.77336204,\n",
       "          85.11690152, 105.85440279],\n",
       "        [ 19.34037702,  27.92536214,  99.45780069, ...,  69.14260002,\n",
       "          90.37203818, 104.62049694]]),\n",
       " array([[ 61.153092  ,  75.86803041,  82.1825519 , ..., 109.52061515,\n",
       "          86.92250575, 148.66064798],\n",
       "        [ 71.25177027,  96.05110557,  68.24835481, ..., 128.93038979,\n",
       "          80.90565523, 154.69007466],\n",
       "        [ 52.53935603,  79.81225416,  67.39674691, ..., 115.75385401,\n",
       "          84.71462311, 137.00578132],\n",
       "        ...,\n",
       "        [ 41.99036523,  47.99714   ,  90.34380609, ...,  76.85358056,\n",
       "          94.47954229, 113.40009338],\n",
       "        [ 45.12710738,  52.09725454,  89.38768704, ...,  81.9092561 ,\n",
       "          92.6822898 , 119.97226002],\n",
       "        [ 40.79986548,  45.5802486 ,  91.30910479, ...,  71.35645255,\n",
       "          93.51400329, 109.05486824]])]"
      ]
     },
     "execution_count": 5,
     "metadata": {},
     "output_type": "execute_result"
    }
   ],
   "source": [
    "session512.data['angles']"
   ]
  },
  {
   "cell_type": "code",
   "execution_count": 6,
   "id": "6337b0e7-be34-461c-bd28-88ad258972f2",
   "metadata": {},
   "outputs": [],
   "source": [
    "rates = session512.data['rates']\n",
    "angles = session512.data['angles']\n",
    "coords = session512.data['coords']"
   ]
  },
  {
   "cell_type": "code",
   "execution_count": 7,
   "id": "1d4e0f0d-f6fe-4b28-ae1b-c37351ae4025",
   "metadata": {},
   "outputs": [
    {
     "name": "stdout",
     "output_type": "stream",
     "text": [
      "2\n"
     ]
    }
   ],
   "source": [
    "print(len(coords))"
   ]
  },
  {
   "cell_type": "code",
   "execution_count": 8,
   "id": "2eeb64a4-0ff7-4909-8a68-eb948beba5a3",
   "metadata": {},
   "outputs": [
    {
     "data": {
      "text/plain": [
       "2962"
      ]
     },
     "execution_count": 8,
     "metadata": {},
     "output_type": "execute_result"
    }
   ],
   "source": [
    "len(rates[0])"
   ]
  },
  {
   "cell_type": "code",
   "execution_count": 9,
   "id": "d7ac823b-c572-481d-9c79-8c6a7436d009",
   "metadata": {},
   "outputs": [
    {
     "data": {
      "text/plain": [
       "2962"
      ]
     },
     "execution_count": 9,
     "metadata": {},
     "output_type": "execute_result"
    }
   ],
   "source": [
    "(angles[0].shape)[0]\n"
   ]
  },
  {
   "cell_type": "code",
   "execution_count": 10,
   "id": "eb4a812a-d282-454e-9bc6-5538de1cfddb",
   "metadata": {},
   "outputs": [
    {
     "data": {
      "text/plain": [
       "(2962, 17, 3)"
      ]
     },
     "execution_count": 10,
     "metadata": {},
     "output_type": "execute_result"
    }
   ],
   "source": [
    "coords[0].shape\n"
   ]
  },
  {
   "cell_type": "code",
   "execution_count": 11,
   "id": "15c1ee61-be7b-4903-8377-6b3acfb689be",
   "metadata": {},
   "outputs": [
    {
     "data": {
      "text/plain": [
       "dict_keys(['bodyparts', 'angle_names', 'rates', 'coords', 'angles'])"
      ]
     },
     "execution_count": 11,
     "metadata": {},
     "output_type": "execute_result"
    }
   ],
   "source": [
    "session512.data.keys()"
   ]
  },
  {
   "cell_type": "code",
   "execution_count": 12,
   "id": "f4a261ec-20e2-471e-95c8-99b09f406ff0",
   "metadata": {},
   "outputs": [
    {
     "data": {
      "text/plain": [
       "['ankle', 'knee', 'hip', 'limbfoot', 'elbow', 'shoulder', 'forelimb']"
      ]
     },
     "execution_count": 12,
     "metadata": {},
     "output_type": "execute_result"
    }
   ],
   "source": [
    "session512.data[\"angle_names\"]"
   ]
  },
  {
   "cell_type": "code",
   "execution_count": 16,
   "id": "7632b49d-3f66-4b37-b43a-91f31e53f5d4",
   "metadata": {},
   "outputs": [],
   "source": [
    "# print(len(session512.data['angles']))\n",
    "# print(session512.data['angles'][0].shape)\n",
    "# print(session512.data['angles'][1].shape)\n",
    "# print(session512.data['angles'][2].shape)\n",
    "# print(session512.data['angles'][3].shape)"
   ]
  },
  {
   "cell_type": "code",
   "execution_count": 17,
   "id": "c7cc0543-ea96-4298-8143-783c76d2ce8c",
   "metadata": {},
   "outputs": [
    {
     "data": {
      "text/plain": [
       "['toe',\n",
       " 'MTP',\n",
       " 'ankle',\n",
       " 'knee',\n",
       " 'pelvis bottom',\n",
       " 'hip',\n",
       " 'pelvis top',\n",
       " 'finger',\n",
       " 'knuckle',\n",
       " 'wrist',\n",
       " 'elbow',\n",
       " 'shoulder',\n",
       " 'scapula',\n",
       " 'x1',\n",
       " 'x2',\n",
       " 'y1',\n",
       " 'y2']"
      ]
     },
     "execution_count": 17,
     "metadata": {},
     "output_type": "execute_result"
    }
   ],
   "source": [
    "session512.data['bodyparts']"
   ]
  },
  {
   "cell_type": "code",
   "execution_count": 18,
   "id": "c08b5312-03e9-4a9f-a509-996644b9c5bf",
   "metadata": {},
   "outputs": [],
   "source": [
    "new_rates = []\n",
    "new_angles = []\n",
    "new_coords = []\n",
    "for i in range(len(rates)):\n",
    "    size_we_want = int(rates[i].shape[0] / 2)\n",
    "    temp_rate = rates[i][:size_we_want,:]\n",
    "    new_rates.append(temp_rate)\n",
    "    temp_angle = angles[i][:size_we_want,:]\n",
    "    new_angles.append(temp_angle)\n",
    "    temp_coord = coords[i][:size_we_want,:, :]\n",
    "    new_coords.append(temp_coord)"
   ]
  },
  {
   "cell_type": "code",
   "execution_count": 19,
   "id": "c60c372e-a94a-4422-86b6-50ecdccacdfc",
   "metadata": {},
   "outputs": [
    {
     "data": {
      "text/plain": [
       "\u001b[0;31mSignature:\u001b[0m \u001b[0msession512\u001b[0m\u001b[0;34m.\u001b[0m\u001b[0mdecode_angles\u001b[0m\u001b[0;34m(\u001b[0m\u001b[0mX\u001b[0m\u001b[0;34m=\u001b[0m\u001b[0;32mNone\u001b[0m\u001b[0;34m,\u001b[0m \u001b[0mY\u001b[0m\u001b[0;34m=\u001b[0m\u001b[0;32mNone\u001b[0m\u001b[0;34m)\u001b[0m\u001b[0;34m\u001b[0m\u001b[0m\n",
       "\u001b[0;31mDocstring:\u001b[0m\n",
       "takes list of rates, angles, then using a wiener filter to decode. \n",
       "if no parameters are passed, uses data['rates'] and data['angles']\n",
       "\n",
       "returns best_h, vaf (array of all angles and all folds), test_x (the\n",
       "x test set that had best performance, and test_y (the y test set that\n",
       "had best formance)\n",
       "\u001b[0;31mFile:\u001b[0m      /mnt/c/oobootoo/rat-fes/src/cort_processor.py\n",
       "\u001b[0;31mType:\u001b[0m      method\n"
      ]
     },
     "metadata": {},
     "output_type": "display_data"
    }
   ],
   "source": [
    "session512.decode_angles?"
   ]
  },
  {
   "cell_type": "code",
   "execution_count": 20,
   "id": "cf53cd35-305c-49f3-abdd-a6f649f06079",
   "metadata": {},
   "outputs": [],
   "source": [
    "h, vaf, x_test, y_test = session512.decode_angles(X=new_rates, Y=new_angles)"
   ]
  },
  {
   "cell_type": "code",
   "execution_count": 22,
   "id": "a40cfbd0-99d0-44ae-a7c4-8b162dcf2468",
   "metadata": {},
   "outputs": [
    {
     "name": "stdout",
     "output_type": "stream",
     "text": [
      "(321, 7)\n"
     ]
    }
   ],
   "source": [
    "print(h.shape)"
   ]
  },
  {
   "cell_type": "code",
   "execution_count": null,
   "id": "ba356401-c3fc-4273-aa8f-a5fc303bfe99",
   "metadata": {},
   "outputs": [],
   "source": [
    "type(new_angles)"
   ]
  },
  {
   "cell_type": "code",
   "execution_count": null,
   "id": "acac4260-02b0-49f6-aafa-816bf146b87e",
   "metadata": {},
   "outputs": [],
   "source": [
    "new_angles"
   ]
  },
  {
   "cell_type": "code",
   "execution_count": null,
   "id": "bf8dc136-7412-4eaf-a533-14fbb5841163",
   "metadata": {},
   "outputs": [],
   "source": [
    "h.shape"
   ]
  },
  {
   "cell_type": "code",
   "execution_count": null,
   "id": "fce85171-37c8-45f0-b0d3-ed24bce52bac",
   "metadata": {},
   "outputs": [],
   "source": [
    "vaf.shape"
   ]
  },
  {
   "cell_type": "code",
   "execution_count": null,
   "id": "1a76fb6f-4504-4f32-ae5d-2a0853100b94",
   "metadata": {},
   "outputs": [],
   "source": [
    "vaf[0,:]"
   ]
  },
  {
   "cell_type": "code",
   "execution_count": null,
   "id": "1a58ef87-1f51-4507-b360-31f5b68dac4e",
   "metadata": {},
   "outputs": [],
   "source": [
    "np.average(vaf,axis=1)"
   ]
  },
  {
   "cell_type": "code",
   "execution_count": null,
   "id": "72ca41ef-b54d-43e3-9950-706cf1b9f46a",
   "metadata": {},
   "outputs": [],
   "source": [
    "plot_wiener_filter_predic?"
   ]
  },
  {
   "cell_type": "code",
   "execution_count": null,
   "id": "8071c0b4-3350-49d7-9ac8-55d7c37d7a88",
   "metadata": {},
   "outputs": [],
   "source": [
    "x_test.shape"
   ]
  },
  {
   "cell_type": "code",
   "execution_count": null,
   "id": "4d1ddd3c-463d-443f-ab0e-32a9e8109039",
   "metadata": {},
   "outputs": [],
   "source": [
    "# plot_wiener_filter_predic(x_test, y_test[:,0], h[:,0])\n",
    "# plot_wiener_filter_predic(x_test, y_test[:,1], h[:,1])\n",
    "# plot_wiener_filter_predic(x_test, y_test[:,2], h[:,2])\n",
    "# plot_wiener_filter_predic(x_test, y_test[:,3], h[:,3])\n",
    "# plot_wiener_filter_predic(x_test, y_test[:,4], h[:,4])\n",
    "# plot_wiener_filter_predic(x_test, y_test[:,5], h[:,5])\n",
    "# plot_wiener_filter_predic(x_test, y_test[:,6], h[:,6])"
   ]
  },
  {
   "cell_type": "code",
   "execution_count": null,
   "id": "b503b514-fdc8-4daf-a24b-09b7bd258972",
   "metadata": {},
   "outputs": [],
   "source": [
    "def stance_swing_dd(toe_height):\n",
    "    # peaks = extract_peaks(toe_height, 12)\n",
    "    peaks, nada = find_peaks(toe_height, prominence=10)\n",
    "    peaks = np.append(peaks, np.size(toe_height))\n",
    "    peaks = np.insert(peaks, 0, 0)\n",
    "    ss_list = []\n",
    "\n",
    "    for i in range(np.size(peaks)-1):\n",
    "        end=peaks[i+1]\n",
    "        start=peaks[i]\n",
    "\n",
    "        gait = toe_height[start:end]\n",
    "        dx = np.gradient(gait)\n",
    "        ddx = np.gradient(dx)\n",
    "\n",
    "        ddx_peaks, nada = find_peaks(ddx, 0.02)\n",
    "        if np.size(ddx_peaks) == 2:\n",
    "            ss = np.ones(np.size(gait), dtype=bool)\n",
    "            ss[ddx_peaks[0]:ddx_peaks[1]] = 0\n",
    "        else:\n",
    "            minny = np.amin(gait)\n",
    "            ss = gait>minny+2\n",
    "\n",
    "        ss_list.append(ss)\n",
    "\n",
    "    stance_swing = np.hstack(ss_list)\n",
    "    return stance_swing"
   ]
  },
  {
   "cell_type": "code",
   "execution_count": null,
   "id": "35e08b02-2a7e-4058-a558-5f5ff84aebbd",
   "metadata": {},
   "outputs": [],
   "source": [
    "session512.process_toe_height()"
   ]
  },
  {
   "cell_type": "code",
   "execution_count": null,
   "id": "66d1f30e-bf90-41d8-83b0-ddde1ccba250",
   "metadata": {},
   "outputs": [],
   "source": [
    "toe = session512.data['toe_height']"
   ]
  },
  {
   "cell_type": "code",
   "execution_count": null,
   "id": "17fc4468-95f1-4dea-b94e-e3a7a8106073",
   "metadata": {},
   "outputs": [],
   "source": [
    "len(toe)"
   ]
  },
  {
   "cell_type": "code",
   "execution_count": null,
   "id": "159d3b50-5921-423c-abd2-05d5ec307795",
   "metadata": {},
   "outputs": [],
   "source": [
    "toeh = np.hstack(toe)"
   ]
  },
  {
   "cell_type": "code",
   "execution_count": null,
   "id": "64bfe24d-6805-4890-be89-aafe139f9185",
   "metadata": {},
   "outputs": [],
   "source": [
    "toeh.shape\n"
   ]
  },
  {
   "cell_type": "code",
   "execution_count": null,
   "id": "09f9d5e7-fa86-44d7-b6cc-791b0856232c",
   "metadata": {},
   "outputs": [],
   "source": [
    "ss = stance_swing_dd(toeh)"
   ]
  },
  {
   "cell_type": "code",
   "execution_count": null,
   "id": "ae14caf1-d836-4a4d-8753-8620c9f453c0",
   "metadata": {},
   "outputs": [],
   "source": [
    "# fig0 = plt.figure()\n",
    "# ax0 = fig0.add_subplot(111)\n",
    "# ax0.plot(ss)"
   ]
  },
  {
   "cell_type": "code",
   "execution_count": null,
   "id": "f83cf4e0-b483-4230-a5ce-cae09b3468bc",
   "metadata": {},
   "outputs": [],
   "source": [
    "# plot_wiener_filter_predic(x_test, y_test[:,1], h[:,1])\n",
    "# plt.show()"
   ]
  },
  {
   "cell_type": "code",
   "execution_count": null,
   "id": "69993ad5-5c54-44bc-a4a0-5135ea1897e0",
   "metadata": {},
   "outputs": [],
   "source": [
    "print(x_test.shape)\n",
    "print(x_test)"
   ]
  },
  {
   "cell_type": "code",
   "execution_count": null,
   "id": "95837a9e-ff13-4bbb-a70d-158098ba34ba",
   "metadata": {},
   "outputs": [],
   "source": [
    "print(y_test[:,1].shape)\n",
    "min_y1 = min(y_test[:,1])\n",
    "max_y1 = max(y_test[:,1])\n",
    "print(min_y1)\n",
    "print(max_y1)\n",
    "print(max_y1-min_y1)"
   ]
  },
  {
   "cell_type": "code",
   "execution_count": null,
   "id": "b0bad040-6341-4621-b348-c259f4fd400d",
   "metadata": {},
   "outputs": [],
   "source": [
    "print(h[:,1].shape)\n",
    "# print(h[:,1])"
   ]
  },
  {
   "cell_type": "code",
   "execution_count": null,
   "id": "a4f0ffa9-fff7-44d8-ac90-ea8546387f6b",
   "metadata": {},
   "outputs": [],
   "source": [
    "def plot_wiener_filter_predic_malleable(test_x, test_y, h):\n",
    "    predic_y = test_wiener_filter(test_x, h)\n",
    "    vaffy = vaf(test_y, predic_y)\n",
    "    \n",
    "    samples = np.shape(test_y)[0]\n",
    "\n",
    "    ts = np.linspace(0, (samples*50)/1000,\n",
    "            samples)\n",
    "\n",
    "    fig, ax = plt.subplots()\n",
    "    ax.set_title(f'vaf:{vaffy}')\n",
    "    ax.plot(ts, test_y, c='black')\n",
    "    ax.plot(ts, predic_y, c='red')"
   ]
  },
  {
   "cell_type": "code",
   "execution_count": null,
   "id": "a8c6f96f-096b-44ee-a17b-3a65b5f4dd16",
   "metadata": {},
   "outputs": [],
   "source": [
    "def test_wiener_filter_malleable(x, H):\n",
    "    \"\"\"\n",
    "    To get predictions from input data x with linear decoder\n",
    "    x: input data\n",
    "    H: parameter vector obtained by training\n",
    "    \"\"\"\n",
    "    x_plus_bias = np.c_[np.ones((np.size(x, 0), 1)), x]\n",
    "    y_pred = np.dot(x_plus_bias, H)\n",
    "    return y_pred    "
   ]
  },
  {
   "cell_type": "code",
   "execution_count": null,
   "id": "bdc72117-668d-4d85-a54e-c11e58024910",
   "metadata": {},
   "outputs": [],
   "source": [
    "y1_pred = test_wiener_filter_malleable(x_test, h[:,1])\n",
    "y1_actual = y_test[:,1]"
   ]
  },
  {
   "cell_type": "code",
   "execution_count": null,
   "id": "f641baae-e235-469a-89ef-65bb6103df14",
   "metadata": {},
   "outputs": [],
   "source": [
    "print(y1_pred.shape)\n",
    "print(np.shape(y1_actual)[0])"
   ]
  },
  {
   "cell_type": "code",
   "execution_count": null,
   "id": "6b39d24a-3496-4143-af81-0d4d9ef44f81",
   "metadata": {},
   "outputs": [],
   "source": [
    "ts = np.linspace(0, (np.shape(y1_actual)[0]*50)/1000,np.shape(y1_actual)[0])"
   ]
  },
  {
   "cell_type": "code",
   "execution_count": null,
   "id": "0701e08d-acfe-4a23-b609-8c12889b5a12",
   "metadata": {},
   "outputs": [],
   "source": [
    "peaks_y1, _ = spicy.signal.find_peaks(y1_actual, prominence=10, height = np.mean(y1_actual))\n",
    "peaks_y1 = np.concatenate([[0],peaks_y1,[np.shape(y1_actual)[0]-1]])"
   ]
  },
  {
   "cell_type": "code",
   "execution_count": null,
   "id": "8157d532-f526-4ffe-9f8d-f65727a0c7bc",
   "metadata": {},
   "outputs": [],
   "source": [
    "# fig, ax = plt.subplots()\n",
    "# ax.plot(ts, y1_actual, c='black')\n",
    "# ax.scatter(ts[peaks_y1], y1_actual[peaks_y1], c='r')"
   ]
  },
  {
   "cell_type": "code",
   "execution_count": null,
   "id": "d8076eff-e1ae-4a1c-8981-eee535804c1c",
   "metadata": {},
   "outputs": [],
   "source": [
    "y1_copy = y1_actual.copy()\n",
    "for i in range(0,peaks_y1.shape[0]-1):\n",
    "    for ii in range(0, peaks_y1[i+1]-peaks_y1[i]):\n",
    "        y1_copy[peaks_y1[i]+ii] = ii*360/(peaks_y1[i+1]-peaks_y1[i])\n",
    "y1_copy[peaks_y1[-1]] = 0"
   ]
  },
  {
   "cell_type": "code",
   "execution_count": null,
   "id": "2597141e-9fe4-422c-928c-d768eb1b4cc6",
   "metadata": {},
   "outputs": [],
   "source": [
    "# fig, ax = plt.subplots()\n",
    "# ax.plot(ts, y1_copy, c='black')"
   ]
  },
  {
   "cell_type": "code",
   "execution_count": null,
   "id": "d7c3ffeb-859f-4734-9c69-316e4dcb7c96",
   "metadata": {},
   "outputs": [],
   "source": [
    "y1_cos = (np.cos(y1_copy*np.pi/180)*np.mean(y1_actual)/2)+np.mean(y1_actual)"
   ]
  },
  {
   "cell_type": "code",
   "execution_count": null,
   "id": "8e381a6f-34e9-475d-8caa-92cdd1ac1c2d",
   "metadata": {},
   "outputs": [],
   "source": [
    "# fig, ax = plt.subplots()\n",
    "# ax.plot(ts, y1_cos, c='blue')\n",
    "# ax.plot(ts, y1_actual, c='black')\n"
   ]
  },
  {
   "cell_type": "code",
   "execution_count": null,
   "id": "5263f43c-fdc3-4991-b0c2-09f205892b6f",
   "metadata": {},
   "outputs": [],
   "source": [
    "peaks_y1_pred, _ = spicy.signal.find_peaks(y1_pred, prominence=10, height = np.mean(y1_pred))\n",
    "peaks_y1_pred = np.concatenate([[0],peaks_y1_pred,[np.shape(y1_pred)[0]-1]])"
   ]
  },
  {
   "cell_type": "code",
   "execution_count": null,
   "id": "3fda860e-51e3-4f25-bb88-f1107c7f024f",
   "metadata": {},
   "outputs": [],
   "source": [
    "# fig, ax = plt.subplots()\n",
    "# ax.plot(ts, y1_pred, c='red')\n",
    "# ax.scatter(ts[peaks_y1_pred], y1_pred[peaks_y1_pred], c='k')"
   ]
  },
  {
   "cell_type": "code",
   "execution_count": null,
   "id": "a789a3dd-daf2-466a-b14a-405d18786bf2",
   "metadata": {},
   "outputs": [],
   "source": [
    "y1_pred_copy = y1_pred.copy()\n",
    "for i in range(0,peaks_y1_pred.shape[0]-1):\n",
    "    for ii in range(0, peaks_y1_pred[i+1]-peaks_y1_pred[i]):\n",
    "        y1_pred_copy[peaks_y1_pred[i]+ii] = ii*360/(peaks_y1_pred[i+1]-peaks_y1_pred[i])\n",
    "y1_pred_copy[peaks_y1_pred[-1]] = 0"
   ]
  },
  {
   "cell_type": "code",
   "execution_count": null,
   "id": "1c9792a7-711b-40d8-ae59-81f59f2eb2db",
   "metadata": {},
   "outputs": [],
   "source": [
    "y1_pred_cos = (np.cos(y1_pred_copy*np.pi/180)*np.mean(y1_pred)/2)+np.mean(y1_pred)"
   ]
  },
  {
   "cell_type": "code",
   "execution_count": null,
   "id": "413cd42a-f7f8-433f-bc06-c8ef112f3c2a",
   "metadata": {},
   "outputs": [],
   "source": [
    "fig, axs = plt.subplots(4, 2, figsize=(16,20))\n",
    "axs[0, 0].set_title('y_actual peaks')\n",
    "axs[0,0].plot(ts, y1_actual, c='black')\n",
    "axs[0,0].scatter(ts[peaks_y1], y1_actual[peaks_y1], c='blue')\n",
    "\n",
    "axs[0, 1].set_title('y_pred peaks')\n",
    "axs[0,1].plot(ts, y1_pred, c='red')\n",
    "axs[0,1].scatter(ts[peaks_y1_pred], y1_pred[peaks_y1_pred], c='darkgoldenrod')\n",
    "\n",
    "axs[1, 0].set_title('y_test phase')\n",
    "axs[1,0].plot(ts, y1_copy, c='blue')\n",
    "\n",
    "axs[1, 1].set_title('y_pred phase')\n",
    "axs[1,1].plot(ts, y1_pred_copy, c='darkgoldenrod')\n",
    "\n",
    "axs[2,0].set_title('cosine aligned y_test')\n",
    "axs[2,0].plot(ts, y1_cos, c='blue')\n",
    "axs[2,0].plot(ts, y1_actual, c='black')\n",
    "\n",
    "axs[2, 1].set_title('cosine aligned y_pred')\n",
    "axs[2,1].plot(ts, y1_pred_cos, c='darkgoldenrod')\n",
    "axs[2,1].plot(ts, y1_pred, c='red')\n",
    "\n",
    "axs[3, 0].set_title(\"predicted vs. actual raw\")\n",
    "axs[3,0].plot(ts, y1_pred, c='red')\n",
    "axs[3,0].plot(ts, y1_actual, c='black')\n",
    "\n",
    "axs[3, 1].set_title('cosine aligned predicted vs. actual')\n",
    "axs[3,1].plot(ts, y1_pred_cos, c='red')\n",
    "axs[3,1].plot(ts, y1_cos, c='black')\n",
    "# axs[3,1].plot(ts, y1_pred_cos, c='darkgoldenrod')\n",
    "# axs[3,1].plot(ts, y1_cos, c='blue')\n",
    "fig.tight_layout()"
   ]
  },
  {
   "cell_type": "code",
   "execution_count": null,
   "id": "c67e9e79-d4ec-48a1-8382-6f8b929c5375",
   "metadata": {},
   "outputs": [],
   "source": [
    "improved_score = vaf(y1_cos, y1_pred_cos)\n",
    "previous_score = vaf(y1_actual, y1_pred)\n",
    "# print(\"New VAF:\")\n",
    "# print(improved_score)\n",
    "# print(\"Improvement:\")\n",
    "# print(100*(improved_score-previous_score)/previous_score,'%')"
   ]
  },
  {
   "cell_type": "code",
   "execution_count": null,
   "id": "720c3201-fd3d-4abe-b09d-48f4bcfd2633",
   "metadata": {},
   "outputs": [],
   "source": []
  }
 ],
 "metadata": {
  "kernelspec": {
   "display_name": "Python 3",
   "language": "python",
   "name": "python3"
  },
  "language_info": {
   "codemirror_mode": {
    "name": "ipython",
    "version": 3
   },
   "file_extension": ".py",
   "mimetype": "text/x-python",
   "name": "python",
   "nbconvert_exporter": "python",
   "pygments_lexer": "ipython3",
   "version": "3.7.0"
  }
 },
 "nbformat": 4,
 "nbformat_minor": 5
}
