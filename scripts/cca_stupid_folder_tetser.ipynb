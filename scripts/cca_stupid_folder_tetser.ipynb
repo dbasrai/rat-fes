{
 "cells": [
  {
   "cell_type": "code",
   "execution_count": 51,
   "id": "1f1991b4",
   "metadata": {},
   "outputs": [
    {
     "name": "stdout",
     "output_type": "stream",
     "text": [
      "The autoreload extension is already loaded. To reload it, use:\n",
      "  %reload_ext autoreload\n"
     ]
    }
   ],
   "source": [
    "%matplotlib widget\n",
    "%load_ext autoreload\n",
    "%autoreload 2\n",
    "from src.folder_handler import *\n",
    "from src.cort_processor import *\n",
    "from src.cca_processor import *\n",
    "from src.tdt_support import *\n",
    "from src.plotter import *\n",
    "from src.decoders import *\n",
    "import pickle\n",
    "import scipy as spicy\n",
    "import numpy as np\n",
    "import matplotlib.pyplot as plt\n",
    "from  matplotlib.colors import LinearSegmentedColormap\n",
    "from src.wiener_filter import *\n",
    "from matplotlib.pyplot import cm"
   ]
  },
  {
   "cell_type": "code",
   "execution_count": 52,
   "id": "314cdb9b",
   "metadata": {},
   "outputs": [],
   "source": [
    "import scipy.io as sio"
   ]
  },
  {
   "cell_type": "code",
   "execution_count": 53,
   "id": "5f8347b9",
   "metadata": {},
   "outputs": [
    {
     "name": "stdout",
     "output_type": "stream",
     "text": [
      "this is filipe data i belive\n"
     ]
    }
   ],
   "source": [
    "n5_1 = CortProcessor('/home/diya/Documents/MATLAB/Intracortical/N5_170929_No Obstacles_s.mat')"
   ]
  },
  {
   "cell_type": "code",
   "execution_count": 54,
   "id": "2b0c7b3d-9d82-45f8-868a-6d1fc937288f",
   "metadata": {},
   "outputs": [
    {
     "name": "stdout",
     "output_type": "stream",
     "text": [
      "this is filipe data i belive\n"
     ]
    }
   ],
   "source": [
    "n5_2 = CortProcessor('/home/diya/Documents/MATLAB/Intracortical/N5_171130_No Obstacles_s.mat')"
   ]
  },
  {
   "cell_type": "code",
   "execution_count": 55,
   "id": "663bc9a2-6cc6-4ac2-8d24-a85c690fa3a8",
   "metadata": {},
   "outputs": [
    {
     "name": "stdout",
     "output_type": "stream",
     "text": [
      "should be good to align\n"
     ]
    }
   ],
   "source": [
    "sess = CCAProcessor(n5_1, n5_2)"
   ]
  },
  {
   "cell_type": "code",
   "execution_count": 64,
   "id": "a3574bfb-ef38-459c-b84c-6d26ecc17814",
   "metadata": {},
   "outputs": [],
   "source": [
    "x1, y1, x2, y2 = sess.process_and_align_kinematics()"
   ]
  },
  {
   "cell_type": "markdown",
   "id": "883790f9-afa6-4840-be13-f74e2c63adcf",
   "metadata": {},
   "source": [
    "# x2 data on x1 decoder"
   ]
  },
  {
   "cell_type": "code",
   "execution_count": 67,
   "id": "b242d02c-25eb-46ab-b626-b8ff9ce745e2",
   "metadata": {},
   "outputs": [],
   "source": [
    "from sklearn.decomposition import PCA\n",
    "pca_x2 = PCA(n_components=13)\n",
    "x2_pca = pca_x2.fit_transform(x2)"
   ]
  },
  {
   "cell_type": "code",
   "execution_count": 69,
   "id": "ae8a6bb8-637c-4023-8e6e-eea05bd72db7",
   "metadata": {},
   "outputs": [],
   "source": [
    "format_x1, format_y1 = format_data(x1, y1)\n",
    "format_x2, format_y2 = format_data(x2_pca, y2)"
   ]
  },
  {
   "cell_type": "code",
   "execution_count": 85,
   "id": "d14aebe9-80b1-45bf-954c-1917f4646aa0",
   "metadata": {},
   "outputs": [
    {
     "data": {
      "text/plain": [
       "0.5551665092208801"
      ]
     },
     "execution_count": 85,
     "metadata": {},
     "output_type": "execute_result"
    }
   ],
   "source": [
    "y1_hat = test_wiener_filter(format_x1, sess.cp1.h)\n",
    "vaf(format_y1[:,1], y1_hat[:,1])"
   ]
  },
  {
   "cell_type": "code",
   "execution_count": 86,
   "id": "96183c3d-5587-4a12-a3e9-0040808bd0df",
   "metadata": {},
   "outputs": [
    {
     "data": {
      "text/plain": [
       "-7.940550855197241"
      ]
     },
     "execution_count": 86,
     "metadata": {},
     "output_type": "execute_result"
    }
   ],
   "source": [
    "y2_hat = test_wiener_filter(format_x2, sess.cp1.h)\n",
    "vaf(format_y2[:,1], y2_hat[:,1])"
   ]
  },
  {
   "cell_type": "markdown",
   "id": "1527f1b2-f8ee-4830-8795-1ae14daa014a",
   "metadata": {},
   "source": [
    "# x2 cca data on x1 decoder"
   ]
  },
  {
   "cell_type": "code",
   "execution_count": 87,
   "id": "da1b4915-eec9-4c6e-818b-bd221b3326eb",
   "metadata": {},
   "outputs": [],
   "source": [
    "from sklearn.cross_decomposition import CCA\n",
    "from sklearn.preprocessing import StandardScaler"
   ]
  },
  {
   "cell_type": "code",
   "execution_count": 89,
   "id": "5230f338-5b01-44ef-b4b9-94a77df5be57",
   "metadata": {},
   "outputs": [],
   "source": [
    "cca_x1x2 = CCA(n_components=13, scale=False)\n",
    "x1_cca, x2_cca=cca_x1x2.fit_transform(x1, x2)"
   ]
  },
  {
   "cell_type": "code",
   "execution_count": 90,
   "id": "9967382d-8b60-4af3-b587-a54773464e6f",
   "metadata": {},
   "outputs": [],
   "source": [
    "x2_hat = cca_x1x2.inverse_transform(x2_cca) "
   ]
  },
  {
   "cell_type": "code",
   "execution_count": 114,
   "id": "dfed9ec0-8a7a-4747-8ac6-cbbff309438f",
   "metadata": {},
   "outputs": [],
   "source": [
    "x1_hat = cca_x1x2.inverse_transform(x1_cca) "
   ]
  },
  {
   "cell_type": "code",
   "execution_count": 92,
   "id": "72835b8e-ea15-4352-ac3c-973d7f3791c0",
   "metadata": {},
   "outputs": [],
   "source": [
    "format_x1, format_y1 = format_data(x1, y1)\n",
    "format_x2_cca, format_y2 = format_data(x2_hat, y2)"
   ]
  },
  {
   "cell_type": "code",
   "execution_count": 115,
   "id": "e78ea927-4f3c-48e1-92b3-25f93e1fff74",
   "metadata": {},
   "outputs": [],
   "source": [
    "format_x1_cca, format_y1 = format_data(x1_hat, y1)"
   ]
  },
  {
   "cell_type": "code",
   "execution_count": 120,
   "id": "060eda21-f4e9-4ee6-bbc1-3dae614b4b4e",
   "metadata": {},
   "outputs": [
    {
     "data": {
      "text/plain": [
       "-1.4655283093053582"
      ]
     },
     "execution_count": 120,
     "metadata": {},
     "output_type": "execute_result"
    }
   ],
   "source": [
    "y2_hat_cca = test_wiener_filter(format_x2_cca, sess.cp1.h)\n",
    "vaf(format_y2[:,1], y2_hat_cca[:,1])"
   ]
  },
  {
   "cell_type": "code",
   "execution_count": 121,
   "id": "bfb13abf-3f83-4223-9540-619d4566b288",
   "metadata": {},
   "outputs": [
    {
     "data": {
      "text/plain": [
       "[<matplotlib.lines.Line2D at 0x7fd96a0a5400>]"
      ]
     },
     "execution_count": 121,
     "metadata": {},
     "output_type": "execute_result"
    },
    {
     "data": {
      "application/vnd.jupyter.widget-view+json": {
       "model_id": "c4337d10ec004e5485984458eea6d75a",
       "version_major": 2,
       "version_minor": 0
      },
      "text/html": [
       "\n",
       "            <div style=\"display: inline-block;\">\n",
       "                <div class=\"jupyter-widgets widget-label\" style=\"text-align: center;\">\n",
       "                    Figure\n",
       "                </div>\n",
       "                <img src='data:image/png;base64,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' width=640.0/>\n",
       "            </div>\n",
       "        "
      ],
      "text/plain": [
       "Canvas(toolbar=Toolbar(toolitems=[('Home', 'Reset original view', 'home', 'home'), ('Back', 'Back to previous …"
      ]
     },
     "metadata": {},
     "output_type": "display_data"
    }
   ],
   "source": [
    "fig, ax = plt.subplots()\n",
    "ax.plot(y2_hat_cca[:,1])\n",
    "ax.plot(format_y2[:,1])"
   ]
  },
  {
   "cell_type": "code",
   "execution_count": null,
   "id": "36b407df-b854-4ce9-95f5-a6445d8a8d20",
   "metadata": {},
   "outputs": [],
   "source": []
  }
 ],
 "metadata": {
  "kernelspec": {
   "display_name": "Python 3",
   "language": "python",
   "name": "python3"
  },
  "language_info": {
   "codemirror_mode": {
    "name": "ipython",
    "version": 3
   },
   "file_extension": ".py",
   "mimetype": "text/x-python",
   "name": "python",
   "nbconvert_exporter": "python",
   "pygments_lexer": "ipython3",
   "version": "3.7.0"
  }
 },
 "nbformat": 4,
 "nbformat_minor": 5
}
