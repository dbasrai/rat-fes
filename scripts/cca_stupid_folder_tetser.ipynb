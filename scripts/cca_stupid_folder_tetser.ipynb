{
 "cells": [
  {
   "cell_type": "code",
   "execution_count": 13,
   "id": "1f1991b4",
   "metadata": {},
   "outputs": [
    {
     "name": "stdout",
     "output_type": "stream",
     "text": [
      "The autoreload extension is already loaded. To reload it, use:\n",
      "  %reload_ext autoreload\n"
     ]
    }
   ],
   "source": [
    "%matplotlib widget\n",
    "%load_ext autoreload\n",
    "%autoreload 2\n",
    "from src.folder_handler import *\n",
    "from src.cort_processor import *\n",
    "from src.cca_processor import *\n",
    "from src.tdt_support import *\n",
    "from src.plotter import *\n",
    "from src.decoders import *\n",
    "import pickle\n",
    "import scipy as spicy\n",
    "import numpy as np\n",
    "import matplotlib.pyplot as plt\n",
    "from  matplotlib.colors import LinearSegmentedColormap\n",
    "from src.wiener_filter import *\n",
    "from matplotlib.pyplot import cm"
   ]
  },
  {
   "cell_type": "code",
   "execution_count": 2,
   "id": "314cdb9b",
   "metadata": {},
   "outputs": [],
   "source": [
    "import scipy.io as sio"
   ]
  },
  {
   "cell_type": "code",
   "execution_count": 14,
   "id": "5f8347b9",
   "metadata": {},
   "outputs": [
    {
     "name": "stdout",
     "output_type": "stream",
     "text": [
      "this is filipe data i belive\n"
     ]
    }
   ],
   "source": [
    "n5_1 = CortProcessor('/home/diya/Documents/MATLAB/Intracortical/N5_170929_No Obstacles_s.mat')"
   ]
  },
  {
   "cell_type": "code",
   "execution_count": 15,
   "id": "2b0c7b3d-9d82-45f8-868a-6d1fc937288f",
   "metadata": {},
   "outputs": [
    {
     "name": "stdout",
     "output_type": "stream",
     "text": [
      "this is filipe data i belive\n"
     ]
    }
   ],
   "source": [
    "n5_2 = CortProcessor('/home/diya/Documents/MATLAB/Intracortical/N5_171130_No Obstacles_s.mat')"
   ]
  },
  {
   "cell_type": "code",
   "execution_count": 20,
   "id": "663bc9a2-6cc6-4ac2-8d24-a85c690fa3a8",
   "metadata": {},
   "outputs": [
    {
     "name": "stdout",
     "output_type": "stream",
     "text": [
      "should be good to align\n"
     ]
    }
   ],
   "source": [
    "sess = CCAProcessor(n5_1, n5_2)"
   ]
  },
  {
   "cell_type": "code",
   "execution_count": 21,
   "id": "a3574bfb-ef38-459c-b84c-6d26ecc17814",
   "metadata": {},
   "outputs": [],
   "source": [
    "x1, x2 = sess.process_and_align_kinematics()"
   ]
  },
  {
   "cell_type": "code",
   "execution_count": 24,
   "id": "8ca5398d-19a7-4653-adec-0c5114561f3d",
   "metadata": {},
   "outputs": [
    {
     "data": {
      "text/plain": [
       "836"
      ]
     },
     "execution_count": 24,
     "metadata": {},
     "output_type": "execute_result"
    }
   ],
   "source": [
    "len(x2)\n"
   ]
  },
  {
   "cell_type": "code",
   "execution_count": 19,
   "id": "d8f8db2d-c7e4-4fc9-9c1f-ec192b416d53",
   "metadata": {},
   "outputs": [
    {
     "data": {
      "text/plain": [
       "[array([[ 121.96915876,   41.84266941,   84.19127793,   63.00524023,\n",
       "         -241.74032   ],\n",
       "        [ 104.40662128,   33.56965505,   84.67302704,   59.34004155,\n",
       "         -258.49382   ],\n",
       "        [ 132.62615831,   40.1828691 ,   87.6420476 ,   47.73144723,\n",
       "         -267.6619    ],\n",
       "        ...,\n",
       "        [ 128.61787945,   55.67479842,   84.59780932,   79.89738089,\n",
       "         -249.46225   ],\n",
       "        [ 128.65379678,   52.31281012,   86.46535498,   71.84249577,\n",
       "         -252.423263  ],\n",
       "        [ 123.44870869,   44.43041176,   87.48074281,   64.4885286 ,\n",
       "         -256.51478   ]])]"
      ]
     },
     "execution_count": 19,
     "metadata": {},
     "output_type": "execute_result"
    }
   ],
   "source": [
    "sess.cp1.data['angles']"
   ]
  },
  {
   "cell_type": "code",
   "execution_count": 68,
   "id": "1be9db43-858f-4cc3-a314-afd946756e11",
   "metadata": {},
   "outputs": [
    {
     "data": {
      "text/plain": [
       "['ankle', 'limbfoot', 'hip', 'knee', 'toeheight']"
      ]
     },
     "execution_count": 68,
     "metadata": {},
     "output_type": "execute_result"
    }
   ],
   "source": [
    "n5.data['angle_names']"
   ]
  },
  {
   "cell_type": "code",
   "execution_count": 74,
   "id": "0bfa968b-f4a8-405a-82b9-a441579c1d82",
   "metadata": {},
   "outputs": [
    {
     "name": "stdout",
     "output_type": "stream",
     "text": [
      "[0.26290283 0.5591257  0.34649166 0.51788608 0.15493649]\n"
     ]
    }
   ],
   "source": [
    "h, vaffy, text_x, test_y = n5.decode_angles()\n",
    "print(np.average(vaffy, 1))"
   ]
  },
  {
   "cell_type": "code",
   "execution_count": 75,
   "id": "4b9a6e69-1bbc-4d11-bc54-6cb5744703da",
   "metadata": {},
   "outputs": [],
   "source": [
    "gait_idx, avg_samples = n5.get_gait_indices(angle_number=1)"
   ]
  },
  {
   "cell_type": "code",
   "execution_count": 76,
   "id": "9bb21826-32d9-46f6-8a18-f02ef96a280d",
   "metadata": {},
   "outputs": [],
   "source": [
    "limbfoot_angle = n5.data['angles']"
   ]
  },
  {
   "cell_type": "code",
   "execution_count": 77,
   "id": "702c2d05-7696-451f-b047-9b448d8202f4",
   "metadata": {},
   "outputs": [],
   "source": [
    "limbfoot_angle = limbfoot_angle[0][:,1]"
   ]
  },
  {
   "cell_type": "code",
   "execution_count": 78,
   "id": "3835c8af-d806-4e78-8582-4dddce9e1446",
   "metadata": {},
   "outputs": [],
   "source": [
    "peaks, nada = find_peaks(limbfoot_angle, prominence=10)"
   ]
  },
  {
   "cell_type": "code",
   "execution_count": 79,
   "id": "f581f06b-d0ab-4826-ac96-4baeff36ceda",
   "metadata": {},
   "outputs": [],
   "source": [
    "ts = np.arange(limbfoot_angle.shape[0])"
   ]
  },
  {
   "cell_type": "code",
   "execution_count": 80,
   "id": "a61c7233-bb3e-4cd5-b223-aa498ea81329",
   "metadata": {},
   "outputs": [
    {
     "data": {
      "text/plain": [
       "<matplotlib.collections.PathCollection at 0x7f65c0a85518>"
      ]
     },
     "execution_count": 80,
     "metadata": {},
     "output_type": "execute_result"
    },
    {
     "data": {
      "application/vnd.jupyter.widget-view+json": {
       "model_id": "068a5f59031646c4baf490e730423f8b",
       "version_major": 2,
       "version_minor": 0
      },
      "text/html": [
       "\n",
       "            <div style=\"display: inline-block;\">\n",
       "                <div class=\"jupyter-widgets widget-label\" style=\"text-align: center;\">\n",
       "                    Figure\n",
       "                </div>\n",
       "                <img src='data:image/png;base64,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' width=640.0/>\n",
       "            </div>\n",
       "        "
      ],
      "text/plain": [
       "Canvas(toolbar=Toolbar(toolitems=[('Home', 'Reset original view', 'home', 'home'), ('Back', 'Back to previous …"
      ]
     },
     "metadata": {},
     "output_type": "display_data"
    }
   ],
   "source": [
    "fig,ax = plt.subplots()\n",
    "ax.plot(ts, limbfoot_angle)\n",
    "ax.scatter(ts[peaks], limbfoot_angle[peaks])"
   ]
  },
  {
   "cell_type": "code",
   "execution_count": 30,
   "id": "71e3cda2-27ba-4fa4-b1ec-c1c52f821bf1",
   "metadata": {},
   "outputs": [],
   "source": [
    "X_gait, Y_gait = n5.divide_into_gaits()"
   ]
  },
  {
   "cell_type": "code",
   "execution_count": 106,
   "id": "9b28185a-3a26-4336-a892-92fc3561a321",
   "metadata": {},
   "outputs": [],
   "source": [
    "proc_X, proc_Y = n5.remove_bad_gaits()"
   ]
  },
  {
   "cell_type": "code",
   "execution_count": 108,
   "id": "0951d8fb-b075-4824-b3ff-fb73d01e71fd",
   "metadata": {},
   "outputs": [
    {
     "data": {
      "text/plain": [
       "722"
      ]
     },
     "execution_count": 108,
     "metadata": {},
     "output_type": "execute_result"
    }
   ],
   "source": [
    "len(proc_Y)"
   ]
  },
  {
   "cell_type": "code",
   "execution_count": null,
   "id": "28877283-e7fb-4128-b15c-59f6515a54ae",
   "metadata": {},
   "outputs": [],
   "source": []
  }
 ],
 "metadata": {
  "kernelspec": {
   "display_name": "Python 3",
   "language": "python",
   "name": "python3"
  },
  "language_info": {
   "codemirror_mode": {
    "name": "ipython",
    "version": 3
   },
   "file_extension": ".py",
   "mimetype": "text/x-python",
   "name": "python",
   "nbconvert_exporter": "python",
   "pygments_lexer": "ipython3",
   "version": "3.7.0"
  }
 },
 "nbformat": 4,
 "nbformat_minor": 5
}
