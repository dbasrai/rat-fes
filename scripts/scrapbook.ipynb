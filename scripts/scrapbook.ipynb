{
 "cells": [
  {
   "cell_type": "code",
   "execution_count": 1,
   "id": "identical-response",
   "metadata": {},
   "outputs": [],
   "source": [
    "%matplotlib widget\n",
    "%load_ext autoreload\n",
    "%autoreload 2"
   ]
  },
  {
   "cell_type": "code",
   "execution_count": 2,
   "id": "inside-combination",
   "metadata": {},
   "outputs": [],
   "source": [
    "from src.folder_handler import *\n",
    "from src.cort_processor import *\n",
    "from src.tdt_support import *\n",
    "from src.plotter import *\n",
    "from sklearn.decomposition import PCA\n",
    "from sklearn.cross_decomposition import CCA\n",
    "import pickle\n",
    "from mpl_toolkits import mplot3d"
   ]
  },
  {
   "cell_type": "code",
   "execution_count": 3,
   "id": "1d8787fb-7d6f-474c-9398-39e64348fb1e",
   "metadata": {},
   "outputs": [],
   "source": [
    "with open('/home/diya/Documents/rat-fes/data/pickles/rat-annie_5-12_session.pkl', 'rb') as inp:\n",
    "    session512 = pickle.load(inp)"
   ]
  },
  {
   "cell_type": "code",
   "execution_count": 4,
   "id": "d2a1b06d-2fee-4cf8-922f-5d050d42e9e0",
   "metadata": {},
   "outputs": [],
   "source": [
    "rates = session512.data['rates']\n",
    "angles = session512.data['angles']\n",
    "coords = session512.data['coords']"
   ]
  },
  {
   "cell_type": "code",
   "execution_count": 8,
   "id": "69b09057-2aa0-4bac-aa74-e3647989fc40",
   "metadata": {},
   "outputs": [],
   "source": [
    "new_rates = []\n",
    "new_angles = []\n",
    "new_coords = []\n",
    "\n",
    "for i in range(len(rates)):\n",
    "    size_we_want = int(rates[i].shape[0] / 2)\n",
    "    \n",
    "    temp_rate = rates[i][:size_we_want,:]\n",
    "    new_rates.append(temp_rate)\n",
    "    \n",
    "    temp_angle = angles[i][:size_we_want,:]\n",
    "    new_angles.append(temp_angle)\n",
    "    \n",
    "    temp_coord = coords[i][:size_we_want,:, :]\n",
    "    new_coords.append(temp_coord)\n",
    "           "
   ]
  },
  {
   "cell_type": "code",
   "execution_count": 10,
   "id": "1d8b0034-6ec7-4bd2-b735-ba0af5f09abd",
   "metadata": {},
   "outputs": [
    {
     "data": {
      "text/plain": [
       "(2962, 32)"
      ]
     },
     "execution_count": 10,
     "metadata": {},
     "output_type": "execute_result"
    }
   ],
   "source": [
    "rates[0].shape"
   ]
  },
  {
   "cell_type": "code",
   "execution_count": 9,
   "id": "2f950ba2-eb5f-4186-bc52-57b2d13bc696",
   "metadata": {},
   "outputs": [
    {
     "data": {
      "text/plain": [
       "(1481, 32)"
      ]
     },
     "execution_count": 9,
     "metadata": {},
     "output_type": "execute_result"
    }
   ],
   "source": [
    "new_rates[0].shape"
   ]
  },
  {
   "cell_type": "code",
   "execution_count": 11,
   "id": "0d22677e-5e0e-4fd5-9f9a-819c483e5628",
   "metadata": {},
   "outputs": [
    {
     "data": {
      "text/plain": [
       "(1481, 7)"
      ]
     },
     "execution_count": 11,
     "metadata": {},
     "output_type": "execute_result"
    }
   ],
   "source": [
    "new_angles[0].shape"
   ]
  },
  {
   "cell_type": "code",
   "execution_count": 12,
   "id": "536e18f2-2826-4ec9-99b2-f91f91146347",
   "metadata": {},
   "outputs": [
    {
     "data": {
      "text/plain": [
       "(2962, 17, 3)"
      ]
     },
     "execution_count": 12,
     "metadata": {},
     "output_type": "execute_result"
    }
   ],
   "source": [
    "coords[0].shape"
   ]
  },
  {
   "cell_type": "code",
   "execution_count": 20,
   "id": "d2b9b742-ad9a-4c11-8fad-0f84133e33ea",
   "metadata": {},
   "outputs": [],
   "source": [
    "dataset_x = np.random.rand(3,2)\n",
    "modifier = np.random.rand(3,3)\n",
    "\n",
    "dataset_y = np.dot(modifier, dataset_x)"
   ]
  },
  {
   "cell_type": "code",
   "execution_count": 21,
   "id": "7e211df8-09b7-4610-9e35-38aa50fdadcf",
   "metadata": {},
   "outputs": [],
   "source": [
    "X = dataset_x\n",
    "Y = dataset_y"
   ]
  },
  {
   "cell_type": "code",
   "execution_count": 22,
   "id": "9f81e8c5-2ec8-4848-9db6-419bce55580d",
   "metadata": {},
   "outputs": [
    {
     "name": "stdout",
     "output_type": "stream",
     "text": [
      "[[1.         0.36449102]\n",
      " [0.36449102 1.        ]]\n"
     ]
    },
    {
     "data": {
      "application/vnd.jupyter.widget-view+json": {
       "model_id": "6be4f2039d364b25b31e3a9bc14804fd",
       "version_major": 2,
       "version_minor": 0
      },
      "text/html": [
       "\n",
       "            <div style=\"display: inline-block;\">\n",
       "                <div class=\"jupyter-widgets widget-label\" style=\"text-align: center;\">\n",
       "                    Figure\n",
       "                </div>\n",
       "                <img src='data:image/png;base64,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' width=640.0/>\n",
       "            </div>\n",
       "        "
      ],
      "text/plain": [
       "Canvas(toolbar=Toolbar(toolitems=[('Home', 'Reset original view', 'home', 'home'), ('Back', 'Back to previous …"
      ]
     },
     "metadata": {},
     "output_type": "display_data"
    }
   ],
   "source": [
    "fig = plt.figure()\n",
    "ax = fig.add_subplot(111)\n",
    "ax.plot(X[:,0], X[:,1])\n",
    "ax.plot(Y[:,0], Y[:,1])\n",
    "\n",
    "ax.scatter(X[:,0], X[:,1], c='blue')\n",
    "ax.scatter(Y[:,0], Y[:,1],c='orange')\n",
    "\n",
    "\n",
    "print(np.corrcoef(X[:,0], Y[:,0]))"
   ]
  },
  {
   "cell_type": "code",
   "execution_count": 23,
   "id": "e2e19a0a-8dde-4e4f-91b5-1ce96b99da9b",
   "metadata": {},
   "outputs": [],
   "source": [
    "scaler = StandardScaler()\n",
    "sca_X = scaler.fit_transform(X)\n",
    "sca_Y = scaler.fit_transform(Y)"
   ]
  },
  {
   "cell_type": "code",
   "execution_count": 24,
   "id": "a3e7316f-4a9e-45e4-93c8-2c1b0fb142c1",
   "metadata": {},
   "outputs": [
    {
     "name": "stdout",
     "output_type": "stream",
     "text": [
      "[[1.         0.99994357]\n",
      " [0.99994357 1.        ]]\n"
     ]
    },
    {
     "data": {
      "application/vnd.jupyter.widget-view+json": {
       "model_id": "ec2df24327fb41aba2c065cf94eb3a0d",
       "version_major": 2,
       "version_minor": 0
      },
      "text/html": [
       "\n",
       "            <div style=\"display: inline-block;\">\n",
       "                <div class=\"jupyter-widgets widget-label\" style=\"text-align: center;\">\n",
       "                    Figure\n",
       "                </div>\n",
       "                <img src='data:image/png;base64,iVBORw0KGgoAAAANSUhEUgAAAoAAAAHgCAYAAAA10dzkAAAAOXRFWHRTb2Z0d2FyZQBNYXRwbG90bGliIHZlcnNpb24zLjQuMiwgaHR0cHM6Ly9tYXRwbG90bGliLm9yZy8rg+JYAAAACXBIWXMAAA9hAAAPYQGoP6dpAABbg0lEQVR4nO3dd3yV9f3+8dc5J4uQwcg4CYS9SQREQVAEBAwJMtwbF1pt7ddVq7Tuam2t9mdtbbUuHNU6igsIGxUVUaYJYc8AOYEQyJ7n3L8/bgxEQAknyX3G9Xw88tBzzn2SK6d3c1/e57zvj80wDAMRERERCRp2qwOIiIiISMtSARQREREJMiqAIiIiIkFGBVBEREQkyKgAioiIiAQZFUARERGRIKMCKCIiIhJkVABFREREgowKoIiIiEiQUQEUERERCTIqgCIiIiJBRgVQREREJMioAIqIiIgEGRVAERERkSCjAigiIiISZFQARURERIKMCqCIiIhIkFEBFBEREQkyKoAiIiIiQUYFUERERCTIqACKiIiIBBkVQBEREZEgowIoIiIiEmRUAEVERESCjAqgiIiISJBRARQREREJMiqAIiIiIkFGBVBEREQkyKgAioiIiAQZFUARERGRIKMCKCIiIhJkVABFREREgowKoIiIiEiQUQEUERERCTIqgCIiIiJBRgVQREREJMioAIqIiIgEGRVAERERkSCjAigiIiISZFQARURERIKMCqCIiIhIkFEBFBEREQkyKoAiIiIiQUYFUERERCTIqACKiIiIBBkVQBEREZEgowIoIiIiEmRUAEVERESCjAqgiIiISJBRARQREREJMiqAIiIiIkFGBVBEREQkyKgAioiIiAQZFUARERGRIKMCKCIiIhJkVABFREREgkyI1QH8mcfjYe/evURHR2Oz2ayOIyIiIifBMAxKS0tJTk7Gbg/Oc2EqgF7Yu3cvKSkpVscQERGRU5CXl0fHjh2tjmEJFUAvREdHA+YOFBMTY3EaERERORklJSWkpKTUH8eDkQqgF3542zcmJkYFUERExM8E88e3gvONbxEREZEgpgIoIiIiEmRUAEVERESCjAqgiIiISJBRARQREREJMiqAIiIiIkFGBVBEREQkyKgAioiIiAQZXQhaRES853HD/qVQmQ+tkiB+BNgdVqcSkRNQAZQm5XbD0qWQnw9JSTBiBDh0DBAJbHkzYeUdULH7yH2RHWHw3yDlIutyicgJ6S1gaTIzZ0KXLjB6NFx1lfnPLl3M+0UkQOXNhKWXNCx/ABV7zPvz9AdAxBepAEqTmDkTLrkEdv/oGLBnj3m/SqBIAPK4zTN/GOZt4+gHD99Yeae5nYj4FBVA8ZrbDXfcAcbhv/chsRWExpcAR+67805zOxEJIPuXHjnz5wb2REJJ6FEbGFCRZ24nIj5FBVC8tnTpkTN/rboXkDztc+ImrAWb2f4MA/LyzO1EJIBU5pv/rLHDrtZQEQL7wsFzgu1ExGeoAIrX8o/62169ty2eOjthiSVEnbbrhNuJSABolQQVDrP81TogxAMpFcceWVolWRJPRE5MBVC8lnTU33ZPZRjFS3sB0ObcjdjDa4+7nYgEgLxtsLs1eGwQUQedyiH86NN/NohMMS8JIyI+RQVQvDZiBHTsCDabebt0TWdqCqNwRNYSe84mbDZISTG3E5EA4HHDvN/DrLvM29G10LESQo6eAjn8B2Hws7oeoIgPUgEUrzkc8Le/mf9uswEeOwcX9gcg+vSdhLYv5dlndT1AkYBQXQr/vQqW/cO8Pfr3cOmbENWh4XaRHWHEB7oOoIiPshmGYfz8ZnI8JSUlxMbGUlxcTExMjNVxLDdzpjkN/MNASPyFK4jsVUCvmDjmTR+C7YdThCLinw7tgrevgH3rICQCpvwLUg8XPK0EIn5Ex2+tBCJN6KKLYPLkIyuBOGL78cDX+9lUUsiC3ALO7++0OqKInKq8b80zf+X7ISoRrngHOg4+8rjdAYmjLIsnIo2jAihNyuGAUaN+uBXJTkdXnl+ylcdnr+fcXvFEhOqMgIjf+f49+Ph2cFeDMw2u/C/EdrQ6lYh4QZ8BlGb1y1E9SIwJZ1dRBa98ud3qOCLSGB4PLH4cZt5slr8+F8ANc1X+RAKACqA0q9bhIdyf0QeA55dswVVcZXEiETkpNRXwwfXwxV/M22ffCZe9CeFRVqYSkSaiAijNbsrADpzeqQ0VNW6emrvB6jgi8nNK8mFGJuR+DPZQmPxPGPco2HXIEAkU+n+zNDubzcYjk8zLwsxcvYdVuw5anEhETmjvGnjpPNi7Glq1g+s+gUFXW51KRJqYCqC0iNM6tuHSwebnhh79ZB0ej64+JOJzcj+B1zKgdC/E9YabF0Pn4VanEpFmoAIoLebe8b2JCg9h7e5iPli12+o4IvIDw4Clf4X3roXaCug+BqYtgHZdrU4mIs1EBVBaTEJ0BP83pgcAT83dSGlV7c88Q0SaXV01fHQbLHrUvD3kF3DVexARa20uEWlWKoDSoq4f3pVuca0pLKvmH4u3WB1HJLiVF8Lrk2DtO2BzQObTkPkUOHSJWJFApwIoLSosxM6DF/QD4NWvtrNtf5nFiUSC1L718NJoyPsGwmPhmg9gyM1WpxKRFqICKC1udJ8ERvWOp9Zt8Pjs9VbHEQk+mxfCy+PMtX3bdoVpC6H7eVanEpEWpAIolnjwgn6E2G0s3rCPJRv3WR1HJDgYBnzzArx9KdSUQuezzUnf+F5WJxORFqYCKJboHh/FDWd3AeAPs3KpqfNYG0gk0LlrYfbdMPc+MDww6Bq49iOIbGd1MhGxgAqgWObXY3oSFxXGtv3lvLFsh9VxRAJX5UF462JY8Spgg3F/gEn/gJAwq5OJiEVUAMUyMRGh3JveG4C/LdzM/tJqixOJBKADW83P+23/HEJbwxVvw9n/Bzab1clExEIqgGKpSwenkNYhltLqOp6et9HqOCKBZftSc1m3A5shpiPcNA/6ZFqdSkR8gAqgWMput/HIJPOyMO+tzCN7d7HFiUQCxMrX4c0pUHUIOpxhDns406xOJSI+QgVQLDe4czumDEzGMODRT9dhGFonWOSUedww7/fw6f+Bpw5SL4brZ0F0otXJRMSHqACKT7g/oy+tQh2s2HmQT9butTqOiH+qLoX/XgXL/mHeHjUdLn4FQltZm0tEfI4KoPgEZ2wEvxrdHYAn52ygoqbO4kQifubQLnglHTbNhZAIuORVGHW/hj1E5LhUAMVnTBvRjZR2rXCVVPHPJVutjiPiP/K+M4c99q2DqES4fo751q+IyAmoAIrPiAh18PtMcyDk30u3kVdUYXEiET/w/fswYwKU74fENHPYo+Ngq1OJiI9TARSfkt4/kbN7tKemzsMTWidY5MQ8Hlj8BMycBu5q6D0BbpwLsR2tTiYifkAFUHyKzWbjoQv647DbmLvOxddbCq2OJOJ7airggxvgi6fM22ffAZe/BeFR1uYSEb+hAig+p7czmmuGdgLg0U9zqXNrnWCReqUu8y3f3I/AHgqT/wnjHgO7/pyLyMnTXwzxSXeN60XbyFA2FpTy9re7rI4j4hvy18K/R8PeVdCqHUz9GAZdbXUqEfFDKoDik9pEhnH3+eY6wc/M38TB8hqLE4lYbP2n8Op4KN0Lcb3h5kXQ5WyrU4mIn1IBFJ911ZBO9HFGU1xZy18XbLI6jog1DAO+/H/w7jVQWwHdz4NpC6BdN6uTiYgfUwEUn+Ww23h4Yn8A/rN8J+vzSyxOJNLC6qrho1/CwkfM20Nugaveh4hYS2OJiP9TARSfNqx7ezLTnHi0TrAEm/JCeGMyrH0bbA7IfBoy/wKOEKuTiUgAUAEUn/e7zL6Eh9j5ZlsRc3NcVscRaX77Npgre+xaBuGxcPX7MORmq1OJSABRARSf17FtJL8Yaa4T/Pjs9VTVui1OJNKMNi+EV8bBoZ3Qtov5eb8eY6xOJSIBRgVQ/MKtI7uRFBvBnkOV/PuLbVbHEWl6hgHLX4S3L4XqEuh8NkxbDPG9rU4mIgFIBVD8QmRYCNMz+wLwz8+2sPdQpcWJRJqQuxZm3wNZvwXDAwOvgWs/gtbtrU4mIgFKBVD8xsTTkhjSpR1VtR7+lLXB6jgiTaPyEPznEljxCmAzV/WY/A8ICbM6mYgEMBVA8Rs2m42HJvbDZoNP1u7lux1FVkcS8c6BrfDyWNj2GYS2hiveNtf1tdmsTiYiAU4FUPxKaodYrjjTXCf4kU/W4fbosjDip7YvhZfHwIHNENMRbpwLfTKtTiUiQUIFUPzOb87vRXRECOv2lvDeijyr44g03qo34M0pUHkQOgyGmxdD0mlWpxKRIKICKH6nfVQ4d47tBcBf5m2kuLLW4kQiJ8njhvkPwCe/Bk8d9L8Irp8N0YlWJxORIKMCKH5p6rDO9EiIoqi8hucWbbY6jsjPqy6F/14NX//dvD3yfrjkVQhtZW0uEQlKKoDil0Iddh68oB8Ar3+9gy37Si1OJPITDu2CV8fDpiwIiYCLX4HR0zXsISKWUQEUvzWyVzxj+yZQ5zF4bNZ6rRMsvinvO3NZt4IcaJ1gvuWbdonVqUQkyAVMAfziiy+YOHEiycnJ2Gw2Pvroo599zmeffcbpp59OeHg4PXr0YMaMGc2eU5rWAxP6Eeaw88Wm/Sxav8/qOCINZX8AMyZA+X5ITDOHPTqeYXUqEZHAKYDl5eUMGDCA559//qS23759OxMmTGD06NGsWbOGO++8k2nTpjFv3rxmTipNqUtca248pysAj8/OpbpO6wSLD/B4YMkf4X83gbsaemeal3lpk2J1MhERAGxGAL5vZrPZ+PDDD5kyZcoJt7nvvvuYPXs2OTk59fddccUVHDp0iLlz557UzykpKSE2Npbi4mJiYmK8jS2nqKy6jvOe/ox9pdXcn9GHW0d2tzqSBLPaSvjoNlj3oXl7+P/B2EfA7rA0logcoeN3AJ0BbKxly5YxduzYBvelp6ezbNkyixLJqYoKD+G+8X0A+PuizewrqbI4kQStUhe8lmmWP3soTH4ezv+Dyp+I+JygLYAul4vExIbX3kpMTKSkpITKysrjPqe6upqSkpIGX+IbLhzUgQEpbSivcfPnuRutjiPBKH+tOeyxdxW0agtTP4JB11idSkTkuIK2AJ6KJ598ktjY2PqvlBR9nsdX2O02HploXhbmf6t2s3rXQYsTSVBZP8u8zEvJHojrZQ57dDnH6lQiIicUtAXQ6XRSUFDQ4L6CggJiYmJo1er4F2adPn06xcXF9V95eVqGzJcM6tSWi0/vCMCjn+bi0TrB0twMA778f/DuNVBbAd1Gw00LoF03q5OJiPykoC2Aw4YNY9GiRQ3uW7BgAcOGDTvhc8LDw4mJiWnwJb7lvvG9aR3mYE3eIT5cvcfqOBLI6qrh41/BwkcAA86cBld/AK3aWBxMROTnBUwBLCsrY82aNaxZswYwL/OyZs0adu3aBZhn76ZOnVq//a233sq2bdv47W9/y4YNG/jnP//Je++9x1133WVFfGkiCTER3H5eTwD+NHcDZdV1FieSgFR+AN6YAmv+AzYHZD4NE54BR4jVyURETkrAFMAVK1YwaNAgBg0aBMDdd9/NoEGDeOihhwDIz8+vL4MAXbt2Zfbs2SxYsIABAwbwzDPP8PLLL5Oenm5Jfmk6N57ThS7tI9lfWs0/Fm+xOo4Emn0b4KXRsOtrCI+Bq9+HITdbnUpEpFEC8jqALUXXEfJdC3MLmPbGCsIcdubfdS5d4lpbHUkCwZaF8P4NUF0CbbvAle9CQh+rU4lII+n4HUBnAEWONqZvAuf2iqfG7eHx2eutjiOBYPm/4T+XmuWv03CYtljlT0T8lgqgBCSbzcZDF/QlxG5j4foCvti03+pI4q/cdTD7Hsi6FwwPDLzavMZf6/ZWJxMROWUqgBKweiREM3VYFwAem5VLrdtjbSDxP5WH4D+XwHcvAzYY+6i5ukdIuNXJRES8ogIoAe2OsT1p3zqMLfvKeGPZTqvjiD85sBVeGQfblkBoJFz+FpxzJ9hsVicTEfGaCqAEtNhWofwmvTcAzy7cxIGyaosTiV/Y8SW8PAYKN0FMB7hxHvS9wOpUIiJNRgVQAt5lZ6TQPzmG0qo6np6/yeo44utWvWle46/yICSfbi7rlnSa1alERJqUCqAEPIfdxiOT+gPw3+92kbOn2OJE4pM8bpj/AHxyO3hqof+FcMMciHZanUxEpMmpAEpQOLNLOyYOSMYw4NFP16HLX0oD1WXmer5f/928PfJ+uOQ1CD3+uuAiIv5OBVCCxvSMPkSE2vlux0FmfZ9vdRzxFYfy4NXxsHEOOMLh4ldg9HQNe4hIQFMBlKCR3KYVvxzVA4An56ynssZtcSKx3O4V8NJ5UJANrRPg+tmQdonVqUREmp0KoASVW87tRoc2rdhbXMW/Pt9qdRyxUvYH8FomlO+DxFRz2CPlTKtTiYi0CBVACSoRoQ5+P6EvAC9+vpXdByssTiQtzjBgyR/hfzeBuxp6ZcCNc6FNitXJRERajAqgBJ2MVCdndWtHdZ2HP87ROsFBpbYSPrgRPv+zeXv4r+GK/0B4tLW5RERamAqgBB2bzcbDE/tjt8GcbBfLth6wOpK0hFIXzJgA62aCPQQm/R3OfxzsDquTiYi0OBVACUp9k2K4emhnwLwsTJ3WCQ5s+d+bwx57VkKrtjD1Yzh9qtWpREQsowIoQevucb2IbRXKBlcp73yXZ3UcaS4bZpuXeSnZA3G9YNoi6HKO1alERCylAihBq23rMO4e1wuAZ+Zv5FBFjcWJpEkZBnz5LPz3aqgth26j4aYF0L671clERCynAihB7eqhneidGM2hilqeXbjZ6jjSVOpq4OPbYeHDgAFnToOr34dWbaxOJiLiE1QAJaiFOOw8PLEfAG9+s5ONrlKLE4nXyg/AG5NhzVtgs0PGX2DCM+AItTqZiIjPUAGUoDe8Rxzj+ztxewwem6V1gv3a/o3w8nmw62sIj4Gr3oeht1idSkTE56gAigC/n9CXsBA7X205wLx1BVbHkVOxZRG8PA4O7oA2nc3P+/Uca3UqERGfpAIoAqS0i+SWEd0AeGJOLlW1WifYryz/N/znUqguhk7DzGXdEvpYnUpExGepAIoc9svR3XHGRJBXVMkrX263Oo6cDHcdzP4NZN0LhhsGXGVe4691nNXJRER8mgqgyGGRYSFMzzTPGj2/ZAuu4iqLE8lPqjwEb18K370E2GDsIzDlnxASbnEwERHfpwIocpRJA5I5o3NbKmrc/ClL6wT7rKJt8Mo42LoYQiPh8rfgnLvAZrM6mYiIX1ABFDnKD+sE22zw0Zq9rNxZZHUk+bEdX8FLY6BwE8R0gBvnQt8LrE4lIuJXVABFfiStYyyXDU4B4JFPcvF4dFkYn7H6LfMaf5VFkHy6OeyRNMDqVCIifkcFUOQ47h3fm+jwELL3FPPByt1WxxGPG+Y/CB//Cjy10P9CuH42RDutTiYi4pdUAEWOIy4qnDvG9gTgqXkbKKmqtThREKsug3evga+fM2+PvA8ufhXCIq3NJSLix1QARU5g6rAudItvTWFZDX9fpHWCLVG8G14dDxvngCMcLnoZRv8O7PrTJSLiDf0VFTmBsBA7D15grhP82lc72Lq/zOJEQWb3SnjpPCjIhtbxcP0sOO1Sq1OJiAQEFUCRnzC6dwLn9UmgzmPw+Kxcq+MEj+wPYEYmlBVAQn9z2CNliNWpREQChgqgyM948IJ+hDpsLNm4nyUb9lkdJ7AZBix5Ev53E9RVQa/xcNM8aNPJ6mQiIgFFBVDkZ3SNa82NZ3cF4A+zcqmp81icKEDVVprF7/M/mbeH3Q5XvA3h0dbmEhEJQCqAIifh9vN6EBcVzrbCcmZ8rXWCm1xpAcy4AHL+B/YQmPR3SH8C7A6rk4mIBCQVQJGTEB0Rym/H9wbguUVb2FeqdYKbjCvbHPbYswJatYVrP4LTp1qdSkQkoKkAipykS07vyICOsZRV1/H0vI1WxwkMG+bAK+lQshva94Rpi6DrCKtTiYgEPBVAkZNkt9t4aGJ/AN5fuZvvdx+yNpA/Mwz46m/w36ugthy6jYJpC6B9d6uTiYgEBRVAkUYY3LktFw7qgGHAI5+swzC0TnCj1dXAx7fDgocAA864Ca7+wHz7V0REWoQKoEgj3Z/Rh8gwB6t2HeKjNXusjuNfyg/Am1NgzVtgs0PGUzDhGXCEWp1MRCSoqACKNFJiTAS/Gt0DgD9lbaC8us7iRH5i/yZ4eQzs/ArCouGq92HoL8BmszqZiEjQUQEUOQU3ndOVTu0iKSip5p+fbbE6ju/bsgheHgsHt0Obzubn/XqOtTqViEjQUgEUOQURoQ4emNAXgJeWbmfXgQqLE/mwb1+C/1wK1cXQaZi5rFtCX6tTiYgENRVAkVM0rl8i5/SIo6bOw+OztU7wMdx1MOdemPMbMNww4EqY+jG0jrM6mYhI0FMBFDlFNpuNhyf2w2G3MT+3gC83F1odyXdUFcPbl8G3/zZvj3kYpvwLQsKtzSUiIoAKoIhXeiZGc+1ZnQF49NN11Lm1TjBF2+DlcbB1EYRGwuVvwYi7NewhIuJDVABFvHTX2F60jQxl874y3vpmp9VxrLXza3hpDBRuhOhkuHEu9J1odSoREfkRFUARL8VGhnLP+eY6wX9dsImi8hqLE1lk9X/g9UlQWQTJg8xhj6QBVqcSEZHjUAEUaQJXDulE36QYSqrqeGZ+kK0T7PGYq3p8/Evw1EK/KXD9HIhJsjqZiIicgAqgSBNw2G08MrEfAO98u4vcvSUWJ2oh1WXw7jXmur4A5/4WLnkNwiKtzSUiIj9JBVCkiQzt1p4JpyXhMcyBkIBfJ7h4N7w6HjbOBkc4XPQSnPd7sOvPioiIr9NfapEm9LvMvoSH2Fm+vYg52S6r4zSf3SvhpfOgIBtax8P1s+C0y6xOJSIiJ0kFUKQJdWjTiltHdgfgj3PWU1njtjhRM8j5H8zIhLICSOhvDnukDLE6lYiINIIKoEgTu3Vkd5JjI9hzqJIXv9hqdZymYxjw2Z/hgxuhrgp6psNN86BNJ6uTiYhII6kAijSxVmEOfnd4neAXPt/KnkOVFidqArWV8L9p8NkfzdvDbocr34HwaGtziYjIKVEBFGkGE9KSGNq1HVW1Hp6cs97qON4pLYAZF0DOB2APgYnPQfoTYHdYnUxERE6RCqBIM7DZbDw0sR92G8z6Pp/l2w5YHenUuLLNYY89KyCiDVz7IQy+zupUIiLiJRVAkWbSPzmWK4aYn4975NNc3B4/uyzMxix4JR1KdkP7HuawR9dzrU4lIiJNQAVQpBn95vzexESEsD6/hHe/y7M6zskxDPjqOXjnSqgth64jYdpCaN/d6mQiItJEVABFmlG71mHcNa4XAE/P30hxRa3FiX5GXQ18cjsseBAw4Iwb4Zr/Qau2VicTEZEmpAIo0syuOaszPROiKCqv4dlFm6yOc2IVRfDmhbD6LbDZYfyfYcJfwRFqdTIREWliAVUAn3/+ebp06UJERARDhw7l22+/PeG2M2bMwGazNfiKiIhowbQSLEIddh46vE7wG8t2srmg1OJEx7F/kznssfNLCIuGq96Ds24Fm83qZCIi0gwCpgC+++673H333Tz88MOsWrWKAQMGkJ6ezr59+074nJiYGPLz8+u/du7c2YKJJZiM6BnPuH6JuD0Gj83K9a11grcuhpfHwsHt5kWdpy2AnuOsTiUiIs0oYArgX//6V26++WZuuOEG+vXrxwsvvEBkZCSvvvrqCZ9js9lwOp31X4mJiS2YWILNAxP6Euaws3RzIQvXn/g/TFrUty/BW5dAdTGknAU3L4GEvlanEhGRZhYQBbCmpoaVK1cyduzY+vvsdjtjx45l2bJlJ3xeWVkZnTt3JiUlhcmTJ7Nu3bqf/DnV1dWUlJQ0+BI5WZ3bt2baiK4APD47l+o6C9cJdtfBnN/CnN+A4YbTroDrPoHWcdZlEhGRFhMQBbCwsBC3233MGbzExERcLtdxn9O7d29effVVPv74Y9566y08Hg/Dhw9n9+7dJ/w5Tz75JLGxsfVfKSkpTfp7SOD71egeJESHs/NABa98ud2aEFXF8PZl8O2L5u0xD8GFL0BIuDV5RESkxQVEATwVw4YNY+rUqQwcOJCRI0cyc+ZM4uPjefHFF0/4nOnTp1NcXFz/lZfnJ9d1E5/ROjyE+zP6APCPxVsoKKlq2QBF2+HlcbB1EYRGwmVvwoh7NOwhIhJkAqIAxsXF4XA4KCgoaHB/QUEBTqfzpL5HaGgogwYNYsuWLSfcJjw8nJiYmAZfIo01ZWAHBnVqQ0WNmz/P3dByP3jn1+akb+FGiE6CG7Kg36SW+/kiIuIzAqIAhoWFMXjwYBYtWlR/n8fjYdGiRQwbNuykvofb7SY7O5ukpKTmiikCgN1u45GJ/QGYuWoPq3cdbP4fuuZteH0SVBZB0kBz2CN5YPP/XBER8UkBUQAB7r77bl566SVef/111q9fz2233UZ5eTk33HADAFOnTmX69On12z/22GPMnz+fbdu2sWrVKq655hp27tzJtGnTrPoVJIgMSGnDpYM7AvDIJ+vwNNc6wR4PLHgYProNPLXQb7J55i9G/6EjIhLMQqwO0FQuv/xy9u/fz0MPPYTL5WLgwIHMnTu3fjBk165d2O1H+u7Bgwe5+eabcblctG3blsGDB/P111/Tr18/q34FCTL3ju9NVo6LtbuL+d+q3Vx6RhMPFdWUw8xbYMMs8/a598Ko34E9YP67T0RETpHN8Kkr0vqXkpISYmNjKS4u1ucB5ZS8+PlWnszaQFxUOEt+M5LoiCZadq14D7xzObiywREGk/4BAy5vmu8tIuLndPwOoLeARfzRDWd3pWtcawrLqvnHkhMPIDXKnpXw0miz/LWOh+tnq/yJiEgDKoAiFgoLsfPgBebKG69+uZ3theXefcOcmfBaJpQVQEI/uHkxpAxpgqQiIhJIVABFLHZen0RG9Y6n1m3w+KzcU/smhgGfPwUf3AB1VdAzHW6ab67tKyIi8iMqgCI+4IEJ/Qix21i0YR+fbWzkOsG1VTDzZljyhHn7rF/Ble9AeHTTBxURkYCgAijiA3okRHH98C4APDYrl1q35+SeWFoAMyZA9vtgD4GJf4PxfwS7o/nCioiI31MBFPER/ze2J3FRYWzbX87rX+/4+Se4cuDlMbBnBUS0gWs/hMHXN3NKEREJBCqAIj4iJiKUe9N7A/C3hZspLKs+8cYbs+DVdCjOg/Y9YNoi6HpuCyUVERF/pwIo4kMuGZxCaocYSqvreHrexmM3MAz4+u/wzpVQU2aWvmkLIa5Hy4cVERG/pQIo4kMcR60T/O6KPLJ3Fx95sK4GPvk1zH8AMMy3e6+ZCa3aWpJVRET8lwqgiI85o0s7Jg9MxjDg0U/XYRgGVBTBmxfC6jfBZof0J+GCZ8HRRCuHiIhIUFEBFPFB92f0oVWogxU7D7L4yy/NYY+dX0JYNFz5Lgz7JdhsVscUERE/pQIo4oOSYlvxq9HdOduezZBFl0HRNvOizjfNh17nWx1PRET8nAqgiI/6ReTnvB72Z6KpYE/0aTBtMST2szqWiIgEABVAEV/jroOs+widew8heJjpPof0g78hr6a11clERCRAqACK+JKqYnjnclj+AgDGeQ/yQcoDlNWF8Mc56y0OJyIigUIFUMRXFG2HV86HLQshpBVc9ga2c3/Dw5NSsdsgK8fF11sLrU4pIiIBQAVQxBfsXGZO+u7fANFJcGMW9JsMQG9nNNec1RmARz/Jpe5k1wkWERE5ARVAEauteQfemAQVByBpINy8GJIHNdjk7nG9aBMZysaCUt7+dpc1OUVEJGCoAIpYxeOBhY/AR7eCuwb6ToIbsiAm+ZhN20SGcc+4XgA8M38TB8trWjisiIgEEhVAESvUlMN718KX/8+8PeI3cOnrEBZ5wqdcOaQTfZzRFFfW8v8WbmqhoCIiEohUAEVaWvEeeHU8bJgFjjC48N8w5kGw//T/HUMcdh6aaF4H8K1vdrLBVdISaUVEJACpAIq0pD0r4aXzwPU9RMbBdbNgwOUn/fTh3ePISHXiMcyBEMMwmjGsiIgEKhVAkZay7kN4LRPKXBDf1xz26DS00d/md5l9CQ+xs2zbAeatczVDUBERCXQqgCLNzTDg87/A+9dDXRX0PN9c07dt51P6dintIvnFud0AeHz2eqpq3U0YVkREgoEKoEhzqq2CmTfDksfN22f9Eq78L0TEePVtbx3VnaTYCHYfrOSlL7Y1QVAREQkmKoAizaVsH7x+AWS/D/YQuOBZGP8k2B1ef+vIsBDuz+gDwD8/20p+caXX31NERIKHCqBIcyhYZw577P4OImLhmplwxg1N+iMmDUjmzC5tqax18+ScDU36vUVEJLCpAIo0tY1zzTV9i/OgXXeYthi6jWzyH2Oz2Xh4Yn9sNvhk7V6+21HU5D9DREQCkwqgSFMxDPj6H/DOFVBTBl3PhWkLIa5Hs/3I1A6xXHFmCgCPfroOt0eXhRERkZ+nAijSFOpq4NP/g/m/BwwYfL35tm9ku2b/0b85vzfRESHk7Cnh/RV5zf7zRETE/6kAinirogjeughWvQE2O6Q/aQ58OEJb5Me3jwrnjjE9AfjLvI0UV9a2yM8VERH/pQIo4o3CzfDyGNixFMKizUu8DPsl2GwtGuO64V3oHt+aA+U1/H3R5hb92SIi4n9UAEVO1dYlZvkr2gaxneCmedAr3ZIooQ47D03sD8CMr3ewZV+ZJTlERMQ/qACKnIrvXoG3LoaqYug4xFzWLbG/pZFG9opnbN8E6jwGf5ildYJFROTEVABFGsNdB1n3w+y7wXBD2mVw3acQFW91MgAemNCPUIeNzzftZ/GGfVbHERERH6UCKHKyqorNS7ws/5d5+7wH4aJ/Q2iEtbmO0iWuNTee0xWAP8zKpbpO6wSLiMixVABFTsbBHfBKOmxZACGt4NLX4dzftPiwx8n49Xk9iY8OZ8eBCmZ8tcPqOCIi4oNUAEV+zq5vzGXd9q+H6CS4YQ70n2J1qhOKCg/hvvHmOsF/X7yFfaVVFicSERFfowIo8lPW/hdenwgVByBpgDns0eF0q1P9rIsGdWBAShvKqut4au5Gq+OIiIiPUQEUOR6PBxY+Ch/+Atw10Hci3JAFMclWJzspdruNRyb2A+CDlbtZk3fI2kAiIuJTVABFfqymHN6fCl/+1bw94h649A0Ia21trkYa1KktF53eAYBHPlmHR+sEi4jIYSqAIkcr2QuvZcD6T8ERBhe+CGMeArt//l/l/vF9aB3mYE3eIT5as8fqOCIi4iP886gm0hz2rIJ/j4b8tRAZZ17fb8AVVqfySkJMBLefZ64T/KesDZRV11mcSEREfIEKoAjAuo/gtUwoc0F8X3PYo9NZVqdqEjee04XO7SPZV1rN80u2WB1HRER8gAqgBDfDgC/+Au9fB3WV0GMc3DQf2na2OlmTCQ9x8MAEcyDklaXb2VFYbnEiERGxmgqgBK/aKph5Cyx+3Lx91i/hyv9CRIy1uZrB2L4JjOgZR43bwxNz1lsdR0RELKYCKMGpbJ95fb/s98DmgAv+H4x/EhwhVidrFjabjYcn9iPEbmNBbgFLN++3OpKIiFhIBVCCT8E6c2WP3d9CRCxcOxPOuNHqVM2uR0I0U4d1AeDRT3OpdXusDSQiIpZRAZTgsmkevHI+FOdBu+4wbRF0G2V1qhZzx9ietGsdxpZ9Zby5bKfVcURExCIqgBIcDAOWPQ/vXAE1ZdBlBExbCHE9rU7WomJbhfKb83sD8P8WbuJAWbXFiURExAoqgBL43LXw6R0w73dgeOD0qXDNTIhsZ3UyS1x+Zgr9k2MorarjmQWbrI4jIiIWUAGUwFZRBG9eCKteB2yQ/keY+ByEhFmdzDIOu42HJ/YH4J1vd7Fub7HFiUREpKWpAErgKtwCL4+FHUshLAqueheG/QpsNquTWW5I13ZMHJCMYcCjn+RiGFonWEQkmKgASmDa9hm8fB4UbYXYTubFnXulW53Kp0zP6ENEqJ1vdxQx6/t8q+OIiEgLUgGUwLPiVXjzIqgqho5D4OZFkNjf6lQ+J7lNK24b2QOAJ+esp7LGbXEiERFpKSqAEjg8bsi6H2bdBYYb0i6D6z6FqASrk/msX4zsRoc2rdhbXMULn2+1Oo6IiLQQFUAJDFUl8PblsPxf5u3RD8BF/4bQCGtz+biIUAe/n9AXgBc+38rugxUWJxIRkZagAij+7+AO8+LOWxZASCu4dAaMvFfDHicpI9XJ0K7tqK7z8OScDVbHERGRFqACKP5t1zfw0hjYvx6inHDDHOh/odWp/IrNZuORSf2x22B2dj7fbDtgdSQREWlmKoDiv9b+F16fCBWF4DwNbl4MHU63OpVf6psUw1VDOwHmOsFujy4LIyISyAKqAD7//PN06dKFiIgIhg4dyrfffvuT27///vv06dOHiIgI0tLSmDNnTgslFa94PLDwUfjwF+CugT4XwI1zIbaD1cn82j3jehPbKpT1+SW88+0uq+OIiEgzCpgC+O6773L33Xfz8MMPs2rVKgYMGEB6ejr79u077vZff/01V155JTfddBOrV69mypQpTJkyhZycnBZOLo1SUw7vT4Uv/2rePuduuOxNCGttba4A0LZ1GHeP6wXAM/M3UlxRa3EiERFpLjYjQJYAGDp0KGeeeSb/+Mc/APB4PKSkpPDrX/+a+++//5jtL7/8csrLy5k1a1b9fWeddRYDBw7khRdeOKmfWVJSQmxsLMXFxcTExDTNLyInVrIX3rkC8teCI8xc0m3glVanCih1bg+Zzy1lU0EZ1w/vwiOTdP1EEQk8On4HyBnAmpoaVq5cydixY+vvs9vtjB07lmXLlh33OcuWLWuwPUB6evoJtxeL7V0NL51nlr/I9jD1E5W/ZhDisNevE/zmNzvZVFBqcSIREWkOAVEACwsLcbvdJCYmNrg/MTERl8t13Oe4XK5GbQ9QXV1NSUlJgy9pAbkfw6sZUJoP8X1g2iLoPMzqVAHr7B5xpPdPxO0xeOxTrRMsIhKIAqIAtpQnn3yS2NjY+q+UlBSrIwU2w4Av/gLvTYW6Sugx1lzTt11Xq5MFvN9n9iMsxM6XWwqZn1tgdRwREWliAVEA4+LicDgcFBQ0PFAVFBTgdDqP+xyn09mo7QGmT59OcXFx/VdeXp734eX4aqvMKd/Fj5u3h94GV74LEbHW5goSndpHcvMIs2g/PjuXqlqtEywiEkgCogCGhYUxePBgFi1aVH+fx+Nh0aJFDBt2/LcKhw0b1mB7gAULFpxwe4Dw8HBiYmIafEkzKNsPb0yC798FmwMm/BUy/gSOEKuTBZVfjupBYkw4eUWVvPLldqvjiIhIEwqIAghw991389JLL/H666+zfv16brvtNsrLy7nhhhsAmDp1KtOnT6/f/o477mDu3Lk888wzbNiwgUceeYQVK1Zw++23W/UrCEBBrjnskbfcPNt3zf/gzJusThWUWoeHMD3DXCf4+SVbcBVXWZxIRESaSsAUwMsvv5ynn36ahx56iIEDB7JmzRrmzp1bP+ixa9cu8vPz67cfPnw4b7/9Nv/+978ZMGAAH3zwAR999BGpqalW/Qqyab65pm/xLmjXzRz26D7a6lRBbfLAZAZ3bktFjZs/z9U6wSIigSJgrgNoBV1HqIkYBnzzT5j/ABge6DICLnsDIttZnUyA7N3FTHr+SwwD/nfbcAZ3bmt1JBERr+j4HUBnAMVPuWth1p0w73dm+Tt9KlwzU+XPh6R1jOXSwR0BePTTdXi0TrCIiN9TARTrVBTBWxfByhmADc5/wlzdIyTM6mTyI/em9yE6PITvdxfzwardVscREREvqQCKNQq3wMtjYfsXEBYFV74Dw28Hm83qZHIc8dHh/N+YngA8NXcjpVVaJ1hExJ+pAErL2/Y5vDwGirZCbArcOA96Z1idSn7GdcO70C2uNYVl1fx98Rar44iIiBdUAKVlrXjNfNu36hB0PBNuXgxOTV77g7AQOw9e0A+A177azrb9ZRYnEhGRU6UCKC3D44a5082BD08dpF0K182CqASrk0kjjO6TwOje8dS6DR6fvd7qOCIicopUAKX5VZXAO1eYl3oBGP0AXPQShEZYm0tOyYMX9CPUYWPxhn0s2bjP6jgiInIKVACleR3cCa+mw+b5EBIBl7wGI+/VsIcf6xYfxQ1nm+sE/+HTXGrqPBYnEhGRxlIBlOaza7m5rNu+XIhywg1zIPUiq1NJE/j1eT2IiwpjW2E5r3+9w+o4IiLSSCqA0jzWvguvXwAVheBMM4c9Ogy2OpU0keiIUH6b3geA5xZtZn9ptcWJRESkMVQApWl5PLDoD/DhLeCugT4XmJd5ie1gdTJpYpcM7shpHWMpra7j6XkbrY4jIiKNoAIoTaemAj64HpY+bd4+5y647E0Ia21pLGkedruNhyf2B+C9lXlk7y62OJGIiJwsFUBpGiV74bUMyP0Y7KEw5V8w9hGwaxcLZIM7t+XCQR0wDHjk03UYhtYJFhHxBzo6i/f2rjaHPfLXQGR7uO5TGHiV1amkhdw3vg+RYQ5W7jzIx2v2Wh1HREROggqgeCf3E3g1A0rzIb4PTFsEnYdZnUpakDM2gl+N7gHAk1nrKa+usziRiIj8HBVAOTWGAV88De9dC3WV0GMs3DQf2nW1OplY4KZzutKpXSQFJdX867OtVscREZGfoQIojVdXDR/eCov/YN4eeitc+S5ExFqbSywTEerg9xP6AvDvpdvYdaDC4kQiIvJTVAClccr2w+sT4fv/gs0BE56BjD+DI8TqZGKx8/slck6POGrqPDwxJ9fqOCIi8hNUAOXkFeTCy+dB3nIIj4VrPoAzp1mdSnyEzWbjoYn9cNhtzFtXwFdbCq2OJCIiJ6ACKCdn03x45Xw4tAvadoVpC6H7eVanEh/TKzGaa8/qDMCjn66jzq11gkVEfJEKoPw0w4Bl/4R3LoeaUuh8jrmsW3wvq5OJj7prbC/aRoayqaCM/yzfZXUcERE5DhVAOTF3Lcy6C+ZNB8MDg66Faz+EyHZWJxMfFhsZyj3n9wbgrws2cbC8xuJEIiLyYyqAcnyVB+Gti2Hla4ANzn8cJv0dQsKsTiZ+4MohnejjjKa4spZnFmidYBERX6MCKMc6sBVeHgvbP4fQ1nDlOzD812CzWZ1M/ITDbuORSeY6wW8v38X6/BKLE4mIyNFUAKWh7V+Yy7od2AIxHeGmedA7w+pU4ofO6taeCWlJeAxzIETrBIuI+A4VQDli5Qx480KoOgQdzzSHPZxpVqcSPzY9sw/hIXa+2VZEVo7L6jgiInKYCqCAxw1zfwef3gGeOki9BK6bBdGJVicTP9exbSS3juwOwBOz11NV67Y4kYiIgAqgVJXAO1fCN8+bt0f9Di5+GUIjrM0lAePWkd1Jjo1gz6FKXvx8m9VxREQEFcDgdnAnvJoOm+dBSARc8hqMuk/DHtKkWoU5mJ5prhP8r8+3sPdQpcWJREREBTBY7VoOL4+BfbkQlQjXz4HUi6xOJQHqgtOSGNK1HVW1Hp7M2mB1HBGRoKcCGIy+fw9evwDK95tDHjcvho6DrU4lAcxms/HwxH7YbfDp2r18u73I6kgiIkFNBTCYeDyw+HGYeTO4a6DPBXDDXIjtaHUyCQL9k2O5YkgnAB75ZB1ujy4LIyJiFRXAYFFTAR9cD1/8xbx99p1w2ZsQHmVlKgky94zrRXRECLn5Jby3Is/qOCIiQUsFMBiU5MOMTMj9GOyhMPmfMO5RsOt/fmlZ7aPCuWtsLwD+Mm8jxZW1FicSEQlOagCBbu8ac2WPvauhVTu47hMYdLXVqSSIXTusMz0Toigqr+FvCzdbHUdEJCipAAay3E/gtQwo3Qtxvc1hj87DrU4lQS7UYeehif0AeGPZDrbsK7U4kYhI8FEBDESGAUufgfeuhdoK6H4eTFsA7bpanUwEgBE94xnbN5E6j8Gjn+ZqnWARkRamAhho6qrho9tg0WPm7SG3wFXvQ0SstblEfuTBC/oS5rCzdHMhi9bvszqOiEhQUQEMJOWF8PokWPsO2ByQ+TRk/gUcIVYnEzlG5/atuWmEeVb6D7Nzqa7TOsEiIi1FBTBQ7FsPL42GvG8gPBau+QCG3Gx1KpGf9KvRPUiIDmfngQpe/XKH1XFERIKGCmAg2LwAXh4Hh3ZB264wbaH5uT8RHxcVHsL9GX0A+MfizewrqbI4kYhIcFAB9GeGAd+8AG9fBjWl0Plsc9I3vpfVyURO2pSBHRiY0obyGjd/nrvR6jgiIkFBBdBfuWth9t0w9z4wPDDoGrj2I4hsZ3UykUax2208Mqk/AP9btZvVuw5anEhEJPCpAPqjyoPw1sWw4lXABuP+AJP+ASFhVicTOSUDU9pwyWBzTepHPs3Fo3WCRUSalcZD/c2BreZbvge2QGhruPhl6JNpdSoRr/12fG+ysvNZm3eID1buIaG8I/n5kJQEI0aAw2F1QhGRwKEzgP5k+1JzWbcDWyCmI9w0T+VPAkZCdAS/HtMTgHvf2sB56XVcdRWMHg1dusDMmdbmExEJJCqAvsjjhoLPYMc75j89blj5Orw5BaoOQYczzGEPZ5q1OUWaWLv9Xag9GImtVTWxw7bU379nD1xyiUqgiEhTsRlag+mUlZSUEBsbS3FxMTExMU3zTfNmwso7oGK3edsADsXB/hrzdurFMPl5CG3VND9PxEe43eaZvgPhBSRcsgKjzs7eV86l7lBrAGw26NgRtm/X28Ei4p1mOX77GZ0B9CV5M2HpJUfKnwfY2+pI+Rs0GS5+ReVPAtLSpbB7N1RuTaByWzy2EA9xk1YT2WcvttA6DAPy8sztRETEOxoC8RUet3nmj8MnZGttsCcSahxgM8BZBcZn5iVfbDr9IYEnP/+Hf7NRtKgfSSlLCU8qJn7yajy1dqq2x1OxMYntuxMYRaiVUUVE/J7OAPqK/UuPnPmrscGu1mb5w4DEKoiqhYo8czuRAJSUdOTf64qiyJ8xguJl3aktisQe6iGyVwFxE9fwxLqF3DjjO95fkcehihrrAouI+DF9BtALTfoZgh3vwNdXmf9eHAoFP3qb125AuBu6Z0Lfq6HD6RCbYn4wSiQA/PAZwD17zEVujjAIjS+ldZ98Yvq7sMWW1T8SYrcxrHt7MtOSOL9fIu2jwls6toj4IX0GUAXQK026AxV8BotGm/9uAGUhUOmAKgdUO8A4TtGLjDOLYPLpR/4ZFe9dDhELzZxpTvtCwxL4w3/nfPABpJ1dSlaOiznZ+WxwldZvY7fB0K7tyUxzkt7fSUJMRAsmFxF/ogKoAuiVJt2BPG74pAtU7KH+c4A/MDDfDvbEQfxlkL8GCtaBp+7Y7xObAsmDDhfCQeZXRKx32URa0MyZcMcd5kDID1JS4Nln4aKLGm67vbCcrJx8srJdZO8prr/fZoMzOrclIzWJ8alOkttocEpEjlABVAH0SpPvQD9MAQMNS+Dh0x8jPoCUw0fA2iooyIE9q2DvKvOfhZs4pjwCtO/R8Cxh0mmaJBaf5nab076NWQkkr6iCuTku5uTks3rXoQaPDUxpQ0aqk4zUJDq1j2y+4CLiF1QAVQC90iLXAQSITIHBzx4pfydSVQL5a48Uwr2r4NCuY7ezOSChH3QYdKQYJvQDhyYrJTDkF1cyN8dFVraL73YWNXg7ObVDDBmpSWSkOukWH2VdSBGxjAqgCqBXmm0H8rjNad/KfGiVBPEjwH6Kl34pL4S9qxueKSzfd+x2IRHmyiJHnyls3wPsGhQX/7avtIp56wqYm5PPsq0H8Bz1F6+PM5rxqU4y05LomRCFTUNVIkFBBVAF0Ct+uQMZBpTsaVgI966B6uJjtw2PgaQBDQdNNHksfuxAWTULcgvIynHx1ZZC6o5qg93jW5tnBtOc9EuKURkUCWB+efxuYiqAXgiYHcjjgaJtZiH84Wxh/lqoqzx222MmjwdBVELLZxbxUnFFLQvWm2cGv9hUSI3bU/9Y5/aR5pnB1CRO6xirMigSYALm+O0FFUAvBPQO5K6D/Rsafp7wRJPHMR0bfp5Qk8fiZ0qralm8YR9Z2S6WbNxHdd2RMtihTavDbxM7GZTSFrtdZVDE3wX08fskBUQBLCoq4te//jWffvopdrudiy++mL/97W9ERZ34A96jRo3i888/b3DfL37xC1544YWT/rlBtwNp8liCQHl1HZ9t3E9WTj6LN+yjosZd/1hiTDjj+zvJSEvizC7tcKgMiviloDt+H0dAFMCMjAzy8/N58cUXqa2t5YYbbuDMM8/k7bffPuFzRo0aRa9evXjsscfq74uMjGzUjqAdCE0eS0CrqnXz+ab9zM1xsTC3gNLqI2fA46LCOL+/+TbxWd3aEeLQwJSIv9DxOwAK4Pr16+nXrx/fffcdZ5xxBgBz584lMzOT3bt3k5ycfNznjRo1ioEDB/Lss8+e8s/WDnQCmjyWAFRd5+arLYVkZbuYn1tAcWVt/WNtI0MZ1y+RjLQkzu4eR1iI9mERX6bjdwAUwFdffZV77rmHgwcP1t9XV1dHREQE77//PhdeeOFxnzdq1CjWrVuHYRg4nU4mTpzIgw8+SGTkyV8kVjvQSfrx5PHe1eZX1XEmj8OiIXngUauZnA5tOmnyWHxKrdvDsq0HyMpxMX+diwPlNfWPRUeEMK6vWQZH9IwjIvQUL+EkIs1Gx28IsTqAt1wuFwkJDadQQ0JCaNeuHS6X64TPu+qqq+jcuTPJycl8//333HfffWzcuJGZM2ee8DnV1dVUV1fX3y4pKfH+FwgGNhvEdjS/+k0y7/N44OD2hmcJ89dCTSnsWGp+/SAyrmEh7HC6Jo/FUqEOO+f2iufcXvH8YXJ/vt1RZF54OsfF/tJqZq7ew8zVe2gd5uC8volkpjoZ2TueyDC//5MrIgHCZ/8a3X///fz5z3/+yW3Wr19/yt//lltuqf/3tLQ0kpKSGDNmDFu3bqV79+7Hfc6TTz7Jo48+eso/U45it0P77ubXaZea951o8riiELYsML9+oMlj8REhDjvDu8cxvHscj0zsz6pdB5mT7SIrJ5/84io+XbuXT9fuJSLUzujeCWSkJXFenwSiwn32z6+IBAGffQt4//79HDhw4Ce36datG2+99dYpvQX8Y+Xl5URFRTF37lzS09OPu83xzgCmpKQE9SnkZufN5LEzDcK07qtYw+MxWLv7UP36xHlFR66rGRZi59ye8WSmORnTN5HYVhqGEmlJegvYhwvgyfphCGTFihUMHjwYgPnz5zN+/PifHAL5sa+++opzzjmHtWvXctppp53Uc7QDWeSYyePVcGjnsdtp8lh8hGEYrNtbQlZOPlnZLrYVltc/FuqwcXaPODJTkxjXL5G2rcMsTCoSHHT8DoACCOZlYAoKCnjhhRfqLwNzxhln1F8GZs+ePYwZM4Y33niDIUOGsHXrVt5++20yMzNp374933//PXfddRcdO3Y85tqAP0U7kA8pP3B4uOSot4/LCo7drn7y+KhS2L6nJo+lxRiGwaaCMuZk55OVk8+mgrL6xxx2G8O6tScjzcn5/ZzER4dbmFQkcOn4HSAFsKioiNtvv73BhaCfe+65+gtB79ixg65du7JkyRJGjRpFXl4e11xzDTk5OZSXl5OSksKFF17IAw88oOsABgrDgJK9DQuhJo/FB23ZV8bcnHzmZLvIzT8yWGa3wZld2pGZlkR6fyfO2AgLU4oEFh2/A6QAWkU7kJ8xDHPN4x9PHp9ozWNNHksL23mgnKwcF1nZ+azd3fA/VgZ3bktGqpPxqU46ttVnW0W8oeO3CqBXtAMFAK15LD5q98GK+kvLrNx5sMFjAzrGMj41iYxUJ13iWluUUMR/6fitAugV7UABSpPH4mNcxVXMW+diTnY+3+0ownPUrtgvKYaMVHN94h4JJ17/XESO0PFbBdAr2oGCSHWp+Xbx0aXwhJPHfRu+fZzYX5PH0mT2l1YzP9dFVraLZdsO4D6qDfZKjCIjNYmMNCe9E6Ox6XOsIsel47cKoFe0AwW5k508doSbZwaP/jyhJo+lCRwsr2FBbgFzcvL5akshte4jf867xbVmfKqTzLQk+ifHqAyKHEXHbxVAr2gHkgY0eSwWKq6sZdH6AuZku/hi835q6jz1j6W0a2WeGUx1MjCljcqgBD0dv1UAvaIdSH5WoyaP2zf8PKEmj+UUlVXXsXjDPrKy81mycR9VtUfKYHJsBOmHzwwO7tQWu11lUIKPjt8qgF7RDiSn5JjJ49WHJ49rj932x5PHSQOhVZuWTix+rKKmjs837mdOjovF6wsor3HXP5YQHU56fycZaU6GdGlHiEMfS5DgoOO3CqBXtANJk6mtMkvg0W8f79/IiSePjyqFztM0eSwnparWzdLNhWTl5LMgt4DSqiOXO2rfOozz+yeSkZrEsO7tCVUZlACm47cKoFe0A0mz0uSxNKOaOg9fbS1kbraLebkuDlUcOQMd2yqUcf0SyUxzcnaPOMJDHBYmFWl6On6rAHpFO5C0OE0eSzOodXtYvq2IrJx85q1zUVhWU/9YdHgIY/omkJGWxMhe8USEqgyK/9PxWwXQK9qBxHKaPJYm5vYYfLej6PAqJPkUlFTXPxYZ5mB0nwQyU5MY1Tue1uEhFiYVOXU6fqsAekU7kPikBpPHh88W5q+F2opjt/3x5HHyIIhObPnM4pM8HoPVeQfJyjaXpNtz6Mj0eniInVG948lMS+K8PglER+gjB+I/dPxWAfSKdiDxG+46KNzY8POEJ5w87tDwLGHyIE0eC4Zh8P3uYrIOnxnceeDIf1CEOeyM6BlHRloS4/omEhupMii+TcdvFUCvaAcSv9aYyeN23Rt+nlCTx0HNMAxy80uYm+NidnY+2/aX1z8WYrcxvEccmalOxvVLpH1UuIVJRY5Px28VQK9oB5KAo8ljaSTDMNi8r+zw28T5bHCV1j9mt8FZ3dqTkZZEev9EEqIjLEwqcoSO3yqAXtEOJEFBk8fSCNv2l9W/TZyzp6T+fpsNzuzcjow0J+NTnSTFtrIwpQQ7Hb9VAL2iHUiCUv3k8Y9KoSaP5Ud2Hahg7rp85mS7WJN3qMFjgzq1ITM1ifGpTlLa6eME0rJ0/FYB9Ip2IJHDfpg83rv6SCH8ycnjQQ2njzV5HPD2Hqqsv7TMip0HOfrIk9YhlvGH1yfuGtfaupASNHT8VgH0inYgkZ+gyWM5gX0lVcxb52JOtovl2w/gOeoo1McZTUZqEplpTnomRlsXUgKajt8qgF7RDiTSSJo8lh8pLKtmQW4Bc7LzWbb1AHVHtcEeCVFkpjoZn5pE36RobProgDQRHb9VAL2iHUikCWjyWA47VFHDgtwCsnJcfLm5kBq3p/6xLu0jGX/4zGBah1iVQfGKjt8qgF7RDiTSTOonj48aNClzHbudJo8DVklVLYvX72NOdj6fb9pPdd2RMtihTSsyUp1kpCUxKKUNdrvKoDSOjt8qgF7RDiTSgkr2NjxLeMLJ4yhIGggdjho0adNZk8d+rLy6jiUb95GV7WLxhn1U1rrrH3PGRDA+1UlGqpMzurTDoTIoJ0HHbxVAr2gHErGQJo+DUmWNm8837ScrJ59F6/dRVl1X/1hcVDjp/RPJTEtiaNd2hDh0JliOT8dvFUCvaAcS8TGaPA4qVbVuvtpSyJxsFwtyXZRUHSmDbSNDOb+fk4w0J8O7xxEWojIoR+j4rQLoFe1AIn6grhpcOZo8DnA1dR6WbTtAVnY+83MLKCqvqX8sJiKEsf0SyUxN4pyecUSEOixMKr5Ax28VQK9oBxLxU9WlkP99w1J4cMex22ny2C/VuT18u72IOTn5zFtXwP7S6vrHosJDOK9PAplpTkb2SqBVmMpgMNLxWwXQK9qBRAJIRdHhQngyk8epDT9PGNcT7CoSvsjtMVi58yBZOflkZbtwlVTVP9Yq1MHoPvFkpCYxuk8CUeEhFiaVlqTjtwqgV7QDiQS4YyaPV0PVoWO30+SxX/B4DNbsPkRWdj5ZOS52H6ysfywsxM7IXvFkpjkZ0zeRmAid5Q1kOn6rAHpFO5BIkNHkccAwDIOcPSXMycknKzufHQeO/G8Y6rBxTo84MtKSOL9fIm0iwyxMKs1Bx28VQK9oBxKRYyaP9642h040eew3DMNgg6uUrBwXWdn5bN5XVv9YiN3GsO7tyUhN4vz+icRFhVuYVJqKjt8qgF7RDiQix1VXDQU5R9423rMK9m9Ak8f+YXPB4TKY42J9fkn9/XYbDOnajsy0JNL7O0mMibAwpXhDx28VQK9oBxKRk1ZdZr5d/LOTx3aI79vw84QJ/SFEb0NaYXthOVk5+czNcfH97iMrz9hsMLhTWzLSkhif6qRDm1YWppTG0vFbBdAr2oFExCuaPPYreUUVzFvnYk52Pqt2HWrw2ICUNmSmOslITaJTe53B9XU6fqsAekU7kIg0OU0e+4X84krm5biYk+Piux1FHH0k7Z8cQ+bhM4Pd46OsCyknpOO3CqBXtAOJSLNrzORxq3YNP0+oyeMWsa+0ivnrCsjKyeebbUW4PUcOq70To8lIM88M9kqMwqaC7hN0/FYB9Ip2IBGxhMdtLmd39OcJf27yuH76eBC0atvymYNEUXkNC3JdzMl28dWWQuqOKoPd4luTmWqeGeyfHKMyaCEdv1UAvaIdSER8RqMmj7s1PEuYdBqEtW7xyIGuuKKWhevNM4NfbCqkxu2pf6xTu0gyUp1kpCUxoGOsymAL0/FbBdAr2oFExKdp8thnlFbVsnjDPrKyXXy2aR9VtUfKYIc2rUjv7yQzzcnpndpit6sMNjcdv1UAvaIdSET8jiaPLVdRU8dnG/czJzufxRv2UVHjrn8sITqc8YeniYd0bYdDZbBZ6PitAugV7UAiEhCOnjz+4e1jTR63iKpaN19s2k9WjouFuQWUVtfVPxYXFca4fuaZwbO6tSfUYbcwaWDR8VsF0CvagUQkIBkGHNze8POE+WtOPHl89PJ2HU6HaGeLRw4E1XVuvt5ygDnZ+czPLaC48shQT5vIUMb1TSQzLYmze8QRFqIy6A0dv1UAvaIdSESCRmMmj6OTj0wca/L4lNS6PXyz7QBzsl3MX+fiQHlN/WPRESGM7ZtIRqqTc3vFExGqt+UbS8dvFUCvaAcSkaCmyeMW4fYYfLu9qH5Jun2l1fWPtQ5zMLpPAplpSYzqHU9kWIiFSf2Hjt8qgF7RDiQi8iOaPG5WHo/Bql0HmZPtYm5OPnuLq+ofiwi1M6pXAhlpTs7rk0B0RKiFSX2bjt8qgF7RDiQichIqiswzhEdPH5fmH7udIwycaZo8PkmGYbB2dzFZ2flk5bjYVXTkM5phDjvn9oojIzWJsX0TiY1UGTyajt8qgF7RDiQicopK8hueJfy5yePkgUdKYdsumjz+EcMwWLe3hKycfLKyXWwrLK9/LNRhY3j3ODLTnIzr56Rda51l1fFbBdAr2oFERJrIcSeP10Jt+bHbavL4JxmGwaaCMuZkm58Z3FhQWv+Yw27jrG7tyEhNIr2/k/jocAuTWkfHbxVAr2gHEhFpRpo8bhJb9pUxN8d8m3jd3pL6+202OLNLOzJTnYxPTcIZG2Fhypal47cKoFe0A4mItLDjTR4XbgTDc+y2mjw+xs4D5WTluMjKcbE271CDx07v1IbMtCTGpzrp2DbSmoAtRMdvFUCvaAcSEfEB1WXg+r7h5wkPbj92O00eN7D7YAVzc1zMzXGxYufBBo+d1jGWjNQkMlKddIkLvNKs47cKoFe0A4mI+KjGTB4npjb8PGFcr6CbPHYVVzFvnYusnHy+3V6E56hm0DcphsxUJxlpTnokRFsXsgnp+K0C6BXtQCIifqRRk8cDGg6aBNHk8f7SaubnmmcGv956APdRbbBnQhQZaeaZwT7OaGx++pro+K0C6BXtQCIifkyTxz/rYHkNC9YXkJWdz5dbCql1H6kMXeNak5HqJCM1idQOMX5VBnX8VgH0inYgEZEAo8njEyqurGXR+gKyclx8vmk/NXVHBm86tm1VP0AysGMb7HbfLoM6fqsAekU7kIhIEKirhoJ1DT9PuH9DUE8el1XXsXjDPubm5LNkw34qa931jyXFRpDe30lmWhKDO7fF4YNlUMdvFUCvaAcSEQlSjZ08Th50ZPo4MbVxk8ceN+xfCpX50CoJ4kf41JBKZY2bzzftY062i0XrCyivOVIG46PDSe+fSGZqEkO6tiPEYbcw6RE6fqsAekU7kIiI1GuOyeO8mbDyDqjYfeS+yI4w+G+QclHz/S6nqKrWzZebC5mTk8+C3AJKq+rqH2vXOozz+yWSkZbE8O7tCf2JMuh2w9KlkJ8PSUkwYgQ4mrDz6vitAugV7UAiIvKTvJk8LlsFX14K/Pgwffgt1REf+GQJ/EFNnYevtxaSle1ifq6LgxVHPkcZ2yqUsX0TyUxzck7POMJDjrS7mTPhjjtg91Gdt2NH+Nvf4KIm+nV1/FYB9Ip2IBERaZTGTB47bBBeCxHuI18hPxyybeaZwEnbfert4BOpc3tYvr2IOdn5zFvnorCspv6x6PAQzuubQEZqEoc2xHPVZQ5+3Ex+GDD+4IOmKYE6fqsAekU7kIiIeM3jhsJNDc8Sur4HT92x23YvBcdRh+0xSyBxVItFbQpuj8GKHUWHl6TLp6Ckuv4xo9ZBxdYEKjY6qdyagFEbUv+YzWaeCdy+3fu3g3X8DpAC+MQTTzB79mzWrFlDWFgYhw4d+tnnGIbBww8/zEsvvcShQ4c4++yz+de//kXPnj1P+udqBxIRkWax9Q34/Aaochz5MoCuPzpTOPxt6HKlJRGbgsdjsDrvEFnZ+Xy4wsWBqsojj9XaqdoeT9naFCq3Jdbfv2QJjBrl3c/V8Rt8YxzHSzU1NVx66aXcdtttJ/2cp556iueee44XXniB5cuX07p1a9LT06mqqmrGpCIiIichqhNEeKBNLTiroEu5+fVjrZJaPlsTstttDO7clgcu6Mc9vUaT//rZFH/TndqDkdhDPUT2KiC8w6EGz8k/zlyNNF7Iz2/i+x599FEAZsyYcVLbG4bBs88+ywMPPMDkyZMBeOONN0hMTOSjjz7iiiuuaK6oIiIiPy9+hPkZv4o91A+BNLic3uHPAMaPsCBc80hOtlHjakONqw2HPu9NaHwpkX3yqVif3GC7JP/uvD4jIM4ANtb27dtxuVyMHTu2/r7Y2FiGDh3KsmXLTvi86upqSkpKGnyJiIg0ObvDvNQL8KPmd+T24Gf9YgDkZI0YYX7Gzxz4sFG7P4bipb2pLYwGzPtTUsztxHtBWQBdLhcAiYmJDe5PTEysf+x4nnzySWJjY+u/UlJSmjWniIgEsZSLzEu9RHZoeH9kR5+/BMypcDjMS73AkanfH/xw+9lnm/Z6gMHMZwvg/fffj81m+8mvDRs2tGim6dOnU1xcXP+Vl5fXoj9fRESCTMpFMGmHOe07/G3zn5O2B1z5+8FFF5mXeunwo87bsWPTXQJGTD77GcB77rmH66+//ie36dat2yl9b6fTCUBBQQFJR32YoKCggIEDB57weeHh4YSHh5/SzxQRETkldoffXerFGxddBJMnN+9KIOLDBTA+Pp74+Phm+d5du3bF6XSyaNGi+sJXUlLC8uXLGzVJLCIiIk3P4fD+Ui/y03z2LeDG2LVrF2vWrGHXrl243W7WrFnDmjVrKCsrq9+mT58+fPjhhwDYbDbuvPNOHn/8cT755BOys7OZOnUqycnJTJkyxaLfQkRERKRl+OwZwMZ46KGHeP311+tvDxo0CIAlS5Yw6vB/QmzcuJHi4uL6bX77299SXl7OLbfcwqFDhzjnnHOYO3cuERERLZpdREREpKUFxEogVtGVxEVERPyPjt8B8hawiIiIiJw8FUARERGRIKMCKCIiIhJkVABFREREgowKoIiIiEiQUQEUERERCTIBcR1Aq/xwBZ2SkhKLk4iIiMjJ+uG4HcxXwlMB9EJpaSkAKSkpFicRERGRxiotLSU2NtbqGJbQhaC94PF42Lt3L9HR0ZSWlpKSkkJeXl7QXlSyqZSUlOi1bEJ6PZuOXsumpdez6ei1bBzDMCgtLSU5ORm7PTg/DaczgF6w2+107NgRMNcXBoiJidH/+ZqIXsumpdez6ei1bFp6PZuOXsuTF6xn/n4QnLVXREREJIipAIqIiIgEGRXAJhIeHs7DDz9MeHi41VH8nl7LpqXXs+notWxaej2bjl5LaSwNgYiIiIgEGZ0BFBEREQkyKoAiIiIiQUYFUERERCTIqACKiIiIBBkVwFP0xBNPMHz4cCIjI2nTps1JPef666/HZrM1+Bo/fnzzBvUTp/J6GobBQw89RFJSEq1atWLs2LFs3ry5eYP6gaKiIq6++mpiYmJo06YNN910E2VlZT/5nFGjRh2zb956660tlNi3PP/883Tp0oWIiAiGDh3Kt99++5Pbv//++/Tp04eIiAjS0tKYM2dOCyX1fY15LWfMmHHMPhgREdGCaX3XF198wcSJE0lOTsZms/HRRx/97HM+++wzTj/9dMLDw+nRowczZsxo9pziX1QAT1FNTQ2XXnopt912W6OeN378ePLz8+u/3nnnnWZK6F9O5fV86qmneO6553jhhRdYvnw5rVu3Jj09naqqqmZM6vuuvvpq1q1bx4IFC5g1axZffPEFt9xyy88+7+abb26wbz711FMtkNa3vPvuu9x99908/PDDrFq1igEDBpCens6+ffuOu/3XX3/NlVdeyU033cTq1auZMmUKU6ZMIScnp4WT+57GvpZgrmJx9D64c+fOFkzsu8rLyxkwYADPP//8SW2/fft2JkyYwOjRo1mzZg133nkn06ZNY968ec2cVPyKIV557bXXjNjY2JPa9rrrrjMmT57crHn83cm+nh6Px3A6ncZf/vKX+vsOHTpkhIeHG++8804zJvRtubm5BmB899139fdlZWUZNpvN2LNnzwmfN3LkSOOOO+5ogYS+bciQIcavfvWr+ttut9tITk42nnzyyeNuf9lllxkTJkxocN/QoUONX/ziF82a0x809rVszN/SYAYYH3744U9u89vf/tbo379/g/suv/xyIz09vRmTib/RGcAW9tlnn5GQkEDv3r257bbbOHDggNWR/NL27dtxuVyMHTu2/r7Y2FiGDh3KsmXLLExmrWXLltGmTRvOOOOM+vvGjh2L3W5n+fLlP/nc//znP8TFxZGamsr06dOpqKho7rg+paamhpUrVzbYp+x2O2PHjj3hPrVs2bIG2wOkp6cH9T4Ip/ZaApSVldG5c2dSUlKYPHky69ata4m4AUf7pZyMEKsDBJPx48dz0UUX0bVrV7Zu3crvfvc7MjIyWLZsGQ6Hw+p4fsXlcgGQmJjY4P7ExMT6x4KRy+UiISGhwX0hISG0a9fuJ1+Xq666is6dO5OcnMz333/Pfffdx8aNG5k5c2ZzR/YZhYWFuN3u4+5TGzZsOO5zXC6X9sHjOJXXsnfv3rz66qucdtppFBcX8/TTTzN8+HDWrVtHx44dWyJ2wDjRfllSUkJlZSWtWrWyKJn4Ep0BPMr9999/zIeQf/x1oj9eJ+OKK65g0qRJpKWlMWXKFGbNmsV3333HZ5991nS/hA9p7tczmDT3a3nLLbeQnp5OWloaV199NW+88QYffvghW7dubcLfQuTEhg0bxtSpUxk4cCAjR45k5syZxMfH8+KLL1odTSQg6QzgUe655x6uv/76n9ymW7duTfbzunXrRlxcHFu2bGHMmDFN9n19RXO+nk6nE4CCggKSkpLq7y8oKGDgwIGn9D192cm+lk6n85gP2dfV1VFUVFT/mp2MoUOHArBlyxa6d+/e6Lz+KC4uDofDQUFBQYP7CwoKTvjaOZ3ORm0fLE7ltfyx0NBQBg0axJYtW5ojYkA70X4ZExOjs39STwXwKPHx8cTHx7fYz9u9ezcHDhxoUGACSXO+nl27dsXpdLJo0aL6wldSUsLy5csbPZntD072tRw2bBiHDh1i5cqVDB48GIDFixfj8XjqS93JWLNmDUDA7pvHExYWxuDBg1m0aBFTpkwBwOPxsGjRIm6//fbjPmfYsGEsWrSIO++8s/6+BQsWMGzYsBZI7LtO5bX8MbfbTXZ2NpmZmc2YNDANGzbsmMsRab+UY1g9heKvdu7caaxevdp49NFHjaioKGP16tXG6tWrjdLS0vptevfubcycOdMwDMMoLS01fvOb3xjLli0ztm/fbixcuNA4/fTTjZ49expVVVVW/Ro+o7Gvp2EYxp/+9CejTZs2xscff2x8//33xuTJk42uXbsalZWVVvwKPmP8+PHGoEGDjOXLlxtffvml0bNnT+PKK6+sf3z37t1G7969jeXLlxuGYRhbtmwxHnvsMWPFihXG9u3bjY8//tjo1q2bce6551r1K1jmv//9rxEeHm7MmDHDyM3NNW655RajTZs2hsvlMgzDMK699lrj/vvvr9/+q6++MkJCQoynn37aWL9+vfHwww8boaGhRnZ2tlW/gs9o7Gv56KOPGvPmzTO2bt1qrFy50rjiiiuMiIgIY926dVb9Cj6jtLS0/m8iYPz1r381Vq9ebezcudMwDMO4//77jWuvvbZ++23bthmRkZHGvffea6xfv954/vnnDYfDYcydO9eqX0F8kArgKbruuusM4JivJUuW1G8DGK+99pphGIZRUVFhnH/++UZ8fLwRGhpqdO7c2bj55pvr/xgGu8a+noZhXgrmwQcfNBITE43w8HBjzJgxxsaNG1s+vI85cOCAceWVVxpRUVFGTEyMccMNNzQo0tu3b2/w2u7atcs499xzjXbt2hnh4eFGjx49jHvvvdcoLi626Dew1t///nejU6dORlhYmDFkyBDjm2++qX9s5MiRxnXXXddg+/fee8/o1auXERYWZvTv39+YPXt2Cyf2XY15Le+88876bRMTE43MzExj1apVFqT2PUuWLDnu38cfXr/rrrvOGDly5DHPGThwoBEWFmZ069atwd9OEcMwDJthGEYLn3QUEREREQtpClhEREQkyKgAioiIiAQZFUARERGRIKMCKCIiIhJkVABFREREgowKoIiIiEiQUQEUERERCTIqgCIiIiJBRgVQREREJMioAIqIiIgEGRVAERERkSCjAigiIiISZFQARURERIKMCqCIiIhIkFEBFBEREQkyKoAiIiIiQUYFUERERCTIqACKiIiIBBkVQBEREZEgowIoIiIiEmRUAEVERESCjAqgiIiISJBRARQREREJMiqAIiIiIkFGBVBEREQkyKgAioiIiAQZFUARERGRIKMCKCIiIhJkVABFREREgowKoIiIiEiQUQEUERERCTL/H1Dlfhh98K68AAAAAElFTkSuQmCC' width=640.0/>\n",
       "            </div>\n",
       "        "
      ],
      "text/plain": [
       "Canvas(toolbar=Toolbar(toolitems=[('Home', 'Reset original view', 'home', 'home'), ('Back', 'Back to previous …"
      ]
     },
     "metadata": {},
     "output_type": "display_data"
    }
   ],
   "source": [
    "fig1 = plt.figure()\n",
    "ax1 = fig1.add_subplot(111)\n",
    "ax1.plot(sca_X[:,0], sca_X[:,1])\n",
    "ax1.plot(sca_Y[:,0], sca_Y[:,1])\n",
    "\n",
    "ax1.scatter(sca_X[:,0], sca_X[:,1], c='blue')\n",
    "ax1.scatter(sca_Y[:,0], sca_Y[:,1],c='orange')\n",
    "\n",
    "print(np.corrcoef(sca_X[:,1], sca_Y[:,1]))"
   ]
  },
  {
   "cell_type": "code",
   "execution_count": 25,
   "id": "731e1c23-33db-4c45-a6f9-a6b6cdc43290",
   "metadata": {},
   "outputs": [],
   "source": [
    "ccaXY = CCA(n_components=2, scale=False)\n",
    "sca_X_cca, sca_Y_cca = ccaXY.fit_transform(sca_X, sca_Y)"
   ]
  },
  {
   "cell_type": "code",
   "execution_count": 26,
   "id": "6d40a890-5b99-4874-933f-f518d2776407",
   "metadata": {},
   "outputs": [
    {
     "name": "stdout",
     "output_type": "stream",
     "text": [
      "[[1. 1.]\n",
      " [1. 1.]]\n"
     ]
    },
    {
     "data": {
      "application/vnd.jupyter.widget-view+json": {
       "model_id": "670d8c8cac6b402481ebc489b8151eb5",
       "version_major": 2,
       "version_minor": 0
      },
      "text/html": [
       "\n",
       "            <div style=\"display: inline-block;\">\n",
       "                <div class=\"jupyter-widgets widget-label\" style=\"text-align: center;\">\n",
       "                    Figure\n",
       "                </div>\n",
       "                <img src='data:image/png;base64,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' width=640.0/>\n",
       "            </div>\n",
       "        "
      ],
      "text/plain": [
       "Canvas(toolbar=Toolbar(toolitems=[('Home', 'Reset original view', 'home', 'home'), ('Back', 'Back to previous …"
      ]
     },
     "metadata": {},
     "output_type": "display_data"
    }
   ],
   "source": [
    "fig2 = plt.figure()\n",
    "ax2 = fig2.add_subplot(111)\n",
    "ax2.plot(sca_X_cca[:,0], sca_X_cca[:,1])\n",
    "ax2.plot(sca_Y_cca[:,0], sca_Y_cca[:,1])\n",
    "\n",
    "ax2.scatter(sca_X_cca[:,0], sca_X_cca[:,1], c='blue')\n",
    "ax2.scatter(sca_Y_cca[:,0], sca_Y_cca[:,1],c='orange')\n",
    "\n",
    "print(np.corrcoef(sca_X_cca[:,0], sca_Y_cca[:,0]))"
   ]
  },
  {
   "cell_type": "code",
   "execution_count": 16,
   "id": "6e4de831-199a-4a4b-9ca6-eb78b372e063",
   "metadata": {},
   "outputs": [],
   "source": [
    "fake_sca_X = ccaXY.inverse_transform(sca_Y_cca)"
   ]
  },
  {
   "cell_type": "code",
   "execution_count": 19,
   "id": "205c6440-48fe-4134-9d5a-cd795a300099",
   "metadata": {},
   "outputs": [
    {
     "name": "stdout",
     "output_type": "stream",
     "text": [
      "[[1.         0.40853085]\n",
      " [0.40853085 1.        ]]\n"
     ]
    },
    {
     "data": {
      "application/vnd.jupyter.widget-view+json": {
       "model_id": "872ecb4041234332b063589ba3fc7ef7",
       "version_major": 2,
       "version_minor": 0
      },
      "text/html": [
       "\n",
       "            <div style=\"display: inline-block;\">\n",
       "                <div class=\"jupyter-widgets widget-label\" style=\"text-align: center;\">\n",
       "                    Figure\n",
       "                </div>\n",
       "                <img src='data:image/png;base64,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' width=640.0/>\n",
       "            </div>\n",
       "        "
      ],
      "text/plain": [
       "Canvas(toolbar=Toolbar(toolitems=[('Home', 'Reset original view', 'home', 'home'), ('Back', 'Back to previous …"
      ]
     },
     "metadata": {},
     "output_type": "display_data"
    }
   ],
   "source": [
    "fig3 = plt.figure()\n",
    "ax3 = fig3.add_subplot(111)\n",
    "ax3.plot(sca_X[:,0], sca_X[:,1])\n",
    "ax3.plot(fake_sca_X[:,0], fake_sca_X[:,1])\n",
    "\n",
    "ax3.scatter(sca_X[:,0], sca_X[:,1],c='blue')\n",
    "ax3.scatter(fake_sca_X[:,0], fake_sca_X[:,1],c='orange')\n",
    "\n",
    "print(np.corrcoef(sca_X[:,0], fake_sca_X[:,0]))"
   ]
  },
  {
   "cell_type": "code",
   "execution_count": 116,
   "id": "a4f2e383-355b-4909-904b-59a5c2c3d737",
   "metadata": {},
   "outputs": [],
   "source": [
    "a=[]\n",
    "b=[]\n",
    "c=[]\n",
    "for i in range(2):\n",
    "    a.append(np.corrcoef(sca_X[:,i], sca_Y[:,i])[0,1])\n",
    "    b.append(np.corrcoef(sca_X_cca[:,i], sca_Y_cca[:,i])[0,1])\n",
    "    c.append(np.corrcoef(sca_X[:,i], fake_sca_X[:,i])[0,1])"
   ]
  },
  {
   "cell_type": "code",
   "execution_count": 123,
   "id": "baa863a4-f1f8-45fb-8aa2-a325a1f10e7c",
   "metadata": {},
   "outputs": [
    {
     "data": {
      "text/plain": [
       "<BarContainer object of 3 artists>"
      ]
     },
     "execution_count": 123,
     "metadata": {},
     "output_type": "execute_result"
    },
    {
     "data": {
      "application/vnd.jupyter.widget-view+json": {
       "model_id": "f869c970e25b40de8f70ac31122b2b74",
       "version_major": 2,
       "version_minor": 0
      },
      "text/html": [
       "\n",
       "            <div style=\"display: inline-block;\">\n",
       "                <div class=\"jupyter-widgets widget-label\" style=\"text-align: center;\">\n",
       "                    Figure\n",
       "                </div>\n",
       "                <img src='data:image/png;base64,iVBORw0KGgoAAAANSUhEUgAAAoAAAAHgCAYAAAA10dzkAAAAOXRFWHRTb2Z0d2FyZQBNYXRwbG90bGliIHZlcnNpb24zLjQuMiwgaHR0cHM6Ly9tYXRwbG90bGliLm9yZy8rg+JYAAAACXBIWXMAAA9hAAAPYQGoP6dpAAAmUklEQVR4nO3df5TVdZ348Re/ZgaEGVRkQJzdSUuBEFBYaTTXDHIyl9Y6taYmREZH1Nac0w9Jg1w3sXZF2sLlZJJrq0f6sboVhNokWx4pbBTL4ocgBIUMIC6jWIMy7+8ffbk5y4ADwly978fjnHuO9/P5vO993/HNvU8+996hW0opBQAA2ehe7AkAANC1BCAAQGYEIABAZgQgAEBmBCAAQGYEIABAZgQgAEBmBCAAQGYEIABAZgQgAEBmBCAAQGYEIABAZgQgAEBmBCAAQGYEIABAZgQgAEBmBCAAQGYEIABAZgQgAEBmBCAAQGYEIABAZgQgAEBmBCAAQGYEIABAZgQgAEBmBCAAQGYEIABAZgQgAEBmBCAAQGYEIABAZgQgAEBmBCAAQGYEIABAZgQgAEBmBCAAQGYEIABAZgQgAEBmBCAAQGYEIABAZgQgAEBmBCAAQGYEIABAZgQgAEBmBCAAQGYEIABAZgQgAEBmBCAAQGYEIABAZgQgAEBmBCAAQGYEIABAZgQgAEBmBCAAQGYEIABAZgQgAEBmBCAAQGZ6FnsCb2RtbW2xadOm6NevX3Tr1q3Y0wEAOiGlFM8//3wce+yx0b17nufCBOBrsGnTpqipqSn2NACAg7Bx48Y47rjjij2NohCAr0G/fv0i4s8LqLKyssizAQA6o6WlJWpqagqv4zkSgK/Bnrd9KysrBSAAvMHk/PGtPN/4BgDImAAEAMiMAAQAyIwABADIjAAEAMiMAAQAyIwABADIjAAEAMiMAAQAyIwABADITMkE4E9/+tOYOHFiHHvssdGtW7e47777XnXMkiVL4tRTT43y8vJ485vfHHfcccdhnycAQLGVTADu3LkzRo0aFXPnzu3U8evWrYvzzjsvzj777Fi+fHl88pOfjI997GNx//33H+aZAgAUV89iT+BQOffcc+Pcc8/t9PHz5s2LN73pTXHzzTdHRMSwYcPi4YcfjltuuSXq6+sP1zQBAIquZM4AHqilS5fGhAkT2m2rr6+PpUuX7nNMa2trtLS0tLsAALzRlMwZwAO1efPmqK6ubreturo6Wlpa4o9//GP07t17rzGzZs2K66+/vqumCEVXe83CYk+BIlp/03nFngJwmGR7BvBgTJ8+PXbs2FG4bNy4sdhTAgA4YNmeARw0aFA0Nze329bc3ByVlZUdnv2LiCgvL4/y8vKumB4AwGGT7RnAurq6aGxsbLftwQcfjLq6uiLNCACga5RMAL7wwguxfPnyWL58eUT8+de8LF++PDZs2BARf377dtKkSYXjL7vssnj66afjM5/5TKxcuTJuvfXW+Pa3vx1XX311MaYPANBlSiYAf/nLX8Ypp5wSp5xySkRENDQ0xCmnnBIzZsyIiIhnnnmmEIMREW9605ti4cKF8eCDD8aoUaPi5ptvjm984xt+BQwAUPK6pZRSsSfxRtXS0hJVVVWxY8eOqKysLPZ04JDzLeC8+RYwpcrrdwmdAQQAoHMEIABAZgQgAEBmBCAAQGYEIABAZgQgAEBmBCAAQGYEIABAZgQgAEBmBCAAQGYEIABAZgQgAEBmBCAAQGYEIABAZgQgAEBmBCAAQGYEIABAZgQgAEBmBCAAQGYEIABAZgQgAEBmBCAAQGYEIABAZgQgAEBmBCAAQGYEIABAZgQgAEBmBCAAQGYEIABAZgQgAEBmBCAAQGYEIABAZgQgAEBmBCAAQGYEIABAZgQgAEBmBCAAQGYEIABAZgQgAEBmBCAAQGYEIABAZgQgAEBmBCAAQGYEIABAZgQgAEBmBCAAQGYEIABAZgQgAEBmBCAAQGYEIABAZgQgAEBmBCAAQGYEIABAZgQgAEBmBCAAQGYEIABAZgQgAEBmBCAAQGYEIABAZkoqAOfOnRu1tbVRUVER48aNi2XLlu33+Dlz5sRJJ50UvXv3jpqamrj66qvjT3/6UxfNFgCgOEomABcsWBANDQ0xc+bMeOyxx2LUqFFRX18fW7Zs6fD4u+++O6655pqYOXNmrFixIm6//fZYsGBBfO5zn+vimQMAdK2SCcDZs2fH1KlTY8qUKTF8+PCYN29e9OnTJ+bPn9/h8Y888kicccYZcdFFF0VtbW2cc845ceGFF77qWUMAgDe6kgjAXbt2RVNTU0yYMKGwrXv37jFhwoRYunRph2NOP/30aGpqKgTf008/HYsWLYr3vOc9XTJnAIBi6VnsCRwK27Zti927d0d1dXW77dXV1bFy5coOx1x00UWxbdu2ePvb3x4ppXj55Zfjsssu2+9bwK2trdHa2lq43tLScmgeAABAFyqJM4AHY8mSJXHjjTfGrbfeGo899lj813/9VyxcuDBuuOGGfY6ZNWtWVFVVFS41NTVdOGMAgEOjJM4ADhgwIHr06BHNzc3ttjc3N8egQYM6HPP5z38+LrnkkvjYxz4WEREnn3xy7Ny5Mz7+8Y/HtddeG927793G06dPj4aGhsL1lpYWEQgAvOGUxBnAsrKyGDNmTDQ2Nha2tbW1RWNjY9TV1XU45sUXX9wr8nr06BERESmlDseUl5dHZWVluwsAwBtNSZwBjIhoaGiIyZMnx9ixY+O0006LOXPmxM6dO2PKlCkRETFp0qQYMmRIzJo1KyIiJk6cGLNnz45TTjklxo0bF2vWrInPf/7zMXHixEIIAgCUopIJwAsuuCC2bt0aM2bMiM2bN8fo0aNj8eLFhS+GbNiwod0Zv+uuuy66desW1113XfzhD3+IY445JiZOnBhf/OIXi/UQAAC6RLe0r/c7eVUtLS1RVVUVO3bs8HYwJan2moXFngJFtP6m84o9BTgsvH6XyGcAAQDoPAEIAJAZAQgAkBkBCACQGQEIAJAZAQgAkBkBCACQGQEIAJAZAQgAkBkBCACQGQEIAJAZAQgAkBkBCACQGQEIAJAZAQgAkBkBCACQGQEIAJAZAQgAkBkBCACQGQEIAJAZAQgAkBkBCACQGQEIAJAZAQgAkBkBCACQGQEIAJAZAQgAkBkBCACQGQEIAJAZAQgAkBkBCACQGQEIAJCZnsWeAADsS+01C4s9BYpo/U3nFXsKJcsZQACAzAhAAIDMCEAAgMwIQACAzAhAAIDMCEAAgMwIQACAzAhAAIDMCEAAgMwIQACAzAhAAIDMCEAAgMwIQACAzAhAAIDMCEAAgMwIQACAzAhAAIDMCEAAgMwIQACAzAhAAIDMCEAAgMwIQACAzAhAAIDMCEAAgMwIQACAzAhAAIDMlFQAzp07N2pra6OioiLGjRsXy5Yt2+/x//u//xtXXHFFDB48OMrLy+PEE0+MRYsWddFsAQCKo2exJ3CoLFiwIBoaGmLevHkxbty4mDNnTtTX18eqVati4MCBex2/a9eueNe73hUDBw6M7373uzFkyJD43e9+F/379+/6yQMAdKGSCcDZs2fH1KlTY8qUKRERMW/evFi4cGHMnz8/rrnmmr2Onz9/fmzfvj0eeeSR6NWrV0RE1NbWduWUAQCKoiTeAt61a1c0NTXFhAkTCtu6d+8eEyZMiKVLl3Y45vvf/37U1dXFFVdcEdXV1TFixIi48cYbY/fu3V01bQCAoiiJM4Dbtm2L3bt3R3V1dbvt1dXVsXLlyg7HPP300/GTn/wkLr744li0aFGsWbMmLr/88njppZdi5syZHY5pbW2N1tbWwvWWlpZD9yAAALpISZwBPBhtbW0xcODA+PrXvx5jxoyJCy64IK699tqYN2/ePsfMmjUrqqqqCpeampounDEAwKFREgE4YMCA6NGjRzQ3N7fb3tzcHIMGDepwzODBg+PEE0+MHj16FLYNGzYsNm/eHLt27epwzPTp02PHjh2Fy8aNGw/dgwAA6CIlEYBlZWUxZsyYaGxsLGxra2uLxsbGqKur63DMGWecEWvWrIm2trbCttWrV8fgwYOjrKyswzHl5eVRWVnZ7gIA8EZTEgEYEdHQ0BC33XZb/Md//EesWLEipk2bFjt37ix8K3jSpEkxffr0wvHTpk2L7du3x1VXXRWrV6+OhQsXxo033hhXXHFFsR4CAECXKIkvgUREXHDBBbF169aYMWNGbN68OUaPHh2LFy8ufDFkw4YN0b37X3q3pqYm7r///rj66qtj5MiRMWTIkLjqqqvis5/9bLEeAgBAlyiZAIyIuPLKK+PKK6/scN+SJUv22lZXVxc///nPD/OsAABeX0rmLWAAADpHAAIAZEYAAgBkRgACAGRGAAIAZEYAAgBkRgACAGRGAAIAZEYAAgBkRgACAGRGAAIAZEYAAgBkpmexJ8C+1V6zsNhToIjW33ResacAQIlyBhAAIDMCEAAgMwIQACAzAhAAIDMCEAAgMwIQACAzAhAAIDMCEAAgMwIQACAzAhAAIDMCEAAgMwIQACAzAhAAIDMCEAAgMwIQACAzAhAAIDMCEAAgMwIQACAzAhAAIDMCEAAgMwIQACAzAhAAIDMCEAAgMwIQACAzAhAAIDMCEAAgMwIQACAzAhAAIDMCEAAgMwIQACAzAhAAIDMCEAAgMwIQACAzAhAAIDMCEAAgMwIQACAzAhAAIDMCEAAgMwIQACAzAhAAIDMCEAAgMwIQACAzAhAAIDMCEAAgMwIQACAzAhAAIDMCEAAgMyUVgHPnzo3a2tqoqKiIcePGxbJlyzo17p577olu3brF+eeff3gnCADwOlAyAbhgwYJoaGiImTNnxmOPPRajRo2K+vr62LJly37HrV+/Pj71qU/FmWee2UUzBQAorpIJwNmzZ8fUqVNjypQpMXz48Jg3b1706dMn5s+fv88xu3fvjosvvjiuv/76OP7447twtgAAxVMSAbhr165oamqKCRMmFLZ17949JkyYEEuXLt3nuH/6p3+KgQMHxqWXXtqp+2ltbY2WlpZ2FwCAN5qSCMBt27bF7t27o7q6ut326urq2Lx5c4djHn744bj99tvjtttu6/T9zJo1K6qqqgqXmpqa1zRvAIBiKIkAPFDPP/98XHLJJXHbbbfFgAEDOj1u+vTpsWPHjsJl48aNh3GWAACHR89iT+BQGDBgQPTo0SOam5vbbW9ubo5BgwbtdfzatWtj/fr1MXHixMK2tra2iIjo2bNnrFq1Kk444YS9xpWXl0d5efkhnj0AQNcqiTOAZWVlMWbMmGhsbCxsa2tri8bGxqirq9vr+KFDh8avf/3rWL58eeHy3ve+N84+++xYvny5t3YBgJJWEmcAIyIaGhpi8uTJMXbs2DjttNNizpw5sXPnzpgyZUpEREyaNCmGDBkSs2bNioqKihgxYkS78f3794+I2Gs7AECpKZkAvOCCC2Lr1q0xY8aM2Lx5c4wePToWL15c+GLIhg0bonv3kjjhCQDwmpRMAEZEXHnllXHllVd2uG/JkiX7HXvHHXcc+gkBALwOOSUGAJAZAQgAkBkBCACQGQEIAJAZAQgAkBkBCACQGQEIAJAZAQgAkBkBCACQGQEIAJAZAQgAkBkBCACQGQEIAJAZAQgAkBkBCACQGQEIAJAZAQgAkBkBCACQGQEIAJAZAQgAkBkBCACQGQEIAJAZAQgAkBkBCACQGQEIAJAZAQgAkBkBCACQGQEIAJAZAQgAkBkBCACQGQEIAJAZAQgAkBkBCACQGQEIAJAZAQgAkBkBCACQGQEIAJAZAQgAkBkBCACQGQEIAJAZAQgAkBkBCACQGQEIAJAZAQgAkBkBCACQGQEIAJAZAQgAkBkBCACQGQEIAJAZAQgAkBkBCACQGQEIAJAZAQgAkBkBCACQGQEIAJAZAQgAkBkBCACQGQEIAJAZAQgAkJmSCsC5c+dGbW1tVFRUxLhx42LZsmX7PPa2226LM888M4488sg48sgjY8KECfs9HgCgVJRMAC5YsCAaGhpi5syZ8dhjj8WoUaOivr4+tmzZ0uHxS5YsiQsvvDAeeuihWLp0adTU1MQ555wTf/jDH7p45gAAXatkAnD27NkxderUmDJlSgwfPjzmzZsXffr0ifnz53d4/F133RWXX355jB49OoYOHRrf+MY3oq2tLRobG7t45gAAXaskAnDXrl3R1NQUEyZMKGzr3r17TJgwIZYuXdqp23jxxRfjpZdeiqOOOupwTRMA4HWhZ7EncChs27Ytdu/eHdXV1e22V1dXx8qVKzt1G5/97Gfj2GOPbReR/1dra2u0trYWrre0tBzchAEAiqgkzgC+VjfddFPcc889ce+990ZFRcU+j5s1a1ZUVVUVLjU1NV04SwCAQ6MkAnDAgAHRo0ePaG5ubre9ubk5Bg0atN+x//qv/xo33XRTPPDAAzFy5Mj9Hjt9+vTYsWNH4bJx48bXPHcAgK5WEgFYVlYWY8aMafcFjj1f6Kirq9vnuC9/+ctxww03xOLFi2Ps2LGvej/l5eVRWVnZ7gIA8EZTEp8BjIhoaGiIyZMnx9ixY+O0006LOXPmxM6dO2PKlCkRETFp0qQYMmRIzJo1KyIivvSlL8WMGTPi7rvvjtra2ti8eXNERPTt2zf69u1btMcBAHC4lUwAXnDBBbF169aYMWNGbN68OUaPHh2LFy8ufDFkw4YN0b37X054/vu//3vs2rUrPvCBD7S7nZkzZ8YXvvCFrpw6AECXKpkAjIi48sor48orr+xw35IlS9pdX79+/eGfEADA61BJfAYQAIDOE4AAAJkRgAAAmRGAAACZEYAAAJkRgAAAmRGAAACZEYAAAJkRgAAAmRGAAACZEYAAAJkRgAAAmRGAAACZEYAAAJkRgAAAmRGAAACZEYAAAJkRgAAAmRGAAACZEYAAAJkRgAAAmRGAAACZEYAAAJkRgAAAmRGAAACZEYAAAJkRgAAAmRGAAACZEYAAAJkRgAAAmRGAAACZEYAAAJkRgAAAmRGAAACZEYAAAJkRgAAAmRGAAACZEYAAAJkRgAAAmRGAAACZEYAAAJkRgAAAmRGAAACZEYAAAJkRgAAAmRGAAACZEYAAAJkRgAAAmRGAAACZEYAAAJkRgAAAmRGAAACZEYAAAJkRgAAAmRGAAACZEYAAAJkRgAAAmRGAAACZEYAAAJkRgAAAmSmpAJw7d27U1tZGRUVFjBs3LpYtW7bf47/zne/E0KFDo6KiIk4++eRYtGhRF80UAKB4SiYAFyxYEA0NDTFz5sx47LHHYtSoUVFfXx9btmzp8PhHHnkkLrzwwrj00kvj8ccfj/PPPz/OP//8ePLJJ7t45gAAXatkAnD27NkxderUmDJlSgwfPjzmzZsXffr0ifnz53d4/Fe+8pV497vfHZ/+9Kdj2LBhccMNN8Spp54aX/va17p45gAAXatnsSdwKOzatSuamppi+vTphW3du3ePCRMmxNKlSzscs3Tp0mhoaGi3rb6+Pu6777593k9ra2u0trYWru/YsSMiIlpaWl7D7PetrfXFw3K7vDEcrnV1IKzBvFmDFNvhWoN7bjeldFhu/42gJAJw27ZtsXv37qiurm63vbq6OlauXNnhmM2bN3d4/ObNm/d5P7NmzYrrr79+r+01NTUHMWvYv6o5xZ4BubMGKbbDvQaff/75qKqqOrx38jpVEgHYVaZPn97urGFbW1ts3749jj766OjWrVsRZ1Z6WlpaoqamJjZu3BiVlZXFng4ZsgYpNmvw8EkpxfPPPx/HHntssadSNCURgAMGDIgePXpEc3Nzu+3Nzc0xaNCgDscMGjTogI6PiCgvL4/y8vJ22/r3739wk6ZTKisrPfFRVNYgxWYNHh65nvnboyS+BFJWVhZjxoyJxsbGwra2trZobGyMurq6DsfU1dW1Oz4i4sEHH9zn8QAApaIkzgBGRDQ0NMTkyZNj7Nixcdppp8WcOXNi586dMWXKlIiImDRpUgwZMiRmzZoVERFXXXVVnHXWWXHzzTfHeeedF/fcc0/88pe/jK9//evFfBgAAIddyQTgBRdcEFu3bo0ZM2bE5s2bY/To0bF48eLCFz02bNgQ3bv/5YTn6aefHnfffXdcd9118bnPfS7e8pa3xH333RcjRowo1kPgFcrLy2PmzJl7veUOXcUapNisQQ6nbinn70ADAGSoJD4DCABA5wlAAIDMCEAAgMwIQErCF77whRg9enSxp0HGPvKRj8T5559f7GnwOlGq62H9+vXRrVu3WL58ebGnwmskADlgu3fvjtNPPz3e//73t9u+Y8eOqKmpiWuvvbZIM+vY//zP/0SvXr3i4Ycfbrd9586dcfzxx8enPvWpIs3sje2Ntg6K6Vvf+lYcccQRsWbNmnbbN23aFEceeWR87WtfK9LMDh3rofPeyOuhpqYmnnnmGb8xoxQkOAirVq1KvXv3Tv/5n/9Z2HbJJZekkSNHptbW1i6fz8yZM9OoUaP2uf/qq69OJ5xwQnrhhRcK2y6//PI0fPjw9Mc//rELZliaXm/roJgmT56c/v7v/36f+9/3vvelM844I+3evbuw7T3veU8aP358amtr64IZHn7Ww19YD8WT21o7WAKQg/aVr3wlHXnkkWnTpk3pvvvuS7169UrLly/f75g777wzjRkzJvXt2zdVV1enCy+8MDU3Nxf2P/TQQyki0o9//OM0ZsyY1Lt371RXV5dWrlzZ7nZmzZqVBg4cmPr27Zs++tGPps9+9rP7DcA//vGPadiwYemKK65IKaX0k5/8JJWVlaVf/vKXB/8DIKV0cOvglZ588sl03nnnpX79+qW+ffumt7/97WnNmjWF/bfffnsaPnx4KisrS4MGDSr8P0wppZtvvjmNGDEi9enTJx133HFp2rRp6fnnn9/v/b3amG9+85upqqoqLV68OA0dOjQdccQRqb6+Pm3atKlwzMsvv5yuvvrqVFVVlY466qj06U9/Ok2aNGm/L/hbtmxJxxxzTPqXf/mXdvezYcOGTv2cnnvuufTxj388DRw4MJWXl6e3vvWt6Qc/+EFh/8MPP5zOOuus1Lt379S/f/90zjnnpO3bt6eUUvrRj36UzjjjjMJ8zzvvvHY/40PJeijt9bBu3boUEenxxx9PKb36c/aqVatSRKQVK1a0u53Zs2en448/vnD917/+dXr3u9+djjjiiDRw4MD04Q9/OG3durWw/zvf+U4aMWJEqqioSEcddVQaP3584S/0e2L7n//5n9PgwYNTbW1tSimlDRs2pA9+8IOpqqoqHXnkkem9731vWrduXaceZw4EIAetra0tveMd70jjx49PAwcOTDfccMOrjrn99tvTokWL0tq1a9PSpUtTXV1dOvfccwv79zyZjBs3Li1ZsiT95je/SWeeeWY6/fTTC8csWLAglZeXp2984xtp5cqV6dprr039+vXbbwCmlNKjjz6aevXqle67775UW1ubvvCFLxz0Y+cvDmYd7PH73/8+HXXUUen9739/evTRR9OqVavS/PnzCy8et956a6qoqEhz5sxJq1atSsuWLUu33HJLYfwtt9ySfvKTn6R169alxsbGdNJJJ6Vp06bt9z5fbcw3v/nN1KtXrzRhwoT06KOPpqampjRs2LB00UUXFY750pe+lI488sj0ve99L/32t79Nl156aerXr99+X/BTSunee+9NFRUV6YEHHkj9+/dPd9xxR6d+Trt3705ve9vb0lvf+tb0wAMPpLVr16Yf/OAHadGiRSmllB5//PFUXl6epk2blpYvX56efPLJ9NWvfrXwAvrd7343fe9730tPPfVUevzxx9PEiRPTySef3O7s06FiPZT2ethXAO7vOXvs2LHpuuuua3c7Y8aMKWx77rnn0jHHHJOmT5+eVqxYkR577LH0rne9K5199tkppZQ2bdqUevbsmWbPnp3WrVuXfvWrX6W5c+cWQn3y5Mmpb9++6ZJLLklPPvlkevLJJ9OuXbvSsGHD0kc/+tH0q1/9Kv32t79NF110UTrppJOcIfz/BCCvyYoVK1JEpJNPPjm99NJLBzz+0UcfTRFR+IP8yr9N7rFw4cIUEYW3auvq6tLll1/e7nbGjRv3qgGYUkozZsxI3bt3T2PGjDmo+dKxg10H06dPT29605vSrl27Otx/7LHHpmuvvbbTt/ed73wnHX300Z0+vqMx3/zmN1NEtDsjMnfu3FRdXV24Pnjw4PTlL3+5cP2ll15Kxx133Ku+4KeU0qRJk1L37t07dewe999/f+revXtatWpVh/svvPDCdMYZZ3T69rZu3ZoiIv3617/u9JgDYT2U7nrY3xnAPf7vc/Ytt9ySTjjhhML+/3tW8IYbbkjnnHNOu/vZuHFjioi0atWq1NTUlCIirV+/vsM5TZ48OVVXV7cLu29961vppJNOavd2emtra+rdu3e6//77X/Vx5sCXQHhN5s+fH3369Il169bF73//+1c9vqmpKSZOnBh/9Vd/Ff369YuzzjorIv78T/W90siRIwv/PXjw4IiI2LJlS0RErFixIsaNG9fu+Lq6uk7N9/Of/3y0tbXFNddcEz17lsy/hFh0B7oO9li+fHmceeaZ0atXr732bdmyJTZt2hTjx4/f5/gf//jHMX78+BgyZEj069cvLrnkknj22WfjxRdffE1j+vTpEyeccELh+uDBgwvrb8eOHfHMM8+0W4M9e/aMsWPHduox71mD1113XaeOj/jzz+m4446LE088cZ/79/dzeuqpp+LCCy+M448/PiorK6O2tjYi9v5zd6hYD/mth/09Z3/oQx+K9evXx89//vOIiLjrrrvi1FNPjaFDh0ZExBNPPBEPPfRQ9O3bt3DZs2/t2rUxatSoGD9+fJx88snxwQ9+MG677bZ47rnn2t3/ySefHGVlZYXrTzzxRKxZsyb69etXuM2jjjoq/vSnP8XatWsP+nGWEgHIQXvkkUfilltuiR/+8Idx2mmnxaWXXhppP/+y4M6dO6O+vj4qKyvjrrvuikcffTTuvffeiIjYtWtXu2Nf+QLQrVu3iIhoa2t7zXPeE33i79A50HXwSr179z6ofRF//nUUf/d3fxcjR46M733ve9HU1BRz586NiL3X04GO+b8B0q1bt04/pldzMGvw1X4Wr7Z/4sSJsX379rjtttviF7/4RfziF7+IiH3/nF4L6+HAlMp62N9z9qBBg+Kd73xn3H333RERcffdd8fFF19cOP6FF16IiRMnxvLly9tdnnrqqfjbv/3b6NGjRzz44IPxox/9KIYPHx5f/epX46STTop169YVbuOII45oN58XXnghxowZs9dtrl69Oi666KKDfpylRAByUF588cX4yEc+EtOmTYuzzz47br/99li2bFnMmzdvn2NWrlwZzz77bNx0001x5plnxtChQwt/QzwQw4YNKzxh7bHnb5Z0rYNZB680cuTI+NnPfhYvvfTSXvv69esXtbW10djY2OHYpqamaGtri5tvvjne9ra3xYknnhibNm3a7/0dzJj/q6qqKgYPHtxuDb788svR1NR0QLdzIEaOHBm///3vY/Xq1fvcv6+f07PPPhurVq2K6667LsaPHx/Dhg3b6+zJoWI9/Jn1sLeLL744FixYEEuXLo2nn346PvShDxX2nXrqqfGb3/wmamtr481vfnO7y56w69atW5xxxhlx/fXXx+OPPx5lZWWFEwgdOfXUU+Opp56KgQMH7nWbVVVVh/3xviEU9Q1o3rD+8R//Mb35zW9OO3fuLGybN29e6tu37z6/ZbVly5ZUVlaWPv3pT6e1a9em//7v/04nnnhih58nee655wrjHn/88RQRhdu95557UkVFRZo/f35atWpVmjFjRqe+BLJHRKR77733wB80ezmYdfBK27ZtS0cffXThQ/+rV69Od955Z+FD/3fccUeqqKhIX/nKV9Lq1atTU1NT+rd/+7eUUkrLly9PEZHmzJmT1q5dm+688840ZMiQvdbPK3VmzJ5vY77Svffem175dHnTTTelo446Kt17771pxYoVaerUqZ360H9Ke3+GqrPe8Y53pBEjRqQHHnggPf3002nRokXpRz/6UUrpz5+pKisrS9OmTUtPPPFEWrFiRbr11lvT1q1b0+7du9PRRx+dPvzhD6ennnoqNTY2pr/5m785LH8OrIfSXw/7+gzg/p6zU0qppaUl9e7dO40aNSqNHz++3W3+4Q9/SMccc0z6wAc+kJYtW5bWrFmTFi9enD7ykY+kl19+Of385z9PX/ziF9Ojjz6afve736Vvf/vbqaysrPCll45+5c7OnTvTW97ylvSOd7wj/fSnP01PP/10euihh9InPvGJtHHjxgP6WZcqAcgBW7JkSerRo0f62c9+tte+c845J73zne/c5++xuvvuu1NtbW0qLy9PdXV16fvf//5BPZl88YtfTAMGDEh9+/ZNkydPTp/5zGcEYBd7LevglZ544ol0zjnnpD59+qR+/fqlM888M61du7awf968eemkk05KvXr1SoMHD06f+MQnCvtmz56dBg8enHr37p3q6+vTnXfeud8X/M6M6cwL/ksvvZSuuuqqVFlZmfr3758aGhpe9dd+7HGwL/jPPvtsmjJlSjr66KNTRUVFGjFiRPrhD39Y2L9kyZJ0+umnp/Ly8tS/f/9UX19feEwPPvhgGjZsWCovL08jR45MS5YsOeR/DqyHPNbDwQZgSin9wz/8Q4qINH/+/L1ud/Xq1el973tf6t+/f+rdu3caOnRo+uQnP5na2trSb3/721RfX5+OOeaYVF5enk488cT01a9+tTB2X79z8ZlnnkmTJk1KAwYMSOXl5en4449PU6dOTTt27HjVx5mDbikdog8yAADwhuAzgAAAmRGAwGFz2WWXtfvVDq+8XHbZZcWe3uvGXXfdtc+f01vf+tZiT++QsR46p5jr4cYbb9znfZ977rmH9b7pWt4CBg6bLVu2REtLS4f7KisrY+DAgV08o9en559/Ppqbmzvc16tXr/jrv/7rLp7R4WE9dE4x18P27dtj+/btHe7r3bt3DBky5LDdN11LAAIAZMZbwAAAmRGAAACZEYAAAJkRgAAAmRGAAACZEYAAAJkRgAAAmRGAAACZEYAAAJkRgAAAmRGAAACZEYAAAJkRgAAAmRGAAACZEYAAAJkRgAAAmRGAAACZEYAAAJkRgAAAmRGAAACZEYAAAJkRgAAAmRGAAACZEYAAAJkRgAAAmRGAAACZEYAAAJn5f8fCXZAeCrsVAAAAAElFTkSuQmCC' width=640.0/>\n",
       "            </div>\n",
       "        "
      ],
      "text/plain": [
       "Canvas(toolbar=Toolbar(toolitems=[('Home', 'Reset original view', 'home', 'home'), ('Back', 'Back to previous …"
      ]
     },
     "metadata": {},
     "output_type": "display_data"
    }
   ],
   "source": [
    "fig5 = plt.figure()\n",
    "ax5= fig5.add_subplot(111)\n",
    "\n",
    "names = ['X and Y', 'X_cca and Y_cca', 'X_cca and Y_cca_invesre']\n",
    "height = [a[0], b[0], c[0]]\n",
    "ax5.bar(names, height)\n",
    "    "
   ]
  },
  {
   "cell_type": "code",
   "execution_count": 107,
   "id": "cfde6682-084b-4dec-84d5-9dfd4f698954",
   "metadata": {},
   "outputs": [],
   "source": [
    "cca12 = CCA(n_components=2, scale=False)\n",
    "cca12.fit(scaled_dataset1, scaled_dataset2)\n",
    "scaled_dataset1_cca, scaled_dataset2_cca = cca12.transform(scaled_dataset1, scaled_dataset2)"
   ]
  },
  {
   "cell_type": "code",
   "execution_count": 108,
   "id": "2ea07787-7963-4def-881e-351b68094a3d",
   "metadata": {},
   "outputs": [
    {
     "name": "stdout",
     "output_type": "stream",
     "text": [
      "[[1. 1.]\n",
      " [1. 1.]]\n"
     ]
    },
    {
     "data": {
      "application/vnd.jupyter.widget-view+json": {
       "model_id": "250c5b1f63644930bac0639f456b9c37",
       "version_major": 2,
       "version_minor": 0
      },
      "text/html": [
       "\n",
       "            <div style=\"display: inline-block;\">\n",
       "                <div class=\"jupyter-widgets widget-label\" style=\"text-align: center;\">\n",
       "                    Figure\n",
       "                </div>\n",
       "                <img src='data:image/png;base64,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' width=640.0/>\n",
       "            </div>\n",
       "        "
      ],
      "text/plain": [
       "Canvas(toolbar=Toolbar(toolitems=[('Home', 'Reset original view', 'home', 'home'), ('Back', 'Back to previous …"
      ]
     },
     "metadata": {},
     "output_type": "display_data"
    }
   ],
   "source": [
    "fig2 = plt.figure()\n",
    "ax2 = fig2.add_subplot(111)\n",
    "ax2.plot(scaled_dataset1_cca[:,0], scaled_dataset1_cca[:,1])\n",
    "ax2.plot(scaled_dataset2_cca[:,0], scaled_dataset2_cca[:,1])\n",
    "\n",
    "print(np.corrcoef(scaled_dataset1_cca[:,1], scaled_dataset2_cca[:,1]))"
   ]
  },
  {
   "cell_type": "code",
   "execution_count": 109,
   "id": "edcf1dbe-ab6d-45ec-bb2e-6280e11b5773",
   "metadata": {},
   "outputs": [],
   "source": [
    "fake_dataset1 = cca12.inverse_transform(scaled_dataset2_cca)"
   ]
  },
  {
   "cell_type": "code",
   "execution_count": 112,
   "id": "2fb61af7-3e08-4f12-9791-30703c08d4f0",
   "metadata": {},
   "outputs": [
    {
     "name": "stdout",
     "output_type": "stream",
     "text": [
      "[[1.         0.70373936]\n",
      " [0.70373936 1.        ]]\n"
     ]
    },
    {
     "data": {
      "application/vnd.jupyter.widget-view+json": {
       "model_id": "ac0ac7b11feb4c83a78010c3c22939da",
       "version_major": 2,
       "version_minor": 0
      },
      "text/html": [
       "\n",
       "            <div style=\"display: inline-block;\">\n",
       "                <div class=\"jupyter-widgets widget-label\" style=\"text-align: center;\">\n",
       "                    Figure\n",
       "                </div>\n",
       "                <img src='data:image/png;base64,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' width=640.0/>\n",
       "            </div>\n",
       "        "
      ],
      "text/plain": [
       "Canvas(toolbar=Toolbar(toolitems=[('Home', 'Reset original view', 'home', 'home'), ('Back', 'Back to previous …"
      ]
     },
     "metadata": {},
     "output_type": "display_data"
    }
   ],
   "source": [
    "fig3 = plt.figure()\n",
    "ax3 = fig3.add_subplot(111)\n",
    "ax3.plot(scaled_dataset1[:,0], scaled_dataset1[:,1])\n",
    "ax3.plot(fake_dataset1[:,0], fake_dataset1[:,1])\n",
    "\n",
    "print(np.corrcoef(scaled_dataset1[:,0], fake_dataset1[:,0]))"
   ]
  },
  {
   "cell_type": "code",
   "execution_count": 45,
   "id": "4d5d253c-9a1a-4c03-b520-f0397c7e1e8a",
   "metadata": {},
   "outputs": [
    {
     "data": {
      "text/plain": [
       "array([[ 0.40822016,  0.24897077,  0.79202077],\n",
       "       [ 0.91288302, -0.46054528, -0.27476341],\n",
       "       [ 0.00094625,  0.90939   , -0.57842083]])"
      ]
     },
     "execution_count": 45,
     "metadata": {},
     "output_type": "execute_result"
    }
   ],
   "source": [
    "cca12.x_rotations_"
   ]
  },
  {
   "cell_type": "code",
   "execution_count": 46,
   "id": "bc9267e1-57d0-43c3-b4ba-c0a24ff2a478",
   "metadata": {},
   "outputs": [
    {
     "data": {
      "text/plain": [
       "array([[ 1.00000000e+00, -8.59264170e-01, -5.03285950e-01],\n",
       "       [ 1.45874224e-16,  1.00000000e+00, -5.31659137e-01],\n",
       "       [ 3.71395857e-17,  2.46829222e-16,  1.00000000e+00]])"
      ]
     },
     "execution_count": 46,
     "metadata": {},
     "output_type": "execute_result"
    }
   ],
   "source": [
    "cca12.y_rotations_"
   ]
  },
  {
   "cell_type": "code",
   "execution_count": null,
   "id": "520db7ef-7df6-4507-8fb9-7e74e3dde3e4",
   "metadata": {},
   "outputs": [],
   "source": []
  },
  {
   "cell_type": "code",
   "execution_count": 39,
   "id": "611b7fc7-66a2-4876-8e95-677a799148cc",
   "metadata": {},
   "outputs": [
    {
     "data": {
      "text/plain": [
       "<mpl_toolkits.mplot3d.art3d.Path3DCollection at 0x7f4bf16fa358>"
      ]
     },
     "execution_count": 39,
     "metadata": {},
     "output_type": "execute_result"
    },
    {
     "data": {
      "application/vnd.jupyter.widget-view+json": {
       "model_id": "75b0731cd7654dc29866bd75725de690",
       "version_major": 2,
       "version_minor": 0
      },
      "text/html": [
       "\n",
       "            <div style=\"display: inline-block;\">\n",
       "                <div class=\"jupyter-widgets widget-label\" style=\"text-align: center;\">\n",
       "                    Figure\n",
       "                </div>\n",
       "                <img src='data:image/png;base64,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' width=640.0/>\n",
       "            </div>\n",
       "        "
      ],
      "text/plain": [
       "Canvas(toolbar=Toolbar(toolitems=[('Home', 'Reset original view', 'home', 'home'), ('Back', 'Back to previous …"
      ]
     },
     "metadata": {},
     "output_type": "display_data"
    }
   ],
   "source": [
    "fig1 = plt.figure()\n",
    "ax1 = fig1.add_subplot(111, projection='3d')\n",
    "#ax.scatter3D(dataset1_cca[:,0])\n",
    "\n",
    "ax1.scatter3D(dataset2[:,0], dataset2[:,1], dataset2[:,2])\n",
    "#ax.scatter3D(dataset1_cca[:,0], dataset1_cca[:,1], dataset1_cca[:,2], cmap='Blues')\n",
    "#ax.scatter(dataset1_cca[:,1], dataset2_cca[:,1])\n",
    "ax1.scatter3D(fake_dataset2[:,0], fake_dataset2[:,1], fake_dataset2[:,2])\n",
    "#ax.scatter3D(dataset2_cca[:,0], dataset2_cca[:,1], dataset2_cca[:,2])\n",
    "\n",
    "#np.corrcoef(dataset1_cca[:, 1], dataset2_cca[:, 1])"
   ]
  },
  {
   "cell_type": "code",
   "execution_count": 29,
   "id": "de23ddda-e008-4182-9d0a-ac30a2d049c1",
   "metadata": {},
   "outputs": [
    {
     "data": {
      "text/plain": [
       "array([[ 1.12907009e-01,  2.04125535e-01,  4.24337439e-01],\n",
       "       [ 2.52488491e-01,  1.10228791e-01,  1.15039590e-01],\n",
       "       [ 2.61716406e-04,  3.09793871e-01, -3.03108777e-02]])"
      ]
     },
     "execution_count": 29,
     "metadata": {},
     "output_type": "execute_result"
    }
   ],
   "source": [
    "cca12.coef_"
   ]
  },
  {
   "cell_type": "code",
   "execution_count": null,
   "id": "df9387fe-6f4c-4765-82ad-e0f98432081a",
   "metadata": {},
   "outputs": [],
   "source": [
    "modifier"
   ]
  },
  {
   "cell_type": "code",
   "execution_count": 31,
   "id": "33d6ed51-4306-49d0-83e5-7f2e743174af",
   "metadata": {},
   "outputs": [
    {
     "data": {
      "text/plain": [
       "[<mpl_toolkits.mplot3d.art3d.Line3D at 0x7f6230620b00>]"
      ]
     },
     "execution_count": 31,
     "metadata": {},
     "output_type": "execute_result"
    },
    {
     "data": {
      "application/vnd.jupyter.widget-view+json": {
       "model_id": "5b61663442654f1f9f2e98b22efb4233",
       "version_major": 2,
       "version_minor": 0
      },
      "text/html": [
       "\n",
       "            <div style=\"display: inline-block;\">\n",
       "                <div class=\"jupyter-widgets widget-label\" style=\"text-align: center;\">\n",
       "                    Figure\n",
       "                </div>\n",
       "                <img src='data:image/png;base64,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' width=640.0/>\n",
       "            </div>\n",
       "        "
      ],
      "text/plain": [
       "Canvas(toolbar=Toolbar(toolitems=[('Home', 'Reset original view', 'home', 'home'), ('Back', 'Back to previous …"
      ]
     },
     "metadata": {},
     "output_type": "display_data"
    }
   ],
   "source": [
    "fig = plt.figure()\n",
    "ax = fig.add_subplot(111, projection='3d')\n",
    "ax.plot(X_c[:,0], X_c[:,1], X_c[:,2])\n",
    "ax.plot(Y_c[:,0], Y_c[:,1], Y_c[:,2])"
   ]
  },
  {
   "cell_type": "code",
   "execution_count": 24,
   "id": "e0765189-4def-4302-8759-7112980a528f",
   "metadata": {},
   "outputs": [
    {
     "name": "stderr",
     "output_type": "stream",
     "text": [
      "/home/diya/anaconda3/envs/rat-fes/lib/python3.7/site-packages/sklearn/cross_decomposition/_pls.py:305: UserWarning: Y residual is constant at iteration 1\n",
      "  warnings.warn(f\"Y residual is constant at iteration {k}\")\n"
     ]
    },
    {
     "data": {
      "text/plain": [
       "CCA(n_components=3)"
      ]
     },
     "execution_count": 24,
     "metadata": {},
     "output_type": "execute_result"
    }
   ],
   "source": [
    "from sklearn.cross_decomposition import CCA\n",
    "cca = CCA(n_components=3)\n",
    "cca.fit(dataset1, dataset2)\n"
   ]
  },
  {
   "cell_type": "code",
   "execution_count": 25,
   "id": "39ad9f10-ea13-4aba-b4c3-a31717878395",
   "metadata": {},
   "outputs": [],
   "source": [
    "X_c, Y_c = cca.transform(dataset1, dataset2)"
   ]
  },
  {
   "cell_type": "code",
   "execution_count": 34,
   "id": "db770a99-7b7d-497d-bd77-0f5b4c9b2c2c",
   "metadata": {},
   "outputs": [
    {
     "data": {
      "text/plain": [
       "array([[1., 1.],\n",
       "       [1., 1.]])"
      ]
     },
     "execution_count": 34,
     "metadata": {},
     "output_type": "execute_result"
    }
   ],
   "source": [
    "np.corrcoef(X_c[:, 0], Y_c[:, 0])"
   ]
  },
  {
   "cell_type": "code",
   "execution_count": 4,
   "id": "113201c2-cd5f-4178-9a7c-04ed5119a7d6",
   "metadata": {},
   "outputs": [],
   "source": [
    "h_angle, vaf_angle, x_angle, y_angle = session519.decode_angles()"
   ]
  },
  {
   "cell_type": "code",
   "execution_count": 81,
   "id": "002afbd8-f30f-4502-9eff-7639025397e6",
   "metadata": {},
   "outputs": [],
   "source": [
    "rates, angles = session519.data['rates'], session519.data['angles']"
   ]
  },
  {
   "cell_type": "code",
   "execution_count": 84,
   "id": "f816191c-cf60-45d0-968e-9a84d86e4912",
   "metadata": {},
   "outputs": [
    {
     "name": "stdout",
     "output_type": "stream",
     "text": [
      "[   -1  1601  5024  8127 11430 14533]\n"
     ]
    }
   ],
   "source": [
    "h_angle, vaf_angle, x_angle, y_angle = session519.decode_angles()"
   ]
  },
  {
   "cell_type": "code",
   "execution_count": 126,
   "id": "3786ba92-2db0-4da8-9ccb-b9651137cec6",
   "metadata": {},
   "outputs": [],
   "source": [
    "check = np.ones((1,rates.shape[1])) * -1"
   ]
  },
  {
   "cell_type": "code",
   "execution_count": 127,
   "id": "f7af73f6-2c08-42dd-b2aa-2717dddeb91b",
   "metadata": {},
   "outputs": [
    {
     "data": {
      "text/plain": [
       "array([[False, False, False, ..., False, False, False],\n",
       "       [False, False, False, ..., False, False, False],\n",
       "       [False, False, False, ..., False, False, False],\n",
       "       ...,\n",
       "       [False, False, False, ..., False, False, False],\n",
       "       [False, False, False, ..., False, False, False],\n",
       "       [ True,  True,  True, ...,  True,  True,  True]])"
      ]
     },
     "execution_count": 130,
     "metadata": {},
     "output_type": "execute_result"
    }
   ],
   "source": [
    "import numpy.ma as ma\n",
    "\n",
    "mx = ma.masked_array(rates, rates==check)"
   ]
  },
  {
   "cell_type": "code",
   "execution_count": 138,
   "id": "f9b0137a-ff86-4ec2-82e5-8b993eaade2d",
   "metadata": {},
   "outputs": [
    {
     "data": {
      "text/plain": [
       "array([[False, False, False, ..., False, False, False],\n",
       "       [False, False, False, ..., False, False, False],\n",
       "       [False, False, False, ..., False, False, False],\n",
       "       ...,\n",
       "       [False, False, False, ..., False, False, False],\n",
       "       [False, False, False, ..., False, False, False],\n",
       "       [ True,  True,  True, ...,  True,  True,  True]])"
      ]
     },
     "execution_count": 138,
     "metadata": {},
     "output_type": "execute_result"
    }
   ],
   "source": [
    "rates==check"
   ]
  },
  {
   "cell_type": "code",
   "execution_count": 140,
   "id": "6e2c2abe-44b0-4d49-b511-9813e6269151",
   "metadata": {},
   "outputs": [
    {
     "ename": "SyntaxError",
     "evalue": "invalid syntax (<ipython-input-140-f72f5e943467>, line 1)",
     "output_type": "error",
     "traceback": [
      "\u001b[0;36m  File \u001b[0;32m\"<ipython-input-140-f72f5e943467>\"\u001b[0;36m, line \u001b[0;32m1\u001b[0m\n\u001b[0;31m    rates[rates~=check]\u001b[0m\n\u001b[0m               ^\u001b[0m\n\u001b[0;31mSyntaxError\u001b[0m\u001b[0;31m:\u001b[0m invalid syntax\n"
     ]
    }
   ],
   "source": [
    "rates[rates~=check]"
   ]
  },
  {
   "cell_type": "code",
   "execution_count": null,
   "id": "60ecfa48-440e-444c-b186-153b2e02bc0e",
   "metadata": {},
   "outputs": [
    {
     "data": {
      "text/plain": [
       "array([0.12765898, 0.26542302, 0.15700302, 0.25442188, 0.19374881,\n",
       "       0.05012257, 0.17620847])"
      ]
     },
     "execution_count": 87,
     "metadata": {},
     "output_type": "execute_result"
    }
   ],
   "source": [
    "np.average(vaf_angle, 1)"
   ]
  },
  {
   "cell_type": "code",
   "execution_count": 1,
   "id": "344feede-9590-42d1-a500-dee73270372a",
   "metadata": {},
   "outputs": [],
   "source": [
    "import numpy as np\n",
    "\n",
    "import numpy.ma as ma\n",
    "\n",
    "x = np.array([1, 2, 3, -1, 5])"
   ]
  },
  {
   "cell_type": "code",
   "execution_count": 3,
   "id": "060eec3f-3537-4f77-b13e-142dcf08edf2",
   "metadata": {},
   "outputs": [],
   "source": [
    "mx = ma.masked_array(x, mask=[0, 0, 0, 1, 0])"
   ]
  },
  {
   "cell_type": "code",
   "execution_count": 7,
   "id": "739dd646-4291-4108-ac91-d91a035d4af5",
   "metadata": {},
   "outputs": [
    {
     "data": {
      "text/plain": [
       "4"
      ]
     },
     "execution_count": 7,
     "metadata": {},
     "output_type": "execute_result"
    }
   ],
   "source": [
    "np.argmax(mx)"
   ]
  },
  {
   "cell_type": "code",
   "execution_count": 2,
   "id": "f9d4f0c4-0460-4ff2-847b-3c848017e5fd",
   "metadata": {},
   "outputs": [],
   "source": [
    "#crop for annie-5-6\n",
    "#crop=[(33, 120), (10, 115), (15, 208), (10, 165)]"
   ]
  },
  {
   "cell_type": "code",
   "execution_count": null,
   "id": "b146958e-94e3-4ba3-a0c8-bf56951c2fa5",
   "metadata": {},
   "outputs": [],
   "source": [
    "#crop for annie-5-10\n",
    "#crop = [(90,155), (0,120), (0, 167), (7, 220)]"
   ]
  },
  {
   "cell_type": "code",
   "execution_count": 5,
   "id": "5394ca3c-de24-4930-928b-53b1a36d1e92",
   "metadata": {},
   "outputs": [],
   "source": [
    "#crop for annie-5-12\n",
    "crop512 = [(12,160),(10,155), (9, 210), (12, 230)]\n"
   ]
  },
  {
   "cell_type": "code",
   "execution_count": 6,
   "id": "605fc365-e0ca-4bd0-81ca-d1d372aa089c",
   "metadata": {},
   "outputs": [],
   "source": [
    "#crop for annie 5-19\n",
    "#crop519 = [(60, 140), (14,185), (20, 175), (15,  180), (10, 165)]"
   ]
  },
  {
   "cell_type": "code",
   "execution_count": null,
   "id": "41a4cf88-e6ba-496d-af53-b451e1d9d1a8",
   "metadata": {},
   "outputs": [],
   "source": [
    "rate, kin = session512.process(crop512, threshold_multiplier=3.0)"
   ]
  },
  {
   "cell_type": "code",
   "execution_count": 4,
   "id": "61b60b23-b7cc-4a1b-925a-e08e47507ba7",
   "metadata": {},
   "outputs": [],
   "source": [
    "rates = session519.data['rates']\n",
    "kins = session519.data['angles']"
   ]
  },
  {
   "cell_type": "code",
   "execution_count": 5,
   "id": "b6ad72f0-d152-4b42-8203-a01ba80cf5b5",
   "metadata": {},
   "outputs": [],
   "source": [
    "def format_data(x, y, N=10):\n",
    "    stitch_x = np.ones((1, x.shape[1]))*-1\n",
    "    stitch_y = np.ones((1, y.shape[1]))*-1\n",
    "\n",
    "    #this is borderline incomprehensible code, but this just returns an array\n",
    "    #that contains the indexes for splitting the data\n",
    "    stitch_idx = np.insert(np.unique(np.where(x==stitch_x)[0]), 0,-1)\n",
    "\n",
    "    x_list = []\n",
    "    y_list = []\n",
    "\n",
    "    x_output_list = []\n",
    "    y_output_list = []\n",
    "    for i in range(np.size(stitch_idx)-1):\n",
    "        x_list.append(x[stitch_idx[i]+1:stitch_idx[i+1], :])\n",
    "        y_list.append(y[stitch_idx[i]+1:stitch_idx[i+1], :])\n",
    "        \n",
    "    for j in range(len(x_list)):\n",
    "        x_ = x_list[j]\n",
    "        y_ = y_list[j]\n",
    "\n",
    "        print(x_.shape, y_.shape)\n",
    "\n",
    "        temp_x_list = []\n",
    "        temp_y_list = []\n",
    "        for i in range(np.size(x_, 0) -N):\n",
    "            temp = x_[i:i+N, :]\n",
    "            temp = temp.reshape((np.size(temp)))\n",
    "            temp_x_list.append(temp)\n",
    "            if y_.ndim == 2:\n",
    "                temp_y_list.append(y[i+N-1, :])\n",
    "            elif y_.ndim == 1:\n",
    "                temp_y_list.append(y[i+N-1])\n",
    "\n",
    "            x_output_list.append(np.asarray(temp_x_list))\n",
    "            y_output_list.append(np.asarray(temp_y_list))\n",
    "\n",
    "    return np.vstack(x_output_list), np.vstack(y_output_list)\n",
    "        \n",
    "        \n",
    "\n",
    "\n"
   ]
  },
  {
   "cell_type": "code",
   "execution_count": 16,
   "id": "a5dddbe0-a2e0-47f2-a7f0-6576edc6f202",
   "metadata": {},
   "outputs": [],
   "source": [
    "f_rates, f_kins = format_data(rates, kins)"
   ]
  },
  {
   "cell_type": "code",
   "execution_count": 14,
   "id": "591593b1-bef6-43fc-bf08-75c7c9be9dda",
   "metadata": {},
   "outputs": [
    {
     "ename": "AttributeError",
     "evalue": "'list' object has no attribute 'shape'",
     "output_type": "error",
     "traceback": [
      "\u001b[0;31m---------------------------------------------------------------------------\u001b[0m",
      "\u001b[0;31mAttributeError\u001b[0m                            Traceback (most recent call last)",
      "\u001b[0;32m<ipython-input-14-67bda9749c8e>\u001b[0m in \u001b[0;36m<module>\u001b[0;34m\u001b[0m\n\u001b[0;32m----> 1\u001b[0;31m \u001b[0mf_rates\u001b[0m\u001b[0;34m.\u001b[0m\u001b[0mshape\u001b[0m\u001b[0;34m\u001b[0m\u001b[0m\n\u001b[0m",
      "\u001b[0;31mAttributeError\u001b[0m: 'list' object has no attribute 'shape'"
     ]
    }
   ],
   "source": [
    "f_rates.shape"
   ]
  },
  {
   "cell_type": "code",
   "execution_count": 8,
   "id": "8e249b6e-d050-429d-a9a1-c51722d4d8a9",
   "metadata": {},
   "outputs": [],
   "source": [
    "stitch_x = np.ones((1, rates.shape[1]))*-1  "
   ]
  },
  {
   "cell_type": "code",
   "execution_count": 6,
   "id": "7c12e221-27eb-4d08-ba3b-9dad30811525",
   "metadata": {},
   "outputs": [],
   "source": [
    "rates_cut = rates[1000:,:]\n",
    "kins_cut = kins[1000:,:]"
   ]
  },
  {
   "cell_type": "code",
   "execution_count": 22,
   "id": "aa0b82bd-ca84-45bd-82b8-9a2a629f1f1c",
   "metadata": {},
   "outputs": [],
   "source": [
    "stitch_idx = np.insert(np.unique(np.where(rates_cut==stitch_x)[0]),0,-1)"
   ]
  },
  {
   "cell_type": "code",
   "execution_count": 18,
   "id": "9b96c7e0-47ca-4ef3-aec5-38364a425b3c",
   "metadata": {},
   "outputs": [
    {
     "data": {
      "text/plain": [
       "6"
      ]
     },
     "execution_count": 18,
     "metadata": {},
     "output_type": "execute_result"
    }
   ],
   "source": [
    "np.size(stitch_idx)"
   ]
  },
  {
   "cell_type": "code",
   "execution_count": 23,
   "id": "d1806fef-3337-4e88-afeb-0eff2f306568",
   "metadata": {},
   "outputs": [],
   "source": [
    "x_list = []\n",
    "y_list = []\n",
    "\n",
    "for i in range(np.size(stitch_idx)-1):\n",
    "    x_list.append(rates_cut[stitch_idx[i]+1:stitch_idx[i+1], :])\n",
    "    y_list.append(kins_cut[stitch_idx[i]+1:stitch_idx[i+1],:])\n",
    "    "
   ]
  },
  {
   "cell_type": "code",
   "execution_count": null,
   "id": "fb04490d-10bd-4377-8a45-021b29d477a6",
   "metadata": {},
   "outputs": [],
   "source": [
    "for j in range(len(x_list)):\n",
    "    x_ = x_list[j]\n",
    "    y_ = y_list[j]\n",
    "    \n",
    "    temp_x_list=[]\n",
    "    temp_y_list=[]\n",
    "    \n",
    "    for i in range(np.size(x_, 0) - 10):\n",
    "        print(x_.shape)"
   ]
  },
  {
   "cell_type": "code",
   "execution_count": null,
   "id": "83d87394-ba61-4b5b-b263-65cd9f4eb41e",
   "metadata": {},
   "outputs": [
    {
     "name": "stdout",
     "output_type": "stream",
     "text": [
      "(1601, 32) (1601, 7)\n",
      "(3422, 32) (3422, 7)\n"
     ]
    }
   ],
   "source": [
    "fx, fy = format_data(rates, kins)"
   ]
  },
  {
   "cell_type": "code",
   "execution_count": 57,
   "id": "23cbb3fa-9c10-4a38-9de1-053a34ed5d00",
   "metadata": {},
   "outputs": [
    {
     "data": {
      "text/plain": [
       "array([[200., 180., 160., ..., 120.,  80.,  80.],\n",
       "       [200., 180., 160., ..., 120.,  80.,  80.],\n",
       "       [120., 100., 140., ..., 140., 100., 140.],\n",
       "       ...,\n",
       "       [240., 220., 240., ...,   0.,  20.,   0.],\n",
       "       [240., 260., 260., ...,  60.,  60.,  60.],\n",
       "       [100., 160., 140., ..., 100.,  80., 100.]])"
      ]
     },
     "execution_count": 57,
     "metadata": {},
     "output_type": "execute_result"
    }
   ],
   "source": [
    "fx[0:100,:]"
   ]
  },
  {
   "cell_type": "code",
   "execution_count": 12,
   "id": "6f8167dc-a64d-41f5-96cb-4a4c907b66bc",
   "metadata": {},
   "outputs": [
    {
     "data": {
      "text/plain": [
       "24414.0625"
      ]
     },
     "execution_count": 12,
     "metadata": {},
     "output_type": "execute_result"
    }
   ],
   "source": [
    "session519.data['rates_fs']"
   ]
  },
  {
   "cell_type": "code",
   "execution_count": null,
   "id": "f8b90359-f6b4-4385-ab09-891b10271e0d",
   "metadata": {},
   "outputs": [],
   "source": [
    "testone = session519.kin_data[0]['coords']\n",
    "testtwo = session519.kin_data[1]['coords']"
   ]
  },
  {
   "cell_type": "code",
   "execution_count": null,
   "id": "06dc71e4-5e2e-445f-86b8-84e794dc2d5e",
   "metadata": {},
   "outputs": [],
   "source": [
    "testone.shape"
   ]
  },
  {
   "cell_type": "code",
   "execution_count": null,
   "id": "0633eca2-3697-4441-819f-80d3e0d7260c",
   "metadata": {},
   "outputs": [],
   "source": [
    "love = np.ones((1, testone.shape[1], testone.shape[2])) * -1"
   ]
  },
  {
   "cell_type": "code",
   "execution_count": null,
   "id": "dd844ba7-5500-4160-b061-57b997631ee6",
   "metadata": {},
   "outputs": [],
   "source": [
    "np.vstack((testone, love))"
   ]
  },
  {
   "cell_type": "code",
   "execution_count": null,
   "id": "4156abdb-f755-43d0-94e3-8ff47c5dcb82",
   "metadata": {},
   "outputs": [],
   "source": [
    "rate.shape"
   ]
  },
  {
   "cell_type": "code",
   "execution_count": null,
   "id": "84a18433-34e6-49bb-8911-30c55fad056f",
   "metadata": {},
   "outputs": [],
   "source": [
    "stitch_break = np.ones((1, rate.shape[1])) * -1"
   ]
  },
  {
   "cell_type": "code",
   "execution_count": null,
   "id": "9d30f87e-0d79-4272-9852-85315928d49d",
   "metadata": {},
   "outputs": [],
   "source": [
    "np.vstack((rate, stitch_break))"
   ]
  },
  {
   "cell_type": "code",
   "execution_count": null,
   "id": "028f10ac-b2bd-4334-8829-7f07aa3a1f87",
   "metadata": {},
   "outputs": [],
   "source": []
  },
  {
   "cell_type": "code",
   "execution_count": null,
   "id": "e1418589-bee7-445c-8208-ab075c228ebe",
   "metadata": {},
   "outputs": [],
   "source": [
    "h, vaf, xtest, ytest = session519.decode_angles()"
   ]
  },
  {
   "cell_type": "code",
   "execution_count": null,
   "id": "52ce25f5-811d-472c-93cb-6a1cfcb328d6",
   "metadata": {},
   "outputs": [],
   "source": [
    "np.average(vaf,axis=1)"
   ]
  },
  {
   "cell_type": "code",
   "execution_count": null,
   "id": "061ce7c0-5799-426a-a9f1-821786c01ea3",
   "metadata": {},
   "outputs": [],
   "source": [
    "plot_wiener_filter_predic(xtest, ytest[:,1], h[:,1])"
   ]
  },
  {
   "cell_type": "code",
   "execution_count": null,
   "id": "21ce430f-a404-47d0-9dcb-e35a028de8f6",
   "metadata": {},
   "outputs": [],
   "source": [
    "temp = session519.get_gait_indices()"
   ]
  },
  {
   "cell_type": "code",
   "execution_count": null,
   "id": "676a8d13-0518-4001-92ec-2bf1fc5c6c72",
   "metadata": {},
   "outputs": [],
   "source": [
    "session519.avg_gait_samples"
   ]
  },
  {
   "cell_type": "code",
   "execution_count": null,
   "id": "f7165716-634b-4f3b-b8d6-56604cdeb97c",
   "metadata": {},
   "outputs": [],
   "source": [
    "rate_gait, kin_gait = session519.divide_into_gaits(rate, kin)"
   ]
  },
  {
   "cell_type": "code",
   "execution_count": null,
   "id": "390fcf1d-d693-497e-ba42-2b162586cec1",
   "metadata": {},
   "outputs": [],
   "source": [
    "df = session519.neuron_tuning(rate_gait)"
   ]
  },
  {
   "cell_type": "code",
   "execution_count": null,
   "id": "aae5cfb9-e66e-4e2d-bf27-2cda6bb8343a",
   "metadata": {},
   "outputs": [],
   "source": [
    "plot_raster(df)"
   ]
  },
  {
   "cell_type": "code",
   "execution_count": null,
   "id": "1943ce00-0fec-4c64-8bec-912aefe979cb",
   "metadata": {},
   "outputs": [],
   "source": [
    "rates, kins = session510.stitch_data(session510.rate_list, session510.angle_list)"
   ]
  },
  {
   "cell_type": "code",
   "execution_count": null,
   "id": "5f382174-62a6-44f8-acf3-e9049aabe013",
   "metadata": {},
   "outputs": [],
   "source": [
    "session510.get_gait_indices()"
   ]
  },
  {
   "cell_type": "code",
   "execution_count": null,
   "id": "ae80aada-8ba0-46e4-a4f5-894a2cf16f14",
   "metadata": {},
   "outputs": [],
   "source": [
    "X_gait, Y_gait = session510.divide_into_gaits(rates, kins)"
   ]
  },
  {
   "cell_type": "code",
   "execution_count": null,
   "id": "f1dd593b-8647-4b61-9448-cd1ff3b5d6ab",
   "metadata": {},
   "outputs": [],
   "source": [
    "np.array(X_gait).shape, np.array(Y_gait).shape"
   ]
  },
  {
   "cell_type": "code",
   "execution_count": null,
   "id": "e55ac475-9315-4d15-a53a-7cc79e1b3d94",
   "metadata": {},
   "outputs": [],
   "source": [
    "session510.neuron_tuning(X_gait)"
   ]
  },
  {
   "cell_type": "code",
   "execution_count": null,
   "id": "b624fa5a-6c5f-4660-8ed2-667696525315",
   "metadata": {},
   "outputs": [],
   "source": [
    "df = session510.norm_sorted_neurons"
   ]
  },
  {
   "cell_type": "code",
   "execution_count": null,
   "id": "36da57f8-d6b3-47e7-a64c-6f0f69671399",
   "metadata": {},
   "outputs": [],
   "source": [
    "df.columns"
   ]
  },
  {
   "cell_type": "code",
   "execution_count": null,
   "id": "e18d4ba3-eb47-4d5b-86b5-f6c5d6fa5f1c",
   "metadata": {},
   "outputs": [],
   "source": [
    "plot_raster(session510.norm_sorted_neurons)"
   ]
  },
  {
   "cell_type": "code",
   "execution_count": null,
   "id": "2e10e27e-1141-4d70-b02b-6723d91fe55f",
   "metadata": {},
   "outputs": [],
   "source": [
    "rates_pca_3, pca_output = apply_PCA(rates.T, 3)"
   ]
  },
  {
   "cell_type": "code",
   "execution_count": null,
   "id": "8b99aeed-1ab8-4075-badc-007f49b63d74",
   "metadata": {},
   "outputs": [],
   "source": [
    "rates_pca_3 = rates_pca_3.T\n",
    "print(rates_pca_3.shape)"
   ]
  },
  {
   "cell_type": "code",
   "execution_count": null,
   "id": "a61a11f6-f7f9-4dc1-8bd8-1b1a70a32b92",
   "metadata": {},
   "outputs": [],
   "source": [
    "gait_rates_3, nada = session.divide_into_gaits(rates_pca_3, angles)"
   ]
  },
  {
   "cell_type": "code",
   "execution_count": null,
   "id": "e167527b-bc24-46a7-bae3-dd910cdceb48",
   "metadata": {},
   "outputs": [],
   "source": [
    "gait_rates_3 = np.array(gait_rates_3)"
   ]
  },
  {
   "cell_type": "code",
   "execution_count": null,
   "id": "a56c25f0-b4aa-4ae4-8c79-f73ae77850f7",
   "metadata": {},
   "outputs": [],
   "source": [
    "avg_gait_rates_3 = np.average(gait_rates_3, axis=0)"
   ]
  },
  {
   "cell_type": "code",
   "execution_count": null,
   "id": "62b5f891-c715-483a-a276-4e958349b061",
   "metadata": {},
   "outputs": [],
   "source": [
    "np.vstack((avg_gait_rates_3.T, avg_gait_rates_3[:,0].T)).T.shape"
   ]
  },
  {
   "cell_type": "code",
   "execution_count": null,
   "id": "9a8697d2-4217-4aa3-860c-3b17376188cc",
   "metadata": {},
   "outputs": [],
   "source": [
    "gait_state_space(gait_rates_3)"
   ]
  },
  {
   "cell_type": "code",
   "execution_count": null,
   "id": "fd3520af-3334-4b03-a689-b1b72ef4a22a",
   "metadata": {},
   "outputs": [],
   "source": [
    "rates_PCA.shape"
   ]
  },
  {
   "cell_type": "code",
   "execution_count": null,
   "id": "9af5e840-139b-4a31-8eb1-19a652499153",
   "metadata": {},
   "outputs": [],
   "source": [
    "fig, ax = plt.subplots()\n",
    "ax.plot(pca_output.explained_variance_ratio_)"
   ]
  },
  {
   "cell_type": "code",
   "execution_count": null,
   "id": "21640ec9-15d1-42db-9a92-4a269b64d4aa",
   "metadata": {},
   "outputs": [],
   "source": [
    "ret = session.process_toe_height()"
   ]
  },
  {
   "cell_type": "code",
   "execution_count": null,
   "id": "fd06c100-a2dd-4c58-bb46-f89db9a0a5a8",
   "metadata": {},
   "outputs": [],
   "source": [
    "h_toe, vaf_toe, x_toe, y_toe = session.decode_toe_height()"
   ]
  },
  {
   "cell_type": "code",
   "execution_count": null,
   "id": "bdcc5286-3b8d-446d-b039-a33fe18f25f1",
   "metadata": {},
   "outputs": [],
   "source": [
    "predic_y_toe = test_wiener_filter(x_toe, h_toe)\n",
    "print(vaf(y_toe, predic_y_toe))\n",
    "fig1 = plt.figure()\n",
    "ax1=fig1.add_subplot(111)\n",
    "ax1.plot(y_toe)\n",
    "ax1.plot(predic_y_toe)"
   ]
  },
  {
   "cell_type": "code",
   "execution_count": null,
   "id": "ea7c8de3-9124-468d-ac1a-975bc340ae9b",
   "metadata": {},
   "outputs": [],
   "source": [
    "session.divide_into_gaits()"
   ]
  },
  {
   "cell_type": "code",
   "execution_count": null,
   "id": "204b0cb8-81cf-4222-a38c-24e9145dc06a",
   "metadata": {},
   "outputs": [],
   "source": [
    "ret = session.neuron_tuning()"
   ]
  },
  {
   "cell_type": "code",
   "execution_count": null,
   "id": "3416aac5-a814-4259-a3fb-db1c11444a51",
   "metadata": {},
   "outputs": [],
   "source": [
    "raster(ret)"
   ]
  },
  {
   "cell_type": "code",
   "execution_count": null,
   "id": "fdd9ea71-323c-482e-b513-900289663953",
   "metadata": {},
   "outputs": [],
   "source": [
    "avg_gait_array.shape"
   ]
  },
  {
   "cell_type": "code",
   "execution_count": null,
   "id": "34a46fd6-c29e-48ca-8f92-713958ee8f51",
   "metadata": {},
   "outputs": [],
   "source": [
    "np.sort(np.argmax(avg_gait_array, axis=1))"
   ]
  },
  {
   "cell_type": "code",
   "execution_count": null,
   "id": "2bb2ed8c-1dc1-4503-8a74-b2118f9c5a9a",
   "metadata": {},
   "outputs": [],
   "source": [
    "h, vaffy, test_x, test_y = session.decode_angles()"
   ]
  },
  {
   "cell_type": "code",
   "execution_count": null,
   "id": "50a08ecc-3008-4cc4-b252-479bd5219f69",
   "metadata": {},
   "outputs": [],
   "source": [
    "avg_vaf = np.average(vaffy, axis=1)\n",
    "predic_y = test_wiener_filter(test_x, h)\n",
    "print(avg_vaf)"
   ]
  },
  {
   "cell_type": "code",
   "execution_count": null,
   "id": "b0e08009-adf7-46e1-ae10-6c0a802f2db7",
   "metadata": {},
   "outputs": [],
   "source": [
    "fig0 = plt.figure()\n",
    "ax0=fig0.add_subplot(111)\n",
    "ax0.plot(test_y[:,3])\n",
    "ax0.plot(predic_y[:,3])\n",
    "\n",
    "print(vaf(test_y[:,3], predic_y[:,3]))"
   ]
  },
  {
   "cell_type": "code",
   "execution_count": null,
   "id": "b02428bc-e977-4885-a05a-e85f897369d0",
   "metadata": {},
   "outputs": [],
   "source": [
    "session.divide_into_gaits()"
   ]
  },
  {
   "cell_type": "code",
   "execution_count": null,
   "id": "859eaa35-64a7-46db-9d51-5b2d6d4668b0",
   "metadata": {},
   "outputs": [],
   "source": [
    "np.array(session.rate_gait).shape"
   ]
  },
  {
   "cell_type": "code",
   "execution_count": null,
   "id": "bcde9ada-56ca-4cee-ab6b-44a4ee62af84",
   "metadata": {},
   "outputs": [],
   "source": [
    "len(session.angle_gait)"
   ]
  },
  {
   "cell_type": "code",
   "execution_count": null,
   "id": "neutral-individual",
   "metadata": {},
   "outputs": [],
   "source": [
    "crop1 = (5,180)\n",
    "crop2 = (31,227)\n",
    "crop3 = (5,200)\n",
    "crop4 = (5,150)\n",
    "\n",
    "crop_list = []\n",
    "crop_list.extend((crop1, crop2, crop3, crop4))"
   ]
  },
  {
   "cell_type": "code",
   "execution_count": null,
   "id": "breathing-jason",
   "metadata": {},
   "outputs": [],
   "source": [
    "sess1 = CortProcessor('/home/diya/Documents/rat-fes/data/rat-t/session1')"
   ]
  },
  {
   "cell_type": "code",
   "execution_count": null,
   "id": "sticky-newspaper",
   "metadata": {},
   "outputs": [],
   "source": [
    "rates, kins = sess1.process(crop_list)"
   ]
  },
  {
   "cell_type": "code",
   "execution_count": null,
   "id": "classified-radical",
   "metadata": {},
   "outputs": [],
   "source": [
    "a, b, c, d = sess1.linear_decoder(rates,kins)"
   ]
  },
  {
   "cell_type": "code",
   "execution_count": null,
   "id": "subsequent-jenny",
   "metadata": {},
   "outputs": [],
   "source": [
    "np.average(b, axis=1)"
   ]
  },
  {
   "cell_type": "code",
   "execution_count": null,
   "id": "separated-delay",
   "metadata": {},
   "outputs": [],
   "source": [
    "path = '/home/diya/Documents/rat-fes/data/rat-annie/5-6-22/annie2-220506-133311/live_videos'"
   ]
  },
  {
   "cell_type": "code",
   "execution_count": null,
   "id": "handmade-initial",
   "metadata": {},
   "outputs": [],
   "source": [
    "for file_name in os.listdir(path):\n",
    "    if file_name.endswith('.npy'):\n",
    "        print(file_name)\n",
    "    \n"
   ]
  },
  {
   "cell_type": "code",
   "execution_count": null,
   "id": "opening-forth",
   "metadata": {},
   "outputs": [],
   "source": [
    "file_name.split('-')"
   ]
  },
  {
   "cell_type": "code",
   "execution_count": null,
   "id": "faced-nickname",
   "metadata": {},
   "outputs": [],
   "source": []
  }
 ],
 "metadata": {
  "kernelspec": {
   "display_name": "Python 3",
   "language": "python",
   "name": "python3"
  },
  "language_info": {
   "codemirror_mode": {
    "name": "ipython",
    "version": 3
   },
   "file_extension": ".py",
   "mimetype": "text/x-python",
   "name": "python",
   "nbconvert_exporter": "python",
   "pygments_lexer": "ipython3",
   "version": "3.7.0"
  },
  "toc-autonumbering": true
 },
 "nbformat": 4,
 "nbformat_minor": 5
}
