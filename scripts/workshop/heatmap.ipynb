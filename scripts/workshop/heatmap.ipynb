{
 "cells": [
  {
   "cell_type": "code",
   "execution_count": 1,
   "id": "da8a65e3-26ae-4996-afac-f9ad1d91a3b9",
   "metadata": {},
   "outputs": [
    {
     "name": "stdout",
     "output_type": "stream",
     "text": [
      "The history saving thread hit an unexpected error (DatabaseError('database disk image is malformed')).History will not be written to the database.\n"
     ]
    }
   ],
   "source": [
    "%matplotlib widget\n",
    "%load_ext autoreload\n",
    "%autoreload 2\n",
    "from src.cort_processor import *\n",
    "from src.cort_processor_backup import *\n",
    "\n",
    "from src.plotter import *\n",
    "from src.filters import *\n",
    "import math\n",
    "import pickle\n",
    "import scipy\n",
    "import matplotlib.pyplot as plt\n",
    "from  matplotlib.colors import LinearSegmentedColormap\n",
    "from matplotlib.pyplot import cm\n",
    "from scipy import signal\n",
    "import numpy as np\n",
    "import seaborn as sns\n",
    "import pandas as pd\n",
    "import scipy.stats as stats\n",
    "from matplotlib import colors as mcolors\n",
    "from mpl_toolkits.mplot3d import Axes3D\n",
    "import tdt \n",
    "import matplotlib.pyplot as plt\n",
    "from scipy.signal import butter, lfilter, iirnotch, filtfilt, resample, hilbert, welch\n",
    "from scipy.fftpack import fft,fftfreq,rfft,irfft,ifft\n",
    "from scipy.io import savemat"
   ]
  },
  {
   "cell_type": "code",
   "execution_count": 2,
   "id": "d7233d84-9142-475f-8c03-27b435fc28e3",
   "metadata": {},
   "outputs": [
    {
     "name": "stdout",
     "output_type": "stream",
     "text": [
      "read from t=0s to t=384.32s\n",
      "read from t=0s to t=367.29s\n"
     ]
    },
    {
     "data": {
      "text/plain": [
       "(array([[  0.,   0.,   0., ...,   0.,   0.,   0.],\n",
       "        [  0.,   0.,   0., ...,   0.,   0.,   0.],\n",
       "        [  0.,   0.,  20., ...,  40.,   0.,  20.],\n",
       "        ...,\n",
       "        [ 80.,   0.,  40., ...,  20.,  80.,   0.],\n",
       "        [  0.,  40.,  20., ...,  20.,  20.,   0.],\n",
       "        [ 20.,  60.,  80., ..., 200.,  80.,  40.]]),\n",
       " array([[ 57.04570981,  68.52154199,  99.700727  , ...,  85.96389651,\n",
       "          75.35382826, 116.93322321],\n",
       "        [ 36.4996488 ,  51.9334805 , 108.95429378, ...,  60.71062409,\n",
       "          80.37769212,  94.83433549],\n",
       "        [ 19.54975274,  49.76222537,  98.11528124, ...,  75.31351158,\n",
       "          78.8937292 , 107.27672204],\n",
       "        ...,\n",
       "        [ 52.22852793,  78.35555014,  99.29736362, ...,  59.51694951,\n",
       "          68.70136091,  99.38576458],\n",
       "        [ 47.31020006,  70.14428143,  99.58226833, ...,  48.56430178,\n",
       "          75.6090886 ,  89.48683408],\n",
       "        [ 47.67175786,  64.09552069,  99.79731245, ...,  49.29364425,\n",
       "          83.22919592,  91.97206143]]))"
      ]
     },
     "execution_count": 2,
     "metadata": {},
     "output_type": "execute_result"
    }
   ],
   "source": [
    "test_session = CortProcessor('/mnt/c/oobootoo/rat-fes/data/results-meplem923/meepo_fast_923')\n",
    "test_session.process()"
   ]
  },
  {
   "cell_type": "code",
   "execution_count": 3,
   "id": "920c8faf-2987-4106-91ac-ae98d7b3ca5b",
   "metadata": {},
   "outputs": [],
   "source": [
    "test_pred, test_act, testr2 = test_session.decode_phase()\n",
    "test_tsf = np.linspace(0, (test_act.shape[0]*50)/1000,test_act.shape[0])"
   ]
  },
  {
   "cell_type": "code",
   "execution_count": 4,
   "id": "abe82243-2192-4df4-90f9-b86286f9a617",
   "metadata": {},
   "outputs": [
    {
     "name": "stdout",
     "output_type": "stream",
     "text": [
      "[60. 20.  0. ... 80.  0. 20.]\n"
     ]
    }
   ],
   "source": [
    "print(test_session.data[\"rates\"][1][:,0])"
   ]
  },
  {
   "cell_type": "code",
   "execution_count": 5,
   "id": "ef6c8df7-25aa-4994-b096-ab83dd807755",
   "metadata": {},
   "outputs": [],
   "source": [
    "rates_unformat = np.vstack((test_session.data[\"rates\"][0],test_session.data[\"rates\"][1]))"
   ]
  },
  {
   "cell_type": "code",
   "execution_count": 6,
   "id": "eb7bd12c-f6d0-4a99-ac07-512e918ee024",
   "metadata": {},
   "outputs": [
    {
     "name": "stdout",
     "output_type": "stream",
     "text": [
      "(13709, 32)\n",
      "[43.42111022 36.19082355 50.20351594 35.63790211 41.92136553 46.72842658\n",
      " 41.77985265 35.7750383  42.25399373 35.81005179 42.54577285 35.47158801\n",
      " 40.95849442 42.85359982 39.95623313 40.80239259 39.56233132 34.62980524\n",
      " 45.86913706 36.14851557 39.82930921 37.40900139 33.89743964 34.45765555\n",
      " 35.67875119 36.84732657 36.02013276 37.92545043 37.09679772 41.57268947\n",
      " 36.58034868 36.49135604]\n",
      "[23 21 19 17 22 20 18 16 30 28 26 24 31 29 27 25 14 12 10  8 15 13 11  9\n",
      "  7  5  3  1  6  4  2  0]\n",
      "[ 0.  0.  0. ... 20. 20. 80.]\n",
      "[ 0.  0. 20. ... 40. 20. 80.]\n",
      "[[34.45765555 37.40900139 36.14851557 34.62980524 33.89743964 39.82930921\n",
      "  45.86913706 39.56233132]\n",
      " [36.58034868 37.09679772 36.02013276 35.67875119 36.49135604 41.57268947\n",
      "  37.92545043 36.84732657]\n",
      " [39.95623313 40.95849442 42.54577285 42.25399373 40.80239259 42.85359982\n",
      "  35.47158801 35.81005179]\n",
      " [35.7750383  46.72842658 35.63790211 36.19082355 41.77985265 41.92136553\n",
      "  50.20351594 43.42111022]]\n"
     ]
    }
   ],
   "source": [
    "print(rates_unformat.shape)\n",
    "print(np.mean(rates_unformat, axis = 0))\n",
    "tdt_index = np.flip(np.array([1,3,5,7,2,4,6,8,\n",
    "                      10,12,14,16,9,11,13,15,\n",
    "                      26,28,30,32,25,27,29,31,\n",
    "                      17,19,21,23,18,20,22,24]) -1)\n",
    "print(tdt_index)\n",
    "sorted_uformat = rates_unformat[:,tdt_index]\n",
    "print(sorted_uformat[:,1])\n",
    "print(rates_unformat[:,2])\n",
    "means_tmp = np.mean(rates_unformat, axis = 0)\n",
    "means_tmp_sorted = means_tmp[tdt_index]\n",
    "means_tmp_sorted = np.reshape(means_tmp_sorted, (4,8))\n",
    "print(means_tmp_sorted)"
   ]
  },
  {
   "cell_type": "code",
   "execution_count": 7,
   "id": "651ea8ee-a25b-438b-96ec-d904c441a53c",
   "metadata": {},
   "outputs": [],
   "source": [
    "rates, _ = test_session.stitch_and_format(test_session.data['rates'], test_session.data['angles'])"
   ]
  },
  {
   "cell_type": "code",
   "execution_count": 8,
   "id": "ff769212-2bb5-42d7-8294-71456f522222",
   "metadata": {},
   "outputs": [
    {
     "name": "stdout",
     "output_type": "stream",
     "text": [
      "(13689, 320)\n"
     ]
    }
   ],
   "source": [
    "print(rates.shape)"
   ]
  },
  {
   "cell_type": "code",
   "execution_count": 12,
   "id": "400d451f-ccf1-4daf-b9fc-d9325b771152",
   "metadata": {},
   "outputs": [
    {
     "data": {
      "text/plain": [
       "<AxesSubplot:>"
      ]
     },
     "execution_count": 12,
     "metadata": {},
     "output_type": "execute_result"
    },
    {
     "data": {
      "image/png": "[encoded data removed]",
      "text/plain": [
       "<Figure size 1152x648 with 2 Axes>"
      ]
     },
     "metadata": {
      "needs_background": "light"
     },
     "output_type": "display_data"
    }
   ],
   "source": [
    "%matplotlib inline\n",
    "plt.figure(figsize=(16,9))\n",
    "sns.heatmap(means_tmp_sorted, linewidth=0.5)\n"
   ]
  },
  {
   "cell_type": "code",
   "execution_count": 10,
   "id": "69e791a1-e64a-45ae-b1f1-8e372275c1db",
   "metadata": {},
   "outputs": [
    {
     "ename": "SyntaxError",
     "evalue": "positional argument follows keyword argument (<ipython-input-10-f4ecc04de551>, line 2)",
     "output_type": "error",
     "traceback": [
      "\u001b[0;36m  File \u001b[0;32m\"<ipython-input-10-f4ecc04de551>\"\u001b[0;36m, line \u001b[0;32m2\u001b[0m\n\u001b[0;31m    sns.heatmap(ax=ax, means_tmp_sorted,ax=ax)\u001b[0m\n\u001b[0m                      ^\u001b[0m\n\u001b[0;31mSyntaxError\u001b[0m\u001b[0;31m:\u001b[0m positional argument follows keyword argument\n"
     ]
    }
   ],
   "source": [
    "fig, ax = plt.subplots()\n",
    "sns.heatmap(ax=ax, means_tmp_sorted,ax=ax)"
   ]
  },
  {
   "cell_type": "code",
   "execution_count": null,
   "id": "74668ac2-a1ce-4385-91b3-6a4f45e624e3",
   "metadata": {},
   "outputs": [],
   "source": [
    "tt = np.arange(1,33)\n",
    "print(tt)"
   ]
  },
  {
   "cell_type": "code",
   "execution_count": null,
   "id": "d7ad2382-7dbb-4b7e-a488-502f01e547bd",
   "metadata": {},
   "outputs": [],
   "source": []
  }
 ],
 "metadata": {
  "kernelspec": {
   "display_name": "Python 3",
   "language": "python",
   "name": "python3"
  },
  "language_info": {
   "codemirror_mode": {
    "name": "ipython",
    "version": 3
   },
   "file_extension": ".py",
   "mimetype": "text/x-python",
   "name": "python",
   "nbconvert_exporter": "python",
   "pygments_lexer": "ipython3",
   "version": "3.7.0"
  }
 },
 "nbformat": 4,
 "nbformat_minor": 5
}
