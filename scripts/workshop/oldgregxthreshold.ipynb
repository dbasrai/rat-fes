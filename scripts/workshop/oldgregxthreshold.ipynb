{
 "cells": [
  {
   "cell_type": "code",
   "execution_count": 1,
   "id": "2fd7975a-26db-4329-b1e2-631cf96d0f53",
   "metadata": {},
   "outputs": [
    {
     "name": "stdout",
     "output_type": "stream",
     "text": [
      "The autoreload extension is already loaded. To reload it, use:\n",
      "  %reload_ext autoreload\n"
     ]
    }
   ],
   "source": [
    "%matplotlib widget\n",
    "%load_ext autoreload\n",
    "%autoreload 2\n",
    "%run phasedecoder907.ipynb\n",
    "from src.folder_handler import *\n",
    "from src.cort_processor import *\n",
    "from src.tdt_support import *\n",
    "from src.plotter import *\n",
    "from src.decoders import *\n",
    "import math\n",
    "import pickle\n",
    "import scipy as spicy\n",
    "import numpy as np\n",
    "import matplotlib.pyplot as plt\n",
    "from  matplotlib.colors import LinearSegmentedColormap\n",
    "from src.wiener_filter import *\n",
    "from matplotlib.pyplot import cm\n",
    "from scipy import signal\n",
    "from scipy.signal import hilbert, butter, filtfilt\n",
    "from scipy.fftpack import fft,fftfreq,rfft,irfft,ifft\n",
    "import numpy as np\n",
    "import seaborn as sns\n",
    "import pandas as pd\n",
    "import scipy.stats as stats"
   ]
  },
  {
   "cell_type": "code",
   "execution_count": 2,
   "id": "1a179017-6fa3-484a-974a-ea2922868437",
   "metadata": {},
   "outputs": [],
   "source": [
    "###########\n",
    "# circular stats correlation\n",
    "# or pearsons on sin/cos"
   ]
  },
  {
   "cell_type": "code",
   "execution_count": 3,
   "id": "c7c020b5-98aa-4cf8-b2f5-7a5139355066",
   "metadata": {},
   "outputs": [],
   "source": [
    "with open('/mnt/c/oobootoo/rat-fes/data/pickles/3results-gregintact_729_session.pkl', 'rb') as inp:\n",
    "    session729 = pickle.load(inp)\n",
    "rates729 = session729.data['rates']\n",
    "angles729 = session729.data['angles']\n",
    "coords729 = session729.data['coords']\n",
    "\n",
    "with open('/mnt/c/oobootoo/rat-fes/data/pickles/3results-gregintact_818_session.pkl', 'rb') as inp:\n",
    "    session818 = pickle.load(inp)\n",
    "rates818 = session818.data['rates']\n",
    "angles818 = session818.data['angles']\n",
    "coords818 = session818.data['coords']\n",
    "\n",
    "with open('/mnt/c/oobootoo/rat-fes/data/pickles/3results-gregintact_825_session.pkl', 'rb') as inp:\n",
    "    session825 = pickle.load(inp)\n",
    "rates825 = session825.data['rates']\n",
    "angles825 = session825.data['angles']\n",
    "coords825 = session825.data['coords']\n",
    "\n",
    "with open('/mnt/c/oobootoo/rat-fes/data/pickles/3results-gregintact_901_session.pkl', 'rb') as inp:\n",
    "    session901 = pickle.load(inp)\n",
    "rates901 = session901.data['rates']\n",
    "angles901 = session901.data['angles']\n",
    "coords901 = session901.data['coords']"
   ]
  },
  {
   "cell_type": "code",
   "execution_count": 4,
   "id": "2debe000-7fc7-43f2-98c7-73820cd31626",
   "metadata": {},
   "outputs": [],
   "source": [
    "with open('/mnt/c/oobootoo/rat-fes/data/pickles/3-results-oldgreginjured_909_session.pkl', 'rb') as inp:\n",
    "    session909 = pickle.load(inp)\n",
    "rates909 = session909.data['rates']\n",
    "angles909 = session909.data['angles']\n",
    "coords909 = session909.data['coords']\n",
    "\n",
    "with open('/mnt/c/oobootoo/rat-fes/data/pickles/3-results-oldgreginjured_914_session.pkl', 'rb') as inp:\n",
    "    session914 = pickle.load(inp)\n",
    "rates914 = session914.data['rates']\n",
    "angles914 = session914.data['angles']\n",
    "coords914 = session914.data['coords']"
   ]
  },
  {
   "cell_type": "code",
   "execution_count": 5,
   "id": "71d0026f-8b70-4dec-adcc-e8e2dd4eb4a1",
   "metadata": {},
   "outputs": [
    {
     "ename": "ValueError",
     "evalue": "too many values to unpack (expected 6)",
     "output_type": "error",
     "traceback": [
      "\u001b[0;31m---------------------------------------------------------------------------\u001b[0m",
      "\u001b[0;31mValueError\u001b[0m                                Traceback (most recent call last)",
      "\u001b[0;32m<ipython-input-5-0cd36e54d30c>\u001b[0m in \u001b[0;36m<module>\u001b[0;34m\u001b[0m\n\u001b[0;32m----> 1\u001b[0;31m \u001b[0marctans729\u001b[0m\u001b[0;34m,\u001b[0m \u001b[0mphase_list729\u001b[0m\u001b[0;34m,\u001b[0m \u001b[0mH_sin729\u001b[0m\u001b[0;34m,\u001b[0m \u001b[0mH_cos729\u001b[0m\u001b[0;34m,\u001b[0m \u001b[0mr729\u001b[0m\u001b[0;34m,\u001b[0m \u001b[0mfull_rates\u001b[0m \u001b[0;34m=\u001b[0m \u001b[0mphase_train\u001b[0m\u001b[0;34m(\u001b[0m\u001b[0mrates729\u001b[0m\u001b[0;34m,\u001b[0m \u001b[0mangles729\u001b[0m\u001b[0;34m)\u001b[0m\u001b[0;34m\u001b[0m\u001b[0m\n\u001b[0m\u001b[1;32m      2\u001b[0m \u001b[0mtsf729\u001b[0m \u001b[0;34m=\u001b[0m \u001b[0mnp\u001b[0m\u001b[0;34m.\u001b[0m\u001b[0mlinspace\u001b[0m\u001b[0;34m(\u001b[0m\u001b[0;36m0\u001b[0m\u001b[0;34m,\u001b[0m \u001b[0;34m(\u001b[0m\u001b[0mphase_list729\u001b[0m\u001b[0;34m.\u001b[0m\u001b[0mshape\u001b[0m\u001b[0;34m[\u001b[0m\u001b[0;36m0\u001b[0m\u001b[0;34m]\u001b[0m\u001b[0;34m*\u001b[0m\u001b[0;36m50\u001b[0m\u001b[0;34m)\u001b[0m\u001b[0;34m/\u001b[0m\u001b[0;36m1000\u001b[0m\u001b[0;34m,\u001b[0m\u001b[0mphase_list729\u001b[0m\u001b[0;34m.\u001b[0m\u001b[0mshape\u001b[0m\u001b[0;34m[\u001b[0m\u001b[0;36m0\u001b[0m\u001b[0;34m]\u001b[0m\u001b[0;34m)\u001b[0m\u001b[0;34m\u001b[0m\u001b[0m\n\u001b[1;32m      3\u001b[0m \u001b[0;34m\u001b[0m\u001b[0m\n\u001b[1;32m      4\u001b[0m \u001b[0marctans818\u001b[0m\u001b[0;34m,\u001b[0m \u001b[0mphase_list818\u001b[0m\u001b[0;34m,\u001b[0m \u001b[0mH_sin818\u001b[0m\u001b[0;34m,\u001b[0m \u001b[0mH_cos818\u001b[0m\u001b[0;34m,\u001b[0m \u001b[0mr818\u001b[0m\u001b[0;34m,\u001b[0m \u001b[0mfull_rates\u001b[0m \u001b[0;34m=\u001b[0m \u001b[0mphase_train\u001b[0m\u001b[0;34m(\u001b[0m\u001b[0mrates818\u001b[0m\u001b[0;34m,\u001b[0m \u001b[0mangles818\u001b[0m\u001b[0;34m)\u001b[0m\u001b[0;34m\u001b[0m\u001b[0m\n\u001b[1;32m      5\u001b[0m \u001b[0mtsf818\u001b[0m \u001b[0;34m=\u001b[0m \u001b[0mnp\u001b[0m\u001b[0;34m.\u001b[0m\u001b[0mlinspace\u001b[0m\u001b[0;34m(\u001b[0m\u001b[0;36m0\u001b[0m\u001b[0;34m,\u001b[0m \u001b[0;34m(\u001b[0m\u001b[0mphase_list818\u001b[0m\u001b[0;34m.\u001b[0m\u001b[0mshape\u001b[0m\u001b[0;34m[\u001b[0m\u001b[0;36m0\u001b[0m\u001b[0;34m]\u001b[0m\u001b[0;34m*\u001b[0m\u001b[0;36m50\u001b[0m\u001b[0;34m)\u001b[0m\u001b[0;34m/\u001b[0m\u001b[0;36m1000\u001b[0m\u001b[0;34m,\u001b[0m\u001b[0mphase_list818\u001b[0m\u001b[0;34m.\u001b[0m\u001b[0mshape\u001b[0m\u001b[0;34m[\u001b[0m\u001b[0;36m0\u001b[0m\u001b[0;34m]\u001b[0m\u001b[0;34m)\u001b[0m\u001b[0;34m\u001b[0m\u001b[0m\n",
      "\u001b[0;31mValueError\u001b[0m: too many values to unpack (expected 6)"
     ]
    }
   ],
   "source": [
    "arctans729, phase_list729, H_sin729, H_cos729, r729, full_rates = phase_train(rates729, angles729)\n",
    "tsf729 = np.linspace(0, (phase_list729.shape[0]*50)/1000,phase_list729.shape[0])\n",
    "\n",
    "arctans818, phase_list818, H_sin818, H_cos818, r818, full_rates = phase_train(rates818, angles818)\n",
    "tsf818 = np.linspace(0, (phase_list818.shape[0]*50)/1000,phase_list818.shape[0])\n",
    "\n",
    "arctans825, phase_list825, H_sin825, H_cos825, r825, full_rates = phase_train(rates825, angles825)\n",
    "tsf825 = np.linspace(0, (phase_list825.shape[0]*50)/1000,phase_list825.shape[0])\n",
    "\n",
    "arctans901, phase_list901, H_sin901, H_cos901, r901, full_rates = phase_train(rates901, angles901)\n",
    "tsf901 = np.linspace(0, (phase_list901.shape[0]*50)/1000,phase_list901.shape[0])"
   ]
  },
  {
   "cell_type": "code",
   "execution_count": null,
   "id": "9c3a0095-d30e-4843-85df-dda7d22af1fe",
   "metadata": {},
   "outputs": [],
   "source": [
    "arctans909, phase_list909, H_sin909, H_cos909, r909, full_rates = phase_train_injured(rates909, angles909, phase_list901)\n",
    "tsf909 = np.linspace(0, (phase_list909.shape[0]*50)/1000,phase_list909.shape[0])\n",
    "\n",
    "arctans914, phase_list914, H_sin914, H_cos914, r914, full_rates = phase_train_injured(rates914, angles914, phase_list901)\n",
    "tsf914 = np.linspace(0, (phase_list914.shape[0]*50)/1000,phase_list914.shape[0])"
   ]
  },
  {
   "cell_type": "code",
   "execution_count": null,
   "id": "75c051a4-e592-45b4-9c9c-6007647ee0db",
   "metadata": {},
   "outputs": [],
   "source": [
    "fig512, ax= plt.subplots(2, 2, figsize=(12,8), sharex = True)\n",
    "\n",
    "ax[0,0].set_title('7/29 knee_phase r=' + \"{0:.3f}\".format(r729[1]))\n",
    "ax[0,0].plot(tsf729, arctans729[:,1], c='r', alpha=0.5, label = \"predicted\")\n",
    "ax[0,0].plot(tsf729, phase_list729[:,1], c='k', alpha=0.5, label = \"actual\")\n",
    "ax[0,1].set_title('8/18 knee_phase r=' + \"{0:.3f}\".format(r818[1]))\n",
    "ax[0,1].plot(tsf818, arctans818[:,1], c='r', alpha=0.5, label = \"predicted\")\n",
    "ax[0,1].plot(tsf818, phase_list818[:,1], c='k', alpha=0.5, label = \"actual\")\n",
    "ax[1,0].set_title('8/25 knee_phase r=' + \"{0:.3f}\".format(r825[1]))\n",
    "ax[1,0].plot(tsf825, arctans825[:,1], c='r', alpha=0.5, label = \"predicted\")\n",
    "ax[1,0].plot(tsf825, phase_list825[:,1], c='k', alpha=0.5, label = \"actual\")\n",
    "ax[1,1].set_title('9/01 knee_phase r=' + \"{0:.3f}\".format(r901[1]))\n",
    "ax[1,1].plot(tsf901, arctans901[:,1], c='r', alpha=0.5, label = \"predicted\")\n",
    "ax[1,1].plot(tsf901, phase_list901[:,1], c='k', alpha=0.5, label = \"actual\")\n",
    "ax[1,1].legend(loc=\"lower right\")\n",
    "fig512.tight_layout\n"
   ]
  },
  {
   "cell_type": "code",
   "execution_count": null,
   "id": "93828241-7d4d-40ad-8a64-a0dcff14a281",
   "metadata": {},
   "outputs": [],
   "source": [
    "arctans729injured, phase_list729injured, H_sin729injured, H_cos729injured, VAF729injured, full_rates = phase_train_injured(rates729, angles729, phase_list729)\n",
    "tsf729injured = np.linspace(0, (phase_list729injured.shape[0]*50)/1000,phase_list729injured.shape[0])\n",
    "fig599, ax = plt.subplots(figsize=(12,8), sharex = True)\n",
    "ax.set_title('knee phase on hypothetical training data')\n",
    "ax.plot(tsf729injured, arctans729injured[:,1], c='g', alpha=0.5, label = \"predicted phase\")\n",
    "ax.plot(tsf729injured, phase_list729injured[:,1], c='b', linestyle='--',alpha=0.5, label = \"hypothetical phase (training data)\")\n",
    "ax.plot(tsf729, phase_list729[:,1], c='darkgoldenrod', alpha=0.5, label = \"actual phase\")\n",
    "ax.legend(loc=\"lower right\")\n",
    "fig512.tight_layout"
   ]
  },
  {
   "cell_type": "code",
   "execution_count": null,
   "id": "629f3557-8c45-4b8a-aa90-dbf124544c2c",
   "metadata": {},
   "outputs": [],
   "source": [
    "N = tsf729.shape[0]\n",
    "# sample spacing\n",
    "T = tsf729[1]-tsf729[0]\n",
    "x = tsf729\n",
    "y1 = arctans729injured[:,1]\n",
    "y1f = fft(y1)\n",
    "xf = np.linspace(0.0, 1.0/(2.0*T), N//2)\n",
    "y1fp = 2.0/N * np.abs(y1f[:N//2])\n",
    "y2 = phase_list729injured[:,1]\n",
    "y2f = fft(y2)\n",
    "y2fp = 2.0/N * np.abs(y2f[:N//2])\n",
    "y3 = phase_list729[:,1]\n",
    "y3f = fft(y3)\n",
    "y3fp = 2.0/N * np.abs(y3f[:N//2])\n",
    "fig, ax = plt.subplots()\n",
    "ax.plot(xf, y1fp, c='g', alpha=0.25, label = \"predicted phase\")\n",
    "# ax.plot(xf, y2fp, c='b', linestyle='--',alpha=0.25, label = \"hypothetical phase (training data)\")\n",
    "ax.plot(xf, y3fp, c='darkgoldenrod', alpha=0.25, label = \"actual phase\")\n",
    "ax.set(ylabel='Amplitude',xlabel='Frequency (Hz)',title='FFT result')\n",
    "ax.set_ylim([0, y1fp[np.argsort(y1fp, axis=0)[-2]] * 1.2]) \n",
    "# ax.set_xlim([0,1000])\n",
    "ax.legend(loc='lower right')\n",
    "plt.show()\n"
   ]
  },
  {
   "cell_type": "code",
   "execution_count": null,
   "id": "9f662058-efe8-4583-8e4f-934d97f7a5f6",
   "metadata": {},
   "outputs": [],
   "source": [
    "fig512, ax= plt.subplots(2, 2, figsize=(12,8), sharex = True)\n",
    "\n",
    "ax[0,0].set_title('7/29 forelimb r=' + \"{0:.3f}\".format(r729[6]))\n",
    "ax[0,0].plot(tsf729, arctans729[:,6], c='b', alpha=0.5, label = \"predicted\")\n",
    "ax[0,0].plot(tsf729, phase_list729[:,6], c='k', alpha=0.5, label = \"actual\")\n",
    "ax[0,1].set_title('8/18 forelimb r=' + \"{0:.3f}\".format(r818[6]))\n",
    "ax[0,1].plot(tsf818, arctans818[:,6], c='b', alpha=0.5, label = \"predicted\")\n",
    "ax[0,1].plot(tsf818, phase_list818[:,6], c='k', alpha=0.5, label = \"actual\")\n",
    "ax[1,0].set_title('8/25 forelimb r=' + \"{0:.3f}\".format(r825[6]))\n",
    "ax[1,0].plot(tsf825, arctans825[:,6], c='b', alpha=0.5, label = \"predicted\")\n",
    "ax[1,0].plot(tsf825, phase_list825[:,6], c='k', alpha=0.5, label = \"actual\")\n",
    "ax[1,1].set_title('9/01 forelimb r=' + \"{0:.3f}\".format(r901[6]))\n",
    "ax[1,1].plot(tsf901, arctans901[:,6], c='b', alpha=0.5, label = \"predicted\")\n",
    "ax[1,1].plot(tsf901, phase_list901[:,6], c='k', alpha=0.5, label = \"actual\")\n",
    "ax[1,1].legend(loc=\"lower right\")\n",
    "fig512.tight_layout\n"
   ]
  },
  {
   "cell_type": "code",
   "execution_count": null,
   "id": "58bbd0d0-44b7-4da2-b23c-949c489abeba",
   "metadata": {},
   "outputs": [],
   "source": [
    "fig513, ax = plt.subplots(1, 2, figsize=(12,8), sharex = True)\n",
    "ax[0].set_title('9/09 knee r=')# + \"{0:.3f}\".format(r909[1]))\n",
    "ax[0].plot(tsf909, arctans909[:,3], c='r', alpha=0.5, label = \"predicted\")\n",
    "ax[0].plot(tsf909, phase_list909[:,3], c='k', alpha=0.5, label = \"hypothetical phase\")\n",
    "ax[1].set_title('9/14 knee r=')# + \"{0:.3f}\".format(r914[1]))\n",
    "ax[1].plot(tsf914, arctans914[:,3], c='r', alpha=0.5, label = \"predicted\")\n",
    "ax[1].plot(tsf914, phase_list914[:,3], c='k', alpha=0.5, label = \"hypothetical phase\")\n",
    "ax[1].legend(loc=\"lower right\")\n",
    "fig512.tight_layout\n"
   ]
  },
  {
   "cell_type": "code",
   "execution_count": null,
   "id": "cbdafb2b-2287-4db9-a2a0-bd6418a911ce",
   "metadata": {},
   "outputs": [],
   "source": [
    "N = tsf909.shape[0]\n",
    "# sample spacing\n",
    "T = tsf909[1]-tsf909[0]\n",
    "x = tsf909\n",
    "y1 = arctans909[:,3]\n",
    "y1f = fft(y1)\n",
    "xf = np.linspace(0.0, 1.0/(2.0*T), N//2)\n",
    "y1fp = 2.0/N * np.abs(y1f[:N//2])\n",
    "y2 = phase_list909[:,3]\n",
    "y2f = fft(y2)\n",
    "y2fp = 2.0/N * np.abs(y2f[:N//2])\n",
    "fig, ax = plt.subplots()\n",
    "ax.plot(xf, y2fp, alpha = 0.5, label='actual')\n",
    "ax.plot(xf, y1fp, alpha = 0.5, label='predicted')\n",
    "\n",
    "ax.set(ylabel='Amplitude',xlabel='Frequency (Hz)',title='injured limbfoot FFT result')\n",
    "ax.set_ylim([0, y1fp[np.argsort(y1fp, axis=0)[-2]] * 1.2]) \n",
    "ax.legend(loc='lower right')\n",
    "plt.show()"
   ]
  },
  {
   "cell_type": "code",
   "execution_count": null,
   "id": "6d348c69-4757-4cb7-b65d-8e0050ed1903",
   "metadata": {},
   "outputs": [],
   "source": [
    "fig513, ax = plt.subplots(1, 2, figsize=(12,8), sharex = True)\n",
    "ax[0].set_title('9/09 forelimb r=' + \"{0:.3f}\".format(r909[6]))\n",
    "ax[0].plot(tsf909, arctans909[:,6], c='b', alpha=0.5, label = \"predicted\")\n",
    "ax[0].plot(tsf909, phase_list909[:,6], c='k', alpha=0.5, label = \"actual phase\")\n",
    "ax[1].set_title('9/14 forelimb r=' + \"{0:.3f}\".format(r914[6]))\n",
    "ax[1].plot(tsf914, arctans914[:,6], c='b', alpha=0.5, label = \"predicted\")\n",
    "ax[1].plot(tsf914, phase_list914[:,6], c='k', alpha=0.5, label = \"actual phase\")\n",
    "ax[1].legend(loc=\"lower right\")\n",
    "fig512.tight_layout\n"
   ]
  },
  {
   "cell_type": "code",
   "execution_count": null,
   "id": "d8b1c526-0508-4489-9e47-b1e068eb7666",
   "metadata": {},
   "outputs": [],
   "source": [
    "impulse_response(H_cos729, 1)\n",
    "impulse_response(H_cos825, 1)\n",
    "impulse_response(H_cos901, 1)\n",
    "impulse_response(H_cos909, 1)\n",
    "impulse_response(H_cos914, 1)"
   ]
  },
  {
   "cell_type": "code",
   "execution_count": 23,
   "id": "9a76e468-e761-4fc1-ba68-92a406bbb485",
   "metadata": {
    "jupyter": {
     "source_hidden": true
    },
    "tags": []
   },
   "outputs": [],
   "source": [
    "# N = tsf729.shape[0]\n",
    "# T = tsf729[1]-tsf729[0]\n",
    "# x = tsf729\n",
    "# y1 = arctans729[:,3]\n",
    "# y1f = fft(y1)\n",
    "# xf = np.linspace(0.0, 1.0/(2.0*T), N//2)\n",
    "# y1fp = 2.0/N * np.abs(y1f[:N//2])\n",
    "# y2 = arctans729[:,4]\n",
    "# y2f = fft(y2)\n",
    "# y2fp = 2.0/N * np.abs(y2f[:N//2])\n",
    "# fig, ax = plt.subplots()\n",
    "# ax.plot(xf, y1fp, alpha = 0.5, label='limbfoot')\n",
    "# ax.plot(xf, y2fp, alpha = 0.5, label='elbow')\n",
    "# ax.set(ylabel='Amplitude',xlabel='Frequency (Hz)',title='FFT result')\n",
    "# ax.set_ylim([0, y1fp[np.argsort(y1fp, axis=0)[-2]] * 1.2]) \n",
    "# ax.legend(loc='lower right')\n",
    "# plt.show()"
   ]
  },
  {
   "cell_type": "code",
   "execution_count": null,
   "id": "6987e5c9-196d-440e-aa60-3303160a17db",
   "metadata": {},
   "outputs": [],
   "source": []
  }
 ],
 "metadata": {
  "kernelspec": {
   "display_name": "Python 3",
   "language": "python",
   "name": "python3"
  },
  "language_info": {
   "codemirror_mode": {
    "name": "ipython",
    "version": 3
   },
   "file_extension": ".py",
   "mimetype": "text/x-python",
   "name": "python",
   "nbconvert_exporter": "python",
   "pygments_lexer": "ipython3",
   "version": "3.7.0"
  }
 },
 "nbformat": 4,
 "nbformat_minor": 5
}
