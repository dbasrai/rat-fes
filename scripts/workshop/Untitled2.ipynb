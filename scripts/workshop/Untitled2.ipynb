{
 "cells": [
  {
   "cell_type": "code",
   "execution_count": null,
   "id": "b01f0fda-34b1-4a00-8da8-14a52f51cd3b",
   "metadata": {},
   "outputs": [],
   "source": [
    "def spectro1(rates, window=4, plotting = False):\n",
    "    seconds = 4\n",
    "    fsr = 20\n",
    "    tlim = (rates.shape[0]*50)/1000\n",
    "    nperseg_rates = int(seconds*fsr)\n",
    "    Sxx_list = []\n",
    "    for i in range(0,32):\n",
    "        f, t, Sxx = signal.spectrogram(rates[:,i], fs = fsr, nperseg = nperseg_rates)\n",
    "        Sxx_list.append(Sxx)\n",
    "    # f, t, _ = signal.spectrogram(rates[:,0], fs = fsr, nperseg = nperseg_rates)\n",
    "    Sxx_sum = np.sum(Sxx_list, axis=0)\n",
    "    print(f.shape)\n",
    "    print(t.shape)\n",
    "    print(Sxx_sum.shape)\n",
    "    if plotting == True:\n",
    "        fig, (ax2) = plt.subplots(1, 1, figsize=(10,6))\n",
    "        ax2.pcolormesh(f, t, Sxx_sum, cmap = 'terrain', shading='gouraud')\n",
    "        # ax2.set_ylim([0,10])\n",
    "        # ax2.set_xlim([0,tlim])\n",
    "        ax2.set_ylabel('Frequency [Hz]')\n",
    "        ax2.set_xlabel('Time [sec]')\n",
    "        ax2.set_title('spike rates')\n",
    "    return Sxx_sum"
   ]
  }
 ],
 "metadata": {
  "kernelspec": {
   "display_name": "Python 3",
   "language": "python",
   "name": "python3"
  },
  "language_info": {
   "codemirror_mode": {
    "name": "ipython",
    "version": 3
   },
   "file_extension": ".py",
   "mimetype": "text/x-python",
   "name": "python",
   "nbconvert_exporter": "python",
   "pygments_lexer": "ipython3",
   "version": "3.7.0"
  }
 },
 "nbformat": 4,
 "nbformat_minor": 5
}
