{
 "cells": [
  {
   "cell_type": "code",
   "execution_count": 6,
   "id": "b0939257-1d33-4010-8b2d-ec2431c672d3",
   "metadata": {},
   "outputs": [
    {
     "name": "stdout",
     "output_type": "stream",
     "text": [
      "[  5.  10.  25.  13.  29.  17. 101.  73. 145.]\n",
      "<class 'numpy.ndarray'>\n"
     ]
    }
   ],
   "source": [
    "import numpy as np\n",
    "import math as math\n",
    "import scipy as spicy\n",
    "import matplotlib.pyplot as plt\n",
    "\n",
    "\n",
    "\n",
    "a = [3,6,7,5,20,8,20,48,17]\n",
    "b = [4,8,24,12,21,15,99,55,144]\n",
    "a_sq = np.square(a)\n",
    "b_sq = np.square(b)\n",
    "c_sq = a_sq+b_sq\n",
    "c = np.sqrt(c_sq)\n",
    "print(c)\n",
    "print(type(c))"
   ]
  },
  {
   "cell_type": "code",
   "execution_count": null,
   "id": "c4dc4e5d-512c-4912-91b4-2869d602aeeb",
   "metadata": {},
   "outputs": [],
   "source": []
  }
 ],
 "metadata": {
  "kernelspec": {
   "display_name": "Python 3",
   "language": "python",
   "name": "python3"
  },
  "language_info": {
   "codemirror_mode": {
    "name": "ipython",
    "version": 3
   },
   "file_extension": ".py",
   "mimetype": "text/x-python",
   "name": "python",
   "nbconvert_exporter": "python",
   "pygments_lexer": "ipython3",
   "version": "3.7.0"
  }
 },
 "nbformat": 4,
 "nbformat_minor": 5
}
