{
 "cells": [
  {
   "cell_type": "code",
   "execution_count": 6,
   "id": "73d96be7-d6e8-439b-a2ea-dffbcf9c16ed",
   "metadata": {
    "tags": []
   },
   "outputs": [
    {
     "name": "stdout",
     "output_type": "stream",
     "text": [
      "loop\n",
      "loop\n",
      "loop\n",
      "loop\n",
      "loop\n",
      "13459 4\n"
     ]
    }
   ],
   "source": [
    "def remove_c(s):\n",
    "    ans = \"\"\n",
    "    char = \"\"\n",
    "    for i in range (len(s)-1):\n",
    "        if (s[i] > s[i + 1]):\n",
    "            for j in range (len(s)):\n",
    "                if (i != j):\n",
    "                    ans += s[j]\n",
    "                elif i == j:\n",
    "                    char = str(min((int(s[j])+1),9))\n",
    "            return ans, char\n",
    "    return ans, char    \n",
    "    \n",
    "def insert_c(s, c):\n",
    "    i = 0\n",
    "    while(i < len(s)):\n",
    "        if s[i] > c:\n",
    "            s = s[:i] + c + s[i:]\n",
    "            return s\n",
    "        i = i + 1\n",
    "    s = s + c\n",
    "    return s\n",
    " \n",
    "def string_sub(string):\n",
    "    count = 0\n",
    "    done = False\n",
    "    while done == False:\n",
    "        print('loop')\n",
    "        a,c = remove_c(string)\n",
    "        if c != \"\":\n",
    "            string = insert_c(a,c)\n",
    "            count += 1\n",
    "            continue\n",
    "        elif c == \"\":\n",
    "            done = True\n",
    "            continue\n",
    "    return string, count\n",
    "\n",
    "strin = '94321'\n",
    "string, count = string_sub(strin)\n",
    "print(string, count)"
   ]
  },
  {
   "cell_type": "code",
   "execution_count": null,
   "id": "8f863c13-2e08-439e-8ccf-17ed6ae62d01",
   "metadata": {},
   "outputs": [],
   "source": []
  }
 ],
 "metadata": {
  "kernelspec": {
   "display_name": "Python 3 (ipykernel)",
   "language": "python",
   "name": "python3"
  },
  "language_info": {
   "codemirror_mode": {
    "name": "ipython",
    "version": 3
   },
   "file_extension": ".py",
   "mimetype": "text/x-python",
   "name": "python",
   "nbconvert_exporter": "python",
   "pygments_lexer": "ipython3",
   "version": "3.7.0"
  }
 },
 "nbformat": 4,
 "nbformat_minor": 5
}
