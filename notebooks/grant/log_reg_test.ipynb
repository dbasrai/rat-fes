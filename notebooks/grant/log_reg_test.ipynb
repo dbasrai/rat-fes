{
 "cells": [
  {
   "cell_type": "code",
   "execution_count": 73,
   "id": "e6218c82-f186-48cc-ba59-a2cb921711e6",
   "metadata": {},
   "outputs": [
    {
     "name": "stdout",
     "output_type": "stream",
     "text": [
      "The autoreload extension is already loaded. To reload it, use:\n",
      "  %reload_ext autoreload\n"
     ]
    }
   ],
   "source": [
    "%matplotlib widget\n",
    "%load_ext autoreload\n",
    "%autoreload 2\n",
    "from src.cort_processor import *\n",
    "\n",
    "from src.plotter import *\n",
    "from src.filters import *\n",
    "import math\n",
    "import pickle\n",
    "import scipy\n",
    "import matplotlib.pyplot as plt\n",
    "from  matplotlib.colors import LinearSegmentedColormap\n",
    "from matplotlib.pyplot import cm\n",
    "from scipy import signal\n",
    "import numpy as np\n",
    "import seaborn as sns\n",
    "import pandas as pd\n",
    "import scipy.stats as stats\n",
    "from matplotlib import colors as mcolors\n",
    "from mpl_toolkits.mplot3d import Axes3D\n",
    "import tdt \n",
    "import matplotlib.pyplot as plt\n",
    "from scipy.signal import butter, lfilter, iirnotch, filtfilt, resample, hilbert, welch, resample\n",
    "from scipy.fftpack import fft,fftfreq,rfft,irfft,ifft\n",
    "from scipy.io import savemat\n",
    "from src.phase_decoder_support import *\n",
    "from src.neural_analysis import *\n",
    "from src.wiener_filter import *\n",
    "from src.folder_handler import *\n",
    "from src.tdt_support import *\n",
    "from src.decoders import *\n",
    "from sklearn.datasets import make_classification\n",
    "from sklearn.model_selection import cross_val_score\n",
    "from sklearn.model_selection import RepeatedStratifiedKFold\n",
    "from sklearn.linear_model import LogisticRegression\n",
    "from collections import Counter\n",
    "from sklearn.datasets import make_classification"
   ]
  },
  {
   "cell_type": "code",
   "execution_count": 15,
   "id": "cd891af1-796a-4634-9f74-cd8624714a78",
   "metadata": {},
   "outputs": [
    {
     "name": "stdout",
     "output_type": "stream",
     "text": [
      "read from t=0s to t=246.43s\n",
      "read from t=0s to t=298.5s\n",
      "gib bins: 4083\n",
      "gib bins: 5404\n"
     ]
    },
    {
     "data": {
      "text/plain": [
       "(array([[  0.,  20.,  20., ...,   0.,   0.,  20.],\n",
       "        [ 60.,  20.,  60., ...,  20.,  20.,  20.],\n",
       "        [ 20.,   0.,   0., ...,  40.,  20.,  40.],\n",
       "        ...,\n",
       "        [ 40.,   0.,  20., ..., 160.,  20.,  40.],\n",
       "        [ 40.,  40.,  60., ...,   0.,  40.,  60.],\n",
       "        [  0.,   0.,   0., ...,   0.,   0.,   0.]]),\n",
       " array([[ 96.83447267,  30.16114856,  32.36723442, ...,  67.29106944,\n",
       "          75.28234185, 146.50262126],\n",
       "        [112.59527659,  55.01824894,  49.48172506, ...,  75.61167036,\n",
       "          74.86562375, 137.055587  ],\n",
       "        [106.81237871,  49.07522976,  41.48453291, ...,  73.9578064 ,\n",
       "          71.42929072, 132.80626531],\n",
       "        ...,\n",
       "        [112.81929567,  54.76573498,  88.10683413, ...,  87.56055789,\n",
       "          82.85515475, 132.20297142],\n",
       "        [112.92536476,  59.93860243,  93.82667792, ...,  86.41129334,\n",
       "          81.0329705 , 129.83160599],\n",
       "        [131.70981432,  47.65634693, 100.78257682, ...,  92.90981426,\n",
       "          80.21898788, 120.67302019]]))"
      ]
     },
     "execution_count": 15,
     "metadata": {},
     "output_type": "execute_result"
    }
   ],
   "source": [
    "meepo1004 = CortProcessor('/mnt/c/oobootoo/rat-fes/data/1004_test')\n",
    "meepo1004.process(clear_storage=False)"
   ]
  },
  {
   "cell_type": "code",
   "execution_count": 3,
   "id": "0a1d0119-df8b-476c-9398-2a3286e60ce9",
   "metadata": {},
   "outputs": [],
   "source": [
    "phase_data2 = pd.read_csv('/mnt/c/oobootoo/rat-fes/data/1004_test/phase/1004_154010_phase.csv', header=0)\n",
    "phase_data1 = pd.read_csv('/mnt/c/oobootoo/rat-fes/data/1004_test/phase/1004_153140_phase.csv', header=0)"
   ]
  },
  {
   "cell_type": "code",
   "execution_count": 4,
   "id": "08beb6fd-4451-41cc-8d14-866ed53f7eb8",
   "metadata": {},
   "outputs": [],
   "source": [
    "time00 = phase_data1[phase_data1['fnum']==meepo1004.kin_data[0]['fnum'][0]].index.values\n",
    "time01 = phase_data1[phase_data1['fnum']==meepo1004.kin_data[0]['fnum'][-1]].index.values\n",
    "time10 = phase_data2[phase_data2['fnum']==meepo1004.kin_data[1]['fnum'][0]].index.values\n",
    "time11 = phase_data2[phase_data2['fnum']==meepo1004.kin_data[1]['fnum'][-1]].index.values"
   ]
  },
  {
   "cell_type": "code",
   "execution_count": 29,
   "id": "f2fca682-0b65-4cb1-abf6-8935f6d7b836",
   "metadata": {},
   "outputs": [
    {
     "data": {
      "text/plain": [
       "3800"
      ]
     },
     "execution_count": 29,
     "metadata": {},
     "output_type": "execute_result"
    }
   ],
   "source": [
    "meepo1004.kin_data[0]['fnum'][0]"
   ]
  },
  {
   "cell_type": "code",
   "execution_count": 6,
   "id": "339b063f-9817-4e26-9f45-7cfb623f2569",
   "metadata": {},
   "outputs": [
    {
     "data": {
      "text/plain": [
       "55999"
      ]
     },
     "execution_count": 6,
     "metadata": {},
     "output_type": "execute_result"
    }
   ],
   "source": [
    "meepo1004.kin_data[1]['fnum'][-1]"
   ]
  },
  {
   "cell_type": "code",
   "execution_count": 7,
   "id": "01995bed-b7cf-4a62-a22c-6f6f97261739",
   "metadata": {},
   "outputs": [
    {
     "name": "stdout",
     "output_type": "stream",
     "text": [
      "[498] [41297] [949] [54948]\n"
     ]
    }
   ],
   "source": [
    "print(time00, time01,time10, time11)"
   ]
  },
  {
   "cell_type": "code",
   "execution_count": 23,
   "id": "8ac2290e-05d3-45bd-af58-7ce9161863ac",
   "metadata": {},
   "outputs": [
    {
     "data": {
      "text/plain": [
       "(4083, 32)"
      ]
     },
     "execution_count": 23,
     "metadata": {},
     "output_type": "execute_result"
    }
   ],
   "source": [
    "meepo1004.data[\"rates\"][0].shape"
   ]
  },
  {
   "cell_type": "code",
   "execution_count": 42,
   "id": "ef6d0e48-9198-4eb7-9b34-499ee30e57ec",
   "metadata": {},
   "outputs": [
    {
     "name": "stdout",
     "output_type": "stream",
     "text": [
      "[[0]\n",
      " [0]\n",
      " [0]\n",
      " ...\n",
      " [1]\n",
      " [1]\n",
      " [1]]\n",
      "[[1]\n",
      " [1]\n",
      " [1]\n",
      " ...\n",
      " [1]\n",
      " [1]\n",
      " [1]]\n"
     ]
    }
   ],
   "source": [
    "phase1 = np.array(phase_data1.iloc[time00[0]:time01[0],-1:])\n",
    "print(phase1)\n",
    "phase2 = np.array(phase_data2.iloc[time10[0]:time11[0],-1:])\n",
    "print(phase2)"
   ]
  },
  {
   "cell_type": "code",
   "execution_count": 27,
   "id": "e669f21a-8624-41fe-ae48-354fe4e477a7",
   "metadata": {},
   "outputs": [],
   "source": [
    "resampled_phase1 = (np.rint(resample(phase1, meepo1004.data[\"rates\"][0].shape[0], axis=0))).astype(int)\n",
    "resampled_phase2 = (np.rint(resample(phase2, meepo1004.data[\"rates\"][1].shape[0], axis=0))).astype(int)\n"
   ]
  },
  {
   "cell_type": "code",
   "execution_count": 45,
   "id": "3fbac496-1c6e-469b-be12-3bbb3b9f12c2",
   "metadata": {},
   "outputs": [
    {
     "name": "stdout",
     "output_type": "stream",
     "text": [
      "(4083, 1)\n",
      "(4083, 32)\n",
      "2\n",
      "2\n"
     ]
    }
   ],
   "source": [
    "binned_phase = []\n",
    "binned_phase.append(resampled_phase1)\n",
    "binned_phase.append(resampled_phase2)\n",
    "\n",
    "print(binned_phase[0].shape)\n",
    "print(meepo1004.data[\"rates\"][0].shape)\n",
    "print(len(binned_phase))\n",
    "print(len(meepo1004.data[\"rates\"]))"
   ]
  },
  {
   "cell_type": "code",
   "execution_count": 56,
   "id": "bf8441c7-3c45-4249-924e-4b149ddd9457",
   "metadata": {},
   "outputs": [],
   "source": [
    "formatted_rates, formatted_phase = meepo1004.stitch_and_format(meepo1004.data[\"rates\"],binned_phase)"
   ]
  },
  {
   "cell_type": "code",
   "execution_count": 76,
   "id": "6295173c-89b8-409c-9231-5286f1ea10c7",
   "metadata": {},
   "outputs": [],
   "source": [
    "X = formatted_rates"
   ]
  },
  {
   "cell_type": "code",
   "execution_count": 77,
   "id": "5ad22044-ef29-4a67-a3f9-c65b45229b07",
   "metadata": {},
   "outputs": [],
   "source": [
    "y = formatted_phase"
   ]
  },
  {
   "cell_type": "code",
   "execution_count": 79,
   "id": "fb2e452b-1d4d-4231-ab5e-a590ed0f22f3",
   "metadata": {},
   "outputs": [
    {
     "name": "stdout",
     "output_type": "stream",
     "text": [
      "3.4053956834532375\n",
      "1.864683868426236\n",
      "5.880124223602484\n",
      "1610\n"
     ]
    }
   ],
   "source": [
    "\n",
    "# define dataset\n",
    "# X, y = make_classification(n_samples=9467, n_features=10, n_informative=5, n_redundant=5, n_classes=3, random_state=1)\n",
    "# # summarize the dataset\n",
    "# print(X.shape, y.shape)\n",
    "print((Counter(y)[2]+Counter(y)[1]+Counter(y)[0])/Counter(y)[0])\n",
    "print((Counter(y)[2]+Counter(y)[1]+Counter(y)[0])/Counter(y)[1])\n",
    "print((Counter(y)[2]+Counter(y)[1]+Counter(y)[0])/Counter(y)[2])\n",
    "print(Counter(y)[2])"
   ]
  },
  {
   "cell_type": "code",
   "execution_count": 80,
   "id": "96d1ed7e-3039-4eca-8877-d3b9b961511e",
   "metadata": {},
   "outputs": [],
   "source": [
    "weights = {0:y.shape[0]/Counter(y)[0],1:y.shape[0]/Counter(y)[1],2:y.shape[0]/Counter(y)[2]} \n",
    "model = LogisticRegression(multi_class='multinomial', solver='lbfgs', class_weight=weights)\n",
    "cv = RepeatedStratifiedKFold(n_splits=10, n_repeats=3, random_state=1)\n",
    "scores = cross_val_score(model, X, y, scoring='accuracy', cv=cv, n_jobs=-1)"
   ]
  },
  {
   "cell_type": "code",
   "execution_count": 83,
   "id": "dffa7683-40c2-4a37-9d62-fe13c3b5256a",
   "metadata": {},
   "outputs": [
    {
     "name": "stdout",
     "output_type": "stream",
     "text": [
      "0.48357522326727403\n"
     ]
    }
   ],
   "source": [
    "print(np.mean(scores))"
   ]
  },
  {
   "cell_type": "code",
   "execution_count": null,
   "id": "2979f197-ab17-4419-8e86-8bca5422f570",
   "metadata": {},
   "outputs": [],
   "source": []
  }
 ],
 "metadata": {
  "kernelspec": {
   "display_name": "Python 3",
   "language": "python",
   "name": "python3"
  },
  "language_info": {
   "codemirror_mode": {
    "name": "ipython",
    "version": 3
   },
   "file_extension": ".py",
   "mimetype": "text/x-python",
   "name": "python",
   "nbconvert_exporter": "python",
   "pygments_lexer": "ipython3",
   "version": "3.7.0"
  }
 },
 "nbformat": 4,
 "nbformat_minor": 5
}
