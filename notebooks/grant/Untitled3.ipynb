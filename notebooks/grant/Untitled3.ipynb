{
 "cells": [
  {
   "cell_type": "code",
   "execution_count": 6,
   "id": "04b7e3be-0a47-482e-a1dc-6161cbc19e9b",
   "metadata": {},
   "outputs": [
    {
     "name": "stdout",
     "output_type": "stream",
     "text": [
      "False\n"
     ]
    }
   ],
   "source": [
    "def pattern_match(s, p):\n",
    "    rows = len(s)\n",
    "    cols = len(p)\n",
    "    if rows == 0 and cols == 0:\n",
    "        return True\n",
    "    if rows != 0 and cols == 0:\n",
    "        return False\n",
    "    arr = [[False for j in range(cols + 1)] for i in range(rows + 1)]\n",
    "    arr[0][0] = True\n",
    "    for i in range(2, cols + 1):\n",
    "        if p[i - 1] == '*':\n",
    "            arr[0][i] = arr[0][i - 2]\n",
    "    for i in range(1, rows + 1):\n",
    "        for j in range(1, cols + 1):\n",
    "            if s[i - 1] == p[j - 1] or p[j - 1] == '.':\n",
    "                arr[i][j] = arr[i - 1][j - 1]\n",
    "            elif j > 1 and p[j - 1] == '*':\n",
    "                arr[i][j] = arr[i][j - 2]\n",
    "                if p[j - 2] == '.' or p[j - 2] == s[i - 1]:\n",
    "                    arr[i][j] = arr[i][j] or arr[i - 1][j]\n",
    "    return arr[rows][cols]\n",
    "\n",
    "\n",
    "result = pattern_match(\"sarfgthdsfvcasr\", \"sarfgthdsf.capr\")\n",
    "print(result)\n",
    "\n"
   ]
  },
  {
   "cell_type": "code",
   "execution_count": null,
   "id": "627bf6bb-97d7-4367-93de-9b1b939a930e",
   "metadata": {},
   "outputs": [],
   "source": []
  }
 ],
 "metadata": {
  "kernelspec": {
   "display_name": "Python 3 (ipykernel)",
   "language": "python",
   "name": "python3"
  },
  "language_info": {
   "codemirror_mode": {
    "name": "ipython",
    "version": 3
   },
   "file_extension": ".py",
   "mimetype": "text/x-python",
   "name": "python",
   "nbconvert_exporter": "python",
   "pygments_lexer": "ipython3",
   "version": "3.7.0"
  }
 },
 "nbformat": 4,
 "nbformat_minor": 5
}
