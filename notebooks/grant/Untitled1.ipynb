{
 "cells": [
  {
   "cell_type": "code",
   "execution_count": 2,
   "id": "da0eab39-683e-4925-9162-d7943073ead5",
   "metadata": {},
   "outputs": [
    {
     "name": "stdout",
     "output_type": "stream",
     "text": [
      "The autoreload extension is already loaded. To reload it, use:\n",
      "  %reload_ext autoreload\n"
     ]
    }
   ],
   "source": [
    "%matplotlib widget\n",
    "%load_ext autoreload\n",
    "%autoreload 2\n",
    "from src.cort_processor import *"
   ]
  },
  {
   "cell_type": "code",
   "execution_count": 3,
   "id": "017e8480-e3c0-4ab8-9c5c-1185d10d8da4",
   "metadata": {},
   "outputs": [
    {
     "name": "stdout",
     "output_type": "stream",
     "text": [
      "read from t=0s to t=245.11s\n",
      "read from t=0s to t=217.89s\n"
     ]
    },
    {
     "data": {
      "text/plain": [
       "(array([[460., 160., 200., ..., 320., 360., 280.],\n",
       "        [300., 220., 300., ..., 380., 320., 240.],\n",
       "        [200., 320., 320., ..., 320., 400., 340.],\n",
       "        ...,\n",
       "        [440., 340., 320., ..., 440., 380., 320.],\n",
       "        [420., 280., 420., ..., 480., 340., 360.],\n",
       "        [ 40., 180., 140., ..., 160.,  40., 120.]]),\n",
       " array([[ 34.04583499,  26.17539933,  53.59173331, ...,  42.54603874,\n",
       "          57.91536284,  86.3238267 ],\n",
       "        [ 30.25501573,  16.26808579,  37.67599053, ...,  14.90989249,\n",
       "          42.51197505,  50.15307184],\n",
       "        [ 25.46811893,  20.02401273,  47.76205045, ...,  32.53949928,\n",
       "          51.98207775,  61.59924559],\n",
       "        ...,\n",
       "        [ 33.59404498,  45.44046967,  88.7386857 , ...,  86.53632167,\n",
       "          61.37106866,  72.99863438],\n",
       "        [ 36.35630578,  42.81820806,  88.62477855, ...,  69.51022421,\n",
       "          62.93652048,  85.05751189],\n",
       "        [ 33.28204384,  39.09267186,  89.11944596, ...,  57.51125085,\n",
       "          63.75742532, 100.86784007]]),\n",
       " array([0., 0., 0., ..., 0., 1., 1.]))"
      ]
     },
     "execution_count": 3,
     "metadata": {},
     "output_type": "execute_result"
    }
   ],
   "source": [
    "test = CortProcessor('/mnt/c/oobootoo/rat-fes/data/test/0216')\n",
    "test.process()"
   ]
  },
  {
   "cell_type": "code",
   "execution_count": null,
   "id": "f276a903-f485-483c-9bd4-75aff3fb41bd",
   "metadata": {},
   "outputs": [],
   "source": []
  }
 ],
 "metadata": {
  "kernelspec": {
   "display_name": "Python 3",
   "language": "python",
   "name": "python3"
  },
  "language_info": {
   "codemirror_mode": {
    "name": "ipython",
    "version": 3
   },
   "file_extension": ".py",
   "mimetype": "text/x-python",
   "name": "python",
   "nbconvert_exporter": "python",
   "pygments_lexer": "ipython3",
   "version": "3.7.0"
  }
 },
 "nbformat": 4,
 "nbformat_minor": 5
}
