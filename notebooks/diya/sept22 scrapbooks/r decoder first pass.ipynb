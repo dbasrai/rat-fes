{
 "cells": [
  {
   "cell_type": "code",
   "execution_count": 22,
   "id": "1be7faca-2935-4144-830f-2627816a616b",
   "metadata": {},
   "outputs": [
    {
     "name": "stdout",
     "output_type": "stream",
     "text": [
      "The autoreload extension is already loaded. To reload it, use:\n",
      "  %reload_ext autoreload\n"
     ]
    }
   ],
   "source": [
    "%matplotlib widget\n",
    "%load_ext autoreload\n",
    "%autoreload 2\n",
    "from src.folder_handler import *\n",
    "from src.cort_processor import *\n",
    "from src.cca_processor import *\n",
    "from src.tdt_support import *\n",
    "from src.plotter import *\n",
    "from src.decoders import *\n",
    "import pickle\n",
    "import scipy as sio\n",
    "import numpy as np\n",
    "import matplotlib.pyplot as plt\n",
    "from matplotlib.colors import LinearSegmentedColormap\n",
    "from src.wiener_filter import *\n",
    "from matplotlib.pyplot import cm\n",
    "from sklearn.cross_decomposition import CCA\n",
    "from sklearn.preprocessing import StandardScaler\n",
    "from sklearn.linear_model import Ridge\n",
    "import os"
   ]
  },
  {
   "cell_type": "markdown",
   "id": "492e1dd8-cb9e-4f94-9a21-ceb92ac079d5",
   "metadata": {},
   "source": [
    "# set paths/create objects\n",
    "\n",
    "cp1 = day-0\n",
    "\n",
    "cp2 = day-n"
   ]
  },
  {
   "cell_type": "code",
   "execution_count": 23,
   "id": "3082ac9c-c4a4-4fbe-b2d4-11c89a1518f8",
   "metadata": {},
   "outputs": [
    {
     "name": "stdout",
     "output_type": "stream",
     "text": [
      "this is filipe data i belive\n",
      "this is filipe data i belive\n",
      "should be good to align\n",
      "(9529, 23)\n",
      "(9529, 5)\n",
      "(9529, 11)\n",
      "(9529, 5)\n"
     ]
    }
   ],
   "source": [
    "cp1_path = '/home/diya/Documents/rat-fes/data/filipe_data/N5/N5_171001_No Obstacles_s.mat'\n",
    "cp2_path = '/home/diya/Documents/rat-fes/data/filipe_data/N5/N5_170929_No Obstacles_s.mat'\n",
    "\n",
    "\n",
    "cp1 = CortProcessor(cp1_path)\n",
    "cp2 = CortProcessor(cp2_path)\n",
    "\n",
    "cca_object = CCAProcessor(cp1, cp2)"
   ]
  },
  {
   "cell_type": "markdown",
   "id": "25dd57ff-278d-4872-b0dd-b8c3ea710dcf",
   "metadata": {},
   "source": [
    "# Getting PCA dimensions"
   ]
  },
  {
   "cell_type": "code",
   "execution_count": 24,
   "id": "b9e2ae37-1f91-46bc-b33b-ce431af12953",
   "metadata": {},
   "outputs": [
    {
     "name": "stdout",
     "output_type": "stream",
     "text": [
      "6\n"
     ]
    }
   ],
   "source": [
    "#dimensions is lower of PCA95%\n",
    "temp, nada, nada = cca_object.apply_PCA()\n",
    "lowest_num_dimensions = temp\n",
    "print(lowest_num_dimensions)"
   ]
  },
  {
   "cell_type": "markdown",
   "id": "ceefc657-8573-49f1-9acd-445fc82fd836",
   "metadata": {},
   "source": [
    "# storing day-n raw (unaligned, unprocessed) data as test sets"
   ]
  },
  {
   "cell_type": "code",
   "execution_count": 25,
   "id": "5995d830-e7f2-4442-964e-6b083c6d4a7d",
   "metadata": {},
   "outputs": [],
   "source": [
    "#get unprocessed day2 neural data as test set\n",
    "test_x = np.squeeze(np.array(cp2.apply_PCA(dims=lowest_num_dimensions)))\n",
    "test_y = np.squeeze(np.array(cp2.data['angles']))\n",
    "\n",
    "test_x_format, test_y_format = format_data(test_x, test_y)\n",
    "\n",
    "#scaled version\n",
    "scaler = StandardScaler()\n",
    "test_x_scale = scaler.fit_transform(test_x)\n",
    "\n",
    "test_x_format_scale, nada = format_data(test_x_scale, test_y)"
   ]
  },
  {
   "cell_type": "markdown",
   "id": "ff052f09-3a95-49fe-9572-0f4ecae59364",
   "metadata": {},
   "source": [
    "# choosing subsampling list"
   ]
  },
  {
   "cell_type": "code",
   "execution_count": 26,
   "id": "ef2e3a27-42f6-444b-9a6a-b0078e0cd02c",
   "metadata": {},
   "outputs": [],
   "source": [
    "#percent of total data\n",
    "subsample_list = [.05, .1, .2, .5, 1.0]"
   ]
  },
  {
   "cell_type": "markdown",
   "id": "d6869f2f-5b25-439e-b370-13fbebab03eb",
   "metadata": {},
   "source": [
    "# getting day0 decoder\n",
    "apply PCA, and then train wiener filter.\n",
    "also get a day0-scaled-weights-decoder"
   ]
  },
  {
   "cell_type": "code",
   "execution_count": 27,
   "id": "288573e2-2a3f-4539-8848-7039ae7b7958",
   "metadata": {},
   "outputs": [
    {
     "name": "stdout",
     "output_type": "stream",
     "text": [
      "0.767\n",
      "0.767\n"
     ]
    }
   ],
   "source": [
    "#get day0 decoder weights, scaled + unscaled versions\n",
    "\n",
    "day0_decoder, nada, naday, nadax = cp1.decode_angles(X=cp1.apply_PCA(lowest_num_dimensions))\n",
    "print(np.average(nada, 1)[1])\n",
    "\n",
    "X_tempy =cp1.apply_PCA(lowest_num_dimensions)\n",
    "scaler = StandardScaler()\n",
    "X_scale = scaler.fit_transform(np.squeeze(X_tempy))\n",
    "day0_decoder_scale, nada, naday, nadax = cp1.decode_angles(X=[X_scale])\n",
    "\n",
    "print(np.average(nada, 1)[1])"
   ]
  },
  {
   "cell_type": "markdown",
   "id": "bb1ee243-8361-4832-958d-2cf3a21d6cdb",
   "metadata": {},
   "source": [
    "# getting JUST-PCA decoder\n",
    "we subsample day-n data, apply PCA, and then train a wiener filter on it to spit out a decoder. Then we try decoder on the day2-test set"
   ]
  },
  {
   "cell_type": "code",
   "execution_count": 28,
   "id": "06a8bf2b-a49f-4c04-8477-00b9cbbf2145",
   "metadata": {},
   "outputs": [],
   "source": [
    "pca_decoder = []\n",
    "\n",
    "for i in range(len(subsample_list)):\n",
    "    sub_x, sub_y = cp2.subsample(percent = subsample_list[i])\n",
    "    sub_x_pca = cp2.apply_PCA(dims=lowest_num_dimensions, X=sub_x)\n",
    "    \n",
    "    temp_h, nada, nadax, naday = cp2.decode_angles(X=sub_x_pca, Y=sub_y)\n",
    "    pca_decoder.append(temp_h)"
   ]
  },
  {
   "cell_type": "markdown",
   "id": "e6188a09-0bf2-4d1e-9a8c-b1e40a2e3b2d",
   "metadata": {},
   "source": [
    "# getting CCA scores"
   ]
  },
  {
   "cell_type": "code",
   "execution_count": 29,
   "id": "1aa4fec0-056f-48cd-b800-3b8a18bf64ad",
   "metadata": {},
   "outputs": [
    {
     "name": "stdout",
     "output_type": "stream",
     "text": [
      "-0.03\n",
      "0.01\n",
      "0.44\n",
      "0.57\n",
      "0.2\n"
     ]
    }
   ],
   "source": [
    "cca_decoder_scores = []\n",
    "cca_transformers=[]\n",
    "love_y1=[]\n",
    "love_y2=[]\n",
    "for i in range(len(subsample_list)):\n",
    "    sub_x1, sub_y1, sub_x2, sub_y2 = cca_object.subsample(percent = subsample_list[i])\n",
    "    love_y1.append(sub_y1)\n",
    "    love_y2.append(sub_y2)\n",
    "    nada, pca_sub_x1, pca_sub_x2 = cca_object.apply_PCA(cp1_x = sub_x1, cp2_x = sub_x2, preset_num_components=lowest_num_dimensions)\n",
    "    temp_cca_transformer, sanity_x = cca_object.apply_CCA(cp1_x = pca_sub_x1, cp2_x = pca_sub_x2, preset_num_components = lowest_num_dimensions)\n",
    "    nada, test_x_cca_space = temp_cca_transformer.transform(test_x, test_x)\n",
    "    temp_x = temp_cca_transformer.inverse_transform(test_x_cca_space)\n",
    "    \n",
    "    cca_transformers.append(temp_cca_transformer)\n",
    "    \n",
    "    temp_x_format, nada = format_data(temp_x, test_y)\n",
    "    \n",
    "    predic = test_wiener_filter(temp_x_format, day0_decoder)\n",
    "    \n",
    "    #sanity checks\n",
    "    sanity_x_format, sanity_y_format = format_data(sanity_x, cca_object.data['cp2']['proc_y'])\n",
    "    predic_sanity = test_wiener_filter(sanity_x_format, day0_decoder)\n",
    "    print(vaf(sanity_y_format[:,1], predic_sanity[:,1]))\n",
    "    \n",
    "\n",
    "    cca_decoder_scores.append(vaf(test_y_format[:,1], predic[:,1]))\n",
    "    \n"
   ]
  },
  {
   "cell_type": "markdown",
   "id": "a19278d1-fced-4744-a974-b1f453b65a36",
   "metadata": {},
   "source": [
    "# getting regression decoder"
   ]
  },
  {
   "cell_type": "code",
   "execution_count": 30,
   "id": "573b6fd3-691f-403e-b5ae-213cff907b38",
   "metadata": {},
   "outputs": [],
   "source": [
    "r_decoder = []\n",
    "\n",
    "for i in range(len(subsample_list)):\n",
    "    sub_x, sub_y = cp2.subsample(percent = subsample_list[i])\n",
    "    sub_x_pca = np.squeeze(cp2.apply_PCA(dims=lowest_num_dimensions, X=sub_x))\n",
    "    \n",
    "    nada, sub_x_cca_space = cca_transformers[i].transform(sub_x_pca, sub_x_pca)\n",
    "    temp_x = cca_transformers[i].inverse_transform(sub_x_cca_space)\n",
    "    \n",
    "    scaler = StandardScaler()\n",
    "    sub_x_pca_scale = scaler.fit_transform(temp_x)\n",
    "\n",
    "    wpost = ridge_fit(b0=day0_decoder_scale, x=sub_x_pca_scale, y=np.squeeze(sub_y), my_alpha=1.0)\n",
    "    r_decoder.append(wpost)"
   ]
  },
  {
   "cell_type": "markdown",
   "id": "ead9b739-7df8-43db-8661-8cc088a0b0c0",
   "metadata": {},
   "source": [
    "# getting VAF scores for each decoder"
   ]
  },
  {
   "cell_type": "code",
   "execution_count": 31,
   "id": "91202ace-a889-478a-882c-3a682158a427",
   "metadata": {},
   "outputs": [],
   "source": [
    "fixed_decoder_scores=[]\n",
    "pca_decoder_scores=[]\n",
    "r_decoder_scores=[]\n",
    "\n",
    "for i in range(len(subsample_list)):\n",
    "    temp_y = test_wiener_filter(test_x_format, day0_decoder)\n",
    "    fixed_decoder_scores.append(vaf(test_y_format[:,1], temp_y[:,1]))\n",
    "    \n",
    "    temp_y = test_wiener_filter(test_x_format, pca_decoder[i])\n",
    "    pca_decoder_scores.append(vaf(test_y_format[:,1], temp_y[:,1]))\n",
    "    \n",
    "    temp_y = test_wiener_filter(test_x_format_scale, r_decoder[i])\n",
    "    r_decoder_scores.append(vaf(test_y_format[:,1], temp_y[:,1]))"
   ]
  },
  {
   "cell_type": "code",
   "execution_count": 32,
   "id": "839e2c66-ea94-4012-9274-82665ced1410",
   "metadata": {},
   "outputs": [
    {
     "name": "stdout",
     "output_type": "stream",
     "text": [
      "[-1.69, -1.69, -1.69, -1.69, -1.69]\n",
      "[-0.07, 0.47, 0.52, 0.53, 0.54]\n",
      "[-0.07, -0.02, 0.38, 0.13, 0.02]\n",
      "[-0.42, -0.64, -0.83, -0.28, -1.31]\n"
     ]
    }
   ],
   "source": [
    "print(fixed_decoder_scores)\n",
    "print(pca_decoder_scores)\n",
    "print(cca_decoder_scores)\n",
    "print(r_decoder_scores)"
   ]
  },
  {
   "cell_type": "code",
   "execution_count": 33,
   "id": "289df8e2-5237-41be-b6e6-5c11d2d89da8",
   "metadata": {},
   "outputs": [
    {
     "data": {
      "application/vnd.jupyter.widget-view+json": {
       "model_id": "f73defe530054ec98d7ff9d6e57f4fe6",
       "version_major": 2,
       "version_minor": 0
      },
      "text/html": [
       "\n",
       "            <div style=\"display: inline-block;\">\n",
       "                <div class=\"jupyter-widgets widget-label\" style=\"text-align: center;\">\n",
       "                    Figure\n",
       "                </div>\n",
       "                <img src='data:image/png;base64,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' width=640.0/>\n",
       "            </div>\n",
       "        "
      ],
      "text/plain": [
       "Canvas(toolbar=Toolbar(toolitems=[('Home', 'Reset original view', 'home', 'home'), ('Back', 'Back to previous …"
      ]
     },
     "metadata": {},
     "output_type": "display_data"
    }
   ],
   "source": [
    "%matplotlib widget\n",
    "%matplotlib widget\n",
    "\n",
    "plot_dict = {}\n",
    "plot_dict['fixed_decoder_scores'] = fixed_decoder_scores\n",
    "plot_dict['pca_decoder_scores'] = pca_decoder_scores\n",
    "plot_dict['cca_decoder_scores'] = cca_decoder_scores\n",
    "plot_dict['r_decoder_scores'] = r_decoder_scores\n",
    "\n",
    "index = subsample_list\n",
    "\n",
    "df = pd.DataFrame(data=plot_dict, index=index)\n",
    "\n",
    "  \n",
    "# plot grouped bar chart\n",
    "ax = df.plot.bar(rot=15)\n",
    "for container in ax.containers:\n",
    "    ax.bar_label(container)"
   ]
  },
  {
   "cell_type": "code",
   "execution_count": null,
   "id": "44400c01-9932-43aa-941f-22154a6e43df",
   "metadata": {},
   "outputs": [],
   "source": []
  },
  {
   "cell_type": "code",
   "execution_count": null,
   "id": "44fbaeab-db96-4f07-957e-2d5c716a9b10",
   "metadata": {},
   "outputs": [],
   "source": []
  }
 ],
 "metadata": {
  "kernelspec": {
   "display_name": "Python 3",
   "language": "python",
   "name": "python3"
  },
  "language_info": {
   "codemirror_mode": {
    "name": "ipython",
    "version": 3
   },
   "file_extension": ".py",
   "mimetype": "text/x-python",
   "name": "python",
   "nbconvert_exporter": "python",
   "pygments_lexer": "ipython3",
   "version": "3.7.0"
  }
 },
 "nbformat": 4,
 "nbformat_minor": 5
}
