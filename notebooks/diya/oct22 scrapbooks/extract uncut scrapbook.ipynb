{
 "cells": [
  {
   "cell_type": "code",
   "execution_count": 2,
   "id": "5cd3eb11-9281-4a8f-8138-2b890d37afbf",
   "metadata": {},
   "outputs": [],
   "source": [
    "%matplotlib widget\n",
    "%load_ext autoreload\n",
    "%autoreload 2\n",
    "from src.folder_handler import *\n",
    "from src.cort_processor import *\n",
    "from src.cca_processor import *\n",
    "from src.tdt_support import *\n",
    "from src.plotter import *\n",
    "from src.decoders import *\n",
    "from src.utils import *\n",
    "import pickle\n",
    "import scipy as sio\n",
    "import numpy as np\n",
    "import matplotlib.pyplot as plt\n",
    "from  matplotlib.colors import LinearSegmentedColormap\n",
    "from src.wiener_filter import *\n",
    "from matplotlib.pyplot import cm\n",
    "from sklearn.cross_decomposition import CCA\n",
    "from sklearn.preprocessing import StandardScaler\n",
    "from sklearn.linear_model import Ridge, LinearRegression\n",
    "import os\n",
    "from itertools import cycle, islice\n",
    "import copy"
   ]
  },
  {
   "cell_type": "raw",
   "id": "508f36a9-7a36-460b-ada6-6014de758396",
   "metadata": {},
   "source": [
    "# pathdump:\n",
    "\n",
    "N5 \n",
    "cp1_path = '/home/diya/Documents/rat-fes/data/filipe_data/N5/N5_170929_No Obstacles_s.mat'\n",
    "cp2_path = '/home/diya/Documents/rat-fes/data/filipe_data/N5/N5_171001_No Obstacles_s.mat'\n",
    "'N5_171016_No Obstacles_s.mat'\n",
    "'N5_171130_No Obstacles_s.mat'\n",
    "\n",
    "n6\n",
    "\n",
    "cp1_path = '/home/diya/Documents/rat-fes/data/filipe_data/N6/N6_171026_No Obstacles_s.mat'\n",
    "cp2_path = '/home/diya/Documents/rat-fes/data/filipe_data/N6/N6_171204_No Obstacles_s.mat'\n",
    "\n",
    "'N6_171211_No Obstacles_s.mat'\n",
    "\n",
    "n9\n",
    "cp1_path = '/home/diya/Documents/rat-fes/data/filipe_data/N9/N9_171121_No Obstacles_s.mat'\n",
    "cp2_path = '/home/diya/Documents/rat-fes/data/filipe_data/N9/N9_171204_No Obstacles_s.mat'\n",
    "'N9_171211_No Obstacles_s.mat'  'N9_171214_No Obstacles_s.mat"
   ]
  },
  {
   "cell_type": "code",
   "execution_count": 3,
   "id": "9d19fd6c-587d-4c82-a2e2-6ac16afbc495",
   "metadata": {},
   "outputs": [
    {
     "name": "stdout",
     "output_type": "stream",
     "text": [
      "this is filipe data i belive\n",
      "this is filipe data i belive\n",
      "this is filipe data i belive\n"
     ]
    }
   ],
   "source": [
    "cp1_path = '/home/diya/Documents/rat-fes/data/filipe_data/N5/N5_171001_No Obstacles_s.mat'\n",
    "cp2_path = '/home/diya/Documents/rat-fes/data/filipe_data/N6/N6_171204_No Obstacles_s.mat'\n",
    "cp3_path = '/home/diya/Documents/rat-fes/data/filipe_data/N9/N9_171204_No Obstacles_s.mat'\n",
    "\n",
    "cp1 = CortProcessor(cp1_path)\n",
    "cp2 = CortProcessor(cp2_path)\n",
    "cp3 = CortProcessor(cp3_path)"
   ]
  },
  {
   "cell_type": "code",
   "execution_count": 4,
   "id": "226e7434-6a52-4ed4-a399-3f76676736a0",
   "metadata": {},
   "outputs": [
    {
     "name": "stdout",
     "output_type": "stream",
     "text": [
      "0.7889999999999999\n"
     ]
    }
   ],
   "source": [
    "nada, vaffy, nadas, naadax = cp1.decode_angles()\n",
    "print(np.average(vaffy, 1)[1])"
   ]
  },
  {
   "cell_type": "code",
   "execution_count": 5,
   "id": "ef443082-7a9f-452e-86de-f6bdb89d0321",
   "metadata": {},
   "outputs": [],
   "source": [
    "cp1_channels = cp1.data['which_channels']\n",
    "cp2_channels = cp2.data['which_channels']\n",
    "cp3_channels = cp3.data['which_channels']"
   ]
  },
  {
   "cell_type": "code",
   "execution_count": 6,
   "id": "dcfabbf8-23c7-4bf0-b04e-32cad90e5489",
   "metadata": {},
   "outputs": [],
   "source": [
    "cp_list = [cp1, cp2, cp3]"
   ]
  },
  {
   "cell_type": "code",
   "execution_count": 7,
   "id": "fb37d886-954e-461e-86d1-2adb8aace2cb",
   "metadata": {},
   "outputs": [],
   "source": [
    "new_rates = {}\n",
    "new_rates[0] = []\n",
    "new_rates[1] = []\n",
    "new_rates[2] = []"
   ]
  },
  {
   "cell_type": "code",
   "execution_count": 8,
   "id": "72cae71a-1288-478e-b0ac-a921a9d39aa8",
   "metadata": {},
   "outputs": [],
   "source": [
    "for i in range(1, 33):\n",
    "    if i in cp1_channels:\n",
    "        if i in cp2_channels:\n",
    "            if i in cp3_channels:\n",
    "                for k in range(len(cp_list)):\n",
    "                    idx = cp_list[k].data['which_channels'].index(i)\n",
    "                    new_rates[k].append(cp_list[k].data['rates'][0][:,idx])"
   ]
  },
  {
   "cell_type": "code",
   "execution_count": 9,
   "id": "87d59ff2-28c3-4adc-95a4-96b4de19742b",
   "metadata": {},
   "outputs": [],
   "source": [
    "cp1_rates = np.array(new_rates[0])\n",
    "cp2_rates = np.array(new_rates[1])\n",
    "cp3_rates = np.array(new_rates[2])"
   ]
  },
  {
   "cell_type": "code",
   "execution_count": 10,
   "id": "81d6d5df-8b66-43dd-a426-277c99491fb5",
   "metadata": {},
   "outputs": [],
   "source": [
    "cp1_rates = cp1_rates.T\n",
    "cp2_rates = cp2_rates.T\n",
    "cp3_rates = cp3_rates.T"
   ]
  },
  {
   "cell_type": "code",
   "execution_count": 11,
   "id": "0b882f6f-bc23-4ff0-9c4b-df18a5a7f822",
   "metadata": {},
   "outputs": [],
   "source": [
    "cp1.data['rates'] = [cp1_rates]\n",
    "cp2.data['rates'] = [cp2_rates]\n",
    "cp3.data['rates'] = [cp3_rates]"
   ]
  },
  {
   "cell_type": "code",
   "execution_count": null,
   "id": "d015aa01-de91-4339-86f1-84359b0e1963",
   "metadata": {},
   "outputs": [],
   "source": []
  },
  {
   "cell_type": "code",
   "execution_count": 12,
   "id": "07fadf03-c7de-4d3c-a2da-9291b9a0414f",
   "metadata": {},
   "outputs": [],
   "source": [
    "with open('/home/diya/Documents/rat-fes/data/pickles/N5_mixed.pkl', 'wb') as inp: #YOUR PATH HERE\n",
    "    pickle.dump(cp1, inp)\n",
    "with open('/home/diya/Documents/rat-fes/data/pickles/N6_mixed.pkl', 'wb') as inp: #YOUR PATH HERE\n",
    "    pickle.dump(cp2, inp)\n",
    "with open('/home/diya/Documents/rat-fes/data/pickles/N9_mixed.pkl', 'wb') as inp: #YOUR PATH HERE\n",
    "    pickle.dump(cp3, inp)"
   ]
  },
  {
   "cell_type": "code",
   "execution_count": 3,
   "id": "32117c97-afca-4ce1-9e26-d05801bb407d",
   "metadata": {},
   "outputs": [
    {
     "name": "stdout",
     "output_type": "stream",
     "text": [
      "(12050,)\n",
      "(12051,)\n",
      "should be good to align\n",
      "(9543, 11)\n",
      "(9543, 5)\n",
      "(9543, 23)\n",
      "(9543, 5)\n"
     ]
    }
   ],
   "source": [
    "my_cca = CCAProcessor(cp1, cp2)"
   ]
  },
  {
   "cell_type": "code",
   "execution_count": 4,
   "id": "a0c36f09-405c-4c3d-82b2-a70f49b3b654",
   "metadata": {},
   "outputs": [],
   "source": [
    "x = cp1.data['rates'][0]\n",
    "y = cp1.data['angles'][0]\n",
    "             \n",
    "x_format, y_format = format_data(x, y)\n",
    "             \n",
    "x2 = my_cca.remove_cp2_channels()\n",
    "y2 = cp2.data['angles'][0]\n",
    "             \n",
    "x2_format, y2_format = format_data(x2, y2)"
   ]
  },
  {
   "cell_type": "code",
   "execution_count": 5,
   "id": "a1e9273b-e96e-4f4d-be97-4ab1a4c147a6",
   "metadata": {},
   "outputs": [],
   "source": [
    "clf = LinearRegression()\n",
    "clf.fit(x_format, y_format)\n",
    "predic = clf.predict(x_format)"
   ]
  },
  {
   "cell_type": "code",
   "execution_count": 6,
   "id": "29aae780-eb15-486c-bbf1-b70b87dc28e2",
   "metadata": {},
   "outputs": [],
   "source": [
    "predic2 = clf.predict(x2_format)"
   ]
  },
  {
   "cell_type": "code",
   "execution_count": 7,
   "id": "2228ca04-6600-4840-8667-53818c7d3856",
   "metadata": {},
   "outputs": [
    {
     "data": {
      "text/plain": [
       "(12040, 5)"
      ]
     },
     "execution_count": 7,
     "metadata": {},
     "output_type": "execute_result"
    }
   ],
   "source": [
    "predic.shape"
   ]
  },
  {
   "cell_type": "code",
   "execution_count": 8,
   "id": "bedef78f-a105-4a34-a4d2-fad63e5fcfa0",
   "metadata": {},
   "outputs": [
    {
     "data": {
      "text/plain": [
       "0.57"
      ]
     },
     "execution_count": 8,
     "metadata": {},
     "output_type": "execute_result"
    }
   ],
   "source": [
    "vaf(y_format[:,1], predic[:,1])"
   ]
  },
  {
   "cell_type": "code",
   "execution_count": 9,
   "id": "64a8cc91-8586-4d0b-9234-dd7e5917b76f",
   "metadata": {},
   "outputs": [
    {
     "data": {
      "text/plain": [
       "0.42"
      ]
     },
     "execution_count": 9,
     "metadata": {},
     "output_type": "execute_result"
    }
   ],
   "source": [
    "vaf(y2_format[:,1], predic2[:,1])"
   ]
  },
  {
   "cell_type": "code",
   "execution_count": 10,
   "id": "6d69e88a-450c-437e-ab27-e1319dc9ecb8",
   "metadata": {},
   "outputs": [
    {
     "data": {
      "text/plain": [
       "[<matplotlib.lines.Line2D at 0x7f5faf0330f0>]"
      ]
     },
     "execution_count": 10,
     "metadata": {},
     "output_type": "execute_result"
    },
    {
     "data": {
      "application/vnd.jupyter.widget-view+json": {
       "model_id": "80adbaccf3304e8398c303db4eb013cf",
       "version_major": 2,
       "version_minor": 0
      },
      "text/html": [
       "\n",
       "            <div style=\"display: inline-block;\">\n",
       "                <div class=\"jupyter-widgets widget-label\" style=\"text-align: center;\">\n",
       "                    Figure\n",
       "                </div>\n",
       "                <img src='data:image/png;base64,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' width=640.0/>\n",
       "            </div>\n",
       "        "
      ],
      "text/plain": [
       "Canvas(toolbar=Toolbar(toolitems=[('Home', 'Reset original view', 'home', 'home'), ('Back', 'Back to previous …"
      ]
     },
     "metadata": {},
     "output_type": "display_data"
    }
   ],
   "source": [
    "fig, ax = plt.subplots()\n",
    "ax.plot(y2_format[:,1])\n",
    "ax.plot(predic2[:,1])"
   ]
  },
  {
   "cell_type": "code",
   "execution_count": 11,
   "id": "4653e9cd-d75b-43df-9b89-ccdd63f8d5da",
   "metadata": {},
   "outputs": [
    {
     "ename": "NameError",
     "evalue": "name 'love' is not defined",
     "output_type": "error",
     "traceback": [
      "\u001b[0;31m---------------------------------------------------------------------------\u001b[0m",
      "\u001b[0;31mNameError\u001b[0m                                 Traceback (most recent call last)",
      "\u001b[0;32m<ipython-input-11-677c96e5a33f>\u001b[0m in \u001b[0;36m<module>\u001b[0;34m\u001b[0m\n\u001b[0;32m----> 1\u001b[0;31m \u001b[0mlove\u001b[0m\u001b[0;34m.\u001b[0m\u001b[0mshape\u001b[0m\u001b[0;34m\u001b[0m\u001b[0m\n\u001b[0m",
      "\u001b[0;31mNameError\u001b[0m: name 'love' is not defined"
     ]
    }
   ],
   "source": [
    "love.shape"
   ]
  },
  {
   "cell_type": "code",
   "execution_count": 117,
   "id": "0dd1d173-f042-4d2e-8c38-faecdc2cf733",
   "metadata": {},
   "outputs": [
    {
     "data": {
      "text/plain": [
       "(12051, 23)"
      ]
     },
     "execution_count": 117,
     "metadata": {},
     "output_type": "execute_result"
    }
   ],
   "source": [
    "cp2.data['rates'][0].shape"
   ]
  },
  {
   "cell_type": "code",
   "execution_count": 98,
   "id": "17b1b039-2eb1-434f-825e-5e159e35e5fd",
   "metadata": {},
   "outputs": [],
   "source": [
    "a = cp1.data['which_channels']"
   ]
  },
  {
   "cell_type": "code",
   "execution_count": 97,
   "id": "554766ce-e838-43cc-bf59-5f85e8e30161",
   "metadata": {},
   "outputs": [],
   "source": [
    "b = cp2.data['which_channels']"
   ]
  },
  {
   "cell_type": "code",
   "execution_count": 106,
   "id": "989ed087-2041-45c3-a046-4d425cac9e41",
   "metadata": {},
   "outputs": [
    {
     "name": "stdout",
     "output_type": "stream",
     "text": [
      "3\n"
     ]
    }
   ],
   "source": [
    "for channel in a:\n",
    "    if channel not in b:\n",
    "        print(channel)"
   ]
  },
  {
   "cell_type": "code",
   "execution_count": 109,
   "id": "146684a0-987c-4974-a81f-97243ea9fb99",
   "metadata": {},
   "outputs": [
    {
     "data": {
      "text/plain": [
       "23"
      ]
     },
     "execution_count": 109,
     "metadata": {},
     "output_type": "execute_result"
    }
   ],
   "source": [
    "len(b)"
   ]
  },
  {
   "cell_type": "code",
   "execution_count": 96,
   "id": "230fa4fc-a799-42f6-9a73-7b3989039c99",
   "metadata": {},
   "outputs": [
    {
     "data": {
      "text/plain": [
       "(12051, 23)"
      ]
     },
     "execution_count": 96,
     "metadata": {},
     "output_type": "execute_result"
    }
   ],
   "source": [
    "cp2.data['rates'][0].shape"
   ]
  },
  {
   "cell_type": "code",
   "execution_count": 59,
   "id": "1a45fd77-6828-4d61-bca0-793d12547aa0",
   "metadata": {},
   "outputs": [],
   "source": [
    "angles = cp1.data['angles'][0]\n",
    "rates = cp1.data['rates'][0]"
   ]
  },
  {
   "cell_type": "code",
   "execution_count": 67,
   "id": "2f376ab8-1584-4ddb-b18d-168f12ad3538",
   "metadata": {},
   "outputs": [
    {
     "data": {
      "text/plain": [
       "[2,\n",
       " 7,\n",
       " 9,\n",
       " 10,\n",
       " 12,\n",
       " 13,\n",
       " 14,\n",
       " 15,\n",
       " 16,\n",
       " 17,\n",
       " 23,\n",
       " 24,\n",
       " 25,\n",
       " 26,\n",
       " 28,\n",
       " 29,\n",
       " 31,\n",
       " 0,\n",
       " 1,\n",
       " 5,\n",
       " 7,\n",
       " 9,\n",
       " 10,\n",
       " 11,\n",
       " 13,\n",
       " 14,\n",
       " 15,\n",
       " 16]"
      ]
     },
     "execution_count": 67,
     "metadata": {},
     "output_type": "execute_result"
    }
   ],
   "source": [
    "cp1.handler['which_channels']"
   ]
  },
  {
   "cell_type": "code",
   "execution_count": 61,
   "id": "92ba8b2b-48a3-4e08-9456-e119066c4e2e",
   "metadata": {},
   "outputs": [
    {
     "ename": "KeyError",
     "evalue": "'original_rates'",
     "output_type": "error",
     "traceback": [
      "\u001b[0;31m---------------------------------------------------------------------------\u001b[0m",
      "\u001b[0;31mKeyError\u001b[0m                                  Traceback (most recent call last)",
      "\u001b[0;32m<ipython-input-61-4ef6f38b02a4>\u001b[0m in \u001b[0;36m<module>\u001b[0;34m\u001b[0m\n\u001b[0;32m----> 1\u001b[0;31m \u001b[0mcp1\u001b[0m\u001b[0;34m.\u001b[0m\u001b[0mdata\u001b[0m\u001b[0;34m[\u001b[0m\u001b[0;34m'original_rates'\u001b[0m\u001b[0;34m]\u001b[0m\u001b[0;34m\u001b[0m\u001b[0m\n\u001b[0m",
      "\u001b[0;31mKeyError\u001b[0m: 'original_rates'"
     ]
    }
   ],
   "source": [
    "cp1.data['original_rates']"
   ]
  },
  {
   "cell_type": "code",
   "execution_count": 60,
   "id": "4db70d18-cc58-4ba3-a2a3-beb25973bea4",
   "metadata": {},
   "outputs": [
    {
     "data": {
      "text/plain": [
       "(12050, 11)"
      ]
     },
     "execution_count": 60,
     "metadata": {},
     "output_type": "execute_result"
    }
   ],
   "source": [
    "rates.shape"
   ]
  },
  {
   "cell_type": "code",
   "execution_count": 55,
   "id": "3d0557f8-9c46-45e2-ba57-ba7ebfef109f",
   "metadata": {},
   "outputs": [
    {
     "ename": "ValueError",
     "evalue": "Input contains NaN, infinity or a value too large for dtype('float64').",
     "output_type": "error",
     "traceback": [
      "\u001b[0;31m---------------------------------------------------------------------------\u001b[0m",
      "\u001b[0;31mValueError\u001b[0m                                Traceback (most recent call last)",
      "\u001b[0;32m<ipython-input-55-d78e3898e715>\u001b[0m in \u001b[0;36m<module>\u001b[0;34m\u001b[0m\n\u001b[1;32m      1\u001b[0m \u001b[0mclf\u001b[0m \u001b[0;34m=\u001b[0m \u001b[0mLinearRegression\u001b[0m\u001b[0;34m(\u001b[0m\u001b[0;34m)\u001b[0m\u001b[0;34m\u001b[0m\u001b[0m\n\u001b[0;32m----> 2\u001b[0;31m \u001b[0mclf\u001b[0m\u001b[0;34m.\u001b[0m\u001b[0mfit\u001b[0m\u001b[0;34m(\u001b[0m\u001b[0mrates\u001b[0m\u001b[0;34m,\u001b[0m \u001b[0mangles\u001b[0m\u001b[0;34m)\u001b[0m\u001b[0;34m\u001b[0m\u001b[0m\n\u001b[0m",
      "\u001b[0;32m~/anaconda3/envs/rat-fes/lib/python3.7/site-packages/sklearn/linear_model/_base.py\u001b[0m in \u001b[0;36mfit\u001b[0;34m(self, X, y, sample_weight)\u001b[0m\n\u001b[1;32m    661\u001b[0m \u001b[0;34m\u001b[0m\u001b[0m\n\u001b[1;32m    662\u001b[0m         X, y = self._validate_data(\n\u001b[0;32m--> 663\u001b[0;31m             \u001b[0mX\u001b[0m\u001b[0;34m,\u001b[0m \u001b[0my\u001b[0m\u001b[0;34m,\u001b[0m \u001b[0maccept_sparse\u001b[0m\u001b[0;34m=\u001b[0m\u001b[0maccept_sparse\u001b[0m\u001b[0;34m,\u001b[0m \u001b[0my_numeric\u001b[0m\u001b[0;34m=\u001b[0m\u001b[0;32mTrue\u001b[0m\u001b[0;34m,\u001b[0m \u001b[0mmulti_output\u001b[0m\u001b[0;34m=\u001b[0m\u001b[0;32mTrue\u001b[0m\u001b[0;34m\u001b[0m\u001b[0m\n\u001b[0m\u001b[1;32m    664\u001b[0m         )\n\u001b[1;32m    665\u001b[0m \u001b[0;34m\u001b[0m\u001b[0m\n",
      "\u001b[0;32m~/anaconda3/envs/rat-fes/lib/python3.7/site-packages/sklearn/base.py\u001b[0m in \u001b[0;36m_validate_data\u001b[0;34m(self, X, y, reset, validate_separately, **check_params)\u001b[0m\n\u001b[1;32m    579\u001b[0m                 \u001b[0my\u001b[0m \u001b[0;34m=\u001b[0m \u001b[0mcheck_array\u001b[0m\u001b[0;34m(\u001b[0m\u001b[0my\u001b[0m\u001b[0;34m,\u001b[0m \u001b[0;34m**\u001b[0m\u001b[0mcheck_y_params\u001b[0m\u001b[0;34m)\u001b[0m\u001b[0;34m\u001b[0m\u001b[0m\n\u001b[1;32m    580\u001b[0m             \u001b[0;32melse\u001b[0m\u001b[0;34m:\u001b[0m\u001b[0;34m\u001b[0m\u001b[0m\n\u001b[0;32m--> 581\u001b[0;31m                 \u001b[0mX\u001b[0m\u001b[0;34m,\u001b[0m \u001b[0my\u001b[0m \u001b[0;34m=\u001b[0m \u001b[0mcheck_X_y\u001b[0m\u001b[0;34m(\u001b[0m\u001b[0mX\u001b[0m\u001b[0;34m,\u001b[0m \u001b[0my\u001b[0m\u001b[0;34m,\u001b[0m \u001b[0;34m**\u001b[0m\u001b[0mcheck_params\u001b[0m\u001b[0;34m)\u001b[0m\u001b[0;34m\u001b[0m\u001b[0m\n\u001b[0m\u001b[1;32m    582\u001b[0m             \u001b[0mout\u001b[0m \u001b[0;34m=\u001b[0m \u001b[0mX\u001b[0m\u001b[0;34m,\u001b[0m \u001b[0my\u001b[0m\u001b[0;34m\u001b[0m\u001b[0m\n\u001b[1;32m    583\u001b[0m \u001b[0;34m\u001b[0m\u001b[0m\n",
      "\u001b[0;32m~/anaconda3/envs/rat-fes/lib/python3.7/site-packages/sklearn/utils/validation.py\u001b[0m in \u001b[0;36mcheck_X_y\u001b[0;34m(X, y, accept_sparse, accept_large_sparse, dtype, order, copy, force_all_finite, ensure_2d, allow_nd, multi_output, ensure_min_samples, ensure_min_features, y_numeric, estimator)\u001b[0m\n\u001b[1;32m    974\u001b[0m         \u001b[0mensure_min_samples\u001b[0m\u001b[0;34m=\u001b[0m\u001b[0mensure_min_samples\u001b[0m\u001b[0;34m,\u001b[0m\u001b[0;34m\u001b[0m\u001b[0m\n\u001b[1;32m    975\u001b[0m         \u001b[0mensure_min_features\u001b[0m\u001b[0;34m=\u001b[0m\u001b[0mensure_min_features\u001b[0m\u001b[0;34m,\u001b[0m\u001b[0;34m\u001b[0m\u001b[0m\n\u001b[0;32m--> 976\u001b[0;31m         \u001b[0mestimator\u001b[0m\u001b[0;34m=\u001b[0m\u001b[0mestimator\u001b[0m\u001b[0;34m,\u001b[0m\u001b[0;34m\u001b[0m\u001b[0m\n\u001b[0m\u001b[1;32m    977\u001b[0m     )\n\u001b[1;32m    978\u001b[0m \u001b[0;34m\u001b[0m\u001b[0m\n",
      "\u001b[0;32m~/anaconda3/envs/rat-fes/lib/python3.7/site-packages/sklearn/utils/validation.py\u001b[0m in \u001b[0;36mcheck_array\u001b[0;34m(array, accept_sparse, accept_large_sparse, dtype, order, copy, force_all_finite, ensure_2d, allow_nd, ensure_min_samples, ensure_min_features, estimator)\u001b[0m\n\u001b[1;32m    798\u001b[0m \u001b[0;34m\u001b[0m\u001b[0m\n\u001b[1;32m    799\u001b[0m         \u001b[0;32mif\u001b[0m \u001b[0mforce_all_finite\u001b[0m\u001b[0;34m:\u001b[0m\u001b[0;34m\u001b[0m\u001b[0m\n\u001b[0;32m--> 800\u001b[0;31m             \u001b[0m_assert_all_finite\u001b[0m\u001b[0;34m(\u001b[0m\u001b[0marray\u001b[0m\u001b[0;34m,\u001b[0m \u001b[0mallow_nan\u001b[0m\u001b[0;34m=\u001b[0m\u001b[0mforce_all_finite\u001b[0m \u001b[0;34m==\u001b[0m \u001b[0;34m\"allow-nan\"\u001b[0m\u001b[0;34m)\u001b[0m\u001b[0;34m\u001b[0m\u001b[0m\n\u001b[0m\u001b[1;32m    801\u001b[0m \u001b[0;34m\u001b[0m\u001b[0m\n\u001b[1;32m    802\u001b[0m     \u001b[0;32mif\u001b[0m \u001b[0mensure_min_samples\u001b[0m \u001b[0;34m>\u001b[0m \u001b[0;36m0\u001b[0m\u001b[0;34m:\u001b[0m\u001b[0;34m\u001b[0m\u001b[0m\n",
      "\u001b[0;32m~/anaconda3/envs/rat-fes/lib/python3.7/site-packages/sklearn/utils/validation.py\u001b[0m in \u001b[0;36m_assert_all_finite\u001b[0;34m(X, allow_nan, msg_dtype)\u001b[0m\n\u001b[1;32m    114\u001b[0m             raise ValueError(\n\u001b[1;32m    115\u001b[0m                 msg_err.format(\n\u001b[0;32m--> 116\u001b[0;31m                     \u001b[0mtype_err\u001b[0m\u001b[0;34m,\u001b[0m \u001b[0mmsg_dtype\u001b[0m \u001b[0;32mif\u001b[0m \u001b[0mmsg_dtype\u001b[0m \u001b[0;32mis\u001b[0m \u001b[0;32mnot\u001b[0m \u001b[0;32mNone\u001b[0m \u001b[0;32melse\u001b[0m \u001b[0mX\u001b[0m\u001b[0;34m.\u001b[0m\u001b[0mdtype\u001b[0m\u001b[0;34m\u001b[0m\u001b[0m\n\u001b[0m\u001b[1;32m    117\u001b[0m                 )\n\u001b[1;32m    118\u001b[0m             )\n",
      "\u001b[0;31mValueError\u001b[0m: Input contains NaN, infinity or a value too large for dtype('float64')."
     ]
    }
   ],
   "source": [
    "clf = LinearRegression()\n",
    "clf.fit(rates, angles)"
   ]
  },
  {
   "cell_type": "code",
   "execution_count": 50,
   "id": "4387d444-b8e2-4ad7-ae5a-482cb00ea397",
   "metadata": {},
   "outputs": [
    {
     "data": {
      "text/plain": [
       "nan"
      ]
     },
     "execution_count": 50,
     "metadata": {},
     "output_type": "execute_result"
    }
   ],
   "source": [
    "np.nan"
   ]
  },
  {
   "cell_type": "code",
   "execution_count": 17,
   "id": "58125d5f-59c9-46b3-b719-8c6c9b5bc9b1",
   "metadata": {},
   "outputs": [
    {
     "data": {
      "text/plain": [
       "array([ 2,  7,  9, 10, 12, 13, 14, 15, 16, 17, 23, 24, 25, 26, 28, 29, 31],\n",
       "      dtype=uint8)"
      ]
     },
     "execution_count": 17,
     "metadata": {},
     "output_type": "execute_result"
    }
   ],
   "source": [
    "\n",
    "which_channels"
   ]
  },
  {
   "cell_type": "code",
   "execution_count": 24,
   "id": "761f734a-c2ea-491e-a605-b005eeedab0c",
   "metadata": {},
   "outputs": [
    {
     "name": "stdout",
     "output_type": "stream",
     "text": [
      "(array([], dtype=int64),)\n",
      "(array([], dtype=int64),)\n",
      "(array([0]),)\n",
      "(array([], dtype=int64),)\n",
      "(array([], dtype=int64),)\n",
      "(array([], dtype=int64),)\n",
      "(array([], dtype=int64),)\n",
      "(array([1]),)\n",
      "(array([], dtype=int64),)\n",
      "(array([2]),)\n",
      "(array([3]),)\n",
      "(array([], dtype=int64),)\n",
      "(array([4]),)\n",
      "(array([5]),)\n",
      "(array([6]),)\n",
      "(array([7]),)\n",
      "(array([8]),)\n",
      "(array([9]),)\n",
      "(array([], dtype=int64),)\n",
      "(array([], dtype=int64),)\n",
      "(array([], dtype=int64),)\n",
      "(array([], dtype=int64),)\n",
      "(array([], dtype=int64),)\n",
      "(array([10]),)\n",
      "(array([11]),)\n",
      "(array([12]),)\n",
      "(array([13]),)\n",
      "(array([], dtype=int64),)\n",
      "(array([14]),)\n",
      "(array([15]),)\n",
      "(array([], dtype=int64),)\n",
      "(array([16]),)\n"
     ]
    }
   ],
   "source": [
    "for idx in range(uncut_rates.shape[1]):\n",
    "    if idx in which_channels:\n",
    "        position = np.where(which_channels==idx)[0][0]\n",
    "        \n",
    "    \n",
    "    "
   ]
  },
  {
   "cell_type": "code",
   "execution_count": 19,
   "id": "390f5862-dc14-4f3c-8a66-898d17c20c46",
   "metadata": {},
   "outputs": [],
   "source": [
    "uncut_rates = np.zeros((100,32))"
   ]
  },
  {
   "cell_type": "code",
   "execution_count": 22,
   "id": "d02459b2-bd7b-485e-8817-625a54e2c69a",
   "metadata": {},
   "outputs": [
    {
     "data": {
      "text/plain": [
       "(100, 32)"
      ]
     },
     "execution_count": 22,
     "metadata": {},
     "output_type": "execute_result"
    }
   ],
   "source": [
    "uncut_rates.shape"
   ]
  },
  {
   "cell_type": "code",
   "execution_count": 32,
   "id": "232cd287-7b95-41f3-bfcf-0d18b48983e9",
   "metadata": {},
   "outputs": [],
   "source": [
    "test = np.where(which_channels==0)"
   ]
  },
  {
   "cell_type": "code",
   "execution_count": 44,
   "id": "4e4abe98-22fa-4cc1-b95a-5dd843ffc413",
   "metadata": {},
   "outputs": [],
   "source": [
    "love = 2"
   ]
  },
  {
   "cell_type": "code",
   "execution_count": 42,
   "id": "f5648cba-dc02-4cf6-9f91-1d578e354e29",
   "metadata": {},
   "outputs": [
    {
     "data": {
      "text/plain": [
       "False"
      ]
     },
     "execution_count": 42,
     "metadata": {},
     "output_type": "execute_result"
    }
   ],
   "source": [
    "love in which_channels"
   ]
  },
  {
   "cell_type": "code",
   "execution_count": 47,
   "id": "b053524d-afe4-4397-bcb5-464f14caf19d",
   "metadata": {},
   "outputs": [
    {
     "data": {
      "text/plain": [
       "0"
      ]
     },
     "execution_count": 47,
     "metadata": {},
     "output_type": "execute_result"
    }
   ],
   "source": [
    "np.where(which_channels==love)[0][0]"
   ]
  },
  {
   "cell_type": "code",
   "execution_count": null,
   "id": "b3032489-da8c-465b-8ea0-509338a36009",
   "metadata": {},
   "outputs": [],
   "source": []
  }
 ],
 "metadata": {
  "kernelspec": {
   "display_name": "Python 3",
   "language": "python",
   "name": "python3"
  },
  "language_info": {
   "codemirror_mode": {
    "name": "ipython",
    "version": 3
   },
   "file_extension": ".py",
   "mimetype": "text/x-python",
   "name": "python",
   "nbconvert_exporter": "python",
   "pygments_lexer": "ipython3",
   "version": "3.7.0"
  }
 },
 "nbformat": 4,
 "nbformat_minor": 5
}
