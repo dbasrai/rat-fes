{
 "cells": [
  {
   "cell_type": "markdown",
   "id": "f38d943b-3061-42d1-a699-5ab81a489e6e",
   "metadata": {},
   "source": [
    "# regression decoder test (~10/6/22) (FOR FILIPE DATA ONLY)\n",
    "this compares a fixed decoder, pca decoder, cca transformation (w/ day0 decoder), and a regression decoder on day-N data. the latter two use a day-0 data as a prior start. "
   ]
  },
  {
   "cell_type": "code",
   "execution_count": 11,
   "id": "80ff2fbb-e579-471f-b42c-e51c222d33fa",
   "metadata": {},
   "outputs": [
    {
     "name": "stdout",
     "output_type": "stream",
     "text": [
      "The autoreload extension is already loaded. To reload it, use:\n",
      "  %reload_ext autoreload\n"
     ]
    }
   ],
   "source": [
    "%matplotlib widget\n",
    "%load_ext autoreload\n",
    "%autoreload 2\n",
    "from src.folder_handler import *\n",
    "from src.cort_processor import *\n",
    "from src.cca_processor import *\n",
    "from src.tdt_support import *\n",
    "from src.plotter import *\n",
    "from src.decoders import *\n",
    "from src.utils import *\n",
    "import pickle\n",
    "import scipy as sio\n",
    "import numpy as np\n",
    "import matplotlib.pyplot as plt\n",
    "from  matplotlib.colors import LinearSegmentedColormap\n",
    "from src.wiener_filter import *\n",
    "from matplotlib.pyplot import cm\n",
    "from sklearn.cross_decomposition import CCA\n",
    "from sklearn.preprocessing import StandardScaler\n",
    "from sklearn.linear_model import Ridge\n",
    "from sklearn.model_selection import KFold\n",
    "import os\n",
    "from itertools import cycle, islice\n",
    "import copy"
   ]
  },
  {
   "cell_type": "markdown",
   "id": "83f520d7-3e89-4813-b233-90fda2b595d3",
   "metadata": {
    "tags": []
   },
   "source": [
    "# set paths/create objects\n",
    "\n",
    "cp1 = day-0\n",
    "\n",
    "cp2 = day-n\n"
   ]
  },
  {
   "cell_type": "markdown",
   "id": "1acb9199-b678-441f-b55a-92e2a31c7447",
   "metadata": {
    "tags": []
   },
   "source": [
    "# pathdump:\n",
    "\n",
    "N5 \n",
    "cp1_path = '/home/diya/Documents/rat-fes/data/filipe_data/N5/N5_170929_No Obstacles_s.mat'\n",
    "cp2_path = '/home/diya/Documents/rat-fes/data/filipe_data/N5/N5_171001_No Obstacles_s.mat'\n",
    "'N5_171016_No Obstacles_s.mat'\n",
    "'N5_171130_No Obstacles_s.mat'\n",
    "\n",
    "n6\n",
    "'N6_171026_No Obstacles_s.mat' this day has pretty low %vaf max\n",
    "'N6_171204_No Obstacles_s.mat'\n",
    "'N6_171211_No Obstacles_s.mat'\n",
    "\n",
    "n9\n",
    "cp1_path = '/home/diya/Documents/rat-fes/data/filipe_data/N9/N9_171121_No Obstacles_s.mat'\n",
    "cp2_path = '/home/diya/Documents/rat-fes/data/filipe_data/N9/N9_171204_No Obstacles_s.mat'\n",
    "'N9_171211_No Obstacles_s.mat'  'N9_171214_No Obstacles_s.mat"
   ]
  },
  {
   "cell_type": "code",
   "execution_count": 2,
   "id": "b5c31a27-24a5-4deb-8614-d6e00505712e",
   "metadata": {},
   "outputs": [
    {
     "name": "stdout",
     "output_type": "stream",
     "text": [
      "this is filipe data i belive\n",
      "this is filipe data i belive\n"
     ]
    }
   ],
   "source": [
    "cp1_path = '/home/diya/Documents/rat-fes/data/filipe_data/N5/N5_170929_No Obstacles_s.mat'\n",
    "cp2_path = '/home/diya/Documents/rat-fes/data/filipe_data/N6/N6_171204_No Obstacles_s.mat'\n",
    "\n",
    "cp1 = CortProcessor(cp1_path)\n",
    "cp2 = CortProcessor(cp2_path)"
   ]
  },
  {
   "cell_type": "code",
   "execution_count": 3,
   "id": "46d38c23-b53d-4187-91ad-7efbf9a6e8e4",
   "metadata": {},
   "outputs": [],
   "source": [
    "#subsampling list, percent of total data\n",
    "#subsample_list = np.arange(.005, 1, .005)\n",
    "subsample_list = [0.005, 0.01, 0.1, 0.5, 1.0]\n",
    "nummy = cp2.data['rates'][0].shape[0]\n",
    "#newlist = [int(sub * nummy) for sub in subsample_list]\n",
    "\n",
    "#print(f'num_samples:{newlist}')\n",
    "#print(subsample_list)"
   ]
  },
  {
   "cell_type": "code",
   "execution_count": 7,
   "id": "19955fa1-7e62-47c4-a25e-f425605056eb",
   "metadata": {},
   "outputs": [],
   "source": [
    "pca_dims=8"
   ]
  },
  {
   "cell_type": "markdown",
   "id": "d57ed850-3711-4a76-b317-7c5d551645ba",
   "metadata": {},
   "source": [
    "# getting day0 decoder\n",
    "apply PCA (based on all data), and then train wiener filter.\n",
    "also get a day0-scaled-weights-decoder"
   ]
  },
  {
   "cell_type": "code",
   "execution_count": 10,
   "id": "64f97f4b-6819-4355-bbbc-4305ad07ef59",
   "metadata": {},
   "outputs": [
    {
     "name": "stdout",
     "output_type": "stream",
     "text": [
      "0.563\n",
      "0.563\n"
     ]
    }
   ],
   "source": [
    "#get day0 decoder weights, scaled + unscaled versions\n",
    "\n",
    "day0_decoder, nada, naday, nadax = cp1.decode_angles(X=cp1.apply_PCA(dims=pca_dims))\n",
    "#lowest_num_dimensions = cp1.num_components\n",
    "print(np.average(nada, 1)[1])\n",
    "\n",
    "X_tempy =cp1.apply_PCA(pca_dims)\n",
    "scaler = StandardScaler()\n",
    "X_scale = scaler.fit_transform(np.squeeze(X_tempy))\n",
    "day0_decoder_scale, nada, naday, nadax = cp1.decode_angles(X=[X_scale])\n",
    "\n",
    "print(np.average(nada, 1)[1])"
   ]
  },
  {
   "cell_type": "markdown",
   "id": "4aa0b0ae-d58c-4a37-bee2-191f2e155d72",
   "metadata": {},
   "source": [
    "# getting test/train splits"
   ]
  },
  {
   "cell_type": "code",
   "execution_count": null,
   "id": "806a5f77-b554-45cd-829f-3dc661d7fbf0",
   "metadata": {},
   "outputs": [],
   "source": [
    "k=5\n",
    "kf = KFold(n_splits=k)"
   ]
  },
  {
   "cell_type": "markdown",
   "id": "f0409b48-79f7-4e45-9c1f-513fa30e650a",
   "metadata": {},
   "source": [
    "# getting fixed decoder scores\n",
    "1) we subsample Day-N data, and fit PCA transformation. \n",
    "2) we transform entire Day-N data, and decode using Day0 decoder.\n",
    "\n",
    "# getting PCA decoder scores\n",
    "1) we subsample Day-N data, fit PCA transformation, and then transform it. \n",
    "2) We train new PCA decoder on only this low-D subsampled data\n",
    "3) We transform entire Day-N data, and decode using this new PCA decoder. \n"
   ]
  },
  {
   "cell_type": "code",
   "execution_count": 6,
   "id": "7b00dfee-7532-4721-b656-2d911659e192",
   "metadata": {},
   "outputs": [
    {
     "name": "stdout",
     "output_type": "stream",
     "text": [
      "(60,)\n",
      "(120,)\n",
      "(1202,)\n",
      "(6012,)\n",
      "(12023,)\n",
      "[-0.09, -0.13, -0.1, -0.02, -0.02]\n",
      "[-3049.38, -0.08, 0.52, 0.59, 0.6]\n"
     ]
    }
   ],
   "source": [
    "fixed_decoder_scores = []\n",
    "pca_decoder_scores = []\n",
    "pca_predic=[]\n",
    "number_of_gaits=[]\n",
    "\n",
    "for i in range(len(subsample_list)):\n",
    "    sub_x, sub_y = cp2.subsample(percent = subsample_list[i])\n",
    "    gait_counter = sub_y\n",
    "    temp_gaits, nada = cp2.get_gait_indices(Y=sub_y)\n",
    "    number_of_gaits.append(temp_gaits[0].size - 1)\n",
    "    #apply PCA just using subsampled data\n",
    "    sub_x_pca = cp2.apply_PCA(dims=lowest_num_dimensions, X=sub_x)\n",
    "    #save PCA transformation\n",
    "    pca_object = cp2.pca_object\n",
    "    #train PCA decoder \n",
    "    temp_h, nada, nadax, naday = cp2.decode_angles(X=sub_x_pca, Y=sub_y)\n",
    "    \n",
    "    test_x = np.squeeze(np.array(cp2.apply_PCA(dims=lowest_num_dimensions, transformer = pca_object)))\n",
    "    test_y = np.squeeze(np.array(cp2.data['angles']))\n",
    "    \n",
    "    test_x_format, test_y_format = format_data(test_x, test_y)\n",
    "    \n",
    "    temp_y = test_wiener_filter(test_x_format, day0_decoder)\n",
    "    fixed_decoder_scores.append(vaf(test_y_format[:,1], temp_y[:,1]))\n",
    "    \n",
    "    temp_y = test_wiener_filter(test_x_format, temp_h)\n",
    "    pca_decoder_scores.append(vaf(test_y_format[:,1], temp_y[:,1]))\n",
    "    \n",
    "    pca_predic.append(temp_y)\n",
    "\n",
    "print(fixed_decoder_scores)\n",
    "print(pca_decoder_scores)"
   ]
  },
  {
   "cell_type": "markdown",
   "id": "b4288efb-3b3a-4193-aeed-091a173367b3",
   "metadata": {},
   "source": [
    "# cca decoder\n",
    "\n",
    "1) We subsample Day-N data\n",
    "2) We align Day-N subsampled data to Day-0 data\n",
    "3) We fit PCA transformation on subsampled Day-n data, and then transform it\n",
    "4) We fit a CCA transformation on subsampled, low-D day-N data\n",
    "5) We apply our PCA transformation to entire Day-N, and then apply our CCA transformation to entire low-D day-N data\n",
    "6) We decode this using Day-0 decoder."
   ]
  },
  {
   "cell_type": "code",
   "execution_count": 7,
   "id": "7d5ec33a-9b31-49a4-b5b6-a23660474c3f",
   "metadata": {},
   "outputs": [
    {
     "name": "stdout",
     "output_type": "stream",
     "text": [
      "love1\n",
      "(12050,)\n",
      "love1\n",
      "(60,)\n",
      "should be good to align\n",
      "(59, 11)\n",
      "(59, 5)\n",
      "(59, 21)\n",
      "(59, 5)\n",
      "dim0 corr is 0.61\n",
      "dim1 corr is 0.48\n",
      "dim2 corr is 0.39\n",
      "love1\n",
      "(12050,)\n",
      "love1\n",
      "(120,)\n",
      "should be good to align\n",
      "(119, 11)\n",
      "(119, 5)\n",
      "(119, 21)\n",
      "(119, 5)\n",
      "dim0 corr is 0.49\n",
      "dim1 corr is 0.43\n",
      "dim2 corr is 0.39\n",
      "love1\n",
      "(12050,)\n",
      "love1\n",
      "(1202,)\n",
      "should be good to align\n",
      "(887, 11)\n",
      "(887, 5)\n",
      "(887, 21)\n",
      "(887, 5)\n",
      "dim0 corr is 0.47\n",
      "dim1 corr is 0.22\n",
      "dim2 corr is 0.18\n",
      "love1\n",
      "(12050,)\n",
      "love1\n",
      "(6012,)\n",
      "should be good to align\n",
      "(4272, 11)\n",
      "(4272, 5)\n",
      "(4272, 21)\n",
      "(4272, 5)\n",
      "dim0 corr is 0.4\n",
      "dim1 corr is 0.21\n",
      "dim2 corr is 0.13\n",
      "love1\n",
      "(12050,)\n",
      "love1\n",
      "(12023,)\n",
      "should be good to align\n",
      "(8101, 11)\n",
      "(8101, 5)\n",
      "(8101, 21)\n",
      "(8101, 5)\n",
      "dim0 corr is 0.37\n",
      "dim1 corr is 0.19\n",
      "dim2 corr is 0.12\n"
     ]
    }
   ],
   "source": [
    "cca_decoder_scores = []\n",
    "cca_transformers=[]\n",
    "for i in range(len(subsample_list)):\n",
    "    #make subsampled cp2\n",
    "    temp_cp2 = copy.deepcopy(cp2)\n",
    "    sub_x2, sub_y2 = temp_cp2.subsample(percent = subsample_list[i])\n",
    "    \n",
    "    temp_cp2.data['rates'] = sub_x2\n",
    "    temp_cp2.data['angles'] = sub_y2\n",
    "    \n",
    "    temp_cca = CCAProcessor(cp1, temp_cp2)\n",
    "    \n",
    "    pca_sub_x1, pca_sub_x2 = temp_cca.apply_PCA(preset_num_components=lowest_num_dimensions)\n",
    "    temp_cca_transformer, nada = temp_cca.apply_CCA(preset_num_components = lowest_num_dimensions, pca=True)\n",
    "    \n",
    "    cca_transformers.append(temp_cca_transformer)\n",
    "    \n",
    "    test_x = np.squeeze(np.array(cp2.apply_PCA(dims=lowest_num_dimensions, transformer = temp_cca.data['cp2']['pca_transformer'])))\n",
    "    test_y = np.squeeze(np.array(cp2.data['angles']))\n",
    "    \n",
    "    nada, test_x_cca_space = temp_cca_transformer.transform(test_x, test_x)\n",
    "    \n",
    "    temp_x = temp_cca_transformer.inverse_transform(test_x_cca_space)\n",
    "    \n",
    "    temp_x_format, test_y_format = format_data(temp_x, test_y)\n",
    "    predic = test_wiener_filter(temp_x_format, day0_decoder)\n",
    "    \n",
    "    cca_decoder_scores.append(vaf(test_y_format[:,1], predic[:,1]))"
   ]
  },
  {
   "cell_type": "code",
   "execution_count": 8,
   "id": "01336e6d-3a6f-42d8-8272-d1efb026706a",
   "metadata": {},
   "outputs": [
    {
     "name": "stdout",
     "output_type": "stream",
     "text": [
      "love1\n",
      "(12050,)\n",
      "love1\n",
      "(12023,)\n",
      "should be good to align\n",
      "(8101, 11)\n",
      "(8101, 5)\n",
      "(8101, 21)\n",
      "(8101, 5)\n"
     ]
    }
   ],
   "source": [
    "temp_cca = CCAProcessor(cp1, temp_cp2)"
   ]
  },
  {
   "cell_type": "code",
   "execution_count": 9,
   "id": "4fb28724-8f37-4ca3-8c07-77bf80fe72e7",
   "metadata": {},
   "outputs": [
    {
     "data": {
      "text/plain": [
       "[-0.38, -0.02, 0.11, 0.34, 0.14]"
      ]
     },
     "execution_count": 9,
     "metadata": {},
     "output_type": "execute_result"
    }
   ],
   "source": [
    "cca_decoder_scores"
   ]
  },
  {
   "cell_type": "markdown",
   "id": "8af66572-df24-4048-b460-00fbb083c696",
   "metadata": {},
   "source": [
    "# regression fit\n",
    "1) We subsample day-n data, fit PCA transformation, and then transform it\n",
    "2) We then transform it using CCA transformation corresponding to same subsample we got in the CCA part. \n",
    "3) We scale it. #TODO try using day0 scale to transform it\n",
    "4) We feed this subsampled, low-d, CCA-transformed day-n data into our regression decoder. It spits out a new decoder.\n",
    "5) We take entire Day-N data, transform it with both PCA/CCA corresponding to subsample, scale it, and then decode using our new decoder"
   ]
  },
  {
   "cell_type": "code",
   "execution_count": 10,
   "id": "c8a8afdf-80c9-44d4-bbba-93b4664083c6",
   "metadata": {},
   "outputs": [
    {
     "name": "stdout",
     "output_type": "stream",
     "text": [
      "initial_scoring is : -0.08\n",
      "new_scoring is: 0.67\n",
      "dim0 corr is -0.5\n",
      "dim1 corr is 0.03\n",
      "dim2 corr is 0.22\n",
      "initial_scoring is : 0.06\n",
      "new_scoring is: 0.81\n",
      "dim0 corr is 0.45\n",
      "dim1 corr is -0.55\n",
      "dim2 corr is -0.22\n",
      "initial_scoring is : 0.19\n",
      "new_scoring is: 0.52\n",
      "dim0 corr is -0.63\n",
      "dim1 corr is 0.44\n",
      "dim2 corr is 0.08\n",
      "initial_scoring is : 0.35\n",
      "new_scoring is: 0.57\n",
      "dim0 corr is -0.36\n",
      "dim1 corr is 0.1\n",
      "dim2 corr is -0.09\n",
      "initial_scoring is : 0.2\n",
      "new_scoring is: 0.6\n",
      "dim0 corr is -0.35\n",
      "dim1 corr is 0.4\n",
      "dim2 corr is -0.56\n"
     ]
    }
   ],
   "source": [
    "r_scores = []\n",
    "r_predic=[]\n",
    "\n",
    "for i in range(len(subsample_list)):\n",
    "    #subsample day-n unprocessed data\n",
    "    sub_x, sub_y = cp2.subsample(percent = subsample_list[i])\n",
    "    \n",
    "    #apply PCA to subsampled data\n",
    "    sub_x_pca = np.squeeze(cp2.apply_PCA(dims=lowest_num_dimensions, X=sub_x))\n",
    "    #transform PCA subsample to day-0 shape\n",
    "    nada, sub_x_cca_space = cca_transformers[i].transform(sub_x_pca, sub_x_pca)\n",
    "    temp_x = cca_transformers[i].inverse_transform(sub_x_cca_space)\n",
    "    #scale transformed data \n",
    "    scaler = StandardScaler()\n",
    "    temp_x_scale = scaler.fit_transform(temp_x)\n",
    "    \n",
    "    temp_x_format, temp_y_format = format_data(temp_x_scale, sub_y[0])\n",
    "    wpost, nada = ridge_fit(b0=day0_decoder_scale, x_format = temp_x_format, y_format = temp_y_format, my_alpha=100.0)\n",
    "    \n",
    "    \n",
    "    ###now lets test on full dataset\n",
    "    test_x = np.squeeze(np.array(cp2.apply_PCA(dims=lowest_num_dimensions, transformer = cp2.pca_object)))\n",
    "    test_y = np.squeeze(np.array(cp2.data['angles']))\n",
    "    \n",
    "    nada, test_xx = temp_cca.apply_CCA(cp2_x = test_x, transformer = cca_transformers[i])\n",
    "    test_xx_scale = scaler.transform(test_xx)\n",
    "    test_xx_scale_format, nada = format_data(test_xx_scale, test_y)\n",
    "    temp_y = test_wiener_filter(test_xx_scale_format, wpost)\n",
    "    \n",
    "    r_predic.append(temp_y)  \n",
    "    predic = vaf(test_y_format[:,1], temp_y[:,1])\n",
    "    \n",
    " \n",
    "    r_scores.append(predic)"
   ]
  },
  {
   "cell_type": "code",
   "execution_count": 14,
   "id": "f2f36073-6a75-49f7-bec8-98828e83a8a9",
   "metadata": {},
   "outputs": [
    {
     "data": {
      "application/vnd.jupyter.widget-view+json": {
       "model_id": "73e8afae50864529b02e32440a263efb",
       "version_major": 2,
       "version_minor": 0
      },
      "text/html": [
       "\n",
       "            <div style=\"display: inline-block;\">\n",
       "                <div class=\"jupyter-widgets widget-label\" style=\"text-align: center;\">\n",
       "                    Figure\n",
       "                </div>\n",
       "                <img src='data:image/png;base64,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' width=640.0/>\n",
       "            </div>\n",
       "        "
      ],
      "text/plain": [
       "Canvas(toolbar=Toolbar(toolitems=[('Home', 'Reset original view', 'home', 'home'), ('Back', 'Back to previous …"
      ]
     },
     "metadata": {},
     "output_type": "display_data"
    }
   ],
   "source": [
    "%matplotlib widget\n",
    "%matplotlib widget\n",
    "\n",
    "plot_dict = {}\n",
    "plot_dict['fixed_decoder_scores'] = fixed_decoder_scores\n",
    "plot_dict['pca_decoder_scores'] = pca_decoder_scores\n",
    "plot_dict['cca_decoder_scores'] = cca_decoder_scores\n",
    "plot_dict['preloaded_decoder_scores'] = r_scores\n",
    "\n",
    "index = number_of_gaits\n",
    "\n",
    "df = pd.DataFrame(data=plot_dict, index=index)\n",
    "\n",
    "my_colors = list(islice(cycle(['tab:red', 'tab:blue', 'tab:green', 'tab:orange', 'k']), None, len(df)))\n",
    "\n",
    "  \n",
    "# plot grouped bar chart\n",
    "ax = df.plot.bar(rot=15, color=my_colors)\n",
    "ax.set_ylim(bottom=-1, top=1)\n",
    "ax.set_title('Training various decoders, trying on Day-N data')\n",
    "ax.set_ylabel('vaf')\n",
    "ax.set_xlabel('number of gait cycles')\n",
    "ax.legend(loc='lower right')\n",
    "for container in ax.containers:\n",
    "    diya = ax.bar_label(container)"
   ]
  },
  {
   "cell_type": "code",
   "execution_count": 12,
   "id": "93e57165-3d3a-4c11-9ae2-5a61e65ea668",
   "metadata": {},
   "outputs": [],
   "source": [
    "fig0 = plt.figure()\n",
    "ax0 = fig0.add_subplot(211)\n",
    "ts = np.arange(0, test_y_format.shape[0]/50, 1/50)\n",
    "\n",
    "num =0 \n",
    "\n",
    "legend1=['actual', 'pca_predic']\n",
    "legend2=['actual','r_predic']\n",
    "\n",
    "\n",
    "ax0.plot(ts, test_y_format[:,1])\n",
    "ax0.plot(ts, pca_predic[num][:,1])\n",
    "ax0.legend(legend1, loc='lower right')\n",
    "\n",
    "ax01 = fig0.add_subplot(212, sharex=ax0)\n",
    "ax01.plot(ts, test_y_format[:,1])\n",
    "ax01.plot(ts, r_predic[num][:,1])\n",
    "ax01.legend(legend2, loc='lower right')"
   ]
  },
  {
   "cell_type": "code",
   "execution_count": 13,
   "id": "6adc6f60-38d8-4acd-bc42-f992471d9709",
   "metadata": {},
   "outputs": [
    {
     "data": {
      "text/plain": [
       "<matplotlib.legend.Legend at 0x7f7c62420ef0>"
      ]
     },
     "execution_count": 13,
     "metadata": {},
     "output_type": "execute_result"
    },
    {
     "data": {
      "application/vnd.jupyter.widget-view+json": {
       "model_id": "7d66e7a41eb5474cb35ff4684b192d28",
       "version_major": 2,
       "version_minor": 0
      },
      "text/html": [
       "\n",
       "            <div style=\"display: inline-block;\">\n",
       "                <div class=\"jupyter-widgets widget-label\" style=\"text-align: center;\">\n",
       "                    Figure\n",
       "                </div>\n",
       "                <img src='data:image/png;base64,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' width=640.0/>\n",
       "            </div>\n",
       "        "
      ],
      "text/plain": [
       "Canvas(toolbar=Toolbar(toolitems=[('Home', 'Reset original view', 'home', 'home'), ('Back', 'Back to previous …"
      ]
     },
     "metadata": {},
     "output_type": "display_data"
    }
   ],
   "source": [
    "fig1 = plt.figure()\n",
    "ax1= fig1.add_subplot(111)\n",
    "x = subsample_list\n",
    "ax1.set_ylim(bottom=-1, top=1)\n",
    "ax1.scatter(number_of_gaits, pca_decoder_scores)\n",
    "ax1.plot(number_of_gaits, pca_decoder_scores)\n",
    "ax1.scatter(number_of_gaits, r_scores)\n",
    "ax1.plot(number_of_gaits, r_scores)\n",
    "\n",
    "legend11 = ['PCA decoder', 'preloaded decoder']\n",
    "\n",
    "ax1.set_xlim(0,100)\n",
    "ax1.set_xlabel('number of gait cycles')\n",
    "ax1.set_ylabel('vaf')\n",
    "ax1.legend(legend11, loc='lower right')"
   ]
  },
  {
   "cell_type": "markdown",
   "id": "97f62db9-dc86-49f0-a902-54a4779c1f0f",
   "metadata": {},
   "source": [
    "# notes\n",
    "\n",
    "cp1_path = '/home/diya/Documents/rat-fes/data/filipe_data/N5/N5_171016_No Obstacles_s.mat'\n",
    "cp2_path = '/home/diya/Documents/rat-fes/data/filipe_data/N6/N6_171204_No Obstacles_s.mat'\n",
    "\n",
    "with these two, regression is good vaf score but in practicality something seems off!\n",
    "\n"
   ]
  },
  {
   "cell_type": "markdown",
   "id": "e09e1ae2-4e5e-4360-a6f8-bbc9ac656fa2",
   "metadata": {},
   "source": [
    "# paths\n",
    "\n",
    "N5 \n",
    "cp1_path = '/home/diya/Documents/rat-fes/data/filipe_data/N5/N5_170929_No Obstacles_s.mat'\n",
    "cp2_path = '/home/diya/Documents/rat-fes/data/filipe_data/N5/N5_171001_No Obstacles_s.mat'\n",
    "'N5_171016_No Obstacles_s.mat'\n",
    "'N5_171130_No Obstacles_s.mat'\n",
    "\n",
    "n6\n",
    "'N6_171026_No Obstacles_s.mat'\n",
    "'N6_171204_No Obstacles_s.mat'\n",
    "'N6_171211_No Obstacles_s.mat'\n",
    "\n",
    "n9\n",
    "'N9_171121_No Obstacles_s.mat'  'N9_171204_No Obstacles_s.mat'  'N9_171211_No Obstacles_s.mat'  'N9_171214_No Obstacles_s.mat"
   ]
  },
  {
   "cell_type": "code",
   "execution_count": null,
   "id": "363e9213-8c74-4409-be88-b021add720e7",
   "metadata": {},
   "outputs": [],
   "source": []
  }
 ],
 "metadata": {
  "kernelspec": {
   "display_name": "Python 3",
   "language": "python",
   "name": "python3"
  },
  "language_info": {
   "codemirror_mode": {
    "name": "ipython",
    "version": 3
   },
   "file_extension": ".py",
   "mimetype": "text/x-python",
   "name": "python",
   "nbconvert_exporter": "python",
   "pygments_lexer": "ipython3",
   "version": "3.7.0"
  }
 },
 "nbformat": 4,
 "nbformat_minor": 5
}
