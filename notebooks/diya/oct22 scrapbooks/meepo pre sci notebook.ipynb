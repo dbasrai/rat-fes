{
 "cells": [
  {
   "cell_type": "markdown",
   "id": "6924e815-2cb3-4a24-9ad3-02a00e6b8064",
   "metadata": {},
   "source": [
    "# regression decoder test (~10/6/22) (works for our data!)\n",
    "this compares a fixed decoder, pca decoder, cca transformation (w/ day0 decoder), and a regression decoder on day-N data. the latter two use a day-0 data as a prior start. "
   ]
  },
  {
   "cell_type": "code",
   "execution_count": 1,
   "id": "91b0b31b-3dfd-46ff-be6d-334392b0d25f",
   "metadata": {},
   "outputs": [],
   "source": [
    "%matplotlib widget\n",
    "%load_ext autoreload\n",
    "%autoreload 2\n",
    "from src.folder_handler import *\n",
    "from src.cort_processor import *\n",
    "from src.cca_processor import *\n",
    "from src.tdt_support import *\n",
    "from src.plotter import *\n",
    "from src.decoders import *\n",
    "from src.utils import *\n",
    "import pickle\n",
    "import scipy as sio\n",
    "import numpy as np\n",
    "import matplotlib.pyplot as plt\n",
    "from  matplotlib.colors import LinearSegmentedColormap\n",
    "from src.wiener_filter import *\n",
    "from matplotlib.pyplot import cm\n",
    "from sklearn.cross_decomposition import CCA\n",
    "from sklearn.preprocessing import StandardScaler\n",
    "from sklearn.linear_model import Ridge\n",
    "import os\n",
    "import copy"
   ]
  },
  {
   "cell_type": "markdown",
   "id": "3f542830-d6b4-4527-94f2-540f104a8e0a",
   "metadata": {},
   "source": [
    "# load 919 and 923, both PRE-SCI"
   ]
  },
  {
   "cell_type": "code",
   "execution_count": 2,
   "id": "e228e749-f9cf-427b-b360-cb7a3427eb72",
   "metadata": {},
   "outputs": [],
   "source": [
    "with open('/home/diya/Documents/rat-fes/data/pickles/3-meepo919__session.pkl', 'rb') as inp: #YOUR PATH HERE\n",
    "    cp1 = pickle.load(inp)\n",
    "    \n",
    "with open('/home/diya/Documents/rat-fes/data/pickles/3-meepo_regular_923__session.pkl', 'rb') as inp: #YOUR PATH HERE\n",
    "    cp2 = pickle.load(inp)"
   ]
  },
  {
   "cell_type": "code",
   "execution_count": 3,
   "id": "73984e1a-c1e8-4453-a834-627a1c9cb395",
   "metadata": {},
   "outputs": [
    {
     "name": "stdout",
     "output_type": "stream",
     "text": [
      "num_samples:[602, 1204, 1807, 2409, 6024, 12048]\n"
     ]
    }
   ],
   "source": [
    "#subsampling list, percent of total data\n",
    "subsample_list = [.05, .1, .15, .2, .5, 1.0]\n",
    "nummy = np.vstack(cp2.data['rates']).shape[0]\n",
    "newlist = [int(sub * nummy) for sub in subsample_list]\n",
    "\n",
    "#dimensions=10\n",
    "#get day1 decoder weights, scaled + unscaled versions\n",
    "\n",
    "angle_num=6\n",
    "\n",
    "\n",
    "print(f'num_samples:{newlist}')"
   ]
  },
  {
   "cell_type": "markdown",
   "id": "bb65e6ce-67db-4a47-9007-02f242993380",
   "metadata": {},
   "source": [
    "# just decode using wiener filter"
   ]
  },
  {
   "cell_type": "code",
   "execution_count": 4,
   "id": "35921f60-5e9c-43a2-8138-7d12b7b1fe2a",
   "metadata": {},
   "outputs": [
    {
     "name": "stdout",
     "output_type": "stream",
     "text": [
      "[0.19  0.352 0.088 0.322 0.211 0.024 0.198]\n",
      "[0.15  0.397 0.074 0.427 0.34  0.107 0.347]\n"
     ]
    }
   ],
   "source": [
    "nada, vaffy, nada, nada = cp1.decode_angles()\n",
    "print(np.average(vaffy, 1))\n",
    "nada, vaffy, nada, nada = cp2.decode_angles()\n",
    "print(np.average(vaffy, 1))\n"
   ]
  },
  {
   "cell_type": "code",
   "execution_count": 5,
   "id": "4db8a69b-ddba-4bfb-abc9-c1d00a421f67",
   "metadata": {},
   "outputs": [
    {
     "name": "stdout",
     "output_type": "stream",
     "text": [
      "[0.19  0.352 0.088 0.322 0.211 0.024 0.198]\n",
      "[0.19  0.352 0.088 0.322 0.211 0.024 0.198]\n"
     ]
    }
   ],
   "source": [
    "day0_decoder, nada, naday, nadax = cp1.decode_angles()\n",
    "#lowest_num_dimensions = cp1.num_components\n",
    "print(np.average(nada, 1))\n",
    "\n",
    "#X_tempy =cp1.apply_PCA(dimensions)\n",
    "X_scale = cp1.apply_scaler(X=cp1.data['rates'])\n",
    "day0_decoder_scale, nada, naday, nadax = cp1.decode_angles(X=X_scale)\n",
    "\n",
    "print(np.average(nada, 1))"
   ]
  },
  {
   "cell_type": "code",
   "execution_count": 6,
   "id": "bfe11ef2-300b-4427-a875-75303352ae1b",
   "metadata": {},
   "outputs": [
    {
     "name": "stdout",
     "output_type": "stream",
     "text": [
      "[0.26, 0.26, 0.26, 0.26, 0.26, 0.26]\n",
      "[-1.42, 0.11, 0.23, 0.27, 0.34, 0.39]\n"
     ]
    }
   ],
   "source": [
    "fixed_decoder_scores = []\n",
    "wiener_scores = []\n",
    "wiener_predic = []\n",
    "number_of_gaits=[]\n",
    "for i in range(len(subsample_list)):\n",
    "    sub_x, sub_y = cp2.subsample(percent = subsample_list[i])\n",
    "    #train PCA decoder \n",
    "    temp_h, nada, nadax, naday = cp2.decode_angles(X=sub_x, Y=sub_y)\n",
    "    \n",
    "    temp_gaits, nada = cp2.get_gait_indices(Y=sub_y)\n",
    "    number_of_gaits.append(temp_gaits[0].size - 1)\n",
    "    \n",
    "    test_x = cp2.data['rates']\n",
    "    test_y = cp2.data['angles']\n",
    "    \n",
    "    test_x_format, test_y_format = cp2.stitch_and_format(test_x, test_y)\n",
    "    \n",
    "    temp_y = test_wiener_filter(test_x_format, day0_decoder)\n",
    "    fixed_decoder_scores.append(vaf(test_y_format[:,angle_num], temp_y[:,angle_num]))\n",
    "    \n",
    "    temp_y = test_wiener_filter(test_x_format, temp_h)\n",
    "    wiener_scores.append(vaf(test_y_format[:,angle_num], temp_y[:,angle_num]))\n",
    "    \n",
    "    wiener_predic.append(temp_y)\n",
    "\n",
    "print(fixed_decoder_scores)\n",
    "print(wiener_scores)"
   ]
  },
  {
   "cell_type": "markdown",
   "id": "f4a46827-e9ca-4633-be4f-a90cca03a66b",
   "metadata": {},
   "source": [
    "# just CCA, and then day0 decoder"
   ]
  },
  {
   "cell_type": "code",
   "execution_count": 13,
   "id": "1dbe4021-9647-4c19-b665-1743f8eac913",
   "metadata": {},
   "outputs": [
    {
     "name": "stdout",
     "output_type": "stream",
     "text": [
      "love1\n",
      "(6124,)\n",
      "(6004,)\n",
      "love1\n",
      "(304,)\n",
      "(298,)\n",
      "should be good to align\n",
      "(237, 32)\n",
      "(237, 7)\n",
      "(237, 32)\n",
      "(237, 7)\n",
      "dim0 corr is 0.69\n",
      "dim1 corr is 0.65\n",
      "dim2 corr is 0.59\n",
      "love1\n",
      "(6124,)\n",
      "(6004,)\n",
      "love1\n",
      "(608,)\n",
      "(596,)\n",
      "should be good to align\n",
      "(521, 32)\n",
      "(521, 7)\n",
      "(521, 32)\n",
      "(521, 7)\n",
      "dim0 corr is 0.48\n",
      "dim1 corr is 0.43\n",
      "dim2 corr is 0.42\n",
      "love1\n",
      "(6124,)\n",
      "(6004,)\n",
      "love1\n",
      "(913,)\n",
      "(895,)\n",
      "should be good to align\n",
      "(733, 32)\n",
      "(733, 7)\n",
      "(733, 32)\n",
      "(733, 7)\n",
      "dim0 corr is 0.38\n",
      "dim1 corr is 0.37\n",
      "dim2 corr is 0.34\n",
      "love1\n",
      "(6124,)\n",
      "(6004,)\n",
      "love1\n",
      "(1217,)\n",
      "(1193,)\n",
      "should be good to align\n",
      "(905, 32)\n",
      "(905, 7)\n",
      "(905, 32)\n",
      "(905, 7)\n",
      "dim0 corr is 0.35\n",
      "dim1 corr is 0.32\n",
      "dim2 corr is 0.31\n",
      "love1\n",
      "(6124,)\n",
      "(6004,)\n",
      "love1\n",
      "(3042,)\n",
      "(2982,)\n",
      "should be good to align\n",
      "(2255, 32)\n",
      "(2255, 7)\n",
      "(2255, 32)\n",
      "(2255, 7)\n",
      "dim0 corr is 0.25\n",
      "dim1 corr is 0.22\n",
      "dim2 corr is 0.21\n",
      "love1\n",
      "(6124,)\n",
      "(6004,)\n",
      "love1\n",
      "(6084,)\n",
      "(5964,)\n",
      "should be good to align\n",
      "(3848, 32)\n",
      "(3848, 7)\n",
      "(3848, 32)\n",
      "(3848, 7)\n",
      "dim0 corr is 0.23\n",
      "dim1 corr is 0.19\n",
      "dim2 corr is 0.16\n",
      "[-0.03, 0.06, 0.07, 0.08, 0.19, 0.21]\n"
     ]
    }
   ],
   "source": [
    "cca_decoder_scores = []\n",
    "cca_transformers=[]\n",
    "for i in range(len(subsample_list)):\n",
    "    #make subsampled cp2\n",
    "    temp_cp2 = copy.deepcopy(cp2)\n",
    "    sub_x2, sub_y2 = temp_cp2.subsample(percent = subsample_list[i])\n",
    "    \n",
    "    temp_cp2.data['rates'] = sub_x2\n",
    "    temp_cp2.data['angles'] = sub_y2\n",
    "    \n",
    "    temp_cca = CCAProcessor(cp1, temp_cp2, limbfoot_angle=6)\n",
    "    #temp_x = temp_cca.data['cp2']['proc_x']\n",
    "    \n",
    "    #pca_sub_x1, pca_sub_x2 = temp_cca.apply_PCA(preset_num_components=dimensions)\n",
    "    temp_cca_transformer, nada = temp_cca.apply_CCA()\n",
    "    \n",
    "    cca_transformers.append(temp_cca_transformer)\n",
    "    \n",
    "    test_x = cp2.data['rates']\n",
    "    test_y = cp2.data['angles']\n",
    "    \n",
    "    transformed_test_x = []\n",
    "    \n",
    "    for x_recording in test_x:\n",
    "        nada, test_x_cca_space = temp_cca_transformer.transform(x_recording, x_recording)\n",
    "        temp_x = temp_cca_transformer.inverse_transform(test_x_cca_space)\n",
    "                                                        \n",
    "        transformed_test_x.append(temp_x)\n",
    "        \n",
    "    transformed_test_x_format, test_y_format = cp2.stitch_and_format(transformed_test_x, test_y)    \n",
    "    \n",
    "    predic = test_wiener_filter(transformed_test_x_format, day0_decoder)\n",
    "    \n",
    "    cca_decoder_scores.append(vaf(test_y_format[:,angle_num], predic[:,angle_num]))\n",
    "    \n",
    "print(cca_decoder_scores)"
   ]
  },
  {
   "cell_type": "markdown",
   "id": "980a3135-0d2b-4721-8c6e-4df6a163cb2f",
   "metadata": {},
   "source": [
    "# use alignment decoder"
   ]
  },
  {
   "cell_type": "code",
   "execution_count": 14,
   "id": "1fbe208b-459d-464c-a9b7-cb98aaf54722",
   "metadata": {},
   "outputs": [
    {
     "name": "stdout",
     "output_type": "stream",
     "text": [
      "initial_scoring is : -0.2\n",
      "new_scoring is: 0.42\n",
      "dim0 corr is -0.12\n",
      "dim1 corr is 0.01\n",
      "dim2 corr is 0.06\n",
      "dim0 corr is -0.14\n",
      "dim1 corr is 0.05\n",
      "dim2 corr is 0.07\n",
      "initial_scoring is : 0.02\n",
      "new_scoring is: 0.46\n",
      "dim0 corr is 0.11\n",
      "dim1 corr is 0.3\n",
      "dim2 corr is 0.14\n",
      "dim0 corr is 0.09\n",
      "dim1 corr is 0.28\n",
      "dim2 corr is 0.12\n",
      "initial_scoring is : 0.07\n",
      "new_scoring is: 0.35\n",
      "dim0 corr is 0.17\n",
      "dim1 corr is 0.21\n",
      "dim2 corr is 0.47\n",
      "dim0 corr is 0.16\n",
      "dim1 corr is 0.19\n",
      "dim2 corr is 0.5\n",
      "initial_scoring is : 0.07\n",
      "new_scoring is: 0.37\n",
      "dim0 corr is 0.33\n",
      "dim1 corr is -0.13\n",
      "dim2 corr is 0.38\n",
      "dim0 corr is 0.33\n",
      "dim1 corr is -0.11\n",
      "dim2 corr is 0.37\n",
      "initial_scoring is : 0.17\n",
      "new_scoring is: 0.39\n",
      "dim0 corr is 0.58\n",
      "dim1 corr is 0.48\n",
      "dim2 corr is 0.11\n",
      "dim0 corr is 0.53\n",
      "dim1 corr is 0.49\n",
      "dim2 corr is 0.11\n",
      "initial_scoring is : 0.24\n",
      "new_scoring is: 0.43\n",
      "dim0 corr is 0.71\n",
      "dim1 corr is 0.44\n",
      "dim2 corr is 0.31\n",
      "dim0 corr is 0.68\n",
      "dim1 corr is 0.43\n",
      "dim2 corr is 0.3\n"
     ]
    }
   ],
   "source": [
    "r_scores = []\n",
    "r_predic=[]\n",
    "\n",
    "for i in range(len(subsample_list)):\n",
    "    #subsample day-n unprocessed data\n",
    "    sub_x, sub_y = cp2.subsample(percent = subsample_list[i])\n",
    "    \n",
    "    \n",
    "    transformed_sub_x= []\n",
    "    for x_recording in sub_x:\n",
    "        nada, sub_x_cca_space = cca_transformers[i].transform(x_recording, x_recording)\n",
    "        temp_x = cca_transformers[i].inverse_transform(sub_x_cca_space)\n",
    "        transformed_sub_x.append(temp_x)\n",
    "        \n",
    "    #scale transformed data \n",
    "    scaled_transformed_sub_x = cp2.apply_scaler(X=transformed_sub_x)\n",
    "    scaler = cp2.scaler\n",
    "    x_format, y_format = cp2.stitch_and_format(scaled_transformed_sub_x, sub_y)\n",
    "\n",
    "    wpost, nada = ridge_fit(b0=day0_decoder_scale, x_format=x_format, y_format=y_format, my_alpha=100.0)\n",
    "    \n",
    "    \n",
    "    ###now lets test on full dataset\n",
    "    test_x = cp2.data['rates']\n",
    "    test_y = cp2.data['angles']\n",
    "    test_x_transformed=[]\n",
    "    for x_recording in test_x:\n",
    "    \n",
    "        nada, test_xx = temp_cca.apply_CCA(cp2_x = x_recording, transformer = cca_transformers[i], pca=False)\n",
    "        test_x_transformed.append(scaler.transform(test_xx))\n",
    "        \n",
    "    test_x_format, test_y_format = cp2.stitch_and_format(test_x_transformed, test_y)\n",
    "    \n",
    "    temp_y = test_wiener_filter(test_x_format, wpost)\n",
    "    \n",
    "    r_predic.append(temp_y)  \n",
    "    predic = vaf(test_y_format[:,angle_num], temp_y[:,angle_num])\n",
    "    \n",
    " \n",
    "    r_scores.append(predic)"
   ]
  },
  {
   "cell_type": "code",
   "execution_count": 15,
   "id": "c9d8522c-b788-4667-9284-44f3b7cd764e",
   "metadata": {},
   "outputs": [
    {
     "data": {
      "application/vnd.jupyter.widget-view+json": {
       "model_id": "87875edfbeb14726a08d28331324c844",
       "version_major": 2,
       "version_minor": 0
      },
      "text/html": [
       "\n",
       "            <div style=\"display: inline-block;\">\n",
       "                <div class=\"jupyter-widgets widget-label\" style=\"text-align: center;\">\n",
       "                    Figure\n",
       "                </div>\n",
       "                <img src='data:image/png;base64,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' width=640.0/>\n",
       "            </div>\n",
       "        "
      ],
      "text/plain": [
       "Canvas(toolbar=Toolbar(toolitems=[('Home', 'Reset original view', 'home', 'home'), ('Back', 'Back to previous …"
      ]
     },
     "metadata": {},
     "output_type": "display_data"
    }
   ],
   "source": [
    "%matplotlib widget\n",
    "%matplotlib widget\n",
    "\n",
    "plot_dict = {}\n",
    "plot_dict['fixed_decoder_scores'] = fixed_decoder_scores\n",
    "plot_dict['wiener_scores'] = wiener_scores\n",
    "plot_dict['cca_decoder_scores'] = cca_decoder_scores\n",
    "plot_dict['r_decoder_scores'] = r_scores\n",
    "\n",
    "index = number_of_gaits\n",
    "\n",
    "df = pd.DataFrame(data=plot_dict, index=index)\n",
    "\n",
    "  \n",
    "# plot grouped bar chart\n",
    "ax = df.plot.bar(rot=15)\n",
    "ax.set_ylim(bottom=-1, top=1)\n",
    "ax.set_title('Training various decoders, trying on Day-N data')\n",
    "ax.set_ylabel('r^2')\n",
    "ax.set_xlabel('number of gaits')\n",
    "ax.legend(loc='lower right')\n",
    "for container in ax.containers:\n",
    "    ax.bar_label(container)"
   ]
  },
  {
   "cell_type": "code",
   "execution_count": null,
   "id": "deab74db-59c3-448e-ae95-fedc46fed17d",
   "metadata": {},
   "outputs": [],
   "source": []
  }
 ],
 "metadata": {
  "kernelspec": {
   "display_name": "Python 3",
   "language": "python",
   "name": "python3"
  },
  "language_info": {
   "codemirror_mode": {
    "name": "ipython",
    "version": 3
   },
   "file_extension": ".py",
   "mimetype": "text/x-python",
   "name": "python",
   "nbconvert_exporter": "python",
   "pygments_lexer": "ipython3",
   "version": "3.7.0"
  }
 },
 "nbformat": 4,
 "nbformat_minor": 5
}
