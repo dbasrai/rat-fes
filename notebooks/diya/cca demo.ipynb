{
 "cells": [
  {
   "cell_type": "code",
   "execution_count": 19,
   "id": "e5d497f0-2210-40f9-8b9e-6945a5274ae0",
   "metadata": {},
   "outputs": [
    {
     "name": "stdout",
     "output_type": "stream",
     "text": [
      "The autoreload extension is already loaded. To reload it, use:\n",
      "  %reload_ext autoreload\n"
     ]
    }
   ],
   "source": [
    "%matplotlib widget\n",
    "%load_ext autoreload\n",
    "%autoreload 2\n",
    "\n",
    "from src.folder_handler import *\n",
    "from src.cort_processor import *\n",
    "from src.cca_processor import *\n",
    "from src.tdt_support import *\n",
    "from src.plotter import *\n",
    "from src.decoders import *\n",
    "from src.utils import *\n",
    "import pickle"
   ]
  },
  {
   "cell_type": "markdown",
   "id": "fb47d8f6-545b-4e10-bb45-e6114f98e4f3",
   "metadata": {},
   "source": [
    "# I used filipe data for most of CCA stuff, you load it in a slightly different way. On how to load our data, see demo.ipynb"
   ]
  },
  {
   "cell_type": "code",
   "execution_count": 37,
   "id": "4d55d1a1-1052-4a22-a8e4-7e1df4c7d68a",
   "metadata": {},
   "outputs": [],
   "source": [
    "with open('/home/diya/Documents/rat-fes/data/pickles/N5_171001_proc.pkl', 'rb') as inp:\n",
    "    cp1 = pickle.load(inp)\n",
    "    \n",
    "    \n",
    "with open('/home/diya/Documents/rat-fes/data/pickles/N5_171016_proc.pkl', 'rb') as inp:\n",
    "    cp2 = pickle.load(inp)"
   ]
  },
  {
   "cell_type": "code",
   "execution_count": 40,
   "id": "c98bb084-7926-41c2-b914-f7c615d91828",
   "metadata": {},
   "outputs": [
    {
     "data": {
      "text/plain": [
       "dict_keys(['rates', 'coords', 'angles', 'angle_names', 'which_channels'])"
      ]
     },
     "execution_count": 40,
     "metadata": {},
     "output_type": "execute_result"
    }
   ],
   "source": [
    "cp1.data.keys()"
   ]
  },
  {
   "cell_type": "markdown",
   "id": "72524837-e60d-4fc5-ba18-55f20bda751c",
   "metadata": {},
   "source": [
    "# now lets load a CCAProcessor object, which takes in two CortProcessor objects"
   ]
  },
  {
   "cell_type": "code",
   "execution_count": 51,
   "id": "b86521f4-8e47-4b47-b5fe-7a7d6b51a7ad",
   "metadata": {},
   "outputs": [
    {
     "name": "stdout",
     "output_type": "stream",
     "text": [
      "should be good to align\n",
      "(9268, 21)\n",
      "(9268, 5)\n",
      "(9268, 21)\n",
      "(9268, 5)\n"
     ]
    }
   ],
   "source": [
    "my_cca = CCAProcessor(cp1, cp2)"
   ]
  },
  {
   "cell_type": "code",
   "execution_count": 52,
   "id": "0ddfebc5-eb43-4141-a885-f1f345bd886c",
   "metadata": {},
   "outputs": [
    {
     "data": {
      "text/plain": [
       "dict_keys(['cp1', 'cp2', 'metric_angle', 'data'])"
      ]
     },
     "execution_count": 52,
     "metadata": {},
     "output_type": "execute_result"
    }
   ],
   "source": [
    "my_cca.__dict__.keys()"
   ]
  },
  {
   "cell_type": "code",
   "execution_count": 53,
   "id": "ffe9e256-c649-4dd7-8f42-702666dc9e6e",
   "metadata": {},
   "outputs": [
    {
     "data": {
      "text/plain": [
       "(9268, 21)"
      ]
     },
     "execution_count": 53,
     "metadata": {},
     "output_type": "execute_result"
    }
   ],
   "source": [
    "my_cca.data['cp1']['proc_x'].shape #cp1 processed rates"
   ]
  },
  {
   "cell_type": "code",
   "execution_count": 54,
   "id": "341ce25e-5aa7-42d1-932f-a6117a06714b",
   "metadata": {},
   "outputs": [
    {
     "data": {
      "text/plain": [
       "(9268, 21)"
      ]
     },
     "execution_count": 54,
     "metadata": {},
     "output_type": "execute_result"
    }
   ],
   "source": [
    "my_cca.data['cp2']['proc_x'].shape #cp2 processed rates"
   ]
  },
  {
   "cell_type": "code",
   "execution_count": 55,
   "id": "3c5b5560-4cfa-41f4-831f-d6a0705f5c00",
   "metadata": {},
   "outputs": [
    {
     "data": {
      "text/plain": [
       "(9268, 5)"
      ]
     },
     "execution_count": 55,
     "metadata": {},
     "output_type": "execute_result"
    }
   ],
   "source": [
    "my_cca.data['cp1']['proc_y'].shape #processed kinematics"
   ]
  },
  {
   "cell_type": "code",
   "execution_count": 56,
   "id": "9a35c82b-01f9-4081-9435-b679a694f46c",
   "metadata": {},
   "outputs": [
    {
     "data": {
      "text/plain": [
       "(CCA(n_components=21, scale=False),\n",
       " array([[146.94174333,  92.91065432,  58.2510414 , ...,  19.67810243,\n",
       "          85.1258224 , -30.72026199],\n",
       "        [212.90875003,  42.19631444, 112.75036153, ...,  -3.01882957,\n",
       "          90.91750873,  78.47378118],\n",
       "        [132.08246607,  19.47217065,  29.08713929, ...,   6.26580488,\n",
       "          30.69692676,  20.27423584],\n",
       "        ...,\n",
       "        [154.5108642 ,  40.6889482 ,  92.76047838, ...,   9.38818279,\n",
       "          52.02755856,  67.24880141],\n",
       "        [ -6.64975203,  93.84472586,   9.03061041, ..., -13.98763362,\n",
       "          90.26445879,   8.00332417],\n",
       "        [ 78.55618137,  30.54973369,  90.76894888, ...,   3.50855989,\n",
       "          90.33488672,  30.18104184]]))"
      ]
     },
     "execution_count": 56,
     "metadata": {},
     "output_type": "execute_result"
    }
   ],
   "source": [
    "my_cca.apply_CCA()"
   ]
  },
  {
   "cell_type": "code",
   "execution_count": 59,
   "id": "30cf8be0-9ced-488c-bb48-fc01bd173db9",
   "metadata": {},
   "outputs": [
    {
     "data": {
      "text/plain": [
       "(9268, 21)"
      ]
     },
     "execution_count": 59,
     "metadata": {},
     "output_type": "execute_result"
    }
   ],
   "source": [
    "my_cca.x2_cca.shape #this is cp2 rates transformed into cp1 rate space"
   ]
  },
  {
   "cell_type": "code",
   "execution_count": null,
   "id": "709c92a2-3e03-46ee-94d8-0256cfb9b7a5",
   "metadata": {},
   "outputs": [],
   "source": []
  }
 ],
 "metadata": {
  "kernelspec": {
   "display_name": "Python 3",
   "language": "python",
   "name": "python3"
  },
  "language_info": {
   "codemirror_mode": {
    "name": "ipython",
    "version": 3
   },
   "file_extension": ".py",
   "mimetype": "text/x-python",
   "name": "python",
   "nbconvert_exporter": "python",
   "pygments_lexer": "ipython3",
   "version": "3.7.0"
  }
 },
 "nbformat": 4,
 "nbformat_minor": 5
}
