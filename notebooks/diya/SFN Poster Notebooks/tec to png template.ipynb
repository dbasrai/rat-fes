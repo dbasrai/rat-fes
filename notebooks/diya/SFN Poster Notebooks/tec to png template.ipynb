{
 "cells": [
  {
   "cell_type": "markdown",
   "id": "892cb1f8-436f-408e-9837-11a68a38f2b1",
   "metadata": {},
   "source": [
    "# $\\beta_T = \\underset{\\beta \\in \\mathbb{R}^p}{\\text{argmin}}\n",
    "\\, ||X_T\\beta - y_T||^2 + \\lambda ||\\beta - \\beta_S||^2$"
   ]
  },
  {
   "cell_type": "markdown",
   "id": "79b70a2c-40ba-48bf-9dd8-e502230576dd",
   "metadata": {},
   "source": [
    "$\\mathrm{VAF} = \\left(1 - \\frac{\\mathrm{var}(y_i - \\hat{y}_i)}{\\mathrm{var}(y_i)} \\right) $"
   ]
  },
  {
   "cell_type": "code",
   "execution_count": null,
   "id": "e4b43c8a-0f3b-41b9-86e9-56a9fe648231",
   "metadata": {},
   "outputs": [],
   "source": []
  }
 ],
 "metadata": {
  "kernelspec": {
   "display_name": "Python 3",
   "language": "python",
   "name": "python3"
  },
  "language_info": {
   "codemirror_mode": {
    "name": "ipython",
    "version": 3
   },
   "file_extension": ".py",
   "mimetype": "text/x-python",
   "name": "python",
   "nbconvert_exporter": "python",
   "pygments_lexer": "ipython3",
   "version": "3.7.0"
  }
 },
 "nbformat": 4,
 "nbformat_minor": 5
}
