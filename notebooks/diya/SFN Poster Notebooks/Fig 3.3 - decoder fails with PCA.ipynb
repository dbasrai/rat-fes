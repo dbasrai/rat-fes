{
 "cells": [
  {
   "cell_type": "code",
   "execution_count": 1,
   "id": "7b863a4b-ffc7-4d91-9d1a-e38efbf9a413",
   "metadata": {},
   "outputs": [],
   "source": [
    "%matplotlib widget\n",
    "%load_ext autoreload\n",
    "%autoreload 2\n",
    "from src.folder_handler import *\n",
    "from src.cort_processor import *\n",
    "from src.cca_processor import *\n",
    "from src.tdt_support import *\n",
    "from src.plotter import *\n",
    "from src.decoders import *\n",
    "from src.utils import *\n",
    "import pickle\n",
    "import scipy as sio\n",
    "import numpy as np\n",
    "import matplotlib.pyplot as plt\n",
    "from  matplotlib.colors import LinearSegmentedColormap\n",
    "from src.wiener_filter import *\n",
    "from matplotlib.pyplot import cm\n",
    "from sklearn.cross_decomposition import CCA\n",
    "from sklearn.preprocessing import StandardScaler\n",
    "from sklearn.linear_model import Ridge, LinearRegression\n",
    "import os\n",
    "from itertools import cycle, islice\n",
    "import copy"
   ]
  },
  {
   "cell_type": "markdown",
   "id": "9ab2e392-e045-4e87-b425-f5d83aa9b0ac",
   "metadata": {},
   "source": [
    "# patdump\n",
    "with open('/home/diya/Documents/rat-fes/data/pickles/N5_171001_proc.pkl', 'rb') as inp: #YOUR PATH HERE\n",
    "    cp1=pickle.load(inp)\n",
    "    \n",
    "with open('/home/diya/Documents/rat-fes/data/pickles/N5_171016_proc.pkl', 'rb') as inp: #YOUR PATH HERE\n",
    "    cp2=pickle.load(inp)\n",
    "    \n",
    "with open('/home/diya/Documents/rat-fes/data/pickles/N5_171130_proc.pkl', 'rb') as inp: #YOUR PATH HERE\n",
    "    cp3=pickle.load(inp)\n",
    "    \n",
    "----\n",
    "\n",
    "with open('/home/diya/Documents/rat-fes/data/pickles/N6_171026_proc.pkl', 'rb') as inp: #YOUR PATH HERE\n",
    "    cp1=pickle.load(inp)\n",
    "    \n",
    "with open('/home/diya/Documents/rat-fes/data/pickles/N6_171204_proc.pkl', 'rb') as inp: #YOUR PATH HERE\n",
    "    cp2=pickle.load(inp)\n",
    "    \n",
    "with open('/home/diya/Documents/rat-fes/data/pickles/N6_171211_proc.pkl', 'rb') as inp: #YOUR PATH HERE\n",
    "    cp3=pickle.load(inp)\n",
    "    \n",
    "----\n",
    "\n",
    "with open('/home/diya/Documents/rat-fes/data/pickles/N5_mixed.pkl', 'rb') as inp: #YOUR PATH HERE\n",
    "    cp1 = pickle.load(inp)\n",
    "with open('/home/diya/Documents/rat-fes/data/pickles/N6_mixed.pkl', 'rb') as inp: #YOUR PATH HERE\n",
    "    cp2 = pickle.load(inp)\n",
    "with open('/home/diya/Documents/rat-fes/data/pickles/N9_mixed.pkl', 'rb') as inp: #YOUR PATH HERE\n",
    "    cp3 = pickle.load(inp)\n",
    "    \n",
    "----\n",
    "\n",
    "with open('/home/diya/Documents/rat-fes/data/pickles/N9_171121_proc.pkl', 'rb') as inp: #YOUR PATH HERE\n",
    "    cp1=pickle.load(inp)\n",
    "    \n",
    "with open('/home/diya/Documents/rat-fes/data/pickles/N9_171204_proc.pkl', 'rb') as inp: #YOUR PATH HERE\n",
    "    cp2=pickle.load(inp)\n",
    "    \n",
    "with open('/home/diya/Documents/rat-fes/data/pickles/N9_171211_proc.pkl', 'rb') as inp: #YOUR PATH HERE\n",
    "    cp3=pickle.load(inp)\n"
   ]
  },
  {
   "cell_type": "code",
   "execution_count": 30,
   "id": "0021b3de-cff6-4253-8fca-317e27d00507",
   "metadata": {},
   "outputs": [],
   "source": [
    "with open('/home/diya/Documents/rat-fes/data/pickles/N6_171026_proc.pkl', 'rb') as inp: #YOUR PATH HERE\n",
    "    cp1=pickle.load(inp)\n",
    "    \n",
    "with open('/home/diya/Documents/rat-fes/data/pickles/N6_171204_proc.pkl', 'rb') as inp: #YOUR PATH HERE\n",
    "    cp2=pickle.load(inp)\n",
    "    \n",
    "with open('/home/diya/Documents/rat-fes/data/pickles/N6_171211_proc.pkl', 'rb') as inp: #YOUR PATH HERE\n",
    "    cp3=pickle.load(inp)"
   ]
  },
  {
   "cell_type": "code",
   "execution_count": 31,
   "id": "f2519dae-8a9a-4484-ac1d-6209ae5f3977",
   "metadata": {},
   "outputs": [],
   "source": [
    "cp_list = [cp1, cp2, cp3]"
   ]
  },
  {
   "cell_type": "code",
   "execution_count": 32,
   "id": "0ba5289e-b459-405e-800b-7dea628a97e0",
   "metadata": {},
   "outputs": [
    {
     "name": "stdout",
     "output_type": "stream",
     "text": [
      "0.25899999999999995\n"
     ]
    }
   ],
   "source": [
    "day0_decoder, vaffy, nada, nadax = cp1.decode_angles(X = cp1.apply_PCA(dims=8), metric=1)\n",
    "day0_transformer = cp1.pca_object\n",
    "print(np.average(vaffy, 1)[1])"
   ]
  },
  {
   "cell_type": "code",
   "execution_count": 33,
   "id": "5c8f60e0-2df8-4558-8a43-2a3a7973b80d",
   "metadata": {},
   "outputs": [],
   "source": [
    "fixed_vaf = []\n",
    "same_vaf = []\n",
    "for cp in cp_list:\n",
    "    nada, temp_vaf, nadas, nadax = cp.decode_angles(X=cp.apply_PCA(dims=8), metric=1)\n",
    "    same_vaf.append(np.average(temp_vaf, 1)[1])\n",
    "    temp_x = cp.apply_PCA(dims=8, transformer=day0_transformer)[0]\n",
    "    temp_y = cp.data['angles'][0]\n",
    "    temp_x_format, temp_y_format = format_data(temp_x, temp_y)\n",
    "    nada, temp_vaf, nadas, nadax = decode_kfolds(temp_x_format, temp_y_format, metric=1, preset_h = day0_decoder)\n",
    "    fixed_vaf.append(np.average(temp_vaf, 1)[1])\n",
    "    "
   ]
  },
  {
   "cell_type": "code",
   "execution_count": 34,
   "id": "d83a3a32-768b-4216-8b28-d24a2c4eec87",
   "metadata": {},
   "outputs": [],
   "source": [
    "same_vaf[0] = fixed_vaf[0]"
   ]
  },
  {
   "cell_type": "markdown",
   "id": "fb8c426a-bc6d-4fd1-9953-d28738f4e593",
   "metadata": {},
   "source": [
    "# plot"
   ]
  },
  {
   "cell_type": "code",
   "execution_count": 38,
   "id": "bb6e7ebf-9527-4f17-89f6-06d7020b8c39",
   "metadata": {},
   "outputs": [
    {
     "data": {
      "application/vnd.jupyter.widget-view+json": {
       "model_id": "e15845d10e8d4fc485d09e41a4f0b838",
       "version_major": 2,
       "version_minor": 0
      },
      "text/html": [
       "\n",
       "            <div style=\"display: inline-block;\">\n",
       "                <div class=\"jupyter-widgets widget-label\" style=\"text-align: center;\">\n",
       "                    Figure\n",
       "                </div>\n",
       "                <img src='data:image/png;base64,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' width=500.0/>\n",
       "            </div>\n",
       "        "
      ],
      "text/plain": [
       "Canvas(toolbar=Toolbar(toolitems=[('Home', 'Reset original view', 'home', 'home'), ('Back', 'Back to previous …"
      ]
     },
     "metadata": {},
     "output_type": "display_data"
    }
   ],
   "source": [
    "plt.rcParams['pdf.fonttype'] = 42\n",
    "plt.rcParams['ps.fonttype'] = 42\n",
    "\n",
    "fig = plt.figure()\n",
    "ax = fig.add_subplot(111)\n",
    "ts = ['day 0', 'day 14', 'day 21']\n",
    "ax.plot(ts, same_vaf[:], color='tab:blue')\n",
    "ax.scatter(ts, same_vaf[:], color='tab:blue')\n",
    "ax.plot(ts, fixed_vaf[:], color='tab:pink')\n",
    "ax.scatter(ts, fixed_vaf[:], color='tab:pink')\n",
    "\n",
    "ax.set(xlabel=None)\n",
    "\n",
    "legend = ['retrained decoder', 'day0_decoder']\n",
    "#ax.legend(legend)\n",
    "\n",
    "#ax.axis('off')\n",
    "fig.set_size_inches(5, 5)\n",
    "\n",
    "fig.savefig('/home/diya/Documents/rat-fes/results/sfn_poster/fig3.pdf', dpi=600)"
   ]
  },
  {
   "cell_type": "code",
   "execution_count": null,
   "id": "e438bb95-4f55-47dc-9a6f-270ac5763a2f",
   "metadata": {},
   "outputs": [],
   "source": [
    "    "
   ]
  }
 ],
 "metadata": {
  "kernelspec": {
   "display_name": "Python 3",
   "language": "python",
   "name": "python3"
  },
  "language_info": {
   "codemirror_mode": {
    "name": "ipython",
    "version": 3
   },
   "file_extension": ".py",
   "mimetype": "text/x-python",
   "name": "python",
   "nbconvert_exporter": "python",
   "pygments_lexer": "ipython3",
   "version": "3.7.0"
  }
 },
 "nbformat": 4,
 "nbformat_minor": 5
}
