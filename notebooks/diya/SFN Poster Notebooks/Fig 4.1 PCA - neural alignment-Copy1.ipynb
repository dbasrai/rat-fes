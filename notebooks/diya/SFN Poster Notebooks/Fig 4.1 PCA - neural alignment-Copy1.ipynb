{
 "cells": [
  {
   "cell_type": "code",
   "execution_count": 1,
   "id": "08b1020f-253b-4dc0-b9cc-af39f23d9ec3",
   "metadata": {},
   "outputs": [],
   "source": [
    "%matplotlib widget\n",
    "%load_ext autoreload\n",
    "%autoreload 2\n",
    "from src.folder_handler import *\n",
    "from src.cort_processor import *\n",
    "from src.cca_processor import *\n",
    "from src.tdt_support import *\n",
    "from src.plotter import *\n",
    "from src.decoders import *\n",
    "from src.utils import *\n",
    "import pickle\n",
    "import scipy as sio\n",
    "import numpy as np\n",
    "import matplotlib.pyplot as plt\n",
    "from  matplotlib.colors import LinearSegmentedColormap\n",
    "from src.wiener_filter import *\n",
    "from matplotlib.pyplot import cm\n",
    "from sklearn.cross_decomposition import CCA\n",
    "from sklearn.preprocessing import StandardScaler\n",
    "from sklearn.linear_model import Ridge\n",
    "import os\n",
    "from itertools import cycle, islice\n",
    "\n",
    "import copy"
   ]
  },
  {
   "cell_type": "markdown",
   "id": "67d44daa-e0bf-4e3a-9244-2b9610f7264c",
   "metadata": {},
   "source": [
    "with open('/home/diya/Documents/rat-fes/data/pickles/N5_171001_proc.pkl', 'rb') as inp: #YOUR PATH HERE\n",
    "    cp1=pickle.load(inp)\n",
    "    \n",
    "with open('/home/diya/Documents/rat-fes/data/pickles/N5_171016_proc.pkl', 'rb') as inp: #YOUR PATH HERE\n",
    "    cp2=pickle.load(inp)\n",
    "    \n",
    "with open('/home/diya/Documents/rat-fes/data/pickles/N5_171130_proc.pkl', 'rb') as inp: #YOUR PATH HERE\n",
    "    cp3=pickle.load(inp)\n",
    "    \n",
    "----\n",
    "\n",
    "with open('/home/diya/Documents/rat-fes/data/pickles/N6_171026_proc.pkl', 'rb') as inp: #YOUR PATH HERE\n",
    "    cp1=pickle.load(inp)\n",
    "    \n",
    "with open('/home/diya/Documents/rat-fes/data/pickles/N6_171204_proc.pkl', 'rb') as inp: #YOUR PATH HERE\n",
    "    cp2=pickle.load(inp)\n",
    "    \n",
    "with open('/home/diya/Documents/rat-fes/data/pickles/N6_171211_proc.pkl', 'rb') as inp: #YOUR PATH HERE\n",
    "    cp3=pickle.load(inp)\n",
    "    \n",
    "----\n",
    "\n",
    "with open('/home/diya/Documents/rat-fes/data/pickles/N5_mixed.pkl', 'rb') as inp: #YOUR PATH HERE\n",
    "    cp1 = pickle.load(inp)\n",
    "with open('/home/diya/Documents/rat-fes/data/pickles/N6_mixed.pkl', 'rb') as inp: #YOUR PATH HERE\n",
    "    cp2 = pickle.load(inp)\n",
    "with open('/home/diya/Documents/rat-fes/data/pickles/N9_mixed.pkl', 'rb') as inp: #YOUR PATH HERE\n",
    "    cp3 = pickle.load(inp)\n",
    "    \n",
    "----\n",
    "\n",
    "with open('/home/diya/Documents/rat-fes/data/pickles/N9_171121_proc.pkl', 'rb') as inp: #YOUR PATH HERE\n",
    "    cp1=pickle.load(inp)\n",
    "    \n",
    "with open('/home/diya/Documents/rat-fes/data/pickles/N9_171204_proc.pkl', 'rb') as inp: #YOUR PATH HERE\n",
    "    cp2=pickle.load(inp)\n",
    "    \n",
    "with open('/home/diya/Documents/rat-fes/data/pickles/N9_171211_proc.pkl', 'rb') as inp: #YOUR PATH HERE\n",
    "    cp3=pickle.load(inp)"
   ]
  },
  {
   "cell_type": "code",
   "execution_count": 2,
   "id": "65d19561-8d69-4b54-b557-d36a962c0f41",
   "metadata": {},
   "outputs": [],
   "source": [
    "\n",
    "with open('/home/diya/Documents/rat-fes/data/pickles/N5_mixed.pkl', 'rb') as inp: #YOUR PATH HERE\n",
    "    cp2 = pickle.load(inp)\n",
    "with open('/home/diya/Documents/rat-fes/data/pickles/N6_mixed.pkl', 'rb') as inp: #YOUR PATH HERE\n",
    "    cp1 = pickle.load(inp)\n",
    "with open('/home/diya/Documents/rat-fes/data/pickles/N9_mixed.pkl', 'rb') as inp: #YOUR PATH HERE\n",
    "    cp3 = pickle.load(inp)"
   ]
  },
  {
   "cell_type": "code",
   "execution_count": 3,
   "id": "022cde45-379c-4689-8894-218ee972cfbf",
   "metadata": {},
   "outputs": [],
   "source": [
    "dimensions=8"
   ]
  },
  {
   "cell_type": "code",
   "execution_count": 4,
   "id": "3f7c19b7-0d0c-4eaf-bbd4-492b59e23af8",
   "metadata": {},
   "outputs": [
    {
     "name": "stdout",
     "output_type": "stream",
     "text": [
      "0.605\n"
     ]
    }
   ],
   "source": [
    "day0_decoder, vaffy, test_x, test_y = cp1.decode_angles(X=cp1.apply_PCA(dims=dimensions), metric=1)\n",
    "day0_pca_transformer = cp1.pca_object\n",
    "print(np.average(vaffy,1)[1])"
   ]
  },
  {
   "cell_type": "code",
   "execution_count": 5,
   "id": "cda3163c-6f2d-4171-ae37-86c38834dff0",
   "metadata": {},
   "outputs": [
    {
     "name": "stdout",
     "output_type": "stream",
     "text": [
      "should be good to align\n",
      "(7768, 15)\n",
      "(7768, 5)\n",
      "(7768, 15)\n",
      "(7768, 5)\n",
      "should be good to align\n",
      "(6449, 15)\n",
      "(6449, 5)\n",
      "(6449, 15)\n",
      "(6449, 5)\n"
     ]
    }
   ],
   "source": [
    "cca_1 = CCAProcessor(cp1, cp2)\n",
    "cca_2 = CCAProcessor(cp1, cp3)"
   ]
  },
  {
   "cell_type": "code",
   "execution_count": 6,
   "id": "a81c63d2-8904-4fbf-becd-96906a34ca5f",
   "metadata": {},
   "outputs": [],
   "source": [
    "cp_list = [cp2, cp3]\n",
    "cca_list = [cca_1, cca_2]"
   ]
  },
  {
   "cell_type": "code",
   "execution_count": 7,
   "id": "896e9a4a-5ba1-4aac-a377-405cc6744a73",
   "metadata": {},
   "outputs": [],
   "source": [
    "fixed_vaf=[]\n",
    "same_vaf = []\n",
    "for cp in cp_list:\n",
    "    nada, temp_vaf, nadas, nadax = cp.decode_angles(cp.apply_PCA(dims=dimensions), metric=1)\n",
    "    same_vaf.append(np.average(temp_vaf, 1)[1])\n",
    "    temp_x = cp.apply_PCA(dims=dimensions, transformer=day0_pca_transformer)[0]\n",
    "    temp_y = cp.data['angles'][0]\n",
    "    temp_x_format, temp_y_format = format_data(temp_x, temp_y)\n",
    "    nada, temp_vaf, nadas, nadax = decode_kfolds(temp_x_format, temp_y_format, metric=1, preset_h = day0_decoder)\n",
    "    fixed_vaf.append(np.average(temp_vaf, 1)[1])\n"
   ]
  },
  {
   "cell_type": "code",
   "execution_count": 8,
   "id": "a782a649-25a9-4f18-ad58-d0ee0dc1b2d0",
   "metadata": {},
   "outputs": [],
   "source": [
    "cca_vaf = []\n",
    "for idx, cca_obj in enumerate(cca_list):\n",
    "    cp1_x_pca, cp2_x_pca = cca_obj.apply_PCA(preset_num_components=dimensions, day_0_transformer = day0_pca_transformer)\n",
    "    cca_transformer, nada = cca_obj.apply_CCA(cp1_x = cp1_x_pca, cp2_x = cp2_x_pca, preset_num_components=dimensions, pca=True)\n",
    "    test_x = cca_obj.cp2.apply_PCA(transformer=cca_obj.data['cp2']['pca_transformer'])[0]\n",
    "    test_y = cca_obj.cp2.data['angles'][0]\n",
    "    \n",
    "    trans_x = cca_obj.quick_cca(test_x, cca_transformer, scale=False)\n",
    "    \n",
    "    trans_x_format, test_y_format = format_data(trans_x, test_y)\n",
    "    nada, temp_vaf, nads, nadax = decode_kfolds(trans_x_format, test_y_format, metric=1, preset_h=day0_decoder)\n",
    "    cca_vaf.append(np.average(temp_vaf, 1)[1])"
   ]
  },
  {
   "cell_type": "code",
   "execution_count": 9,
   "id": "9b0f5b8c-5790-4062-85eb-7134e22b84bd",
   "metadata": {},
   "outputs": [],
   "source": [
    "cca_vaf = np.round(cca_vaf, 2)"
   ]
  },
  {
   "cell_type": "code",
   "execution_count": 10,
   "id": "03217dea-3458-4726-8bf7-d4aa8837acb3",
   "metadata": {},
   "outputs": [],
   "source": [
    "same_vaf = np.round(same_vaf, 2)"
   ]
  },
  {
   "cell_type": "code",
   "execution_count": 11,
   "id": "05978cb7-f1e2-49e8-8cd6-ad014eeed718",
   "metadata": {},
   "outputs": [],
   "source": [
    "fixed_vaf = np.round(fixed_vaf, 2)"
   ]
  },
  {
   "cell_type": "code",
   "execution_count": 12,
   "id": "9047c612-773b-432a-9eba-5dae3e607291",
   "metadata": {},
   "outputs": [
    {
     "data": {
      "application/vnd.jupyter.widget-view+json": {
       "model_id": "356c0a6ea1104565874fd1e4f8c2a0b1",
       "version_major": 2,
       "version_minor": 0
      },
      "text/html": [
       "\n",
       "            <div style=\"display: inline-block;\">\n",
       "                <div class=\"jupyter-widgets widget-label\" style=\"text-align: center;\">\n",
       "                    Figure\n",
       "                </div>\n",
       "                <img src='data:image/png;base64,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' width=500.0/>\n",
       "            </div>\n",
       "        "
      ],
      "text/plain": [
       "Canvas(toolbar=Toolbar(toolitems=[('Home', 'Reset original view', 'home', 'home'), ('Back', 'Back to previous …"
      ]
     },
     "metadata": {},
     "output_type": "display_data"
    }
   ],
   "source": [
    "%matplotlib widget\n",
    "%matplotlib widget\n",
    "\n",
    "plt.rcParams[\"figure.figsize\"] = (5, 2)\n",
    "plt.rcParams['pdf.fonttype'] = 42\n",
    "plt.rcParams['ps.fonttype'] = 42\n",
    "\n",
    "\n",
    "plot_dict = {}\n",
    "plot_dict['old decoder'] = fixed_vaf\n",
    "plot_dict['retrained decoder'] = same_vaf\n",
    "plot_dict['old decoder on aligned data'] = cca_vaf\n",
    "\n",
    "#index = ['15 days later', '22 days later']\n",
    "df = pd.DataFrame(data=plot_dict)\n",
    "\n",
    "#my_colors = list(islice(cycle(['tab:red', 'tab:blue', 'tab:green','k']), None, len(df)))\n",
    "\n",
    "  \n",
    "# plot grouped bar chart\n",
    "ax = df.plot.bar(rot=15, color=['tab:pink', 'tab:blue', 'tab:green'])\n",
    "ax.set_ylim(bottom=-.5, top=1)\n",
    "#ax.set_title('Training various decoders, trying on Day-N data')\n",
    "#ax.set_ylabel('vaf')\n",
    "#ax.set_xlabel('number of gait cycles')\n",
    "ax.legend().remove()\n",
    "for container in ax.containers:\n",
    "    diya = ax.bar_label(container)\n",
    "plt.savefig('/home/diya/Documents/rat-fes/results/sfn_poster/n6across_fig4.pdf', dpi=600)"
   ]
  },
  {
   "cell_type": "code",
   "execution_count": 13,
   "id": "53294618-727d-4ed8-b0f7-462519ba818e",
   "metadata": {},
   "outputs": [
    {
     "data": {
      "text/plain": [
       "array([-0.75, -0.59])"
      ]
     },
     "execution_count": 13,
     "metadata": {},
     "output_type": "execute_result"
    }
   ],
   "source": [
    "fixed_vaf"
   ]
  },
  {
   "cell_type": "code",
   "execution_count": null,
   "id": "7ae71f3e-98b9-46b9-8520-04a8076ff7ee",
   "metadata": {},
   "outputs": [],
   "source": []
  }
 ],
 "metadata": {
  "kernelspec": {
   "display_name": "Python 3",
   "language": "python",
   "name": "python3"
  },
  "language_info": {
   "codemirror_mode": {
    "name": "ipython",
    "version": 3
   },
   "file_extension": ".py",
   "mimetype": "text/x-python",
   "name": "python",
   "nbconvert_exporter": "python",
   "pygments_lexer": "ipython3",
   "version": "3.7.0"
  }
 },
 "nbformat": 4,
 "nbformat_minor": 5
}
