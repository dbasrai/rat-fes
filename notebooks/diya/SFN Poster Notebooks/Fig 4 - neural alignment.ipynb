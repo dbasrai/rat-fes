{
 "cells": [
  {
   "cell_type": "code",
   "execution_count": 1,
   "id": "08b1020f-253b-4dc0-b9cc-af39f23d9ec3",
   "metadata": {},
   "outputs": [],
   "source": [
    "%matplotlib widget\n",
    "%load_ext autoreload\n",
    "%autoreload 2\n",
    "from src.folder_handler import *\n",
    "from src.cort_processor import *\n",
    "from src.cca_processor import *\n",
    "from src.tdt_support import *\n",
    "from src.plotter import *\n",
    "from src.decoders import *\n",
    "from src.utils import *\n",
    "import pickle\n",
    "import scipy as sio\n",
    "import numpy as np\n",
    "import matplotlib.pyplot as plt\n",
    "from  matplotlib.colors import LinearSegmentedColormap\n",
    "from src.wiener_filter import *\n",
    "from matplotlib.pyplot import cm\n",
    "from sklearn.cross_decomposition import CCA\n",
    "from sklearn.preprocessing import StandardScaler\n",
    "from sklearn.linear_model import Ridge, LinearRegression\n",
    "import os\n",
    "from itertools import cycle, islice\n",
    "import copy"
   ]
  },
  {
   "cell_type": "markdown",
   "id": "67d44daa-e0bf-4e3a-9244-2b9610f7264c",
   "metadata": {},
   "source": [
    "with open('/home/diya/Documents/rat-fes/data/pickles/N5_171001_proc.pkl', 'rb') as inp: #YOUR PATH HERE\n",
    "    cp1=pickle.load(inp)\n",
    "    \n",
    "with open('/home/diya/Documents/rat-fes/data/pickles/N5_171016_proc.pkl', 'rb') as inp: #YOUR PATH HERE\n",
    "    cp2=pickle.load(inp)\n",
    "    \n",
    "with open('/home/diya/Documents/rat-fes/data/pickles/N5_171130_proc.pkl', 'rb') as inp: #YOUR PATH HERE\n",
    "    cp3=pickle.load(inp)\n",
    "    \n",
    "----\n",
    "\n",
    "with open('/home/diya/Documents/rat-fes/data/pickles/N6_171026_proc.pkl', 'rb') as inp: #YOUR PATH HERE\n",
    "    cp1=pickle.load(inp)\n",
    "    \n",
    "with open('/home/diya/Documents/rat-fes/data/pickles/N6_171204_proc.pkl', 'rb') as inp: #YOUR PATH HERE\n",
    "    cp2=pickle.load(inp)\n",
    "    \n",
    "with open('/home/diya/Documents/rat-fes/data/pickles/N6_171211_proc.pkl', 'rb') as inp: #YOUR PATH HERE\n",
    "    cp3=pickle.load(inp)\n",
    "    \n",
    "----\n",
    "\n",
    "with open('/home/diya/Documents/rat-fes/data/pickles/N5_mixed.pkl', 'rb') as inp: #YOUR PATH HERE\n",
    "    cp1 = pickle.load(inp)\n",
    "with open('/home/diya/Documents/rat-fes/data/pickles/N6_mixed.pkl', 'rb') as inp: #YOUR PATH HERE\n",
    "    cp3 = pickle.load(inp)\n",
    "with open('/home/diya/Documents/rat-fes/data/pickles/N9_mixed.pkl', 'rb') as inp: #YOUR PATH HERE\n",
    "    cp2 = pickle.load(inp)\n",
    "    "
   ]
  },
  {
   "cell_type": "code",
   "execution_count": 39,
   "id": "65d19561-8d69-4b54-b557-d36a962c0f41",
   "metadata": {},
   "outputs": [],
   "source": [
    "with open('/home/diya/Documents/rat-fes/data/pickles/N6_171026_proc.pkl', 'rb') as inp: #YOUR PATH HERE\n",
    "    cp1=pickle.load(inp)\n",
    "    \n",
    "with open('/home/diya/Documents/rat-fes/data/pickles/N6_171204_proc.pkl', 'rb') as inp: #YOUR PATH HERE\n",
    "    cp2=pickle.load(inp)\n",
    "    \n",
    "with open('/home/diya/Documents/rat-fes/data/pickles/N6_171211_proc.pkl', 'rb') as inp: #YOUR PATH HERE\n",
    "    cp3=pickle.load(inp)"
   ]
  },
  {
   "cell_type": "code",
   "execution_count": 40,
   "id": "3f7c19b7-0d0c-4eaf-bbd4-492b59e23af8",
   "metadata": {},
   "outputs": [
    {
     "name": "stdout",
     "output_type": "stream",
     "text": [
      "0.24899999999999997\n"
     ]
    }
   ],
   "source": [
    "day0_decoder, vaffy, test_x, test_y = cp1.decode_angles(metric=1)\n",
    "print(np.average(vaffy,1)[1])"
   ]
  },
  {
   "cell_type": "code",
   "execution_count": 41,
   "id": "cda3163c-6f2d-4171-ae37-86c38834dff0",
   "metadata": {},
   "outputs": [
    {
     "name": "stdout",
     "output_type": "stream",
     "text": [
      "(11951,)\n",
      "(12023,)\n",
      "should be good to align\n",
      "(7249, 18)\n",
      "(7249, 5)\n",
      "(7249, 18)\n",
      "(7249, 5)\n",
      "(11951,)\n",
      "(12031,)\n",
      "should be good to align\n",
      "(8085, 18)\n",
      "(8085, 5)\n",
      "(8085, 18)\n",
      "(8085, 5)\n"
     ]
    }
   ],
   "source": [
    "cca_1 = CCAProcessor(cp1, cp2)\n",
    "cca_2 = CCAProcessor(cp1, cp3)"
   ]
  },
  {
   "cell_type": "code",
   "execution_count": 42,
   "id": "a81c63d2-8904-4fbf-becd-96906a34ca5f",
   "metadata": {},
   "outputs": [],
   "source": [
    "cp_list = [cp1, cp2, cp3]\n",
    "cca_list = [cca_1, cca_2]"
   ]
  },
  {
   "cell_type": "code",
   "execution_count": 43,
   "id": "896e9a4a-5ba1-4aac-a377-405cc6744a73",
   "metadata": {},
   "outputs": [],
   "source": [
    "fixed_vaf=[]\n",
    "same_vaf = []\n",
    "for cp in cp_list:\n",
    "    nada, temp_vaf, nadas, nadax = cp.decode_angles(metric=1)\n",
    "    same_vaf.append(np.average(temp_vaf, 1)[1])\n",
    "    temp_x = cp.data['rates'][0]\n",
    "    temp_y = cp.data['angles'][0]\n",
    "    temp_x_format, temp_y_format = format_data(temp_x, temp_y)\n",
    "    nada, temp_vaf, nadas, nadax = decode_kfolds(temp_x_format, temp_y_format, metric=1, preset_h = day0_decoder)\n",
    "    fixed_vaf.append(np.average(temp_vaf, 1)[1])\n"
   ]
  },
  {
   "cell_type": "code",
   "execution_count": 44,
   "id": "a782a649-25a9-4f18-ad58-d0ee0dc1b2d0",
   "metadata": {},
   "outputs": [
    {
     "name": "stdout",
     "output_type": "stream",
     "text": [
      "dim0 corr is 0.55\n",
      "dim1 corr is 0.37\n",
      "dim2 corr is 0.32\n",
      "dim0 corr is 0.58\n",
      "dim1 corr is 0.44\n",
      "dim2 corr is 0.26\n"
     ]
    }
   ],
   "source": [
    "cca_vaf = []\n",
    "for cca_obj in cca_list:\n",
    "    cca_transformer, nada = cca_obj.apply_CCA(pca=False)\n",
    "    test_x = cca_obj.cp2.data['rates'][0]\n",
    "    test_y = cca_obj.cp2.data['angles'][0]\n",
    "    \n",
    "    trans_x = cca_obj.quick_cca(test_x, cca_transformer, scale=False)\n",
    "    \n",
    "    trans_x_format, test_y_format = format_data(trans_x, test_y)\n",
    "    nada, temp_vaf, nads, nadax = decode_kfolds(trans_x_format, test_y_format, metric=1, preset_h=day0_decoder)\n",
    "    cca_vaf.append(np.average(temp_vaf, 1)[1])"
   ]
  },
  {
   "cell_type": "code",
   "execution_count": 45,
   "id": "03217dea-3458-4726-8bf7-d4aa8837acb3",
   "metadata": {},
   "outputs": [
    {
     "data": {
      "text/plain": [
       "[0.20800000000000002, 0.399]"
      ]
     },
     "execution_count": 45,
     "metadata": {},
     "output_type": "execute_result"
    }
   ],
   "source": [
    "cca_vaf"
   ]
  },
  {
   "cell_type": "code",
   "execution_count": 46,
   "id": "05978cb7-f1e2-49e8-8cd6-ad014eeed718",
   "metadata": {},
   "outputs": [
    {
     "data": {
      "text/plain": [
       "[0.29000000000000004, 0.194, 0.32599999999999996]"
      ]
     },
     "execution_count": 46,
     "metadata": {},
     "output_type": "execute_result"
    }
   ],
   "source": [
    "fixed_vaf"
   ]
  },
  {
   "cell_type": "code",
   "execution_count": 47,
   "id": "908dfdf8-a06e-4e35-99a3-2f69ea4a8d91",
   "metadata": {},
   "outputs": [
    {
     "data": {
      "text/plain": [
       "3"
      ]
     },
     "execution_count": 47,
     "metadata": {},
     "output_type": "execute_result"
    }
   ],
   "source": [
    "len(fixed_vaf)"
   ]
  },
  {
   "cell_type": "code",
   "execution_count": 48,
   "id": "9047c612-773b-432a-9eba-5dae3e607291",
   "metadata": {},
   "outputs": [
    {
     "data": {
      "application/vnd.jupyter.widget-view+json": {
       "model_id": "eb654b8174824967836f8d162ee9804a",
       "version_major": 2,
       "version_minor": 0
      },
      "text/html": [
       "\n",
       "            <div style=\"display: inline-block;\">\n",
       "                <div class=\"jupyter-widgets widget-label\" style=\"text-align: center;\">\n",
       "                    Figure\n",
       "                </div>\n",
       "                <img src='data:image/png;base64,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' width=640.0/>\n",
       "            </div>\n",
       "        "
      ],
      "text/plain": [
       "Canvas(toolbar=Toolbar(toolitems=[('Home', 'Reset original view', 'home', 'home'), ('Back', 'Back to previous …"
      ]
     },
     "metadata": {},
     "output_type": "display_data"
    }
   ],
   "source": [
    "%matplotlib widget\n",
    "%matplotlib widget\n",
    "\n",
    "plot_dict = {}\n",
    "plot_dict['fixed_decoder_scores'] = fixed_vaf[1:]\n",
    "plot_dict['same_day_decoder_scores'] = same_vaf[1:]\n",
    "plot_dict['day0 w/ cca'] = cca_vaf\n",
    "\n",
    "index = np.arange(2)\n",
    "df = pd.DataFrame(data=plot_dict, index=index)\n",
    "\n",
    "#my_colors = list(islice(cycle(['tab:red','tab:blue', 'tab:green' 'k']), None, len(df)))\n",
    "\n",
    "  \n",
    "# plot grouped bar chart\n",
    "ax = df.plot.bar(rot=15, color=['tab:red', 'tab:blue', 'tab:green'])\n",
    "#ax.set_ylim(bottom=-1, top=1)\n",
    "ax.set_title('Training various decoders, trying on Day-N data')\n",
    "ax.set_ylabel('vaf')\n",
    "ax.set_xlabel('number of gait cycles')\n",
    "ax.legend(loc='lower right')\n",
    "for container in ax.containers:\n",
    "    diya = ax.bar_label(container)"
   ]
  },
  {
   "cell_type": "code",
   "execution_count": null,
   "id": "7ae71f3e-98b9-46b9-8520-04a8076ff7ee",
   "metadata": {},
   "outputs": [],
   "source": []
  }
 ],
 "metadata": {
  "kernelspec": {
   "display_name": "Python 3",
   "language": "python",
   "name": "python3"
  },
  "language_info": {
   "codemirror_mode": {
    "name": "ipython",
    "version": 3
   },
   "file_extension": ".py",
   "mimetype": "text/x-python",
   "name": "python",
   "nbconvert_exporter": "python",
   "pygments_lexer": "ipython3",
   "version": "3.7.0"
  }
 },
 "nbformat": 4,
 "nbformat_minor": 5
}
