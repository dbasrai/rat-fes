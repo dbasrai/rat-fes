{
 "cells": [
  {
   "cell_type": "markdown",
   "id": "6924e815-2cb3-4a24-9ad3-02a00e6b8064",
   "metadata": {},
   "source": [
    "# regression decoder test (~10/6/22) (works for our data!)\n",
    "this compares a fixed decoder, pca decoder, cca transformation (w/ day0 decoder), and a regression decoder on day-N data. the latter two use a day-0 data as a prior start. "
   ]
  },
  {
   "cell_type": "code",
   "execution_count": 1,
   "id": "91b0b31b-3dfd-46ff-be6d-334392b0d25f",
   "metadata": {},
   "outputs": [],
   "source": [
    "%matplotlib widget\n",
    "%load_ext autoreload\n",
    "%autoreload 2\n",
    "from src.folder_handler import *\n",
    "from src.cort_processor import *\n",
    "from src.cca_processor import *\n",
    "from src.tdt_support import *\n",
    "from src.plotter import *\n",
    "from src.decoders import *\n",
    "from src.utils import *\n",
    "import pickle\n",
    "import scipy as sio\n",
    "import numpy as np\n",
    "import matplotlib.pyplot as plt\n",
    "from  matplotlib.colors import LinearSegmentedColormap\n",
    "from src.wiener_filter import *\n",
    "from matplotlib.pyplot import cm\n",
    "from sklearn.cross_decomposition import CCA\n",
    "from sklearn.preprocessing import StandardScaler\n",
    "from sklearn.linear_model import Ridge\n",
    "import os\n",
    "import copy"
   ]
  },
  {
   "cell_type": "code",
   "execution_count": 2,
   "id": "e228e749-f9cf-427b-b360-cb7a3427eb72",
   "metadata": {},
   "outputs": [],
   "source": [
    "with open('/home/diya/Documents/rat-fes/data/pickles/3-meepo919__session.pkl', 'rb') as inp: #YOUR PATH HERE\n",
    "    cp1 = pickle.load(inp)\n",
    "    \n",
    "with open('/home/diya/Documents/rat-fes/data/pickles/3-meepo_regular_923__session.pkl', 'rb') as inp: #YOUR PATH HERE\n",
    "    cp2 = pickle.load(inp)"
   ]
  },
  {
   "cell_type": "code",
   "execution_count": 3,
   "id": "73984e1a-c1e8-4453-a834-627a1c9cb395",
   "metadata": {},
   "outputs": [
    {
     "name": "stdout",
     "output_type": "stream",
     "text": [
      "num_samples:[120, 602, 1204, 6024, 12048]\n"
     ]
    }
   ],
   "source": [
    "#subsampling list, percent of total data\n",
    "subsample_list = [.01, .05, .1, .5, 1.0]\n",
    "nummy = np.vstack(cp2.data['rates']).shape[0]\n",
    "newlist = [int(sub * nummy) for sub in subsample_list]\n",
    "\n",
    "dimensions=10\n",
    "#get day1 decoder weights, scaled + unscaled versions\n",
    "\n",
    "angle_num=6\n",
    "\n",
    "\n",
    "print(f'num_samples:{newlist}')"
   ]
  },
  {
   "cell_type": "code",
   "execution_count": 4,
   "id": "35921f60-5e9c-43a2-8138-7d12b7b1fe2a",
   "metadata": {},
   "outputs": [
    {
     "name": "stdout",
     "output_type": "stream",
     "text": [
      "[0.19  0.352 0.088 0.322 0.211 0.024 0.198]\n",
      "[0.15  0.397 0.074 0.427 0.34  0.107 0.347]\n"
     ]
    }
   ],
   "source": [
    "nada, vaffy, nada, nada = cp1.decode_angles()\n",
    "print(np.average(vaffy, 1))\n",
    "nada, vaffy, nada, nada = cp2.decode_angles()\n",
    "print(np.average(vaffy, 1))\n"
   ]
  },
  {
   "cell_type": "code",
   "execution_count": 5,
   "id": "4db8a69b-ddba-4bfb-abc9-c1d00a421f67",
   "metadata": {},
   "outputs": [
    {
     "name": "stdout",
     "output_type": "stream",
     "text": [
      "[0.185 0.333 0.066 0.291 0.2   0.026 0.185]\n",
      "[0.189 0.338 0.069 0.295 0.207 0.028 0.191]\n"
     ]
    }
   ],
   "source": [
    "dimensions=10\n",
    "#get day1 decoder weights, scaled + unscaled versions\n",
    "\n",
    "day0_decoder, nada, naday, nadax = cp1.decode_angles(X=cp1.apply_PCA(dims=dimensions))\n",
    "#lowest_num_dimensions = cp1.num_components\n",
    "print(np.average(nada, 1))\n",
    "\n",
    "X_tempy =cp1.apply_PCA(dimensions)\n",
    "X_scale = cp1.apply_scaler(X=X_tempy)\n",
    "day0_decoder_scale, nada, naday, nadax = cp1.decode_angles(X=X_scale)\n",
    "\n",
    "print(np.average(nada, 1))"
   ]
  },
  {
   "cell_type": "code",
   "execution_count": 6,
   "id": "bfe11ef2-300b-4427-a875-75303352ae1b",
   "metadata": {},
   "outputs": [
    {
     "name": "stdout",
     "output_type": "stream",
     "text": [
      "[-0.23, 0.06, -0.04, 0.21, 0.17]\n",
      "[-2477.94, 0.13, 0.27, 0.3, 0.34]\n"
     ]
    }
   ],
   "source": [
    "fixed_decoder_scores = []\n",
    "pca_decoder_scores = []\n",
    "pca_predic=[]\n",
    "\n",
    "for i in range(len(subsample_list)):\n",
    "    sub_x, sub_y = cp2.subsample(percent = subsample_list[i])\n",
    "    #apply PCA just using subsampled data\n",
    "    sub_x_pca = cp2.apply_PCA(dims=dimensions, X=sub_x)\n",
    "    #save PCA transformation\n",
    "    pca_object = cp2.pca_object\n",
    "    #train PCA decoder \n",
    "    temp_h, nada, nadax, naday = cp2.decode_angles(X=sub_x_pca, Y=sub_y)\n",
    "    \n",
    "    test_x = cp2.apply_PCA(dims= dimensions, transformer = pca_object)\n",
    "    test_y = cp2.data['angles']\n",
    "    \n",
    "    test_x_format, test_y_format = cp2.stitch_and_format(test_x, test_y)\n",
    "    \n",
    "    temp_y = test_wiener_filter(test_x_format, day0_decoder)\n",
    "    fixed_decoder_scores.append(vaf(test_y_format[:,angle_num], temp_y[:,angle_num]))\n",
    "    \n",
    "    temp_y = test_wiener_filter(test_x_format, temp_h)\n",
    "    pca_decoder_scores.append(vaf(test_y_format[:,angle_num], temp_y[:,angle_num]))\n",
    "    \n",
    "    pca_predic.append(temp_y)\n",
    "\n",
    "print(fixed_decoder_scores)\n",
    "print(pca_decoder_scores)"
   ]
  },
  {
   "cell_type": "code",
   "execution_count": 7,
   "id": "1dbe4021-9647-4c19-b665-1743f8eac913",
   "metadata": {},
   "outputs": [
    {
     "name": "stdout",
     "output_type": "stream",
     "text": [
      "should be good to align\n",
      "(40, 32)\n",
      "(40, 7)\n",
      "(40, 32)\n",
      "(40, 7)\n",
      "should be good to align\n",
      "(223, 32)\n",
      "(223, 7)\n",
      "(223, 32)\n",
      "(223, 7)\n",
      "should be good to align\n",
      "(488, 32)\n",
      "(488, 7)\n",
      "(488, 32)\n",
      "(488, 7)\n",
      "should be good to align\n",
      "(1995, 32)\n",
      "(1995, 7)\n",
      "(1995, 32)\n",
      "(1995, 7)\n",
      "should be good to align\n",
      "(3238, 32)\n",
      "(3238, 7)\n",
      "(3238, 32)\n",
      "(3238, 7)\n",
      "[0.04, -0.05, 0.03, 0.18, -0.1]\n"
     ]
    }
   ],
   "source": [
    "cca_decoder_scores = []\n",
    "cca_transformers=[]\n",
    "for i in range(len(subsample_list)):\n",
    "    #make subsampled cp2\n",
    "    temp_cp2 = copy.deepcopy(cp2)\n",
    "    sub_x2, sub_y2 = temp_cp2.subsample(percent = subsample_list[i])\n",
    "    \n",
    "    temp_cp2.data['rates'] = sub_x2\n",
    "    temp_cp2.data['angles'] = sub_y2\n",
    "    \n",
    "    temp_cca = CCAProcessor(cp1, temp_cp2, limbfoot_angle=3)\n",
    "    \n",
    "    pca_sub_x1, pca_sub_x2 = temp_cca.apply_PCA(preset_num_components=dimensions)\n",
    "    temp_cca_transformer, nada = temp_cca.apply_CCA(preset_num_components = dimensions, pca=True)\n",
    "    \n",
    "    cca_transformers.append(temp_cca_transformer)\n",
    "    \n",
    "    test_x = cp2.apply_PCA(dims=dimensions, transformer = temp_cca.data['cp2']['pca_transformer'])\n",
    "    test_y = cp2.data['angles']\n",
    "    \n",
    "    transformed_test_x = []\n",
    "    \n",
    "    for x_recording in test_x:\n",
    "        nada, test_x_cca_space = temp_cca_transformer.transform(x_recording, x_recording)\n",
    "        temp_x = temp_cca_transformer.inverse_transform(test_x_cca_space)\n",
    "                                                        \n",
    "        transformed_test_x.append(temp_x)\n",
    "        \n",
    "    transformed_test_x_format, test_y_format = cp2.stitch_and_format(transformed_test_x, test_y)    \n",
    "    \n",
    "    predic = test_wiener_filter(transformed_test_x_format, day0_decoder)\n",
    "    \n",
    "    cca_decoder_scores.append(vaf(test_y_format[:,angle_num], predic[:,angle_num]))\n",
    "    \n",
    "print(cca_decoder_scores)"
   ]
  },
  {
   "cell_type": "code",
   "execution_count": 8,
   "id": "1fbe208b-459d-464c-a9b7-cb98aaf54722",
   "metadata": {},
   "outputs": [
    {
     "name": "stdout",
     "output_type": "stream",
     "text": [
      "initial_scoring is : -0.77\n",
      "new_scoring is: 0.43\n",
      "initial_scoring is : -0.27\n",
      "new_scoring is: 0.23\n",
      "initial_scoring is : -0.33\n",
      "new_scoring is: 0.35\n",
      "initial_scoring is : -0.08\n",
      "new_scoring is: 0.33\n",
      "initial_scoring is : -0.17\n",
      "new_scoring is: 0.36\n"
     ]
    }
   ],
   "source": [
    "r_scores = []\n",
    "r_predic=[]\n",
    "\n",
    "for i in range(len(subsample_list)):\n",
    "    #subsample day-n unprocessed data\n",
    "    sub_x, sub_y = cp2.subsample(percent = subsample_list[i])\n",
    "    \n",
    "    #apply PCA to subsampled data\n",
    "    sub_x_pca = cp2.apply_PCA(dims=dimensions, X=sub_x)\n",
    "    #transform PCA subsample to day-0 shape\n",
    "    \n",
    "    transformed_sub_x_pca = []\n",
    "    for x_recording in sub_x_pca:\n",
    "        nada, sub_x_cca_space = cca_transformers[i].transform(x_recording, x_recording)\n",
    "        temp_x = cca_transformers[i].inverse_transform(sub_x_cca_space)\n",
    "        transformed_sub_x_pca.append(temp_x)\n",
    "        \n",
    "    #scale transformed data \n",
    "    scaled_transformed_sub_x_pca = cp2.apply_scaler(X=transformed_sub_x_pca)\n",
    "    scaler = cp2.scaler\n",
    "    x_format, y_format = cp2.stitch_and_format(scaled_transformed_sub_x_pca, sub_y)\n",
    "\n",
    "    wpost, nada = ridge_fit(b0=day0_decoder_scale, x_format=x_format, y_format=y_format, my_alpha=100.0)\n",
    "    \n",
    "    \n",
    "    ###now lets test on full dataset\n",
    "    test_x = cp2.apply_PCA(dims=dimensions, transformer = cp2.pca_object)\n",
    "    test_y = cp2.data['angles']\n",
    "    test_x_transformed=[]\n",
    "    for x_recording in test_x:\n",
    "    \n",
    "        nada, test_xx = temp_cca.apply_CCA(cp2_x = x_recording, transformer = cca_transformers[i], pca=True)\n",
    "        test_x_transformed.append(scaler.transform(test_xx))\n",
    "        \n",
    "    test_x_format, test_y_format = cp2.stitch_and_format(test_x_transformed, test_y)\n",
    "    \n",
    "    temp_y = test_wiener_filter(test_x_format, wpost)\n",
    "    \n",
    "    r_predic.append(temp_y)  \n",
    "    predic = vaf(test_y_format[:,angle_num], temp_y[:,angle_num])\n",
    "    \n",
    " \n",
    "    r_scores.append(predic)"
   ]
  },
  {
   "cell_type": "code",
   "execution_count": 9,
   "id": "c9d8522c-b788-4667-9284-44f3b7cd764e",
   "metadata": {},
   "outputs": [
    {
     "data": {
      "application/vnd.jupyter.widget-view+json": {
       "model_id": "4d03a7a309d84c5d811ba0082f987409",
       "version_major": 2,
       "version_minor": 0
      },
      "text/html": [
       "\n",
       "            <div style=\"display: inline-block;\">\n",
       "                <div class=\"jupyter-widgets widget-label\" style=\"text-align: center;\">\n",
       "                    Figure\n",
       "                </div>\n",
       "                <img src='data:image/png;base64,iVBORw0KGgoAAAANSUhEUgAAAoAAAAHgCAYAAAA10dzkAAAAOXRFWHRTb2Z0d2FyZQBNYXRwbG90bGliIHZlcnNpb24zLjQuMiwgaHR0cHM6Ly9tYXRwbG90bGliLm9yZy8rg+JYAAAACXBIWXMAAA9hAAAPYQGoP6dpAACZTUlEQVR4nOzdeVxN+f8H8Ndtu+1Fe0lFhjJRQpOtZjTKvjS28R3KvmTL2EfWkV0YI7sMBjNoGESWMI2dxiANYUIbUikq1fn94dcZVzvt9/V8PM5j5n7O55zz/pzbvfftc87ncySCIAggIiIiIrmhUNkBEBEREVHFYgJIREREJGeYABIRERHJGSaARERERHKGCSARERGRnGECSERERCRnmAASERERyRkmgERERERyhgkgERERkZxhAkhEREQkZ5gAEhEREckZJoBEREREcoYJIBEREZGcYQJIREREJGeYABIRERHJGSaARERERHKGCSARERGRnGECSERERCRnmAASERERyRkmgERERERyhgkgERERkZxhAkhEREQkZ5gAEhEREckZJoBEREREcoYJIBEREZGcYQJIREREJGeYABIRERHJGSaARERERHKGCSARERGRnGECSERERCRnmAASERERyRkmgERERERyhgkgERERkZxhAkhEREQkZ5gAUoXx8vKCpaXlB207Z84cSCSSsg2oCnJ1dYWrq2tlh1EqH/O+VoSqHl95CwsLg0QiQVhYWGWHQmVs27ZtkEgkePjwYWWHQtUQE0CCRCIp0cIfEKLyceTIEcyZM6eyw6i28v6BmLeoq6ujbt266Nq1K7Zu3YrMzMxKiy0vpuXLl+dbl5fAXblypcLj2rVrFwICAir8uFR1KFV2AFT5fvrpJ5nX27dvR2hoaL5yGxubjzrOxo0bkZub+0Hbfvfdd5g2bdpHHb86OH78eGWHQJXgyJEjWLt2bbkkge3atcPr16+hoqJS5vuuatatWwdNTU1kZmbiyZMnOHbsGAYPHoyAgAD8/vvvMDc3r7TYli5dilGjRkFdXb3SYnjXrl27cPPmTUyYMKGyQ6FKwgSQ8L///U/m9YULFxAaGpqv/H2vXr0q1ZeZsrLyB8UHAEpKSlBSqrl/rnnnUh5+pKszQRCQkZEBNTW1SoshOzsbubm5Jf5bUVBQgKqqajlHVTV89dVX0NfXF1/7+flh586dGDhwIHr37o0LFy5USlz29vaIiIhAYGAgfH19KyUGovfxEjCViKurKz799FNcvXoV7dq1g7q6OmbMmAEA+O2339C5c2eYmppCKpWifv36mD9/PnJycmT28f69WA8fPoREIsGyZcuwYcMG1K9fH1KpFC1atMDly5dlti3oHkCJRAIfHx8EBwfj008/hVQqRePGjRESEpIv/rCwMDRv3hyqqqqoX78+1q9fX6L7Cn18fKCpqYlXr17lW9e/f38YGxuL7SzpeSjqXBZ0D2BiYiKGDBkCIyMjqKqqomnTpggKCsrXvoIu0+ed423btoll8fHx8Pb2Rp06dSCVSmFiYoLu3buX6D6ivHOtqqqKTz/9FAcOHCiwXm5uLgICAtC4cWOoqqrCyMgII0aMwIsXL/LVPXr0KFxcXKClpQVtbW20aNECu3btkqnzyy+/wNHREWpqatDX18f//vc/PHnypNzjs7S0RJcuXXDs2DE0b94campqWL9+PQAgNDQUbdq0ga6uLjQ1NdGwYUPxfSwNLy8vrF27FoDs7RiA7GckICBA/IxcunQJGhoaGD9+fL79PX78GIqKivD39wdQ8N9G3t/g7du38fnnn0NdXR1mZmZYsmRJvv39+++/6NatGzQ0NGBoaIiJEyfi2LFjJb4t5Pr16+jYsSO0tbWhqamJ9u3b50vE8i6FhoeHw9fXFwYGBtDQ0EDPnj3x9OnTkp7KAg0YMABDhw7FxYsXERoaKpafO3cOvXv3Rt26dSGVSmFubo6JEyfi9evXYp2tW7dCIpHg+vXr+fa7cOFCKCoqFvh3+L7WrVvjiy++wJIlS2T2Xxq3bt3CF198ATU1NdSpUwcLFiwo8IpKSb6HXF1dcfjwYfz777/i31ved3NWVhb8/Pzg6OgIHR0daGhooG3btjh9+vQHxU1VV83tUqEy9/z5c3Ts2BH9+vXD//73PxgZGQF4++WtqakJX19faGpq4tSpU/Dz80NqaiqWLl1a7H537dqFly9fYsSIEZBIJFiyZAl69eqF+/fvF9tr+Mcff2D//v0YPXo0tLS0sHr1anh6eiImJgZ6enoA3v4AeXh4wMTEBHPnzkVOTg7mzZsHAwODYmPr27cv1q5di8OHD6N3795i+atXr3Do0CF4eXlBUVGx1OehsHP5vtevX8PV1RX37t2Dj48PrKys8Msvv8DLywvJyckFJgDF8fT0xK1btzB27FhYWloiMTERoaGhiImJKXKwxPHjx+Hp6QlbW1v4+/vj+fPnYiL5vhEjRmDbtm3w9vbGuHHj8ODBA/zwww+4fv06wsPDxfd127ZtGDx4MBo3bozp06dDV1cX169fR0hICL7++muxjre3N1q0aAF/f38kJCRg1apVCA8Px/Xr16Grq1tu8QFAVFQU+vfvjxEjRmDYsGFo2LAhbt26hS5duqBJkyaYN28epFIp7t27h/Dw8FK/HyNGjEBsbGyBt13k2bp1KzIyMjB8+HBIpVLUrVsXPXv2xJ49e7BixQrxbxAAfv75ZwiCgAEDBhR53BcvXsDDwwO9evVCnz598Ouvv2Lq1Kmws7NDx44dAQDp6en44osvEBcXh/Hjx8PY2Bi7du0qcTJw69YttG3bFtra2pgyZQqUlZWxfv16uLq64syZM3BycpKpP3bsWNSqVQuzZ8/Gw4cPERAQAB8fH+zZs6dExyvMN998gw0bNuD48eP48ssvAbz9R8WrV68watQo6Onp4dKlS1izZg0eP36MX375BcDbHsUxY8Zg586dcHBwkNnnzp074erqCjMzsxLFMGfOHLRr1w7r1q0rdS9gfHw8Pv/8c2RnZ2PatGnQ0NDAhg0bCuyJLsn30MyZM5GSkoLHjx9j5cqVAABNTU0AQGpqKjZt2oT+/ftj2LBhePnyJTZv3gx3d3dcunQJ9vb2pYqdqjCB6D1jxowR3v/TcHFxEQAIgYGB+eq/evUqX9mIESMEdXV1ISMjQywbNGiQYGFhIb5+8OCBAEDQ09MTkpKSxPLffvtNACAcOnRILJs9e3a+mAAIKioqwr1798Syv/76SwAgrFmzRizr2rWroK6uLjx58kQsu3v3rqCkpJRvn+/Lzc0VzMzMBE9PT5nyvXv3CgCEs2fPlvo8FHUuXVxcBBcXF/F1QECAAEDYsWOHWJaVlSU4OzsLmpqaQmpqqiAIgnD69GkBgHD69GmZ/eWd461btwqCIAgvXrwQAAhLly4tst0Fsbe3F0xMTITk5GSx7Pjx4wIAmff13LlzAgBh586dMtuHhITIlCcnJwtaWlqCk5OT8Pr1a5m6ubm5YlsNDQ2FTz/9VKbO77//LgAQ/Pz8yi0+QRAECwsLAYAQEhIiU3flypUCAOHp06dFnrOSKugzJwj/vX/a2tpCYmKizLpjx44JAISjR4/KlDdp0kTmb6igv428v8Ht27eLZZmZmYKxsbHM3/ry5csFAEJwcLBY9vr1a6FRo0YF/r29r0ePHoKKiooQHR0tlsXGxgpaWlpCu3btxLKtW7cKAAQ3NzfxvRcEQZg4caKgqKgo854WJO/7obD3I+/vvmfPnmJZQZ9Xf39/QSKRCP/++69Y1r9/f8HU1FTIyckRy65duybzuSoKAGHMmDGCIAjC559/LhgbG4vHzmv35cuXi9zHhAkTBADCxYsXxbLExERBR0dHACA8ePCgyHYV9D3UuXNnmc9FnuzsbCEzM1Om7MWLF4KRkZEwePDgYttL1QcvAVOJSaVSeHt75yt/91+hL1++xLNnz9C2bVu8evUKd+7cKXa/ffv2Ra1atcTXbdu2BQDcv3+/2G3d3NxQv3598XWTJk2gra0tbpuTk4MTJ06gR48eMDU1FetZW1uLvRxFkUgk6N27N44cOYK0tDSxfM+ePTAzM0ObNm3EstKch8LO5fuOHDkCY2Nj9O/fXyxTVlbGuHHjkJaWhjNnzhS7j3epqalBRUUFYWFhBV6OLUxcXBwiIiIwaNAg6OjoiOVffvklbG1tZer+8ssv0NHRwZdffolnz56Ji6OjIzQ1NcXeo9DQULx8+RLTpk3Ld49a3iXQK1euIDExEaNHj5ap07lzZzRq1AiHDx8ut/jyWFlZwd3dXaYsr9fxt99+++CBTaXh6emZr8fazc0Npqam2Llzp1h28+ZN3Lhxo9j7d4G3PT7v1lNRUUHLli1lPnchISEwMzNDt27dxDJVVVUMGzas2P3n5OTg+PHj6NGjB+rVqyeWm5iY4Ouvv8Yff/yB1NRUmW2GDx8uc1tG27ZtkZOTg3///bfY4xUlr3fr5cuXYtm7n9f09HQ8e/YMrVq1giAIMpd8Bw4ciNjYWJm/i507d0JNTQ2enp6limPOnDmIj49HYGBgqbY7cuQIPvvsM7Rs2VIsMzAwKLCX92O/jxUVFcX7S3Nzc5GUlITs7Gw0b94c165dK1XcVLUxAaQSMzMzK/DG81u3bqFnz57Q0dGBtrY2DAwMxB+WlJSUYvdbt25dmdd5yWBJEpT3t83bPm/bxMREvH79GtbW1vnqFVRWkL59++L169c4ePAgACAtLQ1HjhxB7969ZX6sSnMeCjuX7/v333/RoEEDKCjIflTzRmSX9odRKpVi8eLFOHr0KIyMjNCuXTssWbIE8fHxxcYBAA0aNMi3rmHDhjKv7969i5SUFBgaGsLAwEBmSUtLQ2JiIgAgOjoaAPDpp58We9z3jwEAjRo1EteXR3x5rKys8u2zb9++aN26NYYOHQojIyP069cPe/fuLbdksKAYFBQUMGDAAAQHB4v3qO7cuROqqqoytysUpk6dOvnugX33swO8Pa/169fPV68kn52nT5/i1atXBb53NjY2yM3NxaNHj2TKP+a7oCh5/3jT0tISy2JiYuDl5YXatWtDU1MTBgYGcHFxASD7ef3yyy9hYmIiJtq5ubn4+eef0b17d3F/SUlJiI+PF5fCvvfatWuHzz//vNT3AuZ9D7yvoHP7sd/HABAUFIQmTZpAVVUVenp6MDAwwOHDh0u8PVUPvAeQSqyg+02Sk5Ph4uICbW1tzJs3D/Xr14eqqiquXbuGqVOnlugH8d37l94lCEK5bltSn332GSwtLbF37158/fXXOHToEF6/fo2+ffuKdUp7Hsp6FGlhg1neH4ACABMmTEDXrl0RHByMY8eOYdasWfD398epU6fy3ef0IXJzc2FoaCjTM/Wuktx7WZ5KG19B75WamhrOnj2L06dP4/DhwwgJCcGePXvwxRdf4Pjx44X+XX6owv5eBg4ciKVLlyI4OBj9+/fHrl270KVLF5le0MJUxGentMorpps3bwL4L3HNycnBl19+iaSkJEydOhWNGjWChoYGnjx5Ai8vL5nPq6KiIr7++mts3LgRP/74I8LDwxEbGyvTe9qrVy+Z3vhBgwbJDLx61+zZs+Hq6or169eLPcllpSy+j3fs2AEvLy/06NEDkydPhqGhoTioKO8fbVQzMAGkjxIWFobnz59j//79aNeunVj+4MGDSozqP4aGhlBVVcW9e/fyrSuorDB9+vTBqlWrkJqaij179sDS0hKfffaZuL68zoOFhQVu3LiB3NxcmV7AvEs5FhYWAP7rKUlOTpbZvrAewvr162PSpEmYNGkS7t69C3t7eyxfvhw7duwoNA7gbe/Z+6KiovLt+8SJE2jdunWRiW7epfubN28W2qOUd9yoqCh88cUX+Y6bt7484iuOgoIC2rdvj/bt22PFihVYuHAhZs6cidOnT8PNza1U+/rQp9x8+umncHBwwM6dO1GnTh3ExMRgzZo1H7SvglhYWOD27dsQBEEmxpJ8dgwMDKCurp7v/ANv/34VFBQqbF6+vME1eZfy//77b/zzzz8ICgrCwIEDxXrvjhJ+18CBA7F8+XIcOnQIR48ehYGBgcxtAcuXL5fppXz3dpP3ubi4wNXVFYsXL4afn1+J4rewsCjR33ZpvocK+5v79ddfUa9ePezfv1+mzuzZs0sUK1UfvARMHyXvX+zv/gs9KysLP/74Y2WFJENRURFubm4IDg5GbGysWH7v3j0cPXq0xPvp27cvMjMzERQUhJCQEPTp0yffcYCyPw+dOnVCfHy8zCjI7OxsrFmzBpqamuIlKwsLCygqKuLs2bMy279//FevXiEjI0OmrH79+tDS0iryaQkmJiawt7dHUFCQzGWg0NBQ3L59W6Zunz59kJOTg/nz5+fbT3Z2tpikdujQAVpaWvD3988XU955bN68OQwNDREYGCgT39GjRxEZGYnOnTuXW3xFSUpKyleWNzryQ546oaGhASB/Al8S33zzDY4fP46AgADo6emV6N7WknJ3d8eTJ0/E2x8AICMjAxs3bix2W0VFRXTo0AG//fabzBRDCQkJ2LVrF9q0aQNtbe0yi7Uwu3btwqZNm+Ds7Iz27duLsQGyn1dBELBq1aoC99GkSRM0adIEmzZtwr59+9CvXz+ZeUkdHR3h5uYmLu/fd/q+vHsBN2zYUKI2dOrUCRcuXMClS5fEsqdPn+brxS7N95CGhkaBl3QL2sfFixdx/vz5EsVK1Qd7AOmjtGrVCrVq1cKgQYMwbtw4SCQS/PTTT5V6Gel9c+bMwfHjx9G6dWuMGjUKOTk5+OGHH/Dpp58iIiKiRPto1qwZrK2tMXPmTGRmZspc/gXK7zwMHz4c69evh5eXF65evQpLS0v8+uuvCA8PR0BAgHgPko6ODnr37o01a9ZAIpGgfv36+P333/Pdz/bPP/+gffv26NOnD2xtbaGkpIQDBw4gISEB/fr1KzIWf39/dO7cGW3atMHgwYORlJSENWvWoHHjxjIDZFxcXDBixAj4+/sjIiICHTp0gLKyMu7evYtffvkFq1atwldffQVtbW2sXLkSQ4cORYsWLfD111+jVq1a+Ouvv/Dq1SsEBQVBWVkZixcvhre3N1xcXNC/f39xGhhLS0tMnDix3OIryrx583D27Fl07twZFhYWSExMxI8//og6derIDAzKm+6kuL8DR0dHAMC4cePg7u4ORUXFYt+PPF9//TWmTJmCAwcOYNSoUR814fr7RowYgR9++AH9+/fH+PHjxXvh8gbkFNdzuWDBAnG+xNGjR0NJSQnr169HZmZmgXMOfqxff/0VmpqayMrKEp8EEh4ejqZNm4pTuwBv7x+tX78+vv32Wzx58gTa2trYt29fkfcaDhw4EN9++y2A/JPnl5aLiwtcXFxKPIhrypQp+Omnn+Dh4YHx48eL08DkXSHIU5rvIUdHR+zZswe+vr5o0aIFNDU10bVrV3Tp0gX79+9Hz5490blzZzx48ACBgYGwtbWV+RxRDVDh446pyitsGpjGjRsXWD88PFz47LPPBDU1NcHU1FSYMmWKOEXFu9NEFDYNTEFTkgAQZs+eLb4ubBqYvOkV3mVhYSEMGjRIpuzkyZOCg4ODoKKiItSvX1/YtGmTMGnSJEFVVbWQs5DfzJkzBQCCtbV1getLeh6KOpfvTwMjCIKQkJAgeHt7C/r6+oKKiopgZ2dX4PQTT58+FTw9PQV1dXWhVq1awogRI4SbN2/KTFfx7NkzYcyYMUKjRo0EDQ0NQUdHR3BychL27t1bonOwb98+wcbGRpBKpYKtra2wf//+fO9rng0bNgiOjo6CmpqaoKWlJdjZ2QlTpkwRYmNjZeodPHhQaNWqlaCmpiZoa2sLLVu2FH7++WeZOnv27BEcHBwEqVQq1K5dWxgwYIDw+PHjco/PwsJC6Ny5c75tT548KXTv3l0wNTUVVFRUBFNTU6F///7CP//8I1PP0dFRMDY2LuqUCoLwduqNsWPHCgYGBoJEIhH/1ov6jLyrU6dOAgDhzz//zLeusGlgCvobLOhc3b9/X+jcubOgpqYmGBgYCJMmTRL27dsnABAuXLhQbNuuXbsmuLu7C5qamoK6urrw+eef54uzsOlQCpve6H153w95i6qqqlCnTh2hS5cuwpYtW2SmP8lz+/Ztwc3NTdDU1BT09fWFYcOGidNIFfT5iouLExQVFYVPPvmk2Da/q7Dvqby2FdTugty4cUNwcXERVFVVBTMzM2H+/PnC5s2b800DU9LvobS0NOHrr78WdHV1ZaZKys3NFRYuXChYWFgIUqlUcHBwEH7//fdCP0dUfUkEoQp11RBVoB49euDWrVsF3ltD9LFevnyJ2rVrIyAgAGPGjCnXY/Xs2RN///13qe5r/RgBAQGYOHEiHj9+XOKJkKu7Z8+ewcTEBH5+fpg1a1Zlh0P00XgPIMmF96dcuHv3Lo4cOZLvsWtEZeXs2bMwMzMr0Zx5HyMuLg6HDx/GN998Uy77f/+zk5GRgfXr16NBgwZyk/wBb5+wkZOTU27nmaiisQeQ5IKJiQm8vLxQr149/Pvvv1i3bh0yMzNx/fr1AufXIqrqHjx4gPDwcGzatAmXL19GdHQ0jI2Ny/w4HTt2RN26dWFvb4+UlBTs2LEDt27dws6dO8XH9dVkp06dwu3btzFr1ix8/vnn2L9/f2WHRFQmOAiE5IKHhwd+/vlnxMfHQyqVwtnZGQsXLmTyR9XWmTNn4O3tjbp16yIoKKhckj/g7UjgTZs2YefOncjJyYGtrS12796dbyBUTTVv3jz8+eefaN26dZlOsUNU2apFD+DZs2exdOlSXL16FXFxcThw4AB69OhR5DZhYWHw9fXFrVu3YG5uju+++w5eXl4yddauXYulS5ciPj4eTZs2xZo1a2QetUNERERUE1WLewDT09PRtGlTrF27tkT1Hzx4gM6dO+Pzzz9HREQEJkyYgKFDh+LYsWNinbzh77Nnz8a1a9fQtGlTuLu755s2g4iIiKimqRY9gO+SSCTF9gBOnToVhw8fFh//AwD9+vVDcnIyQkJCAABOTk5o0aIFfvjhBwBvHw9lbm6OsWPHYtq0aeXaBiIiIqLKVC16AEvr/Pnz+R7F5O7uLs5knpWVhatXr8rUUVBQgJubG2c7JyIiohqvRg4CiY+Ph5GRkUyZkZERUlNT8fr1a7x48QI5OTkF1sl7xmpBMjMzZR7zlJubi6SkJOjp6X3wszyJiIioYgmCgJcvX8LU1FTmOevypEYmgOXF398fc+fOrewwiIiIqAw8evQIderUqewwKkWNTACNjY2RkJAgU5aQkABtbW2oqalBUVERioqKBdYpaiqF6dOnw9fXV3ydkpKCunXr4tGjRxXyUHMiIiL6eKmpqTA3Nxefpy6PamQC6OzsjCNHjsiUhYaGwtnZGQCgoqICR0dHnDx5UhxMkpubi5MnT8LHx6fQ/UqlUkil0nzl2traTACJiIiqGXm+fataXPhOS0tDREQEIiIiALyd5iUiIgIxMTEA3vbMDRw4UKw/cuRI3L9/H1OmTMGdO3fw448/Yu/evZg4caJYx9fXFxs3bkRQUBAiIyMxatQopKenw9vbu0LbRkRERFTRqkUP4JUrV/D555+Lr/Muww4aNAjbtm1DXFycmAwCgJWVFQ4fPoyJEydi1apVqFOnDjZt2gR3d3exTt++ffH06VP4+fkhPj4e9vb2CAkJyTcwhIiIiKimqXbzAFYlqamp0NHRQUpKCi8BExERVRP8/a4ml4CJiIiIqOwwASQiIiKSM0wAiYiIiOQME0AiIiIiOcMEkIiIiEjOMAEkIiIikjNMAImIiIjkDBNAIiIiIjnDBJCIiIhIzjABJCIiIpIzTACJiIiI5AwTQCIiIiI5wwSQiIiISM4wASQiIiKSM0wAiYiIiOQME0AiIiIiOcMEkIiIiEjOMAEkIiIikjNMAImIiIjkDBNAIiIiIjnDBJCIiIhIzjABJCIiIpIzTACJiIiI5AwTQCIiIiI5wwSQiIiISM4wASQiIiKSM0wAiYiIiOQME0AiIiIiOcMEkIiIiEjOMAEkIiIikjNMAImIiIjkDBNAIiIiIjnDBJCIiIhIzjABJCIiIpIzTACJiIiI5Ey1SgDXrl0LS0tLqKqqwsnJCZcuXSq0rqurKyQSSb6lc+fOYh0vL6986z08PCqiKURERESVRqmyAyipPXv2wNfXF4GBgXByckJAQADc3d0RFRUFQ0PDfPX379+PrKws8fXz58/RtGlT9O7dW6aeh4cHtm7dKr6WSqXl1wgiIiKiKqDa9ACuWLECw4YNg7e3N2xtbREYGAh1dXVs2bKlwPq1a9eGsbGxuISGhkJdXT1fAiiVSmXq1apVqyKaQ0RERFRpqkUCmJWVhatXr8LNzU0sU1BQgJubG86fP1+ifWzevBn9+vWDhoaGTHlYWBgMDQ3RsGFDjBo1Cs+fPy/T2ImIiIiqmmpxCfjZs2fIycmBkZGRTLmRkRHu3LlT7PaXLl3CzZs3sXnzZplyDw8P9OrVC1ZWVoiOjsaMGTPQsWNHnD9/HoqKivn2k5mZiczMTPF1amrqB7aIiIiIqPJUiwTwY23evBl2dnZo2bKlTHm/fv3E/7ezs0OTJk1Qv359hIWFoX379vn24+/vj7lz55Z7vERERETlqVpcAtbX14eioiISEhJkyhMSEmBsbFzktunp6di9ezeGDBlS7HHq1asHfX193Lt3r8D106dPR0pKirg8evSo5I0gIiIiqiKqRQKooqICR0dHnDx5UizLzc3FyZMn4ezsXOS2v/zyCzIzM/G///2v2OM8fvwYz58/h4mJSYHrpVIptLW1ZRYiIiKi6qZaJIAA4Ovri40bNyIoKAiRkZEYNWoU0tPT4e3tDQAYOHAgpk+fnm+7zZs3o0ePHtDT05MpT0tLw+TJk3HhwgU8fPgQJ0+eRPfu3WFtbQ13d/cKaRMRERFRZag29wD27dsXT58+hZ+fH+Lj42Fvb4+QkBBxYEhMTAwUFGTz2aioKPzxxx84fvx4vv0pKirixo0bCAoKQnJyMkxNTdGhQwfMnz+fcwESERFRjSYRBEGo7CCqq9TUVOjo6CAlJYWXg4mIiKoJ/n5Xo0vARERERFQ2mAASERERyRkmgERERERyhgkgERERkZxhAkhEREQkZ5gAEhEREckZJoBEREREcoYJIBEREZGcYQJIREREJGeYABIRERHJGSaARERERHKGCSARERGRnGECSERERCRnmAASERERyRkmgERERERyhgkgERERkZxhAkhEREQkZ5gAEhEREckZJoBEREREcoYJIBEREZGcYQJIREREJGeYABIRERHJGSaARERERHKGCSARERGRnGECSERERCRnmAASERERyRkmgERERERyhgkgERERkZxhAkhEREQkZ5gAEhEREckZJoBEREREcoYJIBEREZGcYQJIREREJGeYABIRERHJGSaARERERHKGCSARERGRnKlWCeDatWthaWkJVVVVODk54dKlS4XW3bZtGyQSicyiqqoqU0cQBPj5+cHExARqampwc3PD3bt3y7sZRERERJWq2iSAe/bsga+vL2bPno1r166hadOmcHd3R2JiYqHbaGtrIy4uTlz+/fdfmfVLlizB6tWrERgYiIsXL0JDQwPu7u7IyMgo7+YQERERVZpqkwCuWLECw4YNg7e3N2xtbREYGAh1dXVs2bKl0G0kEgmMjY3FxcjISFwnCAICAgLw3XffoXv37mjSpAm2b9+O2NhYBAcHV0CLiIiIiCpHtUgAs7KycPXqVbi5uYllCgoKcHNzw/nz5wvdLi0tDRYWFjA3N0f37t1x69Ytcd2DBw8QHx8vs08dHR04OTkVus/MzEykpqbKLERERETVTbVIAJ89e4acnByZHjwAMDIyQnx8fIHbNGzYEFu2bMFvv/2GHTt2IDc3F61atcLjx48BQNyuNPv09/eHjo6OuJibm39s04iIiIgqXLVIAD+Es7MzBg4cCHt7e7i4uGD//v0wMDDA+vXrP3if06dPR0pKirg8evSoDCMmIiIiqhjVIgHU19eHoqIiEhISZMoTEhJgbGxcon0oKyvDwcEB9+7dAwBxu9LsUyqVQltbW2YhIiIiqm6qRQKooqICR0dHnDx5UizLzc3FyZMn4ezsXKJ95OTk4O+//4aJiQkAwMrKCsbGxjL7TE1NxcWLF0u8TyIiIqLqSKmyAygpX19fDBo0CM2bN0fLli0REBCA9PR0eHt7AwAGDhwIMzMz+Pv7AwDmzZuHzz77DNbW1khOTsbSpUvx77//YujQoQDejhCeMGECFixYgAYNGsDKygqzZs2CqakpevToUVnNJCIiIip31SYB7Nu3L54+fQo/Pz/Ex8fD3t4eISEh4iCOmJgYKCj816H54sULDBs2DPHx8ahVqxYcHR3x559/wtbWVqwzZcoUpKenY/jw4UhOTkabNm0QEhKSb8JoIiIioppEIgiCUNlBVFepqanQ0dFBSkoK7wckIiKqJvj7XU3uASQiIiKissMEkIiIiEjOMAEkIiIikjNMAImIiIjkDBNAIiIiIjnDBJCIiIhIzjABJCIiIpIzTACJiIiI5AwTQCIiIiI5wwSQiIiISM4wASQiIpIDa9euhaWlJVRVVeHk5IRLly4VWnf//v1o3rw5dHV1oaGhAXt7e/z000+F1h85ciQkEgm++uqrcj9GQEBAidpLRWMCSEREVMPt2bMHvr6+mD17Nq5du4amTZvC3d0diYmJBdavXbs2Zs6cifPnz+PGjRvw9vaGt7c3jh07lq/ugQMHcOHCBdSqVQvBwcHlegxTU9OPOxH0H4E+WEpKigBASElJqexQiIiICtWyZUthzJgx4uucnBzB1NRU8Pf3L/E+HBwchO+++06m7PHjx4KZmZlw8+ZNQUVFRWjTpk25HsPCwkJYuXJlifdXGP5+CwJ7AImIiGqwrKwsXL16FW5ubmKZgoIC3NzccP78+WK3FwQBJ0+eRFRUFNq1ayeW5+bm4ptvvsHkyZPRoEEDZGVl4ZNPPim3YzRu3LikTaYSUKrsAIiIiKj8PHv2DDk5OTAyMpIpNzIywp07dwrdLiUlBWZmZsjMzISioiJ+/PFHfPnll+L6xYsXQ0lJCePGjUNcXBwAQEtLq9yOQWWLPYBERFRtlfXAhv3796NDhw7Q09ODRCJBREREObeg6tLS0kJERAQuX76M77//Hr6+vggLCwMAXL16FatWrcK2bdsgkUiq9DGoYEwAiYioWiqPgQ3p6elo06YNFi9eXFHNKHf6+vpQVFREQkKCTHlCQgKMjY0L3U5BQQHW1tawt7fHpEmT8NVXX8Hf3x8AcO7cOSQmJqJu3bpQUlKCubk5AGD16tWwtLQsl2MoKSnh33//xaRJk2SOQR+GCSAREVWYsuyxW7FiBYYNGwZvb2/Y2toiMDAQ6urq2LJlS4H7c3V1Rc+ePWFjY4P69etj/PjxaNKkCf744w+xzjfffAM/Pz+Z++WqOxUVFTg6OuLkyZNiWW5uLk6ePAlnZ+cS7yc3NxeZmZkA3p6nGzduICIiAhEREfjrr7+grKwMBwcHMaEu62NERETA1NQUkydPLnCkMJUO7wEkIqIKkddjFxgYCCcnJwQEBMDd3R1RUVEwNDTMVz+vx65Ro0ZQUVHB77//Dm9vbxgaGuLzzz/H1atXMX36dLF+aQcdnDp1ClFRUTWqt68wvr6+GDRoEJo3b46WLVsiICAA6enp8Pb2BgAMHDgQZmZmYu+bv78/mjdvjvr16yMzMxNHjhzBTz/9hHXr1gEA9PT0oKenJ3MMHR0d3LhxAxcuXEBubm65HENZWRnGxsZo2LBh+Z0sOcEEkIiIKsS7PXYAEBgYiMOHD2PLli2YNm1avvqurq4yr8ePH4+goCD88ccfsLOzK5eBDTVV37598fTpU/j5+SE+Ph729vYICQkRz19MTAwUFP67KJieno7Ro0fj8ePHUFNTQ6NGjbBjxw707du30GNoaGigXbt25XoMKjsSQRCEyg6iukpNTYWOjg5SUlKgra1d2eEQEVVZWVlZUFdXx6+//ooePXqI5YMGDUJycjJ+++23IrfP67Hr1q0bgoOD0bhxY5iZmeHPP/+UucQ4ZcoUnDlzBhcvXixwP7m5ubh//z7S0tJw8uRJzJ8/H8HBwfmSzYcPH8LKygrXr1+Hvb39hzabqij+frMHkIiIKkBZT0WSlZX1UQMbAMDe3h6RkZHw9/fPlwAS1XQcBEJERFVWYdOElMfABiJ5wh5AIqpR1q5di6VLlyI+Ph5NmzbFmjVr0LJlywLrbty4Edu3b8fNmzcBAI6Ojli4cKFM/cLmH6tVqxZevXpVrsdYsmQJJk+eXHyjq4GPnYoEyN9jV9YDGwAgKSkJMTExiI2NBQBERUUBAIyNjYuMs1qbo1PK+imlPkRkI5tS1be5E1nqY1DpsAeQiGqM0s4LFxYWhv79++P06dM4f/48zM3N0aFDBzx58kSsExcXJ7OMHDkSADBt2rRyO8aWLVsgkUjg6elZhmencpVHj13fvn2xbNky+Pn5wd7eHhEREfkGHeQ9oQL4b9BB48aN0bp1a+zbtw87duzA0KFDxToHDx6Eg4MDOnfuDADo168fHBwcEBgY+FHtJ6pqOAjkI/AmUqKqxcnJCS1atMAPP/wA4G2yYG5ujrFjxxY4yvR9OTk5qFWrFn744QcMHDiwwDq1atWChoYGHj9+XG7H6NGjB16+fCmTLNUEe/bswaBBg7B+/Xqxx27v3r24c+cOjIyMStRjN23aNKxbt04maaOPJIc9gPz95iVgIqoh8h54/6HzwgHAq1ev8ObNG9SuXbvA9Y8ePUJycrJ4ibE8jpGQkIDDhw8jKCioRPurTipiKhIiKhkmgERUI3zoKNN3TZ06FaampoU+BWL9+vUAgG7dupXbMYKCgqClpYVevXqVaH/VjY+PD3x8fApcl/cM2DwLFizAggULKiAqIvnDBJCICMCiRYuwe/duhIWFQVVVtcA6u3fvBgBIpdJyO8aWLVswYMCAQtdTyVW1y45EVQkTQCKqET50lCkALFu2DIsWLcKJEyfQpEmTAuucO3cO0dHR5X6MqKgo7Nmzp8h9ERF9LCaARFQjvDvKNO9JE3mjTAu75Ai8nWrl+++/x7Fjx9C8efNC623evBmOjo5QVFQs92M0bdq06MbWBBUw8ICICscEkIhqjNLOC7d48WL4+flh165dsLS0RHx8PABAU1MTmpqa4n5TU1Pxyy+/YPny5ahVq1a5H4OIqLwxASSiGqO0o0zXrVuHrKwsfPXVVzL7mT17NubMmSO+3r17NwRBQP/+/aGjo1PuxyAiKm+cB/AjcB4hIqIPJIdzz1VZcvhe8PebTwIhIqISWrt2LSwtLaGqqgonJydcunSp0LobN25E27ZtUatWLdSqVQtubm756u+PfIMOP6VDb8lLSOamIiI+p7ybQET/r1olgGX95ePl5QWJRCKzeHh4lHcziMpEWX8eiIpSHo/ZS88S0KauEha7fdi0OkT04arNPYB5Xz6BgYFwcnJCQEAA3N3dERUVBUNDw3z18758WrVqBVVVVSxevBgdOnTArVu3YGZmJtbz8PDA1q1bxdcfOr8XUUUqr89DjVfOl7pKe5kLqD6XHVesWIFhw4aJg10CAwNx+PBhbNmypcBH4O3cuVPm9aZNm7Bv3z6cPHlSfATeN01VAAAPk3PLOXoiel+16QF898vH1tYWgYGBUFdXx5YtWwqsv3PnTowePRr29vZo1KgRNm3aJE7X8C6pVApjY2NxqVWrVkU0h+ijlNfngaggeY/Ze/fpJWX9CDwiqljVIgEszy+fsLAwGBoaomHDhhg1ahSeP39e6D4yMzORmpoqsxBVNP4YU0Ur6jF7edPaFKe4R+ARUcWqFglgeX35eHh4YPv27Th58iQWL16MM2fOoGPHjsjJKfhGZH9/f+jo6IiLubn5hzeK6APxx5iqm7xH4B04cKDYR9ytvZQFy4CXUF2QCqdNabj0pPCBIbdu3YKnpycsLS0hkUgQEBCQr06OIGD1s6f48n40HP6Jgvv9aKx79gycAIPkXbW5B/BjFPb8zX79+on/b2dnhyZNmqB+/foICwtD+/bt8+1n+vTp8PX1FV+npqYyCaRqpyTPoyV6V3k/Zi/PsXvZ8AvLRGBnVTjVUUTAhSy470hHlI8m8t/Z+rYnu169eujduzcmTpxY4D43JT3H7uRk+BubwFqqgpsZGZgZFw9NRQV8U4s94CS/qkUPYFl8+Rw/frzYL5969epBX18f9+7dK3C9VCqFtra2zEJU0Srq80CU593H7OXJu4fU2dm50O2WLFmC+fPnIyQkpMhH4OXZ8fcbDGumDG8HFdgaKCKwiyrUlSXYcv1NgfVbtGiBpUuXol+/foUO4It4/RpfaGrCRVMTZsoqcNfSRmsNdfz9OqPYeKqy0swCUJKeUsuAt1PxvL+MOfy6HFtBlalaJIAV9eXz+PFjPH/+HCYmJmUSN1F5qKjPA9G7fH19sXHjRgQFBSEyMhKjRo3K9wi86dOni/UXL16MWbNmYcuWLeIj8OLj45GWlibWSXotICI+B7efvr3Me/tpLurXUkB82ttRwQoSCdzqKeH84w+fH9BeTQ0X0tPxMCsLAHAnIwPXXr9GW02ND95nZSvtlDx5PaWLFi0q9B+Jl4dpIG6SpriEfqMOAOjdWLnc2kGVq9pcAi7rZ3ympaVh7ty58PT0hLGxMaKjozFlyhRYW1vD3d290tpJVBLl9cxbosKUx2P2Dka9gfdv//XE5QqA7/FMpGQKmOP69vYEIw0J7jz78ARwWG09pOfmovOD+1AEkANgvL4BumqXckqgKqS0U/K0aNECLVq0AIAC1wOAgYZsf9CiP7JQv5YELhaKZRw9VRXVJgEs6y8fRUVF3LhxA0FBQUhOToapqSk6dOiA+fPncy5AqvLK65m3REXx8fGBj49PgevCwsJkXj98+LDY/XnZq8DL/u1cgLEvc2G2Ig1/DlaHs3nZ/TSFvHyJ31NTsdTEFNZSFdzJyIR/YgIMlZTQQ6f6JYF5swC829ta2lkAij1GjoAdN97A11kFEomkTPZJVU+1SQCBsv3yUVNTw7Fjx8ooMqKKV9Y/xkSVSV9dAkUJkJAuOzo3IV2AseaH36207GkihtbWQ6f/v2f7E6kqYrPfYGPS82qZABY1C8CdO3fK5BjBd7KRnCHAy56Xf2uyanEPIBER1WwqihI4mirg5P1ssSxXEHDyfjac63z4ZcjXubn5fugUIEEup4Ep1ObrWejYQAmmWkwRarJq1QNIRERVj+W0w6Xe5mEBMxD5fibFoODXaG6qiJZmb6eBSX8jwPv/e6Lev7c1KysLt2/fFv//yZMniIiIgKamJqytrQEAn2tqYn3Sc5goK8NaqoLIjEwEvUhCr2rY+wd83CwAJfFvci5O3M/B/j5qH70vqtqY3hOVgbKekmHdunVo0qSJON2Qs7Mzjh49WuD+IhvZlHohqor6fqqMZR1U4ReWCfv16YhIyEHIAHUY/f8l4JiYGMTFxYn1Y2Nj4eDgAAcHB8TFxWHZsmVwcHDA0KFDxTozjYzQQUsL8xLi0eXBAyx9mog+OroYq29Q4e0rCx86C0BJbY3IgqGGBJ0/Yf9QTcd3mOgj5U3JEBgYCCcnJwQEBMDd3R1RUVEwNMw/fW1JJq+tU6cOFi1ahAYNGkAQBAQFBaF79+64fv06GjduXN5NIqo0Pi1V4NNSpcB179/bamlpWewTPTQUFDHd0AjTDY2KrFedlHYWgJL0lAJvL7lvjXiDQU2VoaTAwR81HRNAoo9UHlMydO3aVeb1999/j3Xr1uHChQtMAInkXGlnAcjrKc2zbNkyLFu2DC4uLjJJ9Yn7OYhJETDYgYM/5AETQKKPUBFTMuTk5OCXX35Benp6mVziIaLqrzSzAJSkpxQAOtRXgjCbT7iSF0wAiT5CeU7J8Pfff8PZ2RkZGRnQ1NTEgQMHYGtr+1H7JKqu7ILsSr3N3nKIg6im4CAQoiqqYcOGiIiIwMWLFzFq1CgMGjRIvI+HiIjoY7AHkOgjlOeUDCoqKuIN2o6Ojrh8+TJWrVqF9evXf9R+iahmK+20PAVNyUM1H3sAiT5CeU/J8K7c3FxkZmaW6T6JiEg+sQeQ6COVx5QM06dPR8eOHVG3bl28fPkSu3btQlhYGB9fSEREZYIJINFHKo8pGRITEzFw4EDExcVBR0cHTZo0wbFjx/Dll19WaNuIiKhmYgJIVAbKekqGzZs3l1VoRERE+fAeQCIiIiI5wwSQiIiISM4wASQqwNq1a2FpaQlVVVU4OTnh0qVLRdb/5Zdf0KhRI6iqqsLOzg5Hjhx5u2KOjrhEjtFEt4bK0FGVQENFghZmioiZqCVTB3N0KqB1REQk75gAEr1nz5498PX1xezZs3Ht2jU0bdoU7u7uSExMLLD+n3/+if79+2PIkCG4fv06evTogR49euDmzZtineikXLTZ+gqN9BUQNkgDN0ZqYlY7KVR5Fy4REVUCJoBE71mxYgWGDRsGb29v2NraIjAwEOrq6tiyZUuB9VetWgUPDw9MnjwZNjY2mD9/Ppo1a4YffvhBrDPzVAY6NVDCki9V4WCiiPq1FdCtoTIMNfgRJCKiisdfH6J3ZGVl4erVq3BzcxPLFBQU4ObmhvPnzxe4zfnz52XqA4C7u7tYP1cQcPhuNj6prQD3HekwXPoSTpvSEHznTfk1hIiIqAhMAOVImd3XVoCRI0dCIpEgICCgjKOuWM+ePUNOTo44h18eIyMjxMfHF7hNfHx8kfUT0wWkZQGLwjPhUV8Jx79RR89Gyui15zXOPMwun4YQEREVgQmgnCiP+9ryHDhwABcuXICpqWl5N6Nayv3/Kf+6N1TCRGcp7I0VMa2NFF0+UULg1azKDY6IiOQSE0A5UR73tQHAkydPMHbsWOzcuRPKysoV0ZRypa+vD0VFRSQkJMiUJyQkwNjYuMBtjI2Ni6yvry6BkgJga6AoU8dGXwExKUVPCE0VY+2lLFgGvITqglQ4bUrDpSc5RdYvrnf8h2dP0fnBfTj+E4XP7v6DwY9i8Nfr1+XZBCKiUmECKAfK4742AMjNzcU333yDyZMno3HjxuUTfAVTUVGBo6MjTp48KZbl5ubi5MmTcHZ2LnAbZ2dnmfoAEBoaKtZXUZSghakiop7nytT5JykXFjqSMm4Bldaem2/gezwDs12kuDZCA02NFOG+Ix2J6bkF1i9J77iligpmGhoh2NIKP9W1gJmyMoY9foSkbF7yJ6KqgQmgHCiP+9oAYPHixVBSUsK4cePKPuhK5Ovri40bNyIoKAiRkZEYNWoU0tPT4e3tDQAYOHAgpk+fLtYfP348QkJCsHz5cty5cwdz5szBlStXZB4NN7mVCvbcfIONV7NwLykXP1zKwqGobIxuoVLh7SNZKy5kYlgzZXg7qMDWQBGBXVShrizBlusFD9IpSe94F20dtNLQgLmKChpIpZhqYIi03FxEZWZWVLOIiIrEBJA+yNWrV7Fq1Sps27YNEknN6sXq27cvli1bBj8/P9jb2yMiIgIhISFiQhwTE4O4uDixfqtWrbBr1y5s2LABTZs2xa+//org4GB8+umnYp2eNsoI7KKKJX9mwW5dGjZdy8K+PmpoU5cTAVamrBwBV2Nz4Vbvv/dBQSKBWz0lnH9c8GXgkvSOyxxDELA3JRlaCgpoJJWWXfBERB+Bvz5yoDzuazt37hwSExNRt25dcX1OTg4mTZqEgIAAPHz4sGwbUcF8fHxkevDeFRYWlq+sd+/e6N27d5H7HOyggsEO7PGrSp69EpAjAEYasv+IMdKQ4M6zghPAInvHa9UWy8LS0jAp9gkyBAEGSkrYVMcctZT4lUtEVQN7AOVAedzX9s033+DGjRuIiIgQF1NTU0yePBnHjh0rv8YQVRMt1dWx39IKu+paoI2GBnzjYvGc9wASURXBf47KCV9fXwwaNAjNmzdHy5YtERAQkO++NjMzM/j7+wN4e1+bi4sLli9fjs6dO2P37t24cuUKNmzYAADQ09ODnp6ezDGUlZVhbGyMhg0bVmzjiD6QvroEihIgIV12NHZCugBjzYL/fVxk73jmf9P6qCsowEJFBRYAmqqpweN+NPalpGD4e58bIqLKwARQTvTt2xdPnz6Fn58f4uPjYW9vn+++NgWF/37w8u5r++677zBjxgw0aNAg331t8shy2uFS1X+oWk6BUJlQUZTA0VQBJ+9no0ejt9MY5QoCTt7Phk/Lgi/X5/WOT5gwQSwTe8fDzhR6LAFAllDwyGIioorGBFCOlMd9be+q7vf9kXzy/UyKQcGv0dxUES3NFBFwIQvpbwR4279NCEvVOx52Bq9yc7H++XN8oakJfSUlJOfkYNeLF0jIzoa7lnZlNpWISFSqBPDIkSPYv38/ateujcGDB6NRo0biuhcvXsDT0xOnTp0q8yCJiMpL30+V8fSVAL+wTMSnCbA3VkDIAHUY/f8l4NL0jkcCUATwICsT42NT8CInB7oKivhUTRU/mddFA44CJqIqosQJ4K5duzBw4EB4eHggKioKa9aswaZNmzBgwAAAbycbPnOm8MsfRERVlU9LlUIv+Za2d1yqoIDVZnXKMjwiojJX4gRw6dKlWLFihTjp7969ezF48GBkZGRgyJAh5RYgVQy7ILtS1f970N/lFAkRERGVtxIngHfv3kXXrl3F13369IGBgQG6deuGN2/eoGfPnuUSIBERERGVrRIngNra2khISICVlZVY9vnnn+P3339Hly5d8Pjx43IJkIiospS2Z3xvOcVBRFTWSjwRdMuWLXH06NF85S4uLjh06BACAgLKMq4CrV27FpaWllBVVYWTkxMuXbpUZP1ffvkFjRo1gqqqKuzs7HDkyBGZ9YIgwM/PDyYmJlBTU4Obmxvu3r1bnk0gIiIiqnQlTgAnTpwIVdWCJzVzdXXFoUOHMHDgwDIL7H179uyBr68vZs+ejWvXrqFp06Zwd3dHYmJigfX//PNP9O/fH0OGDMH169fRo0cP9OjRAzdv3hTrLFmyBKtXr0ZgYCAuXrwIDQ0NuLu7IyMjo9zaQURERFTZSpwAuri4YPr06YWu//zzz7F169YyCaogK1aswLBhw+Dt7Q1bW1sEBgZCXV0dW7ZsKbD+qlWr4OHhgcmTJ8PGxgbz589Hs2bN8MMPPwB42/sXEBCA7777Dt27d0eTJk2wfft2xMbGIjg4uNzaQURERFTZqsWzgLOysnD16lW4ubmJZQoKCnBzc8P58+cL3Ob8+fMy9QHA3d1drP/gwQPEx8fL1NHR0YGTk1Oh+8zMzERqaqrMQkRERFTdlPpJIAEBATKPQKoIz549Q05OjvjYsjxGRka4c+dOgdvEx8cXWD8+Pl5cn1dWWJ33+fv7Y+7cuR/Uho9R+sePfV3qY/w9J6VU9SMb2ZSqvs2dyFLVr6oeLupcyi1Kd16BD5iSp4ac29Iq7ecCAB4uKt37UerJjgaVdoOaofSfC6C0n40PmniK70cJle69KO13FCC/31NVWal6AGfMmIF169aVVyxV3vTp05GSkiIujx49quyQiIiIiEqtRD2AgiBgxIgROH78OM6dO1feMeWjr68PRUVFJCQkyJQnJCTA2Ni4wG2MjY2LrJ/334SEBJiYmMjUsbe3L3CfUqkUUj7KiYiIiKq5EvUAfvXVVzh8+DBOnDgBc3Pz8o4pHxUVFTg6OuLkyZNiWW5uLk6ePAlnZ+cCt3F2dpapDwChoaFifSsrKxgbG8vUSU1NxcWLFwvdJxEREVFNUKIewAMHDmDDhg2wtrYu73gK5evri0GDBqF58+Zo2bIlAgICkJ6eDm9vbwDAwIEDYWZmBn9/fwDA+PHj4eLiguXLl6Nz587YvXs3rly5gg0bNgAAJBIJJkyYgAULFqBBgwawsrLCrFmzYGpqih49elRWM4mIiIjKXYkSwIkTJ2LSpEmwt7dH8+bNyzumAvXt2xdPnz6Fn58f4uPjYW9vj5CQEHEQR0xMDBQU/uvQbNWqFXbt2oXvvvsOM2bMQIMGDRAcHIxPP/1UrDNlyhSkp6dj+PDhSE5ORps2bRASElLofIdERERENUGJEsDly5dDT08PHh4eCAsLk0miKpKPjw98fHwKXBcWFpavrHfv3ujdu3eh+5NIJJg3bx7mzZtXViESERERVXklngZmxowZ0NfXh7u7O548eVKeMRERERFROSrVPIDDhw+Hnp5eecVCRFRiHzb3HBERAaWcB/DNmzf48ccfcffu3fKKh4hIhiAI8PPzg4mJCdTU1ODm5lai76C1a9fC0tISqqqqcHJywqVLlwrdf8eOHSGRSPgYSCKSG6XqAVRWVsaNGzfKKxYiAvD3oA965kGNtWTJEqxevRpBQUHiaH13d3fcvn270AFbe/bsga+vLwIDA+Hk5ISAgAC4u7sjKioKhoaGMnUDAgIgkUgqoilERFVGqZ8F/L///Q+bN28uj1iI5Ep59Wy5urpCIpHILCNHjiyvZpQrQRAQEBCA7777Dt27d0eTJk2wfft2xMbGFtlbt2LFCgwbNgze3t6wtbVFYGAg1NXVsWXLFpl6ERERWL58eb5yIqKartTPAs7OzsaWLVtw4sQJODo6QkNDQ2b9ihUryiw4opqsPHu2hg0bJjO6XV1dvdzbUx4ePHiA+Ph4uLm5iWU6OjpwcnLC+fPn0a9fv3zbZGVl4erVq5g+fbpYpqCgADc3N5w/f14se/XqFb7++musXbu20CcKERHVVKVOAG/evIlmzZoBAP755x+ZdbyMQlQy7/dsAcD27dthZGSE4ODgAhMbQLZnCwACAwNx+PBhbNmyBdOmTRPrqaur14ikJj4+HgDE+T7zGBkZieve9+zZM+Tk5BS4zZ07d8TXEydORKtWrcTzT0QkT0qdAJ4+fbo84iCSK+XZswUAO3fuxI4dO2BsbIyuXbti1qxZ1aIXcOfOnRgxYoT4+vDhw+VynIMHD+LUqVO4fv16ueyfiKiqK3UCSEQfrzx7tr7++mtYWFjA1NQUN27cwNSpUxEVFYX9+/eXcSvKXrdu3eDk5CS+zszMBAAkJCTAxMRELE9ISIC9vX2B+9DX14eioiISEhJkyhMSEsRe0VOnTiE6Ohq6uroydTw9PdG2bdsCJ5YnIqpJmAASVYCK6tkC3s7XmcfOzg4mJiZo3749oqOjUb9+/XI7blnQ0tKClpaW+FoQBBgbG+PkyZNiwpeamoqLFy9i1KhRBe5DRUUFjo6OOHnypPhc79zcXJw8eVJ8ktC0adMwdOhQme3s7OywcuVKdO3atewbRkRUxTABJKoAFdWzVZC84967d6/KJ4Dvk0gkmDBhAhYsWIAGDRqIg2VMTU3F5A4A2rdvj549e4oJnq+vLwYNGoTmzZujZcuWCAgIQHp6unjvpLGxcYHnrG7durCysqqQthERVSYmgEQVoKJ6tgoSEREBADKJZnUyZcoUpKenY/jw4UhOTkabNm0QEhIiM1I6Ojoaz549E1/37dsXT58+hZ+fH+Lj42Fvb4+QkJB8l8+JiOSVRBAEobKDqK5SU1Oho6ODlJQUaGtrl9txLKeV7nLhQ9WvS3+QOSmlqh7ZyKZU9W3uRJaqvjxYvHgxFi1aJDMNzI0bN2SmgXm/Z2vPnj0YNGgQ1q9fL/Zs7d27F3fu3IGRkRGio6Oxa9cudOrUCXp6erhx4wYmTpyIOnXq4MyZM5XZXCKiKqOifr+rslJPBE1EZWPKlCkYO3Yshg8fjhYtWiAtLa1EPVvLli2Dn58f7O3tERERIdOzpaKighMnTqBDhw5o1KgRJk2aBE9PTxw6dKjC20dENc+HTGB/9uxZdO3aFaampnzkYhXCHsCPwB7AkmMPIBFR9bd48WL4+/vLXLn4+++/i5zA/ujRowgPD4ejoyN69eqFAwcOyNzDWxnYA8h7AImIiKgEPnQC+44dO6Jjx44VGSqVAC8BExERUbGKm8CeqhcmgERERFSsD5nAnqouJoBERESUz86dO6GpqSkub968qeyQqAzxHkAiIiLKpywmsKeqiwkgERER5VMWE9hT1cVLwERERFSsdx/NePDgQfz9998YOHBggY9m/OGHH8TXaWlpiIiIEJ9K9ODBA0RERCAmJqaCW0DvYg8gERERlciHPJrxypUr+Pzzz8XXvr6+AIBBgwZh27ZtFRY7yWICSERERCUikUgwb948zJs3r9A6Dx8+lHnt6uoKPnOi6uElYCIiIiI5wwSQiIiISM4wASQiIiKSM0wAiYiIiOQME0AiIiIiOcMEkIiIiEjOMAEkIiIikjNMAImIiIjkDBNAIiIiIjnDBJCIiIhIzjABJCIiIpIzVT4BTEpKwoABA6CtrQ1dXV0MGTIEaWlpRdYfO3YsGjZsCDU1NdStWxfjxo1DSkqKTD2JRJJv2b17d3k3h4iIiKjSKVV2AMUZMGAA4uLiEBoaijdv3sDb2xvDhw/Hrl27CqwfGxuL2NhYLFu2DLa2tvj3338xcuRIxMbG4tdff5Wpu3XrVnh4eIivdXV1y7MpH+zhos6l22BOuYRBRERENUSV7gGMjIxESEgINm3aBCcnJ7Rp0wZr1qzB7t27ERsbW+A2n376Kfbt24euXbuifv36+OKLL/D999/j0KFDyM7Olqmrq6sLY2NjcVFVVa2IZhVKEAT4+fnBxMQEampqcHNzw927d4vcxt/fHy1atICWlhYMDQ3Ro0cPRD3Lkakz4tBr1F/9Emrfp8Jg6Ut03/0Kd96rQ0RERPKjSieA58+fh66uLpo3by6Wubm5QUFBARcvXizxflJSUqCtrQ0lJdkOzzFjxkBfXx8tW7bEli1bIAhCmcX+IZYsWYLVq1cjMDAQFy9ehIaGBtzd3ZGRkVHoNmfOnMGYMWNw4cIFsZe0w45XSM/6ry2OporY2l0NkWM0cex/6hAEoMNPr5CT++HttbkTWaqFiIiIqo4qnQDGx8fD0NBQpkxJSQm1a9dGfHx8ifbx7NkzzJ8/H8OHD5cpnzdvHvbu3YvQ0FB4enpi9OjRWLNmTZH7yszMRGpqqsxSVgRBQEBAAL777jt0794dTZo0wfbt2xEbG4vg4OBCtwsJCYGXlxcaN26Mpk2bYtu2bYhJEXA17r8evuGOKmhnoQRLXQU0M1HEgi+keJQq4GFy8QlgmfVKRkUVuv+OHTtCIpEU2U4iIiIqO5WSAE6bNq3AQRjvLnfu3Pno46SmpqJz586wtbXFnDlzZNbNmjULrVu3hoODA6ZOnYopU6Zg6dKlRe7P398fOjo64mJubv7RMeZ58OAB4uPj4ebmJpbp6OjAyckJ58+fL/F+8ga71FaTFLg+PUvA1utvYKUrgblOwXXeVWa9kh06ID09PV/dgIAASCTFx0FERERlp1IGgUyaNAleXl5F1qlXrx6MjY2RmJgoU56dnY2kpCQYGxsXuf3Lly/h4eEBLS0tHDhwAMrKykXWd3Jywvz585GZmQmpVFpgnenTp8PX11d8nZqaWmZJYF6PppGRkUy5kZFRiXs7c3NzMWHCBLQ2V8Snhooy6368nIUpoRlIfwM01FNA6DcaUFEsOvF6v1cSALZv3w4jIyMEBwejX79+BW4XEhIi83rbtm0wNDTE1atX0a5dO7E8IiICy5cvx5UrV2BiYlKiNhIREdHHq5QE0MDAAAYGBsXWc3Z2RnJyMq5evQpHR0cAwKlTp5CbmwsnJ6dCt0tNTYW7uzukUikOHjxYosEdERERqFWrVqHJHwBIpdIi15fGzp07MWLECPH14cOHP3qfY8aMwc2bN/HHV2r51g2wU8aX9RQRlyZg2Z9Z6PPrK4QP1oCqUuFJYHG9koUlgO8TeyVr1xbLXr16ha+//hpr164tNpknIiKislWlp4GxsbGBh4cHhg0bhsDAQLx58wY+Pj7o168fTE1NAQBPnjxB+/btsX37drRs2RKpqano0KEDXr16hR07dsjcq2dgYABFRUUcOnQICQkJ+Oyzz6CqqorQ0FAsXLgQ3377bYW1rVu3bjJJbGZmJgAgISFBpjcsISEB9vb2xe7Px8cHv//+O86ePYs6Qfnr66hKoKOqiAZ6wGd1FFFr8UsciMxGf7vCe0bLtFeydWt8+umnYvnEiRPRqlUrsWeRiIiIKk6VTgCBtz1lPj4+aN++PRQUFODp6YnVq1eL69+8eYOoqCi8evUKAHDt2jVxhLC1tbXMvh48eABLS0soKytj7dq1mDhxIgRBgLW1NVasWIFhw4ZVWLu0tLSgpaUlvhYEAcbGxjh58qSY8KWmpuLixYsYNWpUofsRBAFjx47FgQMHEBYWBisrq2KPLQhvl8wc2UEg5dor+ccfYtnBgwdx6tQpXL9+/aP3T0RERKVX5RPA2rVrFzrpMwBYWlrKTN/i6upa7HQuHh4eMhNAVwUSiQQTJkzAggUL0KBBA1hZWWHWrFkwNTVFjx49xHrt27dHz5494ePjA+BtgrVr1y789ttv0NLSetszl5YLHakEasoS3H+Riz0336BDfSUYaEjwODUXi/7IgpqyBJ0ayL795dorWaeOWH7q1ClER0fnm3jb09MTbdu2RVhYWAnPGhEREX2IKp8AypMpU6YgPT0dw4cPR3JyMtq0aYOQkBCZexijo6Px7Nkz8fW6desAvE1837W1uyq87FWgqgSci8lBwMUsvHgtwEhTgnYWivhzsDoMNWQHgVdUr+S0adMwdOhQmTI7OzusXLkSXbt2Lf5EERER0UeRCJU9+3E1lpqaCh0dHXGi6Spjjs4HbJNSYPHixYuxaNEiBAUFib2SN27cwO3bt8XE9P1eydGjR4u9kg0bNhT3paOjAzW1/ANUgLc9oAcOHJDp7SQiIioPVfb3uwKxB5CKVKa9klu3Fjv9DxEREZU/9gB+hCr7L4gy7AEkIiKqaars73cFqtKPgiMiIiKisscEkIiIiEjOMAEkIiIikjNMAImIiIjkDBNAIiIiIjnDBJCIiIhIzjABJCIiIpIzTACJiIiI5AwTQCIiIiI5wwSQiIiISM4wASQiIiKSM0wAiYiIiOQME0AiIiIiOcMEkIiIiEjOMAEkIiIikjNMAImIiIjkDBNAIiIiIjnDBJCIiIhIzjABJCIiIpIzTACJiIiI5AwTQCIiIiI5wwSQiIiISM4wASQiIiKSM0wAiYiIiOQME0AiIiIiOcMEkIiIiEjOMAEkIiIikjNMAImIiIjkDBNAIiIiIjnDBJCIiIhIzjABJCIiIpIzVT4BTEpKwoABA6CtrQ1dXV0MGTIEaWlpRW7j6uoKiUQis4wcOVKmTkxMDDp37gx1dXUYGhpi8uTJyM7OLs+mEBEREVUJSpUdQHEGDBiAuLg4hIaG4s2bN/D29sbw4cOxa9euIrcbNmwY5s2bJ75WV1cX/z8nJwedO3eGsbEx/vzzT8TFxWHgwIFQVlbGwoULy60tRETlKScnB2/evKnsMIgqnbKyMhQVFSs7jCqtSieAkZGRCAkJweXLl9G8eXMAwJo1a9CpUycsW7YMpqamhW6rrq4OY2PjAtcdP34ct2/fxokTJ2BkZAR7e3vMnz8fU6dOxZw5c6CiolIu7SEiKg+CICA+Ph7JycmVHQpRlaGrqwtjY2NIJJLKDqVKqtIJ4Pnz56GrqysmfwDg5uYGBQUFXLx4ET179ix02507d2LHjh0wNjZG165dMWvWLLEX8Pz587Czs4ORkZFY393dHaNGjcKtW7fg4OBQfo0iIipjecmfoaEh1NXV+YNHck0QBLx69QqJiYkAABMTk0qOqGqq0glgfHw8DA0NZcqUlJRQu3ZtxMfHF7rd119/DQsLC5iamuLGjRuYOnUqoqKisH//fnG/7yZ/AMTXRe03MzMTmZmZ4uvU1NRSt4mIqCzl5OSIyZ+enl5lh0NUJaipqQEAEhMTYWhoyMvBBaiUBHDatGlYvHhxkXUiIyM/eP/Dhw8X/9/Ozg4mJiZo3749oqOjUb9+/Q/er7+/P+bOnfvB2xMRlbW8e/7evc+ZiP77TLx584YJYAEqJQGcNGkSvLy8iqxTr149GBsbi124ebKzs5GUlFTo/X0FcXJyAgDcu3cP9evXh7GxMS5duiRTJyEhAQCK3O/06dPh6+srvk5NTYW5uXmJ4yAiKi+87Eski5+JolXKNDAGBgZo1KhRkYuKigqcnZ2RnJyMq1evitueOnUKubm5YlJXEhEREQD+uw/A2dkZf//9t0xyGRoaCm1tbdja2ha6H6lUCm1tbZmFiIg+jCAIGD58OGrXrg2JRAJdXV1MmDChXI85Z84c2Nvbf/D2Xl5e6NGjR5nF8yEePnwIiUQi/rYRfYgqfQ+gjY0NPDw8MGzYMAQGBuLNmzfw8fFBv379xBHAT548Qfv27bF9+3a0bNkS0dHR2LVrFzp16gQ9PT3cuHEDEydORLt27dCkSRMAQIcOHWBra4tvvvkGS5YsQXx8PL777juMGTMGUqm0MptMRCQ3QkJCsG3bNoSFhaFevXpQUFAQ790iovJVpRNA4O1oXh8fH7Rv3x4KCgrw9PTE6tWrxfVv3rxBVFQUXr16BQBQUVHBiRMnEBAQgPT0dJibm8PT0xPfffeduI2ioiJ+//13jBo1Cs7OztDQ0MCgQYNk5g0kIqrOLKcdrtDjPVzUudTbREdHw8TEBK1atSqHiKgoWVlZVWrKs6oWjzyo8k8CqV27Nnbt2oWXL18iJSUFW7Zsgaamprje0tISgiDA1dUVAGBubo4zZ87g+fPnyMjIwN27d7FkyZJ8l2stLCxw5MgRvHr1Ck+fPsWyZcugpFTl82EiohrBy8sLY8eORUxMDCQSCSwtLeHq6ipeAr5z5w7U1dVlJv3fu3cv1NTUcPv2bQBAcnIyhg4dCgMDA2hra+OLL77AX3/9JXOcRYsWwcjICFpaWhgyZAgyMjJKHGNOTg58fX2hq6sLPT09TJkyBYIgyNTJzc2Fv78/rKysoKamhqZNm+LXX3+VqXPr1i106dIF2tra0NLSQtu2bREdHS1uP2/ePNSpUwdSqRT29vYICQmR2f7SpUtwcHCAqqoqmjdvjuvXr+eL9ebNm+jYsSM0NTVhZGSEb775Bs+ePRPXu7q6wsfHBxMmTIC+vj7c3d2LbLsgCJgzZw7q1q0LqVQKU1NTjBs3TlyfmZmJqVOnwtzcHFKpFNbW1ti8ebO4/syZM2jZsiWkUilMTEwwbdo0madtFRZPce349ddfYWdnBzU1Nejp6cHNzQ3p6elFtoUKVuUTQCIiqnlWrVolJj5xcXG4fPmyzPpGjRph2bJlGD16NGJiYvD48WOMHDkSixcvFu/V7t27NxITE3H06FFcvXoVzZo1Q/v27ZGUlATgbcI4Z84cLFy4EFeuXIGJiQl+/PHHEse4fPlybNu2DVu2bMEff/yBpKQkHDhwQKaOv78/tm/fjsDAQNy6dQsTJ07E//73P5w5cwbA29uU2rVrB6lUilOnTuHq1asYPHiwmAytWrUKy5cvx7Jly3Djxg24u7ujW7duuHv3LgAgLS0NXbp0ga2tLa5evYo5c+bg22+/lYkhOTkZX3zxBRwcHHDlyhWEhIQgISEBffr0kakXFBQEFRUVhIeHIzAwsMi279u3DytXrsT69etx9+5dBAcHw87OTlw/cOBA/Pzzz1i9ejUiIyOxfv16sXPmyZMn6NSpE1q0aIG//voL69atw+bNm7FgwYIi4ymuHXFxcejfvz8GDx6MyMhIhIWFoVevXvmScioZicAz98FSU1Oho6ODlJSUqjUgZI7OB2yTUvZxEFG5y8jIwIMHD2BlZQVVVVWxvDpcAg4ICEBAQAAePnwI4G2vkL29PQICAsQ6Xbp0QWpqKlRUVKCoqIiQkBBIJBL88ccf6Ny5MxITE2Xu3ba2tsaUKVMwfPhwtGrVCg4ODli7dq24/rPPPkNGRkaJBlCYmppi4sSJmDx5MoC3s1BYWVnB0dERwcHByMzMRO3atXHixAk4OzuL2w0dOhSvXr3Crl27MGPGDOzevRtRUVFQVlbOdwwzMzOMGTMGM2bMEMtatmyJFi1aYO3atdiwYQNmzJiBx48fi+9vYGAgRo0ahevXr8Pe3h4LFizAuXPncOzYMXEfjx8/hrm5OaKiovDJJ5/A1dUVqampuHbtWrHtBoAVK1Zg/fr1uHnzZr64//nnHzRs2BChoaFwc3PLt+3MmTOxb98+REZGiiNxf/zxR0ydOhUpKSlQUFAoMJ7i2pGWlgZHR0c8fPgQFhYWxbahsM8GUIV/vysQr3kSEVGVtWXLFnzyySdQUFDArVu3xITir7/+QlpaWr7Jr1+/fi1eXo2MjMTIkSNl1js7O+P06dPFHjclJQVxcXEyM04oKSmhefPmYo/TvXv38OrVK3z55Zcy22ZlZYlPlIqIiEDbtm0LTP5SU1MRGxuL1q1by5S3bt1avJQdGRmJJk2ayCQw7yabeefi9OnTMrdH5YmOjsYnn3wCAHB0dCy23Xl69+6NgIAA1KtXDx4eHujUqRO6du0KJSUlREREQFFRES4uLgVuGxkZCWdnZ5lpWFq3bo20tDQ8fvwYdevWLTCe4trRoUMHtG/fHnZ2dnB3d0eHDh3w1VdfoVatWiVuF/2HCSAREVVZf/31F9LT06GgoIC4uDhxOq+0tDSYmJggLCws3za6uroVEltaWhoA4PDhwzAzM5NZl9crWRGjmtPS0tC1a9cCH7Dw7mPQNDQ0SrzPvF63EydOIDQ0FKNHj8bSpUtx5syZMmvT+/EU1w5FRUWEhobizz//xPHjx7FmzRrMnDkTFy9ehJWVVZnEJE94DyAREVVJSUlJ8PLywsyZM+Hl5YUBAwbg9evXAIBmzZohPj4eSkpKsLa2lln09fUBvJ1K7OLFizL7vHDhQomOraOjAxMTE5nts7OzZealtbW1hVQqRUxMTL4Y8h4S0KRJE5w7d058Ysu7tLW1YWpqivDwcJny8PBw8T5HGxsb3LhxQ2bwyvttaNasGW7dugVLS8t8cZQm6XufmpoaunbtitWrVyMsLAznz5/H33//DTs7O+Tm5or3Ob7PxsYG58+fl7k3Lzw8HFpaWqhTp06hxytJOyQSCVq3bo25c+fi+vXrUFFRyXdfJpUME0AiIqqSRo4cCXNzc3z33XdYsWIFcnJyxAEQbm5ucHZ2Ro8ePXD8+HE8fPgQf/75J2bOnIkrV64AAMaPH48tW7Zg69at+OeffzB79mzcunWrxMcfP348Fi1ahODgYNy5cwejR49GcnKyuF5LSwvffvstJk6ciKCgIERHR+PatWtYs2YNgoKCAAA+Pj5ITU1Fv379cOXKFdy9exc//fQToqKiAACTJ0/G4sWLsWfPHkRFRWHatGmIiIjA+PHjAbx9tr1EIsGwYcNw+/ZtHDlyBMuWLZOJc8yYMUhKSkL//v1x+fJlREdH49ixY/D29kZOTs4Hnftt27Zh8+bNuHnzJu7fv48dO3ZATU0NFhYWsLS0xKBBgzB48GAEBwfjwYMHCAsLw969ewEAo0ePxqNHjzB27FjcuXMHv/32G2bPng1fX18oKBSedhTXjosXL4oDemJiYrB//348ffoUNjY2H9RGecdLwEREVOVs374dR44cwfXr16GkpAQlJSXs2LEDbdq0QZcuXdCxY0ccOXIEM2fOhLe3N54+fQpjY2O0a9cORkZGAIC+ffsiOjoaU6ZMQUZGBjw9PTFq1CiZQQZFmTRpEuLi4jBo0CAoKChg8ODB6NmzJ1JS/hs0N3/+fBgYGMDf3x/379+Hrq4umjVrJg7q0NPTw6lTpzB58mS4uLhAUVER9vb24n1/48aNQ0pKCiZNmoTExETY2tri4MGDaNCgAQBAU1MThw4dwsiRI+Hg4ABbW1ssXrwYnp6eYgx5vYhTp05Fhw4dkJmZCQsLC3h4eBSZcBVFV1cXixYtgq+vL3JycmBnZ4dDhw6J91yuW7cOM2bMwOjRo/H8+XPUrVtXbLOZmRmOHDmCyZMno2nTpqhduzaGDBkiMx9vQYprh7a2Ns6ePYuAgACkpqbCwsICy5cvR8eOHT+ojfKOo4A/QpUdRcRRwERyo6iRjkTyjKOAi8ZLwERERERyhgkgERHJJU1NzUKXc+fOVXZ45Wrnzp2Ftr1x48aVHR5VAN4DSEREcqmoyaDfn9alpunWrZvMHIfvKmjOQqp5mAASEZFcsra2ruwQKo2Wlha0tLQqOwyqRLwETERERCRnmAASERERyRkmgERERERyhgkgERERkZxhAkhEREQkZ5gAEhEREckZJoBEREQAvLy80KNHj0qN4eHDh5BIJEXOUUhUFjgPIBFRTfQhzwT/qOPxeeJE1Ql7AImIiGqQrKysyg5BRlWLh95iAkhERJXC1dUVPj4+8PHxgY6ODvT19TFr1iwIggAAyMzMxNSpU2Fubg6pVApra2ts3rwZAJCTk4MhQ4bAysoKampqaNiwIVatWlXiY+fk5MDX1xe6urrQ09PDlClTxOPmyc3Nhb+/v3iMpk2b4tdff5Wpc+vWLXTp0gXa2trQ0tJC27ZtER0dLW4/b9481KlTB1KpFPb29ggJCZHZ/tKlS3BwcICqqiqaN2+O69ev54v15s2b6NixIzQ1NWFkZIRvvvkGz549y3ceJ0yYAH19fbi7uxfZdkEQMGfOHNStWxdSqRSmpqYYN26cuL6o8w4AZ86cQcuWLSGVSmFiYoJp06YhOzu72HiKa8evv/4KOzs7qKmpQU9PD25ubkhPTy+yLfThmAASEVGlCQoKgpKSEi5duoRVq1ZhxYoV2LRpEwBg4MCB+Pnnn7F69WpERkZi/fr10NTUBPA2uapTpw5++eUX3L59G35+fpgxYwb27t1bouMuX74c27Ztw5YtW/DHH38gKSkJBw4ckKnj7++P7du3IzAwELdu3cLEiRPxv//9D2fOnAEAPHnyBO3atYNUKsWpU6dw9epVDB48WEyGVq1aheXLl2PZsmW4ceMG3N3d0a1bN9y9excAkJaWhi5dusDW1hZXr17FnDlz8O2338rEkJycjC+++AIODg64cuUKQkJCkJCQgD59+uQ7jyoqKggPD0dgYGCRbd+3bx9WrlyJ9evX4+7duwgODoadnZ24vqjz/uTJE3Tq1AktWrTAX3/9hXXr1mHz5s1YsGBBkfEU1464uDj0798fgwcPRmRkJMLCwtCrV698STmVHYnAs/vBUlNToaOjg5SUFGhra1d2OP/5kHt/eP8OUbWUkZGBBw8ewMrKCqqqqv+tqAb3ALq6uiIxMRG3bt2CRCIBAEybNg0HDx5EcHAwGjZsiNDQULi5uZVofz4+PoiPj8/XS1cQU1NTTJw4EZMnTwYAZGdnw8rKCo6OjggODkZmZiZq166NEydOwNnZWdxu6NChePXqFXbt2oUZM2Zg9+7diIqKgrKycr5jmJmZYcyYMZgxY4ZY1rJlS7Ro0QJr167Fhg0bMGPGDDx+/Fh87wIDAzFq1Chcv34d9vb2WLBgAc6dO4djx46J+3j8+DHMzc0RFRWFTz75BK6urkhNTcW1a9dKdJ5WrFiB9evX4+bNm/ni/ueff4o87zNnzsS+ffsQGRkpvmc//vgjpk6dipSUFCgoKBQYT3HtSEtLg6OjIx4+fAgLC4sStaM4hX42UIV/vysQewCJiKjSfPbZZ2IiAQDOzs64e/curl+/DkVFRbi4uBS67dq1a+Ho6AgDAwNoampiw4YNiImJKfaYKSkpiIuLg5OTk1impKSE5s2bi6/v3buHV69e4csvv4Smpqa4bN++XbzEGxERgbZt2xaY/KWmpiI2NhatW7eWKW/dujUiIyMBAJGRkWjSpIlMcvJusgkAf/31F06fPi0TQ6NGjQBAjAMAHB0di213nt69e+P169eoV68ehg0bhgMHDoi9lhEREUWe98jISDg7O8u8Z61bt0ZaWhoeP35caDzFtaNp06Zo37497Ozs0Lt3b2zcuBEvXrwocZuo9DgKmIiIqpz3e2zet3v3bnz77bdYvnw5nJ2doaWlhaVLl+LixYtlcvy0tDQAwOHDh2FmZiazTiqVAgDU1NTK5FjFxdG1a1csXrw43zoTExPx/zU0NEq8z7xetxMnTiA0NBSjR4/G0qVLcebMmTJr0/vxFNcORUVFhIaG4s8//8Tx48exZs0azJw5ExcvXoSVlVWZxESy2ANIRESV5v2E7cKFC2jQoAGaNm2K3Nxc8X6794WHh6NVq1YYPXo0HBwcYG1tLdMjVhQdHR2YmJjIHDs7OxtXr14VX9va2kIqlSImJgbW1tYyi7m5OQCgSZMmOHfuHN68eZPvGNra2jA1NUV4eHi+uG1tbQEANjY2uHHjBjIyMmTa/65mzZrh1q1bsLS0zBdHaZK+96mpqaFr165YvXo1wsLCcP78efz999+ws7Mr8rzb2Njg/PnzMvfmhYeHQ0tLC3Xq1Cn0eCVph0QiQevWrTF37lxcv34dKioq+e7LpLLDBJCIiCpNTEwMfH19ERUVhZ9//hlr1qzB+PHjYWlpiUGDBmHw4MEIDg7GgwcPEBYWJg7yaNCgAa5cuYJjx47hn3/+waxZs3D58uUSH3f8+PFYtGgRgoODcefOHYwePRrJycniei0tLXz77beYOHEigoKCEB0djWvXrmHNmjUICgoC8Paew9TUVPTr1w9XrlzB3bt38dNPPyEqKgoAMHnyZCxevBh79uxBVFQUpk2bhoiICIwfPx4A8PXXX0MikWDYsGG4ffs2jhw5gmXLlsnEOWbMGCQlJaF///64fPkyoqOjcezYMXh7eyMnJ+eDzvm2bduwefNm3Lx5E/fv38eOHTugpqYGCwuLYs/76NGj8ejRI4wdOxZ37tzBb7/9htmzZ8PX1xcKCoWnFMW14+LFi1i4cCGuXLmCmJgY7N+/H0+fPoWNjc0HtZGKx0vAREQ1UTUZ2DVw4EC8fv0aLVu2hKKiIsaPH4/hw4cDANatW4cZM2Zg9OjReP78OerWrSsOqBgxYgSuX7+Ovn37QiKRoH///hg9ejSOHj1aouNOmjQJcXFxGDRoEBQUFDB48GD07NkTKSn/nbf58+fDwMAA/v7+uH//PnR1ddGsWTMxBj09PZw6dQqTJ0+Gi4sLFBUVYW9vL973N27cOKSkpGDSpElITEyEra0tDh48iAYNGgAANDU1cejQIYwcORIODg6wtbXF4sWL4enpKcaQ14s4depUdOjQAZmZmbCwsICHh0eRCVdRdHV1sWjRIvj6+iInJwd2dnY4dOgQ9PT0ij3vZmZmOHLkCCZPnoymTZuidu3aGDJkCL777rsij1lcO7S1tXH27FkEBAQgNTUVFhYWWL58OTp27PhBbaTicRTwR6iyo4g4CphIbhQ10rGqc3V1hb29PQICAio7FKqBOAq4aLwETERERCRnmAASEVGN8+50I+8v586dq+zwytXOnTsLbXvjxo0rOzyqIngPIBERVYqwsLBy23dERESh696f1qWm6datm8wch+8qaM5Ckk9MAImIqMaxtrau7BAqjZaWFrS0tCo7DKrieAmYiIiISM5U+QQwKSkJAwYMgLa2NnR1dTFkyBBxhvaCPHz4EBKJpMDll19+EesVtH737t0V0SQiIiKiSlXlLwEPGDAAcXFxCA0NxZs3b+Dt7Y3hw4dj165dBdY3NzdHXFycTNmGDRuwdOnSfPMJbd26FR4eHuJrXV3dMo+fiIiIqKqp0glgZGQkQkJCcPnyZfEh3WvWrEGnTp2wbNkymJqa5ttGUVERxsbGMmUHDhxAnz59oKmpKVOuq6ubry4RERFRTVelLwGfP38eurq6YvIHAG5ublBQUCjxA7+vXr2KiIgIDBkyJN+6MWPGQF9fHy1btsSWLVvAObGJiIhIHlTpBDA+Ph6GhoYyZUpKSqhduzbi4+NLtI/NmzfDxsYGrVq1kimfN28e9u7di9DQUHh6emL06NFYs2ZNkfvKzMxEamqqzEJERNWfpaVlpT+RZNu2bbwViSpMpVwCnjZtGhYvXlxkncjIyI8+zuvXr7Fr1y7MmjUr37p3yxwcHJCeno6lS5di3Lhxhe7P398fc+fO/ei4iIjKm12QXYUe7+9Bf1fo8Yjo41RKAjhp0iR4eXkVWadevXowNjZGYmKiTHl2djaSkpJKdO/er7/+ilevXmHgwIHF1nVycsL8+fORmZkJqVRaYJ3p06fD19dXfJ2amgpzc/Ni901ERFQR3rx5U6Ume65q8dB/KuUSsIGBARo1alTkoqKiAmdnZyQnJ+Pq1avitqdOnUJubm6hs5y/a/PmzejWrRsMDAyKrRsREYFatWoVmvwBgFQqhba2tsxCREQfJjc3F0uWLIG1tTWkUinq1q2L77//HgDw+PFj9O/fH7Vr14aGhgaaN28u3vsdHR2N7t27w8jICJqammjRogVOnDhR4uMmJiaia9euUFNTg5WVFXbu3JmvTnJyMoYOHQoDAwNoa2vjiy++wF9//SVT59ChQ2jRogVUVVWhr6+Pnj17iutevHiBgQMHolatWlBXV0fHjh1x9+5dme23bduGunXrQl1dHT179sTz58/zxfHbb7+hWbNmUFVVRb169TB37lxkZ2eL6yUSCdatW4du3bpBQ0NDPH+FefHiBQYMGAADAwOoqamhQYMG2Lp1q7i+qPMOAOvWrUP9+vWhoqKChg0b4qeffpLZf2HxFNUOQRAwZ84c1K1bF1KpFKampkVejaOyUaVHAdvY2MDDwwPDhg1DYGAg3rx5Ax8fH/Tr108cAfzkyRO0b98e27dvR8uWLcVt7927h7Nnz+LIkSP59nvo0CEkJCTgs88+g6qqKkJDQ7Fw4UJ8++23FdY2IiJ5N336dGzcuBErV65EmzZtEBcXhzt37iAtLQ0uLi4wMzPDwYMHYWxsjGvXriE3NxcAkJaWhk6dOuH777+HVCrF9u3b0bVrV0RFRaFu3brFHtfLywuxsbE4ffo0lJWVMW7cuHxXm3r37g01NTUcPXoUOjo6WL9+Pdq3b49//vkHtWvXxuHDh9GzZ0/MnDkT27dvR1ZWlszvjZeXF+7evYuDBw9CW1sbU6dORadOnXD79m0oKyvj4sWLGDJkCPz9/dGjRw+EhIRg9uzZMjGcO3cOAwcOxOrVq9G2bVtER0dj+PDhACBTd86cOVi0aBECAgKgpFT0z/qsWbNw+/ZtHD16FPr6+rh37x5ev34tnteizvuBAwcwfvx4BAQEwM3NDb///ju8vb1Rp04dfP7554XGU1w79u3bh5UrV2L37t1o3Lgx4uPj8yXbVPYkQhUf+pqUlAQfHx8cOnQICgoK8PT0xOrVq8UpXR4+fAgrKyucPn0arq6u4nYzZszAjh078PDhQygoyHZ0hoSEYPr06bh37x4EQYC1tTVGjRqFYcOG5atblNTUVOjo6CAlJaVq9QbO0fmAbVLKPg4iKncZGRl48OABrKysoKqqKpZX9XsAX758CQMDA/zwww8YOnSozLoNGzbg22+/xcOHD1G7du0S7e/TTz/FyJEj4ePjU2S9f/75Bw0bNsSlS5fQokULAMCdO3dgY2ODlStXYsKECfjjjz/QuXNnJCYmylwVsra2xpQpUzB8+HC0atUK9erVw44dO/Id4+7du/jkk08QHh4uDkB8/vw5zM3NERQUhN69e+Prr79GSkoKDh8+LG7Xr18/hISEIDk5GcDbWS/at2+P6dOni3V27NiBKVOmIDY2FsDbHrcJEyZg5cqVJTpP3bp1g76+PrZs2ZJvXXHnvXXr1mjcuDE2bNgglvXp0wfp6eliOwqKp7h2rFixAuvXr8fNmzfL9HJxYZ8NoAr/flegKt0DCAC1a9cudNJn4O3IrYJy2IULF2LhwoUFbuPh4SEzATQREVWsyMhIZGZmon379vnWRUREwMHBodDkLy0tDXPmzMHhw4cRFxeH7OxsvH79GjExMSU6rpKSEhwdHcWyRo0ayYy+/euvv5CWlgY9PT2ZbV+/fo3o6GgxxmHDhhV5jHdvVdLT00PDhg3FAY6RkZEyl4wBwNnZGSEhITJxhIeHy1zWzcnJQUZGBl69egV1dXUAkJkqrTijRo2Cp6cnrl27hg4dOqBHjx5iklrceY+MjBR77vK0bt0aq1atkil7P57i2tG7d28EBASgXr168PDwQKdOndC1a9diezPp4/DsEhFRhVNTU/ugdQDw7bffIjQ0FMuWLYO1tTXU1NTw1VdfISsrq0xiS0tLg4mJCcLCwvKty0sUi4uxrOKYO3cuevXqlW/duz1aGhoaJd5nx44d8e+//+LIkSMIDQ1F+/btMWbMGCxbtqzM2vR+PMW1w9zcHFFRUThx4gRCQ0MxevRoLF26FGfOnOEAknJUpecBJCKimqlBgwZQU1PDyZMn861r0qQJIiIikJSUVOC24eHh8PLyQs+ePWFnZwdjY2M8fPiwRMdt1KgRsrOzZQYXRkVFiZddAaBZs2aIj4+HkpISrK2tZRZ9fX0xxoJiB97ev56dnS0zeOL58+eIioqCra2tWOf9BxpcuHBB5nWzZs0QFRWVLwZra+tS3a70PgMDAwwaNAg7duxAQECAeEm3uPNuY2OD8PBwmbLw8HCxTYUpSTvU1NTQtWtXrF69GmFhYTh//jz+/ptTC5Un9gASEVGFU1VVxdSpUzFlyhSoqKigdevWePr0KW7duoVvvvkGCxcuRI8ePeDv7w8TExNcv34dpqamcHZ2RoMGDbB//3507doVEokEs2bNEgcqFKdhw4bw8PDAiBEjsG7dOigpKWHChAkyvV9ubm5wdnZGjx49sGTJEnzyySeIjY0VB340b94cs2fPRvv27VG/fn3069cP2dnZOHLkCKZOnYoGDRqge/fuGDZsGNavXw8tLS1MmzYNZmZm6N69OwBg3LhxaN26NZYtW4bu3bvj2LFjMpd/AcDPzw9dunRB3bp18dVXX0FBQQF//fUXbt68iQULFnzQeffz84OjoyMaN26MzMxM/P7777CxsQEA9O/fv8jzPnnyZPTp0wcODg5wc3PDoUOHsH///mJHYBfXjm3btiEnJwdOTk5QV1fHjh07oKamBgsLiw9qI5WQQB8sJSVFACCkpKRUdiiyZmuXfiGiaun169fC7du3hdevX1d2KKWWk5MjLFiwQLCwsBCUlZWFunXrCgsXLhQEQRAePnwoeHp6Ctra2oK6urrQvHlz4eLFi4IgCMKDBw+Ezz//XFBTUxPMzc2FH374QXBxcRHGjx9fouPGxcUJnTt3FqRSqVC3bl1h+/btgoWFhbBy5UqxTmpqqjB27FjB1NRUUFZWFszNzYUBAwYIMTExYp19+/YJ9vb2goqKiqCvry/06tVLXJeUlCR88803go6OjqCmpia4u7sL//zzj0wcmzdvFurUqSOoqakJXbt2FZYtWybo6OjI1AkJCRFatWolqKmpCdra2kLLli2FDRs2iOsBCAcOHChRuwVBEObPny/Y2NgIampqQu3atYXu3bsL9+/fF9cXdd4FQRB+/PFHoV69eoKysrLwySefCNu3b5fZf2HxFNWOAwcOCE5OToK2tragoaEhfPbZZ8KJEydK3KbCFPXZqLK/3xWoyo8Crsqq7CgijgImkhtFjXQkkmccBVw03gNIREREJGeYABIRUY1x7tw5aGpqFrrUdCNHjiy07SNHjqzs8KgK4SAQIiKqMZo3b46IiIjKDqPSzJs3r9CnWsnrpU4qGBNAIiKqMdTU1GBtbV3ZYVQaQ0NDGBoaVnYYVA3wEjARERGRnGECSERERCRnmAASERERyRkmgERERERyhgkgERERkZxhAkhERNWWRCJBcHBwpcYwZ84c2NvbV2oMRKXFaWCIiGqgyEY2FXo8mzuRFXo8Ivo47AEkIqIqISsrq7JDqDRv3ryp7BBkVLV4qOwxASQiokrh6uoKHx8fTJgwAfr6+nB3dy+y/t27d9GuXTuoqqrC1tYWoaGh+eo8evQIffr0ga6uLmrXro3u3bvj4cOHMnW2bNmCxo0bQyqVwsTEBD4+PuK6mJgYdO/eHZqamtDW1kafPn2QkJAgs/2iRYtgZGQELS0tDBkyBBkZGfni2LRpE2xsbKCqqopGjRrhxx9/FNc9fPgQEokEe/bsgYuLC1RVVbFz584i2/7vv/+ia9euqFWrFjQ0NNC4cWMcOXJEXH/r1i106dIF2tra0NLSQtu2bREdHQ0AyM3Nxbx581CnTh1IpVLY29sjJCSkRPEU1Y6srCz4+PjAxMQEqqqqsLCwgL+/f5HtoKqDl4CJiKjSBAUFYdSoUQgPDy+yXm5uLnr16gUjIyNcvHgRKSkpmDBhgkydN2/ewN3dHc7Ozjh37hyUlJSwYMECeHh44MaNG1BRUcG6devg6+uLRYsWoWPHjkhJSRGPnZubKyZ/Z86cQXZ2NsaMGYO+ffsiLCwMALB3717MmTMHa9euRZs2bfDTTz9h9erVqFevnhjHzp074efnhx9++AEODg64fv06hg0bBg0NDQwaNEisN23aNCxfvhwODg5QVVUtsv1jxoxBVlYWzp49Cw0NDdy+fVt8tvGTJ0/Qrl07uLq64tSpU9DW1kZ4eDiys7MBAKtWrcLy5cuxfv16ODg4YMuWLejWrRtu3bqFBg0aFBpPce1YvXo1Dh48iL1796Ju3bp49OgRHj16VPQbTlUGE0AiIqo0DRo0wJIlS4qtd+LECdy5cwfHjh2DqakpAGDhwoXo2LGjWGfPnj3Izc3Fpk2bIJFIAABbt26Frq4uwsLC0KFDByxYsACTJk3C+PHjxe1atGgBADh58iT+/vtvPHjwAObm5gCA7du3o3Hjxrh8+TJatGiBgIAADBkyBEOGDAEALFiwACdOnJDpBZw9ezaWL1+OXr16AQCsrKxw+/ZtrF+/XiYBnDBhglinODExMfD09ISdnR0AyCSca9euhY6ODnbv3g1lZWUAwCeffCKuX7ZsGaZOnYp+/foBABYvXozTp08jICAAa9euLTSe4toRExODBg0aoE2bNpBIJLCwsChRW6hq4CVgIiKqNI6OjiWqFxkZCXNzczH5AwBnZ2eZOn/99Rfu3bsHLS0taGpqQlNTE7Vr10ZGRgaio6ORmJiI2NhYtG/fvshj5CV/AGBrawtdXV1ERkaKdZycnGS2ezeO9PR0REdHY8iQIWIMmpqaWLBggXhJNk/z5s1L1HYAGDduHBYsWIDWrVtj9uzZuHHjhrguIiICbdu2FZO/d6WmpiI2NhatW7eWKW/durXYpoLiKUk7vLy8EBERgYYNG2LcuHE4fvx4idtDlY89gEREVGk0NDTKbF9paWlwdHQs8H46AwMDKCiUf59HWloaAGDjxo35EkVFRUWZ16Vp+9ChQ+Hu7o7Dhw/j+PHj8Pf3x/LlyzF27Fioqal9fODvxVOSdjRr1gwPHjzA0aNHceLECfTp0wdubm749ddfyyQeKl/sASQioirPxsYGjx49QlxcnFh24cIFmTrNmjXD3bt3YWhoCGtra5lFR0cHWlpasLS0xMmTJ4s8xrv3sd2+fRvJycmwtbUV61y8eFFmu3fjMDIygqmpKe7fv58vBisrq486B+bm5hg5ciT279+PSZMmYePGjQCAJk2a4Ny5cwWO3NXW1oapqWm+eyzDw8PFNhWkpO3Q1tZG3759sXHjRuzZswf79u1DUlLSR7WTKgZ7AImIqMpzc3PDJ598gkGDBmHp0qVITU3FzJkzZeoMGDAAS5cuRffu3cVRr//++y/279+PKVOmoE6dOpgzZw5GjhwJQ0NDdOzYES9fvkR4eDjGjh0LNzc32NnZYcCAAQgICEB2djZGjx4NFxcX8fLo+PHj4eXlhebNm6N169bYuXMnbt26JXNP3ty5czFu3Djo6OjAw8MDmZmZuHLlCl68eAFfX98Pav+ECRPQsWNHfPLJJ3jx4gVOnz4NG5u3cz36+PhgzZo16NevH6ZPnw4dHR1cuHABLVu2RMOGDTF58mTMnj0b9evXh729PbZu3YqIiIhiRx4X144VK1bAxMQEDg4OUFBQwC+//AJjY2Po6up+UBupYjEBJCKiKk9BQQEHDhzAkCFD0LJlS1haWmL16tXw8PAQ66irq+Ps2bOYOnUqevXqhZcvX8LMzAzt27eHtrY2AGDQoEHIyMjAypUr8e2330JfXx9fffUVgLdPFfntt98wduxYtGvXDgoKCvDw8MCaNWvEY/Tt2xfR0dGYMmUKMjIy4OnpiVGjRuHYsWNinaFDh0JdXR1Lly7F5MmToaGhATs7u3yjlksjJycHY8aMwePHj6GtrQ0PDw+sXLkSAKCnp4dTp05h8uTJcHFxgaKiIuzt7cX7/saNG4eUlBRMmjQJiYmJsLW1xcGDB2VGABekuHZoaWlhyZIluHv3LhQVFdGiRQscOXKkQi6108eTCIIgVHYQ1VVqaip0dHSQkpIifrlUCXN0PmCblLKPg4jKXUZGBh48eAArK6tipxIhkidFfTaq7O93BWKaTkRERCRnmAASEVGl27lzp8x0I+8ujRs3ruzwyl3Hjh0Lbf/ChQsrOzyqgXgPIBERVbpu3brlm24kT0Hz29U0mzZtwuvXrwtcV7t27QqOhuQBE0AiIqp0Wlpa0NLSquwwKo2ZmVllh0ByhpeAiYhqAI7nI5LFz0TRmAASEVVjeZdHX716VcmREFUteZ8JebiF4EPwEjARUTWmqKgIXV1dJCYmAng7F55EIqnkqIgqjyAIePXqFRITE6Grq5vvEXz0FhNAIqJqztjYGADEJJCIAF1dXfGzQfkxASQiquYkEglMTExgaGhY4PNgieSNsrIye/6KwQSQiKiGUFRU5I8eEZVIlR8E8v3336NVq1ZQV1cv8QOmBUGAn58fTExMoKamBjc3N9y9e1emTlJSEgYMGABtbW3o6upiyJAhSEtLK4cWEBEREVUtVT4BzMrKQu/evTFq1KgSb7NkyRKsXr0agYGBuHjxIjQ0NODu7o6MjAyxzoABA3Dr1i2Ehobi999/x9mzZzF8+PDyaAIRERFRlSIRqslEOdu2bcOECROQnJxcZD1BEGBqaopJkybh22+/BQCkpKTAyMgI27ZtQ79+/RAZGQlbW1tcvnwZzZs3BwCEhISgU6dOePz4MUxNTUsUU5V9mPQcnQ/YJqXs4yAiIqqCquzvdwWqcfcAPnjwAPHx8XBzcxPLdHR04OTkhPPnz6Nfv344f/48dHV1xeQPANzc3KCgoICLFy+iZ8+eBe47MzMTmZmZ4uuUlLdJU2pqajm15gNlfkBOX9XaQEREVE7yfrerSR9YuahxCWB8fDwAwMjISKbcyMhIXBcfHw9DQ0OZ9UpKSqhdu7ZYpyD+/v6YO3duvnJzc/OPDbvyLfqAXkMiIqJq7OXLl9DRkc/fv0pJAKdNm4bFixcXWScyMhKNGjWqoIhKZvr06fD19RVf5+bmIikpCXp6etV64tXU1FSYm5vj0aNHctsVXlXwvag6+F5UHXwvqo6a8l4IgoCXL1+W+JavmqhSEsBJkybBy8uryDr16tX7oH3nTfqYkJAAExMTsTwhIQH29vZinfcnTM3OzkZSUlKRk0ZKpVJIpVKZspKOTK4OtLW1q/UHuibhe1F18L2oOvheVB014b2Q156/PJWSABoYGMDAwKBc9m1lZQVjY2OcPHlSTPhSU1Nx8eJFcSSxs7MzkpOTcfXqVTg6OgIATp06hdzcXDg5OZVLXERERERVRZWfBiYmJgYRERGIiYlBTk4OIiIiEBERITNnX6NGjXDgwAEAb2fEnzBhAhYsWICDBw/i77//xsCBA2FqaooePXoAAGxsbODh4YFhw4bh0qVLCA8Ph4+PD/r16yfX3cFEREQkH6r8IBA/Pz8EBQWJrx0cHAAAp0+fhqurKwAgKipKHJELAFOmTEF6ejqGDx+O5ORktGnTBiEhIVBVVRXr7Ny5Ez4+Pmjfvj0UFBTg6emJ1atXV0yjqhipVIrZs2fnu7xNFY/vRdXB96Lq4HtRdfC9qDmqzTyARERERFQ2qvwlYCIiIiIqW0wAiYiIiOQME0AiIiIiOcMEkIiIiEjOMAEkqmaioqKwYMEC9OrVCzdv3qzscOSKIAjIyMio7DDo/+Xk5GDfvn0IDg4G8PbpTFQ5OJ60+mECSCUSHR2Ne/fuVXYYcismJgZjxoyBpqYmHB0d8dtvv6FNmzaoU6dOZYdW46WmpmLr1q1o27YtrKysEBoaWtkhybXHjx9j5syZsLGxgaqqKry9vREREQEAUFDgT1pFSk1NxaJFi2Bvb48OHTogMDAQb968qeywqISq/DyAVHnS0tIQHByMNWvW4PLly+jevTv2799frZ97XB3k5OQgLi5OJrmLjY1FaGgoevbsiZ9++qkSo5M/V65cwbZt29C4cWP8888/+Pfffys7JLmVlZWFTZs2wd/fH+vWrcOXX375wY8NpY8jCAI2bdqEnTt3wsvLC1lZWRg3bhxiY2Mxa9YsKCsrV3aIVAz+c4kAvE06Hj9+LFOWnJyM69evo3379pg6dSquXbsmM+E2la1r166hbdu20NbWRq9evTB58mTxX9ONGzdGixYtoKamhtevXyMkJAS//vorXr9+XclRV3/FXdKtW7cuvv32WwQGBsLOzg7Xrl1DUlJSBUUnf4p6P1RUVODk5AR9fX0MHjwY9erVw4MHD/h+VIL09HTMnj0bo0aNwqRJkzB9+nSsXr0aP/30E06cOAGAl4WrOiaAcq6gpCM7OxsAYGRkhMGDB2P69OkYNmwYHj9+jKioqEqOuGZ6+fIl/Pz8YGVlhT/++AOjR4/GDz/8gNmzZ+P169fQ0tJCnTp1sG/fPtSpUwfTp0/H7Nmz4eTkhCNHjlR2+NVOamoq5s+fD2trazg4OGDu3LlISEgosK61tTW6du0KAHB1dcWtW7fw5MkTAPyBKyuleT+srKxQq1Yt2Nraws7ODm5ubujfvz/WrFlTwVHXTOHh4Zg+fTqOHDlS5N/3xYsXUadOHTRt2lQs69GjB6ytrbFt2zYA/HxUdbwELMfeTTpWr16Nv/76C6NGjYKysjL8/PygqqqKxo0bAwC0tLRgYWGBU6dOwcnJqZIjr34yMjJkHkX4vqioKJw9exZHjhyBg4MDHBwc8PLlS6xfvx6tW7dG586d0aZNGygrK6NTp05o0qQJbt++jYCAAEyYMAGNGjXipbBS2LZtG4KDgzF9+nQoKChgxowZuHnzJlatWgVTU1MIgiBzq0NOTg4UFRXRoUMHrF+/HtHR0bCzs+PtEGWkNO+HgYEBPD098fDhQ3h5eUFVVRU///wzZsyYAXV1dQwZMqSSW1M9xcfHY+7cuThz5gzu3LmDhIQEuLq6Ql1dXaZebm4uFBQUkJubC6lUimfPnonrDA0N4eHhAX9/fwC8J7PKE6jGev36dZHrL1++LGhpaQnnzp0Ty1avXi00btxYOHr0qCAIgvDmzRshNzdXEARBGDJkiODi4iK+pqKlpKQI8+bNE+rXry/Y2NgIc+bMEeLj42Xq5J3LgIAA4bPPPhPu3Lkjrrt7967g5uYmeHl5CYIgCC9evBCeP38us/3jx4+FWrVqCbt27Srn1tQcT58+FVq2bCmMGjVKLDt37pxga2srLFy4UBAEQcjJySl0e2tra2HBggVCVlZWuccqD0r7fuTk5Ah37twR4uLiZPYzYMAAoVOnTsLTp08rJvAa5tmzZ8KCBQuE8PBw4bvvvhMaNWokPHnypND68fHxgoWFhbB27VqZ8lOnTgnKyspCTExMeYdMH4npeQ3z7qWUZs2aFXgpRfj/bvnw8HA0btwYBgYG4rqOHTvCxMQEv/zyi1iW9y/vzp0749q1a4iPj6+AllR/eb0aM2fOxOTJkxEYGAgfHx/ExsYCePs+5L0XZmZmiI2Nlbmnr06dOmjevDn+/PNPAICuri7+r717D4qqfOMA/j27XHZh46ZxEYlVQFgVRExBsR+aZhkSUk5lXlCTjC6IippmgTpdvCSaNGOYgrex0UQntShE0SRFJBCSFZAAUwlwxZGLCe0+vz8czs8NEPCHIPB8ZpjhvO97znnOednl2fec96yVlZXePuzt7SEIAqqqqjroqLq+iooKlJeX48UXXxTLhg0bBj8/PyQmJoKImhy50Gq1AAAPDw9kZWVBo9F0WMzdWVv7QyKRwNXVFba2tgD+9+iXoUOHoqysjN+fHpKVlRUWLVqEUaNGYfr06cjPz0dxcXGTbYkINjY2cHBwQGZmpt5rQSaTwdHREdnZ2R0UOXtYnAB2M+2VdJw+fRoAYGDwv7sEfH198ffff/MLuxVu3LiBPXv2wNvbG7Nnz8bs2bOxf/9+5ObmYufOnQCg94/Nz88PV69e1ZthKpPJMGDAAGi1WvGes3+Li4tDTU0N7O3tH/1BdROurq64du2a3uMq5HI5hg4dioqKCmRmZgJAs4+zGD9+PAoKCnD16lXU1dXhypUrHRJ3d/X/9keD8+fP4+7du3Bzc3uk8XZXgiBAJpOBiODq6gpTU1OcP3++yWcrNnwYCggIQHZ2Nn777Tex7vLly9DpdFAqlR0VOntInAB2I48q6WhIGK2treHp6Ymff/4ZRUVFSEpK4n9+zXjQqMaPP/6o1w86nQ5PPvkknJyccPLkSdy+fVtcRyKRwNzcHOXl5QCAzMxM7NmzB2fOnEFkZCRiYmKwfPly+Pv78w3XrSSRSODi4oJz587plTs5OcHc3Bw5OTkA0OgxFlKpFACgVCqRm5uLGTNmwN7eHqGhoR0TeDf1MP1RX1+PzMxM3Lx5E2VlZYiOjsalS5cQGRmp96GVtV1Dcjd69GicOHECtbW1jdo0nOMpU6ZAqVQiNDQUaWlpKCkpweHDhzFkyBCoVKoOjZu1HSeA3cijSjoAoLKyEklJSaipqUF0dDScnJwQHh7e6NEx7J62jGo0fMKeNm0afvnlF6Snp4vrXLhwAbW1tRg8eDCAe2/OK1euxCuvvIJTp04hPDwcCxcuBACekNAGEyZMQGJiIiorK8Wyfv366S3/+uuvOHr0qLis0Wjg4uICf39/uLi4YPz48dixYwcOHz7cobF3R23tD4lEgpiYGIwbNw79+/dHfHw8QkJCMHny5I4OvdtpeB+ZPHkyzp49i4qKCr36qqoq8cHb/fv3R3R0NAYNGoRZs2bBzc0Nf/75J1auXMkTQLqCTrjvkD0iWq2WDA0NKSEhQa88NjaWVCoVZWRkEBFRXV0d1dfXExFRVFQUPf3003Ts2DGx/YIFC0ilUolt7ty5Q1FRUSQIAo0fP562b99ORUVFHXNQXdjAgQPpgw8+0CtLTk4mHx8fio+Pb9S+qKiIpk2bRtbW1pSQkEDffPMNeXl5UUxMjNhGp9NRcXHxI4+9u8vMzCQTExPav3+/WHbx4kUSBIFycnKIiOj555+nESNGUFlZGRHde30dOXKEJxk8Am3pj4bJHykpKXT06NFGE6NY+ygtLSVBECgpKUmv/MMPPyRXV1e6fv26WFZfX08ZGRncF10Mj5V3I/dfSgkKChLL77+U4uXlpXcpJTg4GAUFBXjjjTewZcsW3Lx5EydPnsS7774rDvPLZDKEhYUhMjKyw4+pK2sY1ViyZAksLS0BND2qUVlZCX9/fyiVSmzYsAHr1q3DihUrUFtbi+nTp2PmzJlie0EQ4Ojo2OHH0t14enritddeQ0REBGpra+Hj44OVK1di8uTJ4uSCOXPmwMDAAObm5gDuvb78/f07M+xuqy390fBa8vPz68yQuz1bW1vY29tj3759OHPmDK5du4ZPPvkEHh4euHHjht7VDQMDA3h5eXVitOyhdHYGytpXeHg4eXp60s2bN8WyP/74g1xdXcVRp9TUVDpy5IhYX1ZWRhERETRw4EBSKpW0YsUKun37dofH3t08zCgT0b2Rppqamg6Pt6e5ceMGLVq0iIYNG0YymYxGjhxJ586d6+yweizuj8eDTqejgwcP0pQpU0gQBJJKpeTk5ESRkZF069atzg6PtSOBiO8c706ysrLg6+uLHTt2YMqUKQCA3NxcDB48GNnZ2Rg8eDBeeOEFVFZW4vDhw7C2tgZw757Av//+u9FDP9n/Z86cOTh+/DhWrVoFHx8ffPTRR6ivr0dsbCx69+6Nffv2wcDAAP7+/jA2Nu7scHscIkJJSQn69OkDIyOjzg6nx+P+6HxarRaffvop0tPTMW/ePEyYMIG/17eb4gSwG+Kk4/Gh0Wjw2WefISUlBRcvXsTQoUOxadMmDB8+vLNDY4wx1oNxAtgNcdLxeOFRDcYYY48bTgC7KU46GGOMMdYcTgAZY4wxxnoYflIjY4wxxlgPwwkgY4wxxlgPwwkgY4wxxlgPwwkgY4wxxlgPwwkgY4wxxlgPwwkgY4wxxlgPwwkgY4wxxlgPwwkgY6zLiYqKgo2NDQRBwKFDhzo7HBQXF0MQBGRlZbVpPaVSiY0bNz6SmNpbfHw8LCwsOjsMxlg74QSQMdYh2itZU6vVWLlyJb7++muUlpZi4sSJjdqkpKRAEATcunWrTdt+2PVY07pSgstYT2PQ2QEwxjqPVquFIAiQSLrOZ8HCwkIAQGBgIARB6ORoGGOsa+o67/qM9XBjxozBe++9h/feew/m5ubo3bs3PvroI9z/bY53795FREQE7O3tYWpqCm9vb6SkpIj1DZfxvv/+ewwcOBDGxsa4cuUK7t69i6VLl8LBwQHGxsZwdnbGtm3bxPV+//13TJw4EQqFAjY2NpgxYwZu3LihF1tYWBiWLFkCKysr2NraIioqSqxXKpUAgKCgIAiCIC43JScnB88++yzkcjl69eqFt956C9XV1QDuXfoNCAgAAEgkkiYTwOLiYowdOxYAYGlpCUEQMGvWLPH8hIWFwdraGjKZDKNHj0Z6enqL6yUmJmL06NGwsLBAr169MGnSJDERba3y8nIEBARALpejX79+2LNnT6M2GzZsgLu7O0xNTeHg4IB33nlHPPaamhqYmZnhu+++01vn0KFDMDU1RVVVVZP7jYqKgqenJ3bt2gWlUglzc3O8/vrrzbZvEB8fj6eeegomJiYICgqCRqPRqy8sLERgYCBsbGygUCgwfPhwHDt2TKwfM2YMSkpKsGDBAgiCIPaVRqPB1KlTYW9vDxMTE7i7u2Pv3r0tn0DGWPsixliX4OfnRwqFgubPn0+XLl2i3bt3k4mJCcXGxopt5s6dS6NGjaJTp07R5cuXad26dWRsbEz5+flERBQXF0eGhoY0atQoSk1NpUuXLlFNTQ29+uqr5ODgQAkJCVRYWEjHjh2jb7/9loiIKisr6cknn6Rly5aRWq2m3377jZ577jkaO3asXmxmZmYUFRVF+fn5tGPHDhIEgX7++WciIiovLycAFBcXR6WlpVReXt7kMVZXV5OdnR29/PLLlJOTQ8nJydSvXz8KDg4mIqKqqiqKi4sjAFRaWkqlpaWNtvHPP//QgQMHCADl5eVRaWkp3bp1i4iIwsLCqE+fPvTDDz/QxYsXKTg4mCwtLUmj0Txwve+++44OHDhABQUFlJmZSQEBAeTu7k5arZaIiIqKiggAZWZmNtt/EydOpCFDhtCZM2fo/PnzNGrUKJLL5RQdHS22iY6OpuPHj1NRURElJyeTq6srhYaGivUhISH04osv6m33pZdeopkzZza738jISFIoFOI5PXXqFNna2tLy5cubXefs2bMkkUhozZo1lJeXR5s2bSILCwsyNzcX22RlZdGWLVsoJyeH8vPzacWKFSSTyaikpISIiDQaDfXt25dWrVql11dXr16ldevWUWZmJhUWFtKXX35JUqmU0tLSmo2HMdb+OAFkrIvw8/MjlUpFOp1OLFu6dCmpVCoiIiopKSGpVErXrl3TW2/cuHG0bNkyIiIxecrKyhLr8/LyCAAlJSU1ud/Vq1fThAkT9Mr+/PNPMVFqiG306NF6bYYPH05Lly4VlwHQwYMHH3iMsbGxZGlpSdXV1WLZ0aNHSSKR0F9//UVERAcPHqSWPrueOHGCAFBlZaVYVl1dTYaGhrRnzx6xrK6ujvr06UNr165tdr2mVFRUEADKyckhopYTwIZzfO7cObFMrVYTAL0E8N/2799PvXr1EpfT0tJIKpXS9evXiYiorKyMDAwMKCUlpdltREZGkomJCd2+fVssW7x4MXl7eze7ztSpUxslmq+99ppeAtiUQYMG0ebNm8VlR0fHBx5fA39/f1q0aFGL7Rhj7YcvATPWhfj4+Ohd9hw5ciQKCgqg1WqRk5MDrVaLAQMGQKFQiD8nT57Uu1xpZGQEDw8PcTkrKwtSqRR+fn5N7vPChQs4ceKE3jbd3NwAQG+7928TAOzs7FBeXt6m41Or1RgyZAhMTU3FMl9fX+h0OuTl5bVpW/9WWFiI+vp6+Pr6imWGhoYYMWIE1Gr1A9ctKCjA1KlT0b9/f5iZmYmXsK9cudKqfavVahgYGGDYsGFimZubW6NZtceOHcO4ceNgb2+PJ554AjNmzIBGo0FtbS0AYMSIERg0aBB27NgBANi9ezccHR3xn//8BwD0+ujtt98Wt6tUKvHEE0+Iyy31jVqthre3t17ZyJEj9Zarq6sREREBlUoFCwsLKBQKqNXqFs+JVqvF6tWr4e7uDisrKygUCvz000+tPpeMsfbBk0AY6yaqq6shlUqRkZEBqVSqV6dQKMTf5XK5XhIpl8tb3G5AQADWrFnTqM7Ozk783dDQUK9OEATodLo2HcPjKiAgAI6Ojti6dSv69OkDnU6HwYMHo66urt32UVxcjEmTJiE0NBSffPIJrKyscPr0abz55puoq6uDiYkJAGDu3Ln46quv8MEHHyAuLg6zZ88W+/P+x9CYmZmJvz+KvomIiEBSUhLWr18PZ2dnyOVyTJkypcVzsm7dOmzatAkbN24U73cMDw9v13PJGGsZJ4CMdSFpaWl6y2fPnoWLiwukUimGDh0KrVaL8vJyPPPMM63epru7O3Q6HU6ePInx48c3qvfy8sKBAwegVCphYPDwbxmGhobQarUPbKNSqRAfH4+amhpxFDA1NRUSiQSurq6t3peRkREA6O3PyckJRkZGSE1NhaOjIwCgvr4e6enpCA8Pb3Y9jUaDvLw8bN26VTyvp0+fbnUswL3Rvn/++QcZGRkYPnw4ACAvL0/vcTMZGRnQ6XT44osvxFnZ+/bta7St6dOnY8mSJfjyyy+Rm5uL4OBgsc7Z2blNcTVHpVI1+bd2v9TUVMyaNQtBQUEA7n1QKC4u1mtjZGTUqM9TU1MRGBiI6dOnAwB0Oh3y8/MxcODAdomdMdY6fAmYsS7kypUrWLhwIfLy8rB3715s3rwZ8+fPBwAMGDAA06ZNw8yZM5GQkICioiKcO3cOn332GY4ePdrsNpVKJYKDgzFnzhwcOnQIRUVFSElJEZOPd999Fzdv3sTUqVORnp6OwsJC/PTTT5g9e3aLCd2/95OcnIy//voLlZWVTbaZNm0aZDIZgoOD8fvvv+PEiRN4//33MWPGDNjY2LR6X46OjhAEAUeOHEFFRQWqq6thamqK0NBQLF68GImJicjNzUVISAhqa2vx5ptvNruepaUlevXqhdjYWFy+fBnHjx/HwoULWx0LALi6uuKFF17AvHnzkJaWhoyMDMydO1dv9NXZ2Rn19fXYvHkz/vjjD+zatQtbtmxptC1LS0u8/PLLWLx4MSZMmIC+ffu2KZbWCAsLQ2JiItavX4+CggLExMQgMTFRr42LiwsSEhKQlZWFCxcu4I033mg0qqhUKnHq1Clcu3ZNnDXu4uKCpKQk/Prrr1Cr1Zg3bx7Kysra/RgYYy3o7JsQGWOt4+fnR++88w69/fbbZGZmRpaWlrR8+XK9SSF1dXX08ccfk1KpJENDQ7Kzs6OgoCDKzs4monuTQJq6kf/OnTu0YMECsrOzIyMjI3J2dqbt27eL9fn5+RQUFEQWFhYkl8vJzc2NwsPDxX37+fnR/Pnz9bYZGBgozt4lIvr+++/J2dmZDAwMyNHRsdnjzM7OprFjx5JMJiMrKysKCQmhqqoqsb41k0CIiFatWkW2trYkCIIYx507d+j999+n3r17k7GxMfn6+upNzGhuvaSkJFKpVGRsbEweHh6UkpKiN6mlNbOAS0tLyd/fn4yNjempp56inTt3NpoksWHDBrKzsyO5XE7PP/887dy5s8lJKcnJyQSA9u3b1+J5iIyMpCFDhuiVRUdHP7APiIi2bdtGffv2JblcTgEBAbR+/Xq9v52ioiIaO3YsyeVycnBwoJiYmEZ/B2fOnCEPDw8yNjYW+0yj0VBgYCApFAqytramFStW0MyZMykwMLDFY2GMtR+B6L6HiDHGHltjxoyBp6cnf7MCw65du7BgwQJcv35dvGzNGGNtwfcAMsZYF1FbW4vS0lJ8/vnnmDdvHid/jLGHxvcAMsZYF7F27Vq4ubnB1tYWy5Yt6+xwGGNdGF8CZowxxhjrYXgEkDHGGGOsh/kvI9N6qsyvOwcAAAAASUVORK5CYII=' width=640.0/>\n",
       "            </div>\n",
       "        "
      ],
      "text/plain": [
       "Canvas(toolbar=Toolbar(toolitems=[('Home', 'Reset original view', 'home', 'home'), ('Back', 'Back to previous …"
      ]
     },
     "metadata": {},
     "output_type": "display_data"
    }
   ],
   "source": [
    "%matplotlib widget\n",
    "%matplotlib widget\n",
    "\n",
    "plot_dict = {}\n",
    "plot_dict['fixed_decoder_scores'] = fixed_decoder_scores\n",
    "plot_dict['pca_decoder_scores'] = pca_decoder_scores\n",
    "plot_dict['cca_decoder_scores'] = cca_decoder_scores\n",
    "plot_dict['r_decoder_scores'] = r_scores\n",
    "\n",
    "index = subsample_list\n",
    "\n",
    "df = pd.DataFrame(data=plot_dict, index=index)\n",
    "\n",
    "  \n",
    "# plot grouped bar chart\n",
    "ax = df.plot.bar(rot=15)\n",
    "ax.set_ylim(bottom=-1, top=1)\n",
    "ax.set_title('Training various decoders, trying on Day-N data')\n",
    "ax.set_ylabel('r^2')\n",
    "ax.set_xlabel('percent of total day-n data')\n",
    "ax.legend(loc='lower right')\n",
    "for container in ax.containers:\n",
    "    ax.bar_label(container)"
   ]
  },
  {
   "cell_type": "code",
   "execution_count": null,
   "id": "deab74db-59c3-448e-ae95-fedc46fed17d",
   "metadata": {},
   "outputs": [],
   "source": []
  }
 ],
 "metadata": {
  "kernelspec": {
   "display_name": "Python 3",
   "language": "python",
   "name": "python3"
  },
  "language_info": {
   "codemirror_mode": {
    "name": "ipython",
    "version": 3
   },
   "file_extension": ".py",
   "mimetype": "text/x-python",
   "name": "python",
   "nbconvert_exporter": "python",
   "pygments_lexer": "ipython3",
   "version": "3.7.0"
  }
 },
 "nbformat": 4,
 "nbformat_minor": 5
}
