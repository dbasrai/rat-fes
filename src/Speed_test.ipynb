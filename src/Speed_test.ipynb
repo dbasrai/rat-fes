{
 "cells": [
  {
   "cell_type": "code",
   "execution_count": 4,
   "id": "84ca4b6c-b547-48f6-bfa3-6690f2d2664a",
   "metadata": {},
   "outputs": [
    {
     "name": "stdout",
     "output_type": "stream",
     "text": [
      "The autoreload extension is already loaded. To reload it, use:\n",
      "  %reload_ext autoreload\n",
      "The autoreload extension is already loaded. To reload it, use:\n",
      "  %reload_ext autoreload\n"
     ]
    }
   ],
   "source": [
    "%matplotlib widget\n",
    "%load_ext autoreload\n",
    "%autoreload 2\n",
    "%run phasedecoder104.ipynb\n",
    "from src.folder_handler import *\n",
    "from src.cort_processor import *\n",
    "from src.tdt_support import *\n",
    "from src.plotter import *\n",
    "from src.decoders import *\n"
   ]
  },
  {
   "cell_type": "code",
   "execution_count": 5,
   "id": "58505965-be99-421b-ace2-02e44815fb50",
   "metadata": {},
   "outputs": [],
   "source": [
    "with open('/mnt/c/oobootoo/rat-fes/data/pickles/3-meepo919__session.pkl', 'rb') as inp:\n",
    "    mep919_session = pickle.load(inp)\n",
    "mep919_rates = mep919_session.data['rates']\n",
    "mep919_angles = mep919_session.data['angles']\n",
    "mep919_coords = mep919_session.data['coords']"
   ]
  },
  {
   "cell_type": "code",
   "execution_count": 6,
   "id": "2239f636-9059-4666-9a4e-8b78ce57535f",
   "metadata": {},
   "outputs": [],
   "source": [
    "mep919arctans, mep919phase_list, mep919H_sin, mep919H_cos, mep919r, mep919full_rates = phase_train(mep919_session, mep919_rates, mep919_angles)\n",
    "mep919tsf = np.linspace(0, (mep919phase_list.shape[0]*50)/1000,mep919phase_list.shape[0])"
   ]
  },
  {
   "cell_type": "code",
   "execution_count": null,
   "id": "daf23fc0-9083-4469-968f-0f552d356592",
   "metadata": {},
   "outputs": [],
   "source": []
  }
 ],
 "metadata": {
  "kernelspec": {
   "display_name": "Python 3",
   "language": "python",
   "name": "python3"
  },
  "language_info": {
   "codemirror_mode": {
    "name": "ipython",
    "version": 3
   },
   "file_extension": ".py",
   "mimetype": "text/x-python",
   "name": "python",
   "nbconvert_exporter": "python",
   "pygments_lexer": "ipython3",
   "version": "3.7.0"
  }
 },
 "nbformat": 4,
 "nbformat_minor": 5
}
