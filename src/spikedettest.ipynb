{
 "cells": [
  {
   "cell_type": "code",
   "execution_count": 3,
   "id": "2cb3f860-9882-4691-bd5f-b9b585e2277a",
   "metadata": {},
   "outputs": [
    {
     "name": "stdout",
     "output_type": "stream",
     "text": [
      "The autoreload extension is already loaded. To reload it, use:\n",
      "  %reload_ext autoreload\n"
     ]
    }
   ],
   "source": [
    "%matplotlib widget\n",
    "%load_ext autoreload\n",
    "%autoreload 2\n",
    "from src.cort_processor import *\n",
    "from src.cort_processor_backup import *\n",
    "\n",
    "from src.plotter import *\n",
    "from src.filters import *\n",
    "import math\n",
    "import pickle\n",
    "import scipy\n",
    "import matplotlib.pyplot as plt\n",
    "from  matplotlib.colors import LinearSegmentedColormap\n",
    "from matplotlib.pyplot import cm\n",
    "from scipy import signal\n",
    "import numpy as np\n",
    "import seaborn as sns\n",
    "import pandas as pd\n",
    "import scipy.stats as stats\n",
    "from matplotlib import colors as mcolors\n",
    "from mpl_toolkits.mplot3d import Axes3D\n",
    "import tdt \n",
    "import matplotlib.pyplot as plt\n",
    "from scipy.signal import butter, lfilter, iirnotch, filtfilt, resample, hilbert, welch\n",
    "from scipy.fftpack import fft,fftfreq,rfft,irfft,ifft\n",
    "from scipy.io import savemat"
   ]
  },
  {
   "cell_type": "code",
   "execution_count": 2,
   "id": "57c20360-167e-40c3-9b7b-7da7da041cf8",
   "metadata": {},
   "outputs": [
    {
     "name": "stdout",
     "output_type": "stream",
     "text": [
      "read from t=0s to t=384.32s\n",
      "read from t=0s to t=367.29s\n"
     ]
    }
   ],
   "source": [
    "test_session = CortProcessor('/mnt/c/oobootoo/rat-fes/data/results-meplem923/meepo_fast_923')"
   ]
  },
  {
   "cell_type": "code",
   "execution_count": 4,
   "id": "aa8e4720-53cc-4f7f-bbe6-05c66bbf85df",
   "metadata": {},
   "outputs": [
    {
     "name": "stdout",
     "output_type": "stream",
     "text": [
      "read from t=0s to t=384.32s\n",
      "read from t=0s to t=367.29s\n"
     ]
    }
   ],
   "source": [
    "deprc_session = CortProcessorDeprc('/mnt/c/oobootoo/rat-fes/data/results-meplem923/meepo_fast_923')"
   ]
  },
  {
   "cell_type": "code",
   "execution_count": 5,
   "id": "88e2ae75-cb13-4054-82b4-f3175158caa9",
   "metadata": {},
   "outputs": [
    {
     "ename": "AssertionError",
     "evalue": "rates must be list",
     "output_type": "error",
     "traceback": [
      "\u001b[0;31m---------------------------------------------------------------------------\u001b[0m",
      "\u001b[0;31mAssertionError\u001b[0m                            Traceback (most recent call last)",
      "\u001b[0;32m<ipython-input-5-72932067316d>\u001b[0m in \u001b[0;36m<module>\u001b[0;34m\u001b[0m\n\u001b[0;32m----> 1\u001b[0;31m \u001b[0mtest_pred\u001b[0m\u001b[0;34m,\u001b[0m \u001b[0mtest_act\u001b[0m\u001b[0;34m,\u001b[0m \u001b[0mtestr2\u001b[0m \u001b[0;34m=\u001b[0m \u001b[0mtest_session\u001b[0m\u001b[0;34m.\u001b[0m\u001b[0mdecode_phase\u001b[0m\u001b[0;34m(\u001b[0m\u001b[0;34m)\u001b[0m\u001b[0;34m\u001b[0m\u001b[0m\n\u001b[0m\u001b[1;32m      2\u001b[0m \u001b[0mtest_tsf\u001b[0m \u001b[0;34m=\u001b[0m \u001b[0mnp\u001b[0m\u001b[0;34m.\u001b[0m\u001b[0mlinspace\u001b[0m\u001b[0;34m(\u001b[0m\u001b[0;36m0\u001b[0m\u001b[0;34m,\u001b[0m \u001b[0;34m(\u001b[0m\u001b[0mtest_act\u001b[0m\u001b[0;34m.\u001b[0m\u001b[0mshape\u001b[0m\u001b[0;34m[\u001b[0m\u001b[0;36m0\u001b[0m\u001b[0;34m]\u001b[0m\u001b[0;34m*\u001b[0m\u001b[0;36m50\u001b[0m\u001b[0;34m)\u001b[0m\u001b[0;34m/\u001b[0m\u001b[0;36m1000\u001b[0m\u001b[0;34m,\u001b[0m\u001b[0mtest_act\u001b[0m\u001b[0;34m.\u001b[0m\u001b[0mshape\u001b[0m\u001b[0;34m[\u001b[0m\u001b[0;36m0\u001b[0m\u001b[0;34m]\u001b[0m\u001b[0;34m)\u001b[0m\u001b[0;34m\u001b[0m\u001b[0m\n",
      "\u001b[0;32m/mnt/c/oobootoo/rat-fes/src/cort_processor.py\u001b[0m in \u001b[0;36mdecode_phase\u001b[0;34m(self, rates, angles)\u001b[0m\n\u001b[1;32m    321\u001b[0m         \u001b[0;32mif\u001b[0m \u001b[0mrates\u001b[0m \u001b[0;32mis\u001b[0m \u001b[0;32mNone\u001b[0m \u001b[0;32mand\u001b[0m \u001b[0mangles\u001b[0m \u001b[0;32mis\u001b[0m \u001b[0;32mNone\u001b[0m\u001b[0;34m:\u001b[0m\u001b[0;34m\u001b[0m\u001b[0m\n\u001b[1;32m    322\u001b[0m             full_rates, full_angles = self.stitch_and_format(self.data['rates'], \n\u001b[0;32m--> 323\u001b[0;31m                         self.data['angles'])\n\u001b[0m\u001b[1;32m    324\u001b[0m \u001b[0;34m\u001b[0m\u001b[0m\n\u001b[1;32m    325\u001b[0m         \u001b[0;32melse\u001b[0m\u001b[0;34m:\u001b[0m\u001b[0;34m\u001b[0m\u001b[0m\n",
      "\u001b[0;32m/mnt/c/oobootoo/rat-fes/src/cort_processor.py\u001b[0m in \u001b[0;36mstitch_and_format\u001b[0;34m(self, firing_rates_list, resampled_angles_list)\u001b[0m\n\u001b[1;32m    246\u001b[0m \u001b[0;34m\u001b[0m\u001b[0m\n\u001b[1;32m    247\u001b[0m \u001b[0;34m\u001b[0m\u001b[0m\n\u001b[0;32m--> 248\u001b[0;31m         \u001b[0;32massert\u001b[0m \u001b[0misinstance\u001b[0m\u001b[0;34m(\u001b[0m\u001b[0mfiring_rates_list\u001b[0m\u001b[0;34m,\u001b[0m \u001b[0mlist\u001b[0m\u001b[0;34m)\u001b[0m\u001b[0;34m,\u001b[0m \u001b[0;34m'rates must be list'\u001b[0m\u001b[0;34m\u001b[0m\u001b[0m\n\u001b[0m\u001b[1;32m    249\u001b[0m         \u001b[0;32massert\u001b[0m \u001b[0misinstance\u001b[0m\u001b[0;34m(\u001b[0m\u001b[0mresampled_angles_list\u001b[0m\u001b[0;34m,\u001b[0m \u001b[0mlist\u001b[0m\u001b[0;34m)\u001b[0m\u001b[0;34m,\u001b[0m \u001b[0;34m'angles must be list'\u001b[0m\u001b[0;34m\u001b[0m\u001b[0m\n\u001b[1;32m    250\u001b[0m         \u001b[0mformatted_rates\u001b[0m \u001b[0;34m=\u001b[0m \u001b[0;34m[\u001b[0m\u001b[0;34m]\u001b[0m\u001b[0;34m\u001b[0m\u001b[0m\n",
      "\u001b[0;31mAssertionError\u001b[0m: rates must be list"
     ]
    }
   ],
   "source": [
    "test_pred, test_act, testr2 = test_session.decode_phase()\n",
    "test_tsf = np.linspace(0, (test_act.shape[0]*50)/1000,test_act.shape[0])"
   ]
  },
  {
   "cell_type": "code",
   "execution_count": null,
   "id": "9f899494-f5a5-436c-a732-ebc59bd0b81c",
   "metadata": {},
   "outputs": [],
   "source": [
    "depr_pred, deprc_act, deprcr2 = deprc_session.decode_phase()\n",
    "deprc_tsf = np.linspace(0, (deprc_act.shape[0]*50)/1000,deprc_act.shape[0])"
   ]
  },
  {
   "cell_type": "code",
   "execution_count": null,
   "id": "ccebd9df-2c2f-4fd3-a1f8-87a0addd8181",
   "metadata": {},
   "outputs": [],
   "source": [
    "fig512, ax= plt.subplots(1, 2, figsize=(12,8), sharex = True)\n",
    "fig512.suptitle('Meepo Limbfoot Gait')\n",
    "ax[0,0].set_title('deprecated processing r2=' + \"{0:.3f}\".format(deprcr2[3]))\n",
    "ax[0,0].plot(deprc_tsf, deprc_act[:,3], c='k', alpha=0.5, label = \"actual\")\n",
    "ax[0,0].plot(deprc_tsf, deprc_pred[:,3], c='b', alpha=0.5, label = \"predicted\")\n",
    "ax[1,0].set_title('new processing r2=' + \"{0:.3f}\".format(testr2[3]))\n",
    "ax[1,0].plot(test_tsf, test_act[:,3], c='k', alpha=0.5, label = \"actual\")\n",
    "ax[1,0].plot(test_tsf, test_pred[:,3], c='b', alpha=0.5, label = \"predicted\")"
   ]
  }
 ],
 "metadata": {
  "kernelspec": {
   "display_name": "Python 3",
   "language": "python",
   "name": "python3"
  },
  "language_info": {
   "codemirror_mode": {
    "name": "ipython",
    "version": 3
   },
   "file_extension": ".py",
   "mimetype": "text/x-python",
   "name": "python",
   "nbconvert_exporter": "python",
   "pygments_lexer": "ipython3",
   "version": "3.7.0"
  }
 },
 "nbformat": 4,
 "nbformat_minor": 5
}
