{
 "cells": [
  {
   "cell_type": "code",
   "execution_count": 108,
   "id": "e6218c82-f186-48cc-ba59-a2cb921711e6",
   "metadata": {},
   "outputs": [
    {
     "name": "stdout",
     "output_type": "stream",
     "text": [
      "The autoreload extension is already loaded. To reload it, use:\n",
      "  %reload_ext autoreload\n"
     ]
    }
   ],
   "source": [
    "%matplotlib widget\n",
    "%load_ext autoreload\n",
    "%autoreload 2\n",
    "from src.cort_processor import *\n",
    "import random as rand\n",
    "from src.plotter import *\n",
    "from src.filters import *\n",
    "import math\n",
    "import pickle\n",
    "import scipy\n",
    "import matplotlib.pyplot as plt\n",
    "from  matplotlib.colors import LinearSegmentedColormap\n",
    "from matplotlib.pyplot import cm\n",
    "from scipy import signal\n",
    "import numpy as np\n",
    "import seaborn as sns\n",
    "import pandas as pd\n",
    "import scipy.stats as stats\n",
    "from matplotlib import colors as mcolors\n",
    "from mpl_toolkits.mplot3d import Axes3D\n",
    "import tdt \n",
    "import matplotlib.pyplot as plt\n",
    "from scipy.signal import butter, lfilter, iirnotch, filtfilt, resample, hilbert, welch, resample\n",
    "from scipy.fftpack import fft,fftfreq,rfft,irfft,ifft\n",
    "from scipy.io import savemat\n",
    "from src.phase_decoder_support import *\n",
    "from src.neural_analysis import *\n",
    "from src.wiener_filter import *\n",
    "from src.folder_handler import *\n",
    "from src.tdt_support import *\n",
    "from src.decoders import *\n",
    "from sklearn.datasets import make_classification\n",
    "from sklearn.model_selection import cross_val_score, GridSearchCV, train_test_split\n",
    "from sklearn.model_selection import RepeatedStratifiedKFold\n",
    "from sklearn.linear_model import LogisticRegression\n",
    "from collections import Counter\n",
    "from sklearn.datasets import make_classification\n",
    "from sklearn.metrics import accuracy_score, confusion_matrix,roc_curve, roc_auc_score, precision_score, recall_score, precision_recall_curve\n",
    "from sklearn.metrics import f1_score\n",
    "from sklearn.preprocessing import LabelEncoder\n"
   ]
  },
  {
   "cell_type": "code",
   "execution_count": 395,
   "id": "c260c82d-5f85-4441-aa92-b77dc8975453",
   "metadata": {},
   "outputs": [],
   "source": [
    "def to_categorical(y, num_classes=None, dtype=\"float32\"):\n",
    "    y = np.array(y, dtype=\"int\")\n",
    "    input_shape = y.shape\n",
    "    if input_shape and input_shape[-1] == 1 and len(input_shape) > 1:\n",
    "        input_shape = tuple(input_shape[:-1])\n",
    "    y = y.ravel()\n",
    "    if not num_classes:\n",
    "        num_classes = np.max(y) + 1\n",
    "    n = y.shape[0]\n",
    "    categorical = np.zeros((n, num_classes), dtype=dtype)\n",
    "    categorical[np.arange(n), y] = 1\n",
    "    output_shape = input_shape + (num_classes,)\n",
    "    categorical = np.reshape(categorical, output_shape)\n",
    "\n",
    "    return categorical\n",
    "\n",
    "def index_balancer(y):\n",
    "    value_counts = []\n",
    "    resampled_y = []\n",
    "    original_indicies = []\n",
    "    for i in range(y.shape[1]):\n",
    "        column_sum = np.sum(y[:,i])\n",
    "        value_counts.append(column_sum)\n",
    "    for i in range(y.shape[1]):\n",
    "        floor = np.min(value_counts)\n",
    "        extant = value_counts[i]\n",
    "        likelihood = (extant-floor)/extant\n",
    "        for j in range(y.shape[0]):\n",
    "            if y[j,i] == 1:\n",
    "                if rand.random() >= likelihood:\n",
    "                    resampled_y.append(y[j, :])\n",
    "                    original_indicies.append(j)\n",
    "    return np.array(original_indicies)"
   ]
  },
  {
   "cell_type": "code",
   "execution_count": 381,
   "id": "cd891af1-796a-4634-9f74-cd8624714a78",
   "metadata": {},
   "outputs": [
    {
     "name": "stdout",
     "output_type": "stream",
     "text": [
      "read from t=0s to t=246.43s\n"
     ]
    },
    {
     "ename": "KeyboardInterrupt",
     "evalue": "",
     "output_type": "error",
     "traceback": [
      "\u001b[0;31m---------------------------------------------------------------------------\u001b[0m",
      "\u001b[0;31mKeyboardInterrupt\u001b[0m                         Traceback (most recent call last)",
      "\u001b[0;32m<ipython-input-381-a60cf2f2643e>\u001b[0m in \u001b[0;36m<module>\u001b[0;34m\u001b[0m\n\u001b[0;32m----> 1\u001b[0;31m \u001b[0mmeepo1004\u001b[0m \u001b[0;34m=\u001b[0m \u001b[0mCortProcessor\u001b[0m\u001b[0;34m(\u001b[0m\u001b[0;34m'/mnt/c/oobootoo/rat-fes/data/1004_test'\u001b[0m\u001b[0;34m)\u001b[0m\u001b[0;34m\u001b[0m\u001b[0m\n\u001b[0m\u001b[1;32m      2\u001b[0m \u001b[0mmeepo1004\u001b[0m\u001b[0;34m.\u001b[0m\u001b[0mprocess\u001b[0m\u001b[0;34m(\u001b[0m\u001b[0mclear_storage\u001b[0m\u001b[0;34m=\u001b[0m\u001b[0;32mFalse\u001b[0m\u001b[0;34m)\u001b[0m\u001b[0;34m\u001b[0m\u001b[0m\n",
      "\u001b[0;32m/mnt/c/oobootoo/rat-fes/src/cort_processor.py\u001b[0m in \u001b[0;36m__init__\u001b[0;34m(self, folder_path)\u001b[0m\n\u001b[1;32m     28\u001b[0m             \u001b[0;31m#see docs/data_folder_layout.md for how to structure folder_path\u001b[0m\u001b[0;34m\u001b[0m\u001b[0;34m\u001b[0m\u001b[0m\n\u001b[1;32m     29\u001b[0m             \u001b[0mself\u001b[0m\u001b[0;34m.\u001b[0m\u001b[0mhandler\u001b[0m \u001b[0;34m=\u001b[0m \u001b[0mFolderHandler\u001b[0m\u001b[0;34m(\u001b[0m\u001b[0mfolder_path\u001b[0m\u001b[0;34m)\u001b[0m\u001b[0;34m\u001b[0m\u001b[0m\n\u001b[0;32m---> 30\u001b[0;31m             \u001b[0mself\u001b[0m\u001b[0;34m.\u001b[0m\u001b[0mtdt_data\u001b[0m\u001b[0;34m,\u001b[0m \u001b[0mself\u001b[0m\u001b[0;34m.\u001b[0m\u001b[0mkin_data\u001b[0m \u001b[0;34m=\u001b[0m \u001b[0mself\u001b[0m\u001b[0;34m.\u001b[0m\u001b[0mextract_data\u001b[0m\u001b[0;34m(\u001b[0m\u001b[0;34m)\u001b[0m\u001b[0;34m\u001b[0m\u001b[0m\n\u001b[0m\u001b[1;32m     31\u001b[0m \u001b[0;34m\u001b[0m\u001b[0m\n\u001b[1;32m     32\u001b[0m             \u001b[0mself\u001b[0m\u001b[0;34m.\u001b[0m\u001b[0mcrop_list\u001b[0m \u001b[0;34m=\u001b[0m \u001b[0;32mNone\u001b[0m\u001b[0;34m\u001b[0m\u001b[0m\n",
      "\u001b[0;32m/mnt/c/oobootoo/rat-fes/src/cort_processor.py\u001b[0m in \u001b[0;36mextract_data\u001b[0;34m(self)\u001b[0m\n\u001b[1;32m    125\u001b[0m         \u001b[0mraw_tdt_list\u001b[0m \u001b[0;34m=\u001b[0m \u001b[0mself\u001b[0m\u001b[0;34m.\u001b[0m\u001b[0mhandler\u001b[0m\u001b[0;34m.\u001b[0m\u001b[0mtdt_list\u001b[0m\u001b[0;34m\u001b[0m\u001b[0m\n\u001b[1;32m    126\u001b[0m         \u001b[0;32mfor\u001b[0m \u001b[0mi\u001b[0m \u001b[0;32min\u001b[0m \u001b[0mrange\u001b[0m\u001b[0;34m(\u001b[0m\u001b[0mlen\u001b[0m\u001b[0;34m(\u001b[0m\u001b[0mraw_tdt_list\u001b[0m\u001b[0;34m)\u001b[0m\u001b[0;34m)\u001b[0m\u001b[0;34m:\u001b[0m\u001b[0;34m\u001b[0m\u001b[0m\n\u001b[0;32m--> 127\u001b[0;31m             \u001b[0mtdt_data_list\u001b[0m\u001b[0;34m.\u001b[0m\u001b[0mappend\u001b[0m\u001b[0;34m(\u001b[0m\u001b[0mextract_tdt\u001b[0m\u001b[0;34m(\u001b[0m\u001b[0mraw_tdt_list\u001b[0m\u001b[0;34m[\u001b[0m\u001b[0mi\u001b[0m\u001b[0;34m]\u001b[0m\u001b[0;34m,\u001b[0m \u001b[0mraw_ts_list\u001b[0m\u001b[0;34m[\u001b[0m\u001b[0mi\u001b[0m\u001b[0;34m]\u001b[0m\u001b[0;34m)\u001b[0m\u001b[0;34m)\u001b[0m\u001b[0;34m\u001b[0m\u001b[0m\n\u001b[0m\u001b[1;32m    128\u001b[0m \u001b[0;34m\u001b[0m\u001b[0m\n\u001b[1;32m    129\u001b[0m         \u001b[0mkin_data_list\u001b[0m \u001b[0;34m=\u001b[0m \u001b[0;34m[\u001b[0m\u001b[0;34m]\u001b[0m\u001b[0;34m\u001b[0m\u001b[0m\n",
      "\u001b[0;32m/mnt/c/oobootoo/rat-fes/src/tdt_support.py\u001b[0m in \u001b[0;36mextract_tdt\u001b[0;34m(tdt_file, npts_file)\u001b[0m\n\u001b[1;32m     19\u001b[0m     \u001b[0mtdt_dict\u001b[0m \u001b[0;34m=\u001b[0m \u001b[0;34m{\u001b[0m\u001b[0;34m}\u001b[0m\u001b[0;34m\u001b[0m\u001b[0m\n\u001b[1;32m     20\u001b[0m \u001b[0;34m\u001b[0m\u001b[0m\n\u001b[0;32m---> 21\u001b[0;31m     \u001b[0mdata\u001b[0m \u001b[0;34m=\u001b[0m \u001b[0mtdt\u001b[0m\u001b[0;34m.\u001b[0m\u001b[0mread_block\u001b[0m\u001b[0;34m(\u001b[0m\u001b[0mtdt_file\u001b[0m\u001b[0;34m)\u001b[0m\u001b[0;34m\u001b[0m\u001b[0m\n\u001b[0m\u001b[1;32m     22\u001b[0m     \u001b[0mtdt_dict\u001b[0m\u001b[0;34m[\u001b[0m\u001b[0;34m'neural'\u001b[0m\u001b[0;34m]\u001b[0m \u001b[0;34m=\u001b[0m \u001b[0;34m(\u001b[0m\u001b[0mdata\u001b[0m\u001b[0;34m.\u001b[0m\u001b[0mstreams\u001b[0m\u001b[0;34m.\u001b[0m\u001b[0mWav1\u001b[0m\u001b[0;34m.\u001b[0m\u001b[0mdata\u001b[0m\u001b[0;34m*\u001b[0m\u001b[0;36m1000000\u001b[0m\u001b[0;34m)\u001b[0m\u001b[0;34m.\u001b[0m\u001b[0mT\u001b[0m \u001b[0;31m#in microvolts\u001b[0m\u001b[0;34m\u001b[0m\u001b[0m\n\u001b[1;32m     23\u001b[0m     \u001b[0mtdt_dict\u001b[0m\u001b[0;34m[\u001b[0m\u001b[0;34m'fs'\u001b[0m\u001b[0;34m]\u001b[0m \u001b[0;34m=\u001b[0m \u001b[0mdata\u001b[0m\u001b[0;34m.\u001b[0m\u001b[0mstreams\u001b[0m\u001b[0;34m.\u001b[0m\u001b[0mWav1\u001b[0m\u001b[0;34m.\u001b[0m\u001b[0mfs\u001b[0m\u001b[0;34m\u001b[0m\u001b[0m\n",
      "\u001b[0;32m~/anaconda3/envs/rat-fes/lib/python3.7/site-packages/tdt/TDTbin2py.py\u001b[0m in \u001b[0;36mread_block\u001b[0;34m(block_path, bitwise, channel, combine, headers, nodata, ranges, store, t1, t2, evtype, verbose, sortname, export, scale, dtype, outdir, prefix)\u001b[0m\n\u001b[1;32m   1124\u001b[0m \u001b[0;34m\u001b[0m\u001b[0m\n\u001b[1;32m   1125\u001b[0m             \u001b[0;31m# read all headers into one giant array\u001b[0m\u001b[0;34m\u001b[0m\u001b[0;34m\u001b[0m\u001b[0m\n\u001b[0;32m-> 1126\u001b[0;31m             \u001b[0mheads\u001b[0m \u001b[0;34m=\u001b[0m \u001b[0mnp\u001b[0m\u001b[0;34m.\u001b[0m\u001b[0mfrombuffer\u001b[0m\u001b[0;34m(\u001b[0m\u001b[0mtsq\u001b[0m\u001b[0;34m.\u001b[0m\u001b[0mread\u001b[0m\u001b[0;34m(\u001b[0m\u001b[0mread_size\u001b[0m\u001b[0;34m*\u001b[0m\u001b[0;36m4\u001b[0m\u001b[0;34m)\u001b[0m\u001b[0;34m,\u001b[0m \u001b[0mdtype\u001b[0m\u001b[0;34m=\u001b[0m\u001b[0mnp\u001b[0m\u001b[0;34m.\u001b[0m\u001b[0muint32\u001b[0m\u001b[0;34m)\u001b[0m\u001b[0;34m\u001b[0m\u001b[0m\n\u001b[0m\u001b[1;32m   1127\u001b[0m             \u001b[0;32mif\u001b[0m \u001b[0mlen\u001b[0m\u001b[0;34m(\u001b[0m\u001b[0mheads\u001b[0m\u001b[0;34m)\u001b[0m \u001b[0;34m==\u001b[0m \u001b[0;36m0\u001b[0m\u001b[0;34m:\u001b[0m\u001b[0;34m\u001b[0m\u001b[0m\n\u001b[1;32m   1128\u001b[0m                 \u001b[0;32mcontinue\u001b[0m\u001b[0;34m\u001b[0m\u001b[0m\n",
      "\u001b[0;31mKeyboardInterrupt\u001b[0m: "
     ]
    }
   ],
   "source": [
    "meepo1004 = CortProcessor('/mnt/c/oobootoo/rat-fes/data/1004_test')\n",
    "meepo1004.process(clear_storage=False)"
   ]
  },
  {
   "cell_type": "code",
   "execution_count": 1,
   "id": "cae348f2-4884-4b71-85f6-dd7bc1ce0a82",
   "metadata": {},
   "outputs": [
    {
     "name": "stdout",
     "output_type": "stream",
     "text": [
      "The history saving thread hit an unexpected error (DatabaseError('database disk image is malformed')).History will not be written to the database.\n"
     ]
    },
    {
     "ename": "NameError",
     "evalue": "name 'meepo1004' is not defined",
     "output_type": "error",
     "traceback": [
      "\u001b[0;31m---------------------------------------------------------------------------\u001b[0m",
      "\u001b[0;31mNameError\u001b[0m                                 Traceback (most recent call last)",
      "\u001b[0;32m<ipython-input-1-a28e02a86559>\u001b[0m in \u001b[0;36m<module>\u001b[0;34m\u001b[0m\n\u001b[0;32m----> 1\u001b[0;31m \u001b[0mh_sin\u001b[0m\u001b[0;34m,\u001b[0m \u001b[0mh_cos\u001b[0m\u001b[0;34m,\u001b[0m \u001b[0mr2\u001b[0m\u001b[0;34m,\u001b[0m \u001b[0mpredicted_arctans\u001b[0m\u001b[0;34m,\u001b[0m \u001b[0mtest_arctans\u001b[0m\u001b[0;34m,\u001b[0m \u001b[0mtest_rates\u001b[0m\u001b[0;34m,\u001b[0m \u001b[0mphase_list\u001b[0m \u001b[0;34m=\u001b[0m \u001b[0mmeepo1004\u001b[0m\u001b[0;34m.\u001b[0m\u001b[0mdecode_phase\u001b[0m\u001b[0;34m(\u001b[0m\u001b[0mmetric_angle\u001b[0m\u001b[0;34m=\u001b[0m\u001b[0;34m\"knee\"\u001b[0m\u001b[0;34m)\u001b[0m\u001b[0;34m\u001b[0m\u001b[0m\n\u001b[0m",
      "\u001b[0;31mNameError\u001b[0m: name 'meepo1004' is not defined"
     ]
    }
   ],
   "source": [
    "h_sin, h_cos, r2, predicted_arctans, test_arctans, test_rates, phase_list = meepo1004.decode_phase(metric_angle=\"knee\")"
   ]
  },
  {
   "cell_type": "code",
   "execution_count": 383,
   "id": "0a1d0119-df8b-476c-9398-2a3286e60ce9",
   "metadata": {},
   "outputs": [],
   "source": [
    "phase_data2 = pd.read_csv('/mnt/c/oobootoo/rat-fes/data/1004_test/phase/1004_154010_phase.csv', header=0)\n",
    "phase_data1 = pd.read_csv('/mnt/c/oobootoo/rat-fes/data/1004_test/phase/1004_153140_phase.csv', header=0)"
   ]
  },
  {
   "cell_type": "code",
   "execution_count": 384,
   "id": "08beb6fd-4451-41cc-8d14-866ed53f7eb8",
   "metadata": {},
   "outputs": [],
   "source": [
    "time00 = phase_data1[phase_data1['fnum']==meepo1004.kin_data[0]['fnum'][0]].index.values\n",
    "time01 = phase_data1[phase_data1['fnum']==meepo1004.kin_data[0]['fnum'][-1]].index.values\n",
    "time10 = phase_data2[phase_data2['fnum']==meepo1004.kin_data[1]['fnum'][0]].index.values\n",
    "time11 = phase_data2[phase_data2['fnum']==meepo1004.kin_data[1]['fnum'][-1]].index.values"
   ]
  },
  {
   "cell_type": "code",
   "execution_count": 385,
   "id": "f2fca682-0b65-4cb1-abf6-8935f6d7b836",
   "metadata": {},
   "outputs": [
    {
     "data": {
      "text/plain": [
       "3800"
      ]
     },
     "execution_count": 385,
     "metadata": {},
     "output_type": "execute_result"
    }
   ],
   "source": [
    "meepo1004.kin_data[0]['fnum'][0]"
   ]
  },
  {
   "cell_type": "code",
   "execution_count": 386,
   "id": "339b063f-9817-4e26-9f45-7cfb623f2569",
   "metadata": {},
   "outputs": [
    {
     "data": {
      "text/plain": [
       "55999"
      ]
     },
     "execution_count": 386,
     "metadata": {},
     "output_type": "execute_result"
    }
   ],
   "source": [
    "meepo1004.kin_data[1]['fnum'][-1]"
   ]
  },
  {
   "cell_type": "code",
   "execution_count": 387,
   "id": "01995bed-b7cf-4a62-a22c-6f6f97261739",
   "metadata": {},
   "outputs": [
    {
     "name": "stdout",
     "output_type": "stream",
     "text": [
      "[498] [41297] [949] [54948]\n"
     ]
    }
   ],
   "source": [
    "print(time00, time01,time10, time11)"
   ]
  },
  {
   "cell_type": "code",
   "execution_count": 388,
   "id": "8ac2290e-05d3-45bd-af58-7ce9161863ac",
   "metadata": {},
   "outputs": [
    {
     "data": {
      "text/plain": [
       "(4083, 32)"
      ]
     },
     "execution_count": 388,
     "metadata": {},
     "output_type": "execute_result"
    }
   ],
   "source": [
    "meepo1004.data[\"rates\"][0].shape"
   ]
  },
  {
   "cell_type": "code",
   "execution_count": 389,
   "id": "ef6d0e48-9198-4eb7-9b34-499ee30e57ec",
   "metadata": {},
   "outputs": [
    {
     "name": "stdout",
     "output_type": "stream",
     "text": [
      "[[0]\n",
      " [0]\n",
      " [0]\n",
      " ...\n",
      " [1]\n",
      " [1]\n",
      " [1]]\n",
      "[[1]\n",
      " [1]\n",
      " [1]\n",
      " ...\n",
      " [1]\n",
      " [1]\n",
      " [1]]\n"
     ]
    }
   ],
   "source": [
    "phase1 = np.array(phase_data1.iloc[time00[0]:time01[0],-1:])\n",
    "phase2 = np.array(phase_data2.iloc[time10[0]:time11[0],-1:])"
   ]
  },
  {
   "cell_type": "code",
   "execution_count": 390,
   "id": "e669f21a-8624-41fe-ae48-354fe4e477a7",
   "metadata": {},
   "outputs": [],
   "source": [
    "resampled_phase1 = (np.rint(resample(phase1, meepo1004.data[\"rates\"][0].shape[0], axis=0))).astype(int)\n",
    "resampled_phase2 = (np.rint(resample(phase2, meepo1004.data[\"rates\"][1].shape[0], axis=0))).astype(int)"
   ]
  },
  {
   "cell_type": "code",
   "execution_count": 391,
   "id": "3fbac496-1c6e-469b-be12-3bbb3b9f12c2",
   "metadata": {},
   "outputs": [
    {
     "name": "stdout",
     "output_type": "stream",
     "text": [
      "(4083, 1)\n",
      "(4083, 32)\n",
      "2\n",
      "2\n"
     ]
    }
   ],
   "source": [
    "binned_phase = []\n",
    "binned_phase.append(resampled_phase1)\n",
    "binned_phase.append(resampled_phase2)\n",
    "\n",
    "print(binned_phase[0].shape)\n",
    "print(meepo1004.data[\"rates\"][0].shape)\n",
    "print(len(binned_phase))\n",
    "print(len(meepo1004.data[\"rates\"]))"
   ]
  },
  {
   "cell_type": "code",
   "execution_count": 392,
   "id": "8df59f31-1088-4045-8eb1-b70c8e187f6f",
   "metadata": {},
   "outputs": [
    {
     "name": "stdout",
     "output_type": "stream",
     "text": [
      "Counter({1: 5077, 0: 2780, 2: 1610})\n"
     ]
    }
   ],
   "source": [
    "print(Counter(formatted_phase))\n",
    "def elim_swing(X, y):\n",
    "    non2ind = []\n",
    "    for i in range(y.shape[0]):\n",
    "        if y[i] != 2:\n",
    "            non2ind.append(i)\n",
    "    y_new = y[non2ind]\n",
    "    X_new = X[non2ind]\n",
    "    return X_new, y_new\n",
    "\n"
   ]
  },
  {
   "cell_type": "code",
   "execution_count": 421,
   "id": "bf8441c7-3c45-4249-924e-4b149ddd9457",
   "metadata": {},
   "outputs": [],
   "source": [
    "formatted_rates, formatted_phase = meepo1004.stitch_and_format(meepo1004.data[\"rates\"],binned_phase, N=10)"
   ]
  },
  {
   "cell_type": "code",
   "execution_count": 428,
   "id": "33fa9117-20c2-4b76-8e67-11430f57eef4",
   "metadata": {},
   "outputs": [],
   "source": [
    "\n",
    "y = formatted_phase\n",
    "X = formatted_rates\n",
    "for i in range(y.shape[0]):\n",
    "    if y[i] == 2:\n",
    "        y[i] = 1\n",
    "\n",
    "\n",
    "\n",
    "# roll = 5\n",
    "# yf_tmp = np.roll(formatted_phase, roll)[roll:]\n",
    "# Xf_tmp = formatted_rates[roll:,:]\n",
    "# Xf, yf = elim_swing(Xf_tmp, yf_tmp)\n",
    "# f_cat = to_categorical(yf)\n",
    "# f_ind = index_balancer(f_cat)\n",
    "# y_forward = yf[f_ind]\n",
    "# X_forward = Xf[f_ind, :]\n",
    "\n",
    "# yb_tmp = np.roll(formatted_phase, -roll)[:-roll]\n",
    "# Xb_tmp = formatted_rates[:-roll,:]\n",
    "# Xb, yb = elim_swing(Xb_tmp, yb_tmp)\n",
    "# b_cat = to_categorical(yb)\n",
    "# b_ind = index_balancer(b_cat)\n",
    "# y_backward = yb[b_ind]\n",
    "# X_backward = Xb[b_ind, :]\n"
   ]
  },
  {
   "cell_type": "code",
   "execution_count": 429,
   "id": "5d57da51-2563-45f2-815e-c256d621f602",
   "metadata": {},
   "outputs": [],
   "source": [
    "w = [{0:1000,1:100},{0:1000,1:10}, {0:1000,1:1.0}, \n",
    "     {0:500,1:1.0}, {0:400,1:1.0}, {0:300,1:1.0}, {0:200,1:1.0}, \n",
    "     {0:150,1:1.0}, {0:100,1:1.0}, {0:99,1:1.0}, {0:10,1:1.0}, \n",
    "     {0:1.0,1:0.1}, {0:10,1:0.1}, {0:100,1:0.1}, \n",
    "     {0:10,1:0.01}, {0:1.0,1:0.01}, {0:1.0,1:0.001}, {0:1.0,1:0.005},  ]\n",
    "hyperparam_grid = {\"class_weight\": w }\n",
    "# define model\n",
    "lg3 = LogisticRegression(random_state=13, max_iter=1000)\n",
    "# define evaluation procedure\n",
    "grid = GridSearchCV(lg3,hyperparam_grid,scoring=\"roc_auc\", cv=20, n_jobs=-1, refit=True)\n",
    "grid.fit(X,y)\n",
    "print(f'Best score: {grid.best_score_} with param: {grid.best_params_}')"
   ]
  },
  {
   "cell_type": "code",
   "execution_count": 430,
   "id": "e49419b7-9e40-4323-af62-ddc97d7368ac",
   "metadata": {},
   "outputs": [],
   "source": [
    "X_train, X_test, y_train, y_test = train_test_split(X, y, test_size = 0.2, random_state = 42)\n",
    "# X_trainf, X_testf, y_trainf, y_testf = train_test_split(X_forward, y_forward, test_size = 0.2, random_state = 42)\n",
    "# X_trainb, X_testb, y_trainb, y_testb = train_test_split(X_backward, y_backward, test_size = 0.2, random_state = 42)"
   ]
  },
  {
   "cell_type": "code",
   "execution_count": 431,
   "id": "2979f197-ab17-4419-8e86-8bca5422f570",
   "metadata": {},
   "outputs": [
    {
     "name": "stdout",
     "output_type": "stream",
     "text": [
      "Accuracy Score: 0.657942238267148\n",
      "Confusion Matrix: \n",
      "[[376 197]\n",
      " [182 353]]\n",
      "Area Under Curve: 0.6580042732951672\n",
      "Recall score: 0.6598130841121496\n"
     ]
    }
   ],
   "source": [
    "lg4 = LogisticRegression(random_state=13,max_iter= 1000)\n",
    "# fit it\n",
    "lg4.fit(X_train,y_train)\n",
    "# test\n",
    "y_pred = lg4.predict(X_test)\n",
    "# performance\n",
    "print(f'Accuracy Score: {accuracy_score(y_test,y_pred)}')\n",
    "print(f'Confusion Matrix: \\n{confusion_matrix(y_test, y_pred)}')\n",
    "print(f'Area Under Curve: {roc_auc_score(y_test, y_pred)}') # 0.5\n",
    "print(f'Recall score: {recall_score(y_test,y_pred)}')"
   ]
  },
  {
   "cell_type": "code",
   "execution_count": 432,
   "id": "ed57a932-c771-4d03-a7fd-c924ef9af359",
   "metadata": {},
   "outputs": [
    {
     "name": "stdout",
     "output_type": "stream",
     "text": [
      "Accuracy Score: 0.6429207479964381\n",
      "Confusion Matrix: \n",
      "[[352 216]\n",
      " [185 370]]\n",
      "Area Under Curve: 0.6431924882629108\n",
      "Recall score: 0.6666666666666666\n"
     ]
    }
   ],
   "source": [
    "lg4.fit(X_trainf,y_trainf)\n",
    "y_predf = lg4.predict(X_testf)\n",
    "print(f'Accuracy Score: {accuracy_score(y_testf,y_predf)}')\n",
    "print(f'Confusion Matrix: \\n{confusion_matrix(y_testf, y_predf)}')\n",
    "print(f'Area Under Curve: {roc_auc_score(y_testf, y_predf)}') # 0.5\n",
    "print(f'Recall score: {recall_score(y_testf,y_predf)}')"
   ]
  },
  {
   "cell_type": "code",
   "execution_count": 433,
   "id": "342f813f-da28-42c9-bf54-ba9ff827f84a",
   "metadata": {},
   "outputs": [
    {
     "name": "stdout",
     "output_type": "stream",
     "text": [
      "Accuracy Score: 0.5965703971119134\n",
      "Confusion Matrix: \n",
      "[[333 240]\n",
      " [207 328]]\n",
      "Area Under Curve: 0.5971179723051329\n",
      "Recall score: 0.6130841121495327\n"
     ]
    }
   ],
   "source": [
    "lg4.fit(X_trainb,y_trainb)\n",
    "y_predb = lg4.predict(X_testb)\n",
    "print(f'Accuracy Score: {accuracy_score(y_testb,y_predb)}')\n",
    "print(f'Confusion Matrix: \\n{confusion_matrix(y_testb, y_predb)}')\n",
    "print(f'Area Under Curve: {roc_auc_score(y_testb, y_predb)}') # 0.5\n",
    "print(f'Recall score: {recall_score(y_testb,y_predb)}')"
   ]
  },
  {
   "cell_type": "code",
   "execution_count": null,
   "id": "a75f3964-0264-4b7e-a31f-a5426c8de5fc",
   "metadata": {},
   "outputs": [],
   "source": []
  },
  {
   "cell_type": "code",
   "execution_count": null,
   "id": "ce5a70ab-9a6c-4f2a-966b-e1f4416fe9a0",
   "metadata": {},
   "outputs": [],
   "source": []
  },
  {
   "cell_type": "code",
   "execution_count": null,
   "id": "27896f5c-2cc7-400c-a973-366f407885db",
   "metadata": {},
   "outputs": [],
   "source": []
  },
  {
   "cell_type": "code",
   "execution_count": null,
   "id": "d9d5d008-7b41-4820-ba51-1769801823bf",
   "metadata": {},
   "outputs": [],
   "source": []
  }
 ],
 "metadata": {
  "kernelspec": {
   "display_name": "Python 3",
   "language": "python",
   "name": "python3"
  },
  "language_info": {
   "codemirror_mode": {
    "name": "ipython",
    "version": 3
   },
   "file_extension": ".py",
   "mimetype": "text/x-python",
   "name": "python",
   "nbconvert_exporter": "python",
   "pygments_lexer": "ipython3",
   "version": "3.7.0"
  }
 },
 "nbformat": 4,
 "nbformat_minor": 5
}
